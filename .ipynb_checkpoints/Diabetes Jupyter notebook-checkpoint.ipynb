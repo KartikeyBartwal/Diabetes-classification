{
 "cells": [
  {
   "cell_type": "code",
   "execution_count": 1,
   "id": "e0e751a3",
   "metadata": {},
   "outputs": [],
   "source": [
    "import numpy as np\n",
    "import pandas as pd\n",
    "import seaborn as sns\n",
    "import matplotlib.pyplot as plt\n",
    "from sklearn.metrics import accuracy_score"
   ]
  },
  {
   "cell_type": "code",
   "execution_count": 2,
   "id": "04ea145b",
   "metadata": {},
   "outputs": [],
   "source": [
    "df=pd.read_csv(\"diabetes_dataset.csv\")"
   ]
  },
  {
   "cell_type": "markdown",
   "id": "d72e1c10",
   "metadata": {},
   "source": [
    "# Exploratory Data Analysis"
   ]
  },
  {
   "cell_type": "code",
   "execution_count": 3,
   "id": "e9231350",
   "metadata": {},
   "outputs": [
    {
     "data": {
      "text/html": [
       "<div>\n",
       "<style scoped>\n",
       "    .dataframe tbody tr th:only-of-type {\n",
       "        vertical-align: middle;\n",
       "    }\n",
       "\n",
       "    .dataframe tbody tr th {\n",
       "        vertical-align: top;\n",
       "    }\n",
       "\n",
       "    .dataframe thead th {\n",
       "        text-align: right;\n",
       "    }\n",
       "</style>\n",
       "<table border=\"1\" class=\"dataframe\">\n",
       "  <thead>\n",
       "    <tr style=\"text-align: right;\">\n",
       "      <th></th>\n",
       "      <th>Pregnancies</th>\n",
       "      <th>Glucose</th>\n",
       "      <th>BloodPressure</th>\n",
       "      <th>SkinThickness</th>\n",
       "      <th>Insulin</th>\n",
       "      <th>BMI</th>\n",
       "      <th>DiabetesPedigreeFunction</th>\n",
       "      <th>Age</th>\n",
       "      <th>Outcome</th>\n",
       "    </tr>\n",
       "  </thead>\n",
       "  <tbody>\n",
       "    <tr>\n",
       "      <th>0</th>\n",
       "      <td>6</td>\n",
       "      <td>148</td>\n",
       "      <td>72</td>\n",
       "      <td>35</td>\n",
       "      <td>0</td>\n",
       "      <td>33.6</td>\n",
       "      <td>0.627</td>\n",
       "      <td>50</td>\n",
       "      <td>1</td>\n",
       "    </tr>\n",
       "    <tr>\n",
       "      <th>1</th>\n",
       "      <td>1</td>\n",
       "      <td>85</td>\n",
       "      <td>66</td>\n",
       "      <td>29</td>\n",
       "      <td>0</td>\n",
       "      <td>26.6</td>\n",
       "      <td>0.351</td>\n",
       "      <td>31</td>\n",
       "      <td>0</td>\n",
       "    </tr>\n",
       "    <tr>\n",
       "      <th>2</th>\n",
       "      <td>8</td>\n",
       "      <td>183</td>\n",
       "      <td>64</td>\n",
       "      <td>0</td>\n",
       "      <td>0</td>\n",
       "      <td>23.3</td>\n",
       "      <td>0.672</td>\n",
       "      <td>32</td>\n",
       "      <td>1</td>\n",
       "    </tr>\n",
       "    <tr>\n",
       "      <th>3</th>\n",
       "      <td>1</td>\n",
       "      <td>89</td>\n",
       "      <td>66</td>\n",
       "      <td>23</td>\n",
       "      <td>94</td>\n",
       "      <td>28.1</td>\n",
       "      <td>0.167</td>\n",
       "      <td>21</td>\n",
       "      <td>0</td>\n",
       "    </tr>\n",
       "    <tr>\n",
       "      <th>4</th>\n",
       "      <td>0</td>\n",
       "      <td>137</td>\n",
       "      <td>40</td>\n",
       "      <td>35</td>\n",
       "      <td>168</td>\n",
       "      <td>43.1</td>\n",
       "      <td>2.288</td>\n",
       "      <td>33</td>\n",
       "      <td>1</td>\n",
       "    </tr>\n",
       "  </tbody>\n",
       "</table>\n",
       "</div>"
      ],
      "text/plain": [
       "   Pregnancies  Glucose  BloodPressure  SkinThickness  Insulin   BMI  \\\n",
       "0            6      148             72             35        0  33.6   \n",
       "1            1       85             66             29        0  26.6   \n",
       "2            8      183             64              0        0  23.3   \n",
       "3            1       89             66             23       94  28.1   \n",
       "4            0      137             40             35      168  43.1   \n",
       "\n",
       "   DiabetesPedigreeFunction  Age  Outcome  \n",
       "0                     0.627   50        1  \n",
       "1                     0.351   31        0  \n",
       "2                     0.672   32        1  \n",
       "3                     0.167   21        0  \n",
       "4                     2.288   33        1  "
      ]
     },
     "execution_count": 3,
     "metadata": {},
     "output_type": "execute_result"
    }
   ],
   "source": [
    "df.head()"
   ]
  },
  {
   "cell_type": "code",
   "execution_count": 4,
   "id": "561db0c2",
   "metadata": {},
   "outputs": [
    {
     "data": {
      "text/plain": [
       "(768, 9)"
      ]
     },
     "execution_count": 4,
     "metadata": {},
     "output_type": "execute_result"
    }
   ],
   "source": [
    "df.shape"
   ]
  },
  {
   "cell_type": "code",
   "execution_count": 5,
   "id": "5fa718a1",
   "metadata": {},
   "outputs": [
    {
     "name": "stdout",
     "output_type": "stream",
     "text": [
      "<class 'pandas.core.frame.DataFrame'>\n",
      "RangeIndex: 768 entries, 0 to 767\n",
      "Data columns (total 9 columns):\n",
      " #   Column                    Non-Null Count  Dtype  \n",
      "---  ------                    --------------  -----  \n",
      " 0   Pregnancies               768 non-null    int64  \n",
      " 1   Glucose                   768 non-null    int64  \n",
      " 2   BloodPressure             768 non-null    int64  \n",
      " 3   SkinThickness             768 non-null    int64  \n",
      " 4   Insulin                   768 non-null    int64  \n",
      " 5   BMI                       768 non-null    float64\n",
      " 6   DiabetesPedigreeFunction  768 non-null    float64\n",
      " 7   Age                       768 non-null    int64  \n",
      " 8   Outcome                   768 non-null    int64  \n",
      "dtypes: float64(2), int64(7)\n",
      "memory usage: 54.1 KB\n"
     ]
    }
   ],
   "source": [
    "df.info()"
   ]
  },
  {
   "cell_type": "markdown",
   "id": "95904a57",
   "metadata": {},
   "source": [
    "#### Pregnancies"
   ]
  },
  {
   "cell_type": "code",
   "execution_count": 6,
   "id": "f095ba40",
   "metadata": {},
   "outputs": [
    {
     "data": {
      "text/plain": [
       "count    768.000000\n",
       "mean       3.845052\n",
       "std        3.369578\n",
       "min        0.000000\n",
       "25%        1.000000\n",
       "50%        3.000000\n",
       "75%        6.000000\n",
       "max       17.000000\n",
       "Name: Pregnancies, dtype: float64"
      ]
     },
     "execution_count": 6,
     "metadata": {},
     "output_type": "execute_result"
    }
   ],
   "source": [
    "df[\"Pregnancies\"].describe()"
   ]
  },
  {
   "cell_type": "code",
   "execution_count": 7,
   "id": "f39f3c6b",
   "metadata": {},
   "outputs": [
    {
     "data": {
      "text/plain": [
       "[0, 1, 2, 3, 4, 5, 6, 7, 8, 9, 10, 11, 12, 13, 14, 15, 17]"
      ]
     },
     "execution_count": 7,
     "metadata": {},
     "output_type": "execute_result"
    }
   ],
   "source": [
    "#unique values\n",
    "Pregnancies_unique=list(pd.unique(df[\"Pregnancies\"]))\n",
    "Pregnancies_unique.sort()\n",
    "Pregnancies_unique"
   ]
  },
  {
   "cell_type": "code",
   "execution_count": 8,
   "id": "3ad35ca7",
   "metadata": {
    "scrolled": false
   },
   "outputs": [
    {
     "data": {
      "text/plain": [
       "1     135\n",
       "0     111\n",
       "2     103\n",
       "3      75\n",
       "4      68\n",
       "5      57\n",
       "6      50\n",
       "7      45\n",
       "8      38\n",
       "9      28\n",
       "10     24\n",
       "11     11\n",
       "13     10\n",
       "12      9\n",
       "14      2\n",
       "15      1\n",
       "17      1\n",
       "Name: Pregnancies, dtype: int64"
      ]
     },
     "execution_count": 8,
     "metadata": {},
     "output_type": "execute_result"
    }
   ],
   "source": [
    "#frequency of values\n",
    "df[\"Pregnancies\"].value_counts()"
   ]
  },
  {
   "cell_type": "code",
   "execution_count": 9,
   "id": "85189ec7",
   "metadata": {},
   "outputs": [
    {
     "name": "stderr",
     "output_type": "stream",
     "text": [
      "C:\\Users\\hp\\AppData\\Local\\Programs\\Python\\Python39\\lib\\site-packages\\seaborn\\_decorators.py:36: FutureWarning: Pass the following variable as a keyword arg: x. From version 0.12, the only valid positional argument will be `data`, and passing other arguments without an explicit keyword will result in an error or misinterpretation.\n",
      "  warnings.warn(\n"
     ]
    },
    {
     "data": {
      "text/plain": [
       "<AxesSubplot:xlabel='Pregnancies'>"
      ]
     },
     "execution_count": 9,
     "metadata": {},
     "output_type": "execute_result"
    },
    {
     "data": {
      "image/png": "[encoded data removed]",
      "text/plain": [
       "<Figure size 432x288 with 1 Axes>"
      ]
     },
     "metadata": {
      "needs_background": "light"
     },
     "output_type": "display_data"
    }
   ],
   "source": [
    "#Outliers\n",
    "sns.boxplot(df[\"Pregnancies\"])"
   ]
  },
  {
   "cell_type": "markdown",
   "id": "072fd641",
   "metadata": {},
   "source": [
    "#### Glucose"
   ]
  },
  {
   "cell_type": "code",
   "execution_count": 10,
   "id": "a36b1428",
   "metadata": {},
   "outputs": [
    {
     "data": {
      "text/plain": [
       "count    768.000000\n",
       "mean     120.894531\n",
       "std       31.972618\n",
       "min        0.000000\n",
       "25%       99.000000\n",
       "50%      117.000000\n",
       "75%      140.250000\n",
       "max      199.000000\n",
       "Name: Glucose, dtype: float64"
      ]
     },
     "execution_count": 10,
     "metadata": {},
     "output_type": "execute_result"
    }
   ],
   "source": [
    "df[\"Glucose\"].describe()"
   ]
  },
  {
   "cell_type": "code",
   "execution_count": 11,
   "id": "8b5472f8",
   "metadata": {},
   "outputs": [
    {
     "data": {
      "text/plain": [
       "[0,\n",
       " 44,\n",
       " 56,\n",
       " 57,\n",
       " 61,\n",
       " 62,\n",
       " 65,\n",
       " 67,\n",
       " 68,\n",
       " 71,\n",
       " 72,\n",
       " 73,\n",
       " 74,\n",
       " 75,\n",
       " 76,\n",
       " 77,\n",
       " 78,\n",
       " 79,\n",
       " 80,\n",
       " 81,\n",
       " 82,\n",
       " 83,\n",
       " 84,\n",
       " 85,\n",
       " 86,\n",
       " 87,\n",
       " 88,\n",
       " 89,\n",
       " 90,\n",
       " 91,\n",
       " 92,\n",
       " 93,\n",
       " 94,\n",
       " 95,\n",
       " 96,\n",
       " 97,\n",
       " 98,\n",
       " 99,\n",
       " 100,\n",
       " 101,\n",
       " 102,\n",
       " 103,\n",
       " 104,\n",
       " 105,\n",
       " 106,\n",
       " 107,\n",
       " 108,\n",
       " 109,\n",
       " 110,\n",
       " 111,\n",
       " 112,\n",
       " 113,\n",
       " 114,\n",
       " 115,\n",
       " 116,\n",
       " 117,\n",
       " 118,\n",
       " 119,\n",
       " 120,\n",
       " 121,\n",
       " 122,\n",
       " 123,\n",
       " 124,\n",
       " 125,\n",
       " 126,\n",
       " 127,\n",
       " 128,\n",
       " 129,\n",
       " 130,\n",
       " 131,\n",
       " 132,\n",
       " 133,\n",
       " 134,\n",
       " 135,\n",
       " 136,\n",
       " 137,\n",
       " 138,\n",
       " 139,\n",
       " 140,\n",
       " 141,\n",
       " 142,\n",
       " 143,\n",
       " 144,\n",
       " 145,\n",
       " 146,\n",
       " 147,\n",
       " 148,\n",
       " 149,\n",
       " 150,\n",
       " 151,\n",
       " 152,\n",
       " 153,\n",
       " 154,\n",
       " 155,\n",
       " 156,\n",
       " 157,\n",
       " 158,\n",
       " 159,\n",
       " 160,\n",
       " 161,\n",
       " 162,\n",
       " 163,\n",
       " 164,\n",
       " 165,\n",
       " 166,\n",
       " 167,\n",
       " 168,\n",
       " 169,\n",
       " 170,\n",
       " 171,\n",
       " 172,\n",
       " 173,\n",
       " 174,\n",
       " 175,\n",
       " 176,\n",
       " 177,\n",
       " 178,\n",
       " 179,\n",
       " 180,\n",
       " 181,\n",
       " 182,\n",
       " 183,\n",
       " 184,\n",
       " 186,\n",
       " 187,\n",
       " 188,\n",
       " 189,\n",
       " 190,\n",
       " 191,\n",
       " 193,\n",
       " 194,\n",
       " 195,\n",
       " 196,\n",
       " 197,\n",
       " 198,\n",
       " 199]"
      ]
     },
     "execution_count": 11,
     "metadata": {},
     "output_type": "execute_result"
    }
   ],
   "source": [
    "#unique values\n",
    "Glucose_unique=list(pd.unique(df[\"Glucose\"]))\n",
    "Glucose_unique.sort()\n",
    "Glucose_unique"
   ]
  },
  {
   "cell_type": "code",
   "execution_count": 12,
   "id": "0389737b",
   "metadata": {},
   "outputs": [
    {
     "data": {
      "text/plain": [
       "99     17\n",
       "100    17\n",
       "111    14\n",
       "129    14\n",
       "125    14\n",
       "       ..\n",
       "191     1\n",
       "177     1\n",
       "44      1\n",
       "62      1\n",
       "190     1\n",
       "Name: Glucose, Length: 136, dtype: int64"
      ]
     },
     "execution_count": 12,
     "metadata": {},
     "output_type": "execute_result"
    }
   ],
   "source": [
    "#frequency of values\n",
    "df[\"Glucose\"].value_counts()"
   ]
  },
  {
   "cell_type": "code",
   "execution_count": 13,
   "id": "4fb2c211",
   "metadata": {},
   "outputs": [
    {
     "name": "stderr",
     "output_type": "stream",
     "text": [
      "C:\\Users\\hp\\AppData\\Local\\Programs\\Python\\Python39\\lib\\site-packages\\seaborn\\_decorators.py:36: FutureWarning: Pass the following variable as a keyword arg: x. From version 0.12, the only valid positional argument will be `data`, and passing other arguments without an explicit keyword will result in an error or misinterpretation.\n",
      "  warnings.warn(\n"
     ]
    },
    {
     "data": {
      "text/plain": [
       "<AxesSubplot:xlabel='Glucose'>"
      ]
     },
     "execution_count": 13,
     "metadata": {},
     "output_type": "execute_result"
    },
    {
     "data": {
      "image/png": "[encoded data removed]",
      "text/plain": [
       "<Figure size 432x288 with 1 Axes>"
      ]
     },
     "metadata": {
      "needs_background": "light"
     },
     "output_type": "display_data"
    }
   ],
   "source": [
    "#Outliers\n",
    "sns.boxplot(df[\"Glucose\"])"
   ]
  },
  {
   "cell_type": "markdown",
   "id": "efb643f0",
   "metadata": {},
   "source": [
    "#### BloodPressure"
   ]
  },
  {
   "cell_type": "code",
   "execution_count": 14,
   "id": "a3954d04",
   "metadata": {},
   "outputs": [
    {
     "data": {
      "text/plain": [
       "count    768.000000\n",
       "mean      69.105469\n",
       "std       19.355807\n",
       "min        0.000000\n",
       "25%       62.000000\n",
       "50%       72.000000\n",
       "75%       80.000000\n",
       "max      122.000000\n",
       "Name: BloodPressure, dtype: float64"
      ]
     },
     "execution_count": 14,
     "metadata": {},
     "output_type": "execute_result"
    }
   ],
   "source": [
    "df[\"BloodPressure\"].describe()"
   ]
  },
  {
   "cell_type": "code",
   "execution_count": 15,
   "id": "e2b02eed",
   "metadata": {},
   "outputs": [
    {
     "data": {
      "text/plain": [
       "[0,\n",
       " 24,\n",
       " 30,\n",
       " 38,\n",
       " 40,\n",
       " 44,\n",
       " 46,\n",
       " 48,\n",
       " 50,\n",
       " 52,\n",
       " 54,\n",
       " 55,\n",
       " 56,\n",
       " 58,\n",
       " 60,\n",
       " 61,\n",
       " 62,\n",
       " 64,\n",
       " 65,\n",
       " 66,\n",
       " 68,\n",
       " 70,\n",
       " 72,\n",
       " 74,\n",
       " 75,\n",
       " 76,\n",
       " 78,\n",
       " 80,\n",
       " 82,\n",
       " 84,\n",
       " 85,\n",
       " 86,\n",
       " 88,\n",
       " 90,\n",
       " 92,\n",
       " 94,\n",
       " 95,\n",
       " 96,\n",
       " 98,\n",
       " 100,\n",
       " 102,\n",
       " 104,\n",
       " 106,\n",
       " 108,\n",
       " 110,\n",
       " 114,\n",
       " 122]"
      ]
     },
     "execution_count": 15,
     "metadata": {},
     "output_type": "execute_result"
    }
   ],
   "source": [
    "#unique values\n",
    "BloodPressure_unique=list(pd.unique(df[\"BloodPressure\"]))\n",
    "BloodPressure_unique.sort()\n",
    "BloodPressure_unique"
   ]
  },
  {
   "cell_type": "code",
   "execution_count": 16,
   "id": "3060fb5c",
   "metadata": {},
   "outputs": [
    {
     "data": {
      "text/plain": [
       "70     57\n",
       "74     52\n",
       "78     45\n",
       "68     45\n",
       "72     44\n",
       "64     43\n",
       "80     40\n",
       "76     39\n",
       "60     37\n",
       "0      35\n",
       "62     34\n",
       "66     30\n",
       "82     30\n",
       "88     25\n",
       "84     23\n",
       "90     22\n",
       "86     21\n",
       "58     21\n",
       "50     13\n",
       "56     12\n",
       "52     11\n",
       "54     11\n",
       "75      8\n",
       "92      8\n",
       "65      7\n",
       "85      6\n",
       "94      6\n",
       "48      5\n",
       "96      4\n",
       "44      4\n",
       "100     3\n",
       "106     3\n",
       "98      3\n",
       "110     3\n",
       "55      2\n",
       "108     2\n",
       "104     2\n",
       "46      2\n",
       "30      2\n",
       "122     1\n",
       "95      1\n",
       "102     1\n",
       "61      1\n",
       "24      1\n",
       "38      1\n",
       "40      1\n",
       "114     1\n",
       "Name: BloodPressure, dtype: int64"
      ]
     },
     "execution_count": 16,
     "metadata": {},
     "output_type": "execute_result"
    }
   ],
   "source": [
    "# frequency of values\n",
    "df[\"BloodPressure\"].value_counts()"
   ]
  },
  {
   "cell_type": "code",
   "execution_count": 17,
   "id": "c85b845d",
   "metadata": {},
   "outputs": [
    {
     "name": "stderr",
     "output_type": "stream",
     "text": [
      "C:\\Users\\hp\\AppData\\Local\\Programs\\Python\\Python39\\lib\\site-packages\\seaborn\\_decorators.py:36: FutureWarning: Pass the following variable as a keyword arg: x. From version 0.12, the only valid positional argument will be `data`, and passing other arguments without an explicit keyword will result in an error or misinterpretation.\n",
      "  warnings.warn(\n"
     ]
    },
    {
     "data": {
      "text/plain": [
       "<AxesSubplot:xlabel='BloodPressure'>"
      ]
     },
     "execution_count": 17,
     "metadata": {},
     "output_type": "execute_result"
    },
    {
     "data": {
      "image/png": "[encoded data removed]",
      "text/plain": [
       "<Figure size 432x288 with 1 Axes>"
      ]
     },
     "metadata": {
      "needs_background": "light"
     },
     "output_type": "display_data"
    }
   ],
   "source": [
    "#Outliers\n",
    "sns.boxplot(df[\"BloodPressure\"])"
   ]
  },
  {
   "cell_type": "markdown",
   "id": "9309deeb",
   "metadata": {},
   "source": [
    "#### SkinThickness"
   ]
  },
  {
   "cell_type": "code",
   "execution_count": 18,
   "id": "dbc12a7d",
   "metadata": {},
   "outputs": [
    {
     "data": {
      "text/plain": [
       "count    768.000000\n",
       "mean      20.536458\n",
       "std       15.952218\n",
       "min        0.000000\n",
       "25%        0.000000\n",
       "50%       23.000000\n",
       "75%       32.000000\n",
       "max       99.000000\n",
       "Name: SkinThickness, dtype: float64"
      ]
     },
     "execution_count": 18,
     "metadata": {},
     "output_type": "execute_result"
    }
   ],
   "source": [
    "df[\"SkinThickness\"].describe()"
   ]
  },
  {
   "cell_type": "code",
   "execution_count": 19,
   "id": "f3708f18",
   "metadata": {},
   "outputs": [
    {
     "data": {
      "text/plain": [
       "[0,\n",
       " 7,\n",
       " 8,\n",
       " 10,\n",
       " 11,\n",
       " 12,\n",
       " 13,\n",
       " 14,\n",
       " 15,\n",
       " 16,\n",
       " 17,\n",
       " 18,\n",
       " 19,\n",
       " 20,\n",
       " 21,\n",
       " 22,\n",
       " 23,\n",
       " 24,\n",
       " 25,\n",
       " 26,\n",
       " 27,\n",
       " 28,\n",
       " 29,\n",
       " 30,\n",
       " 31,\n",
       " 32,\n",
       " 33,\n",
       " 34,\n",
       " 35,\n",
       " 36,\n",
       " 37,\n",
       " 38,\n",
       " 39,\n",
       " 40,\n",
       " 41,\n",
       " 42,\n",
       " 43,\n",
       " 44,\n",
       " 45,\n",
       " 46,\n",
       " 47,\n",
       " 48,\n",
       " 49,\n",
       " 50,\n",
       " 51,\n",
       " 52,\n",
       " 54,\n",
       " 56,\n",
       " 60,\n",
       " 63,\n",
       " 99]"
      ]
     },
     "execution_count": 19,
     "metadata": {},
     "output_type": "execute_result"
    }
   ],
   "source": [
    "#unique values\n",
    "SkinThickness_unique=list(pd.unique(df[\"SkinThickness\"]))\n",
    "SkinThickness_unique.sort()\n",
    "SkinThickness_unique"
   ]
  },
  {
   "cell_type": "code",
   "execution_count": 20,
   "id": "a0c343dc",
   "metadata": {},
   "outputs": [
    {
     "data": {
      "text/plain": [
       "0     227\n",
       "32     31\n",
       "30     27\n",
       "27     23\n",
       "23     22\n",
       "33     20\n",
       "28     20\n",
       "18     20\n",
       "31     19\n",
       "19     18\n",
       "39     18\n",
       "29     17\n",
       "40     16\n",
       "25     16\n",
       "26     16\n",
       "22     16\n",
       "37     16\n",
       "41     15\n",
       "35     15\n",
       "36     14\n",
       "15     14\n",
       "17     14\n",
       "20     13\n",
       "24     12\n",
       "42     11\n",
       "13     11\n",
       "21     10\n",
       "46      8\n",
       "34      8\n",
       "12      7\n",
       "38      7\n",
       "11      6\n",
       "43      6\n",
       "16      6\n",
       "45      6\n",
       "14      6\n",
       "44      5\n",
       "10      5\n",
       "48      4\n",
       "47      4\n",
       "49      3\n",
       "50      3\n",
       "8       2\n",
       "7       2\n",
       "52      2\n",
       "54      2\n",
       "63      1\n",
       "60      1\n",
       "56      1\n",
       "51      1\n",
       "99      1\n",
       "Name: SkinThickness, dtype: int64"
      ]
     },
     "execution_count": 20,
     "metadata": {},
     "output_type": "execute_result"
    }
   ],
   "source": [
    "#frequency of values\n",
    "df[\"SkinThickness\"].value_counts()"
   ]
  },
  {
   "cell_type": "code",
   "execution_count": 21,
   "id": "3f3d7593",
   "metadata": {},
   "outputs": [
    {
     "name": "stderr",
     "output_type": "stream",
     "text": [
      "C:\\Users\\hp\\AppData\\Local\\Programs\\Python\\Python39\\lib\\site-packages\\seaborn\\_decorators.py:36: FutureWarning: Pass the following variable as a keyword arg: x. From version 0.12, the only valid positional argument will be `data`, and passing other arguments without an explicit keyword will result in an error or misinterpretation.\n",
      "  warnings.warn(\n"
     ]
    },
    {
     "data": {
      "text/plain": [
       "<AxesSubplot:xlabel='SkinThickness'>"
      ]
     },
     "execution_count": 21,
     "metadata": {},
     "output_type": "execute_result"
    },
    {
     "data": {
      "image/png": "[encoded data removed]",
      "text/plain": [
       "<Figure size 432x288 with 1 Axes>"
      ]
     },
     "metadata": {
      "needs_background": "light"
     },
     "output_type": "display_data"
    }
   ],
   "source": [
    "#Outliers\n",
    "sns.boxplot(df[\"SkinThickness\"])"
   ]
  },
  {
   "cell_type": "markdown",
   "id": "8bbe22fb",
   "metadata": {},
   "source": [
    "#### Insulin"
   ]
  },
  {
   "cell_type": "code",
   "execution_count": 22,
   "id": "4cfacec7",
   "metadata": {},
   "outputs": [
    {
     "data": {
      "text/plain": [
       "count    768.000000\n",
       "mean      79.799479\n",
       "std      115.244002\n",
       "min        0.000000\n",
       "25%        0.000000\n",
       "50%       30.500000\n",
       "75%      127.250000\n",
       "max      846.000000\n",
       "Name: Insulin, dtype: float64"
      ]
     },
     "execution_count": 22,
     "metadata": {},
     "output_type": "execute_result"
    }
   ],
   "source": [
    "df[\"Insulin\"].describe()"
   ]
  },
  {
   "cell_type": "code",
   "execution_count": 23,
   "id": "f4ad1916",
   "metadata": {},
   "outputs": [
    {
     "data": {
      "text/plain": [
       "[0,\n",
       " 14,\n",
       " 15,\n",
       " 16,\n",
       " 18,\n",
       " 22,\n",
       " 23,\n",
       " 25,\n",
       " 29,\n",
       " 32,\n",
       " 36,\n",
       " 37,\n",
       " 38,\n",
       " 40,\n",
       " 41,\n",
       " 42,\n",
       " 43,\n",
       " 44,\n",
       " 45,\n",
       " 46,\n",
       " 48,\n",
       " 49,\n",
       " 50,\n",
       " 51,\n",
       " 52,\n",
       " 53,\n",
       " 54,\n",
       " 55,\n",
       " 56,\n",
       " 57,\n",
       " 58,\n",
       " 59,\n",
       " 60,\n",
       " 61,\n",
       " 63,\n",
       " 64,\n",
       " 65,\n",
       " 66,\n",
       " 67,\n",
       " 68,\n",
       " 70,\n",
       " 71,\n",
       " 72,\n",
       " 73,\n",
       " 74,\n",
       " 75,\n",
       " 76,\n",
       " 77,\n",
       " 78,\n",
       " 79,\n",
       " 81,\n",
       " 82,\n",
       " 83,\n",
       " 84,\n",
       " 85,\n",
       " 86,\n",
       " 87,\n",
       " 88,\n",
       " 89,\n",
       " 90,\n",
       " 91,\n",
       " 92,\n",
       " 94,\n",
       " 95,\n",
       " 96,\n",
       " 99,\n",
       " 100,\n",
       " 105,\n",
       " 106,\n",
       " 108,\n",
       " 110,\n",
       " 112,\n",
       " 114,\n",
       " 115,\n",
       " 116,\n",
       " 119,\n",
       " 120,\n",
       " 122,\n",
       " 125,\n",
       " 126,\n",
       " 127,\n",
       " 128,\n",
       " 129,\n",
       " 130,\n",
       " 132,\n",
       " 135,\n",
       " 140,\n",
       " 142,\n",
       " 144,\n",
       " 145,\n",
       " 146,\n",
       " 148,\n",
       " 150,\n",
       " 152,\n",
       " 155,\n",
       " 156,\n",
       " 158,\n",
       " 159,\n",
       " 160,\n",
       " 165,\n",
       " 166,\n",
       " 167,\n",
       " 168,\n",
       " 170,\n",
       " 171,\n",
       " 175,\n",
       " 176,\n",
       " 178,\n",
       " 180,\n",
       " 182,\n",
       " 183,\n",
       " 184,\n",
       " 185,\n",
       " 188,\n",
       " 190,\n",
       " 191,\n",
       " 192,\n",
       " 193,\n",
       " 194,\n",
       " 196,\n",
       " 200,\n",
       " 204,\n",
       " 205,\n",
       " 207,\n",
       " 210,\n",
       " 215,\n",
       " 220,\n",
       " 225,\n",
       " 228,\n",
       " 230,\n",
       " 231,\n",
       " 235,\n",
       " 237,\n",
       " 240,\n",
       " 245,\n",
       " 249,\n",
       " 250,\n",
       " 255,\n",
       " 258,\n",
       " 265,\n",
       " 270,\n",
       " 271,\n",
       " 272,\n",
       " 274,\n",
       " 275,\n",
       " 277,\n",
       " 278,\n",
       " 280,\n",
       " 284,\n",
       " 285,\n",
       " 291,\n",
       " 293,\n",
       " 300,\n",
       " 304,\n",
       " 310,\n",
       " 318,\n",
       " 321,\n",
       " 325,\n",
       " 326,\n",
       " 328,\n",
       " 330,\n",
       " 335,\n",
       " 342,\n",
       " 360,\n",
       " 370,\n",
       " 375,\n",
       " 387,\n",
       " 392,\n",
       " 402,\n",
       " 415,\n",
       " 440,\n",
       " 465,\n",
       " 474,\n",
       " 478,\n",
       " 480,\n",
       " 485,\n",
       " 495,\n",
       " 510,\n",
       " 540,\n",
       " 543,\n",
       " 545,\n",
       " 579,\n",
       " 600,\n",
       " 680,\n",
       " 744,\n",
       " 846]"
      ]
     },
     "execution_count": 23,
     "metadata": {},
     "output_type": "execute_result"
    }
   ],
   "source": [
    "#unique values\n",
    "Insulin_unique=list(pd.unique(df[\"Insulin\"]))\n",
    "Insulin_unique.sort()\n",
    "Insulin_unique"
   ]
  },
  {
   "cell_type": "code",
   "execution_count": 24,
   "id": "e87f906d",
   "metadata": {},
   "outputs": [
    {
     "data": {
      "text/plain": [
       "0      374\n",
       "105     11\n",
       "130      9\n",
       "140      9\n",
       "120      8\n",
       "      ... \n",
       "73       1\n",
       "171      1\n",
       "255      1\n",
       "52       1\n",
       "112      1\n",
       "Name: Insulin, Length: 186, dtype: int64"
      ]
     },
     "execution_count": 24,
     "metadata": {},
     "output_type": "execute_result"
    }
   ],
   "source": [
    "# frequency of values\n",
    "df[\"Insulin\"].value_counts()"
   ]
  },
  {
   "cell_type": "code",
   "execution_count": 25,
   "id": "5af59d75",
   "metadata": {},
   "outputs": [
    {
     "name": "stderr",
     "output_type": "stream",
     "text": [
      "C:\\Users\\hp\\AppData\\Local\\Programs\\Python\\Python39\\lib\\site-packages\\seaborn\\_decorators.py:36: FutureWarning: Pass the following variable as a keyword arg: x. From version 0.12, the only valid positional argument will be `data`, and passing other arguments without an explicit keyword will result in an error or misinterpretation.\n",
      "  warnings.warn(\n"
     ]
    },
    {
     "data": {
      "text/plain": [
       "<AxesSubplot:xlabel='Insulin'>"
      ]
     },
     "execution_count": 25,
     "metadata": {},
     "output_type": "execute_result"
    },
    {
     "data": {
      "image/png": "[encoded data removed]",
      "text/plain": [
       "<Figure size 432x288 with 1 Axes>"
      ]
     },
     "metadata": {
      "needs_background": "light"
     },
     "output_type": "display_data"
    }
   ],
   "source": [
    "#Outliers\n",
    "sns.boxplot(df[\"Insulin\"])"
   ]
  },
  {
   "cell_type": "markdown",
   "id": "3ec0f977",
   "metadata": {},
   "source": [
    "#### BMI\t"
   ]
  },
  {
   "cell_type": "code",
   "execution_count": 26,
   "id": "7fc72f17",
   "metadata": {},
   "outputs": [
    {
     "data": {
      "text/plain": [
       "count    768.000000\n",
       "mean      31.992578\n",
       "std        7.884160\n",
       "min        0.000000\n",
       "25%       27.300000\n",
       "50%       32.000000\n",
       "75%       36.600000\n",
       "max       67.100000\n",
       "Name: BMI, dtype: float64"
      ]
     },
     "execution_count": 26,
     "metadata": {},
     "output_type": "execute_result"
    }
   ],
   "source": [
    "df[\"BMI\"].describe()"
   ]
  },
  {
   "cell_type": "code",
   "execution_count": 27,
   "id": "6a2bc7a9",
   "metadata": {},
   "outputs": [
    {
     "data": {
      "text/plain": [
       "[0.0,\n",
       " 18.2,\n",
       " 18.4,\n",
       " 19.1,\n",
       " 19.3,\n",
       " 19.4,\n",
       " 19.5,\n",
       " 19.6,\n",
       " 19.9,\n",
       " 20.0,\n",
       " 20.1,\n",
       " 20.4,\n",
       " 20.8,\n",
       " 21.0,\n",
       " 21.1,\n",
       " 21.2,\n",
       " 21.7,\n",
       " 21.8,\n",
       " 21.9,\n",
       " 22.1,\n",
       " 22.2,\n",
       " 22.3,\n",
       " 22.4,\n",
       " 22.5,\n",
       " 22.6,\n",
       " 22.7,\n",
       " 22.9,\n",
       " 23.0,\n",
       " 23.1,\n",
       " 23.2,\n",
       " 23.3,\n",
       " 23.4,\n",
       " 23.5,\n",
       " 23.6,\n",
       " 23.7,\n",
       " 23.8,\n",
       " 23.9,\n",
       " 24.0,\n",
       " 24.1,\n",
       " 24.2,\n",
       " 24.3,\n",
       " 24.4,\n",
       " 24.5,\n",
       " 24.6,\n",
       " 24.7,\n",
       " 24.8,\n",
       " 24.9,\n",
       " 25.0,\n",
       " 25.1,\n",
       " 25.2,\n",
       " 25.3,\n",
       " 25.4,\n",
       " 25.5,\n",
       " 25.6,\n",
       " 25.8,\n",
       " 25.9,\n",
       " 26.0,\n",
       " 26.1,\n",
       " 26.2,\n",
       " 26.3,\n",
       " 26.4,\n",
       " 26.5,\n",
       " 26.6,\n",
       " 26.7,\n",
       " 26.8,\n",
       " 26.9,\n",
       " 27.0,\n",
       " 27.1,\n",
       " 27.2,\n",
       " 27.3,\n",
       " 27.4,\n",
       " 27.5,\n",
       " 27.6,\n",
       " 27.7,\n",
       " 27.8,\n",
       " 27.9,\n",
       " 28.0,\n",
       " 28.1,\n",
       " 28.2,\n",
       " 28.3,\n",
       " 28.4,\n",
       " 28.5,\n",
       " 28.6,\n",
       " 28.7,\n",
       " 28.8,\n",
       " 28.9,\n",
       " 29.0,\n",
       " 29.2,\n",
       " 29.3,\n",
       " 29.5,\n",
       " 29.6,\n",
       " 29.7,\n",
       " 29.8,\n",
       " 29.9,\n",
       " 30.0,\n",
       " 30.1,\n",
       " 30.2,\n",
       " 30.3,\n",
       " 30.4,\n",
       " 30.5,\n",
       " 30.7,\n",
       " 30.8,\n",
       " 30.9,\n",
       " 31.0,\n",
       " 31.1,\n",
       " 31.2,\n",
       " 31.3,\n",
       " 31.6,\n",
       " 31.9,\n",
       " 32.0,\n",
       " 32.1,\n",
       " 32.2,\n",
       " 32.3,\n",
       " 32.4,\n",
       " 32.5,\n",
       " 32.6,\n",
       " 32.7,\n",
       " 32.8,\n",
       " 32.9,\n",
       " 33.1,\n",
       " 33.2,\n",
       " 33.3,\n",
       " 33.5,\n",
       " 33.6,\n",
       " 33.7,\n",
       " 33.8,\n",
       " 33.9,\n",
       " 34.0,\n",
       " 34.1,\n",
       " 34.2,\n",
       " 34.3,\n",
       " 34.4,\n",
       " 34.5,\n",
       " 34.6,\n",
       " 34.7,\n",
       " 34.8,\n",
       " 34.9,\n",
       " 35.0,\n",
       " 35.1,\n",
       " 35.2,\n",
       " 35.3,\n",
       " 35.4,\n",
       " 35.5,\n",
       " 35.6,\n",
       " 35.7,\n",
       " 35.8,\n",
       " 35.9,\n",
       " 36.0,\n",
       " 36.1,\n",
       " 36.2,\n",
       " 36.3,\n",
       " 36.4,\n",
       " 36.5,\n",
       " 36.6,\n",
       " 36.7,\n",
       " 36.8,\n",
       " 36.9,\n",
       " 37.0,\n",
       " 37.1,\n",
       " 37.2,\n",
       " 37.3,\n",
       " 37.4,\n",
       " 37.5,\n",
       " 37.6,\n",
       " 37.7,\n",
       " 37.8,\n",
       " 37.9,\n",
       " 38.0,\n",
       " 38.1,\n",
       " 38.2,\n",
       " 38.3,\n",
       " 38.4,\n",
       " 38.5,\n",
       " 38.6,\n",
       " 38.7,\n",
       " 38.8,\n",
       " 38.9,\n",
       " 39.0,\n",
       " 39.1,\n",
       " 39.2,\n",
       " 39.3,\n",
       " 39.4,\n",
       " 39.5,\n",
       " 39.6,\n",
       " 39.7,\n",
       " 39.8,\n",
       " 39.9,\n",
       " 40.0,\n",
       " 40.1,\n",
       " 40.2,\n",
       " 40.5,\n",
       " 40.6,\n",
       " 40.7,\n",
       " 40.8,\n",
       " 40.9,\n",
       " 41.0,\n",
       " 41.2,\n",
       " 41.3,\n",
       " 41.5,\n",
       " 41.8,\n",
       " 42.0,\n",
       " 42.1,\n",
       " 42.2,\n",
       " 42.3,\n",
       " 42.4,\n",
       " 42.6,\n",
       " 42.7,\n",
       " 42.8,\n",
       " 42.9,\n",
       " 43.1,\n",
       " 43.2,\n",
       " 43.3,\n",
       " 43.4,\n",
       " 43.5,\n",
       " 43.6,\n",
       " 44.0,\n",
       " 44.1,\n",
       " 44.2,\n",
       " 44.5,\n",
       " 44.6,\n",
       " 45.0,\n",
       " 45.2,\n",
       " 45.3,\n",
       " 45.4,\n",
       " 45.5,\n",
       " 45.6,\n",
       " 45.7,\n",
       " 45.8,\n",
       " 46.1,\n",
       " 46.2,\n",
       " 46.3,\n",
       " 46.5,\n",
       " 46.7,\n",
       " 46.8,\n",
       " 47.9,\n",
       " 48.3,\n",
       " 48.8,\n",
       " 49.3,\n",
       " 49.6,\n",
       " 49.7,\n",
       " 50.0,\n",
       " 52.3,\n",
       " 52.9,\n",
       " 53.2,\n",
       " 55.0,\n",
       " 57.3,\n",
       " 59.4,\n",
       " 67.1]"
      ]
     },
     "execution_count": 27,
     "metadata": {},
     "output_type": "execute_result"
    }
   ],
   "source": [
    "#unique values\n",
    "BMI_unique=list(pd.unique(df[\"BMI\"]))\n",
    "BMI_unique.sort()\n",
    "BMI_unique"
   ]
  },
  {
   "cell_type": "code",
   "execution_count": 28,
   "id": "bd170fc5",
   "metadata": {},
   "outputs": [
    {
     "data": {
      "text/plain": [
       "32.0    13\n",
       "31.6    12\n",
       "31.2    12\n",
       "0.0     11\n",
       "32.4    10\n",
       "        ..\n",
       "36.7     1\n",
       "41.8     1\n",
       "42.6     1\n",
       "42.8     1\n",
       "46.3     1\n",
       "Name: BMI, Length: 248, dtype: int64"
      ]
     },
     "execution_count": 28,
     "metadata": {},
     "output_type": "execute_result"
    }
   ],
   "source": [
    "# frequency of values\n",
    "df[\"BMI\"].value_counts()"
   ]
  },
  {
   "cell_type": "code",
   "execution_count": 29,
   "id": "a75788de",
   "metadata": {
    "scrolled": true
   },
   "outputs": [
    {
     "name": "stderr",
     "output_type": "stream",
     "text": [
      "C:\\Users\\hp\\AppData\\Local\\Programs\\Python\\Python39\\lib\\site-packages\\seaborn\\_decorators.py:36: FutureWarning: Pass the following variable as a keyword arg: x. From version 0.12, the only valid positional argument will be `data`, and passing other arguments without an explicit keyword will result in an error or misinterpretation.\n",
      "  warnings.warn(\n"
     ]
    },
    {
     "data": {
      "text/plain": [
       "<AxesSubplot:xlabel='BMI'>"
      ]
     },
     "execution_count": 29,
     "metadata": {},
     "output_type": "execute_result"
    },
    {
     "data": {
      "image/png": "[encoded data removed]",
      "text/plain": [
       "<Figure size 432x288 with 1 Axes>"
      ]
     },
     "metadata": {
      "needs_background": "light"
     },
     "output_type": "display_data"
    }
   ],
   "source": [
    "#Outliers\n",
    "sns.boxplot(df[\"BMI\"])"
   ]
  },
  {
   "cell_type": "markdown",
   "id": "652c707a",
   "metadata": {},
   "source": [
    "#### DiabetesPedigreeFunction"
   ]
  },
  {
   "cell_type": "code",
   "execution_count": 30,
   "id": "0a34f3eb",
   "metadata": {},
   "outputs": [
    {
     "data": {
      "text/plain": [
       "count    768.000000\n",
       "mean       0.471876\n",
       "std        0.331329\n",
       "min        0.078000\n",
       "25%        0.243750\n",
       "50%        0.372500\n",
       "75%        0.626250\n",
       "max        2.420000\n",
       "Name: DiabetesPedigreeFunction, dtype: float64"
      ]
     },
     "execution_count": 30,
     "metadata": {},
     "output_type": "execute_result"
    }
   ],
   "source": [
    "df[\"DiabetesPedigreeFunction\"].describe()"
   ]
  },
  {
   "cell_type": "code",
   "execution_count": 31,
   "id": "7828e71c",
   "metadata": {},
   "outputs": [
    {
     "data": {
      "text/plain": [
       "[0.078,\n",
       " 0.084,\n",
       " 0.085,\n",
       " 0.088,\n",
       " 0.089,\n",
       " 0.092,\n",
       " 0.096,\n",
       " 0.1,\n",
       " 0.101,\n",
       " 0.102,\n",
       " 0.107,\n",
       " 0.108,\n",
       " 0.115,\n",
       " 0.118,\n",
       " 0.121,\n",
       " 0.122,\n",
       " 0.123,\n",
       " 0.126,\n",
       " 0.127,\n",
       " 0.128,\n",
       " 0.129,\n",
       " 0.13,\n",
       " 0.133,\n",
       " 0.134,\n",
       " 0.135,\n",
       " 0.136,\n",
       " 0.137,\n",
       " 0.138,\n",
       " 0.14,\n",
       " 0.141,\n",
       " 0.142,\n",
       " 0.143,\n",
       " 0.144,\n",
       " 0.145,\n",
       " 0.147,\n",
       " 0.148,\n",
       " 0.149,\n",
       " 0.15,\n",
       " 0.151,\n",
       " 0.153,\n",
       " 0.154,\n",
       " 0.155,\n",
       " 0.156,\n",
       " 0.157,\n",
       " 0.158,\n",
       " 0.159,\n",
       " 0.16,\n",
       " 0.161,\n",
       " 0.162,\n",
       " 0.163,\n",
       " 0.164,\n",
       " 0.165,\n",
       " 0.166,\n",
       " 0.167,\n",
       " 0.17,\n",
       " 0.171,\n",
       " 0.173,\n",
       " 0.174,\n",
       " 0.175,\n",
       " 0.176,\n",
       " 0.177,\n",
       " 0.178,\n",
       " 0.179,\n",
       " 0.18,\n",
       " 0.181,\n",
       " 0.182,\n",
       " 0.183,\n",
       " 0.186,\n",
       " 0.187,\n",
       " 0.188,\n",
       " 0.189,\n",
       " 0.19,\n",
       " 0.191,\n",
       " 0.192,\n",
       " 0.194,\n",
       " 0.196,\n",
       " 0.197,\n",
       " 0.198,\n",
       " 0.199,\n",
       " 0.2,\n",
       " 0.201,\n",
       " 0.203,\n",
       " 0.204,\n",
       " 0.205,\n",
       " 0.206,\n",
       " 0.207,\n",
       " 0.209,\n",
       " 0.21,\n",
       " 0.212,\n",
       " 0.215,\n",
       " 0.217,\n",
       " 0.218,\n",
       " 0.219,\n",
       " 0.22,\n",
       " 0.221,\n",
       " 0.222,\n",
       " 0.223,\n",
       " 0.225,\n",
       " 0.226,\n",
       " 0.227,\n",
       " 0.229,\n",
       " 0.23,\n",
       " 0.231,\n",
       " 0.232,\n",
       " 0.233,\n",
       " 0.234,\n",
       " 0.235,\n",
       " 0.236,\n",
       " 0.237,\n",
       " 0.238,\n",
       " 0.239,\n",
       " 0.24,\n",
       " 0.241,\n",
       " 0.243,\n",
       " 0.244,\n",
       " 0.245,\n",
       " 0.246,\n",
       " 0.247,\n",
       " 0.248,\n",
       " 0.249,\n",
       " 0.251,\n",
       " 0.252,\n",
       " 0.253,\n",
       " 0.254,\n",
       " 0.255,\n",
       " 0.256,\n",
       " 0.257,\n",
       " 0.258,\n",
       " 0.259,\n",
       " 0.26,\n",
       " 0.261,\n",
       " 0.262,\n",
       " 0.263,\n",
       " 0.264,\n",
       " 0.265,\n",
       " 0.267,\n",
       " 0.268,\n",
       " 0.269,\n",
       " 0.27,\n",
       " 0.271,\n",
       " 0.272,\n",
       " 0.277,\n",
       " 0.278,\n",
       " 0.279,\n",
       " 0.28,\n",
       " 0.282,\n",
       " 0.283,\n",
       " 0.284,\n",
       " 0.285,\n",
       " 0.286,\n",
       " 0.287,\n",
       " 0.289,\n",
       " 0.29,\n",
       " 0.292,\n",
       " 0.293,\n",
       " 0.294,\n",
       " 0.295,\n",
       " 0.296,\n",
       " 0.297,\n",
       " 0.299,\n",
       " 0.3,\n",
       " 0.302,\n",
       " 0.303,\n",
       " 0.304,\n",
       " 0.305,\n",
       " 0.306,\n",
       " 0.307,\n",
       " 0.313,\n",
       " 0.314,\n",
       " 0.315,\n",
       " 0.317,\n",
       " 0.318,\n",
       " 0.319,\n",
       " 0.323,\n",
       " 0.324,\n",
       " 0.325,\n",
       " 0.326,\n",
       " 0.328,\n",
       " 0.329,\n",
       " 0.33,\n",
       " 0.331,\n",
       " 0.332,\n",
       " 0.334,\n",
       " 0.335,\n",
       " 0.336,\n",
       " 0.337,\n",
       " 0.338,\n",
       " 0.34,\n",
       " 0.341,\n",
       " 0.342,\n",
       " 0.343,\n",
       " 0.344,\n",
       " 0.345,\n",
       " 0.346,\n",
       " 0.347,\n",
       " 0.349,\n",
       " 0.351,\n",
       " 0.352,\n",
       " 0.355,\n",
       " 0.356,\n",
       " 0.358,\n",
       " 0.361,\n",
       " 0.362,\n",
       " 0.364,\n",
       " 0.365,\n",
       " 0.366,\n",
       " 0.368,\n",
       " 0.37,\n",
       " 0.371,\n",
       " 0.374,\n",
       " 0.375,\n",
       " 0.376,\n",
       " 0.378,\n",
       " 0.38,\n",
       " 0.381,\n",
       " 0.382,\n",
       " 0.383,\n",
       " 0.385,\n",
       " 0.388,\n",
       " 0.389,\n",
       " 0.391,\n",
       " 0.393,\n",
       " 0.394,\n",
       " 0.395,\n",
       " 0.396,\n",
       " 0.398,\n",
       " 0.399,\n",
       " 0.4,\n",
       " 0.401,\n",
       " 0.402,\n",
       " 0.403,\n",
       " 0.404,\n",
       " 0.407,\n",
       " 0.408,\n",
       " 0.409,\n",
       " 0.411,\n",
       " 0.412,\n",
       " 0.415,\n",
       " 0.416,\n",
       " 0.417,\n",
       " 0.419,\n",
       " 0.42,\n",
       " 0.421,\n",
       " 0.422,\n",
       " 0.423,\n",
       " 0.426,\n",
       " 0.427,\n",
       " 0.43,\n",
       " 0.431,\n",
       " 0.432,\n",
       " 0.433,\n",
       " 0.434,\n",
       " 0.435,\n",
       " 0.439,\n",
       " 0.441,\n",
       " 0.443,\n",
       " 0.444,\n",
       " 0.446,\n",
       " 0.447,\n",
       " 0.451,\n",
       " 0.452,\n",
       " 0.453,\n",
       " 0.454,\n",
       " 0.455,\n",
       " 0.457,\n",
       " 0.46,\n",
       " 0.463,\n",
       " 0.464,\n",
       " 0.465,\n",
       " 0.466,\n",
       " 0.467,\n",
       " 0.471,\n",
       " 0.472,\n",
       " 0.479,\n",
       " 0.482,\n",
       " 0.483,\n",
       " 0.484,\n",
       " 0.485,\n",
       " 0.487,\n",
       " 0.488,\n",
       " 0.491,\n",
       " 0.493,\n",
       " 0.495,\n",
       " 0.496,\n",
       " 0.497,\n",
       " 0.498,\n",
       " 0.499,\n",
       " 0.501,\n",
       " 0.502,\n",
       " 0.503,\n",
       " 0.507,\n",
       " 0.509,\n",
       " 0.51,\n",
       " 0.512,\n",
       " 0.514,\n",
       " 0.515,\n",
       " 0.516,\n",
       " 0.52,\n",
       " 0.525,\n",
       " 0.526,\n",
       " 0.527,\n",
       " 0.528,\n",
       " 0.529,\n",
       " 0.532,\n",
       " 0.534,\n",
       " 0.536,\n",
       " 0.537,\n",
       " 0.539,\n",
       " 0.542,\n",
       " 0.543,\n",
       " 0.545,\n",
       " 0.546,\n",
       " 0.547,\n",
       " 0.549,\n",
       " 0.551,\n",
       " 0.554,\n",
       " 0.557,\n",
       " 0.559,\n",
       " 0.56,\n",
       " 0.561,\n",
       " 0.564,\n",
       " 0.565,\n",
       " 0.569,\n",
       " 0.571,\n",
       " 0.572,\n",
       " 0.575,\n",
       " 0.578,\n",
       " 0.58,\n",
       " 0.582,\n",
       " 0.583,\n",
       " 0.586,\n",
       " 0.587,\n",
       " 0.588,\n",
       " 0.591,\n",
       " 0.593,\n",
       " 0.595,\n",
       " 0.597,\n",
       " 0.598,\n",
       " 0.6,\n",
       " 0.601,\n",
       " 0.605,\n",
       " 0.607,\n",
       " 0.61,\n",
       " 0.612,\n",
       " 0.613,\n",
       " 0.614,\n",
       " 0.615,\n",
       " 0.619,\n",
       " 0.624,\n",
       " 0.626,\n",
       " 0.627,\n",
       " 0.629,\n",
       " 0.63,\n",
       " 0.631,\n",
       " 0.637,\n",
       " 0.64,\n",
       " 0.645,\n",
       " 0.646,\n",
       " 0.647,\n",
       " 0.649,\n",
       " 0.652,\n",
       " 0.654,\n",
       " 0.655,\n",
       " 0.658,\n",
       " 0.66,\n",
       " 0.661,\n",
       " 0.665,\n",
       " 0.666,\n",
       " 0.672,\n",
       " 0.673,\n",
       " 0.674,\n",
       " 0.677,\n",
       " 0.678,\n",
       " 0.68,\n",
       " 0.682,\n",
       " 0.686,\n",
       " 0.687,\n",
       " 0.692,\n",
       " 0.693,\n",
       " 0.695,\n",
       " 0.696,\n",
       " 0.698,\n",
       " 0.699,\n",
       " 0.702,\n",
       " 0.703,\n",
       " 0.704,\n",
       " 0.705,\n",
       " 0.709,\n",
       " 0.711,\n",
       " 0.717,\n",
       " 0.718,\n",
       " 0.719,\n",
       " 0.721,\n",
       " 0.722,\n",
       " 0.725,\n",
       " 0.727,\n",
       " 0.73,\n",
       " 0.731,\n",
       " 0.732,\n",
       " 0.733,\n",
       " 0.734,\n",
       " 0.735,\n",
       " 0.738,\n",
       " 0.741,\n",
       " 0.742,\n",
       " 0.743,\n",
       " 0.744,\n",
       " 0.745,\n",
       " 0.748,\n",
       " 0.757,\n",
       " 0.759,\n",
       " 0.761,\n",
       " 0.766,\n",
       " 0.767,\n",
       " 0.771,\n",
       " 0.773,\n",
       " 0.785,\n",
       " 0.787,\n",
       " 0.801,\n",
       " 0.803,\n",
       " 0.804,\n",
       " 0.805,\n",
       " 0.808,\n",
       " 0.813,\n",
       " 0.816,\n",
       " 0.817,\n",
       " 0.821,\n",
       " 0.825,\n",
       " 0.826,\n",
       " 0.828,\n",
       " 0.831,\n",
       " 0.832,\n",
       " 0.833,\n",
       " 0.839,\n",
       " 0.84,\n",
       " 0.845,\n",
       " 0.851,\n",
       " 0.855,\n",
       " 0.856,\n",
       " 0.867,\n",
       " 0.871,\n",
       " 0.874,\n",
       " 0.875,\n",
       " 0.878,\n",
       " 0.88,\n",
       " 0.881,\n",
       " 0.886,\n",
       " 0.892,\n",
       " 0.893,\n",
       " 0.904,\n",
       " 0.905,\n",
       " 0.917,\n",
       " 0.925,\n",
       " 0.926,\n",
       " 0.93,\n",
       " 0.932,\n",
       " 0.933,\n",
       " 0.944,\n",
       " 0.947,\n",
       " 0.949,\n",
       " 0.955,\n",
       " 0.956,\n",
       " 0.962,\n",
       " 0.966,\n",
       " 0.968,\n",
       " 0.97,\n",
       " 0.997,\n",
       " 1.001,\n",
       " 1.021,\n",
       " 1.022,\n",
       " 1.034,\n",
       " 1.057,\n",
       " 1.072,\n",
       " 1.076,\n",
       " 1.095,\n",
       " 1.096,\n",
       " 1.101,\n",
       " 1.114,\n",
       " 1.127,\n",
       " 1.136,\n",
       " 1.138,\n",
       " 1.144,\n",
       " 1.154,\n",
       " 1.159,\n",
       " 1.162,\n",
       " 1.174,\n",
       " 1.182,\n",
       " 1.189,\n",
       " 1.191,\n",
       " 1.213,\n",
       " 1.222,\n",
       " 1.224,\n",
       " 1.251,\n",
       " 1.258,\n",
       " 1.268,\n",
       " 1.282,\n",
       " 1.292,\n",
       " 1.318,\n",
       " 1.321,\n",
       " 1.353,\n",
       " 1.39,\n",
       " 1.391,\n",
       " 1.394,\n",
       " 1.4,\n",
       " 1.441,\n",
       " 1.461,\n",
       " 1.476,\n",
       " 1.6,\n",
       " 1.698,\n",
       " 1.699,\n",
       " 1.731,\n",
       " 1.781,\n",
       " 1.893,\n",
       " 2.137,\n",
       " 2.288,\n",
       " 2.329,\n",
       " 2.42]"
      ]
     },
     "execution_count": 31,
     "metadata": {},
     "output_type": "execute_result"
    }
   ],
   "source": [
    "#unique values\n",
    "DiabetesPedigreeFunction_unique=list(pd.unique(df[\"DiabetesPedigreeFunction\"]))\n",
    "DiabetesPedigreeFunction_unique.sort()\n",
    "DiabetesPedigreeFunction_unique"
   ]
  },
  {
   "cell_type": "code",
   "execution_count": 32,
   "id": "1f44c100",
   "metadata": {},
   "outputs": [
    {
     "data": {
      "text/plain": [
       "0.627    1\n",
       "0.351    1\n",
       "0.672    1\n",
       "0.167    4\n",
       "2.288    1\n",
       "        ..\n",
       "1.182    1\n",
       "0.222    1\n",
       "1.057    1\n",
       "0.766    1\n",
       "0.171    1\n",
       "Name: DiabetesPedigreeFunction, Length: 517, dtype: int64"
      ]
     },
     "execution_count": 32,
     "metadata": {},
     "output_type": "execute_result"
    }
   ],
   "source": [
    "# frequency of values\n",
    "freq_DiabetesPedigreeFunction=df[\"DiabetesPedigreeFunction\"].value_counts(sort=False,ascending=True)\n",
    "freq_DiabetesPedigreeFunction"
   ]
  },
  {
   "cell_type": "code",
   "execution_count": 33,
   "id": "cdc88c97",
   "metadata": {},
   "outputs": [
    {
     "name": "stderr",
     "output_type": "stream",
     "text": [
      "C:\\Users\\hp\\AppData\\Local\\Programs\\Python\\Python39\\lib\\site-packages\\seaborn\\_decorators.py:36: FutureWarning: Pass the following variable as a keyword arg: x. From version 0.12, the only valid positional argument will be `data`, and passing other arguments without an explicit keyword will result in an error or misinterpretation.\n",
      "  warnings.warn(\n"
     ]
    },
    {
     "data": {
      "text/plain": [
       "<AxesSubplot:xlabel='DiabetesPedigreeFunction'>"
      ]
     },
     "execution_count": 33,
     "metadata": {},
     "output_type": "execute_result"
    },
    {
     "data": {
      "image/png": "[encoded data removed]",
      "text/plain": [
       "<Figure size 432x288 with 1 Axes>"
      ]
     },
     "metadata": {
      "needs_background": "light"
     },
     "output_type": "display_data"
    }
   ],
   "source": [
    "#Outliers\n",
    "sns.boxplot(df[\"DiabetesPedigreeFunction\"])"
   ]
  },
  {
   "cell_type": "markdown",
   "id": "529c1414",
   "metadata": {},
   "source": [
    "#### Age"
   ]
  },
  {
   "cell_type": "code",
   "execution_count": 34,
   "id": "ca47cbc9",
   "metadata": {},
   "outputs": [
    {
     "data": {
      "text/plain": [
       "count    768.000000\n",
       "mean      33.240885\n",
       "std       11.760232\n",
       "min       21.000000\n",
       "25%       24.000000\n",
       "50%       29.000000\n",
       "75%       41.000000\n",
       "max       81.000000\n",
       "Name: Age, dtype: float64"
      ]
     },
     "execution_count": 34,
     "metadata": {},
     "output_type": "execute_result"
    }
   ],
   "source": [
    "df[\"Age\"].describe()"
   ]
  },
  {
   "cell_type": "code",
   "execution_count": 35,
   "id": "ad3fe3a7",
   "metadata": {},
   "outputs": [
    {
     "data": {
      "text/plain": [
       "[21,\n",
       " 22,\n",
       " 23,\n",
       " 24,\n",
       " 25,\n",
       " 26,\n",
       " 27,\n",
       " 28,\n",
       " 29,\n",
       " 30,\n",
       " 31,\n",
       " 32,\n",
       " 33,\n",
       " 34,\n",
       " 35,\n",
       " 36,\n",
       " 37,\n",
       " 38,\n",
       " 39,\n",
       " 40,\n",
       " 41,\n",
       " 42,\n",
       " 43,\n",
       " 44,\n",
       " 45,\n",
       " 46,\n",
       " 47,\n",
       " 48,\n",
       " 49,\n",
       " 50,\n",
       " 51,\n",
       " 52,\n",
       " 53,\n",
       " 54,\n",
       " 55,\n",
       " 56,\n",
       " 57,\n",
       " 58,\n",
       " 59,\n",
       " 60,\n",
       " 61,\n",
       " 62,\n",
       " 63,\n",
       " 64,\n",
       " 65,\n",
       " 66,\n",
       " 67,\n",
       " 68,\n",
       " 69,\n",
       " 70,\n",
       " 72,\n",
       " 81]"
      ]
     },
     "execution_count": 35,
     "metadata": {},
     "output_type": "execute_result"
    }
   ],
   "source": [
    "#unique values\n",
    "Age_unique=list(pd.unique(df[\"Age\"]))\n",
    "Age_unique.sort()\n",
    "Age_unique"
   ]
  },
  {
   "cell_type": "code",
   "execution_count": 36,
   "id": "0d0b6877",
   "metadata": {},
   "outputs": [
    {
     "data": {
      "text/plain": [
       "22    72\n",
       "21    63\n",
       "25    48\n",
       "24    46\n",
       "23    38\n",
       "28    35\n",
       "26    33\n",
       "27    32\n",
       "29    29\n",
       "31    24\n",
       "41    22\n",
       "30    21\n",
       "37    19\n",
       "42    18\n",
       "33    17\n",
       "38    16\n",
       "36    16\n",
       "32    16\n",
       "45    15\n",
       "34    14\n",
       "46    13\n",
       "43    13\n",
       "40    13\n",
       "39    12\n",
       "35    10\n",
       "50     8\n",
       "51     8\n",
       "52     8\n",
       "44     8\n",
       "58     7\n",
       "47     6\n",
       "54     6\n",
       "49     5\n",
       "48     5\n",
       "57     5\n",
       "53     5\n",
       "60     5\n",
       "66     4\n",
       "63     4\n",
       "62     4\n",
       "55     4\n",
       "67     3\n",
       "56     3\n",
       "59     3\n",
       "65     3\n",
       "69     2\n",
       "61     2\n",
       "72     1\n",
       "81     1\n",
       "64     1\n",
       "70     1\n",
       "68     1\n",
       "Name: Age, dtype: int64"
      ]
     },
     "execution_count": 36,
     "metadata": {},
     "output_type": "execute_result"
    }
   ],
   "source": [
    "# frequency of values\n",
    "df[\"Age\"].value_counts()"
   ]
  },
  {
   "cell_type": "code",
   "execution_count": 37,
   "id": "0ad237f4",
   "metadata": {},
   "outputs": [
    {
     "name": "stderr",
     "output_type": "stream",
     "text": [
      "C:\\Users\\hp\\AppData\\Local\\Programs\\Python\\Python39\\lib\\site-packages\\seaborn\\_decorators.py:36: FutureWarning: Pass the following variable as a keyword arg: x. From version 0.12, the only valid positional argument will be `data`, and passing other arguments without an explicit keyword will result in an error or misinterpretation.\n",
      "  warnings.warn(\n"
     ]
    },
    {
     "data": {
      "text/plain": [
       "<AxesSubplot:xlabel='Age'>"
      ]
     },
     "execution_count": 37,
     "metadata": {},
     "output_type": "execute_result"
    },
    {
     "data": {
      "image/png": "[encoded data removed]",
      "text/plain": [
       "<Figure size 432x288 with 1 Axes>"
      ]
     },
     "metadata": {
      "needs_background": "light"
     },
     "output_type": "display_data"
    }
   ],
   "source": [
    "#Outliers\n",
    "sns.boxplot(df[\"Age\"])"
   ]
  },
  {
   "cell_type": "markdown",
   "id": "b7324451",
   "metadata": {},
   "source": [
    "#### Outcomes"
   ]
  },
  {
   "cell_type": "code",
   "execution_count": 38,
   "id": "5a5dd8ee",
   "metadata": {},
   "outputs": [
    {
     "data": {
      "text/plain": [
       "0    500\n",
       "1    268\n",
       "Name: Outcome, dtype: int64"
      ]
     },
     "execution_count": 38,
     "metadata": {},
     "output_type": "execute_result"
    }
   ],
   "source": [
    "df[\"Outcome\"].value_counts()"
   ]
  },
  {
   "cell_type": "code",
   "execution_count": null,
   "id": "70489d5c",
   "metadata": {},
   "outputs": [],
   "source": []
  },
  {
   "cell_type": "markdown",
   "id": "20efdcc2",
   "metadata": {},
   "source": [
    "# Feature Engineering"
   ]
  },
  {
   "cell_type": "code",
   "execution_count": 39,
   "id": "3689075c",
   "metadata": {},
   "outputs": [
    {
     "data": {
      "text/plain": [
       "\"Note: If you remove outliers after standardizing, \\nthe resulting data won't be standardized anymore \\n(if many outliers are removed, standard deviation could become considerably smaller than 1)\""
      ]
     },
     "execution_count": 39,
     "metadata": {},
     "output_type": "execute_result"
    }
   ],
   "source": [
    "'''Note: If you remove outliers after standardizing, \n",
    "the resulting data won't be standardized anymore \n",
    "(if many outliers are removed, standard deviation could become considerably smaller than 1)'''"
   ]
  },
  {
   "cell_type": "markdown",
   "id": "551f1b83",
   "metadata": {},
   "source": [
    "### Removing Outliers"
   ]
  },
  {
   "cell_type": "code",
   "execution_count": 40,
   "id": "ccfe3e57",
   "metadata": {},
   "outputs": [
    {
     "data": {
      "text/plain": [
       "Index(['Pregnancies', 'Glucose', 'BloodPressure', 'SkinThickness', 'Insulin',\n",
       "       'BMI', 'DiabetesPedigreeFunction', 'Age', 'Outcome'],\n",
       "      dtype='object')"
      ]
     },
     "execution_count": 40,
     "metadata": {},
     "output_type": "execute_result"
    }
   ],
   "source": [
    "df.columns"
   ]
  },
  {
   "cell_type": "code",
   "execution_count": 41,
   "id": "e2c851c4",
   "metadata": {},
   "outputs": [],
   "source": [
    "#Pregnancies"
   ]
  },
  {
   "cell_type": "code",
   "execution_count": 42,
   "id": "ffe6aeca",
   "metadata": {},
   "outputs": [],
   "source": [
    "outliers_Pregnancies=[]\n",
    "threshold=3\n",
    "def outlier_Pregnancies(data):\n",
    "    for i in data.values:\n",
    "        z_score= (i-3.755627)/3.312217\n",
    "        if abs(z_score) > threshold:\n",
    "            outliers_Pregnancies.append(i)\n",
    "    return \"The outliers are\",outliers_Pregnancies"
   ]
  },
  {
   "cell_type": "code",
   "execution_count": 43,
   "id": "32cc966a",
   "metadata": {},
   "outputs": [
    {
     "data": {
      "text/plain": [
       "('The outliers are', [15, 17, 14, 14])"
      ]
     },
     "execution_count": 43,
     "metadata": {},
     "output_type": "execute_result"
    }
   ],
   "source": [
    "outlier_Pregnancies(df[\"Pregnancies\"])"
   ]
  },
  {
   "cell_type": "code",
   "execution_count": 44,
   "id": "9c446ec0",
   "metadata": {},
   "outputs": [
    {
     "data": {
      "text/plain": [
       "[Int64Index([88], dtype='int64'),\n",
       " Int64Index([159], dtype='int64'),\n",
       " Int64Index([298, 455], dtype='int64'),\n",
       " Int64Index([298, 455], dtype='int64')]"
      ]
     },
     "execution_count": 44,
     "metadata": {},
     "output_type": "execute_result"
    }
   ],
   "source": [
    "outlier_index_Pregnancies=[]\n",
    "for i in outliers_Pregnancies:\n",
    "    a=df[\"Pregnancies\"].loc[df[\"Pregnancies\"]==i].index\n",
    "    outlier_index_Pregnancies.append(a)\n",
    "outlier_index_Pregnancies"
   ]
  },
  {
   "cell_type": "code",
   "execution_count": 45,
   "id": "0b1e29c9",
   "metadata": {},
   "outputs": [],
   "source": [
    "outlier_index_Pregnancies=[281,479]"
   ]
  },
  {
   "cell_type": "code",
   "execution_count": null,
   "id": "c0385ff4",
   "metadata": {},
   "outputs": [],
   "source": []
  },
  {
   "cell_type": "code",
   "execution_count": 46,
   "id": "6de8758c",
   "metadata": {},
   "outputs": [],
   "source": [
    "# DiabetesPedigreeFunction"
   ]
  },
  {
   "cell_type": "code",
   "execution_count": 47,
   "id": "524ffbd1",
   "metadata": {},
   "outputs": [],
   "source": [
    "outliers_DiabetesPedigreeFunction=[]\n",
    "threshold=3\n",
    "def outlier_DiabetesPedigreeFunction(data):\n",
    "    for i in data.values:\n",
    "            z_score= (i-0.470831)/0.337983\n",
    "            if abs(z_score) > threshold:\n",
    "                outliers_DiabetesPedigreeFunction.append(i)\n",
    "    return \"The outliers are\",outliers_DiabetesPedigreeFunction"
   ]
  },
  {
   "cell_type": "code",
   "execution_count": 48,
   "id": "da5232cd",
   "metadata": {},
   "outputs": [
    {
     "data": {
      "text/plain": [
       "('The outliers are',\n",
       " [2.288, 1.893, 1.781, 2.329, 2.137, 1.731, 1.6, 2.42, 1.699, 1.698])"
      ]
     },
     "execution_count": 48,
     "metadata": {},
     "output_type": "execute_result"
    }
   ],
   "source": [
    "outlier_DiabetesPedigreeFunction(df[\"DiabetesPedigreeFunction\"])"
   ]
  },
  {
   "cell_type": "code",
   "execution_count": 49,
   "id": "22923b6d",
   "metadata": {},
   "outputs": [
    {
     "data": {
      "text/plain": [
       "[Int64Index([4], dtype='int64'),\n",
       " Int64Index([45], dtype='int64'),\n",
       " Int64Index([58], dtype='int64'),\n",
       " Int64Index([228], dtype='int64'),\n",
       " Int64Index([370], dtype='int64'),\n",
       " Int64Index([371], dtype='int64'),\n",
       " Int64Index([395], dtype='int64'),\n",
       " Int64Index([445], dtype='int64'),\n",
       " Int64Index([593], dtype='int64'),\n",
       " Int64Index([621], dtype='int64')]"
      ]
     },
     "execution_count": 49,
     "metadata": {},
     "output_type": "execute_result"
    }
   ],
   "source": [
    "outlier_index_DiabetesPedigreeFunction=[]\n",
    "for i in outliers_DiabetesPedigreeFunction:\n",
    "    a=df[\"DiabetesPedigreeFunction\"].loc[df[\"DiabetesPedigreeFunction\"]==i].index\n",
    "    outlier_index_DiabetesPedigreeFunction.append(a)\n",
    "outlier_index_DiabetesPedigreeFunction"
   ]
  },
  {
   "cell_type": "code",
   "execution_count": 50,
   "id": "b7ecd818",
   "metadata": {},
   "outputs": [],
   "source": [
    "outlier_index_DiabetesPedigreeFunction=[4,45,58,370,371,395,445,593,621]"
   ]
  },
  {
   "cell_type": "code",
   "execution_count": 51,
   "id": "ef0d7bcc",
   "metadata": {},
   "outputs": [],
   "source": [
    "#Glucose"
   ]
  },
  {
   "cell_type": "code",
   "execution_count": 52,
   "id": "3b28a9f6",
   "metadata": {},
   "outputs": [
    {
     "name": "stderr",
     "output_type": "stream",
     "text": [
      "C:\\Users\\hp\\AppData\\Local\\Programs\\Python\\Python39\\lib\\site-packages\\seaborn\\_decorators.py:36: FutureWarning: Pass the following variable as a keyword arg: x. From version 0.12, the only valid positional argument will be `data`, and passing other arguments without an explicit keyword will result in an error or misinterpretation.\n",
      "  warnings.warn(\n"
     ]
    },
    {
     "data": {
      "text/plain": [
       "<AxesSubplot:xlabel='Glucose'>"
      ]
     },
     "execution_count": 52,
     "metadata": {},
     "output_type": "execute_result"
    },
    {
     "data": {
      "image/png": "[encoded data removed]",
      "text/plain": [
       "<Figure size 432x288 with 1 Axes>"
      ]
     },
     "metadata": {
      "needs_background": "light"
     },
     "output_type": "display_data"
    }
   ],
   "source": [
    "sns.boxplot(df[\"Glucose\"])"
   ]
  },
  {
   "cell_type": "code",
   "execution_count": 53,
   "id": "014f14be",
   "metadata": {},
   "outputs": [],
   "source": [
    "outliers_Glucose=[]\n",
    "threshold=3\n",
    "def outlier_Glucose(data):\n",
    "    mean=np.mean(data.values)\n",
    "    std=np.std(data.values)\n",
    "    for i in data.values:\n",
    "        z_score= (i-mean)/std\n",
    "        if abs(z_score) > threshold:\n",
    "            outliers_Glucose.append(i)\n",
    "    return \"The outliers are\",outliers_Glucose"
   ]
  },
  {
   "cell_type": "code",
   "execution_count": 54,
   "id": "5c7bb795",
   "metadata": {},
   "outputs": [
    {
     "data": {
      "text/plain": [
       "('The outliers are', [0, 0, 0, 0, 0])"
      ]
     },
     "execution_count": 54,
     "metadata": {},
     "output_type": "execute_result"
    }
   ],
   "source": [
    "outlier_Glucose(df[\"Glucose\"])"
   ]
  },
  {
   "cell_type": "code",
   "execution_count": 55,
   "id": "0f1a2d15",
   "metadata": {},
   "outputs": [
    {
     "data": {
      "text/plain": [
       "[Int64Index([75, 182, 342, 349, 502], dtype='int64'),\n",
       " Int64Index([75, 182, 342, 349, 502], dtype='int64'),\n",
       " Int64Index([75, 182, 342, 349, 502], dtype='int64'),\n",
       " Int64Index([75, 182, 342, 349, 502], dtype='int64'),\n",
       " Int64Index([75, 182, 342, 349, 502], dtype='int64')]"
      ]
     },
     "execution_count": 55,
     "metadata": {},
     "output_type": "execute_result"
    }
   ],
   "source": [
    "outlier_index_Glucose=[]\n",
    "for i in outliers_Glucose:\n",
    "    a=df[\"Glucose\"].loc[df[\"Glucose\"]==i].index\n",
    "    outlier_index_Glucose.append(a)\n",
    "outlier_index_Glucose"
   ]
  },
  {
   "cell_type": "code",
   "execution_count": 56,
   "id": "a9f95a25",
   "metadata": {},
   "outputs": [],
   "source": [
    "outlier_index_Glucose=[75,182,342,349,502]"
   ]
  },
  {
   "cell_type": "code",
   "execution_count": 57,
   "id": "c7ab79b6",
   "metadata": {},
   "outputs": [],
   "source": [
    "#BloodPressure"
   ]
  },
  {
   "cell_type": "code",
   "execution_count": 58,
   "id": "abaf7c12",
   "metadata": {},
   "outputs": [
    {
     "name": "stderr",
     "output_type": "stream",
     "text": [
      "C:\\Users\\hp\\AppData\\Local\\Programs\\Python\\Python39\\lib\\site-packages\\seaborn\\_decorators.py:36: FutureWarning: Pass the following variable as a keyword arg: x. From version 0.12, the only valid positional argument will be `data`, and passing other arguments without an explicit keyword will result in an error or misinterpretation.\n",
      "  warnings.warn(\n"
     ]
    },
    {
     "data": {
      "text/plain": [
       "<AxesSubplot:xlabel='BloodPressure'>"
      ]
     },
     "execution_count": 58,
     "metadata": {},
     "output_type": "execute_result"
    },
    {
     "data": {
      "image/png": "[encoded data removed]",
      "text/plain": [
       "<Figure size 432x288 with 1 Axes>"
      ]
     },
     "metadata": {
      "needs_background": "light"
     },
     "output_type": "display_data"
    }
   ],
   "source": [
    "sns.boxplot(df[\"BloodPressure\"])"
   ]
  },
  {
   "cell_type": "code",
   "execution_count": 59,
   "id": "ebb0b672",
   "metadata": {},
   "outputs": [
    {
     "data": {
      "text/plain": [
       "count    768.000000\n",
       "mean      69.105469\n",
       "std       19.355807\n",
       "min        0.000000\n",
       "25%       62.000000\n",
       "50%       72.000000\n",
       "75%       80.000000\n",
       "max      122.000000\n",
       "Name: BloodPressure, dtype: float64"
      ]
     },
     "execution_count": 59,
     "metadata": {},
     "output_type": "execute_result"
    }
   ],
   "source": [
    "df[\"BloodPressure\"].describe()"
   ]
  },
  {
   "cell_type": "code",
   "execution_count": 60,
   "id": "47b0a0ab",
   "metadata": {},
   "outputs": [],
   "source": [
    "outliers_BloodPressure=[]\n",
    "threshold=3\n",
    "def outlier_BloodPressure(data):\n",
    "    mean=np.mean(data.values)\n",
    "    std=np.std(data.values)\n",
    "    for i in data.values:\n",
    "        z_score= (i-mean)/std\n",
    "        if abs(z_score) > threshold:\n",
    "            outliers_BloodPressure.append(i)\n",
    "    return \"The outliers are\",outliers_BloodPressure"
   ]
  },
  {
   "cell_type": "code",
   "execution_count": 61,
   "id": "6c21a99a",
   "metadata": {},
   "outputs": [
    {
     "data": {
      "text/plain": [
       "0      72\n",
       "1      66\n",
       "2      64\n",
       "3      66\n",
       "4      40\n",
       "       ..\n",
       "763    76\n",
       "764    70\n",
       "765    72\n",
       "766    60\n",
       "767    70\n",
       "Name: BloodPressure, Length: 768, dtype: int64"
      ]
     },
     "execution_count": 61,
     "metadata": {},
     "output_type": "execute_result"
    }
   ],
   "source": [
    "df[\"BloodPressure\"]"
   ]
  },
  {
   "cell_type": "code",
   "execution_count": 62,
   "id": "962dfd50",
   "metadata": {},
   "outputs": [
    {
     "data": {
      "text/plain": [
       "('The outliers are',\n",
       " [0,\n",
       "  0,\n",
       "  0,\n",
       "  0,\n",
       "  0,\n",
       "  0,\n",
       "  0,\n",
       "  0,\n",
       "  0,\n",
       "  0,\n",
       "  0,\n",
       "  0,\n",
       "  0,\n",
       "  0,\n",
       "  0,\n",
       "  0,\n",
       "  0,\n",
       "  0,\n",
       "  0,\n",
       "  0,\n",
       "  0,\n",
       "  0,\n",
       "  0,\n",
       "  0,\n",
       "  0,\n",
       "  0,\n",
       "  0,\n",
       "  0,\n",
       "  0,\n",
       "  0,\n",
       "  0,\n",
       "  0,\n",
       "  0,\n",
       "  0,\n",
       "  0])"
      ]
     },
     "execution_count": 62,
     "metadata": {},
     "output_type": "execute_result"
    }
   ],
   "source": [
    "outlier_BloodPressure(df[\"BloodPressure\"])"
   ]
  },
  {
   "cell_type": "code",
   "execution_count": 63,
   "id": "3736ec38",
   "metadata": {},
   "outputs": [
    {
     "data": {
      "text/plain": [
       "7      0\n",
       "15     0\n",
       "49     0\n",
       "60     0\n",
       "78     0\n",
       "81     0\n",
       "172    0\n",
       "193    0\n",
       "222    0\n",
       "261    0\n",
       "266    0\n",
       "269    0\n",
       "300    0\n",
       "332    0\n",
       "336    0\n",
       "347    0\n",
       "357    0\n",
       "426    0\n",
       "430    0\n",
       "435    0\n",
       "453    0\n",
       "468    0\n",
       "484    0\n",
       "494    0\n",
       "522    0\n",
       "533    0\n",
       "535    0\n",
       "589    0\n",
       "601    0\n",
       "604    0\n",
       "619    0\n",
       "643    0\n",
       "697    0\n",
       "703    0\n",
       "706    0\n",
       "Name: BloodPressure, dtype: int64"
      ]
     },
     "execution_count": 63,
     "metadata": {},
     "output_type": "execute_result"
    }
   ],
   "source": [
    "df[\"BloodPressure\"].loc[df[\"BloodPressure\"]== 0]"
   ]
  },
  {
   "cell_type": "code",
   "execution_count": 64,
   "id": "cc758c42",
   "metadata": {},
   "outputs": [],
   "source": [
    "outlier_index_BloodPressure=[7,15,49,60,78,81,172,193,222,261,266,269,300,332,\n",
    "                             336,347,357,426,430,435,453,468,484,494,522,533,\n",
    "                            535,589,601,604,619,643,697,703,706]"
   ]
  },
  {
   "cell_type": "code",
   "execution_count": 65,
   "id": "cdb3d98e",
   "metadata": {},
   "outputs": [],
   "source": [
    "#SkinThickness"
   ]
  },
  {
   "cell_type": "code",
   "execution_count": 66,
   "id": "db7df91b",
   "metadata": {},
   "outputs": [
    {
     "name": "stderr",
     "output_type": "stream",
     "text": [
      "C:\\Users\\hp\\AppData\\Local\\Programs\\Python\\Python39\\lib\\site-packages\\seaborn\\_decorators.py:36: FutureWarning: Pass the following variable as a keyword arg: x. From version 0.12, the only valid positional argument will be `data`, and passing other arguments without an explicit keyword will result in an error or misinterpretation.\n",
      "  warnings.warn(\n"
     ]
    },
    {
     "data": {
      "text/plain": [
       "<AxesSubplot:xlabel='SkinThickness'>"
      ]
     },
     "execution_count": 66,
     "metadata": {},
     "output_type": "execute_result"
    },
    {
     "data": {
      "image/png": "[encoded data removed]",
      "text/plain": [
       "<Figure size 432x288 with 1 Axes>"
      ]
     },
     "metadata": {
      "needs_background": "light"
     },
     "output_type": "display_data"
    }
   ],
   "source": [
    "sns.boxplot(df[\"SkinThickness\"])"
   ]
  },
  {
   "cell_type": "code",
   "execution_count": 67,
   "id": "cea56476",
   "metadata": {},
   "outputs": [],
   "source": [
    "outliers_SkinThickness=[]\n",
    "threshold=3\n",
    "def outlier_SkinThickness(data):\n",
    "    mean=np.mean(data.values)\n",
    "    std=np.std(data.values)\n",
    "    for i in data.values:\n",
    "        z_score= (i-mean)/std\n",
    "        if abs(z_score) > threshold:\n",
    "            outliers_SkinThickness.append(i)\n",
    "    return \"The outliers are\",outliers_SkinThickness"
   ]
  },
  {
   "cell_type": "code",
   "execution_count": 68,
   "id": "e92c3ef3",
   "metadata": {},
   "outputs": [
    {
     "data": {
      "text/plain": [
       "('The outliers are', [99])"
      ]
     },
     "execution_count": 68,
     "metadata": {},
     "output_type": "execute_result"
    }
   ],
   "source": [
    "outlier_SkinThickness(df[\"SkinThickness\"])"
   ]
  },
  {
   "cell_type": "code",
   "execution_count": 69,
   "id": "5eb9c6f1",
   "metadata": {},
   "outputs": [
    {
     "data": {
      "text/plain": [
       "579    99\n",
       "Name: SkinThickness, dtype: int64"
      ]
     },
     "execution_count": 69,
     "metadata": {},
     "output_type": "execute_result"
    }
   ],
   "source": [
    "df[\"SkinThickness\"].loc[df[\"SkinThickness\"]==99]"
   ]
  },
  {
   "cell_type": "code",
   "execution_count": 70,
   "id": "3fbb8628",
   "metadata": {},
   "outputs": [],
   "source": [
    "outlier_index_SkinThickness=[579]"
   ]
  },
  {
   "cell_type": "code",
   "execution_count": 71,
   "id": "006aefe6",
   "metadata": {},
   "outputs": [],
   "source": [
    "#Insulin"
   ]
  },
  {
   "cell_type": "code",
   "execution_count": 72,
   "id": "c5ef1fbc",
   "metadata": {},
   "outputs": [
    {
     "name": "stderr",
     "output_type": "stream",
     "text": [
      "C:\\Users\\hp\\AppData\\Local\\Programs\\Python\\Python39\\lib\\site-packages\\seaborn\\_decorators.py:36: FutureWarning: Pass the following variable as a keyword arg: x. From version 0.12, the only valid positional argument will be `data`, and passing other arguments without an explicit keyword will result in an error or misinterpretation.\n",
      "  warnings.warn(\n"
     ]
    },
    {
     "data": {
      "text/plain": [
       "<AxesSubplot:xlabel='Insulin'>"
      ]
     },
     "execution_count": 72,
     "metadata": {},
     "output_type": "execute_result"
    },
    {
     "data": {
      "image/png": "[encoded data removed]",
      "text/plain": [
       "<Figure size 432x288 with 1 Axes>"
      ]
     },
     "metadata": {
      "needs_background": "light"
     },
     "output_type": "display_data"
    }
   ],
   "source": [
    "sns.boxplot(df[\"Insulin\"])"
   ]
  },
  {
   "cell_type": "code",
   "execution_count": 73,
   "id": "05925dee",
   "metadata": {},
   "outputs": [],
   "source": [
    "outliers_Insulin=[]\n",
    "threshold=3\n",
    "def outlier_Insulin(data):\n",
    "    mean=np.mean(data.values)\n",
    "    std=np.std(data.values)\n",
    "    for i in data.values:\n",
    "        z_score= (i-mean)/std\n",
    "        if abs(z_score) > threshold:\n",
    "            outliers_Insulin.append(i)\n",
    "    return \"The outliers are\",outliers_Insulin"
   ]
  },
  {
   "cell_type": "code",
   "execution_count": 74,
   "id": "385a063a",
   "metadata": {},
   "outputs": [
    {
     "data": {
      "text/plain": [
       "('The outliers are',\n",
       " [543,\n",
       "  846,\n",
       "  495,\n",
       "  485,\n",
       "  495,\n",
       "  478,\n",
       "  744,\n",
       "  680,\n",
       "  545,\n",
       "  465,\n",
       "  579,\n",
       "  474,\n",
       "  480,\n",
       "  600,\n",
       "  440,\n",
       "  540,\n",
       "  480,\n",
       "  510])"
      ]
     },
     "execution_count": 74,
     "metadata": {},
     "output_type": "execute_result"
    }
   ],
   "source": [
    "outlier_Insulin(df[\"Insulin\"])"
   ]
  },
  {
   "cell_type": "code",
   "execution_count": 75,
   "id": "7d0924e0",
   "metadata": {},
   "outputs": [
    {
     "data": {
      "text/plain": [
       "[8    543\n",
       " Name: Insulin, dtype: int64,\n",
       " 13    846\n",
       " Name: Insulin, dtype: int64,\n",
       " 111    495\n",
       " 186    495\n",
       " Name: Insulin, dtype: int64,\n",
       " 153    485\n",
       " Name: Insulin, dtype: int64,\n",
       " 111    495\n",
       " 186    495\n",
       " Name: Insulin, dtype: int64,\n",
       " 220    478\n",
       " Name: Insulin, dtype: int64,\n",
       " 228    744\n",
       " Name: Insulin, dtype: int64,\n",
       " 247    680\n",
       " Name: Insulin, dtype: int64,\n",
       " 286    545\n",
       " Name: Insulin, dtype: int64,\n",
       " 370    465\n",
       " Name: Insulin, dtype: int64,\n",
       " 409    579\n",
       " Name: Insulin, dtype: int64,\n",
       " 415    474\n",
       " Name: Insulin, dtype: int64,\n",
       " 486    480\n",
       " 695    480\n",
       " Name: Insulin, dtype: int64,\n",
       " 584    600\n",
       " Name: Insulin, dtype: int64,\n",
       " 645    440\n",
       " Name: Insulin, dtype: int64,\n",
       " 655    540\n",
       " Name: Insulin, dtype: int64,\n",
       " 486    480\n",
       " 695    480\n",
       " Name: Insulin, dtype: int64,\n",
       " 753    510\n",
       " Name: Insulin, dtype: int64]"
      ]
     },
     "execution_count": 75,
     "metadata": {},
     "output_type": "execute_result"
    }
   ],
   "source": [
    "outlier_index_Insulin=[]\n",
    "for i in outliers_Insulin:\n",
    "    a=df[\"Insulin\"].loc[df[\"Insulin\"]==i]\n",
    "    outlier_index_Insulin.append(a)\n",
    "outlier_index_Insulin"
   ]
  },
  {
   "cell_type": "code",
   "execution_count": 76,
   "id": "2e4170ba",
   "metadata": {},
   "outputs": [],
   "source": [
    "outlier_index_Insulin=[8,13,111,153,186,220,228,247,286,370,409,415,486,584,645,584,645,655,486,695,753]"
   ]
  },
  {
   "cell_type": "code",
   "execution_count": 77,
   "id": "eea1343e",
   "metadata": {},
   "outputs": [],
   "source": [
    "#BMI"
   ]
  },
  {
   "cell_type": "code",
   "execution_count": 78,
   "id": "0baaa7d5",
   "metadata": {},
   "outputs": [
    {
     "name": "stderr",
     "output_type": "stream",
     "text": [
      "C:\\Users\\hp\\AppData\\Local\\Programs\\Python\\Python39\\lib\\site-packages\\seaborn\\_decorators.py:36: FutureWarning: Pass the following variable as a keyword arg: x. From version 0.12, the only valid positional argument will be `data`, and passing other arguments without an explicit keyword will result in an error or misinterpretation.\n",
      "  warnings.warn(\n"
     ]
    },
    {
     "data": {
      "text/plain": [
       "<AxesSubplot:xlabel='BMI'>"
      ]
     },
     "execution_count": 78,
     "metadata": {},
     "output_type": "execute_result"
    },
    {
     "data": {
      "image/png": "[encoded data removed]",
      "text/plain": [
       "<Figure size 432x288 with 1 Axes>"
      ]
     },
     "metadata": {
      "needs_background": "light"
     },
     "output_type": "display_data"
    }
   ],
   "source": [
    "sns.boxplot(df[\"BMI\"])"
   ]
  },
  {
   "cell_type": "code",
   "execution_count": 79,
   "id": "fb11a5b9",
   "metadata": {},
   "outputs": [],
   "source": [
    "outliers_BMI=[]\n",
    "threshold=3\n",
    "def outlier_BMI(data):\n",
    "    mean=np.mean(data.values)\n",
    "    std=np.std(data.values)\n",
    "    for i in data.values:\n",
    "        z_score= (i-mean)/std\n",
    "        if abs(z_score) > threshold:\n",
    "            outliers_BMI.append(i)\n",
    "    return \"The outliers are\",outliers_BMI"
   ]
  },
  {
   "cell_type": "code",
   "execution_count": 80,
   "id": "d7e097c4",
   "metadata": {},
   "outputs": [
    {
     "data": {
      "text/plain": [
       "('The outliers are',\n",
       " [0.0, 0.0, 0.0, 0.0, 0.0, 67.1, 0.0, 0.0, 59.4, 0.0, 0.0, 57.3, 0.0, 0.0])"
      ]
     },
     "execution_count": 80,
     "metadata": {},
     "output_type": "execute_result"
    }
   ],
   "source": [
    "outlier_BMI(df[\"BMI\"])"
   ]
  },
  {
   "cell_type": "code",
   "execution_count": 81,
   "id": "771c9251",
   "metadata": {},
   "outputs": [
    {
     "data": {
      "text/plain": [
       "[9      0.0\n",
       " 49     0.0\n",
       " 60     0.0\n",
       " 81     0.0\n",
       " 145    0.0\n",
       " 371    0.0\n",
       " 426    0.0\n",
       " 494    0.0\n",
       " 522    0.0\n",
       " 684    0.0\n",
       " 706    0.0\n",
       " Name: BMI, dtype: float64,\n",
       " 9      0.0\n",
       " 49     0.0\n",
       " 60     0.0\n",
       " 81     0.0\n",
       " 145    0.0\n",
       " 371    0.0\n",
       " 426    0.0\n",
       " 494    0.0\n",
       " 522    0.0\n",
       " 684    0.0\n",
       " 706    0.0\n",
       " Name: BMI, dtype: float64,\n",
       " 9      0.0\n",
       " 49     0.0\n",
       " 60     0.0\n",
       " 81     0.0\n",
       " 145    0.0\n",
       " 371    0.0\n",
       " 426    0.0\n",
       " 494    0.0\n",
       " 522    0.0\n",
       " 684    0.0\n",
       " 706    0.0\n",
       " Name: BMI, dtype: float64,\n",
       " 9      0.0\n",
       " 49     0.0\n",
       " 60     0.0\n",
       " 81     0.0\n",
       " 145    0.0\n",
       " 371    0.0\n",
       " 426    0.0\n",
       " 494    0.0\n",
       " 522    0.0\n",
       " 684    0.0\n",
       " 706    0.0\n",
       " Name: BMI, dtype: float64,\n",
       " 9      0.0\n",
       " 49     0.0\n",
       " 60     0.0\n",
       " 81     0.0\n",
       " 145    0.0\n",
       " 371    0.0\n",
       " 426    0.0\n",
       " 494    0.0\n",
       " 522    0.0\n",
       " 684    0.0\n",
       " 706    0.0\n",
       " Name: BMI, dtype: float64,\n",
       " 177    67.1\n",
       " Name: BMI, dtype: float64,\n",
       " 9      0.0\n",
       " 49     0.0\n",
       " 60     0.0\n",
       " 81     0.0\n",
       " 145    0.0\n",
       " 371    0.0\n",
       " 426    0.0\n",
       " 494    0.0\n",
       " 522    0.0\n",
       " 684    0.0\n",
       " 706    0.0\n",
       " Name: BMI, dtype: float64,\n",
       " 9      0.0\n",
       " 49     0.0\n",
       " 60     0.0\n",
       " 81     0.0\n",
       " 145    0.0\n",
       " 371    0.0\n",
       " 426    0.0\n",
       " 494    0.0\n",
       " 522    0.0\n",
       " 684    0.0\n",
       " 706    0.0\n",
       " Name: BMI, dtype: float64,\n",
       " 445    59.4\n",
       " Name: BMI, dtype: float64,\n",
       " 9      0.0\n",
       " 49     0.0\n",
       " 60     0.0\n",
       " 81     0.0\n",
       " 145    0.0\n",
       " 371    0.0\n",
       " 426    0.0\n",
       " 494    0.0\n",
       " 522    0.0\n",
       " 684    0.0\n",
       " 706    0.0\n",
       " Name: BMI, dtype: float64,\n",
       " 9      0.0\n",
       " 49     0.0\n",
       " 60     0.0\n",
       " 81     0.0\n",
       " 145    0.0\n",
       " 371    0.0\n",
       " 426    0.0\n",
       " 494    0.0\n",
       " 522    0.0\n",
       " 684    0.0\n",
       " 706    0.0\n",
       " Name: BMI, dtype: float64,\n",
       " 673    57.3\n",
       " Name: BMI, dtype: float64,\n",
       " 9      0.0\n",
       " 49     0.0\n",
       " 60     0.0\n",
       " 81     0.0\n",
       " 145    0.0\n",
       " 371    0.0\n",
       " 426    0.0\n",
       " 494    0.0\n",
       " 522    0.0\n",
       " 684    0.0\n",
       " 706    0.0\n",
       " Name: BMI, dtype: float64,\n",
       " 9      0.0\n",
       " 49     0.0\n",
       " 60     0.0\n",
       " 81     0.0\n",
       " 145    0.0\n",
       " 371    0.0\n",
       " 426    0.0\n",
       " 494    0.0\n",
       " 522    0.0\n",
       " 684    0.0\n",
       " 706    0.0\n",
       " Name: BMI, dtype: float64]"
      ]
     },
     "execution_count": 81,
     "metadata": {},
     "output_type": "execute_result"
    }
   ],
   "source": [
    "outlier_index_BMI=[]\n",
    "for i in outliers_BMI:\n",
    "    a= df[\"BMI\"].loc[df[\"BMI\"]==i]\n",
    "    outlier_index_BMI.append(a)\n",
    "outlier_index_BMI"
   ]
  },
  {
   "cell_type": "code",
   "execution_count": 82,
   "id": "23185972",
   "metadata": {},
   "outputs": [],
   "source": [
    "outlier_index_BMI=[9,49,60,81,145,371,426,494,522,684,706]"
   ]
  },
  {
   "cell_type": "code",
   "execution_count": null,
   "id": "aec89201",
   "metadata": {},
   "outputs": [],
   "source": []
  },
  {
   "cell_type": "code",
   "execution_count": 83,
   "id": "aad9017c",
   "metadata": {},
   "outputs": [],
   "source": [
    "#Age"
   ]
  },
  {
   "cell_type": "code",
   "execution_count": 84,
   "id": "5986c2ef",
   "metadata": {},
   "outputs": [
    {
     "name": "stderr",
     "output_type": "stream",
     "text": [
      "C:\\Users\\hp\\AppData\\Local\\Programs\\Python\\Python39\\lib\\site-packages\\seaborn\\_decorators.py:36: FutureWarning: Pass the following variable as a keyword arg: x. From version 0.12, the only valid positional argument will be `data`, and passing other arguments without an explicit keyword will result in an error or misinterpretation.\n",
      "  warnings.warn(\n"
     ]
    },
    {
     "data": {
      "text/plain": [
       "<AxesSubplot:xlabel='Age'>"
      ]
     },
     "execution_count": 84,
     "metadata": {},
     "output_type": "execute_result"
    },
    {
     "data": {
      "image/png": "[encoded data removed]",
      "text/plain": [
       "<Figure size 432x288 with 1 Axes>"
      ]
     },
     "metadata": {
      "needs_background": "light"
     },
     "output_type": "display_data"
    }
   ],
   "source": [
    "sns.boxplot(df[\"Age\"])"
   ]
  },
  {
   "cell_type": "code",
   "execution_count": 85,
   "id": "4d808023",
   "metadata": {},
   "outputs": [],
   "source": [
    "outliers_Age=[]\n",
    "threshold=3\n",
    "def outlier_Age(data):\n",
    "    mean=np.mean(data.values)\n",
    "    std=np.std(data.values)\n",
    "    for i in data.values:\n",
    "        z_score= (i-mean)/std\n",
    "        if abs(z_score) > threshold:\n",
    "            outliers_Age.append(i)\n",
    "    return \"The outliers are\",outliers_Age"
   ]
  },
  {
   "cell_type": "code",
   "execution_count": 86,
   "id": "fab13358",
   "metadata": {},
   "outputs": [
    {
     "data": {
      "text/plain": [
       "('The outliers are', [69, 72, 81, 70, 69])"
      ]
     },
     "execution_count": 86,
     "metadata": {},
     "output_type": "execute_result"
    }
   ],
   "source": [
    "outlier_Age(df[\"Age\"])"
   ]
  },
  {
   "cell_type": "code",
   "execution_count": 87,
   "id": "4edd2676",
   "metadata": {},
   "outputs": [
    {
     "data": {
      "text/plain": [
       "[123    69\n",
       " 684    69\n",
       " Name: Age, dtype: int64,\n",
       " 453    72\n",
       " Name: Age, dtype: int64,\n",
       " 459    81\n",
       " Name: Age, dtype: int64,\n",
       " 666    70\n",
       " Name: Age, dtype: int64,\n",
       " 123    69\n",
       " 684    69\n",
       " Name: Age, dtype: int64]"
      ]
     },
     "execution_count": 87,
     "metadata": {},
     "output_type": "execute_result"
    }
   ],
   "source": [
    "outlier_index_Age=[]\n",
    "for i in outliers_Age:\n",
    "    a=df[\"Age\"].loc[df[\"Age\"]==i]\n",
    "    outlier_index_Age.append(a)\n",
    "outlier_index_Age"
   ]
  },
  {
   "cell_type": "code",
   "execution_count": 88,
   "id": "55abf483",
   "metadata": {},
   "outputs": [],
   "source": [
    "outlier_index_Age=[123,684,453,459,666,]"
   ]
  },
  {
   "cell_type": "markdown",
   "id": "3db06ee8",
   "metadata": {},
   "source": [
    "##### Merging all the outlier index lists into a universal outlier list "
   ]
  },
  {
   "cell_type": "code",
   "execution_count": 89,
   "id": "6a26bd8f",
   "metadata": {},
   "outputs": [],
   "source": [
    "universal_outlier_indexes= outlier_index_Pregnancies + outlier_index_DiabetesPedigreeFunction + outlier_index_Glucose + outlier_index_BloodPressure + outlier_index_SkinThickness + outlier_index_Insulin + outlier_index_BMI + outlier_index_Age                              \n",
    "                                                                "
   ]
  },
  {
   "cell_type": "code",
   "execution_count": 90,
   "id": "afba1516",
   "metadata": {},
   "outputs": [],
   "source": [
    "universal_outlier_indexes=set(universal_outlier_indexes)"
   ]
  },
  {
   "cell_type": "code",
   "execution_count": 91,
   "id": "e9242202",
   "metadata": {
    "scrolled": true
   },
   "outputs": [
    {
     "data": {
      "text/plain": [
       "{4,\n",
       " 7,\n",
       " 8,\n",
       " 9,\n",
       " 13,\n",
       " 15,\n",
       " 45,\n",
       " 49,\n",
       " 58,\n",
       " 60,\n",
       " 75,\n",
       " 78,\n",
       " 81,\n",
       " 111,\n",
       " 123,\n",
       " 145,\n",
       " 153,\n",
       " 172,\n",
       " 182,\n",
       " 186,\n",
       " 193,\n",
       " 220,\n",
       " 222,\n",
       " 228,\n",
       " 247,\n",
       " 261,\n",
       " 266,\n",
       " 269,\n",
       " 281,\n",
       " 286,\n",
       " 300,\n",
       " 332,\n",
       " 336,\n",
       " 342,\n",
       " 347,\n",
       " 349,\n",
       " 357,\n",
       " 370,\n",
       " 371,\n",
       " 395,\n",
       " 409,\n",
       " 415,\n",
       " 426,\n",
       " 430,\n",
       " 435,\n",
       " 445,\n",
       " 453,\n",
       " 459,\n",
       " 468,\n",
       " 479,\n",
       " 484,\n",
       " 486,\n",
       " 494,\n",
       " 502,\n",
       " 522,\n",
       " 533,\n",
       " 535,\n",
       " 579,\n",
       " 584,\n",
       " 589,\n",
       " 593,\n",
       " 601,\n",
       " 604,\n",
       " 619,\n",
       " 621,\n",
       " 643,\n",
       " 645,\n",
       " 655,\n",
       " 666,\n",
       " 684,\n",
       " 695,\n",
       " 697,\n",
       " 703,\n",
       " 706,\n",
       " 753}"
      ]
     },
     "execution_count": 91,
     "metadata": {},
     "output_type": "execute_result"
    }
   ],
   "source": [
    "universal_outlier_indexes"
   ]
  },
  {
   "cell_type": "code",
   "execution_count": 92,
   "id": "de2a0792",
   "metadata": {},
   "outputs": [
    {
     "name": "stdout",
     "output_type": "stream",
     "text": [
      "75\n"
     ]
    }
   ],
   "source": [
    "print(len(universal_outlier_indexes))"
   ]
  },
  {
   "cell_type": "code",
   "execution_count": 93,
   "id": "1f2910dd",
   "metadata": {},
   "outputs": [],
   "source": [
    "def remove_outlier_indexes(index_list):\n",
    "    for i in index_list:\n",
    "        df.drop(i,axis=0,inplace=True)\n",
    "remove_outlier_indexes(universal_outlier_indexes)"
   ]
  },
  {
   "cell_type": "code",
   "execution_count": 94,
   "id": "5fe86894",
   "metadata": {},
   "outputs": [
    {
     "data": {
      "text/plain": [
       "(693, 9)"
      ]
     },
     "execution_count": 94,
     "metadata": {},
     "output_type": "execute_result"
    }
   ],
   "source": [
    "df.shape"
   ]
  },
  {
   "cell_type": "code",
   "execution_count": 95,
   "id": "ce690d2a",
   "metadata": {},
   "outputs": [
    {
     "data": {
      "text/html": [
       "<div>\n",
       "<style scoped>\n",
       "    .dataframe tbody tr th:only-of-type {\n",
       "        vertical-align: middle;\n",
       "    }\n",
       "\n",
       "    .dataframe tbody tr th {\n",
       "        vertical-align: top;\n",
       "    }\n",
       "\n",
       "    .dataframe thead th {\n",
       "        text-align: right;\n",
       "    }\n",
       "</style>\n",
       "<table border=\"1\" class=\"dataframe\">\n",
       "  <thead>\n",
       "    <tr style=\"text-align: right;\">\n",
       "      <th></th>\n",
       "      <th>Pregnancies</th>\n",
       "      <th>Glucose</th>\n",
       "      <th>BloodPressure</th>\n",
       "      <th>SkinThickness</th>\n",
       "      <th>Insulin</th>\n",
       "      <th>BMI</th>\n",
       "      <th>DiabetesPedigreeFunction</th>\n",
       "      <th>Age</th>\n",
       "      <th>Outcome</th>\n",
       "    </tr>\n",
       "  </thead>\n",
       "  <tbody>\n",
       "    <tr>\n",
       "      <th>0</th>\n",
       "      <td>6</td>\n",
       "      <td>148</td>\n",
       "      <td>72</td>\n",
       "      <td>35</td>\n",
       "      <td>0</td>\n",
       "      <td>33.6</td>\n",
       "      <td>0.627</td>\n",
       "      <td>50</td>\n",
       "      <td>1</td>\n",
       "    </tr>\n",
       "    <tr>\n",
       "      <th>1</th>\n",
       "      <td>1</td>\n",
       "      <td>85</td>\n",
       "      <td>66</td>\n",
       "      <td>29</td>\n",
       "      <td>0</td>\n",
       "      <td>26.6</td>\n",
       "      <td>0.351</td>\n",
       "      <td>31</td>\n",
       "      <td>0</td>\n",
       "    </tr>\n",
       "    <tr>\n",
       "      <th>2</th>\n",
       "      <td>8</td>\n",
       "      <td>183</td>\n",
       "      <td>64</td>\n",
       "      <td>0</td>\n",
       "      <td>0</td>\n",
       "      <td>23.3</td>\n",
       "      <td>0.672</td>\n",
       "      <td>32</td>\n",
       "      <td>1</td>\n",
       "    </tr>\n",
       "    <tr>\n",
       "      <th>3</th>\n",
       "      <td>1</td>\n",
       "      <td>89</td>\n",
       "      <td>66</td>\n",
       "      <td>23</td>\n",
       "      <td>94</td>\n",
       "      <td>28.1</td>\n",
       "      <td>0.167</td>\n",
       "      <td>21</td>\n",
       "      <td>0</td>\n",
       "    </tr>\n",
       "    <tr>\n",
       "      <th>5</th>\n",
       "      <td>5</td>\n",
       "      <td>116</td>\n",
       "      <td>74</td>\n",
       "      <td>0</td>\n",
       "      <td>0</td>\n",
       "      <td>25.6</td>\n",
       "      <td>0.201</td>\n",
       "      <td>30</td>\n",
       "      <td>0</td>\n",
       "    </tr>\n",
       "  </tbody>\n",
       "</table>\n",
       "</div>"
      ],
      "text/plain": [
       "   Pregnancies  Glucose  BloodPressure  SkinThickness  Insulin   BMI  \\\n",
       "0            6      148             72             35        0  33.6   \n",
       "1            1       85             66             29        0  26.6   \n",
       "2            8      183             64              0        0  23.3   \n",
       "3            1       89             66             23       94  28.1   \n",
       "5            5      116             74              0        0  25.6   \n",
       "\n",
       "   DiabetesPedigreeFunction  Age  Outcome  \n",
       "0                     0.627   50        1  \n",
       "1                     0.351   31        0  \n",
       "2                     0.672   32        1  \n",
       "3                     0.167   21        0  \n",
       "5                     0.201   30        0  "
      ]
     },
     "execution_count": 95,
     "metadata": {},
     "output_type": "execute_result"
    }
   ],
   "source": [
    "df.head()"
   ]
  },
  {
   "cell_type": "code",
   "execution_count": null,
   "id": "2129b671",
   "metadata": {},
   "outputs": [],
   "source": []
  },
  {
   "cell_type": "code",
   "execution_count": null,
   "id": "d561186e",
   "metadata": {},
   "outputs": [],
   "source": []
  },
  {
   "cell_type": "markdown",
   "id": "385f5431",
   "metadata": {},
   "source": [
    "### Breaking the dataset into training and testing "
   ]
  },
  {
   "cell_type": "code",
   "execution_count": null,
   "id": "aac8be64",
   "metadata": {},
   "outputs": [],
   "source": []
  },
  {
   "cell_type": "code",
   "execution_count": null,
   "id": "a537693a",
   "metadata": {},
   "outputs": [],
   "source": []
  },
  {
   "cell_type": "code",
   "execution_count": 96,
   "id": "ef8440d0",
   "metadata": {},
   "outputs": [
    {
     "data": {
      "text/plain": [
       "'from sklearn.model_selection import train_test_split\\nx_train,x_test,Y_train,Y_test=train_test_split(x,Y,test_size=0.2,random_state=42)\\nprint(x_train.shape,x_test.shape,Y_train.shape,Y_test.shape)'"
      ]
     },
     "execution_count": 96,
     "metadata": {},
     "output_type": "execute_result"
    }
   ],
   "source": [
    "'''from sklearn.model_selection import train_test_split\n",
    "x_train,x_test,Y_train,Y_test=train_test_split(x,Y,test_size=0.2,random_state=42)\n",
    "print(x_train.shape,x_test.shape,Y_train.shape,Y_test.shape)'''"
   ]
  },
  {
   "cell_type": "code",
   "execution_count": 97,
   "id": "80a35cab",
   "metadata": {},
   "outputs": [
    {
     "data": {
      "text/plain": [
       "'df_train=pd.concat([x_train,Y_train],axis=1)\\ndf_test=pd.concat([x_test,Y_test],axis=1)'"
      ]
     },
     "execution_count": 97,
     "metadata": {},
     "output_type": "execute_result"
    }
   ],
   "source": [
    "'''df_train=pd.concat([x_train,Y_train],axis=1)\n",
    "df_test=pd.concat([x_test,Y_test],axis=1)'''"
   ]
  },
  {
   "cell_type": "code",
   "execution_count": 98,
   "id": "875a78d0",
   "metadata": {},
   "outputs": [
    {
     "data": {
      "text/plain": [
       "'df_train.to_csv(\"diabetes_train.csv\")\\ndf_test.to_csv(\"diabetes_test.csv\")'"
      ]
     },
     "execution_count": 98,
     "metadata": {},
     "output_type": "execute_result"
    }
   ],
   "source": [
    "'''df_train.to_csv(\"diabetes_train.csv\")\n",
    "df_test.to_csv(\"diabetes_test.csv\")'''"
   ]
  },
  {
   "cell_type": "code",
   "execution_count": 99,
   "id": "c7258ae6",
   "metadata": {},
   "outputs": [
    {
     "data": {
      "text/html": [
       "<div>\n",
       "<style scoped>\n",
       "    .dataframe tbody tr th:only-of-type {\n",
       "        vertical-align: middle;\n",
       "    }\n",
       "\n",
       "    .dataframe tbody tr th {\n",
       "        vertical-align: top;\n",
       "    }\n",
       "\n",
       "    .dataframe thead th {\n",
       "        text-align: right;\n",
       "    }\n",
       "</style>\n",
       "<table border=\"1\" class=\"dataframe\">\n",
       "  <thead>\n",
       "    <tr style=\"text-align: right;\">\n",
       "      <th></th>\n",
       "      <th>Pregnancies</th>\n",
       "      <th>Glucose</th>\n",
       "      <th>BloodPressure</th>\n",
       "      <th>SkinThickness</th>\n",
       "      <th>Insulin</th>\n",
       "      <th>BMI</th>\n",
       "      <th>DiabetesPedigreeFunction</th>\n",
       "      <th>Age</th>\n",
       "      <th>Outcome</th>\n",
       "    </tr>\n",
       "  </thead>\n",
       "  <tbody>\n",
       "    <tr>\n",
       "      <th>0</th>\n",
       "      <td>6</td>\n",
       "      <td>148</td>\n",
       "      <td>72</td>\n",
       "      <td>35</td>\n",
       "      <td>0</td>\n",
       "      <td>33.6</td>\n",
       "      <td>0.627</td>\n",
       "      <td>50</td>\n",
       "      <td>1</td>\n",
       "    </tr>\n",
       "    <tr>\n",
       "      <th>1</th>\n",
       "      <td>1</td>\n",
       "      <td>85</td>\n",
       "      <td>66</td>\n",
       "      <td>29</td>\n",
       "      <td>0</td>\n",
       "      <td>26.6</td>\n",
       "      <td>0.351</td>\n",
       "      <td>31</td>\n",
       "      <td>0</td>\n",
       "    </tr>\n",
       "    <tr>\n",
       "      <th>2</th>\n",
       "      <td>8</td>\n",
       "      <td>183</td>\n",
       "      <td>64</td>\n",
       "      <td>0</td>\n",
       "      <td>0</td>\n",
       "      <td>23.3</td>\n",
       "      <td>0.672</td>\n",
       "      <td>32</td>\n",
       "      <td>1</td>\n",
       "    </tr>\n",
       "    <tr>\n",
       "      <th>3</th>\n",
       "      <td>1</td>\n",
       "      <td>89</td>\n",
       "      <td>66</td>\n",
       "      <td>23</td>\n",
       "      <td>94</td>\n",
       "      <td>28.1</td>\n",
       "      <td>0.167</td>\n",
       "      <td>21</td>\n",
       "      <td>0</td>\n",
       "    </tr>\n",
       "    <tr>\n",
       "      <th>5</th>\n",
       "      <td>5</td>\n",
       "      <td>116</td>\n",
       "      <td>74</td>\n",
       "      <td>0</td>\n",
       "      <td>0</td>\n",
       "      <td>25.6</td>\n",
       "      <td>0.201</td>\n",
       "      <td>30</td>\n",
       "      <td>0</td>\n",
       "    </tr>\n",
       "  </tbody>\n",
       "</table>\n",
       "</div>"
      ],
      "text/plain": [
       "   Pregnancies  Glucose  BloodPressure  SkinThickness  Insulin   BMI  \\\n",
       "0            6      148             72             35        0  33.6   \n",
       "1            1       85             66             29        0  26.6   \n",
       "2            8      183             64              0        0  23.3   \n",
       "3            1       89             66             23       94  28.1   \n",
       "5            5      116             74              0        0  25.6   \n",
       "\n",
       "   DiabetesPedigreeFunction  Age  Outcome  \n",
       "0                     0.627   50        1  \n",
       "1                     0.351   31        0  \n",
       "2                     0.672   32        1  \n",
       "3                     0.167   21        0  \n",
       "5                     0.201   30        0  "
      ]
     },
     "execution_count": 99,
     "metadata": {},
     "output_type": "execute_result"
    }
   ],
   "source": [
    "df.head()"
   ]
  },
  {
   "cell_type": "code",
   "execution_count": null,
   "id": "03b92a3d",
   "metadata": {},
   "outputs": [],
   "source": []
  },
  {
   "cell_type": "markdown",
   "id": "c39d4ae2",
   "metadata": {},
   "source": [
    "### Null Values"
   ]
  },
  {
   "cell_type": "code",
   "execution_count": 100,
   "id": "148248d8",
   "metadata": {},
   "outputs": [
    {
     "data": {
      "text/plain": [
       "Pregnancies                 0\n",
       "Glucose                     0\n",
       "BloodPressure               0\n",
       "SkinThickness               0\n",
       "Insulin                     0\n",
       "BMI                         0\n",
       "DiabetesPedigreeFunction    0\n",
       "Age                         0\n",
       "Outcome                     0\n",
       "dtype: int64"
      ]
     },
     "execution_count": 100,
     "metadata": {},
     "output_type": "execute_result"
    }
   ],
   "source": [
    "df.isnull().sum()"
   ]
  },
  {
   "cell_type": "markdown",
   "id": "36d3ca46",
   "metadata": {},
   "source": [
    "### Feature Scaling"
   ]
  },
  {
   "cell_type": "markdown",
   "id": "3bc87f34",
   "metadata": {},
   "source": [
    "scaling down: glucose, blood pressure, SkinThickness, Insulin, BMI, Age"
   ]
  },
  {
   "cell_type": "markdown",
   "id": "e15be374",
   "metadata": {},
   "source": [
    "choosing standard scalar"
   ]
  },
  {
   "cell_type": "code",
   "execution_count": 101,
   "id": "d71d5c15",
   "metadata": {},
   "outputs": [
    {
     "data": {
      "text/plain": [
       "Index(['Pregnancies', 'Glucose', 'BloodPressure', 'SkinThickness', 'Insulin',\n",
       "       'BMI', 'DiabetesPedigreeFunction', 'Age', 'Outcome'],\n",
       "      dtype='object')"
      ]
     },
     "execution_count": 101,
     "metadata": {},
     "output_type": "execute_result"
    }
   ],
   "source": [
    "df.columns"
   ]
  },
  {
   "cell_type": "code",
   "execution_count": 102,
   "id": "350604e8",
   "metadata": {},
   "outputs": [],
   "source": [
    "from sklearn.preprocessing import StandardScaler\n",
    "scale=StandardScaler()\n",
    "df0=scale.fit_transform(df[['Glucose', 'BloodPressure', 'SkinThickness', 'Insulin',\n",
    "       'BMI','Age']])"
   ]
  },
  {
   "cell_type": "code",
   "execution_count": 103,
   "id": "85e947a2",
   "metadata": {},
   "outputs": [
    {
     "data": {
      "text/plain": [
       "array([[ 0.9194923 , -0.03262631,  0.91675653, -0.80931614,  0.18932948,\n",
       "         1.48540411],\n",
       "       [-1.18020509, -0.51712701,  0.52715374, -0.80931614, -0.83904059,\n",
       "        -0.18410643],\n",
       "       [ 2.08599085, -0.67862724, -1.35592638, -0.80931614, -1.32384362,\n",
       "        -0.09623745],\n",
       "       ...,\n",
       "       [ 0.01962199, -0.03262631,  0.13755096,  0.43355364, -0.89780459,\n",
       "        -0.2719754 ],\n",
       "       [ 0.18626464, -1.0016277 , -1.35592638, -0.80931614, -0.32485555,\n",
       "         1.22179719],\n",
       "       [-0.91357685, -0.19412654,  0.65702134, -0.80931614, -0.28078255,\n",
       "        -0.88705823]])"
      ]
     },
     "execution_count": 103,
     "metadata": {},
     "output_type": "execute_result"
    }
   ],
   "source": [
    "df0"
   ]
  },
  {
   "cell_type": "code",
   "execution_count": 104,
   "id": "dda589e9",
   "metadata": {},
   "outputs": [],
   "source": [
    "df_scaled_features=pd.DataFrame(df0)"
   ]
  },
  {
   "cell_type": "code",
   "execution_count": 105,
   "id": "a1f31151",
   "metadata": {},
   "outputs": [
    {
     "data": {
      "text/html": [
       "<div>\n",
       "<style scoped>\n",
       "    .dataframe tbody tr th:only-of-type {\n",
       "        vertical-align: middle;\n",
       "    }\n",
       "\n",
       "    .dataframe tbody tr th {\n",
       "        vertical-align: top;\n",
       "    }\n",
       "\n",
       "    .dataframe thead th {\n",
       "        text-align: right;\n",
       "    }\n",
       "</style>\n",
       "<table border=\"1\" class=\"dataframe\">\n",
       "  <thead>\n",
       "    <tr style=\"text-align: right;\">\n",
       "      <th></th>\n",
       "      <th>0</th>\n",
       "      <th>1</th>\n",
       "      <th>2</th>\n",
       "      <th>3</th>\n",
       "      <th>4</th>\n",
       "      <th>5</th>\n",
       "    </tr>\n",
       "  </thead>\n",
       "  <tbody>\n",
       "    <tr>\n",
       "      <th>0</th>\n",
       "      <td>0.919492</td>\n",
       "      <td>-0.032626</td>\n",
       "      <td>0.916757</td>\n",
       "      <td>-0.809316</td>\n",
       "      <td>0.189329</td>\n",
       "      <td>1.485404</td>\n",
       "    </tr>\n",
       "    <tr>\n",
       "      <th>1</th>\n",
       "      <td>-1.180205</td>\n",
       "      <td>-0.517127</td>\n",
       "      <td>0.527154</td>\n",
       "      <td>-0.809316</td>\n",
       "      <td>-0.839041</td>\n",
       "      <td>-0.184106</td>\n",
       "    </tr>\n",
       "    <tr>\n",
       "      <th>2</th>\n",
       "      <td>2.085991</td>\n",
       "      <td>-0.678627</td>\n",
       "      <td>-1.355926</td>\n",
       "      <td>-0.809316</td>\n",
       "      <td>-1.323844</td>\n",
       "      <td>-0.096237</td>\n",
       "    </tr>\n",
       "    <tr>\n",
       "      <th>3</th>\n",
       "      <td>-1.046891</td>\n",
       "      <td>-0.517127</td>\n",
       "      <td>0.137551</td>\n",
       "      <td>0.233807</td>\n",
       "      <td>-0.618676</td>\n",
       "      <td>-1.062796</td>\n",
       "    </tr>\n",
       "    <tr>\n",
       "      <th>4</th>\n",
       "      <td>-0.147021</td>\n",
       "      <td>0.128874</td>\n",
       "      <td>-1.355926</td>\n",
       "      <td>-0.809316</td>\n",
       "      <td>-0.985951</td>\n",
       "      <td>-0.271975</td>\n",
       "    </tr>\n",
       "  </tbody>\n",
       "</table>\n",
       "</div>"
      ],
      "text/plain": [
       "          0         1         2         3         4         5\n",
       "0  0.919492 -0.032626  0.916757 -0.809316  0.189329  1.485404\n",
       "1 -1.180205 -0.517127  0.527154 -0.809316 -0.839041 -0.184106\n",
       "2  2.085991 -0.678627 -1.355926 -0.809316 -1.323844 -0.096237\n",
       "3 -1.046891 -0.517127  0.137551  0.233807 -0.618676 -1.062796\n",
       "4 -0.147021  0.128874 -1.355926 -0.809316 -0.985951 -0.271975"
      ]
     },
     "execution_count": 105,
     "metadata": {},
     "output_type": "execute_result"
    }
   ],
   "source": [
    "df_scaled_features.head()"
   ]
  },
  {
   "cell_type": "code",
   "execution_count": 106,
   "id": "41669bd7",
   "metadata": {},
   "outputs": [
    {
     "data": {
      "text/plain": [
       "0    0\n",
       "1    0\n",
       "2    0\n",
       "3    0\n",
       "4    0\n",
       "5    0\n",
       "dtype: int64"
      ]
     },
     "execution_count": 106,
     "metadata": {},
     "output_type": "execute_result"
    }
   ],
   "source": [
    "df_scaled_features.isnull().sum()"
   ]
  },
  {
   "cell_type": "code",
   "execution_count": 107,
   "id": "4c24bb42",
   "metadata": {},
   "outputs": [],
   "source": [
    "df_scaled_features.columns=['Glucose', 'BloodPressure', 'SkinThickness', 'Insulin','BMI','Age']"
   ]
  },
  {
   "cell_type": "code",
   "execution_count": 108,
   "id": "8d7ee86e",
   "metadata": {},
   "outputs": [
    {
     "data": {
      "text/html": [
       "<div>\n",
       "<style scoped>\n",
       "    .dataframe tbody tr th:only-of-type {\n",
       "        vertical-align: middle;\n",
       "    }\n",
       "\n",
       "    .dataframe tbody tr th {\n",
       "        vertical-align: top;\n",
       "    }\n",
       "\n",
       "    .dataframe thead th {\n",
       "        text-align: right;\n",
       "    }\n",
       "</style>\n",
       "<table border=\"1\" class=\"dataframe\">\n",
       "  <thead>\n",
       "    <tr style=\"text-align: right;\">\n",
       "      <th></th>\n",
       "      <th>Glucose</th>\n",
       "      <th>BloodPressure</th>\n",
       "      <th>SkinThickness</th>\n",
       "      <th>Insulin</th>\n",
       "      <th>BMI</th>\n",
       "      <th>Age</th>\n",
       "    </tr>\n",
       "  </thead>\n",
       "  <tbody>\n",
       "    <tr>\n",
       "      <th>0</th>\n",
       "      <td>0.919492</td>\n",
       "      <td>-0.032626</td>\n",
       "      <td>0.916757</td>\n",
       "      <td>-0.809316</td>\n",
       "      <td>0.189329</td>\n",
       "      <td>1.485404</td>\n",
       "    </tr>\n",
       "    <tr>\n",
       "      <th>1</th>\n",
       "      <td>-1.180205</td>\n",
       "      <td>-0.517127</td>\n",
       "      <td>0.527154</td>\n",
       "      <td>-0.809316</td>\n",
       "      <td>-0.839041</td>\n",
       "      <td>-0.184106</td>\n",
       "    </tr>\n",
       "    <tr>\n",
       "      <th>2</th>\n",
       "      <td>2.085991</td>\n",
       "      <td>-0.678627</td>\n",
       "      <td>-1.355926</td>\n",
       "      <td>-0.809316</td>\n",
       "      <td>-1.323844</td>\n",
       "      <td>-0.096237</td>\n",
       "    </tr>\n",
       "    <tr>\n",
       "      <th>3</th>\n",
       "      <td>-1.046891</td>\n",
       "      <td>-0.517127</td>\n",
       "      <td>0.137551</td>\n",
       "      <td>0.233807</td>\n",
       "      <td>-0.618676</td>\n",
       "      <td>-1.062796</td>\n",
       "    </tr>\n",
       "    <tr>\n",
       "      <th>4</th>\n",
       "      <td>-0.147021</td>\n",
       "      <td>0.128874</td>\n",
       "      <td>-1.355926</td>\n",
       "      <td>-0.809316</td>\n",
       "      <td>-0.985951</td>\n",
       "      <td>-0.271975</td>\n",
       "    </tr>\n",
       "  </tbody>\n",
       "</table>\n",
       "</div>"
      ],
      "text/plain": [
       "    Glucose  BloodPressure  SkinThickness   Insulin       BMI       Age\n",
       "0  0.919492      -0.032626       0.916757 -0.809316  0.189329  1.485404\n",
       "1 -1.180205      -0.517127       0.527154 -0.809316 -0.839041 -0.184106\n",
       "2  2.085991      -0.678627      -1.355926 -0.809316 -1.323844 -0.096237\n",
       "3 -1.046891      -0.517127       0.137551  0.233807 -0.618676 -1.062796\n",
       "4 -0.147021       0.128874      -1.355926 -0.809316 -0.985951 -0.271975"
      ]
     },
     "execution_count": 108,
     "metadata": {},
     "output_type": "execute_result"
    }
   ],
   "source": [
    "df_scaled_features.head()"
   ]
  },
  {
   "cell_type": "code",
   "execution_count": 109,
   "id": "c6ff25c8",
   "metadata": {},
   "outputs": [
    {
     "data": {
      "text/plain": [
       "Glucose          0\n",
       "BloodPressure    0\n",
       "SkinThickness    0\n",
       "Insulin          0\n",
       "BMI              0\n",
       "Age              0\n",
       "dtype: int64"
      ]
     },
     "execution_count": 109,
     "metadata": {},
     "output_type": "execute_result"
    }
   ],
   "source": [
    "df_scaled_features.isnull().sum()"
   ]
  },
  {
   "cell_type": "code",
   "execution_count": 110,
   "id": "60309032",
   "metadata": {},
   "outputs": [
    {
     "data": {
      "text/html": [
       "<div>\n",
       "<style scoped>\n",
       "    .dataframe tbody tr th:only-of-type {\n",
       "        vertical-align: middle;\n",
       "    }\n",
       "\n",
       "    .dataframe tbody tr th {\n",
       "        vertical-align: top;\n",
       "    }\n",
       "\n",
       "    .dataframe thead th {\n",
       "        text-align: right;\n",
       "    }\n",
       "</style>\n",
       "<table border=\"1\" class=\"dataframe\">\n",
       "  <thead>\n",
       "    <tr style=\"text-align: right;\">\n",
       "      <th></th>\n",
       "      <th>Pregnancies</th>\n",
       "      <th>DiabetesPedigreeFunction</th>\n",
       "      <th>Outcome</th>\n",
       "    </tr>\n",
       "  </thead>\n",
       "  <tbody>\n",
       "    <tr>\n",
       "      <th>0</th>\n",
       "      <td>6</td>\n",
       "      <td>0.627</td>\n",
       "      <td>1</td>\n",
       "    </tr>\n",
       "    <tr>\n",
       "      <th>1</th>\n",
       "      <td>1</td>\n",
       "      <td>0.351</td>\n",
       "      <td>0</td>\n",
       "    </tr>\n",
       "    <tr>\n",
       "      <th>2</th>\n",
       "      <td>8</td>\n",
       "      <td>0.672</td>\n",
       "      <td>1</td>\n",
       "    </tr>\n",
       "    <tr>\n",
       "      <th>3</th>\n",
       "      <td>1</td>\n",
       "      <td>0.167</td>\n",
       "      <td>0</td>\n",
       "    </tr>\n",
       "    <tr>\n",
       "      <th>5</th>\n",
       "      <td>5</td>\n",
       "      <td>0.201</td>\n",
       "      <td>0</td>\n",
       "    </tr>\n",
       "  </tbody>\n",
       "</table>\n",
       "</div>"
      ],
      "text/plain": [
       "   Pregnancies  DiabetesPedigreeFunction  Outcome\n",
       "0            6                     0.627        1\n",
       "1            1                     0.351        0\n",
       "2            8                     0.672        1\n",
       "3            1                     0.167        0\n",
       "5            5                     0.201        0"
      ]
     },
     "execution_count": 110,
     "metadata": {},
     "output_type": "execute_result"
    }
   ],
   "source": [
    "df=df.drop(['Glucose', 'BloodPressure', 'SkinThickness', 'Insulin',\n",
    "       'BMI','Age'],axis=1)\n",
    "df.head()"
   ]
  },
  {
   "cell_type": "code",
   "execution_count": 111,
   "id": "41f70087",
   "metadata": {},
   "outputs": [
    {
     "data": {
      "text/plain": [
       "Pregnancies                 0\n",
       "DiabetesPedigreeFunction    0\n",
       "Outcome                     0\n",
       "dtype: int64"
      ]
     },
     "execution_count": 111,
     "metadata": {},
     "output_type": "execute_result"
    }
   ],
   "source": [
    "df.isnull().sum()"
   ]
  },
  {
   "cell_type": "code",
   "execution_count": 112,
   "id": "85538747",
   "metadata": {},
   "outputs": [],
   "source": [
    "df.reset_index(drop=True, inplace=True)\n",
    "df_scaled_features.reset_index(drop=True,inplace=True)"
   ]
  },
  {
   "cell_type": "code",
   "execution_count": null,
   "id": "f143d068",
   "metadata": {},
   "outputs": [],
   "source": []
  },
  {
   "cell_type": "code",
   "execution_count": 113,
   "id": "24fc8d4d",
   "metadata": {},
   "outputs": [],
   "source": [
    "df=pd.concat([df,df_scaled_features],axis=1)"
   ]
  },
  {
   "cell_type": "code",
   "execution_count": 114,
   "id": "d38fcc9d",
   "metadata": {},
   "outputs": [
    {
     "data": {
      "text/plain": [
       "Pregnancies                 0\n",
       "DiabetesPedigreeFunction    0\n",
       "Outcome                     0\n",
       "Glucose                     0\n",
       "BloodPressure               0\n",
       "SkinThickness               0\n",
       "Insulin                     0\n",
       "BMI                         0\n",
       "Age                         0\n",
       "dtype: int64"
      ]
     },
     "execution_count": 114,
     "metadata": {},
     "output_type": "execute_result"
    }
   ],
   "source": [
    "df.isnull().sum()"
   ]
  },
  {
   "cell_type": "code",
   "execution_count": 115,
   "id": "0dcbac72",
   "metadata": {},
   "outputs": [
    {
     "data": {
      "text/html": [
       "<div>\n",
       "<style scoped>\n",
       "    .dataframe tbody tr th:only-of-type {\n",
       "        vertical-align: middle;\n",
       "    }\n",
       "\n",
       "    .dataframe tbody tr th {\n",
       "        vertical-align: top;\n",
       "    }\n",
       "\n",
       "    .dataframe thead th {\n",
       "        text-align: right;\n",
       "    }\n",
       "</style>\n",
       "<table border=\"1\" class=\"dataframe\">\n",
       "  <thead>\n",
       "    <tr style=\"text-align: right;\">\n",
       "      <th></th>\n",
       "      <th>Pregnancies</th>\n",
       "      <th>DiabetesPedigreeFunction</th>\n",
       "      <th>Outcome</th>\n",
       "      <th>Glucose</th>\n",
       "      <th>BloodPressure</th>\n",
       "      <th>SkinThickness</th>\n",
       "      <th>Insulin</th>\n",
       "      <th>BMI</th>\n",
       "      <th>Age</th>\n",
       "    </tr>\n",
       "  </thead>\n",
       "  <tbody>\n",
       "    <tr>\n",
       "      <th>0</th>\n",
       "      <td>6</td>\n",
       "      <td>0.627</td>\n",
       "      <td>1</td>\n",
       "      <td>0.919492</td>\n",
       "      <td>-0.032626</td>\n",
       "      <td>0.916757</td>\n",
       "      <td>-0.809316</td>\n",
       "      <td>0.189329</td>\n",
       "      <td>1.485404</td>\n",
       "    </tr>\n",
       "    <tr>\n",
       "      <th>1</th>\n",
       "      <td>1</td>\n",
       "      <td>0.351</td>\n",
       "      <td>0</td>\n",
       "      <td>-1.180205</td>\n",
       "      <td>-0.517127</td>\n",
       "      <td>0.527154</td>\n",
       "      <td>-0.809316</td>\n",
       "      <td>-0.839041</td>\n",
       "      <td>-0.184106</td>\n",
       "    </tr>\n",
       "    <tr>\n",
       "      <th>2</th>\n",
       "      <td>8</td>\n",
       "      <td>0.672</td>\n",
       "      <td>1</td>\n",
       "      <td>2.085991</td>\n",
       "      <td>-0.678627</td>\n",
       "      <td>-1.355926</td>\n",
       "      <td>-0.809316</td>\n",
       "      <td>-1.323844</td>\n",
       "      <td>-0.096237</td>\n",
       "    </tr>\n",
       "    <tr>\n",
       "      <th>3</th>\n",
       "      <td>1</td>\n",
       "      <td>0.167</td>\n",
       "      <td>0</td>\n",
       "      <td>-1.046891</td>\n",
       "      <td>-0.517127</td>\n",
       "      <td>0.137551</td>\n",
       "      <td>0.233807</td>\n",
       "      <td>-0.618676</td>\n",
       "      <td>-1.062796</td>\n",
       "    </tr>\n",
       "    <tr>\n",
       "      <th>4</th>\n",
       "      <td>5</td>\n",
       "      <td>0.201</td>\n",
       "      <td>0</td>\n",
       "      <td>-0.147021</td>\n",
       "      <td>0.128874</td>\n",
       "      <td>-1.355926</td>\n",
       "      <td>-0.809316</td>\n",
       "      <td>-0.985951</td>\n",
       "      <td>-0.271975</td>\n",
       "    </tr>\n",
       "  </tbody>\n",
       "</table>\n",
       "</div>"
      ],
      "text/plain": [
       "   Pregnancies  DiabetesPedigreeFunction  Outcome   Glucose  BloodPressure  \\\n",
       "0            6                     0.627        1  0.919492      -0.032626   \n",
       "1            1                     0.351        0 -1.180205      -0.517127   \n",
       "2            8                     0.672        1  2.085991      -0.678627   \n",
       "3            1                     0.167        0 -1.046891      -0.517127   \n",
       "4            5                     0.201        0 -0.147021       0.128874   \n",
       "\n",
       "   SkinThickness   Insulin       BMI       Age  \n",
       "0       0.916757 -0.809316  0.189329  1.485404  \n",
       "1       0.527154 -0.809316 -0.839041 -0.184106  \n",
       "2      -1.355926 -0.809316 -1.323844 -0.096237  \n",
       "3       0.137551  0.233807 -0.618676 -1.062796  \n",
       "4      -1.355926 -0.809316 -0.985951 -0.271975  "
      ]
     },
     "execution_count": 115,
     "metadata": {},
     "output_type": "execute_result"
    }
   ],
   "source": [
    "df.head()"
   ]
  },
  {
   "cell_type": "code",
   "execution_count": 116,
   "id": "599c3574",
   "metadata": {},
   "outputs": [
    {
     "data": {
      "text/plain": [
       "Index(['Pregnancies', 'DiabetesPedigreeFunction', 'Outcome', 'Glucose',\n",
       "       'BloodPressure', 'SkinThickness', 'Insulin', 'BMI', 'Age'],\n",
       "      dtype='object')"
      ]
     },
     "execution_count": 116,
     "metadata": {},
     "output_type": "execute_result"
    }
   ],
   "source": [
    "df.columns"
   ]
  },
  {
   "cell_type": "code",
   "execution_count": 117,
   "id": "4b8ddc5f",
   "metadata": {},
   "outputs": [],
   "source": [
    "df=df[['Pregnancies', 'DiabetesPedigreeFunction', 'Glucose',\n",
    "       'BloodPressure', 'SkinThickness', 'Insulin', 'BMI', 'Age', 'Outcome']]"
   ]
  },
  {
   "cell_type": "code",
   "execution_count": 118,
   "id": "8f515ba1",
   "metadata": {},
   "outputs": [
    {
     "data": {
      "text/html": [
       "<div>\n",
       "<style scoped>\n",
       "    .dataframe tbody tr th:only-of-type {\n",
       "        vertical-align: middle;\n",
       "    }\n",
       "\n",
       "    .dataframe tbody tr th {\n",
       "        vertical-align: top;\n",
       "    }\n",
       "\n",
       "    .dataframe thead th {\n",
       "        text-align: right;\n",
       "    }\n",
       "</style>\n",
       "<table border=\"1\" class=\"dataframe\">\n",
       "  <thead>\n",
       "    <tr style=\"text-align: right;\">\n",
       "      <th></th>\n",
       "      <th>Pregnancies</th>\n",
       "      <th>DiabetesPedigreeFunction</th>\n",
       "      <th>Glucose</th>\n",
       "      <th>BloodPressure</th>\n",
       "      <th>SkinThickness</th>\n",
       "      <th>Insulin</th>\n",
       "      <th>BMI</th>\n",
       "      <th>Age</th>\n",
       "      <th>Outcome</th>\n",
       "    </tr>\n",
       "  </thead>\n",
       "  <tbody>\n",
       "    <tr>\n",
       "      <th>0</th>\n",
       "      <td>6</td>\n",
       "      <td>0.627</td>\n",
       "      <td>0.919492</td>\n",
       "      <td>-0.032626</td>\n",
       "      <td>0.916757</td>\n",
       "      <td>-0.809316</td>\n",
       "      <td>0.189329</td>\n",
       "      <td>1.485404</td>\n",
       "      <td>1</td>\n",
       "    </tr>\n",
       "    <tr>\n",
       "      <th>1</th>\n",
       "      <td>1</td>\n",
       "      <td>0.351</td>\n",
       "      <td>-1.180205</td>\n",
       "      <td>-0.517127</td>\n",
       "      <td>0.527154</td>\n",
       "      <td>-0.809316</td>\n",
       "      <td>-0.839041</td>\n",
       "      <td>-0.184106</td>\n",
       "      <td>0</td>\n",
       "    </tr>\n",
       "    <tr>\n",
       "      <th>2</th>\n",
       "      <td>8</td>\n",
       "      <td>0.672</td>\n",
       "      <td>2.085991</td>\n",
       "      <td>-0.678627</td>\n",
       "      <td>-1.355926</td>\n",
       "      <td>-0.809316</td>\n",
       "      <td>-1.323844</td>\n",
       "      <td>-0.096237</td>\n",
       "      <td>1</td>\n",
       "    </tr>\n",
       "    <tr>\n",
       "      <th>3</th>\n",
       "      <td>1</td>\n",
       "      <td>0.167</td>\n",
       "      <td>-1.046891</td>\n",
       "      <td>-0.517127</td>\n",
       "      <td>0.137551</td>\n",
       "      <td>0.233807</td>\n",
       "      <td>-0.618676</td>\n",
       "      <td>-1.062796</td>\n",
       "      <td>0</td>\n",
       "    </tr>\n",
       "    <tr>\n",
       "      <th>4</th>\n",
       "      <td>5</td>\n",
       "      <td>0.201</td>\n",
       "      <td>-0.147021</td>\n",
       "      <td>0.128874</td>\n",
       "      <td>-1.355926</td>\n",
       "      <td>-0.809316</td>\n",
       "      <td>-0.985951</td>\n",
       "      <td>-0.271975</td>\n",
       "      <td>0</td>\n",
       "    </tr>\n",
       "  </tbody>\n",
       "</table>\n",
       "</div>"
      ],
      "text/plain": [
       "   Pregnancies  DiabetesPedigreeFunction   Glucose  BloodPressure  \\\n",
       "0            6                     0.627  0.919492      -0.032626   \n",
       "1            1                     0.351 -1.180205      -0.517127   \n",
       "2            8                     0.672  2.085991      -0.678627   \n",
       "3            1                     0.167 -1.046891      -0.517127   \n",
       "4            5                     0.201 -0.147021       0.128874   \n",
       "\n",
       "   SkinThickness   Insulin       BMI       Age  Outcome  \n",
       "0       0.916757 -0.809316  0.189329  1.485404        1  \n",
       "1       0.527154 -0.809316 -0.839041 -0.184106        0  \n",
       "2      -1.355926 -0.809316 -1.323844 -0.096237        1  \n",
       "3       0.137551  0.233807 -0.618676 -1.062796        0  \n",
       "4      -1.355926 -0.809316 -0.985951 -0.271975        0  "
      ]
     },
     "execution_count": 118,
     "metadata": {},
     "output_type": "execute_result"
    }
   ],
   "source": [
    "df.head()"
   ]
  },
  {
   "cell_type": "code",
   "execution_count": 119,
   "id": "e905f39f",
   "metadata": {
    "scrolled": true
   },
   "outputs": [
    {
     "data": {
      "text/plain": [
       "Pregnancies                 0\n",
       "DiabetesPedigreeFunction    0\n",
       "Glucose                     0\n",
       "BloodPressure               0\n",
       "SkinThickness               0\n",
       "Insulin                     0\n",
       "BMI                         0\n",
       "Age                         0\n",
       "Outcome                     0\n",
       "dtype: int64"
      ]
     },
     "execution_count": 119,
     "metadata": {},
     "output_type": "execute_result"
    }
   ],
   "source": [
    "df.isnull().sum()"
   ]
  },
  {
   "cell_type": "code",
   "execution_count": null,
   "id": "698b5c81",
   "metadata": {},
   "outputs": [],
   "source": []
  },
  {
   "cell_type": "code",
   "execution_count": null,
   "id": "73890582",
   "metadata": {},
   "outputs": [],
   "source": []
  },
  {
   "cell_type": "code",
   "execution_count": null,
   "id": "3af3d652",
   "metadata": {},
   "outputs": [],
   "source": []
  },
  {
   "cell_type": "markdown",
   "id": "076b8e61",
   "metadata": {},
   "source": [
    "## Feature Selection\n",
    "##### (Using Embedd methods: SelectKBest , Feature Importance, Correlation Matrix"
   ]
  },
  {
   "cell_type": "markdown",
   "id": "c5f8808a",
   "metadata": {},
   "source": [
    "##### Via Correlation Matrix"
   ]
  },
  {
   "cell_type": "code",
   "execution_count": 120,
   "id": "7a313147",
   "metadata": {},
   "outputs": [
    {
     "data": {
      "text/html": [
       "<div>\n",
       "<style scoped>\n",
       "    .dataframe tbody tr th:only-of-type {\n",
       "        vertical-align: middle;\n",
       "    }\n",
       "\n",
       "    .dataframe tbody tr th {\n",
       "        vertical-align: top;\n",
       "    }\n",
       "\n",
       "    .dataframe thead th {\n",
       "        text-align: right;\n",
       "    }\n",
       "</style>\n",
       "<table border=\"1\" class=\"dataframe\">\n",
       "  <thead>\n",
       "    <tr style=\"text-align: right;\">\n",
       "      <th></th>\n",
       "      <th>Pregnancies</th>\n",
       "      <th>DiabetesPedigreeFunction</th>\n",
       "      <th>Glucose</th>\n",
       "      <th>BloodPressure</th>\n",
       "      <th>SkinThickness</th>\n",
       "      <th>Insulin</th>\n",
       "      <th>BMI</th>\n",
       "      <th>Age</th>\n",
       "      <th>Outcome</th>\n",
       "    </tr>\n",
       "  </thead>\n",
       "  <tbody>\n",
       "    <tr>\n",
       "      <th>Pregnancies</th>\n",
       "      <td>1.000000</td>\n",
       "      <td>0.020674</td>\n",
       "      <td>0.164805</td>\n",
       "      <td>0.210796</td>\n",
       "      <td>-0.084177</td>\n",
       "      <td>-0.075878</td>\n",
       "      <td>0.041342</td>\n",
       "      <td>0.571566</td>\n",
       "      <td>0.243048</td>\n",
       "    </tr>\n",
       "    <tr>\n",
       "      <th>DiabetesPedigreeFunction</th>\n",
       "      <td>0.020674</td>\n",
       "      <td>1.000000</td>\n",
       "      <td>0.102328</td>\n",
       "      <td>0.036145</td>\n",
       "      <td>0.152156</td>\n",
       "      <td>0.180619</td>\n",
       "      <td>0.118748</td>\n",
       "      <td>0.065127</td>\n",
       "      <td>0.201073</td>\n",
       "    </tr>\n",
       "    <tr>\n",
       "      <th>Glucose</th>\n",
       "      <td>0.164805</td>\n",
       "      <td>0.102328</td>\n",
       "      <td>1.000000</td>\n",
       "      <td>0.235081</td>\n",
       "      <td>0.013284</td>\n",
       "      <td>0.269023</td>\n",
       "      <td>0.195496</td>\n",
       "      <td>0.266928</td>\n",
       "      <td>0.480673</td>\n",
       "    </tr>\n",
       "    <tr>\n",
       "      <th>BloodPressure</th>\n",
       "      <td>0.210796</td>\n",
       "      <td>0.036145</td>\n",
       "      <td>0.235081</td>\n",
       "      <td>1.000000</td>\n",
       "      <td>0.013091</td>\n",
       "      <td>-0.058056</td>\n",
       "      <td>0.298324</td>\n",
       "      <td>0.340656</td>\n",
       "      <td>0.183523</td>\n",
       "    </tr>\n",
       "    <tr>\n",
       "      <th>SkinThickness</th>\n",
       "      <td>-0.084177</td>\n",
       "      <td>0.152156</td>\n",
       "      <td>0.013284</td>\n",
       "      <td>0.013091</td>\n",
       "      <td>1.000000</td>\n",
       "      <td>0.464477</td>\n",
       "      <td>0.391089</td>\n",
       "      <td>-0.151305</td>\n",
       "      <td>0.065612</td>\n",
       "    </tr>\n",
       "    <tr>\n",
       "      <th>Insulin</th>\n",
       "      <td>-0.075878</td>\n",
       "      <td>0.180619</td>\n",
       "      <td>0.269023</td>\n",
       "      <td>-0.058056</td>\n",
       "      <td>0.464477</td>\n",
       "      <td>1.000000</td>\n",
       "      <td>0.176589</td>\n",
       "      <td>-0.079700</td>\n",
       "      <td>0.111402</td>\n",
       "    </tr>\n",
       "    <tr>\n",
       "      <th>BMI</th>\n",
       "      <td>0.041342</td>\n",
       "      <td>0.118748</td>\n",
       "      <td>0.195496</td>\n",
       "      <td>0.298324</td>\n",
       "      <td>0.391089</td>\n",
       "      <td>0.176589</td>\n",
       "      <td>1.000000</td>\n",
       "      <td>0.052393</td>\n",
       "      <td>0.300207</td>\n",
       "    </tr>\n",
       "    <tr>\n",
       "      <th>Age</th>\n",
       "      <td>0.571566</td>\n",
       "      <td>0.065127</td>\n",
       "      <td>0.266928</td>\n",
       "      <td>0.340656</td>\n",
       "      <td>-0.151305</td>\n",
       "      <td>-0.079700</td>\n",
       "      <td>0.052393</td>\n",
       "      <td>1.000000</td>\n",
       "      <td>0.253880</td>\n",
       "    </tr>\n",
       "    <tr>\n",
       "      <th>Outcome</th>\n",
       "      <td>0.243048</td>\n",
       "      <td>0.201073</td>\n",
       "      <td>0.480673</td>\n",
       "      <td>0.183523</td>\n",
       "      <td>0.065612</td>\n",
       "      <td>0.111402</td>\n",
       "      <td>0.300207</td>\n",
       "      <td>0.253880</td>\n",
       "      <td>1.000000</td>\n",
       "    </tr>\n",
       "  </tbody>\n",
       "</table>\n",
       "</div>"
      ],
      "text/plain": [
       "                          Pregnancies  DiabetesPedigreeFunction   Glucose  \\\n",
       "Pregnancies                  1.000000                  0.020674  0.164805   \n",
       "DiabetesPedigreeFunction     0.020674                  1.000000  0.102328   \n",
       "Glucose                      0.164805                  0.102328  1.000000   \n",
       "BloodPressure                0.210796                  0.036145  0.235081   \n",
       "SkinThickness               -0.084177                  0.152156  0.013284   \n",
       "Insulin                     -0.075878                  0.180619  0.269023   \n",
       "BMI                          0.041342                  0.118748  0.195496   \n",
       "Age                          0.571566                  0.065127  0.266928   \n",
       "Outcome                      0.243048                  0.201073  0.480673   \n",
       "\n",
       "                          BloodPressure  SkinThickness   Insulin       BMI  \\\n",
       "Pregnancies                    0.210796      -0.084177 -0.075878  0.041342   \n",
       "DiabetesPedigreeFunction       0.036145       0.152156  0.180619  0.118748   \n",
       "Glucose                        0.235081       0.013284  0.269023  0.195496   \n",
       "BloodPressure                  1.000000       0.013091 -0.058056  0.298324   \n",
       "SkinThickness                  0.013091       1.000000  0.464477  0.391089   \n",
       "Insulin                       -0.058056       0.464477  1.000000  0.176589   \n",
       "BMI                            0.298324       0.391089  0.176589  1.000000   \n",
       "Age                            0.340656      -0.151305 -0.079700  0.052393   \n",
       "Outcome                        0.183523       0.065612  0.111402  0.300207   \n",
       "\n",
       "                               Age   Outcome  \n",
       "Pregnancies               0.571566  0.243048  \n",
       "DiabetesPedigreeFunction  0.065127  0.201073  \n",
       "Glucose                   0.266928  0.480673  \n",
       "BloodPressure             0.340656  0.183523  \n",
       "SkinThickness            -0.151305  0.065612  \n",
       "Insulin                  -0.079700  0.111402  \n",
       "BMI                       0.052393  0.300207  \n",
       "Age                       1.000000  0.253880  \n",
       "Outcome                   0.253880  1.000000  "
      ]
     },
     "execution_count": 120,
     "metadata": {},
     "output_type": "execute_result"
    }
   ],
   "source": [
    "df.corr()"
   ]
  },
  {
   "cell_type": "code",
   "execution_count": 121,
   "id": "ec04714b",
   "metadata": {
    "scrolled": true
   },
   "outputs": [
    {
     "data": {
      "image/png": "[encoded data removed]",
      "text/plain": [
       "<Figure size 720x720 with 2 Axes>"
      ]
     },
     "metadata": {
      "needs_background": "light"
     },
     "output_type": "display_data"
    }
   ],
   "source": [
    "plt.figure(figsize=(10,10))\n",
    "sns.heatmap(df.corr(),linewidths=2,annot=True,cmap=\"RdYlGn\")\n",
    "plt.show()"
   ]
  },
  {
   "cell_type": "code",
   "execution_count": 122,
   "id": "4ed582ff",
   "metadata": {},
   "outputs": [],
   "source": [
    "#Threshold: 0.90\n",
    "#However max correlaion between independent variables is only 0.54"
   ]
  },
  {
   "cell_type": "markdown",
   "id": "d4571b0d",
   "metadata": {},
   "source": [
    "CONCLUSION: No Features could be filtered from this method"
   ]
  },
  {
   "cell_type": "markdown",
   "id": "73e72b05",
   "metadata": {},
   "source": [
    "#### Feature Importance (used for finding relation between features and labels)"
   ]
  },
  {
   "cell_type": "code",
   "execution_count": 123,
   "id": "a083f422",
   "metadata": {},
   "outputs": [
    {
     "data": {
      "text/plain": [
       "'x=df[[\\'Pregnancies\\', \\'DiabetesPedigreeFunction\\', \\'Glucose\\',\\n       \\'BloodPressure\\', \\'SkinThickness\\', \\'Insulin\\', \\'BMI\\', \\'Age\\']]\\nY=df[[\"Outcome\"]]'"
      ]
     },
     "execution_count": 123,
     "metadata": {},
     "output_type": "execute_result"
    }
   ],
   "source": [
    "'''x=df[['Pregnancies', 'DiabetesPedigreeFunction', 'Glucose',\n",
    "       'BloodPressure', 'SkinThickness', 'Insulin', 'BMI', 'Age']]\n",
    "Y=df[[\"Outcome\"]]'''"
   ]
  },
  {
   "cell_type": "code",
   "execution_count": 124,
   "id": "fbb78d59",
   "metadata": {},
   "outputs": [
    {
     "data": {
      "text/plain": [
       "'from sklearn.ensemble import ExtraTreesRegressor\\nselection=ExtraTreesRegressor()\\nselection.fit(x,Y)'"
      ]
     },
     "execution_count": 124,
     "metadata": {},
     "output_type": "execute_result"
    }
   ],
   "source": [
    "'''from sklearn.ensemble import ExtraTreesRegressor\n",
    "selection=ExtraTreesRegressor()\n",
    "selection.fit(x,Y)'''"
   ]
  },
  {
   "cell_type": "code",
   "execution_count": 125,
   "id": "1e62a12b",
   "metadata": {},
   "outputs": [
    {
     "data": {
      "text/plain": [
       "'election.feature_importances_  #relation of corresponding independent variable to label'"
      ]
     },
     "execution_count": 125,
     "metadata": {},
     "output_type": "execute_result"
    }
   ],
   "source": [
    "'''election.feature_importances_  #relation of corresponding independent variable to label'''"
   ]
  },
  {
   "cell_type": "code",
   "execution_count": 126,
   "id": "4474c6cb",
   "metadata": {},
   "outputs": [
    {
     "data": {
      "text/plain": [
       "'#plot graph of feature importances for better visualization\\nplt.figure(figsize=(12,8))\\nfeature_importance=pd.Series(selection.feature_importances_,index=x.columns)\\nfeature_importance.nlargest(40).plot(kind=\"barh\")\\nplt.show()'"
      ]
     },
     "execution_count": 126,
     "metadata": {},
     "output_type": "execute_result"
    }
   ],
   "source": [
    "'''#plot graph of feature importances for better visualization\n",
    "plt.figure(figsize=(12,8))\n",
    "feature_importance=pd.Series(selection.feature_importances_,index=x.columns)\n",
    "feature_importance.nlargest(40).plot(kind=\"barh\")\n",
    "plt.show()'''"
   ]
  },
  {
   "cell_type": "code",
   "execution_count": 127,
   "id": "59dfbfd5",
   "metadata": {},
   "outputs": [
    {
     "data": {
      "text/plain": [
       "\"\\nObservations: SkinThickness is the least correlated with label.However, the relatively weakest relation is still ok in logical \\nterms. Also, based on the study of data there isn't any dire need for reducing the number of independent features.\\nTherefore, no feature will be filtered out\\n\""
      ]
     },
     "execution_count": 127,
     "metadata": {},
     "output_type": "execute_result"
    }
   ],
   "source": [
    "'''\n",
    "Observations: SkinThickness is the least correlated with label.However, the relatively weakest relation is still ok in logical \n",
    "terms. Also, based on the study of data there isn't any dire need for reducing the number of independent features.\n",
    "Therefore, no feature will be filtered out\n",
    "'''"
   ]
  },
  {
   "cell_type": "markdown",
   "id": "eae40467",
   "metadata": {},
   "source": [
    "#### SelectKBest\n",
    "### Can only be used when for scaling down the discreate values we use normalization(i.e Min-Max Scaler). So, use it in deep learning\n",
    "###### (Used when we want to take only those k number of features which are the most related with label)"
   ]
  },
  {
   "cell_type": "markdown",
   "id": "3cac7d35",
   "metadata": {},
   "source": []
  },
  {
   "cell_type": "markdown",
   "id": "5790304b",
   "metadata": {},
   "source": [
    "# Modal Building"
   ]
  },
  {
   "cell_type": "code",
   "execution_count": 128,
   "id": "33a8cb5a",
   "metadata": {},
   "outputs": [],
   "source": [
    "x=df.drop(\"Outcome\",axis=1).values\n",
    "Y=df[\"Outcome\"].values"
   ]
  },
  {
   "cell_type": "code",
   "execution_count": null,
   "id": "97e7cf1c",
   "metadata": {},
   "outputs": [],
   "source": []
  },
  {
   "cell_type": "code",
   "execution_count": 129,
   "id": "bb8f895a",
   "metadata": {},
   "outputs": [],
   "source": [
    "df_t=pd.read_csv(\"diabetes_test.csv\")"
   ]
  },
  {
   "cell_type": "code",
   "execution_count": 130,
   "id": "c5a10e25",
   "metadata": {},
   "outputs": [
    {
     "data": {
      "text/html": [
       "<div>\n",
       "<style scoped>\n",
       "    .dataframe tbody tr th:only-of-type {\n",
       "        vertical-align: middle;\n",
       "    }\n",
       "\n",
       "    .dataframe tbody tr th {\n",
       "        vertical-align: top;\n",
       "    }\n",
       "\n",
       "    .dataframe thead th {\n",
       "        text-align: right;\n",
       "    }\n",
       "</style>\n",
       "<table border=\"1\" class=\"dataframe\">\n",
       "  <thead>\n",
       "    <tr style=\"text-align: right;\">\n",
       "      <th></th>\n",
       "      <th>Unnamed: 0</th>\n",
       "      <th>Pregnancies</th>\n",
       "      <th>Glucose</th>\n",
       "      <th>BloodPressure</th>\n",
       "      <th>SkinThickness</th>\n",
       "      <th>Insulin</th>\n",
       "      <th>BMI</th>\n",
       "      <th>DiabetesPedigreeFunction</th>\n",
       "      <th>Age</th>\n",
       "      <th>Outcome</th>\n",
       "    </tr>\n",
       "  </thead>\n",
       "  <tbody>\n",
       "    <tr>\n",
       "      <th>0</th>\n",
       "      <td>423</td>\n",
       "      <td>2</td>\n",
       "      <td>115</td>\n",
       "      <td>64</td>\n",
       "      <td>22</td>\n",
       "      <td>0</td>\n",
       "      <td>30.8</td>\n",
       "      <td>0.421</td>\n",
       "      <td>21</td>\n",
       "      <td>0</td>\n",
       "    </tr>\n",
       "    <tr>\n",
       "      <th>1</th>\n",
       "      <td>739</td>\n",
       "      <td>1</td>\n",
       "      <td>102</td>\n",
       "      <td>74</td>\n",
       "      <td>0</td>\n",
       "      <td>0</td>\n",
       "      <td>39.5</td>\n",
       "      <td>0.293</td>\n",
       "      <td>42</td>\n",
       "      <td>1</td>\n",
       "    </tr>\n",
       "    <tr>\n",
       "      <th>2</th>\n",
       "      <td>287</td>\n",
       "      <td>1</td>\n",
       "      <td>119</td>\n",
       "      <td>86</td>\n",
       "      <td>39</td>\n",
       "      <td>220</td>\n",
       "      <td>45.6</td>\n",
       "      <td>0.808</td>\n",
       "      <td>29</td>\n",
       "      <td>1</td>\n",
       "    </tr>\n",
       "    <tr>\n",
       "      <th>3</th>\n",
       "      <td>377</td>\n",
       "      <td>1</td>\n",
       "      <td>87</td>\n",
       "      <td>60</td>\n",
       "      <td>37</td>\n",
       "      <td>75</td>\n",
       "      <td>37.2</td>\n",
       "      <td>0.509</td>\n",
       "      <td>22</td>\n",
       "      <td>0</td>\n",
       "    </tr>\n",
       "    <tr>\n",
       "      <th>4</th>\n",
       "      <td>355</td>\n",
       "      <td>9</td>\n",
       "      <td>165</td>\n",
       "      <td>88</td>\n",
       "      <td>0</td>\n",
       "      <td>0</td>\n",
       "      <td>30.4</td>\n",
       "      <td>0.302</td>\n",
       "      <td>49</td>\n",
       "      <td>1</td>\n",
       "    </tr>\n",
       "  </tbody>\n",
       "</table>\n",
       "</div>"
      ],
      "text/plain": [
       "   Unnamed: 0  Pregnancies  Glucose  BloodPressure  SkinThickness  Insulin  \\\n",
       "0         423            2      115             64             22        0   \n",
       "1         739            1      102             74              0        0   \n",
       "2         287            1      119             86             39      220   \n",
       "3         377            1       87             60             37       75   \n",
       "4         355            9      165             88              0        0   \n",
       "\n",
       "    BMI  DiabetesPedigreeFunction  Age  Outcome  \n",
       "0  30.8                     0.421   21        0  \n",
       "1  39.5                     0.293   42        1  \n",
       "2  45.6                     0.808   29        1  \n",
       "3  37.2                     0.509   22        0  \n",
       "4  30.4                     0.302   49        1  "
      ]
     },
     "execution_count": 130,
     "metadata": {},
     "output_type": "execute_result"
    }
   ],
   "source": [
    "df_t.head()"
   ]
  },
  {
   "cell_type": "code",
   "execution_count": 131,
   "id": "94923fe9",
   "metadata": {},
   "outputs": [
    {
     "data": {
      "text/plain": [
       "Index(['Unnamed: 0', 'Pregnancies', 'Glucose', 'BloodPressure',\n",
       "       'SkinThickness', 'Insulin', 'BMI', 'DiabetesPedigreeFunction', 'Age',\n",
       "       'Outcome'],\n",
       "      dtype='object')"
      ]
     },
     "execution_count": 131,
     "metadata": {},
     "output_type": "execute_result"
    }
   ],
   "source": [
    "df_t.columns"
   ]
  },
  {
   "cell_type": "markdown",
   "id": "ba5bb510",
   "metadata": {},
   "source": [
    "### Preprocessing test data"
   ]
  },
  {
   "cell_type": "code",
   "execution_count": 132,
   "id": "dab79d93",
   "metadata": {},
   "outputs": [],
   "source": [
    "df_t=df_t[['Pregnancies', 'Glucose', 'BloodPressure',\n",
    "       'SkinThickness', 'Insulin', 'BMI', 'DiabetesPedigreeFunction', 'Age',\n",
    "       'Outcome']]"
   ]
  },
  {
   "cell_type": "code",
   "execution_count": 133,
   "id": "6bc08089",
   "metadata": {},
   "outputs": [
    {
     "data": {
      "text/html": [
       "<div>\n",
       "<style scoped>\n",
       "    .dataframe tbody tr th:only-of-type {\n",
       "        vertical-align: middle;\n",
       "    }\n",
       "\n",
       "    .dataframe tbody tr th {\n",
       "        vertical-align: top;\n",
       "    }\n",
       "\n",
       "    .dataframe thead th {\n",
       "        text-align: right;\n",
       "    }\n",
       "</style>\n",
       "<table border=\"1\" class=\"dataframe\">\n",
       "  <thead>\n",
       "    <tr style=\"text-align: right;\">\n",
       "      <th></th>\n",
       "      <th>Pregnancies</th>\n",
       "      <th>Glucose</th>\n",
       "      <th>BloodPressure</th>\n",
       "      <th>SkinThickness</th>\n",
       "      <th>Insulin</th>\n",
       "      <th>BMI</th>\n",
       "      <th>DiabetesPedigreeFunction</th>\n",
       "      <th>Age</th>\n",
       "      <th>Outcome</th>\n",
       "    </tr>\n",
       "  </thead>\n",
       "  <tbody>\n",
       "    <tr>\n",
       "      <th>0</th>\n",
       "      <td>2</td>\n",
       "      <td>115</td>\n",
       "      <td>64</td>\n",
       "      <td>22</td>\n",
       "      <td>0</td>\n",
       "      <td>30.8</td>\n",
       "      <td>0.421</td>\n",
       "      <td>21</td>\n",
       "      <td>0</td>\n",
       "    </tr>\n",
       "    <tr>\n",
       "      <th>1</th>\n",
       "      <td>1</td>\n",
       "      <td>102</td>\n",
       "      <td>74</td>\n",
       "      <td>0</td>\n",
       "      <td>0</td>\n",
       "      <td>39.5</td>\n",
       "      <td>0.293</td>\n",
       "      <td>42</td>\n",
       "      <td>1</td>\n",
       "    </tr>\n",
       "    <tr>\n",
       "      <th>2</th>\n",
       "      <td>1</td>\n",
       "      <td>119</td>\n",
       "      <td>86</td>\n",
       "      <td>39</td>\n",
       "      <td>220</td>\n",
       "      <td>45.6</td>\n",
       "      <td>0.808</td>\n",
       "      <td>29</td>\n",
       "      <td>1</td>\n",
       "    </tr>\n",
       "    <tr>\n",
       "      <th>3</th>\n",
       "      <td>1</td>\n",
       "      <td>87</td>\n",
       "      <td>60</td>\n",
       "      <td>37</td>\n",
       "      <td>75</td>\n",
       "      <td>37.2</td>\n",
       "      <td>0.509</td>\n",
       "      <td>22</td>\n",
       "      <td>0</td>\n",
       "    </tr>\n",
       "    <tr>\n",
       "      <th>4</th>\n",
       "      <td>9</td>\n",
       "      <td>165</td>\n",
       "      <td>88</td>\n",
       "      <td>0</td>\n",
       "      <td>0</td>\n",
       "      <td>30.4</td>\n",
       "      <td>0.302</td>\n",
       "      <td>49</td>\n",
       "      <td>1</td>\n",
       "    </tr>\n",
       "  </tbody>\n",
       "</table>\n",
       "</div>"
      ],
      "text/plain": [
       "   Pregnancies  Glucose  BloodPressure  SkinThickness  Insulin   BMI  \\\n",
       "0            2      115             64             22        0  30.8   \n",
       "1            1      102             74              0        0  39.5   \n",
       "2            1      119             86             39      220  45.6   \n",
       "3            1       87             60             37       75  37.2   \n",
       "4            9      165             88              0        0  30.4   \n",
       "\n",
       "   DiabetesPedigreeFunction  Age  Outcome  \n",
       "0                     0.421   21        0  \n",
       "1                     0.293   42        1  \n",
       "2                     0.808   29        1  \n",
       "3                     0.509   22        0  \n",
       "4                     0.302   49        1  "
      ]
     },
     "execution_count": 133,
     "metadata": {},
     "output_type": "execute_result"
    }
   ],
   "source": [
    "df_t.head()"
   ]
  },
  {
   "cell_type": "code",
   "execution_count": 134,
   "id": "8f4244f1",
   "metadata": {},
   "outputs": [],
   "source": [
    "# Feature Scaling\n",
    "#scaling down: glucose, blood pressure, SkinThickness, Insulin, BMI, Age"
   ]
  },
  {
   "cell_type": "code",
   "execution_count": 135,
   "id": "b301ed39",
   "metadata": {},
   "outputs": [],
   "source": [
    "from sklearn.preprocessing import StandardScaler\n",
    "scale=StandardScaler()\n",
    "scaled_down_=scale.fit_transform(df_t[['Glucose', 'BloodPressure',\n",
    "       'SkinThickness', 'Insulin', 'BMI','Age',\n",
    "       ]])"
   ]
  },
  {
   "cell_type": "code",
   "execution_count": 136,
   "id": "511c6a50",
   "metadata": {},
   "outputs": [],
   "source": [
    "df_ss=pd.DataFrame(scaled_down_)"
   ]
  },
  {
   "cell_type": "code",
   "execution_count": 137,
   "id": "a35fa0f8",
   "metadata": {},
   "outputs": [],
   "source": [
    "df_ss.columns=['Glucose', 'BloodPressure',\n",
    "       'SkinThickness', 'Insulin', 'BMI','Age']"
   ]
  },
  {
   "cell_type": "code",
   "execution_count": 138,
   "id": "9d43d06c",
   "metadata": {},
   "outputs": [
    {
     "data": {
      "text/html": [
       "<div>\n",
       "<style scoped>\n",
       "    .dataframe tbody tr th:only-of-type {\n",
       "        vertical-align: middle;\n",
       "    }\n",
       "\n",
       "    .dataframe tbody tr th {\n",
       "        vertical-align: top;\n",
       "    }\n",
       "\n",
       "    .dataframe thead th {\n",
       "        text-align: right;\n",
       "    }\n",
       "</style>\n",
       "<table border=\"1\" class=\"dataframe\">\n",
       "  <thead>\n",
       "    <tr style=\"text-align: right;\">\n",
       "      <th></th>\n",
       "      <th>Glucose</th>\n",
       "      <th>BloodPressure</th>\n",
       "      <th>SkinThickness</th>\n",
       "      <th>Insulin</th>\n",
       "      <th>BMI</th>\n",
       "      <th>Age</th>\n",
       "    </tr>\n",
       "  </thead>\n",
       "  <tbody>\n",
       "    <tr>\n",
       "      <th>0</th>\n",
       "      <td>-0.169122</td>\n",
       "      <td>-0.843624</td>\n",
       "      <td>0.059243</td>\n",
       "      <td>-0.768879</td>\n",
       "      <td>-0.262018</td>\n",
       "      <td>-1.178567</td>\n",
       "    </tr>\n",
       "    <tr>\n",
       "      <th>1</th>\n",
       "      <td>-0.598339</td>\n",
       "      <td>0.061189</td>\n",
       "      <td>-1.282715</td>\n",
       "      <td>-0.768879</td>\n",
       "      <td>1.020810</td>\n",
       "      <td>0.517802</td>\n",
       "    </tr>\n",
       "    <tr>\n",
       "      <th>2</th>\n",
       "      <td>-0.037055</td>\n",
       "      <td>1.146964</td>\n",
       "      <td>1.096210</td>\n",
       "      <td>1.686459</td>\n",
       "      <td>1.920265</td>\n",
       "      <td>-0.532331</td>\n",
       "    </tr>\n",
       "    <tr>\n",
       "      <th>3</th>\n",
       "      <td>-1.093589</td>\n",
       "      <td>-1.205549</td>\n",
       "      <td>0.974214</td>\n",
       "      <td>0.068168</td>\n",
       "      <td>0.681672</td>\n",
       "      <td>-1.097787</td>\n",
       "    </tr>\n",
       "    <tr>\n",
       "      <th>4</th>\n",
       "      <td>1.481714</td>\n",
       "      <td>1.327926</td>\n",
       "      <td>-1.282715</td>\n",
       "      <td>-0.768879</td>\n",
       "      <td>-0.320999</td>\n",
       "      <td>1.083259</td>\n",
       "    </tr>\n",
       "  </tbody>\n",
       "</table>\n",
       "</div>"
      ],
      "text/plain": [
       "    Glucose  BloodPressure  SkinThickness   Insulin       BMI       Age\n",
       "0 -0.169122      -0.843624       0.059243 -0.768879 -0.262018 -1.178567\n",
       "1 -0.598339       0.061189      -1.282715 -0.768879  1.020810  0.517802\n",
       "2 -0.037055       1.146964       1.096210  1.686459  1.920265 -0.532331\n",
       "3 -1.093589      -1.205549       0.974214  0.068168  0.681672 -1.097787\n",
       "4  1.481714       1.327926      -1.282715 -0.768879 -0.320999  1.083259"
      ]
     },
     "execution_count": 138,
     "metadata": {},
     "output_type": "execute_result"
    }
   ],
   "source": [
    "df_ss.head()"
   ]
  },
  {
   "cell_type": "code",
   "execution_count": 139,
   "id": "86056e02",
   "metadata": {},
   "outputs": [],
   "source": [
    "df_t=df_t.drop(df_t[['Glucose', 'BloodPressure',\n",
    "       'SkinThickness', 'Insulin', 'BMI','Age']],axis=1)"
   ]
  },
  {
   "cell_type": "code",
   "execution_count": null,
   "id": "ec1a6d68",
   "metadata": {},
   "outputs": [],
   "source": []
  },
  {
   "cell_type": "code",
   "execution_count": 140,
   "id": "f8ad8cf5",
   "metadata": {},
   "outputs": [],
   "source": [
    "df_t=pd.concat([df_t,df_ss],axis=1)"
   ]
  },
  {
   "cell_type": "code",
   "execution_count": 141,
   "id": "55394561",
   "metadata": {},
   "outputs": [
    {
     "data": {
      "text/html": [
       "<div>\n",
       "<style scoped>\n",
       "    .dataframe tbody tr th:only-of-type {\n",
       "        vertical-align: middle;\n",
       "    }\n",
       "\n",
       "    .dataframe tbody tr th {\n",
       "        vertical-align: top;\n",
       "    }\n",
       "\n",
       "    .dataframe thead th {\n",
       "        text-align: right;\n",
       "    }\n",
       "</style>\n",
       "<table border=\"1\" class=\"dataframe\">\n",
       "  <thead>\n",
       "    <tr style=\"text-align: right;\">\n",
       "      <th></th>\n",
       "      <th>Pregnancies</th>\n",
       "      <th>DiabetesPedigreeFunction</th>\n",
       "      <th>Outcome</th>\n",
       "      <th>Glucose</th>\n",
       "      <th>BloodPressure</th>\n",
       "      <th>SkinThickness</th>\n",
       "      <th>Insulin</th>\n",
       "      <th>BMI</th>\n",
       "      <th>Age</th>\n",
       "    </tr>\n",
       "  </thead>\n",
       "  <tbody>\n",
       "    <tr>\n",
       "      <th>0</th>\n",
       "      <td>2</td>\n",
       "      <td>0.421</td>\n",
       "      <td>0</td>\n",
       "      <td>-0.169122</td>\n",
       "      <td>-0.843624</td>\n",
       "      <td>0.059243</td>\n",
       "      <td>-0.768879</td>\n",
       "      <td>-0.262018</td>\n",
       "      <td>-1.178567</td>\n",
       "    </tr>\n",
       "    <tr>\n",
       "      <th>1</th>\n",
       "      <td>1</td>\n",
       "      <td>0.293</td>\n",
       "      <td>1</td>\n",
       "      <td>-0.598339</td>\n",
       "      <td>0.061189</td>\n",
       "      <td>-1.282715</td>\n",
       "      <td>-0.768879</td>\n",
       "      <td>1.020810</td>\n",
       "      <td>0.517802</td>\n",
       "    </tr>\n",
       "    <tr>\n",
       "      <th>2</th>\n",
       "      <td>1</td>\n",
       "      <td>0.808</td>\n",
       "      <td>1</td>\n",
       "      <td>-0.037055</td>\n",
       "      <td>1.146964</td>\n",
       "      <td>1.096210</td>\n",
       "      <td>1.686459</td>\n",
       "      <td>1.920265</td>\n",
       "      <td>-0.532331</td>\n",
       "    </tr>\n",
       "    <tr>\n",
       "      <th>3</th>\n",
       "      <td>1</td>\n",
       "      <td>0.509</td>\n",
       "      <td>0</td>\n",
       "      <td>-1.093589</td>\n",
       "      <td>-1.205549</td>\n",
       "      <td>0.974214</td>\n",
       "      <td>0.068168</td>\n",
       "      <td>0.681672</td>\n",
       "      <td>-1.097787</td>\n",
       "    </tr>\n",
       "    <tr>\n",
       "      <th>4</th>\n",
       "      <td>9</td>\n",
       "      <td>0.302</td>\n",
       "      <td>1</td>\n",
       "      <td>1.481714</td>\n",
       "      <td>1.327926</td>\n",
       "      <td>-1.282715</td>\n",
       "      <td>-0.768879</td>\n",
       "      <td>-0.320999</td>\n",
       "      <td>1.083259</td>\n",
       "    </tr>\n",
       "  </tbody>\n",
       "</table>\n",
       "</div>"
      ],
      "text/plain": [
       "   Pregnancies  DiabetesPedigreeFunction  Outcome   Glucose  BloodPressure  \\\n",
       "0            2                     0.421        0 -0.169122      -0.843624   \n",
       "1            1                     0.293        1 -0.598339       0.061189   \n",
       "2            1                     0.808        1 -0.037055       1.146964   \n",
       "3            1                     0.509        0 -1.093589      -1.205549   \n",
       "4            9                     0.302        1  1.481714       1.327926   \n",
       "\n",
       "   SkinThickness   Insulin       BMI       Age  \n",
       "0       0.059243 -0.768879 -0.262018 -1.178567  \n",
       "1      -1.282715 -0.768879  1.020810  0.517802  \n",
       "2       1.096210  1.686459  1.920265 -0.532331  \n",
       "3       0.974214  0.068168  0.681672 -1.097787  \n",
       "4      -1.282715 -0.768879 -0.320999  1.083259  "
      ]
     },
     "execution_count": 141,
     "metadata": {},
     "output_type": "execute_result"
    }
   ],
   "source": [
    "df_t.head()"
   ]
  },
  {
   "cell_type": "code",
   "execution_count": 142,
   "id": "9b56fc4a",
   "metadata": {},
   "outputs": [
    {
     "data": {
      "text/plain": [
       "Pregnancies                 0\n",
       "DiabetesPedigreeFunction    0\n",
       "Outcome                     0\n",
       "Glucose                     0\n",
       "BloodPressure               0\n",
       "SkinThickness               0\n",
       "Insulin                     0\n",
       "BMI                         0\n",
       "Age                         0\n",
       "dtype: int64"
      ]
     },
     "execution_count": 142,
     "metadata": {},
     "output_type": "execute_result"
    }
   ],
   "source": [
    "df_t.isnull().sum()"
   ]
  },
  {
   "cell_type": "code",
   "execution_count": 143,
   "id": "5ae7966b",
   "metadata": {},
   "outputs": [],
   "source": [
    "df_t=df_t[['Pregnancies', 'DiabetesPedigreeFunction', 'Glucose', 'BloodPressure',\n",
    "       'SkinThickness', 'Insulin', 'BMI', 'Age', 'Outcome']]"
   ]
  },
  {
   "cell_type": "code",
   "execution_count": 144,
   "id": "233f8534",
   "metadata": {},
   "outputs": [
    {
     "data": {
      "text/html": [
       "<div>\n",
       "<style scoped>\n",
       "    .dataframe tbody tr th:only-of-type {\n",
       "        vertical-align: middle;\n",
       "    }\n",
       "\n",
       "    .dataframe tbody tr th {\n",
       "        vertical-align: top;\n",
       "    }\n",
       "\n",
       "    .dataframe thead th {\n",
       "        text-align: right;\n",
       "    }\n",
       "</style>\n",
       "<table border=\"1\" class=\"dataframe\">\n",
       "  <thead>\n",
       "    <tr style=\"text-align: right;\">\n",
       "      <th></th>\n",
       "      <th>Pregnancies</th>\n",
       "      <th>DiabetesPedigreeFunction</th>\n",
       "      <th>Glucose</th>\n",
       "      <th>BloodPressure</th>\n",
       "      <th>SkinThickness</th>\n",
       "      <th>Insulin</th>\n",
       "      <th>BMI</th>\n",
       "      <th>Age</th>\n",
       "      <th>Outcome</th>\n",
       "    </tr>\n",
       "  </thead>\n",
       "  <tbody>\n",
       "    <tr>\n",
       "      <th>0</th>\n",
       "      <td>6</td>\n",
       "      <td>0.627</td>\n",
       "      <td>0.919492</td>\n",
       "      <td>-0.032626</td>\n",
       "      <td>0.916757</td>\n",
       "      <td>-0.809316</td>\n",
       "      <td>0.189329</td>\n",
       "      <td>1.485404</td>\n",
       "      <td>1</td>\n",
       "    </tr>\n",
       "    <tr>\n",
       "      <th>1</th>\n",
       "      <td>1</td>\n",
       "      <td>0.351</td>\n",
       "      <td>-1.180205</td>\n",
       "      <td>-0.517127</td>\n",
       "      <td>0.527154</td>\n",
       "      <td>-0.809316</td>\n",
       "      <td>-0.839041</td>\n",
       "      <td>-0.184106</td>\n",
       "      <td>0</td>\n",
       "    </tr>\n",
       "    <tr>\n",
       "      <th>2</th>\n",
       "      <td>8</td>\n",
       "      <td>0.672</td>\n",
       "      <td>2.085991</td>\n",
       "      <td>-0.678627</td>\n",
       "      <td>-1.355926</td>\n",
       "      <td>-0.809316</td>\n",
       "      <td>-1.323844</td>\n",
       "      <td>-0.096237</td>\n",
       "      <td>1</td>\n",
       "    </tr>\n",
       "    <tr>\n",
       "      <th>3</th>\n",
       "      <td>1</td>\n",
       "      <td>0.167</td>\n",
       "      <td>-1.046891</td>\n",
       "      <td>-0.517127</td>\n",
       "      <td>0.137551</td>\n",
       "      <td>0.233807</td>\n",
       "      <td>-0.618676</td>\n",
       "      <td>-1.062796</td>\n",
       "      <td>0</td>\n",
       "    </tr>\n",
       "    <tr>\n",
       "      <th>4</th>\n",
       "      <td>5</td>\n",
       "      <td>0.201</td>\n",
       "      <td>-0.147021</td>\n",
       "      <td>0.128874</td>\n",
       "      <td>-1.355926</td>\n",
       "      <td>-0.809316</td>\n",
       "      <td>-0.985951</td>\n",
       "      <td>-0.271975</td>\n",
       "      <td>0</td>\n",
       "    </tr>\n",
       "  </tbody>\n",
       "</table>\n",
       "</div>"
      ],
      "text/plain": [
       "   Pregnancies  DiabetesPedigreeFunction   Glucose  BloodPressure  \\\n",
       "0            6                     0.627  0.919492      -0.032626   \n",
       "1            1                     0.351 -1.180205      -0.517127   \n",
       "2            8                     0.672  2.085991      -0.678627   \n",
       "3            1                     0.167 -1.046891      -0.517127   \n",
       "4            5                     0.201 -0.147021       0.128874   \n",
       "\n",
       "   SkinThickness   Insulin       BMI       Age  Outcome  \n",
       "0       0.916757 -0.809316  0.189329  1.485404        1  \n",
       "1       0.527154 -0.809316 -0.839041 -0.184106        0  \n",
       "2      -1.355926 -0.809316 -1.323844 -0.096237        1  \n",
       "3       0.137551  0.233807 -0.618676 -1.062796        0  \n",
       "4      -1.355926 -0.809316 -0.985951 -0.271975        0  "
      ]
     },
     "execution_count": 144,
     "metadata": {},
     "output_type": "execute_result"
    }
   ],
   "source": [
    "df.head()"
   ]
  },
  {
   "cell_type": "code",
   "execution_count": 145,
   "id": "fe5d5d2c",
   "metadata": {},
   "outputs": [
    {
     "data": {
      "text/html": [
       "<div>\n",
       "<style scoped>\n",
       "    .dataframe tbody tr th:only-of-type {\n",
       "        vertical-align: middle;\n",
       "    }\n",
       "\n",
       "    .dataframe tbody tr th {\n",
       "        vertical-align: top;\n",
       "    }\n",
       "\n",
       "    .dataframe thead th {\n",
       "        text-align: right;\n",
       "    }\n",
       "</style>\n",
       "<table border=\"1\" class=\"dataframe\">\n",
       "  <thead>\n",
       "    <tr style=\"text-align: right;\">\n",
       "      <th></th>\n",
       "      <th>Pregnancies</th>\n",
       "      <th>DiabetesPedigreeFunction</th>\n",
       "      <th>Glucose</th>\n",
       "      <th>BloodPressure</th>\n",
       "      <th>SkinThickness</th>\n",
       "      <th>Insulin</th>\n",
       "      <th>BMI</th>\n",
       "      <th>Age</th>\n",
       "      <th>Outcome</th>\n",
       "    </tr>\n",
       "  </thead>\n",
       "  <tbody>\n",
       "    <tr>\n",
       "      <th>0</th>\n",
       "      <td>2</td>\n",
       "      <td>0.421</td>\n",
       "      <td>-0.169122</td>\n",
       "      <td>-0.843624</td>\n",
       "      <td>0.059243</td>\n",
       "      <td>-0.768879</td>\n",
       "      <td>-0.262018</td>\n",
       "      <td>-1.178567</td>\n",
       "      <td>0</td>\n",
       "    </tr>\n",
       "    <tr>\n",
       "      <th>1</th>\n",
       "      <td>1</td>\n",
       "      <td>0.293</td>\n",
       "      <td>-0.598339</td>\n",
       "      <td>0.061189</td>\n",
       "      <td>-1.282715</td>\n",
       "      <td>-0.768879</td>\n",
       "      <td>1.020810</td>\n",
       "      <td>0.517802</td>\n",
       "      <td>1</td>\n",
       "    </tr>\n",
       "    <tr>\n",
       "      <th>2</th>\n",
       "      <td>1</td>\n",
       "      <td>0.808</td>\n",
       "      <td>-0.037055</td>\n",
       "      <td>1.146964</td>\n",
       "      <td>1.096210</td>\n",
       "      <td>1.686459</td>\n",
       "      <td>1.920265</td>\n",
       "      <td>-0.532331</td>\n",
       "      <td>1</td>\n",
       "    </tr>\n",
       "    <tr>\n",
       "      <th>3</th>\n",
       "      <td>1</td>\n",
       "      <td>0.509</td>\n",
       "      <td>-1.093589</td>\n",
       "      <td>-1.205549</td>\n",
       "      <td>0.974214</td>\n",
       "      <td>0.068168</td>\n",
       "      <td>0.681672</td>\n",
       "      <td>-1.097787</td>\n",
       "      <td>0</td>\n",
       "    </tr>\n",
       "    <tr>\n",
       "      <th>4</th>\n",
       "      <td>9</td>\n",
       "      <td>0.302</td>\n",
       "      <td>1.481714</td>\n",
       "      <td>1.327926</td>\n",
       "      <td>-1.282715</td>\n",
       "      <td>-0.768879</td>\n",
       "      <td>-0.320999</td>\n",
       "      <td>1.083259</td>\n",
       "      <td>1</td>\n",
       "    </tr>\n",
       "  </tbody>\n",
       "</table>\n",
       "</div>"
      ],
      "text/plain": [
       "   Pregnancies  DiabetesPedigreeFunction   Glucose  BloodPressure  \\\n",
       "0            2                     0.421 -0.169122      -0.843624   \n",
       "1            1                     0.293 -0.598339       0.061189   \n",
       "2            1                     0.808 -0.037055       1.146964   \n",
       "3            1                     0.509 -1.093589      -1.205549   \n",
       "4            9                     0.302  1.481714       1.327926   \n",
       "\n",
       "   SkinThickness   Insulin       BMI       Age  Outcome  \n",
       "0       0.059243 -0.768879 -0.262018 -1.178567        0  \n",
       "1      -1.282715 -0.768879  1.020810  0.517802        1  \n",
       "2       1.096210  1.686459  1.920265 -0.532331        1  \n",
       "3       0.974214  0.068168  0.681672 -1.097787        0  \n",
       "4      -1.282715 -0.768879 -0.320999  1.083259        1  "
      ]
     },
     "execution_count": 145,
     "metadata": {},
     "output_type": "execute_result"
    }
   ],
   "source": [
    "df_t.head()"
   ]
  },
  {
   "cell_type": "code",
   "execution_count": 146,
   "id": "51f06b2e",
   "metadata": {},
   "outputs": [],
   "source": [
    "x_test=df_t.drop(df_t[[\"Outcome\"]],axis=1).values\n",
    "Y_test=df_t[\"Outcome\"].values"
   ]
  },
  {
   "cell_type": "code",
   "execution_count": 147,
   "id": "817dcc3d",
   "metadata": {},
   "outputs": [
    {
     "data": {
      "text/plain": [
       "array([[ 2.        ,  0.421     , -0.16912153, ..., -0.76887899,\n",
       "        -0.26201826, -1.17856672],\n",
       "       [ 1.        ,  0.293     , -0.59833868, ..., -0.76887899,\n",
       "         1.0208104 ,  0.51780224],\n",
       "       [ 1.        ,  0.808     , -0.03705472, ...,  1.6864593 ,\n",
       "         1.92026497, -0.53233093],\n",
       "       ...,\n",
       "       [ 6.        ,  0.382     , -1.15962263, ..., -0.76887899,\n",
       "        -0.20303763,  0.51780224],\n",
       "       [10.        ,  0.245     ,  0.42517913, ..., -0.76887899,\n",
       "        -0.82233422,  0.0331254 ],\n",
       "       [ 1.        ,  1.268     , -0.99453912, ..., -0.1104019 ,\n",
       "        -1.1024922 , -0.85544882]])"
      ]
     },
     "execution_count": 147,
     "metadata": {},
     "output_type": "execute_result"
    }
   ],
   "source": [
    "x_test"
   ]
  },
  {
   "cell_type": "code",
   "execution_count": 148,
   "id": "9fc3ded7",
   "metadata": {},
   "outputs": [
    {
     "data": {
      "text/plain": [
       "array([0, 1, 1, 0, 1, 1, 0, 1, 0, 0, 0, 0, 0, 0, 1, 1, 0, 1, 1, 0, 0, 1,\n",
       "       1, 0, 0, 1, 0, 1, 0, 0, 0, 0, 1, 1, 1, 0, 1, 0, 0, 0, 0, 0, 0, 0,\n",
       "       0, 0, 0, 1, 0, 1, 1, 0, 0, 1, 0, 1, 1, 0, 1, 0, 1, 0, 1, 0, 0, 0,\n",
       "       0, 0, 0, 0, 0, 1, 1, 0, 0, 0, 0, 1, 0, 1, 0, 0, 1, 1, 0, 0, 1, 1,\n",
       "       0, 0, 0, 0, 0, 1, 0, 0, 0, 0, 0, 1, 0, 1, 1, 0, 0, 0, 0, 0, 0, 0,\n",
       "       0, 1, 0, 1, 0, 1, 0, 1, 0, 0, 0, 0, 1, 0, 0, 1, 1, 0, 0, 1, 0, 1,\n",
       "       1, 0, 0, 0, 0, 0, 0], dtype=int64)"
      ]
     },
     "execution_count": 148,
     "metadata": {},
     "output_type": "execute_result"
    }
   ],
   "source": [
    "Y_test"
   ]
  },
  {
   "cell_type": "code",
   "execution_count": null,
   "id": "a2b6483f",
   "metadata": {},
   "outputs": [],
   "source": []
  },
  {
   "cell_type": "markdown",
   "id": "cc5c14a0",
   "metadata": {},
   "source": [
    " Technique: From self created crisp model maunal, study the level of sensitivity of each model w.r.t your target dataset. Give each model a score out of 10 based on how fit the model is for your target dataset. Now make a priority order for your models by seeing the score. Pick up the top 3 highest priority models. \n",
    " Now practically apply the modals with default parameters and select the model which practically performs the best in its default/base level.Now optimize the chosen model to the maximum according to the problem. You have built the model."
   ]
  },
  {
   "cell_type": "markdown",
   "id": "00ab4496",
   "metadata": {},
   "source": [
    "#### Characteristics of my target dataset"
   ]
  },
  {
   "cell_type": "code",
   "execution_count": 149,
   "id": "2da8125a",
   "metadata": {},
   "outputs": [
    {
     "data": {
      "text/plain": [
       "\" \\nA small dataset consisting of 622 rows and 8 columns.\\nFeatures don't seem to have any significant relation with each other.\\n\\n\""
      ]
     },
     "execution_count": 149,
     "metadata": {},
     "output_type": "execute_result"
    }
   ],
   "source": [
    "''' \n",
    "A small dataset consisting of 622 rows and 8 columns.\n",
    "Features don't seem to have any significant relation with each other.\n",
    "\n",
    "'''"
   ]
  },
  {
   "cell_type": "code",
   "execution_count": 150,
   "id": "7bfeceba",
   "metadata": {},
   "outputs": [
    {
     "data": {
      "text/html": [
       "<div>\n",
       "<style scoped>\n",
       "    .dataframe tbody tr th:only-of-type {\n",
       "        vertical-align: middle;\n",
       "    }\n",
       "\n",
       "    .dataframe tbody tr th {\n",
       "        vertical-align: top;\n",
       "    }\n",
       "\n",
       "    .dataframe thead th {\n",
       "        text-align: right;\n",
       "    }\n",
       "</style>\n",
       "<table border=\"1\" class=\"dataframe\">\n",
       "  <thead>\n",
       "    <tr style=\"text-align: right;\">\n",
       "      <th></th>\n",
       "      <th>Pregnancies</th>\n",
       "      <th>DiabetesPedigreeFunction</th>\n",
       "      <th>Glucose</th>\n",
       "      <th>BloodPressure</th>\n",
       "      <th>SkinThickness</th>\n",
       "      <th>Insulin</th>\n",
       "      <th>BMI</th>\n",
       "      <th>Age</th>\n",
       "      <th>Outcome</th>\n",
       "    </tr>\n",
       "  </thead>\n",
       "  <tbody>\n",
       "    <tr>\n",
       "      <th>0</th>\n",
       "      <td>6</td>\n",
       "      <td>0.627</td>\n",
       "      <td>0.919492</td>\n",
       "      <td>-0.032626</td>\n",
       "      <td>0.916757</td>\n",
       "      <td>-0.809316</td>\n",
       "      <td>0.189329</td>\n",
       "      <td>1.485404</td>\n",
       "      <td>1</td>\n",
       "    </tr>\n",
       "    <tr>\n",
       "      <th>1</th>\n",
       "      <td>1</td>\n",
       "      <td>0.351</td>\n",
       "      <td>-1.180205</td>\n",
       "      <td>-0.517127</td>\n",
       "      <td>0.527154</td>\n",
       "      <td>-0.809316</td>\n",
       "      <td>-0.839041</td>\n",
       "      <td>-0.184106</td>\n",
       "      <td>0</td>\n",
       "    </tr>\n",
       "    <tr>\n",
       "      <th>2</th>\n",
       "      <td>8</td>\n",
       "      <td>0.672</td>\n",
       "      <td>2.085991</td>\n",
       "      <td>-0.678627</td>\n",
       "      <td>-1.355926</td>\n",
       "      <td>-0.809316</td>\n",
       "      <td>-1.323844</td>\n",
       "      <td>-0.096237</td>\n",
       "      <td>1</td>\n",
       "    </tr>\n",
       "    <tr>\n",
       "      <th>3</th>\n",
       "      <td>1</td>\n",
       "      <td>0.167</td>\n",
       "      <td>-1.046891</td>\n",
       "      <td>-0.517127</td>\n",
       "      <td>0.137551</td>\n",
       "      <td>0.233807</td>\n",
       "      <td>-0.618676</td>\n",
       "      <td>-1.062796</td>\n",
       "      <td>0</td>\n",
       "    </tr>\n",
       "    <tr>\n",
       "      <th>4</th>\n",
       "      <td>5</td>\n",
       "      <td>0.201</td>\n",
       "      <td>-0.147021</td>\n",
       "      <td>0.128874</td>\n",
       "      <td>-1.355926</td>\n",
       "      <td>-0.809316</td>\n",
       "      <td>-0.985951</td>\n",
       "      <td>-0.271975</td>\n",
       "      <td>0</td>\n",
       "    </tr>\n",
       "  </tbody>\n",
       "</table>\n",
       "</div>"
      ],
      "text/plain": [
       "   Pregnancies  DiabetesPedigreeFunction   Glucose  BloodPressure  \\\n",
       "0            6                     0.627  0.919492      -0.032626   \n",
       "1            1                     0.351 -1.180205      -0.517127   \n",
       "2            8                     0.672  2.085991      -0.678627   \n",
       "3            1                     0.167 -1.046891      -0.517127   \n",
       "4            5                     0.201 -0.147021       0.128874   \n",
       "\n",
       "   SkinThickness   Insulin       BMI       Age  Outcome  \n",
       "0       0.916757 -0.809316  0.189329  1.485404        1  \n",
       "1       0.527154 -0.809316 -0.839041 -0.184106        0  \n",
       "2      -1.355926 -0.809316 -1.323844 -0.096237        1  \n",
       "3       0.137551  0.233807 -0.618676 -1.062796        0  \n",
       "4      -1.355926 -0.809316 -0.985951 -0.271975        0  "
      ]
     },
     "execution_count": 150,
     "metadata": {},
     "output_type": "execute_result"
    }
   ],
   "source": [
    "df.head()"
   ]
  },
  {
   "cell_type": "code",
   "execution_count": 151,
   "id": "ddd4f24d",
   "metadata": {},
   "outputs": [
    {
     "name": "stdout",
     "output_type": "stream",
     "text": [
      "<class 'pandas.core.frame.DataFrame'>\n",
      "RangeIndex: 693 entries, 0 to 692\n",
      "Data columns (total 9 columns):\n",
      " #   Column                    Non-Null Count  Dtype  \n",
      "---  ------                    --------------  -----  \n",
      " 0   Pregnancies               693 non-null    int64  \n",
      " 1   DiabetesPedigreeFunction  693 non-null    float64\n",
      " 2   Glucose                   693 non-null    float64\n",
      " 3   BloodPressure             693 non-null    float64\n",
      " 4   SkinThickness             693 non-null    float64\n",
      " 5   Insulin                   693 non-null    float64\n",
      " 6   BMI                       693 non-null    float64\n",
      " 7   Age                       693 non-null    float64\n",
      " 8   Outcome                   693 non-null    int64  \n",
      "dtypes: float64(7), int64(2)\n",
      "memory usage: 48.9 KB\n"
     ]
    }
   ],
   "source": [
    "df.info()"
   ]
  },
  {
   "cell_type": "code",
   "execution_count": 152,
   "id": "5250492d",
   "metadata": {},
   "outputs": [
    {
     "name": "stdout",
     "output_type": "stream",
     "text": [
      "0    461\n",
      "1    232\n",
      "Name: Outcome, dtype: int64\n"
     ]
    }
   ],
   "source": [
    "print(df[\"Outcome\"].value_counts())"
   ]
  },
  {
   "cell_type": "markdown",
   "id": "3519f4db",
   "metadata": {},
   "source": [
    "On a Scale Of 10\n",
    "1) Logistic Regression: 6.5\n",
    "2) Naïve Bayes: 5.5\n",
    "3) SGD:-\n",
    "4) Mini SGD: -\n",
    "5) K-NN: 5\n",
    "6) Decision Tree: 6\n",
    "7) Random Forest: 6\n",
    "8) Support Vector Machine: 5.5\n",
    "\n",
    "Priority order:  Logistic Regression >Decision Tree = Random Forest > Support Vector Machine = Naive Bayes "
   ]
  },
  {
   "cell_type": "markdown",
   "id": "88acb8d4",
   "metadata": {},
   "source": [
    "#### SVM Classifier Linear"
   ]
  },
  {
   "cell_type": "code",
   "execution_count": 153,
   "id": "083333cf",
   "metadata": {},
   "outputs": [
    {
     "data": {
      "text/plain": [
       "'from sklearn import svm\\nsvm_model_linear=svm.SVC(kernel=\"linear\")\\nsvm_model_linear.fit(x,Y)\\nsvm_model_linear_pred=svm_model_linear.predict(x_test)\\nprint(accuracy_score(Y_test,svm_model_linear_pred))'"
      ]
     },
     "execution_count": 153,
     "metadata": {},
     "output_type": "execute_result"
    }
   ],
   "source": [
    "'''from sklearn import svm\n",
    "svm_model_linear=svm.SVC(kernel=\"linear\")\n",
    "svm_model_linear.fit(x,Y)\n",
    "svm_model_linear_pred=svm_model_linear.predict(x_test)\n",
    "print(accuracy_score(Y_test,svm_model_linear_pred))'''"
   ]
  },
  {
   "cell_type": "code",
   "execution_count": 154,
   "id": "2dc17292",
   "metadata": {},
   "outputs": [
    {
     "data": {
      "text/plain": [
       "'from sklearn.metrics import confusion_matrix\\ncm=confusion_matrix(Y_test,svm_model_linear_pred)'"
      ]
     },
     "execution_count": 154,
     "metadata": {},
     "output_type": "execute_result"
    }
   ],
   "source": [
    "'''from sklearn.metrics import confusion_matrix\n",
    "cm=confusion_matrix(Y_test,svm_model_linear_pred)'''"
   ]
  },
  {
   "cell_type": "code",
   "execution_count": 155,
   "id": "0f2cae45",
   "metadata": {},
   "outputs": [
    {
     "data": {
      "text/plain": [
       "'sns.heatmap(cm,annot=True)'"
      ]
     },
     "execution_count": 155,
     "metadata": {},
     "output_type": "execute_result"
    }
   ],
   "source": [
    "'''sns.heatmap(cm,annot=True)'''"
   ]
  },
  {
   "cell_type": "code",
   "execution_count": 156,
   "id": "69cf64f8",
   "metadata": {},
   "outputs": [
    {
     "data": {
      "text/plain": [
       "'from sklearn.metrics import classification_report\\nprint(classification_report(Y_test,svm_model_linear_pred))'"
      ]
     },
     "execution_count": 156,
     "metadata": {},
     "output_type": "execute_result"
    }
   ],
   "source": [
    "'''from sklearn.metrics import classification_report\n",
    "print(classification_report(Y_test,svm_model_linear_pred))'''"
   ]
  },
  {
   "cell_type": "markdown",
   "id": "e43714ef",
   "metadata": {},
   "source": [
    "#### Improving AUC value (it should be at least more than 0.7)"
   ]
  },
  {
   "cell_type": "code",
   "execution_count": 157,
   "id": "845f8026",
   "metadata": {},
   "outputs": [
    {
     "data": {
      "text/plain": [
       "'\\nThat will be done by balancing the dataset. Techniques available to handle imbalanced dataset:\\n1) Undersampling\\n2) Oversampling\\n3) SMOTE(Synthetic Minority Over-sampling Technique)\\n4) Ensemble technique\\n'"
      ]
     },
     "execution_count": 157,
     "metadata": {},
     "output_type": "execute_result"
    }
   ],
   "source": [
    "#### Improving AUC value (it should be at least more than 0.7)\n",
    "'''\n",
    "That will be done by balancing the dataset. Techniques available to handle imbalanced dataset:\n",
    "1) Undersampling\n",
    "2) Oversampling\n",
    "3) SMOTE(Synthetic Minority Over-sampling Technique)\n",
    "4) Ensemble technique\n",
    "'''\n",
    "#Going for SMOTE"
   ]
  },
  {
   "cell_type": "code",
   "execution_count": 158,
   "id": "308863ee",
   "metadata": {},
   "outputs": [
    {
     "name": "stderr",
     "output_type": "stream",
     "text": [
      "C:\\Users\\hp\\AppData\\Local\\Programs\\Python\\Python39\\lib\\site-packages\\imblearn\\utils\\_validation.py:586: FutureWarning: Pass sampling_strategy=0.75 as keyword args. From version 0.9 passing these as positional arguments will result in an error\n",
      "  warnings.warn(\n"
     ]
    }
   ],
   "source": [
    "#Going for SMOTE\n",
    "from imblearn.combine import SMOTETomek\n",
    "os=SMOTETomek(0.75)\n",
    "x,Y=os.fit_resample(x,Y)"
   ]
  },
  {
   "cell_type": "code",
   "execution_count": null,
   "id": "08208c9b",
   "metadata": {},
   "outputs": [],
   "source": []
  },
  {
   "cell_type": "markdown",
   "id": "c0ce589d",
   "metadata": {},
   "source": [
    "## Logistic Regression complete"
   ]
  },
  {
   "cell_type": "code",
   "execution_count": 159,
   "id": "f453995e",
   "metadata": {},
   "outputs": [
    {
     "name": "stdout",
     "output_type": "stream",
     "text": [
      "0.7122302158273381\n"
     ]
    }
   ],
   "source": [
    "from sklearn.linear_model import LogisticRegression\n",
    "logistic_reg=LogisticRegression(random_state=42)\n",
    "logistic_reg.fit(x,Y)\n",
    "Y_logistic_reg_pred=logistic_reg.predict(x_test)\n",
    "print(accuracy_score(Y_test,Y_logistic_reg_pred))"
   ]
  },
  {
   "cell_type": "code",
   "execution_count": 160,
   "id": "449a71eb",
   "metadata": {},
   "outputs": [],
   "source": [
    "from sklearn.metrics import confusion_matrix\n",
    "cm=confusion_matrix(Y_test,Y_logistic_reg_pred)"
   ]
  },
  {
   "cell_type": "code",
   "execution_count": 161,
   "id": "7047161a",
   "metadata": {},
   "outputs": [
    {
     "data": {
      "text/plain": [
       "<AxesSubplot:>"
      ]
     },
     "execution_count": 161,
     "metadata": {},
     "output_type": "execute_result"
    },
    {
     "data": {
      "image/png": "[encoded data removed]",
      "text/plain": [
       "<Figure size 432x288 with 2 Axes>"
      ]
     },
     "metadata": {
      "needs_background": "light"
     },
     "output_type": "display_data"
    }
   ],
   "source": [
    "sns.heatmap(cm,annot=True)"
   ]
  },
  {
   "cell_type": "code",
   "execution_count": 162,
   "id": "2bba5521",
   "metadata": {},
   "outputs": [
    {
     "name": "stdout",
     "output_type": "stream",
     "text": [
      "              precision    recall  f1-score   support\n",
      "\n",
      "           0       0.78      0.78      0.78        91\n",
      "           1       0.58      0.58      0.58        48\n",
      "\n",
      "    accuracy                           0.71       139\n",
      "   macro avg       0.68      0.68      0.68       139\n",
      "weighted avg       0.71      0.71      0.71       139\n",
      "\n"
     ]
    }
   ],
   "source": [
    "from sklearn.metrics import classification_report\n",
    "print(classification_report(Y_test,Y_logistic_reg_pred))"
   ]
  },
  {
   "cell_type": "code",
   "execution_count": 163,
   "id": "0ec26282",
   "metadata": {},
   "outputs": [],
   "source": [
    "# Accuracy of Linear SVM and Logistic Regression comes out to be the same because the problem could be solved linearly\n",
    "#i.e the labels could be separated by a 2D plane"
   ]
  },
  {
   "cell_type": "code",
   "execution_count": 164,
   "id": "ad8fdc78",
   "metadata": {},
   "outputs": [],
   "source": [
    "#Finally, picking logistic regression as my model for this project"
   ]
  },
  {
   "cell_type": "markdown",
   "id": "531bb72c",
   "metadata": {},
   "source": [
    "## Optimizing Model"
   ]
  },
  {
   "cell_type": "markdown",
   "id": "7fd13b3a",
   "metadata": {},
   "source": [
    "## Target Problem oriented tuning"
   ]
  },
  {
   "cell_type": "code",
   "execution_count": 165,
   "id": "6d664df5",
   "metadata": {},
   "outputs": [],
   "source": [
    "# We have to ensure that actual yes but predicted no should be reduced (A21)"
   ]
  },
  {
   "cell_type": "code",
   "execution_count": 166,
   "id": "b598b308",
   "metadata": {},
   "outputs": [
    {
     "data": {
      "text/plain": [
       "0    461\n",
       "1    232\n",
       "Name: Outcome, dtype: int64"
      ]
     },
     "execution_count": 166,
     "metadata": {},
     "output_type": "execute_result"
    }
   ],
   "source": [
    "df[\"Outcome\"].value_counts()"
   ]
  },
  {
   "cell_type": "code",
   "execution_count": 167,
   "id": "23c99bc4",
   "metadata": {},
   "outputs": [],
   "source": [
    "from sklearn.metrics import roc_curve\n",
    "from sklearn.metrics import roc_auc_score"
   ]
  },
  {
   "cell_type": "code",
   "execution_count": 168,
   "id": "f3b05fdc",
   "metadata": {},
   "outputs": [
    {
     "data": {
      "text/plain": [
       "0.6817765567765568"
      ]
     },
     "execution_count": 168,
     "metadata": {},
     "output_type": "execute_result"
    }
   ],
   "source": [
    "#AUROC: Area under roc_curve\n",
    "AUROC=roc_auc_score(Y_test,Y_logistic_reg_pred)\n",
    "AUROC"
   ]
  },
  {
   "cell_type": "code",
   "execution_count": 169,
   "id": "f0cfd8b6",
   "metadata": {},
   "outputs": [
    {
     "data": {
      "image/png": "[encoded data removed]",
      "text/plain": [
       "<Figure size 720x720 with 1 Axes>"
      ]
     },
     "metadata": {
      "needs_background": "light"
     },
     "output_type": "display_data"
    }
   ],
   "source": [
    "#Plotting ROC curve\n",
    "FPR, TPR,_ = roc_curve(Y_test, Y_logistic_reg_pred)\n",
    "plt.figure(figsize=(10,10))\n",
    "plt.plot(FPR, TPR, linestyle='--', label='Random prediction (AUROC = %0.3f)' %AUROC)\n",
    "\n",
    "# Title\n",
    "plt.title('ROC Plot')\n",
    "\n",
    "# Axis labels\n",
    "plt.xlabel('False Positive Rate')\n",
    "plt.ylabel('True Positive Rate')\n",
    " \n",
    "# Show plot\n",
    "plt.show()"
   ]
  },
  {
   "cell_type": "code",
   "execution_count": null,
   "id": "9ff28d10",
   "metadata": {},
   "outputs": [],
   "source": []
  },
  {
   "cell_type": "code",
   "execution_count": null,
   "id": "243d4ee3",
   "metadata": {},
   "outputs": [],
   "source": []
  },
  {
   "cell_type": "code",
   "execution_count": null,
   "id": "4855fd91",
   "metadata": {},
   "outputs": [],
   "source": []
  },
  {
   "cell_type": "code",
   "execution_count": 170,
   "id": "62ecf165",
   "metadata": {},
   "outputs": [
    {
     "data": {
      "image/png": "[encoded data removed]",
      "text/plain": [
       "<Figure size 720x720 with 1 Axes>"
      ]
     },
     "metadata": {
      "needs_background": "light"
     },
     "output_type": "display_data"
    }
   ],
   "source": [
    "from sklearn.metrics import precision_recall_curve\n",
    "FPR,TPR, thresholds = precision_recall_curve(Y_test, Y_logistic_reg_pred)\n",
    "def plot_precision_recall_vs_threshold(FPR, TPR, thresholds):\n",
    "    plt.figure(figsize=(10,10))\n",
    "    plt.plot(thresholds, FPR[:-1], \"b--\", label=\"FPR\")\n",
    "    plt.plot(thresholds, TPR[:-1], \"g-\", label=\"TPR\")\n",
    "    plt.xlabel(\"Threshold\")\n",
    "    plt.legend(loc='upper right', frameon=True)\n",
    " \n",
    "\n",
    "plot_precision_recall_vs_threshold(FPR, TPR, thresholds)\n",
    "plt.show()"
   ]
  },
  {
   "cell_type": "markdown",
   "id": "1e65c374",
   "metadata": {},
   "source": [
    "### Creating an Optimized Model\n",
    "\n",
    "The parameters are numbers that tells the model what to do with the features, while hyperparameters tell the model how to choose parameters."
   ]
  },
  {
   "cell_type": "code",
   "execution_count": 171,
   "id": "b4439ba3",
   "metadata": {},
   "outputs": [
    {
     "data": {
      "text/plain": [
       "'\\n\\nAll hyperparameters: \\n1) Penalty: [\"l2\",\\'l1\\',\\'none\\',\"elasticnet\"] (exhaustive set)\\n2) Dual: [False,True] (exhaustive set)\\n3) tol: [0.0001,0.0002,0.0009,0.09,0.5] (totally inexhaustive set)\\n (A lower tol is almost always what you want, otherwise you risk the algorithm not converging,\\n which is what I think you\\'re seeing here.\\n My suggestion would be to leave it as default unless you have some huge complex dataset)\\n4)C:  [-5,-2.5,-1.5,-0.5,1,1.5,2,5] (totally inexhaustive set)\\n (A high value of C tells the model to give high weight to the training data, and a lower weight to \\n the complexity penalty.Basically, a high C means \"Trust this training data\\n a lot\", while a low value says \"This data may not be fully representative of the real world data,\\n so if it\\'s telling you to make a parameter really large, don\\'t listen to it\")\\n5)fit_intercept: [True,False] (exhaustive set)\\n   False ==> the value of y-intercept will be taken 0\\n   True ==> the value of y-intercept will not be taken 0 and will be founded by further calculations\\n6)class_weight: [\"balanced\",None]\\n7)random_state:\\n8)solver: [‘newton-cg’, ‘lbfgs’, ‘liblinear’, ‘sag’, ‘saga’]\\n9)max_iter=[100,90,110,50,200] (inexhaustive set)\\n10)multi_class=[\"auto\", \"ovr\", \"multinomial\"]\\n'"
      ]
     },
     "execution_count": 171,
     "metadata": {},
     "output_type": "execute_result"
    }
   ],
   "source": [
    "'''\n",
    "\n",
    "All hyperparameters: \n",
    "1) Penalty: [\"l2\",'l1','none',\"elasticnet\"] (exhaustive set)\n",
    "2) Dual: [False,True] (exhaustive set)\n",
    "3) tol: [0.0001,0.0002,0.0009,0.09,0.5] (totally inexhaustive set)\n",
    " (A lower tol is almost always what you want, otherwise you risk the algorithm not converging,\n",
    " which is what I think you're seeing here.\n",
    " My suggestion would be to leave it as default unless you have some huge complex dataset)\n",
    "4)C:  [-5,-2.5,-1.5,-0.5,1,1.5,2,5] (totally inexhaustive set)\n",
    " (A high value of C tells the model to give high weight to the training data, and a lower weight to \n",
    " the complexity penalty.Basically, a high C means \"Trust this training data\n",
    " a lot\", while a low value says \"This data may not be fully representative of the real world data,\n",
    " so if it's telling you to make a parameter really large, don't listen to it\")\n",
    "5)fit_intercept: [True,False] (exhaustive set)\n",
    "   False ==> the value of y-intercept will be taken 0\n",
    "   True ==> the value of y-intercept will not be taken 0 and will be founded by further calculations\n",
    "6)class_weight: [\"balanced\",None]\n",
    "7)random_state:\n",
    "8)solver: [‘newton-cg’, ‘lbfgs’, ‘liblinear’, ‘sag’, ‘saga’]\n",
    "9)max_iter=[100,90,110,50,200] (inexhaustive set)\n",
    "10)multi_class=[\"auto\", \"ovr\", \"multinomial\"]\n",
    "'''"
   ]
  },
  {
   "cell_type": "code",
   "execution_count": 172,
   "id": "5a4921b5",
   "metadata": {},
   "outputs": [],
   "source": [
    "lr=LogisticRegression()"
   ]
  },
  {
   "cell_type": "code",
   "execution_count": 173,
   "id": "70a08a5c",
   "metadata": {},
   "outputs": [],
   "source": [
    "#Randomized Search CV\n",
    "penalty=[\"l2\",'l1','none',\"elasticnet\"]\n",
    "Dual=[False,True]\n",
    "tol=[x for x in np.linspace(start=0.00001, stop=0.001,num=10).astype(float)]\n",
    "C=[x for x in np.linspace(start=-10,stop=10,)] +[1]\n",
    "fit_intercept=[True,False]\n",
    "class_weight=[\"balanced\",None]\n",
    "solver=[\"newton-cg\", \"lbfgs\", \"liblinear\", \"sag\", \"saga\"]\n",
    "max_iter=[x for x in np.linspace(start=10,stop=200,num=10).astype(int)] + [100]\n",
    "multi_class=[\"auto\", \"ovr\", \"multinomial\"]\n",
    "\n",
    "\n",
    "random_grid={\n",
    "    \"penalty\" : penalty,\n",
    "     \"dual\" : Dual,\n",
    "    \"tol\": tol,\n",
    "    \"C\": C,\n",
    "    \"fit_intercept\": fit_intercept,\n",
    "    \"class_weight\" : class_weight,\n",
    "    \"solver\" : solver,\n",
    "    \"max_iter\" : max_iter,\n",
    "    \"multi_class\" : multi_class,\n",
    "}"
   ]
  },
  {
   "cell_type": "code",
   "execution_count": 174,
   "id": "fef3dfa9",
   "metadata": {},
   "outputs": [
    {
     "name": "stdout",
     "output_type": "stream",
     "text": [
      "Fitting 3 folds for each of 100 candidates, totalling 300 fits\n"
     ]
    },
    {
     "name": "stderr",
     "output_type": "stream",
     "text": [
      "C:\\Users\\hp\\AppData\\Local\\Programs\\Python\\Python39\\lib\\site-packages\\sklearn\\model_selection\\_validation.py:372: FitFailedWarning: \n",
      "261 fits failed out of a total of 300.\n",
      "The score on these train-test partitions for these parameters will be set to nan.\n",
      "If these failures are not expected, you can try to debug them by setting error_score='raise'.\n",
      "\n",
      "Below are more details about the failures:\n",
      "--------------------------------------------------------------------------------\n",
      "9 fits failed with the following error:\n",
      "Traceback (most recent call last):\n",
      "  File \"C:\\Users\\hp\\AppData\\Local\\Programs\\Python\\Python39\\lib\\site-packages\\sklearn\\model_selection\\_validation.py\", line 680, in _fit_and_score\n",
      "    estimator.fit(X_train, y_train, **fit_params)\n",
      "  File \"C:\\Users\\hp\\AppData\\Local\\Programs\\Python\\Python39\\lib\\site-packages\\sklearn\\linear_model\\_logistic.py\", line 1461, in fit\n",
      "    solver = _check_solver(self.solver, self.penalty, self.dual)\n",
      "  File \"C:\\Users\\hp\\AppData\\Local\\Programs\\Python\\Python39\\lib\\site-packages\\sklearn\\linear_model\\_logistic.py\", line 452, in _check_solver\n",
      "    raise ValueError(\n",
      "ValueError: Solver lbfgs supports only dual=False, got dual=True\n",
      "\n",
      "--------------------------------------------------------------------------------\n",
      "9 fits failed with the following error:\n",
      "Traceback (most recent call last):\n",
      "  File \"C:\\Users\\hp\\AppData\\Local\\Programs\\Python\\Python39\\lib\\site-packages\\sklearn\\model_selection\\_validation.py\", line 680, in _fit_and_score\n",
      "    estimator.fit(X_train, y_train, **fit_params)\n",
      "  File \"C:\\Users\\hp\\AppData\\Local\\Programs\\Python\\Python39\\lib\\site-packages\\sklearn\\linear_model\\_logistic.py\", line 1461, in fit\n",
      "    solver = _check_solver(self.solver, self.penalty, self.dual)\n",
      "  File \"C:\\Users\\hp\\AppData\\Local\\Programs\\Python\\Python39\\lib\\site-packages\\sklearn\\linear_model\\_logistic.py\", line 447, in _check_solver\n",
      "    raise ValueError(\n",
      "ValueError: Solver lbfgs supports only 'l2' or 'none' penalties, got l1 penalty.\n",
      "\n",
      "--------------------------------------------------------------------------------\n",
      "9 fits failed with the following error:\n",
      "Traceback (most recent call last):\n",
      "  File \"C:\\Users\\hp\\AppData\\Local\\Programs\\Python\\Python39\\lib\\site-packages\\sklearn\\model_selection\\_validation.py\", line 680, in _fit_and_score\n",
      "    estimator.fit(X_train, y_train, **fit_params)\n",
      "  File \"C:\\Users\\hp\\AppData\\Local\\Programs\\Python\\Python39\\lib\\site-packages\\sklearn\\linear_model\\_logistic.py\", line 1461, in fit\n",
      "    solver = _check_solver(self.solver, self.penalty, self.dual)\n",
      "  File \"C:\\Users\\hp\\AppData\\Local\\Programs\\Python\\Python39\\lib\\site-packages\\sklearn\\linear_model\\_logistic.py\", line 447, in _check_solver\n",
      "    raise ValueError(\n",
      "ValueError: Solver newton-cg supports only 'l2' or 'none' penalties, got elasticnet penalty.\n",
      "\n",
      "--------------------------------------------------------------------------------\n",
      "3 fits failed with the following error:\n",
      "Traceback (most recent call last):\n",
      "  File \"C:\\Users\\hp\\AppData\\Local\\Programs\\Python\\Python39\\lib\\site-packages\\sklearn\\model_selection\\_validation.py\", line 680, in _fit_and_score\n",
      "    estimator.fit(X_train, y_train, **fit_params)\n",
      "  File \"C:\\Users\\hp\\AppData\\Local\\Programs\\Python\\Python39\\lib\\site-packages\\sklearn\\linear_model\\_logistic.py\", line 1464, in fit\n",
      "    raise ValueError(\"Penalty term must be positive; got (C=%r)\" % self.C)\n",
      "ValueError: Penalty term must be positive; got (C=-9.591836734693878)\n",
      "\n",
      "--------------------------------------------------------------------------------\n",
      "9 fits failed with the following error:\n",
      "Traceback (most recent call last):\n",
      "  File \"C:\\Users\\hp\\AppData\\Local\\Programs\\Python\\Python39\\lib\\site-packages\\sklearn\\model_selection\\_validation.py\", line 680, in _fit_and_score\n",
      "    estimator.fit(X_train, y_train, **fit_params)\n",
      "  File \"C:\\Users\\hp\\AppData\\Local\\Programs\\Python\\Python39\\lib\\site-packages\\sklearn\\linear_model\\_logistic.py\", line 1464, in fit\n",
      "    raise ValueError(\"Penalty term must be positive; got (C=%r)\" % self.C)\n",
      "ValueError: Penalty term must be positive; got (C=-8.36734693877551)\n",
      "\n",
      "--------------------------------------------------------------------------------\n",
      "3 fits failed with the following error:\n",
      "Traceback (most recent call last):\n",
      "  File \"C:\\Users\\hp\\AppData\\Local\\Programs\\Python\\Python39\\lib\\site-packages\\sklearn\\model_selection\\_validation.py\", line 680, in _fit_and_score\n",
      "    estimator.fit(X_train, y_train, **fit_params)\n",
      "  File \"C:\\Users\\hp\\AppData\\Local\\Programs\\Python\\Python39\\lib\\site-packages\\sklearn\\linear_model\\_logistic.py\", line 1464, in fit\n",
      "    raise ValueError(\"Penalty term must be positive; got (C=%r)\" % self.C)\n",
      "ValueError: Penalty term must be positive; got (C=-4.6938775510204085)\n",
      "\n",
      "--------------------------------------------------------------------------------\n",
      "45 fits failed with the following error:\n",
      "Traceback (most recent call last):\n",
      "  File \"C:\\Users\\hp\\AppData\\Local\\Programs\\Python\\Python39\\lib\\site-packages\\sklearn\\model_selection\\_validation.py\", line 680, in _fit_and_score\n",
      "    estimator.fit(X_train, y_train, **fit_params)\n",
      "  File \"C:\\Users\\hp\\AppData\\Local\\Programs\\Python\\Python39\\lib\\site-packages\\sklearn\\linear_model\\_logistic.py\", line 1461, in fit\n",
      "    solver = _check_solver(self.solver, self.penalty, self.dual)\n",
      "  File \"C:\\Users\\hp\\AppData\\Local\\Programs\\Python\\Python39\\lib\\site-packages\\sklearn\\linear_model\\_logistic.py\", line 452, in _check_solver\n",
      "    raise ValueError(\n",
      "ValueError: Solver saga supports only dual=False, got dual=True\n",
      "\n",
      "--------------------------------------------------------------------------------\n",
      "18 fits failed with the following error:\n",
      "Traceback (most recent call last):\n",
      "  File \"C:\\Users\\hp\\AppData\\Local\\Programs\\Python\\Python39\\lib\\site-packages\\sklearn\\model_selection\\_validation.py\", line 680, in _fit_and_score\n",
      "    estimator.fit(X_train, y_train, **fit_params)\n",
      "  File \"C:\\Users\\hp\\AppData\\Local\\Programs\\Python\\Python39\\lib\\site-packages\\sklearn\\linear_model\\_logistic.py\", line 1461, in fit\n",
      "    solver = _check_solver(self.solver, self.penalty, self.dual)\n",
      "  File \"C:\\Users\\hp\\AppData\\Local\\Programs\\Python\\Python39\\lib\\site-packages\\sklearn\\linear_model\\_logistic.py\", line 464, in _check_solver\n",
      "    raise ValueError(\"penalty='none' is not supported for the liblinear solver\")\n",
      "ValueError: penalty='none' is not supported for the liblinear solver\n",
      "\n",
      "--------------------------------------------------------------------------------\n",
      "6 fits failed with the following error:\n",
      "Traceback (most recent call last):\n",
      "  File \"C:\\Users\\hp\\AppData\\Local\\Programs\\Python\\Python39\\lib\\site-packages\\sklearn\\model_selection\\_validation.py\", line 680, in _fit_and_score\n",
      "    estimator.fit(X_train, y_train, **fit_params)\n",
      "  File \"C:\\Users\\hp\\AppData\\Local\\Programs\\Python\\Python39\\lib\\site-packages\\sklearn\\linear_model\\_logistic.py\", line 1464, in fit\n",
      "    raise ValueError(\"Penalty term must be positive; got (C=%r)\" % self.C)\n",
      "ValueError: Penalty term must be positive; got (C=-9.183673469387756)\n",
      "\n",
      "--------------------------------------------------------------------------------\n",
      "6 fits failed with the following error:\n",
      "Traceback (most recent call last):\n",
      "  File \"C:\\Users\\hp\\AppData\\Local\\Programs\\Python\\Python39\\lib\\site-packages\\sklearn\\model_selection\\_validation.py\", line 680, in _fit_and_score\n",
      "    estimator.fit(X_train, y_train, **fit_params)\n",
      "  File \"C:\\Users\\hp\\AppData\\Local\\Programs\\Python\\Python39\\lib\\site-packages\\sklearn\\linear_model\\_logistic.py\", line 1464, in fit\n",
      "    raise ValueError(\"Penalty term must be positive; got (C=%r)\" % self.C)\n",
      "ValueError: Penalty term must be positive; got (C=-3.4693877551020407)\n",
      "\n",
      "--------------------------------------------------------------------------------\n",
      "3 fits failed with the following error:\n",
      "Traceback (most recent call last):\n",
      "  File \"C:\\Users\\hp\\AppData\\Local\\Programs\\Python\\Python39\\lib\\site-packages\\sklearn\\model_selection\\_validation.py\", line 680, in _fit_and_score\n",
      "    estimator.fit(X_train, y_train, **fit_params)\n",
      "  File \"C:\\Users\\hp\\AppData\\Local\\Programs\\Python\\Python39\\lib\\site-packages\\sklearn\\linear_model\\_logistic.py\", line 1464, in fit\n",
      "    raise ValueError(\"Penalty term must be positive; got (C=%r)\" % self.C)\n",
      "ValueError: Penalty term must be positive; got (C=-3.0612244897959187)\n",
      "\n",
      "--------------------------------------------------------------------------------\n",
      "15 fits failed with the following error:\n",
      "Traceback (most recent call last):\n",
      "  File \"C:\\Users\\hp\\AppData\\Local\\Programs\\Python\\Python39\\lib\\site-packages\\sklearn\\model_selection\\_validation.py\", line 680, in _fit_and_score\n",
      "    estimator.fit(X_train, y_train, **fit_params)\n",
      "  File \"C:\\Users\\hp\\AppData\\Local\\Programs\\Python\\Python39\\lib\\site-packages\\sklearn\\linear_model\\_logistic.py\", line 1461, in fit\n",
      "    solver = _check_solver(self.solver, self.penalty, self.dual)\n",
      "  File \"C:\\Users\\hp\\AppData\\Local\\Programs\\Python\\Python39\\lib\\site-packages\\sklearn\\linear_model\\_logistic.py\", line 452, in _check_solver\n",
      "    raise ValueError(\n",
      "ValueError: Solver sag supports only dual=False, got dual=True\n",
      "\n",
      "--------------------------------------------------------------------------------\n",
      "15 fits failed with the following error:\n",
      "Traceback (most recent call last):\n",
      "  File \"C:\\Users\\hp\\AppData\\Local\\Programs\\Python\\Python39\\lib\\site-packages\\sklearn\\model_selection\\_validation.py\", line 680, in _fit_and_score\n",
      "    estimator.fit(X_train, y_train, **fit_params)\n",
      "  File \"C:\\Users\\hp\\AppData\\Local\\Programs\\Python\\Python39\\lib\\site-packages\\sklearn\\linear_model\\_logistic.py\", line 1461, in fit\n",
      "    solver = _check_solver(self.solver, self.penalty, self.dual)\n",
      "  File \"C:\\Users\\hp\\AppData\\Local\\Programs\\Python\\Python39\\lib\\site-packages\\sklearn\\linear_model\\_logistic.py\", line 447, in _check_solver\n",
      "    raise ValueError(\n",
      "ValueError: Solver sag supports only 'l2' or 'none' penalties, got elasticnet penalty.\n",
      "\n",
      "--------------------------------------------------------------------------------\n",
      "21 fits failed with the following error:\n",
      "Traceback (most recent call last):\n",
      "  File \"C:\\Users\\hp\\AppData\\Local\\Programs\\Python\\Python39\\lib\\site-packages\\sklearn\\model_selection\\_validation.py\", line 680, in _fit_and_score\n",
      "    estimator.fit(X_train, y_train, **fit_params)\n",
      "  File \"C:\\Users\\hp\\AppData\\Local\\Programs\\Python\\Python39\\lib\\site-packages\\sklearn\\linear_model\\_logistic.py\", line 1461, in fit\n",
      "    solver = _check_solver(self.solver, self.penalty, self.dual)\n",
      "  File \"C:\\Users\\hp\\AppData\\Local\\Programs\\Python\\Python39\\lib\\site-packages\\sklearn\\linear_model\\_logistic.py\", line 447, in _check_solver\n",
      "    raise ValueError(\n",
      "ValueError: Solver sag supports only 'l2' or 'none' penalties, got l1 penalty.\n",
      "\n",
      "--------------------------------------------------------------------------------\n",
      "6 fits failed with the following error:\n",
      "Traceback (most recent call last):\n",
      "  File \"C:\\Users\\hp\\AppData\\Local\\Programs\\Python\\Python39\\lib\\site-packages\\sklearn\\model_selection\\_validation.py\", line 680, in _fit_and_score\n",
      "    estimator.fit(X_train, y_train, **fit_params)\n",
      "  File \"C:\\Users\\hp\\AppData\\Local\\Programs\\Python\\Python39\\lib\\site-packages\\sklearn\\linear_model\\_logistic.py\", line 1464, in fit\n",
      "    raise ValueError(\"Penalty term must be positive; got (C=%r)\" % self.C)\n",
      "ValueError: Penalty term must be positive; got (C=-6.73469387755102)\n",
      "\n",
      "--------------------------------------------------------------------------------\n",
      "3 fits failed with the following error:\n",
      "Traceback (most recent call last):\n",
      "  File \"C:\\Users\\hp\\AppData\\Local\\Programs\\Python\\Python39\\lib\\site-packages\\sklearn\\model_selection\\_validation.py\", line 680, in _fit_and_score\n",
      "    estimator.fit(X_train, y_train, **fit_params)\n",
      "  File \"C:\\Users\\hp\\AppData\\Local\\Programs\\Python\\Python39\\lib\\site-packages\\sklearn\\linear_model\\_logistic.py\", line 1464, in fit\n",
      "    raise ValueError(\"Penalty term must be positive; got (C=%r)\" % self.C)\n",
      "ValueError: Penalty term must be positive; got (C=-4.285714285714286)\n",
      "\n",
      "--------------------------------------------------------------------------------\n",
      "9 fits failed with the following error:\n",
      "Traceback (most recent call last):\n",
      "  File \"C:\\Users\\hp\\AppData\\Local\\Programs\\Python\\Python39\\lib\\site-packages\\sklearn\\model_selection\\_validation.py\", line 680, in _fit_and_score\n",
      "    estimator.fit(X_train, y_train, **fit_params)\n",
      "  File \"C:\\Users\\hp\\AppData\\Local\\Programs\\Python\\Python39\\lib\\site-packages\\sklearn\\linear_model\\_logistic.py\", line 1461, in fit\n",
      "    solver = _check_solver(self.solver, self.penalty, self.dual)\n",
      "  File \"C:\\Users\\hp\\AppData\\Local\\Programs\\Python\\Python39\\lib\\site-packages\\sklearn\\linear_model\\_logistic.py\", line 447, in _check_solver\n",
      "    raise ValueError(\n",
      "ValueError: Solver lbfgs supports only 'l2' or 'none' penalties, got elasticnet penalty.\n",
      "\n",
      "--------------------------------------------------------------------------------\n",
      "24 fits failed with the following error:\n",
      "Traceback (most recent call last):\n",
      "  File \"C:\\Users\\hp\\AppData\\Local\\Programs\\Python\\Python39\\lib\\site-packages\\sklearn\\model_selection\\_validation.py\", line 680, in _fit_and_score\n",
      "    estimator.fit(X_train, y_train, **fit_params)\n",
      "  File \"C:\\Users\\hp\\AppData\\Local\\Programs\\Python\\Python39\\lib\\site-packages\\sklearn\\linear_model\\_logistic.py\", line 1461, in fit\n",
      "    solver = _check_solver(self.solver, self.penalty, self.dual)\n",
      "  File \"C:\\Users\\hp\\AppData\\Local\\Programs\\Python\\Python39\\lib\\site-packages\\sklearn\\linear_model\\_logistic.py\", line 452, in _check_solver\n",
      "    raise ValueError(\n",
      "ValueError: Solver newton-cg supports only dual=False, got dual=True\n",
      "\n",
      "--------------------------------------------------------------------------------\n",
      "3 fits failed with the following error:\n",
      "Traceback (most recent call last):\n",
      "  File \"C:\\Users\\hp\\AppData\\Local\\Programs\\Python\\Python39\\lib\\site-packages\\sklearn\\model_selection\\_validation.py\", line 680, in _fit_and_score\n",
      "    estimator.fit(X_train, y_train, **fit_params)\n",
      "  File \"C:\\Users\\hp\\AppData\\Local\\Programs\\Python\\Python39\\lib\\site-packages\\sklearn\\linear_model\\_logistic.py\", line 1519, in fit\n",
      "    multi_class = _check_multi_class(self.multi_class, solver, len(self.classes_))\n",
      "  File \"C:\\Users\\hp\\AppData\\Local\\Programs\\Python\\Python39\\lib\\site-packages\\sklearn\\linear_model\\_logistic.py\", line 483, in _check_multi_class\n",
      "    raise ValueError(\"Solver %s does not support a multinomial backend.\" % solver)\n",
      "ValueError: Solver liblinear does not support a multinomial backend.\n",
      "\n",
      "--------------------------------------------------------------------------------\n",
      "9 fits failed with the following error:\n",
      "Traceback (most recent call last):\n",
      "  File \"C:\\Users\\hp\\AppData\\Local\\Programs\\Python\\Python39\\lib\\site-packages\\sklearn\\model_selection\\_validation.py\", line 680, in _fit_and_score\n",
      "    estimator.fit(X_train, y_train, **fit_params)\n",
      "  File \"C:\\Users\\hp\\AppData\\Local\\Programs\\Python\\Python39\\lib\\site-packages\\sklearn\\linear_model\\_logistic.py\", line 1461, in fit\n",
      "    solver = _check_solver(self.solver, self.penalty, self.dual)\n",
      "  File \"C:\\Users\\hp\\AppData\\Local\\Programs\\Python\\Python39\\lib\\site-packages\\sklearn\\linear_model\\_logistic.py\", line 457, in _check_solver\n",
      "    raise ValueError(\n",
      "ValueError: Only 'saga' solver supports elasticnet penalty, got solver=liblinear.\n",
      "\n",
      "--------------------------------------------------------------------------------\n",
      "15 fits failed with the following error:\n",
      "Traceback (most recent call last):\n",
      "  File \"C:\\Users\\hp\\AppData\\Local\\Programs\\Python\\Python39\\lib\\site-packages\\sklearn\\model_selection\\_validation.py\", line 680, in _fit_and_score\n",
      "    estimator.fit(X_train, y_train, **fit_params)\n",
      "  File \"C:\\Users\\hp\\AppData\\Local\\Programs\\Python\\Python39\\lib\\site-packages\\sklearn\\linear_model\\_logistic.py\", line 1461, in fit\n",
      "    solver = _check_solver(self.solver, self.penalty, self.dual)\n",
      "  File \"C:\\Users\\hp\\AppData\\Local\\Programs\\Python\\Python39\\lib\\site-packages\\sklearn\\linear_model\\_logistic.py\", line 447, in _check_solver\n",
      "    raise ValueError(\n",
      "ValueError: Solver newton-cg supports only 'l2' or 'none' penalties, got l1 penalty.\n",
      "\n",
      "--------------------------------------------------------------------------------\n",
      "6 fits failed with the following error:\n",
      "Traceback (most recent call last):\n",
      "  File \"C:\\Users\\hp\\AppData\\Local\\Programs\\Python\\Python39\\lib\\site-packages\\sklearn\\model_selection\\_validation.py\", line 680, in _fit_and_score\n",
      "    estimator.fit(X_train, y_train, **fit_params)\n",
      "  File \"C:\\Users\\hp\\AppData\\Local\\Programs\\Python\\Python39\\lib\\site-packages\\sklearn\\linear_model\\_logistic.py\", line 1464, in fit\n",
      "    raise ValueError(\"Penalty term must be positive; got (C=%r)\" % self.C)\n",
      "ValueError: Penalty term must be positive; got (C=-1.8367346938775508)\n",
      "\n",
      "--------------------------------------------------------------------------------\n",
      "3 fits failed with the following error:\n",
      "Traceback (most recent call last):\n",
      "  File \"C:\\Users\\hp\\AppData\\Local\\Programs\\Python\\Python39\\lib\\site-packages\\sklearn\\model_selection\\_validation.py\", line 680, in _fit_and_score\n",
      "    estimator.fit(X_train, y_train, **fit_params)\n",
      "  File \"C:\\Users\\hp\\AppData\\Local\\Programs\\Python\\Python39\\lib\\site-packages\\sklearn\\linear_model\\_logistic.py\", line 1464, in fit\n",
      "    raise ValueError(\"Penalty term must be positive; got (C=%r)\" % self.C)\n",
      "ValueError: Penalty term must be positive; got (C=-7.959183673469388)\n",
      "\n",
      "--------------------------------------------------------------------------------\n",
      "3 fits failed with the following error:\n",
      "Traceback (most recent call last):\n",
      "  File \"C:\\Users\\hp\\AppData\\Local\\Programs\\Python\\Python39\\lib\\site-packages\\sklearn\\model_selection\\_validation.py\", line 680, in _fit_and_score\n",
      "    estimator.fit(X_train, y_train, **fit_params)\n",
      "  File \"C:\\Users\\hp\\AppData\\Local\\Programs\\Python\\Python39\\lib\\site-packages\\sklearn\\linear_model\\_logistic.py\", line 1464, in fit\n",
      "    raise ValueError(\"Penalty term must be positive; got (C=%r)\" % self.C)\n",
      "ValueError: Penalty term must be positive; got (C=-2.6530612244897958)\n",
      "\n",
      "--------------------------------------------------------------------------------\n",
      "3 fits failed with the following error:\n",
      "Traceback (most recent call last):\n",
      "  File \"C:\\Users\\hp\\AppData\\Local\\Programs\\Python\\Python39\\lib\\site-packages\\sklearn\\model_selection\\_validation.py\", line 680, in _fit_and_score\n",
      "    estimator.fit(X_train, y_train, **fit_params)\n",
      "  File \"C:\\Users\\hp\\AppData\\Local\\Programs\\Python\\Python39\\lib\\site-packages\\sklearn\\linear_model\\_logistic.py\", line 1464, in fit\n",
      "    raise ValueError(\"Penalty term must be positive; got (C=%r)\" % self.C)\n",
      "ValueError: Penalty term must be positive; got (C=-1.4285714285714288)\n",
      "\n",
      "--------------------------------------------------------------------------------\n",
      "3 fits failed with the following error:\n",
      "Traceback (most recent call last):\n",
      "  File \"C:\\Users\\hp\\AppData\\Local\\Programs\\Python\\Python39\\lib\\site-packages\\sklearn\\model_selection\\_validation.py\", line 680, in _fit_and_score\n",
      "    estimator.fit(X_train, y_train, **fit_params)\n",
      "  File \"C:\\Users\\hp\\AppData\\Local\\Programs\\Python\\Python39\\lib\\site-packages\\sklearn\\linear_model\\_logistic.py\", line 1471, in fit\n",
      "    raise ValueError(\n",
      "ValueError: l1_ratio must be between 0 and 1; got (l1_ratio=None)\n",
      "\n",
      "--------------------------------------------------------------------------------\n",
      "3 fits failed with the following error:\n",
      "Traceback (most recent call last):\n",
      "  File \"C:\\Users\\hp\\AppData\\Local\\Programs\\Python\\Python39\\lib\\site-packages\\sklearn\\model_selection\\_validation.py\", line 680, in _fit_and_score\n",
      "    estimator.fit(X_train, y_train, **fit_params)\n",
      "  File \"C:\\Users\\hp\\AppData\\Local\\Programs\\Python\\Python39\\lib\\site-packages\\sklearn\\linear_model\\_logistic.py\", line 1464, in fit\n",
      "    raise ValueError(\"Penalty term must be positive; got (C=%r)\" % self.C)\n",
      "ValueError: Penalty term must be positive; got (C=-5.918367346938775)\n",
      "\n",
      "  warnings.warn(some_fits_failed_message, FitFailedWarning)\n",
      "C:\\Users\\hp\\AppData\\Local\\Programs\\Python\\Python39\\lib\\site-packages\\sklearn\\model_selection\\_search.py:969: UserWarning: One or more of the test scores are non-finite: [       nan        nan        nan        nan        nan        nan\n",
      " 0.75067474 0.74664248        nan        nan        nan        nan\n",
      "        nan        nan        nan        nan        nan 0.7560187\n",
      "        nan        nan        nan 0.7560187         nan        nan\n",
      "        nan        nan        nan        nan 0.75065315        nan\n",
      "        nan        nan        nan 0.75199724        nan        nan\n",
      "        nan        nan        nan        nan        nan        nan\n",
      " 0.75065315        nan        nan        nan        nan        nan\n",
      "        nan        nan 0.75870147        nan        nan        nan\n",
      "        nan        nan        nan        nan        nan        nan\n",
      " 0.74798657 0.75199724        nan        nan 0.74798657        nan\n",
      "        nan        nan        nan        nan        nan        nan\n",
      "        nan        nan        nan        nan 0.74798657        nan\n",
      "        nan        nan        nan        nan        nan        nan\n",
      " 0.76135726        nan        nan        nan        nan        nan\n",
      "        nan        nan        nan        nan        nan        nan\n",
      "        nan        nan        nan        nan]\n",
      "  warnings.warn(\n"
     ]
    },
    {
     "data": {
      "text/plain": [
       "RandomizedSearchCV(cv=3, estimator=LogisticRegression(), n_iter=100, n_jobs=-1,\n",
       "                   param_distributions={'C': [-10.0, -9.591836734693878,\n",
       "                                              -9.183673469387756,\n",
       "                                              -8.775510204081632,\n",
       "                                              -8.36734693877551,\n",
       "                                              -7.959183673469388,\n",
       "                                              -7.551020408163265,\n",
       "                                              -7.142857142857142,\n",
       "                                              -6.73469387755102,\n",
       "                                              -6.326530612244898,\n",
       "                                              -5.918367346938775,\n",
       "                                              -5.5102040816326525,\n",
       "                                              -5.1020408163265305,\n",
       "                                              -4.69387755102...\n",
       "                                        'max_iter': [10, 31, 52, 73, 94, 115,\n",
       "                                                     136, 157, 178, 200, 100],\n",
       "                                        'multi_class': ['auto', 'ovr',\n",
       "                                                        'multinomial'],\n",
       "                                        'penalty': ['l2', 'l1', 'none',\n",
       "                                                    'elasticnet'],\n",
       "                                        'solver': ['newton-cg', 'lbfgs',\n",
       "                                                   'liblinear', 'sag', 'saga'],\n",
       "                                        'tol': [1e-05, 0.00012, 0.00023,\n",
       "                                                0.00034, 0.00045000000000000004,\n",
       "                                                0.0005600000000000001, 0.00067,\n",
       "                                                0.0007800000000000001,\n",
       "                                                0.0008900000000000001, 0.001]},\n",
       "                   random_state=100, verbose=2)"
      ]
     },
     "execution_count": 174,
     "metadata": {},
     "output_type": "execute_result"
    }
   ],
   "source": [
    "from sklearn.model_selection import RandomizedSearchCV\n",
    "model_RSCV=RandomizedSearchCV(estimator=lr,param_distributions=random_grid,n_iter=100,cv=3,verbose=2,\n",
    "                            random_state=100,n_jobs=-1)\n",
    "model_RSCV.fit(x,Y)"
   ]
  },
  {
   "cell_type": "code",
   "execution_count": 175,
   "id": "d045760c",
   "metadata": {},
   "outputs": [
    {
     "data": {
      "text/plain": [
       "RandomizedSearchCV(cv=3, estimator=LogisticRegression(), n_iter=100, n_jobs=-1,\n",
       "                   param_distributions={'C': [-10.0, -9.591836734693878,\n",
       "                                              -9.183673469387756,\n",
       "                                              -8.775510204081632,\n",
       "                                              -8.36734693877551,\n",
       "                                              -7.959183673469388,\n",
       "                                              -7.551020408163265,\n",
       "                                              -7.142857142857142,\n",
       "                                              -6.73469387755102,\n",
       "                                              -6.326530612244898,\n",
       "                                              -5.918367346938775,\n",
       "                                              -5.5102040816326525,\n",
       "                                              -5.1020408163265305,\n",
       "                                              -4.69387755102...\n",
       "                                        'max_iter': [10, 31, 52, 73, 94, 115,\n",
       "                                                     136, 157, 178, 200, 100],\n",
       "                                        'multi_class': ['auto', 'ovr',\n",
       "                                                        'multinomial'],\n",
       "                                        'penalty': ['l2', 'l1', 'none',\n",
       "                                                    'elasticnet'],\n",
       "                                        'solver': ['newton-cg', 'lbfgs',\n",
       "                                                   'liblinear', 'sag', 'saga'],\n",
       "                                        'tol': [1e-05, 0.00012, 0.00023,\n",
       "                                                0.00034, 0.00045000000000000004,\n",
       "                                                0.0005600000000000001, 0.00067,\n",
       "                                                0.0007800000000000001,\n",
       "                                                0.0008900000000000001, 0.001]},\n",
       "                   random_state=100, verbose=2)"
      ]
     },
     "execution_count": 175,
     "metadata": {},
     "output_type": "execute_result"
    }
   ],
   "source": [
    "model_RSCV"
   ]
  },
  {
   "cell_type": "code",
   "execution_count": 176,
   "id": "cc8640d5",
   "metadata": {},
   "outputs": [
    {
     "data": {
      "text/plain": [
       "{'tol': 0.00067,\n",
       " 'solver': 'liblinear',\n",
       " 'penalty': 'l2',\n",
       " 'multi_class': 'auto',\n",
       " 'max_iter': 94,\n",
       " 'fit_intercept': True,\n",
       " 'dual': False,\n",
       " 'class_weight': 'balanced',\n",
       " 'C': 7.95918367346939}"
      ]
     },
     "execution_count": 176,
     "metadata": {},
     "output_type": "execute_result"
    }
   ],
   "source": [
    "#Suspects for bests parameters\n",
    "model_RSCV.best_params_"
   ]
  },
  {
   "cell_type": "code",
   "execution_count": 177,
   "id": "e91b5d1c",
   "metadata": {},
   "outputs": [
    {
     "data": {
      "text/plain": [
       "LogisticRegression(C=7.95918367346939, class_weight='balanced', max_iter=94,\n",
       "                   solver='liblinear', tol=0.00067)"
      ]
     },
     "execution_count": 177,
     "metadata": {},
     "output_type": "execute_result"
    }
   ],
   "source": [
    "model_RSCV.best_estimator_ \n",
    "#Shows the syntax to make this changed regression model "
   ]
  },
  {
   "cell_type": "code",
   "execution_count": 178,
   "id": "4b0de1f0",
   "metadata": {},
   "outputs": [],
   "source": [
    "model_RSCV_model=model_RSCV.best_estimator_"
   ]
  },
  {
   "cell_type": "code",
   "execution_count": 179,
   "id": "771f8d25",
   "metadata": {},
   "outputs": [
    {
     "data": {
      "text/plain": [
       "LogisticRegression(C=7.95918367346939, class_weight='balanced', max_iter=94,\n",
       "                   solver='liblinear', tol=0.00067)"
      ]
     },
     "execution_count": 179,
     "metadata": {},
     "output_type": "execute_result"
    }
   ],
   "source": [
    "model_RSCV_model"
   ]
  },
  {
   "cell_type": "code",
   "execution_count": 180,
   "id": "d1972070",
   "metadata": {},
   "outputs": [
    {
     "name": "stdout",
     "output_type": "stream",
     "text": [
      "AxesSubplot(0.125,0.125;0.62x0.755)\n",
      "The accuracy is  0.7410071942446043 \n",
      "\n",
      "\n",
      "              precision    recall  f1-score   support\n",
      "\n",
      "           0       0.83      0.76      0.79        91\n",
      "           1       0.61      0.71      0.65        48\n",
      "\n",
      "    accuracy                           0.74       139\n",
      "   macro avg       0.72      0.73      0.72       139\n",
      "weighted avg       0.75      0.74      0.75       139\n",
      "\n"
     ]
    },
    {
     "data": {
      "image/png": "[encoded data removed]",
      "text/plain": [
       "<Figure size 432x288 with 2 Axes>"
      ]
     },
     "metadata": {
      "needs_background": "light"
     },
     "output_type": "display_data"
    }
   ],
   "source": [
    "#Checking the accuracy of model created by RandomizedSearchCV\n",
    "Y_pred_model_RSCV=model_RSCV.predict(x_test)\n",
    "cm_model_RSCV=confusion_matrix(Y_test,Y_pred_model_RSCV)\n",
    "print(sns.heatmap(cm_model_RSCV,annot=True))\n",
    "print(\"The accuracy is \",accuracy_score(Y_test,Y_pred_model_RSCV),\"\\n\\n\")\n",
    "print(classification_report(Y_test,Y_pred_model_RSCV))"
   ]
  },
  {
   "cell_type": "code",
   "execution_count": 181,
   "id": "8566028f",
   "metadata": {},
   "outputs": [
    {
     "data": {
      "text/plain": [
       "{'tol': 0.00067,\n",
       " 'solver': 'liblinear',\n",
       " 'penalty': 'l2',\n",
       " 'multi_class': 'auto',\n",
       " 'max_iter': 94,\n",
       " 'fit_intercept': True,\n",
       " 'dual': False,\n",
       " 'class_weight': 'balanced',\n",
       " 'C': 7.95918367346939}"
      ]
     },
     "execution_count": 181,
     "metadata": {},
     "output_type": "execute_result"
    }
   ],
   "source": [
    "#GridSearchCV\n",
    "model_RSCV.best_params_"
   ]
  },
  {
   "cell_type": "code",
   "execution_count": 182,
   "id": "9cb68230",
   "metadata": {},
   "outputs": [],
   "source": [
    "param_grid={\n",
    "    'tol':[0.00067,0.0007,0.00060,0.0005,0.00062],\n",
    " 'solver': ['liblinear'],\n",
    " 'penalty': ['l2'],\n",
    " 'multi_class': ['auto'],\n",
    " 'max_iter': [94,93,92,95,96,91,98,97],\n",
    " 'fit_intercept': [True],\n",
    " 'dual': [False],\n",
    " 'class_weight': ['balanced'],\n",
    " 'C': [8,9,10,7,6,5,4,11,3]\n",
    " }"
   ]
  },
  {
   "cell_type": "code",
   "execution_count": 183,
   "id": "ab379097",
   "metadata": {},
   "outputs": [
    {
     "name": "stdout",
     "output_type": "stream",
     "text": [
      "Fitting 3 folds for each of 360 candidates, totalling 1080 fits\n",
      "[CV] END C=8, class_weight=balanced, dual=False, fit_intercept=True, max_iter=94, multi_class=auto, penalty=l2, solver=liblinear, tol=0.00067; total time=   0.0s\n",
      "[CV] END C=8, class_weight=balanced, dual=False, fit_intercept=True, max_iter=94, multi_class=auto, penalty=l2, solver=liblinear, tol=0.00067; total time=   0.0s\n",
      "[CV] END C=8, class_weight=balanced, dual=False, fit_intercept=True, max_iter=94, multi_class=auto, penalty=l2, solver=liblinear, tol=0.00067; total time=   0.0s\n",
      "[CV] END C=8, class_weight=balanced, dual=False, fit_intercept=True, max_iter=94, multi_class=auto, penalty=l2, solver=liblinear, tol=0.0007; total time=   0.0s\n",
      "[CV] END C=8, class_weight=balanced, dual=False, fit_intercept=True, max_iter=94, multi_class=auto, penalty=l2, solver=liblinear, tol=0.0007; total time=   0.0s\n",
      "[CV] END C=8, class_weight=balanced, dual=False, fit_intercept=True, max_iter=94, multi_class=auto, penalty=l2, solver=liblinear, tol=0.0007; total time=   0.0s\n",
      "[CV] END C=8, class_weight=balanced, dual=False, fit_intercept=True, max_iter=94, multi_class=auto, penalty=l2, solver=liblinear, tol=0.0006; total time=   0.0s\n",
      "[CV] END C=8, class_weight=balanced, dual=False, fit_intercept=True, max_iter=94, multi_class=auto, penalty=l2, solver=liblinear, tol=0.0006; total time=   0.0s\n",
      "[CV] END C=8, class_weight=balanced, dual=False, fit_intercept=True, max_iter=94, multi_class=auto, penalty=l2, solver=liblinear, tol=0.0006; total time=   0.0s\n",
      "[CV] END C=8, class_weight=balanced, dual=False, fit_intercept=True, max_iter=94, multi_class=auto, penalty=l2, solver=liblinear, tol=0.0005; total time=   0.0s\n",
      "[CV] END C=8, class_weight=balanced, dual=False, fit_intercept=True, max_iter=94, multi_class=auto, penalty=l2, solver=liblinear, tol=0.0005; total time=   0.0s\n",
      "[CV] END C=8, class_weight=balanced, dual=False, fit_intercept=True, max_iter=94, multi_class=auto, penalty=l2, solver=liblinear, tol=0.0005; total time=   0.0s\n",
      "[CV] END C=8, class_weight=balanced, dual=False, fit_intercept=True, max_iter=94, multi_class=auto, penalty=l2, solver=liblinear, tol=0.00062; total time=   0.0s\n",
      "[CV] END C=8, class_weight=balanced, dual=False, fit_intercept=True, max_iter=94, multi_class=auto, penalty=l2, solver=liblinear, tol=0.00062; total time=   0.0s\n",
      "[CV] END C=8, class_weight=balanced, dual=False, fit_intercept=True, max_iter=94, multi_class=auto, penalty=l2, solver=liblinear, tol=0.00062; total time=   0.0s\n",
      "[CV] END C=8, class_weight=balanced, dual=False, fit_intercept=True, max_iter=93, multi_class=auto, penalty=l2, solver=liblinear, tol=0.00067; total time=   0.0s\n",
      "[CV] END C=8, class_weight=balanced, dual=False, fit_intercept=True, max_iter=93, multi_class=auto, penalty=l2, solver=liblinear, tol=0.00067; total time=   0.0s\n",
      "[CV] END C=8, class_weight=balanced, dual=False, fit_intercept=True, max_iter=93, multi_class=auto, penalty=l2, solver=liblinear, tol=0.00067; total time=   0.0s\n",
      "[CV] END C=8, class_weight=balanced, dual=False, fit_intercept=True, max_iter=93, multi_class=auto, penalty=l2, solver=liblinear, tol=0.0007; total time=   0.0s\n",
      "[CV] END C=8, class_weight=balanced, dual=False, fit_intercept=True, max_iter=93, multi_class=auto, penalty=l2, solver=liblinear, tol=0.0007; total time=   0.0s\n",
      "[CV] END C=8, class_weight=balanced, dual=False, fit_intercept=True, max_iter=93, multi_class=auto, penalty=l2, solver=liblinear, tol=0.0007; total time=   0.0s\n",
      "[CV] END C=8, class_weight=balanced, dual=False, fit_intercept=True, max_iter=93, multi_class=auto, penalty=l2, solver=liblinear, tol=0.0006; total time=   0.0s\n",
      "[CV] END C=8, class_weight=balanced, dual=False, fit_intercept=True, max_iter=93, multi_class=auto, penalty=l2, solver=liblinear, tol=0.0006; total time=   0.0s\n",
      "[CV] END C=8, class_weight=balanced, dual=False, fit_intercept=True, max_iter=93, multi_class=auto, penalty=l2, solver=liblinear, tol=0.0006; total time=   0.0s\n",
      "[CV] END C=8, class_weight=balanced, dual=False, fit_intercept=True, max_iter=93, multi_class=auto, penalty=l2, solver=liblinear, tol=0.0005; total time=   0.0s\n",
      "[CV] END C=8, class_weight=balanced, dual=False, fit_intercept=True, max_iter=93, multi_class=auto, penalty=l2, solver=liblinear, tol=0.0005; total time=   0.0s\n",
      "[CV] END C=8, class_weight=balanced, dual=False, fit_intercept=True, max_iter=93, multi_class=auto, penalty=l2, solver=liblinear, tol=0.0005; total time=   0.0s\n",
      "[CV] END C=8, class_weight=balanced, dual=False, fit_intercept=True, max_iter=93, multi_class=auto, penalty=l2, solver=liblinear, tol=0.00062; total time=   0.0s\n",
      "[CV] END C=8, class_weight=balanced, dual=False, fit_intercept=True, max_iter=93, multi_class=auto, penalty=l2, solver=liblinear, tol=0.00062; total time=   0.0s\n",
      "[CV] END C=8, class_weight=balanced, dual=False, fit_intercept=True, max_iter=93, multi_class=auto, penalty=l2, solver=liblinear, tol=0.00062; total time=   0.0s\n",
      "[CV] END C=8, class_weight=balanced, dual=False, fit_intercept=True, max_iter=92, multi_class=auto, penalty=l2, solver=liblinear, tol=0.00067; total time=   0.0s\n",
      "[CV] END C=8, class_weight=balanced, dual=False, fit_intercept=True, max_iter=92, multi_class=auto, penalty=l2, solver=liblinear, tol=0.00067; total time=   0.0s\n",
      "[CV] END C=8, class_weight=balanced, dual=False, fit_intercept=True, max_iter=92, multi_class=auto, penalty=l2, solver=liblinear, tol=0.00067; total time=   0.0s\n",
      "[CV] END C=8, class_weight=balanced, dual=False, fit_intercept=True, max_iter=92, multi_class=auto, penalty=l2, solver=liblinear, tol=0.0007; total time=   0.0s\n",
      "[CV] END C=8, class_weight=balanced, dual=False, fit_intercept=True, max_iter=92, multi_class=auto, penalty=l2, solver=liblinear, tol=0.0007; total time=   0.0s\n",
      "[CV] END C=8, class_weight=balanced, dual=False, fit_intercept=True, max_iter=92, multi_class=auto, penalty=l2, solver=liblinear, tol=0.0007; total time=   0.0s\n",
      "[CV] END C=8, class_weight=balanced, dual=False, fit_intercept=True, max_iter=92, multi_class=auto, penalty=l2, solver=liblinear, tol=0.0006; total time=   0.0s\n",
      "[CV] END C=8, class_weight=balanced, dual=False, fit_intercept=True, max_iter=92, multi_class=auto, penalty=l2, solver=liblinear, tol=0.0006; total time=   0.0s\n",
      "[CV] END C=8, class_weight=balanced, dual=False, fit_intercept=True, max_iter=92, multi_class=auto, penalty=l2, solver=liblinear, tol=0.0006; total time=   0.0s\n",
      "[CV] END C=8, class_weight=balanced, dual=False, fit_intercept=True, max_iter=92, multi_class=auto, penalty=l2, solver=liblinear, tol=0.0005; total time=   0.0s\n",
      "[CV] END C=8, class_weight=balanced, dual=False, fit_intercept=True, max_iter=92, multi_class=auto, penalty=l2, solver=liblinear, tol=0.0005; total time=   0.0s\n",
      "[CV] END C=8, class_weight=balanced, dual=False, fit_intercept=True, max_iter=92, multi_class=auto, penalty=l2, solver=liblinear, tol=0.0005; total time=   0.0s\n",
      "[CV] END C=8, class_weight=balanced, dual=False, fit_intercept=True, max_iter=92, multi_class=auto, penalty=l2, solver=liblinear, tol=0.00062; total time=   0.0s\n",
      "[CV] END C=8, class_weight=balanced, dual=False, fit_intercept=True, max_iter=92, multi_class=auto, penalty=l2, solver=liblinear, tol=0.00062; total time=   0.0s\n",
      "[CV] END C=8, class_weight=balanced, dual=False, fit_intercept=True, max_iter=92, multi_class=auto, penalty=l2, solver=liblinear, tol=0.00062; total time=   0.0s\n",
      "[CV] END C=8, class_weight=balanced, dual=False, fit_intercept=True, max_iter=95, multi_class=auto, penalty=l2, solver=liblinear, tol=0.00067; total time=   0.0s\n",
      "[CV] END C=8, class_weight=balanced, dual=False, fit_intercept=True, max_iter=95, multi_class=auto, penalty=l2, solver=liblinear, tol=0.00067; total time=   0.0s\n",
      "[CV] END C=8, class_weight=balanced, dual=False, fit_intercept=True, max_iter=95, multi_class=auto, penalty=l2, solver=liblinear, tol=0.00067; total time=   0.0s\n",
      "[CV] END C=8, class_weight=balanced, dual=False, fit_intercept=True, max_iter=95, multi_class=auto, penalty=l2, solver=liblinear, tol=0.0007; total time=   0.0s\n",
      "[CV] END C=8, class_weight=balanced, dual=False, fit_intercept=True, max_iter=95, multi_class=auto, penalty=l2, solver=liblinear, tol=0.0007; total time=   0.0s\n",
      "[CV] END C=8, class_weight=balanced, dual=False, fit_intercept=True, max_iter=95, multi_class=auto, penalty=l2, solver=liblinear, tol=0.0007; total time=   0.0s\n",
      "[CV] END C=8, class_weight=balanced, dual=False, fit_intercept=True, max_iter=95, multi_class=auto, penalty=l2, solver=liblinear, tol=0.0006; total time=   0.0s\n",
      "[CV] END C=8, class_weight=balanced, dual=False, fit_intercept=True, max_iter=95, multi_class=auto, penalty=l2, solver=liblinear, tol=0.0006; total time=   0.0s\n",
      "[CV] END C=8, class_weight=balanced, dual=False, fit_intercept=True, max_iter=95, multi_class=auto, penalty=l2, solver=liblinear, tol=0.0006; total time=   0.0s\n",
      "[CV] END C=8, class_weight=balanced, dual=False, fit_intercept=True, max_iter=95, multi_class=auto, penalty=l2, solver=liblinear, tol=0.0005; total time=   0.0s\n",
      "[CV] END C=8, class_weight=balanced, dual=False, fit_intercept=True, max_iter=95, multi_class=auto, penalty=l2, solver=liblinear, tol=0.0005; total time=   0.0s\n",
      "[CV] END C=8, class_weight=balanced, dual=False, fit_intercept=True, max_iter=95, multi_class=auto, penalty=l2, solver=liblinear, tol=0.0005; total time=   0.0s\n",
      "[CV] END C=8, class_weight=balanced, dual=False, fit_intercept=True, max_iter=95, multi_class=auto, penalty=l2, solver=liblinear, tol=0.00062; total time=   0.0s\n",
      "[CV] END C=8, class_weight=balanced, dual=False, fit_intercept=True, max_iter=95, multi_class=auto, penalty=l2, solver=liblinear, tol=0.00062; total time=   0.0s\n",
      "[CV] END C=8, class_weight=balanced, dual=False, fit_intercept=True, max_iter=95, multi_class=auto, penalty=l2, solver=liblinear, tol=0.00062; total time=   0.0s\n",
      "[CV] END C=8, class_weight=balanced, dual=False, fit_intercept=True, max_iter=96, multi_class=auto, penalty=l2, solver=liblinear, tol=0.00067; total time=   0.0s\n",
      "[CV] END C=8, class_weight=balanced, dual=False, fit_intercept=True, max_iter=96, multi_class=auto, penalty=l2, solver=liblinear, tol=0.00067; total time=   0.0s\n",
      "[CV] END C=8, class_weight=balanced, dual=False, fit_intercept=True, max_iter=96, multi_class=auto, penalty=l2, solver=liblinear, tol=0.00067; total time=   0.0s\n",
      "[CV] END C=8, class_weight=balanced, dual=False, fit_intercept=True, max_iter=96, multi_class=auto, penalty=l2, solver=liblinear, tol=0.0007; total time=   0.0s\n",
      "[CV] END C=8, class_weight=balanced, dual=False, fit_intercept=True, max_iter=96, multi_class=auto, penalty=l2, solver=liblinear, tol=0.0007; total time=   0.0s\n",
      "[CV] END C=8, class_weight=balanced, dual=False, fit_intercept=True, max_iter=96, multi_class=auto, penalty=l2, solver=liblinear, tol=0.0007; total time=   0.0s\n",
      "[CV] END C=8, class_weight=balanced, dual=False, fit_intercept=True, max_iter=96, multi_class=auto, penalty=l2, solver=liblinear, tol=0.0006; total time=   0.0s\n",
      "[CV] END C=8, class_weight=balanced, dual=False, fit_intercept=True, max_iter=96, multi_class=auto, penalty=l2, solver=liblinear, tol=0.0006; total time=   0.0s\n",
      "[CV] END C=8, class_weight=balanced, dual=False, fit_intercept=True, max_iter=96, multi_class=auto, penalty=l2, solver=liblinear, tol=0.0006; total time=   0.0s\n",
      "[CV] END C=8, class_weight=balanced, dual=False, fit_intercept=True, max_iter=96, multi_class=auto, penalty=l2, solver=liblinear, tol=0.0005; total time=   0.0s\n",
      "[CV] END C=8, class_weight=balanced, dual=False, fit_intercept=True, max_iter=96, multi_class=auto, penalty=l2, solver=liblinear, tol=0.0005; total time=   0.0s\n",
      "[CV] END C=8, class_weight=balanced, dual=False, fit_intercept=True, max_iter=96, multi_class=auto, penalty=l2, solver=liblinear, tol=0.0005; total time=   0.0s\n",
      "[CV] END C=8, class_weight=balanced, dual=False, fit_intercept=True, max_iter=96, multi_class=auto, penalty=l2, solver=liblinear, tol=0.00062; total time=   0.0s\n",
      "[CV] END C=8, class_weight=balanced, dual=False, fit_intercept=True, max_iter=96, multi_class=auto, penalty=l2, solver=liblinear, tol=0.00062; total time=   0.0s\n",
      "[CV] END C=8, class_weight=balanced, dual=False, fit_intercept=True, max_iter=96, multi_class=auto, penalty=l2, solver=liblinear, tol=0.00062; total time=   0.0s\n",
      "[CV] END C=8, class_weight=balanced, dual=False, fit_intercept=True, max_iter=91, multi_class=auto, penalty=l2, solver=liblinear, tol=0.00067; total time=   0.0s\n",
      "[CV] END C=8, class_weight=balanced, dual=False, fit_intercept=True, max_iter=91, multi_class=auto, penalty=l2, solver=liblinear, tol=0.00067; total time=   0.0s\n",
      "[CV] END C=8, class_weight=balanced, dual=False, fit_intercept=True, max_iter=91, multi_class=auto, penalty=l2, solver=liblinear, tol=0.00067; total time=   0.0s\n"
     ]
    },
    {
     "name": "stdout",
     "output_type": "stream",
     "text": [
      "[CV] END C=8, class_weight=balanced, dual=False, fit_intercept=True, max_iter=91, multi_class=auto, penalty=l2, solver=liblinear, tol=0.0007; total time=   0.0s\n",
      "[CV] END C=8, class_weight=balanced, dual=False, fit_intercept=True, max_iter=91, multi_class=auto, penalty=l2, solver=liblinear, tol=0.0007; total time=   0.0s\n",
      "[CV] END C=8, class_weight=balanced, dual=False, fit_intercept=True, max_iter=91, multi_class=auto, penalty=l2, solver=liblinear, tol=0.0007; total time=   0.0s\n",
      "[CV] END C=8, class_weight=balanced, dual=False, fit_intercept=True, max_iter=91, multi_class=auto, penalty=l2, solver=liblinear, tol=0.0006; total time=   0.0s\n",
      "[CV] END C=8, class_weight=balanced, dual=False, fit_intercept=True, max_iter=91, multi_class=auto, penalty=l2, solver=liblinear, tol=0.0006; total time=   0.0s\n",
      "[CV] END C=8, class_weight=balanced, dual=False, fit_intercept=True, max_iter=91, multi_class=auto, penalty=l2, solver=liblinear, tol=0.0006; total time=   0.0s\n",
      "[CV] END C=8, class_weight=balanced, dual=False, fit_intercept=True, max_iter=91, multi_class=auto, penalty=l2, solver=liblinear, tol=0.0005; total time=   0.0s\n",
      "[CV] END C=8, class_weight=balanced, dual=False, fit_intercept=True, max_iter=91, multi_class=auto, penalty=l2, solver=liblinear, tol=0.0005; total time=   0.0s\n",
      "[CV] END C=8, class_weight=balanced, dual=False, fit_intercept=True, max_iter=91, multi_class=auto, penalty=l2, solver=liblinear, tol=0.0005; total time=   0.0s\n",
      "[CV] END C=8, class_weight=balanced, dual=False, fit_intercept=True, max_iter=91, multi_class=auto, penalty=l2, solver=liblinear, tol=0.00062; total time=   0.0s\n",
      "[CV] END C=8, class_weight=balanced, dual=False, fit_intercept=True, max_iter=91, multi_class=auto, penalty=l2, solver=liblinear, tol=0.00062; total time=   0.0s\n",
      "[CV] END C=8, class_weight=balanced, dual=False, fit_intercept=True, max_iter=91, multi_class=auto, penalty=l2, solver=liblinear, tol=0.00062; total time=   0.0s\n",
      "[CV] END C=8, class_weight=balanced, dual=False, fit_intercept=True, max_iter=98, multi_class=auto, penalty=l2, solver=liblinear, tol=0.00067; total time=   0.0s\n",
      "[CV] END C=8, class_weight=balanced, dual=False, fit_intercept=True, max_iter=98, multi_class=auto, penalty=l2, solver=liblinear, tol=0.00067; total time=   0.0s\n",
      "[CV] END C=8, class_weight=balanced, dual=False, fit_intercept=True, max_iter=98, multi_class=auto, penalty=l2, solver=liblinear, tol=0.00067; total time=   0.0s\n",
      "[CV] END C=8, class_weight=balanced, dual=False, fit_intercept=True, max_iter=98, multi_class=auto, penalty=l2, solver=liblinear, tol=0.0007; total time=   0.0s\n",
      "[CV] END C=8, class_weight=balanced, dual=False, fit_intercept=True, max_iter=98, multi_class=auto, penalty=l2, solver=liblinear, tol=0.0007; total time=   0.0s\n",
      "[CV] END C=8, class_weight=balanced, dual=False, fit_intercept=True, max_iter=98, multi_class=auto, penalty=l2, solver=liblinear, tol=0.0007; total time=   0.0s\n",
      "[CV] END C=8, class_weight=balanced, dual=False, fit_intercept=True, max_iter=98, multi_class=auto, penalty=l2, solver=liblinear, tol=0.0006; total time=   0.0s\n",
      "[CV] END C=8, class_weight=balanced, dual=False, fit_intercept=True, max_iter=98, multi_class=auto, penalty=l2, solver=liblinear, tol=0.0006; total time=   0.0s\n",
      "[CV] END C=8, class_weight=balanced, dual=False, fit_intercept=True, max_iter=98, multi_class=auto, penalty=l2, solver=liblinear, tol=0.0006; total time=   0.0s\n",
      "[CV] END C=8, class_weight=balanced, dual=False, fit_intercept=True, max_iter=98, multi_class=auto, penalty=l2, solver=liblinear, tol=0.0005; total time=   0.0s\n",
      "[CV] END C=8, class_weight=balanced, dual=False, fit_intercept=True, max_iter=98, multi_class=auto, penalty=l2, solver=liblinear, tol=0.0005; total time=   0.0s\n",
      "[CV] END C=8, class_weight=balanced, dual=False, fit_intercept=True, max_iter=98, multi_class=auto, penalty=l2, solver=liblinear, tol=0.0005; total time=   0.0s\n",
      "[CV] END C=8, class_weight=balanced, dual=False, fit_intercept=True, max_iter=98, multi_class=auto, penalty=l2, solver=liblinear, tol=0.00062; total time=   0.0s\n",
      "[CV] END C=8, class_weight=balanced, dual=False, fit_intercept=True, max_iter=98, multi_class=auto, penalty=l2, solver=liblinear, tol=0.00062; total time=   0.0s\n",
      "[CV] END C=8, class_weight=balanced, dual=False, fit_intercept=True, max_iter=98, multi_class=auto, penalty=l2, solver=liblinear, tol=0.00062; total time=   0.0s\n",
      "[CV] END C=8, class_weight=balanced, dual=False, fit_intercept=True, max_iter=97, multi_class=auto, penalty=l2, solver=liblinear, tol=0.00067; total time=   0.0s\n",
      "[CV] END C=8, class_weight=balanced, dual=False, fit_intercept=True, max_iter=97, multi_class=auto, penalty=l2, solver=liblinear, tol=0.00067; total time=   0.0s\n",
      "[CV] END C=8, class_weight=balanced, dual=False, fit_intercept=True, max_iter=97, multi_class=auto, penalty=l2, solver=liblinear, tol=0.00067; total time=   0.0s\n",
      "[CV] END C=8, class_weight=balanced, dual=False, fit_intercept=True, max_iter=97, multi_class=auto, penalty=l2, solver=liblinear, tol=0.0007; total time=   0.0s\n",
      "[CV] END C=8, class_weight=balanced, dual=False, fit_intercept=True, max_iter=97, multi_class=auto, penalty=l2, solver=liblinear, tol=0.0007; total time=   0.0s\n",
      "[CV] END C=8, class_weight=balanced, dual=False, fit_intercept=True, max_iter=97, multi_class=auto, penalty=l2, solver=liblinear, tol=0.0007; total time=   0.0s\n",
      "[CV] END C=8, class_weight=balanced, dual=False, fit_intercept=True, max_iter=97, multi_class=auto, penalty=l2, solver=liblinear, tol=0.0006; total time=   0.0s\n",
      "[CV] END C=8, class_weight=balanced, dual=False, fit_intercept=True, max_iter=97, multi_class=auto, penalty=l2, solver=liblinear, tol=0.0006; total time=   0.0s\n",
      "[CV] END C=8, class_weight=balanced, dual=False, fit_intercept=True, max_iter=97, multi_class=auto, penalty=l2, solver=liblinear, tol=0.0006; total time=   0.0s\n",
      "[CV] END C=8, class_weight=balanced, dual=False, fit_intercept=True, max_iter=97, multi_class=auto, penalty=l2, solver=liblinear, tol=0.0005; total time=   0.0s\n",
      "[CV] END C=8, class_weight=balanced, dual=False, fit_intercept=True, max_iter=97, multi_class=auto, penalty=l2, solver=liblinear, tol=0.0005; total time=   0.0s\n",
      "[CV] END C=8, class_weight=balanced, dual=False, fit_intercept=True, max_iter=97, multi_class=auto, penalty=l2, solver=liblinear, tol=0.0005; total time=   0.0s\n",
      "[CV] END C=8, class_weight=balanced, dual=False, fit_intercept=True, max_iter=97, multi_class=auto, penalty=l2, solver=liblinear, tol=0.00062; total time=   0.0s\n",
      "[CV] END C=8, class_weight=balanced, dual=False, fit_intercept=True, max_iter=97, multi_class=auto, penalty=l2, solver=liblinear, tol=0.00062; total time=   0.0s\n",
      "[CV] END C=8, class_weight=balanced, dual=False, fit_intercept=True, max_iter=97, multi_class=auto, penalty=l2, solver=liblinear, tol=0.00062; total time=   0.0s\n",
      "[CV] END C=9, class_weight=balanced, dual=False, fit_intercept=True, max_iter=94, multi_class=auto, penalty=l2, solver=liblinear, tol=0.00067; total time=   0.0s\n",
      "[CV] END C=9, class_weight=balanced, dual=False, fit_intercept=True, max_iter=94, multi_class=auto, penalty=l2, solver=liblinear, tol=0.00067; total time=   0.0s\n",
      "[CV] END C=9, class_weight=balanced, dual=False, fit_intercept=True, max_iter=94, multi_class=auto, penalty=l2, solver=liblinear, tol=0.00067; total time=   0.0s\n",
      "[CV] END C=9, class_weight=balanced, dual=False, fit_intercept=True, max_iter=94, multi_class=auto, penalty=l2, solver=liblinear, tol=0.0007; total time=   0.0s\n",
      "[CV] END C=9, class_weight=balanced, dual=False, fit_intercept=True, max_iter=94, multi_class=auto, penalty=l2, solver=liblinear, tol=0.0007; total time=   0.0s\n",
      "[CV] END C=9, class_weight=balanced, dual=False, fit_intercept=True, max_iter=94, multi_class=auto, penalty=l2, solver=liblinear, tol=0.0007; total time=   0.0s\n",
      "[CV] END C=9, class_weight=balanced, dual=False, fit_intercept=True, max_iter=94, multi_class=auto, penalty=l2, solver=liblinear, tol=0.0006; total time=   0.0s\n",
      "[CV] END C=9, class_weight=balanced, dual=False, fit_intercept=True, max_iter=94, multi_class=auto, penalty=l2, solver=liblinear, tol=0.0006; total time=   0.0s\n",
      "[CV] END C=9, class_weight=balanced, dual=False, fit_intercept=True, max_iter=94, multi_class=auto, penalty=l2, solver=liblinear, tol=0.0006; total time=   0.0s\n",
      "[CV] END C=9, class_weight=balanced, dual=False, fit_intercept=True, max_iter=94, multi_class=auto, penalty=l2, solver=liblinear, tol=0.0005; total time=   0.0s\n",
      "[CV] END C=9, class_weight=balanced, dual=False, fit_intercept=True, max_iter=94, multi_class=auto, penalty=l2, solver=liblinear, tol=0.0005; total time=   0.0s\n",
      "[CV] END C=9, class_weight=balanced, dual=False, fit_intercept=True, max_iter=94, multi_class=auto, penalty=l2, solver=liblinear, tol=0.0005; total time=   0.0s\n",
      "[CV] END C=9, class_weight=balanced, dual=False, fit_intercept=True, max_iter=94, multi_class=auto, penalty=l2, solver=liblinear, tol=0.00062; total time=   0.0s\n",
      "[CV] END C=9, class_weight=balanced, dual=False, fit_intercept=True, max_iter=94, multi_class=auto, penalty=l2, solver=liblinear, tol=0.00062; total time=   0.0s\n",
      "[CV] END C=9, class_weight=balanced, dual=False, fit_intercept=True, max_iter=94, multi_class=auto, penalty=l2, solver=liblinear, tol=0.00062; total time=   0.0s\n",
      "[CV] END C=9, class_weight=balanced, dual=False, fit_intercept=True, max_iter=93, multi_class=auto, penalty=l2, solver=liblinear, tol=0.00067; total time=   0.0s\n",
      "[CV] END C=9, class_weight=balanced, dual=False, fit_intercept=True, max_iter=93, multi_class=auto, penalty=l2, solver=liblinear, tol=0.00067; total time=   0.0s\n",
      "[CV] END C=9, class_weight=balanced, dual=False, fit_intercept=True, max_iter=93, multi_class=auto, penalty=l2, solver=liblinear, tol=0.00067; total time=   0.0s\n",
      "[CV] END C=9, class_weight=balanced, dual=False, fit_intercept=True, max_iter=93, multi_class=auto, penalty=l2, solver=liblinear, tol=0.0007; total time=   0.0s\n",
      "[CV] END C=9, class_weight=balanced, dual=False, fit_intercept=True, max_iter=93, multi_class=auto, penalty=l2, solver=liblinear, tol=0.0007; total time=   0.0s\n",
      "[CV] END C=9, class_weight=balanced, dual=False, fit_intercept=True, max_iter=93, multi_class=auto, penalty=l2, solver=liblinear, tol=0.0007; total time=   0.0s\n",
      "[CV] END C=9, class_weight=balanced, dual=False, fit_intercept=True, max_iter=93, multi_class=auto, penalty=l2, solver=liblinear, tol=0.0006; total time=   0.0s\n",
      "[CV] END C=9, class_weight=balanced, dual=False, fit_intercept=True, max_iter=93, multi_class=auto, penalty=l2, solver=liblinear, tol=0.0006; total time=   0.0s\n",
      "[CV] END C=9, class_weight=balanced, dual=False, fit_intercept=True, max_iter=93, multi_class=auto, penalty=l2, solver=liblinear, tol=0.0006; total time=   0.0s\n",
      "[CV] END C=9, class_weight=balanced, dual=False, fit_intercept=True, max_iter=93, multi_class=auto, penalty=l2, solver=liblinear, tol=0.0005; total time=   0.0s\n",
      "[CV] END C=9, class_weight=balanced, dual=False, fit_intercept=True, max_iter=93, multi_class=auto, penalty=l2, solver=liblinear, tol=0.0005; total time=   0.0s\n",
      "[CV] END C=9, class_weight=balanced, dual=False, fit_intercept=True, max_iter=93, multi_class=auto, penalty=l2, solver=liblinear, tol=0.0005; total time=   0.0s\n",
      "[CV] END C=9, class_weight=balanced, dual=False, fit_intercept=True, max_iter=93, multi_class=auto, penalty=l2, solver=liblinear, tol=0.00062; total time=   0.0s\n",
      "[CV] END C=9, class_weight=balanced, dual=False, fit_intercept=True, max_iter=93, multi_class=auto, penalty=l2, solver=liblinear, tol=0.00062; total time=   0.0s\n",
      "[CV] END C=9, class_weight=balanced, dual=False, fit_intercept=True, max_iter=93, multi_class=auto, penalty=l2, solver=liblinear, tol=0.00062; total time=   0.0s\n",
      "[CV] END C=9, class_weight=balanced, dual=False, fit_intercept=True, max_iter=92, multi_class=auto, penalty=l2, solver=liblinear, tol=0.00067; total time=   0.0s\n",
      "[CV] END C=9, class_weight=balanced, dual=False, fit_intercept=True, max_iter=92, multi_class=auto, penalty=l2, solver=liblinear, tol=0.00067; total time=   0.0s\n",
      "[CV] END C=9, class_weight=balanced, dual=False, fit_intercept=True, max_iter=92, multi_class=auto, penalty=l2, solver=liblinear, tol=0.00067; total time=   0.0s\n"
     ]
    },
    {
     "name": "stdout",
     "output_type": "stream",
     "text": [
      "[CV] END C=9, class_weight=balanced, dual=False, fit_intercept=True, max_iter=92, multi_class=auto, penalty=l2, solver=liblinear, tol=0.0007; total time=   0.0s\n",
      "[CV] END C=9, class_weight=balanced, dual=False, fit_intercept=True, max_iter=92, multi_class=auto, penalty=l2, solver=liblinear, tol=0.0007; total time=   0.0s\n",
      "[CV] END C=9, class_weight=balanced, dual=False, fit_intercept=True, max_iter=92, multi_class=auto, penalty=l2, solver=liblinear, tol=0.0007; total time=   0.0s\n",
      "[CV] END C=9, class_weight=balanced, dual=False, fit_intercept=True, max_iter=92, multi_class=auto, penalty=l2, solver=liblinear, tol=0.0006; total time=   0.0s\n",
      "[CV] END C=9, class_weight=balanced, dual=False, fit_intercept=True, max_iter=92, multi_class=auto, penalty=l2, solver=liblinear, tol=0.0006; total time=   0.0s\n",
      "[CV] END C=9, class_weight=balanced, dual=False, fit_intercept=True, max_iter=92, multi_class=auto, penalty=l2, solver=liblinear, tol=0.0006; total time=   0.0s\n",
      "[CV] END C=9, class_weight=balanced, dual=False, fit_intercept=True, max_iter=92, multi_class=auto, penalty=l2, solver=liblinear, tol=0.0005; total time=   0.0s\n",
      "[CV] END C=9, class_weight=balanced, dual=False, fit_intercept=True, max_iter=92, multi_class=auto, penalty=l2, solver=liblinear, tol=0.0005; total time=   0.0s\n",
      "[CV] END C=9, class_weight=balanced, dual=False, fit_intercept=True, max_iter=92, multi_class=auto, penalty=l2, solver=liblinear, tol=0.0005; total time=   0.0s\n",
      "[CV] END C=9, class_weight=balanced, dual=False, fit_intercept=True, max_iter=92, multi_class=auto, penalty=l2, solver=liblinear, tol=0.00062; total time=   0.0s\n",
      "[CV] END C=9, class_weight=balanced, dual=False, fit_intercept=True, max_iter=92, multi_class=auto, penalty=l2, solver=liblinear, tol=0.00062; total time=   0.0s\n",
      "[CV] END C=9, class_weight=balanced, dual=False, fit_intercept=True, max_iter=92, multi_class=auto, penalty=l2, solver=liblinear, tol=0.00062; total time=   0.0s\n",
      "[CV] END C=9, class_weight=balanced, dual=False, fit_intercept=True, max_iter=95, multi_class=auto, penalty=l2, solver=liblinear, tol=0.00067; total time=   0.0s\n",
      "[CV] END C=9, class_weight=balanced, dual=False, fit_intercept=True, max_iter=95, multi_class=auto, penalty=l2, solver=liblinear, tol=0.00067; total time=   0.0s\n",
      "[CV] END C=9, class_weight=balanced, dual=False, fit_intercept=True, max_iter=95, multi_class=auto, penalty=l2, solver=liblinear, tol=0.00067; total time=   0.0s\n",
      "[CV] END C=9, class_weight=balanced, dual=False, fit_intercept=True, max_iter=95, multi_class=auto, penalty=l2, solver=liblinear, tol=0.0007; total time=   0.0s\n",
      "[CV] END C=9, class_weight=balanced, dual=False, fit_intercept=True, max_iter=95, multi_class=auto, penalty=l2, solver=liblinear, tol=0.0007; total time=   0.0s\n",
      "[CV] END C=9, class_weight=balanced, dual=False, fit_intercept=True, max_iter=95, multi_class=auto, penalty=l2, solver=liblinear, tol=0.0007; total time=   0.0s\n",
      "[CV] END C=9, class_weight=balanced, dual=False, fit_intercept=True, max_iter=95, multi_class=auto, penalty=l2, solver=liblinear, tol=0.0006; total time=   0.0s\n",
      "[CV] END C=9, class_weight=balanced, dual=False, fit_intercept=True, max_iter=95, multi_class=auto, penalty=l2, solver=liblinear, tol=0.0006; total time=   0.0s\n",
      "[CV] END C=9, class_weight=balanced, dual=False, fit_intercept=True, max_iter=95, multi_class=auto, penalty=l2, solver=liblinear, tol=0.0006; total time=   0.0s\n",
      "[CV] END C=9, class_weight=balanced, dual=False, fit_intercept=True, max_iter=95, multi_class=auto, penalty=l2, solver=liblinear, tol=0.0005; total time=   0.0s\n",
      "[CV] END C=9, class_weight=balanced, dual=False, fit_intercept=True, max_iter=95, multi_class=auto, penalty=l2, solver=liblinear, tol=0.0005; total time=   0.0s\n",
      "[CV] END C=9, class_weight=balanced, dual=False, fit_intercept=True, max_iter=95, multi_class=auto, penalty=l2, solver=liblinear, tol=0.0005; total time=   0.0s\n",
      "[CV] END C=9, class_weight=balanced, dual=False, fit_intercept=True, max_iter=95, multi_class=auto, penalty=l2, solver=liblinear, tol=0.00062; total time=   0.0s\n",
      "[CV] END C=9, class_weight=balanced, dual=False, fit_intercept=True, max_iter=95, multi_class=auto, penalty=l2, solver=liblinear, tol=0.00062; total time=   0.0s\n",
      "[CV] END C=9, class_weight=balanced, dual=False, fit_intercept=True, max_iter=95, multi_class=auto, penalty=l2, solver=liblinear, tol=0.00062; total time=   0.0s\n",
      "[CV] END C=9, class_weight=balanced, dual=False, fit_intercept=True, max_iter=96, multi_class=auto, penalty=l2, solver=liblinear, tol=0.00067; total time=   0.0s\n",
      "[CV] END C=9, class_weight=balanced, dual=False, fit_intercept=True, max_iter=96, multi_class=auto, penalty=l2, solver=liblinear, tol=0.00067; total time=   0.0s\n",
      "[CV] END C=9, class_weight=balanced, dual=False, fit_intercept=True, max_iter=96, multi_class=auto, penalty=l2, solver=liblinear, tol=0.00067; total time=   0.0s\n",
      "[CV] END C=9, class_weight=balanced, dual=False, fit_intercept=True, max_iter=96, multi_class=auto, penalty=l2, solver=liblinear, tol=0.0007; total time=   0.0s\n",
      "[CV] END C=9, class_weight=balanced, dual=False, fit_intercept=True, max_iter=96, multi_class=auto, penalty=l2, solver=liblinear, tol=0.0007; total time=   0.0s\n",
      "[CV] END C=9, class_weight=balanced, dual=False, fit_intercept=True, max_iter=96, multi_class=auto, penalty=l2, solver=liblinear, tol=0.0007; total time=   0.0s\n",
      "[CV] END C=9, class_weight=balanced, dual=False, fit_intercept=True, max_iter=96, multi_class=auto, penalty=l2, solver=liblinear, tol=0.0006; total time=   0.0s\n",
      "[CV] END C=9, class_weight=balanced, dual=False, fit_intercept=True, max_iter=96, multi_class=auto, penalty=l2, solver=liblinear, tol=0.0006; total time=   0.0s\n",
      "[CV] END C=9, class_weight=balanced, dual=False, fit_intercept=True, max_iter=96, multi_class=auto, penalty=l2, solver=liblinear, tol=0.0006; total time=   0.0s\n",
      "[CV] END C=9, class_weight=balanced, dual=False, fit_intercept=True, max_iter=96, multi_class=auto, penalty=l2, solver=liblinear, tol=0.0005; total time=   0.0s\n",
      "[CV] END C=9, class_weight=balanced, dual=False, fit_intercept=True, max_iter=96, multi_class=auto, penalty=l2, solver=liblinear, tol=0.0005; total time=   0.0s\n",
      "[CV] END C=9, class_weight=balanced, dual=False, fit_intercept=True, max_iter=96, multi_class=auto, penalty=l2, solver=liblinear, tol=0.0005; total time=   0.0s\n",
      "[CV] END C=9, class_weight=balanced, dual=False, fit_intercept=True, max_iter=96, multi_class=auto, penalty=l2, solver=liblinear, tol=0.00062; total time=   0.0s\n",
      "[CV] END C=9, class_weight=balanced, dual=False, fit_intercept=True, max_iter=96, multi_class=auto, penalty=l2, solver=liblinear, tol=0.00062; total time=   0.0s\n",
      "[CV] END C=9, class_weight=balanced, dual=False, fit_intercept=True, max_iter=96, multi_class=auto, penalty=l2, solver=liblinear, tol=0.00062; total time=   0.0s\n",
      "[CV] END C=9, class_weight=balanced, dual=False, fit_intercept=True, max_iter=91, multi_class=auto, penalty=l2, solver=liblinear, tol=0.00067; total time=   0.0s\n",
      "[CV] END C=9, class_weight=balanced, dual=False, fit_intercept=True, max_iter=91, multi_class=auto, penalty=l2, solver=liblinear, tol=0.00067; total time=   0.0s\n",
      "[CV] END C=9, class_weight=balanced, dual=False, fit_intercept=True, max_iter=91, multi_class=auto, penalty=l2, solver=liblinear, tol=0.00067; total time=   0.0s\n",
      "[CV] END C=9, class_weight=balanced, dual=False, fit_intercept=True, max_iter=91, multi_class=auto, penalty=l2, solver=liblinear, tol=0.0007; total time=   0.0s\n",
      "[CV] END C=9, class_weight=balanced, dual=False, fit_intercept=True, max_iter=91, multi_class=auto, penalty=l2, solver=liblinear, tol=0.0007; total time=   0.0s\n",
      "[CV] END C=9, class_weight=balanced, dual=False, fit_intercept=True, max_iter=91, multi_class=auto, penalty=l2, solver=liblinear, tol=0.0007; total time=   0.0s\n",
      "[CV] END C=9, class_weight=balanced, dual=False, fit_intercept=True, max_iter=91, multi_class=auto, penalty=l2, solver=liblinear, tol=0.0006; total time=   0.0s\n",
      "[CV] END C=9, class_weight=balanced, dual=False, fit_intercept=True, max_iter=91, multi_class=auto, penalty=l2, solver=liblinear, tol=0.0006; total time=   0.0s\n",
      "[CV] END C=9, class_weight=balanced, dual=False, fit_intercept=True, max_iter=91, multi_class=auto, penalty=l2, solver=liblinear, tol=0.0006; total time=   0.0s\n"
     ]
    },
    {
     "name": "stdout",
     "output_type": "stream",
     "text": [
      "[CV] END C=9, class_weight=balanced, dual=False, fit_intercept=True, max_iter=91, multi_class=auto, penalty=l2, solver=liblinear, tol=0.0005; total time=   0.0s\n",
      "[CV] END C=9, class_weight=balanced, dual=False, fit_intercept=True, max_iter=91, multi_class=auto, penalty=l2, solver=liblinear, tol=0.0005; total time=   0.0s\n",
      "[CV] END C=9, class_weight=balanced, dual=False, fit_intercept=True, max_iter=91, multi_class=auto, penalty=l2, solver=liblinear, tol=0.0005; total time=   0.0s\n",
      "[CV] END C=9, class_weight=balanced, dual=False, fit_intercept=True, max_iter=91, multi_class=auto, penalty=l2, solver=liblinear, tol=0.00062; total time=   0.0s\n",
      "[CV] END C=9, class_weight=balanced, dual=False, fit_intercept=True, max_iter=91, multi_class=auto, penalty=l2, solver=liblinear, tol=0.00062; total time=   0.0s\n",
      "[CV] END C=9, class_weight=balanced, dual=False, fit_intercept=True, max_iter=91, multi_class=auto, penalty=l2, solver=liblinear, tol=0.00062; total time=   0.0s\n",
      "[CV] END C=9, class_weight=balanced, dual=False, fit_intercept=True, max_iter=98, multi_class=auto, penalty=l2, solver=liblinear, tol=0.00067; total time=   0.0s\n",
      "[CV] END C=9, class_weight=balanced, dual=False, fit_intercept=True, max_iter=98, multi_class=auto, penalty=l2, solver=liblinear, tol=0.00067; total time=   0.0s\n",
      "[CV] END C=9, class_weight=balanced, dual=False, fit_intercept=True, max_iter=98, multi_class=auto, penalty=l2, solver=liblinear, tol=0.00067; total time=   0.0s\n",
      "[CV] END C=9, class_weight=balanced, dual=False, fit_intercept=True, max_iter=98, multi_class=auto, penalty=l2, solver=liblinear, tol=0.0007; total time=   0.0s\n",
      "[CV] END C=9, class_weight=balanced, dual=False, fit_intercept=True, max_iter=98, multi_class=auto, penalty=l2, solver=liblinear, tol=0.0007; total time=   0.0s\n",
      "[CV] END C=9, class_weight=balanced, dual=False, fit_intercept=True, max_iter=98, multi_class=auto, penalty=l2, solver=liblinear, tol=0.0007; total time=   0.0s\n",
      "[CV] END C=9, class_weight=balanced, dual=False, fit_intercept=True, max_iter=98, multi_class=auto, penalty=l2, solver=liblinear, tol=0.0006; total time=   0.0s\n",
      "[CV] END C=9, class_weight=balanced, dual=False, fit_intercept=True, max_iter=98, multi_class=auto, penalty=l2, solver=liblinear, tol=0.0006; total time=   0.0s\n",
      "[CV] END C=9, class_weight=balanced, dual=False, fit_intercept=True, max_iter=98, multi_class=auto, penalty=l2, solver=liblinear, tol=0.0006; total time=   0.0s\n",
      "[CV] END C=9, class_weight=balanced, dual=False, fit_intercept=True, max_iter=98, multi_class=auto, penalty=l2, solver=liblinear, tol=0.0005; total time=   0.0s\n",
      "[CV] END C=9, class_weight=balanced, dual=False, fit_intercept=True, max_iter=98, multi_class=auto, penalty=l2, solver=liblinear, tol=0.0005; total time=   0.0s\n",
      "[CV] END C=9, class_weight=balanced, dual=False, fit_intercept=True, max_iter=98, multi_class=auto, penalty=l2, solver=liblinear, tol=0.0005; total time=   0.0s\n",
      "[CV] END C=9, class_weight=balanced, dual=False, fit_intercept=True, max_iter=98, multi_class=auto, penalty=l2, solver=liblinear, tol=0.00062; total time=   0.0s\n",
      "[CV] END C=9, class_weight=balanced, dual=False, fit_intercept=True, max_iter=98, multi_class=auto, penalty=l2, solver=liblinear, tol=0.00062; total time=   0.0s\n",
      "[CV] END C=9, class_weight=balanced, dual=False, fit_intercept=True, max_iter=98, multi_class=auto, penalty=l2, solver=liblinear, tol=0.00062; total time=   0.0s\n",
      "[CV] END C=9, class_weight=balanced, dual=False, fit_intercept=True, max_iter=97, multi_class=auto, penalty=l2, solver=liblinear, tol=0.00067; total time=   0.0s\n",
      "[CV] END C=9, class_weight=balanced, dual=False, fit_intercept=True, max_iter=97, multi_class=auto, penalty=l2, solver=liblinear, tol=0.00067; total time=   0.0s\n",
      "[CV] END C=9, class_weight=balanced, dual=False, fit_intercept=True, max_iter=97, multi_class=auto, penalty=l2, solver=liblinear, tol=0.00067; total time=   0.0s\n",
      "[CV] END C=9, class_weight=balanced, dual=False, fit_intercept=True, max_iter=97, multi_class=auto, penalty=l2, solver=liblinear, tol=0.0007; total time=   0.0s\n",
      "[CV] END C=9, class_weight=balanced, dual=False, fit_intercept=True, max_iter=97, multi_class=auto, penalty=l2, solver=liblinear, tol=0.0007; total time=   0.0s\n",
      "[CV] END C=9, class_weight=balanced, dual=False, fit_intercept=True, max_iter=97, multi_class=auto, penalty=l2, solver=liblinear, tol=0.0007; total time=   0.0s\n",
      "[CV] END C=9, class_weight=balanced, dual=False, fit_intercept=True, max_iter=97, multi_class=auto, penalty=l2, solver=liblinear, tol=0.0006; total time=   0.0s\n",
      "[CV] END C=9, class_weight=balanced, dual=False, fit_intercept=True, max_iter=97, multi_class=auto, penalty=l2, solver=liblinear, tol=0.0006; total time=   0.0s\n",
      "[CV] END C=9, class_weight=balanced, dual=False, fit_intercept=True, max_iter=97, multi_class=auto, penalty=l2, solver=liblinear, tol=0.0006; total time=   0.0s\n",
      "[CV] END C=9, class_weight=balanced, dual=False, fit_intercept=True, max_iter=97, multi_class=auto, penalty=l2, solver=liblinear, tol=0.0005; total time=   0.0s\n",
      "[CV] END C=9, class_weight=balanced, dual=False, fit_intercept=True, max_iter=97, multi_class=auto, penalty=l2, solver=liblinear, tol=0.0005; total time=   0.0s\n",
      "[CV] END C=9, class_weight=balanced, dual=False, fit_intercept=True, max_iter=97, multi_class=auto, penalty=l2, solver=liblinear, tol=0.0005; total time=   0.0s\n",
      "[CV] END C=9, class_weight=balanced, dual=False, fit_intercept=True, max_iter=97, multi_class=auto, penalty=l2, solver=liblinear, tol=0.00062; total time=   0.0s\n",
      "[CV] END C=9, class_weight=balanced, dual=False, fit_intercept=True, max_iter=97, multi_class=auto, penalty=l2, solver=liblinear, tol=0.00062; total time=   0.0s\n",
      "[CV] END C=9, class_weight=balanced, dual=False, fit_intercept=True, max_iter=97, multi_class=auto, penalty=l2, solver=liblinear, tol=0.00062; total time=   0.0s\n",
      "[CV] END C=10, class_weight=balanced, dual=False, fit_intercept=True, max_iter=94, multi_class=auto, penalty=l2, solver=liblinear, tol=0.00067; total time=   0.0s\n",
      "[CV] END C=10, class_weight=balanced, dual=False, fit_intercept=True, max_iter=94, multi_class=auto, penalty=l2, solver=liblinear, tol=0.00067; total time=   0.0s\n",
      "[CV] END C=10, class_weight=balanced, dual=False, fit_intercept=True, max_iter=94, multi_class=auto, penalty=l2, solver=liblinear, tol=0.00067; total time=   0.0s\n",
      "[CV] END C=10, class_weight=balanced, dual=False, fit_intercept=True, max_iter=94, multi_class=auto, penalty=l2, solver=liblinear, tol=0.0007; total time=   0.0s\n",
      "[CV] END C=10, class_weight=balanced, dual=False, fit_intercept=True, max_iter=94, multi_class=auto, penalty=l2, solver=liblinear, tol=0.0007; total time=   0.0s\n",
      "[CV] END C=10, class_weight=balanced, dual=False, fit_intercept=True, max_iter=94, multi_class=auto, penalty=l2, solver=liblinear, tol=0.0007; total time=   0.0s\n",
      "[CV] END C=10, class_weight=balanced, dual=False, fit_intercept=True, max_iter=94, multi_class=auto, penalty=l2, solver=liblinear, tol=0.0006; total time=   0.0s\n",
      "[CV] END C=10, class_weight=balanced, dual=False, fit_intercept=True, max_iter=94, multi_class=auto, penalty=l2, solver=liblinear, tol=0.0006; total time=   0.0s\n",
      "[CV] END C=10, class_weight=balanced, dual=False, fit_intercept=True, max_iter=94, multi_class=auto, penalty=l2, solver=liblinear, tol=0.0006; total time=   0.0s\n",
      "[CV] END C=10, class_weight=balanced, dual=False, fit_intercept=True, max_iter=94, multi_class=auto, penalty=l2, solver=liblinear, tol=0.0005; total time=   0.0s\n",
      "[CV] END C=10, class_weight=balanced, dual=False, fit_intercept=True, max_iter=94, multi_class=auto, penalty=l2, solver=liblinear, tol=0.0005; total time=   0.0s\n",
      "[CV] END C=10, class_weight=balanced, dual=False, fit_intercept=True, max_iter=94, multi_class=auto, penalty=l2, solver=liblinear, tol=0.0005; total time=   0.0s\n",
      "[CV] END C=10, class_weight=balanced, dual=False, fit_intercept=True, max_iter=94, multi_class=auto, penalty=l2, solver=liblinear, tol=0.00062; total time=   0.0s\n",
      "[CV] END C=10, class_weight=balanced, dual=False, fit_intercept=True, max_iter=94, multi_class=auto, penalty=l2, solver=liblinear, tol=0.00062; total time=   0.0s\n",
      "[CV] END C=10, class_weight=balanced, dual=False, fit_intercept=True, max_iter=94, multi_class=auto, penalty=l2, solver=liblinear, tol=0.00062; total time=   0.0s\n",
      "[CV] END C=10, class_weight=balanced, dual=False, fit_intercept=True, max_iter=93, multi_class=auto, penalty=l2, solver=liblinear, tol=0.00067; total time=   0.0s\n",
      "[CV] END C=10, class_weight=balanced, dual=False, fit_intercept=True, max_iter=93, multi_class=auto, penalty=l2, solver=liblinear, tol=0.00067; total time=   0.0s\n",
      "[CV] END C=10, class_weight=balanced, dual=False, fit_intercept=True, max_iter=93, multi_class=auto, penalty=l2, solver=liblinear, tol=0.00067; total time=   0.0s\n",
      "[CV] END C=10, class_weight=balanced, dual=False, fit_intercept=True, max_iter=93, multi_class=auto, penalty=l2, solver=liblinear, tol=0.0007; total time=   0.0s\n",
      "[CV] END C=10, class_weight=balanced, dual=False, fit_intercept=True, max_iter=93, multi_class=auto, penalty=l2, solver=liblinear, tol=0.0007; total time=   0.0s\n",
      "[CV] END C=10, class_weight=balanced, dual=False, fit_intercept=True, max_iter=93, multi_class=auto, penalty=l2, solver=liblinear, tol=0.0007; total time=   0.0s\n",
      "[CV] END C=10, class_weight=balanced, dual=False, fit_intercept=True, max_iter=93, multi_class=auto, penalty=l2, solver=liblinear, tol=0.0006; total time=   0.0s\n",
      "[CV] END C=10, class_weight=balanced, dual=False, fit_intercept=True, max_iter=93, multi_class=auto, penalty=l2, solver=liblinear, tol=0.0006; total time=   0.0s\n",
      "[CV] END C=10, class_weight=balanced, dual=False, fit_intercept=True, max_iter=93, multi_class=auto, penalty=l2, solver=liblinear, tol=0.0006; total time=   0.0s\n",
      "[CV] END C=10, class_weight=balanced, dual=False, fit_intercept=True, max_iter=93, multi_class=auto, penalty=l2, solver=liblinear, tol=0.0005; total time=   0.0s\n",
      "[CV] END C=10, class_weight=balanced, dual=False, fit_intercept=True, max_iter=93, multi_class=auto, penalty=l2, solver=liblinear, tol=0.0005; total time=   0.0s\n",
      "[CV] END C=10, class_weight=balanced, dual=False, fit_intercept=True, max_iter=93, multi_class=auto, penalty=l2, solver=liblinear, tol=0.0005; total time=   0.0s\n",
      "[CV] END C=10, class_weight=balanced, dual=False, fit_intercept=True, max_iter=93, multi_class=auto, penalty=l2, solver=liblinear, tol=0.00062; total time=   0.0s\n",
      "[CV] END C=10, class_weight=balanced, dual=False, fit_intercept=True, max_iter=93, multi_class=auto, penalty=l2, solver=liblinear, tol=0.00062; total time=   0.0s\n",
      "[CV] END C=10, class_weight=balanced, dual=False, fit_intercept=True, max_iter=93, multi_class=auto, penalty=l2, solver=liblinear, tol=0.00062; total time=   0.0s\n",
      "[CV] END C=10, class_weight=balanced, dual=False, fit_intercept=True, max_iter=92, multi_class=auto, penalty=l2, solver=liblinear, tol=0.00067; total time=   0.0s\n",
      "[CV] END C=10, class_weight=balanced, dual=False, fit_intercept=True, max_iter=92, multi_class=auto, penalty=l2, solver=liblinear, tol=0.00067; total time=   0.0s\n",
      "[CV] END C=10, class_weight=balanced, dual=False, fit_intercept=True, max_iter=92, multi_class=auto, penalty=l2, solver=liblinear, tol=0.00067; total time=   0.0s\n",
      "[CV] END C=10, class_weight=balanced, dual=False, fit_intercept=True, max_iter=92, multi_class=auto, penalty=l2, solver=liblinear, tol=0.0007; total time=   0.0s\n"
     ]
    },
    {
     "name": "stdout",
     "output_type": "stream",
     "text": [
      "[CV] END C=10, class_weight=balanced, dual=False, fit_intercept=True, max_iter=92, multi_class=auto, penalty=l2, solver=liblinear, tol=0.0007; total time=   0.0s\n",
      "[CV] END C=10, class_weight=balanced, dual=False, fit_intercept=True, max_iter=92, multi_class=auto, penalty=l2, solver=liblinear, tol=0.0007; total time=   0.0s\n",
      "[CV] END C=10, class_weight=balanced, dual=False, fit_intercept=True, max_iter=92, multi_class=auto, penalty=l2, solver=liblinear, tol=0.0006; total time=   0.0s\n",
      "[CV] END C=10, class_weight=balanced, dual=False, fit_intercept=True, max_iter=92, multi_class=auto, penalty=l2, solver=liblinear, tol=0.0006; total time=   0.0s\n",
      "[CV] END C=10, class_weight=balanced, dual=False, fit_intercept=True, max_iter=92, multi_class=auto, penalty=l2, solver=liblinear, tol=0.0006; total time=   0.0s\n",
      "[CV] END C=10, class_weight=balanced, dual=False, fit_intercept=True, max_iter=92, multi_class=auto, penalty=l2, solver=liblinear, tol=0.0005; total time=   0.0s\n",
      "[CV] END C=10, class_weight=balanced, dual=False, fit_intercept=True, max_iter=92, multi_class=auto, penalty=l2, solver=liblinear, tol=0.0005; total time=   0.0s\n",
      "[CV] END C=10, class_weight=balanced, dual=False, fit_intercept=True, max_iter=92, multi_class=auto, penalty=l2, solver=liblinear, tol=0.0005; total time=   0.0s\n",
      "[CV] END C=10, class_weight=balanced, dual=False, fit_intercept=True, max_iter=92, multi_class=auto, penalty=l2, solver=liblinear, tol=0.00062; total time=   0.0s\n",
      "[CV] END C=10, class_weight=balanced, dual=False, fit_intercept=True, max_iter=92, multi_class=auto, penalty=l2, solver=liblinear, tol=0.00062; total time=   0.0s\n",
      "[CV] END C=10, class_weight=balanced, dual=False, fit_intercept=True, max_iter=92, multi_class=auto, penalty=l2, solver=liblinear, tol=0.00062; total time=   0.0s\n",
      "[CV] END C=10, class_weight=balanced, dual=False, fit_intercept=True, max_iter=95, multi_class=auto, penalty=l2, solver=liblinear, tol=0.00067; total time=   0.0s\n",
      "[CV] END C=10, class_weight=balanced, dual=False, fit_intercept=True, max_iter=95, multi_class=auto, penalty=l2, solver=liblinear, tol=0.00067; total time=   0.0s\n",
      "[CV] END C=10, class_weight=balanced, dual=False, fit_intercept=True, max_iter=95, multi_class=auto, penalty=l2, solver=liblinear, tol=0.00067; total time=   0.0s\n",
      "[CV] END C=10, class_weight=balanced, dual=False, fit_intercept=True, max_iter=95, multi_class=auto, penalty=l2, solver=liblinear, tol=0.0007; total time=   0.0s\n",
      "[CV] END C=10, class_weight=balanced, dual=False, fit_intercept=True, max_iter=95, multi_class=auto, penalty=l2, solver=liblinear, tol=0.0007; total time=   0.0s\n",
      "[CV] END C=10, class_weight=balanced, dual=False, fit_intercept=True, max_iter=95, multi_class=auto, penalty=l2, solver=liblinear, tol=0.0007; total time=   0.0s\n",
      "[CV] END C=10, class_weight=balanced, dual=False, fit_intercept=True, max_iter=95, multi_class=auto, penalty=l2, solver=liblinear, tol=0.0006; total time=   0.0s\n",
      "[CV] END C=10, class_weight=balanced, dual=False, fit_intercept=True, max_iter=95, multi_class=auto, penalty=l2, solver=liblinear, tol=0.0006; total time=   0.0s\n",
      "[CV] END C=10, class_weight=balanced, dual=False, fit_intercept=True, max_iter=95, multi_class=auto, penalty=l2, solver=liblinear, tol=0.0006; total time=   0.0s\n",
      "[CV] END C=10, class_weight=balanced, dual=False, fit_intercept=True, max_iter=95, multi_class=auto, penalty=l2, solver=liblinear, tol=0.0005; total time=   0.0s\n",
      "[CV] END C=10, class_weight=balanced, dual=False, fit_intercept=True, max_iter=95, multi_class=auto, penalty=l2, solver=liblinear, tol=0.0005; total time=   0.0s\n",
      "[CV] END C=10, class_weight=balanced, dual=False, fit_intercept=True, max_iter=95, multi_class=auto, penalty=l2, solver=liblinear, tol=0.0005; total time=   0.0s\n",
      "[CV] END C=10, class_weight=balanced, dual=False, fit_intercept=True, max_iter=95, multi_class=auto, penalty=l2, solver=liblinear, tol=0.00062; total time=   0.0s\n",
      "[CV] END C=10, class_weight=balanced, dual=False, fit_intercept=True, max_iter=95, multi_class=auto, penalty=l2, solver=liblinear, tol=0.00062; total time=   0.0s\n",
      "[CV] END C=10, class_weight=balanced, dual=False, fit_intercept=True, max_iter=95, multi_class=auto, penalty=l2, solver=liblinear, tol=0.00062; total time=   0.0s\n",
      "[CV] END C=10, class_weight=balanced, dual=False, fit_intercept=True, max_iter=96, multi_class=auto, penalty=l2, solver=liblinear, tol=0.00067; total time=   0.0s\n",
      "[CV] END C=10, class_weight=balanced, dual=False, fit_intercept=True, max_iter=96, multi_class=auto, penalty=l2, solver=liblinear, tol=0.00067; total time=   0.0s\n",
      "[CV] END C=10, class_weight=balanced, dual=False, fit_intercept=True, max_iter=96, multi_class=auto, penalty=l2, solver=liblinear, tol=0.00067; total time=   0.0s\n",
      "[CV] END C=10, class_weight=balanced, dual=False, fit_intercept=True, max_iter=96, multi_class=auto, penalty=l2, solver=liblinear, tol=0.0007; total time=   0.0s\n",
      "[CV] END C=10, class_weight=balanced, dual=False, fit_intercept=True, max_iter=96, multi_class=auto, penalty=l2, solver=liblinear, tol=0.0007; total time=   0.0s\n",
      "[CV] END C=10, class_weight=balanced, dual=False, fit_intercept=True, max_iter=96, multi_class=auto, penalty=l2, solver=liblinear, tol=0.0007; total time=   0.0s\n",
      "[CV] END C=10, class_weight=balanced, dual=False, fit_intercept=True, max_iter=96, multi_class=auto, penalty=l2, solver=liblinear, tol=0.0006; total time=   0.0s\n",
      "[CV] END C=10, class_weight=balanced, dual=False, fit_intercept=True, max_iter=96, multi_class=auto, penalty=l2, solver=liblinear, tol=0.0006; total time=   0.0s\n",
      "[CV] END C=10, class_weight=balanced, dual=False, fit_intercept=True, max_iter=96, multi_class=auto, penalty=l2, solver=liblinear, tol=0.0006; total time=   0.0s\n",
      "[CV] END C=10, class_weight=balanced, dual=False, fit_intercept=True, max_iter=96, multi_class=auto, penalty=l2, solver=liblinear, tol=0.0005; total time=   0.0s\n",
      "[CV] END C=10, class_weight=balanced, dual=False, fit_intercept=True, max_iter=96, multi_class=auto, penalty=l2, solver=liblinear, tol=0.0005; total time=   0.0s\n",
      "[CV] END C=10, class_weight=balanced, dual=False, fit_intercept=True, max_iter=96, multi_class=auto, penalty=l2, solver=liblinear, tol=0.0005; total time=   0.0s\n",
      "[CV] END C=10, class_weight=balanced, dual=False, fit_intercept=True, max_iter=96, multi_class=auto, penalty=l2, solver=liblinear, tol=0.00062; total time=   0.0s\n",
      "[CV] END C=10, class_weight=balanced, dual=False, fit_intercept=True, max_iter=96, multi_class=auto, penalty=l2, solver=liblinear, tol=0.00062; total time=   0.0s\n",
      "[CV] END C=10, class_weight=balanced, dual=False, fit_intercept=True, max_iter=96, multi_class=auto, penalty=l2, solver=liblinear, tol=0.00062; total time=   0.0s\n",
      "[CV] END C=10, class_weight=balanced, dual=False, fit_intercept=True, max_iter=91, multi_class=auto, penalty=l2, solver=liblinear, tol=0.00067; total time=   0.0s\n",
      "[CV] END C=10, class_weight=balanced, dual=False, fit_intercept=True, max_iter=91, multi_class=auto, penalty=l2, solver=liblinear, tol=0.00067; total time=   0.0s\n",
      "[CV] END C=10, class_weight=balanced, dual=False, fit_intercept=True, max_iter=91, multi_class=auto, penalty=l2, solver=liblinear, tol=0.00067; total time=   0.0s\n",
      "[CV] END C=10, class_weight=balanced, dual=False, fit_intercept=True, max_iter=91, multi_class=auto, penalty=l2, solver=liblinear, tol=0.0007; total time=   0.0s\n",
      "[CV] END C=10, class_weight=balanced, dual=False, fit_intercept=True, max_iter=91, multi_class=auto, penalty=l2, solver=liblinear, tol=0.0007; total time=   0.0s\n",
      "[CV] END C=10, class_weight=balanced, dual=False, fit_intercept=True, max_iter=91, multi_class=auto, penalty=l2, solver=liblinear, tol=0.0007; total time=   0.0s\n",
      "[CV] END C=10, class_weight=balanced, dual=False, fit_intercept=True, max_iter=91, multi_class=auto, penalty=l2, solver=liblinear, tol=0.0006; total time=   0.0s\n",
      "[CV] END C=10, class_weight=balanced, dual=False, fit_intercept=True, max_iter=91, multi_class=auto, penalty=l2, solver=liblinear, tol=0.0006; total time=   0.0s\n",
      "[CV] END C=10, class_weight=balanced, dual=False, fit_intercept=True, max_iter=91, multi_class=auto, penalty=l2, solver=liblinear, tol=0.0006; total time=   0.0s\n",
      "[CV] END C=10, class_weight=balanced, dual=False, fit_intercept=True, max_iter=91, multi_class=auto, penalty=l2, solver=liblinear, tol=0.0005; total time=   0.0s\n",
      "[CV] END C=10, class_weight=balanced, dual=False, fit_intercept=True, max_iter=91, multi_class=auto, penalty=l2, solver=liblinear, tol=0.0005; total time=   0.0s\n",
      "[CV] END C=10, class_weight=balanced, dual=False, fit_intercept=True, max_iter=91, multi_class=auto, penalty=l2, solver=liblinear, tol=0.0005; total time=   0.0s\n",
      "[CV] END C=10, class_weight=balanced, dual=False, fit_intercept=True, max_iter=91, multi_class=auto, penalty=l2, solver=liblinear, tol=0.00062; total time=   0.0s\n",
      "[CV] END C=10, class_weight=balanced, dual=False, fit_intercept=True, max_iter=91, multi_class=auto, penalty=l2, solver=liblinear, tol=0.00062; total time=   0.0s\n",
      "[CV] END C=10, class_weight=balanced, dual=False, fit_intercept=True, max_iter=91, multi_class=auto, penalty=l2, solver=liblinear, tol=0.00062; total time=   0.0s\n",
      "[CV] END C=10, class_weight=balanced, dual=False, fit_intercept=True, max_iter=98, multi_class=auto, penalty=l2, solver=liblinear, tol=0.00067; total time=   0.0s\n",
      "[CV] END C=10, class_weight=balanced, dual=False, fit_intercept=True, max_iter=98, multi_class=auto, penalty=l2, solver=liblinear, tol=0.00067; total time=   0.0s\n",
      "[CV] END C=10, class_weight=balanced, dual=False, fit_intercept=True, max_iter=98, multi_class=auto, penalty=l2, solver=liblinear, tol=0.00067; total time=   0.0s\n",
      "[CV] END C=10, class_weight=balanced, dual=False, fit_intercept=True, max_iter=98, multi_class=auto, penalty=l2, solver=liblinear, tol=0.0007; total time=   0.0s\n",
      "[CV] END C=10, class_weight=balanced, dual=False, fit_intercept=True, max_iter=98, multi_class=auto, penalty=l2, solver=liblinear, tol=0.0007; total time=   0.0s\n",
      "[CV] END C=10, class_weight=balanced, dual=False, fit_intercept=True, max_iter=98, multi_class=auto, penalty=l2, solver=liblinear, tol=0.0007; total time=   0.0s\n",
      "[CV] END C=10, class_weight=balanced, dual=False, fit_intercept=True, max_iter=98, multi_class=auto, penalty=l2, solver=liblinear, tol=0.0006; total time=   0.0s\n",
      "[CV] END C=10, class_weight=balanced, dual=False, fit_intercept=True, max_iter=98, multi_class=auto, penalty=l2, solver=liblinear, tol=0.0006; total time=   0.0s\n",
      "[CV] END C=10, class_weight=balanced, dual=False, fit_intercept=True, max_iter=98, multi_class=auto, penalty=l2, solver=liblinear, tol=0.0006; total time=   0.0s\n",
      "[CV] END C=10, class_weight=balanced, dual=False, fit_intercept=True, max_iter=98, multi_class=auto, penalty=l2, solver=liblinear, tol=0.0005; total time=   0.0s\n",
      "[CV] END C=10, class_weight=balanced, dual=False, fit_intercept=True, max_iter=98, multi_class=auto, penalty=l2, solver=liblinear, tol=0.0005; total time=   0.0s\n",
      "[CV] END C=10, class_weight=balanced, dual=False, fit_intercept=True, max_iter=98, multi_class=auto, penalty=l2, solver=liblinear, tol=0.0005; total time=   0.0s\n",
      "[CV] END C=10, class_weight=balanced, dual=False, fit_intercept=True, max_iter=98, multi_class=auto, penalty=l2, solver=liblinear, tol=0.00062; total time=   0.0s\n",
      "[CV] END C=10, class_weight=balanced, dual=False, fit_intercept=True, max_iter=98, multi_class=auto, penalty=l2, solver=liblinear, tol=0.00062; total time=   0.0s\n",
      "[CV] END C=10, class_weight=balanced, dual=False, fit_intercept=True, max_iter=98, multi_class=auto, penalty=l2, solver=liblinear, tol=0.00062; total time=   0.0s\n",
      "[CV] END C=10, class_weight=balanced, dual=False, fit_intercept=True, max_iter=97, multi_class=auto, penalty=l2, solver=liblinear, tol=0.00067; total time=   0.0s\n",
      "[CV] END C=10, class_weight=balanced, dual=False, fit_intercept=True, max_iter=97, multi_class=auto, penalty=l2, solver=liblinear, tol=0.00067; total time=   0.0s\n",
      "[CV] END C=10, class_weight=balanced, dual=False, fit_intercept=True, max_iter=97, multi_class=auto, penalty=l2, solver=liblinear, tol=0.00067; total time=   0.0s\n",
      "[CV] END C=10, class_weight=balanced, dual=False, fit_intercept=True, max_iter=97, multi_class=auto, penalty=l2, solver=liblinear, tol=0.0007; total time=   0.0s\n",
      "[CV] END C=10, class_weight=balanced, dual=False, fit_intercept=True, max_iter=97, multi_class=auto, penalty=l2, solver=liblinear, tol=0.0007; total time=   0.0s\n",
      "[CV] END C=10, class_weight=balanced, dual=False, fit_intercept=True, max_iter=97, multi_class=auto, penalty=l2, solver=liblinear, tol=0.0007; total time=   0.0s\n",
      "[CV] END C=10, class_weight=balanced, dual=False, fit_intercept=True, max_iter=97, multi_class=auto, penalty=l2, solver=liblinear, tol=0.0006; total time=   0.0s\n"
     ]
    },
    {
     "name": "stdout",
     "output_type": "stream",
     "text": [
      "[CV] END C=10, class_weight=balanced, dual=False, fit_intercept=True, max_iter=97, multi_class=auto, penalty=l2, solver=liblinear, tol=0.0006; total time=   0.0s\n",
      "[CV] END C=10, class_weight=balanced, dual=False, fit_intercept=True, max_iter=97, multi_class=auto, penalty=l2, solver=liblinear, tol=0.0006; total time=   0.0s\n",
      "[CV] END C=10, class_weight=balanced, dual=False, fit_intercept=True, max_iter=97, multi_class=auto, penalty=l2, solver=liblinear, tol=0.0005; total time=   0.0s\n",
      "[CV] END C=10, class_weight=balanced, dual=False, fit_intercept=True, max_iter=97, multi_class=auto, penalty=l2, solver=liblinear, tol=0.0005; total time=   0.0s\n",
      "[CV] END C=10, class_weight=balanced, dual=False, fit_intercept=True, max_iter=97, multi_class=auto, penalty=l2, solver=liblinear, tol=0.0005; total time=   0.0s\n",
      "[CV] END C=10, class_weight=balanced, dual=False, fit_intercept=True, max_iter=97, multi_class=auto, penalty=l2, solver=liblinear, tol=0.00062; total time=   0.0s\n",
      "[CV] END C=10, class_weight=balanced, dual=False, fit_intercept=True, max_iter=97, multi_class=auto, penalty=l2, solver=liblinear, tol=0.00062; total time=   0.0s\n",
      "[CV] END C=10, class_weight=balanced, dual=False, fit_intercept=True, max_iter=97, multi_class=auto, penalty=l2, solver=liblinear, tol=0.00062; total time=   0.0s\n",
      "[CV] END C=7, class_weight=balanced, dual=False, fit_intercept=True, max_iter=94, multi_class=auto, penalty=l2, solver=liblinear, tol=0.00067; total time=   0.0s\n",
      "[CV] END C=7, class_weight=balanced, dual=False, fit_intercept=True, max_iter=94, multi_class=auto, penalty=l2, solver=liblinear, tol=0.00067; total time=   0.0s\n",
      "[CV] END C=7, class_weight=balanced, dual=False, fit_intercept=True, max_iter=94, multi_class=auto, penalty=l2, solver=liblinear, tol=0.00067; total time=   0.0s\n",
      "[CV] END C=7, class_weight=balanced, dual=False, fit_intercept=True, max_iter=94, multi_class=auto, penalty=l2, solver=liblinear, tol=0.0007; total time=   0.0s\n",
      "[CV] END C=7, class_weight=balanced, dual=False, fit_intercept=True, max_iter=94, multi_class=auto, penalty=l2, solver=liblinear, tol=0.0007; total time=   0.0s\n",
      "[CV] END C=7, class_weight=balanced, dual=False, fit_intercept=True, max_iter=94, multi_class=auto, penalty=l2, solver=liblinear, tol=0.0007; total time=   0.0s\n",
      "[CV] END C=7, class_weight=balanced, dual=False, fit_intercept=True, max_iter=94, multi_class=auto, penalty=l2, solver=liblinear, tol=0.0006; total time=   0.0s\n",
      "[CV] END C=7, class_weight=balanced, dual=False, fit_intercept=True, max_iter=94, multi_class=auto, penalty=l2, solver=liblinear, tol=0.0006; total time=   0.0s\n",
      "[CV] END C=7, class_weight=balanced, dual=False, fit_intercept=True, max_iter=94, multi_class=auto, penalty=l2, solver=liblinear, tol=0.0006; total time=   0.0s\n",
      "[CV] END C=7, class_weight=balanced, dual=False, fit_intercept=True, max_iter=94, multi_class=auto, penalty=l2, solver=liblinear, tol=0.0005; total time=   0.0s\n",
      "[CV] END C=7, class_weight=balanced, dual=False, fit_intercept=True, max_iter=94, multi_class=auto, penalty=l2, solver=liblinear, tol=0.0005; total time=   0.0s\n",
      "[CV] END C=7, class_weight=balanced, dual=False, fit_intercept=True, max_iter=94, multi_class=auto, penalty=l2, solver=liblinear, tol=0.0005; total time=   0.0s\n",
      "[CV] END C=7, class_weight=balanced, dual=False, fit_intercept=True, max_iter=94, multi_class=auto, penalty=l2, solver=liblinear, tol=0.00062; total time=   0.0s\n",
      "[CV] END C=7, class_weight=balanced, dual=False, fit_intercept=True, max_iter=94, multi_class=auto, penalty=l2, solver=liblinear, tol=0.00062; total time=   0.0s\n",
      "[CV] END C=7, class_weight=balanced, dual=False, fit_intercept=True, max_iter=94, multi_class=auto, penalty=l2, solver=liblinear, tol=0.00062; total time=   0.0s\n",
      "[CV] END C=7, class_weight=balanced, dual=False, fit_intercept=True, max_iter=93, multi_class=auto, penalty=l2, solver=liblinear, tol=0.00067; total time=   0.0s\n",
      "[CV] END C=7, class_weight=balanced, dual=False, fit_intercept=True, max_iter=93, multi_class=auto, penalty=l2, solver=liblinear, tol=0.00067; total time=   0.0s\n",
      "[CV] END C=7, class_weight=balanced, dual=False, fit_intercept=True, max_iter=93, multi_class=auto, penalty=l2, solver=liblinear, tol=0.00067; total time=   0.0s\n",
      "[CV] END C=7, class_weight=balanced, dual=False, fit_intercept=True, max_iter=93, multi_class=auto, penalty=l2, solver=liblinear, tol=0.0007; total time=   0.0s\n",
      "[CV] END C=7, class_weight=balanced, dual=False, fit_intercept=True, max_iter=93, multi_class=auto, penalty=l2, solver=liblinear, tol=0.0007; total time=   0.0s\n",
      "[CV] END C=7, class_weight=balanced, dual=False, fit_intercept=True, max_iter=93, multi_class=auto, penalty=l2, solver=liblinear, tol=0.0007; total time=   0.0s\n",
      "[CV] END C=7, class_weight=balanced, dual=False, fit_intercept=True, max_iter=93, multi_class=auto, penalty=l2, solver=liblinear, tol=0.0006; total time=   0.0s\n",
      "[CV] END C=7, class_weight=balanced, dual=False, fit_intercept=True, max_iter=93, multi_class=auto, penalty=l2, solver=liblinear, tol=0.0006; total time=   0.0s\n",
      "[CV] END C=7, class_weight=balanced, dual=False, fit_intercept=True, max_iter=93, multi_class=auto, penalty=l2, solver=liblinear, tol=0.0006; total time=   0.0s\n",
      "[CV] END C=7, class_weight=balanced, dual=False, fit_intercept=True, max_iter=93, multi_class=auto, penalty=l2, solver=liblinear, tol=0.0005; total time=   0.0s\n",
      "[CV] END C=7, class_weight=balanced, dual=False, fit_intercept=True, max_iter=93, multi_class=auto, penalty=l2, solver=liblinear, tol=0.0005; total time=   0.0s\n",
      "[CV] END C=7, class_weight=balanced, dual=False, fit_intercept=True, max_iter=93, multi_class=auto, penalty=l2, solver=liblinear, tol=0.0005; total time=   0.0s\n",
      "[CV] END C=7, class_weight=balanced, dual=False, fit_intercept=True, max_iter=93, multi_class=auto, penalty=l2, solver=liblinear, tol=0.00062; total time=   0.0s\n",
      "[CV] END C=7, class_weight=balanced, dual=False, fit_intercept=True, max_iter=93, multi_class=auto, penalty=l2, solver=liblinear, tol=0.00062; total time=   0.0s\n",
      "[CV] END C=7, class_weight=balanced, dual=False, fit_intercept=True, max_iter=93, multi_class=auto, penalty=l2, solver=liblinear, tol=0.00062; total time=   0.0s\n",
      "[CV] END C=7, class_weight=balanced, dual=False, fit_intercept=True, max_iter=92, multi_class=auto, penalty=l2, solver=liblinear, tol=0.00067; total time=   0.0s\n",
      "[CV] END C=7, class_weight=balanced, dual=False, fit_intercept=True, max_iter=92, multi_class=auto, penalty=l2, solver=liblinear, tol=0.00067; total time=   0.0s\n",
      "[CV] END C=7, class_weight=balanced, dual=False, fit_intercept=True, max_iter=92, multi_class=auto, penalty=l2, solver=liblinear, tol=0.00067; total time=   0.0s\n",
      "[CV] END C=7, class_weight=balanced, dual=False, fit_intercept=True, max_iter=92, multi_class=auto, penalty=l2, solver=liblinear, tol=0.0007; total time=   0.0s\n",
      "[CV] END C=7, class_weight=balanced, dual=False, fit_intercept=True, max_iter=92, multi_class=auto, penalty=l2, solver=liblinear, tol=0.0007; total time=   0.0s\n",
      "[CV] END C=7, class_weight=balanced, dual=False, fit_intercept=True, max_iter=92, multi_class=auto, penalty=l2, solver=liblinear, tol=0.0007; total time=   0.0s\n",
      "[CV] END C=7, class_weight=balanced, dual=False, fit_intercept=True, max_iter=92, multi_class=auto, penalty=l2, solver=liblinear, tol=0.0006; total time=   0.0s\n",
      "[CV] END C=7, class_weight=balanced, dual=False, fit_intercept=True, max_iter=92, multi_class=auto, penalty=l2, solver=liblinear, tol=0.0006; total time=   0.0s\n",
      "[CV] END C=7, class_weight=balanced, dual=False, fit_intercept=True, max_iter=92, multi_class=auto, penalty=l2, solver=liblinear, tol=0.0006; total time=   0.0s\n",
      "[CV] END C=7, class_weight=balanced, dual=False, fit_intercept=True, max_iter=92, multi_class=auto, penalty=l2, solver=liblinear, tol=0.0005; total time=   0.0s\n",
      "[CV] END C=7, class_weight=balanced, dual=False, fit_intercept=True, max_iter=92, multi_class=auto, penalty=l2, solver=liblinear, tol=0.0005; total time=   0.0s\n",
      "[CV] END C=7, class_weight=balanced, dual=False, fit_intercept=True, max_iter=92, multi_class=auto, penalty=l2, solver=liblinear, tol=0.0005; total time=   0.0s\n",
      "[CV] END C=7, class_weight=balanced, dual=False, fit_intercept=True, max_iter=92, multi_class=auto, penalty=l2, solver=liblinear, tol=0.00062; total time=   0.0s\n",
      "[CV] END C=7, class_weight=balanced, dual=False, fit_intercept=True, max_iter=92, multi_class=auto, penalty=l2, solver=liblinear, tol=0.00062; total time=   0.0s\n",
      "[CV] END C=7, class_weight=balanced, dual=False, fit_intercept=True, max_iter=92, multi_class=auto, penalty=l2, solver=liblinear, tol=0.00062; total time=   0.0s\n",
      "[CV] END C=7, class_weight=balanced, dual=False, fit_intercept=True, max_iter=95, multi_class=auto, penalty=l2, solver=liblinear, tol=0.00067; total time=   0.0s\n",
      "[CV] END C=7, class_weight=balanced, dual=False, fit_intercept=True, max_iter=95, multi_class=auto, penalty=l2, solver=liblinear, tol=0.00067; total time=   0.0s\n",
      "[CV] END C=7, class_weight=balanced, dual=False, fit_intercept=True, max_iter=95, multi_class=auto, penalty=l2, solver=liblinear, tol=0.00067; total time=   0.0s\n",
      "[CV] END C=7, class_weight=balanced, dual=False, fit_intercept=True, max_iter=95, multi_class=auto, penalty=l2, solver=liblinear, tol=0.0007; total time=   0.0s\n",
      "[CV] END C=7, class_weight=balanced, dual=False, fit_intercept=True, max_iter=95, multi_class=auto, penalty=l2, solver=liblinear, tol=0.0007; total time=   0.0s\n",
      "[CV] END C=7, class_weight=balanced, dual=False, fit_intercept=True, max_iter=95, multi_class=auto, penalty=l2, solver=liblinear, tol=0.0007; total time=   0.0s\n",
      "[CV] END C=7, class_weight=balanced, dual=False, fit_intercept=True, max_iter=95, multi_class=auto, penalty=l2, solver=liblinear, tol=0.0006; total time=   0.0s\n",
      "[CV] END C=7, class_weight=balanced, dual=False, fit_intercept=True, max_iter=95, multi_class=auto, penalty=l2, solver=liblinear, tol=0.0006; total time=   0.0s\n",
      "[CV] END C=7, class_weight=balanced, dual=False, fit_intercept=True, max_iter=95, multi_class=auto, penalty=l2, solver=liblinear, tol=0.0006; total time=   0.0s\n",
      "[CV] END C=7, class_weight=balanced, dual=False, fit_intercept=True, max_iter=95, multi_class=auto, penalty=l2, solver=liblinear, tol=0.0005; total time=   0.0s\n",
      "[CV] END C=7, class_weight=balanced, dual=False, fit_intercept=True, max_iter=95, multi_class=auto, penalty=l2, solver=liblinear, tol=0.0005; total time=   0.0s\n",
      "[CV] END C=7, class_weight=balanced, dual=False, fit_intercept=True, max_iter=95, multi_class=auto, penalty=l2, solver=liblinear, tol=0.0005; total time=   0.0s\n",
      "[CV] END C=7, class_weight=balanced, dual=False, fit_intercept=True, max_iter=95, multi_class=auto, penalty=l2, solver=liblinear, tol=0.00062; total time=   0.0s\n",
      "[CV] END C=7, class_weight=balanced, dual=False, fit_intercept=True, max_iter=95, multi_class=auto, penalty=l2, solver=liblinear, tol=0.00062; total time=   0.0s\n",
      "[CV] END C=7, class_weight=balanced, dual=False, fit_intercept=True, max_iter=95, multi_class=auto, penalty=l2, solver=liblinear, tol=0.00062; total time=   0.0s\n",
      "[CV] END C=7, class_weight=balanced, dual=False, fit_intercept=True, max_iter=96, multi_class=auto, penalty=l2, solver=liblinear, tol=0.00067; total time=   0.0s\n",
      "[CV] END C=7, class_weight=balanced, dual=False, fit_intercept=True, max_iter=96, multi_class=auto, penalty=l2, solver=liblinear, tol=0.00067; total time=   0.0s\n",
      "[CV] END C=7, class_weight=balanced, dual=False, fit_intercept=True, max_iter=96, multi_class=auto, penalty=l2, solver=liblinear, tol=0.00067; total time=   0.0s\n",
      "[CV] END C=7, class_weight=balanced, dual=False, fit_intercept=True, max_iter=96, multi_class=auto, penalty=l2, solver=liblinear, tol=0.0007; total time=   0.0s\n",
      "[CV] END C=7, class_weight=balanced, dual=False, fit_intercept=True, max_iter=96, multi_class=auto, penalty=l2, solver=liblinear, tol=0.0007; total time=   0.0s\n",
      "[CV] END C=7, class_weight=balanced, dual=False, fit_intercept=True, max_iter=96, multi_class=auto, penalty=l2, solver=liblinear, tol=0.0007; total time=   0.0s\n",
      "[CV] END C=7, class_weight=balanced, dual=False, fit_intercept=True, max_iter=96, multi_class=auto, penalty=l2, solver=liblinear, tol=0.0006; total time=   0.0s\n",
      "[CV] END C=7, class_weight=balanced, dual=False, fit_intercept=True, max_iter=96, multi_class=auto, penalty=l2, solver=liblinear, tol=0.0006; total time=   0.0s\n",
      "[CV] END C=7, class_weight=balanced, dual=False, fit_intercept=True, max_iter=96, multi_class=auto, penalty=l2, solver=liblinear, tol=0.0006; total time=   0.0s\n"
     ]
    },
    {
     "name": "stdout",
     "output_type": "stream",
     "text": [
      "[CV] END C=7, class_weight=balanced, dual=False, fit_intercept=True, max_iter=96, multi_class=auto, penalty=l2, solver=liblinear, tol=0.0005; total time=   0.0s\n",
      "[CV] END C=7, class_weight=balanced, dual=False, fit_intercept=True, max_iter=96, multi_class=auto, penalty=l2, solver=liblinear, tol=0.0005; total time=   0.0s\n",
      "[CV] END C=7, class_weight=balanced, dual=False, fit_intercept=True, max_iter=96, multi_class=auto, penalty=l2, solver=liblinear, tol=0.0005; total time=   0.0s\n",
      "[CV] END C=7, class_weight=balanced, dual=False, fit_intercept=True, max_iter=96, multi_class=auto, penalty=l2, solver=liblinear, tol=0.00062; total time=   0.0s\n",
      "[CV] END C=7, class_weight=balanced, dual=False, fit_intercept=True, max_iter=96, multi_class=auto, penalty=l2, solver=liblinear, tol=0.00062; total time=   0.0s\n",
      "[CV] END C=7, class_weight=balanced, dual=False, fit_intercept=True, max_iter=96, multi_class=auto, penalty=l2, solver=liblinear, tol=0.00062; total time=   0.0s\n",
      "[CV] END C=7, class_weight=balanced, dual=False, fit_intercept=True, max_iter=91, multi_class=auto, penalty=l2, solver=liblinear, tol=0.00067; total time=   0.0s\n",
      "[CV] END C=7, class_weight=balanced, dual=False, fit_intercept=True, max_iter=91, multi_class=auto, penalty=l2, solver=liblinear, tol=0.00067; total time=   0.0s\n",
      "[CV] END C=7, class_weight=balanced, dual=False, fit_intercept=True, max_iter=91, multi_class=auto, penalty=l2, solver=liblinear, tol=0.00067; total time=   0.0s\n",
      "[CV] END C=7, class_weight=balanced, dual=False, fit_intercept=True, max_iter=91, multi_class=auto, penalty=l2, solver=liblinear, tol=0.0007; total time=   0.0s\n",
      "[CV] END C=7, class_weight=balanced, dual=False, fit_intercept=True, max_iter=91, multi_class=auto, penalty=l2, solver=liblinear, tol=0.0007; total time=   0.0s\n",
      "[CV] END C=7, class_weight=balanced, dual=False, fit_intercept=True, max_iter=91, multi_class=auto, penalty=l2, solver=liblinear, tol=0.0007; total time=   0.0s\n",
      "[CV] END C=7, class_weight=balanced, dual=False, fit_intercept=True, max_iter=91, multi_class=auto, penalty=l2, solver=liblinear, tol=0.0006; total time=   0.0s\n",
      "[CV] END C=7, class_weight=balanced, dual=False, fit_intercept=True, max_iter=91, multi_class=auto, penalty=l2, solver=liblinear, tol=0.0006; total time=   0.0s\n",
      "[CV] END C=7, class_weight=balanced, dual=False, fit_intercept=True, max_iter=91, multi_class=auto, penalty=l2, solver=liblinear, tol=0.0006; total time=   0.0s\n",
      "[CV] END C=7, class_weight=balanced, dual=False, fit_intercept=True, max_iter=91, multi_class=auto, penalty=l2, solver=liblinear, tol=0.0005; total time=   0.0s\n",
      "[CV] END C=7, class_weight=balanced, dual=False, fit_intercept=True, max_iter=91, multi_class=auto, penalty=l2, solver=liblinear, tol=0.0005; total time=   0.0s\n",
      "[CV] END C=7, class_weight=balanced, dual=False, fit_intercept=True, max_iter=91, multi_class=auto, penalty=l2, solver=liblinear, tol=0.0005; total time=   0.0s\n",
      "[CV] END C=7, class_weight=balanced, dual=False, fit_intercept=True, max_iter=91, multi_class=auto, penalty=l2, solver=liblinear, tol=0.00062; total time=   0.0s\n",
      "[CV] END C=7, class_weight=balanced, dual=False, fit_intercept=True, max_iter=91, multi_class=auto, penalty=l2, solver=liblinear, tol=0.00062; total time=   0.0s\n",
      "[CV] END C=7, class_weight=balanced, dual=False, fit_intercept=True, max_iter=91, multi_class=auto, penalty=l2, solver=liblinear, tol=0.00062; total time=   0.0s\n",
      "[CV] END C=7, class_weight=balanced, dual=False, fit_intercept=True, max_iter=98, multi_class=auto, penalty=l2, solver=liblinear, tol=0.00067; total time=   0.0s\n",
      "[CV] END C=7, class_weight=balanced, dual=False, fit_intercept=True, max_iter=98, multi_class=auto, penalty=l2, solver=liblinear, tol=0.00067; total time=   0.0s\n",
      "[CV] END C=7, class_weight=balanced, dual=False, fit_intercept=True, max_iter=98, multi_class=auto, penalty=l2, solver=liblinear, tol=0.00067; total time=   0.0s\n",
      "[CV] END C=7, class_weight=balanced, dual=False, fit_intercept=True, max_iter=98, multi_class=auto, penalty=l2, solver=liblinear, tol=0.0007; total time=   0.0s\n",
      "[CV] END C=7, class_weight=balanced, dual=False, fit_intercept=True, max_iter=98, multi_class=auto, penalty=l2, solver=liblinear, tol=0.0007; total time=   0.0s\n",
      "[CV] END C=7, class_weight=balanced, dual=False, fit_intercept=True, max_iter=98, multi_class=auto, penalty=l2, solver=liblinear, tol=0.0007; total time=   0.0s\n",
      "[CV] END C=7, class_weight=balanced, dual=False, fit_intercept=True, max_iter=98, multi_class=auto, penalty=l2, solver=liblinear, tol=0.0006; total time=   0.0s\n",
      "[CV] END C=7, class_weight=balanced, dual=False, fit_intercept=True, max_iter=98, multi_class=auto, penalty=l2, solver=liblinear, tol=0.0006; total time=   0.0s\n",
      "[CV] END C=7, class_weight=balanced, dual=False, fit_intercept=True, max_iter=98, multi_class=auto, penalty=l2, solver=liblinear, tol=0.0006; total time=   0.0s\n",
      "[CV] END C=7, class_weight=balanced, dual=False, fit_intercept=True, max_iter=98, multi_class=auto, penalty=l2, solver=liblinear, tol=0.0005; total time=   0.0s\n",
      "[CV] END C=7, class_weight=balanced, dual=False, fit_intercept=True, max_iter=98, multi_class=auto, penalty=l2, solver=liblinear, tol=0.0005; total time=   0.0s\n",
      "[CV] END C=7, class_weight=balanced, dual=False, fit_intercept=True, max_iter=98, multi_class=auto, penalty=l2, solver=liblinear, tol=0.0005; total time=   0.0s\n",
      "[CV] END C=7, class_weight=balanced, dual=False, fit_intercept=True, max_iter=98, multi_class=auto, penalty=l2, solver=liblinear, tol=0.00062; total time=   0.0s\n",
      "[CV] END C=7, class_weight=balanced, dual=False, fit_intercept=True, max_iter=98, multi_class=auto, penalty=l2, solver=liblinear, tol=0.00062; total time=   0.0s\n",
      "[CV] END C=7, class_weight=balanced, dual=False, fit_intercept=True, max_iter=98, multi_class=auto, penalty=l2, solver=liblinear, tol=0.00062; total time=   0.0s\n",
      "[CV] END C=7, class_weight=balanced, dual=False, fit_intercept=True, max_iter=97, multi_class=auto, penalty=l2, solver=liblinear, tol=0.00067; total time=   0.0s\n",
      "[CV] END C=7, class_weight=balanced, dual=False, fit_intercept=True, max_iter=97, multi_class=auto, penalty=l2, solver=liblinear, tol=0.00067; total time=   0.0s\n",
      "[CV] END C=7, class_weight=balanced, dual=False, fit_intercept=True, max_iter=97, multi_class=auto, penalty=l2, solver=liblinear, tol=0.00067; total time=   0.0s\n",
      "[CV] END C=7, class_weight=balanced, dual=False, fit_intercept=True, max_iter=97, multi_class=auto, penalty=l2, solver=liblinear, tol=0.0007; total time=   0.0s\n",
      "[CV] END C=7, class_weight=balanced, dual=False, fit_intercept=True, max_iter=97, multi_class=auto, penalty=l2, solver=liblinear, tol=0.0007; total time=   0.0s\n",
      "[CV] END C=7, class_weight=balanced, dual=False, fit_intercept=True, max_iter=97, multi_class=auto, penalty=l2, solver=liblinear, tol=0.0007; total time=   0.0s\n",
      "[CV] END C=7, class_weight=balanced, dual=False, fit_intercept=True, max_iter=97, multi_class=auto, penalty=l2, solver=liblinear, tol=0.0006; total time=   0.0s\n",
      "[CV] END C=7, class_weight=balanced, dual=False, fit_intercept=True, max_iter=97, multi_class=auto, penalty=l2, solver=liblinear, tol=0.0006; total time=   0.0s\n",
      "[CV] END C=7, class_weight=balanced, dual=False, fit_intercept=True, max_iter=97, multi_class=auto, penalty=l2, solver=liblinear, tol=0.0006; total time=   0.0s\n",
      "[CV] END C=7, class_weight=balanced, dual=False, fit_intercept=True, max_iter=97, multi_class=auto, penalty=l2, solver=liblinear, tol=0.0005; total time=   0.0s\n",
      "[CV] END C=7, class_weight=balanced, dual=False, fit_intercept=True, max_iter=97, multi_class=auto, penalty=l2, solver=liblinear, tol=0.0005; total time=   0.0s\n",
      "[CV] END C=7, class_weight=balanced, dual=False, fit_intercept=True, max_iter=97, multi_class=auto, penalty=l2, solver=liblinear, tol=0.0005; total time=   0.0s\n",
      "[CV] END C=7, class_weight=balanced, dual=False, fit_intercept=True, max_iter=97, multi_class=auto, penalty=l2, solver=liblinear, tol=0.00062; total time=   0.0s\n",
      "[CV] END C=7, class_weight=balanced, dual=False, fit_intercept=True, max_iter=97, multi_class=auto, penalty=l2, solver=liblinear, tol=0.00062; total time=   0.0s\n",
      "[CV] END C=7, class_weight=balanced, dual=False, fit_intercept=True, max_iter=97, multi_class=auto, penalty=l2, solver=liblinear, tol=0.00062; total time=   0.0s\n",
      "[CV] END C=6, class_weight=balanced, dual=False, fit_intercept=True, max_iter=94, multi_class=auto, penalty=l2, solver=liblinear, tol=0.00067; total time=   0.0s\n",
      "[CV] END C=6, class_weight=balanced, dual=False, fit_intercept=True, max_iter=94, multi_class=auto, penalty=l2, solver=liblinear, tol=0.00067; total time=   0.0s\n",
      "[CV] END C=6, class_weight=balanced, dual=False, fit_intercept=True, max_iter=94, multi_class=auto, penalty=l2, solver=liblinear, tol=0.00067; total time=   0.0s\n",
      "[CV] END C=6, class_weight=balanced, dual=False, fit_intercept=True, max_iter=94, multi_class=auto, penalty=l2, solver=liblinear, tol=0.0007; total time=   0.0s\n",
      "[CV] END C=6, class_weight=balanced, dual=False, fit_intercept=True, max_iter=94, multi_class=auto, penalty=l2, solver=liblinear, tol=0.0007; total time=   0.0s\n",
      "[CV] END C=6, class_weight=balanced, dual=False, fit_intercept=True, max_iter=94, multi_class=auto, penalty=l2, solver=liblinear, tol=0.0007; total time=   0.0s\n",
      "[CV] END C=6, class_weight=balanced, dual=False, fit_intercept=True, max_iter=94, multi_class=auto, penalty=l2, solver=liblinear, tol=0.0006; total time=   0.0s\n",
      "[CV] END C=6, class_weight=balanced, dual=False, fit_intercept=True, max_iter=94, multi_class=auto, penalty=l2, solver=liblinear, tol=0.0006; total time=   0.0s\n",
      "[CV] END C=6, class_weight=balanced, dual=False, fit_intercept=True, max_iter=94, multi_class=auto, penalty=l2, solver=liblinear, tol=0.0006; total time=   0.0s\n",
      "[CV] END C=6, class_weight=balanced, dual=False, fit_intercept=True, max_iter=94, multi_class=auto, penalty=l2, solver=liblinear, tol=0.0005; total time=   0.0s\n",
      "[CV] END C=6, class_weight=balanced, dual=False, fit_intercept=True, max_iter=94, multi_class=auto, penalty=l2, solver=liblinear, tol=0.0005; total time=   0.0s\n",
      "[CV] END C=6, class_weight=balanced, dual=False, fit_intercept=True, max_iter=94, multi_class=auto, penalty=l2, solver=liblinear, tol=0.0005; total time=   0.0s\n",
      "[CV] END C=6, class_weight=balanced, dual=False, fit_intercept=True, max_iter=94, multi_class=auto, penalty=l2, solver=liblinear, tol=0.00062; total time=   0.0s\n",
      "[CV] END C=6, class_weight=balanced, dual=False, fit_intercept=True, max_iter=94, multi_class=auto, penalty=l2, solver=liblinear, tol=0.00062; total time=   0.0s\n",
      "[CV] END C=6, class_weight=balanced, dual=False, fit_intercept=True, max_iter=94, multi_class=auto, penalty=l2, solver=liblinear, tol=0.00062; total time=   0.0s\n",
      "[CV] END C=6, class_weight=balanced, dual=False, fit_intercept=True, max_iter=93, multi_class=auto, penalty=l2, solver=liblinear, tol=0.00067; total time=   0.0s\n",
      "[CV] END C=6, class_weight=balanced, dual=False, fit_intercept=True, max_iter=93, multi_class=auto, penalty=l2, solver=liblinear, tol=0.00067; total time=   0.0s\n",
      "[CV] END C=6, class_weight=balanced, dual=False, fit_intercept=True, max_iter=93, multi_class=auto, penalty=l2, solver=liblinear, tol=0.00067; total time=   0.0s\n",
      "[CV] END C=6, class_weight=balanced, dual=False, fit_intercept=True, max_iter=93, multi_class=auto, penalty=l2, solver=liblinear, tol=0.0007; total time=   0.0s\n",
      "[CV] END C=6, class_weight=balanced, dual=False, fit_intercept=True, max_iter=93, multi_class=auto, penalty=l2, solver=liblinear, tol=0.0007; total time=   0.0s\n",
      "[CV] END C=6, class_weight=balanced, dual=False, fit_intercept=True, max_iter=93, multi_class=auto, penalty=l2, solver=liblinear, tol=0.0007; total time=   0.0s\n",
      "[CV] END C=6, class_weight=balanced, dual=False, fit_intercept=True, max_iter=93, multi_class=auto, penalty=l2, solver=liblinear, tol=0.0006; total time=   0.0s\n",
      "[CV] END C=6, class_weight=balanced, dual=False, fit_intercept=True, max_iter=93, multi_class=auto, penalty=l2, solver=liblinear, tol=0.0006; total time=   0.0s\n",
      "[CV] END C=6, class_weight=balanced, dual=False, fit_intercept=True, max_iter=93, multi_class=auto, penalty=l2, solver=liblinear, tol=0.0006; total time=   0.0s\n",
      "[CV] END C=6, class_weight=balanced, dual=False, fit_intercept=True, max_iter=93, multi_class=auto, penalty=l2, solver=liblinear, tol=0.0005; total time=   0.0s\n",
      "[CV] END C=6, class_weight=balanced, dual=False, fit_intercept=True, max_iter=93, multi_class=auto, penalty=l2, solver=liblinear, tol=0.0005; total time=   0.0s\n",
      "[CV] END C=6, class_weight=balanced, dual=False, fit_intercept=True, max_iter=93, multi_class=auto, penalty=l2, solver=liblinear, tol=0.0005; total time=   0.0s\n"
     ]
    },
    {
     "name": "stdout",
     "output_type": "stream",
     "text": [
      "[CV] END C=6, class_weight=balanced, dual=False, fit_intercept=True, max_iter=93, multi_class=auto, penalty=l2, solver=liblinear, tol=0.00062; total time=   0.0s\n",
      "[CV] END C=6, class_weight=balanced, dual=False, fit_intercept=True, max_iter=93, multi_class=auto, penalty=l2, solver=liblinear, tol=0.00062; total time=   0.0s\n",
      "[CV] END C=6, class_weight=balanced, dual=False, fit_intercept=True, max_iter=93, multi_class=auto, penalty=l2, solver=liblinear, tol=0.00062; total time=   0.0s\n",
      "[CV] END C=6, class_weight=balanced, dual=False, fit_intercept=True, max_iter=92, multi_class=auto, penalty=l2, solver=liblinear, tol=0.00067; total time=   0.0s\n",
      "[CV] END C=6, class_weight=balanced, dual=False, fit_intercept=True, max_iter=92, multi_class=auto, penalty=l2, solver=liblinear, tol=0.00067; total time=   0.0s\n",
      "[CV] END C=6, class_weight=balanced, dual=False, fit_intercept=True, max_iter=92, multi_class=auto, penalty=l2, solver=liblinear, tol=0.00067; total time=   0.0s\n",
      "[CV] END C=6, class_weight=balanced, dual=False, fit_intercept=True, max_iter=92, multi_class=auto, penalty=l2, solver=liblinear, tol=0.0007; total time=   0.0s\n",
      "[CV] END C=6, class_weight=balanced, dual=False, fit_intercept=True, max_iter=92, multi_class=auto, penalty=l2, solver=liblinear, tol=0.0007; total time=   0.0s\n",
      "[CV] END C=6, class_weight=balanced, dual=False, fit_intercept=True, max_iter=92, multi_class=auto, penalty=l2, solver=liblinear, tol=0.0007; total time=   0.0s\n",
      "[CV] END C=6, class_weight=balanced, dual=False, fit_intercept=True, max_iter=92, multi_class=auto, penalty=l2, solver=liblinear, tol=0.0006; total time=   0.0s\n",
      "[CV] END C=6, class_weight=balanced, dual=False, fit_intercept=True, max_iter=92, multi_class=auto, penalty=l2, solver=liblinear, tol=0.0006; total time=   0.0s\n",
      "[CV] END C=6, class_weight=balanced, dual=False, fit_intercept=True, max_iter=92, multi_class=auto, penalty=l2, solver=liblinear, tol=0.0006; total time=   0.0s\n",
      "[CV] END C=6, class_weight=balanced, dual=False, fit_intercept=True, max_iter=92, multi_class=auto, penalty=l2, solver=liblinear, tol=0.0005; total time=   0.0s\n",
      "[CV] END C=6, class_weight=balanced, dual=False, fit_intercept=True, max_iter=92, multi_class=auto, penalty=l2, solver=liblinear, tol=0.0005; total time=   0.0s\n",
      "[CV] END C=6, class_weight=balanced, dual=False, fit_intercept=True, max_iter=92, multi_class=auto, penalty=l2, solver=liblinear, tol=0.0005; total time=   0.0s\n",
      "[CV] END C=6, class_weight=balanced, dual=False, fit_intercept=True, max_iter=92, multi_class=auto, penalty=l2, solver=liblinear, tol=0.00062; total time=   0.0s\n",
      "[CV] END C=6, class_weight=balanced, dual=False, fit_intercept=True, max_iter=92, multi_class=auto, penalty=l2, solver=liblinear, tol=0.00062; total time=   0.0s\n",
      "[CV] END C=6, class_weight=balanced, dual=False, fit_intercept=True, max_iter=92, multi_class=auto, penalty=l2, solver=liblinear, tol=0.00062; total time=   0.0s\n",
      "[CV] END C=6, class_weight=balanced, dual=False, fit_intercept=True, max_iter=95, multi_class=auto, penalty=l2, solver=liblinear, tol=0.00067; total time=   0.0s\n",
      "[CV] END C=6, class_weight=balanced, dual=False, fit_intercept=True, max_iter=95, multi_class=auto, penalty=l2, solver=liblinear, tol=0.00067; total time=   0.0s\n",
      "[CV] END C=6, class_weight=balanced, dual=False, fit_intercept=True, max_iter=95, multi_class=auto, penalty=l2, solver=liblinear, tol=0.00067; total time=   0.0s\n",
      "[CV] END C=6, class_weight=balanced, dual=False, fit_intercept=True, max_iter=95, multi_class=auto, penalty=l2, solver=liblinear, tol=0.0007; total time=   0.0s\n",
      "[CV] END C=6, class_weight=balanced, dual=False, fit_intercept=True, max_iter=95, multi_class=auto, penalty=l2, solver=liblinear, tol=0.0007; total time=   0.0s\n",
      "[CV] END C=6, class_weight=balanced, dual=False, fit_intercept=True, max_iter=95, multi_class=auto, penalty=l2, solver=liblinear, tol=0.0007; total time=   0.0s\n",
      "[CV] END C=6, class_weight=balanced, dual=False, fit_intercept=True, max_iter=95, multi_class=auto, penalty=l2, solver=liblinear, tol=0.0006; total time=   0.0s\n",
      "[CV] END C=6, class_weight=balanced, dual=False, fit_intercept=True, max_iter=95, multi_class=auto, penalty=l2, solver=liblinear, tol=0.0006; total time=   0.0s\n",
      "[CV] END C=6, class_weight=balanced, dual=False, fit_intercept=True, max_iter=95, multi_class=auto, penalty=l2, solver=liblinear, tol=0.0006; total time=   0.0s\n",
      "[CV] END C=6, class_weight=balanced, dual=False, fit_intercept=True, max_iter=95, multi_class=auto, penalty=l2, solver=liblinear, tol=0.0005; total time=   0.0s\n",
      "[CV] END C=6, class_weight=balanced, dual=False, fit_intercept=True, max_iter=95, multi_class=auto, penalty=l2, solver=liblinear, tol=0.0005; total time=   0.0s\n",
      "[CV] END C=6, class_weight=balanced, dual=False, fit_intercept=True, max_iter=95, multi_class=auto, penalty=l2, solver=liblinear, tol=0.0005; total time=   0.0s\n",
      "[CV] END C=6, class_weight=balanced, dual=False, fit_intercept=True, max_iter=95, multi_class=auto, penalty=l2, solver=liblinear, tol=0.00062; total time=   0.0s\n",
      "[CV] END C=6, class_weight=balanced, dual=False, fit_intercept=True, max_iter=95, multi_class=auto, penalty=l2, solver=liblinear, tol=0.00062; total time=   0.0s\n",
      "[CV] END C=6, class_weight=balanced, dual=False, fit_intercept=True, max_iter=95, multi_class=auto, penalty=l2, solver=liblinear, tol=0.00062; total time=   0.0s\n",
      "[CV] END C=6, class_weight=balanced, dual=False, fit_intercept=True, max_iter=96, multi_class=auto, penalty=l2, solver=liblinear, tol=0.00067; total time=   0.0s\n",
      "[CV] END C=6, class_weight=balanced, dual=False, fit_intercept=True, max_iter=96, multi_class=auto, penalty=l2, solver=liblinear, tol=0.00067; total time=   0.0s\n",
      "[CV] END C=6, class_weight=balanced, dual=False, fit_intercept=True, max_iter=96, multi_class=auto, penalty=l2, solver=liblinear, tol=0.00067; total time=   0.0s\n",
      "[CV] END C=6, class_weight=balanced, dual=False, fit_intercept=True, max_iter=96, multi_class=auto, penalty=l2, solver=liblinear, tol=0.0007; total time=   0.0s\n",
      "[CV] END C=6, class_weight=balanced, dual=False, fit_intercept=True, max_iter=96, multi_class=auto, penalty=l2, solver=liblinear, tol=0.0007; total time=   0.0s\n",
      "[CV] END C=6, class_weight=balanced, dual=False, fit_intercept=True, max_iter=96, multi_class=auto, penalty=l2, solver=liblinear, tol=0.0007; total time=   0.0s\n",
      "[CV] END C=6, class_weight=balanced, dual=False, fit_intercept=True, max_iter=96, multi_class=auto, penalty=l2, solver=liblinear, tol=0.0006; total time=   0.0s\n",
      "[CV] END C=6, class_weight=balanced, dual=False, fit_intercept=True, max_iter=96, multi_class=auto, penalty=l2, solver=liblinear, tol=0.0006; total time=   0.0s\n",
      "[CV] END C=6, class_weight=balanced, dual=False, fit_intercept=True, max_iter=96, multi_class=auto, penalty=l2, solver=liblinear, tol=0.0006; total time=   0.0s\n",
      "[CV] END C=6, class_weight=balanced, dual=False, fit_intercept=True, max_iter=96, multi_class=auto, penalty=l2, solver=liblinear, tol=0.0005; total time=   0.0s\n",
      "[CV] END C=6, class_weight=balanced, dual=False, fit_intercept=True, max_iter=96, multi_class=auto, penalty=l2, solver=liblinear, tol=0.0005; total time=   0.0s\n",
      "[CV] END C=6, class_weight=balanced, dual=False, fit_intercept=True, max_iter=96, multi_class=auto, penalty=l2, solver=liblinear, tol=0.0005; total time=   0.0s\n",
      "[CV] END C=6, class_weight=balanced, dual=False, fit_intercept=True, max_iter=96, multi_class=auto, penalty=l2, solver=liblinear, tol=0.00062; total time=   0.0s\n",
      "[CV] END C=6, class_weight=balanced, dual=False, fit_intercept=True, max_iter=96, multi_class=auto, penalty=l2, solver=liblinear, tol=0.00062; total time=   0.0s\n",
      "[CV] END C=6, class_weight=balanced, dual=False, fit_intercept=True, max_iter=96, multi_class=auto, penalty=l2, solver=liblinear, tol=0.00062; total time=   0.0s\n",
      "[CV] END C=6, class_weight=balanced, dual=False, fit_intercept=True, max_iter=91, multi_class=auto, penalty=l2, solver=liblinear, tol=0.00067; total time=   0.0s\n",
      "[CV] END C=6, class_weight=balanced, dual=False, fit_intercept=True, max_iter=91, multi_class=auto, penalty=l2, solver=liblinear, tol=0.00067; total time=   0.0s\n",
      "[CV] END C=6, class_weight=balanced, dual=False, fit_intercept=True, max_iter=91, multi_class=auto, penalty=l2, solver=liblinear, tol=0.00067; total time=   0.0s\n",
      "[CV] END C=6, class_weight=balanced, dual=False, fit_intercept=True, max_iter=91, multi_class=auto, penalty=l2, solver=liblinear, tol=0.0007; total time=   0.0s\n",
      "[CV] END C=6, class_weight=balanced, dual=False, fit_intercept=True, max_iter=91, multi_class=auto, penalty=l2, solver=liblinear, tol=0.0007; total time=   0.0s\n",
      "[CV] END C=6, class_weight=balanced, dual=False, fit_intercept=True, max_iter=91, multi_class=auto, penalty=l2, solver=liblinear, tol=0.0007; total time=   0.0s\n",
      "[CV] END C=6, class_weight=balanced, dual=False, fit_intercept=True, max_iter=91, multi_class=auto, penalty=l2, solver=liblinear, tol=0.0006; total time=   0.0s\n",
      "[CV] END C=6, class_weight=balanced, dual=False, fit_intercept=True, max_iter=91, multi_class=auto, penalty=l2, solver=liblinear, tol=0.0006; total time=   0.0s\n",
      "[CV] END C=6, class_weight=balanced, dual=False, fit_intercept=True, max_iter=91, multi_class=auto, penalty=l2, solver=liblinear, tol=0.0006; total time=   0.0s\n",
      "[CV] END C=6, class_weight=balanced, dual=False, fit_intercept=True, max_iter=91, multi_class=auto, penalty=l2, solver=liblinear, tol=0.0005; total time=   0.0s\n",
      "[CV] END C=6, class_weight=balanced, dual=False, fit_intercept=True, max_iter=91, multi_class=auto, penalty=l2, solver=liblinear, tol=0.0005; total time=   0.0s\n",
      "[CV] END C=6, class_weight=balanced, dual=False, fit_intercept=True, max_iter=91, multi_class=auto, penalty=l2, solver=liblinear, tol=0.0005; total time=   0.0s\n",
      "[CV] END C=6, class_weight=balanced, dual=False, fit_intercept=True, max_iter=91, multi_class=auto, penalty=l2, solver=liblinear, tol=0.00062; total time=   0.0s\n",
      "[CV] END C=6, class_weight=balanced, dual=False, fit_intercept=True, max_iter=91, multi_class=auto, penalty=l2, solver=liblinear, tol=0.00062; total time=   0.0s\n",
      "[CV] END C=6, class_weight=balanced, dual=False, fit_intercept=True, max_iter=91, multi_class=auto, penalty=l2, solver=liblinear, tol=0.00062; total time=   0.0s\n",
      "[CV] END C=6, class_weight=balanced, dual=False, fit_intercept=True, max_iter=98, multi_class=auto, penalty=l2, solver=liblinear, tol=0.00067; total time=   0.0s\n",
      "[CV] END C=6, class_weight=balanced, dual=False, fit_intercept=True, max_iter=98, multi_class=auto, penalty=l2, solver=liblinear, tol=0.00067; total time=   0.0s\n",
      "[CV] END C=6, class_weight=balanced, dual=False, fit_intercept=True, max_iter=98, multi_class=auto, penalty=l2, solver=liblinear, tol=0.00067; total time=   0.0s\n",
      "[CV] END C=6, class_weight=balanced, dual=False, fit_intercept=True, max_iter=98, multi_class=auto, penalty=l2, solver=liblinear, tol=0.0007; total time=   0.0s\n",
      "[CV] END C=6, class_weight=balanced, dual=False, fit_intercept=True, max_iter=98, multi_class=auto, penalty=l2, solver=liblinear, tol=0.0007; total time=   0.0s\n",
      "[CV] END C=6, class_weight=balanced, dual=False, fit_intercept=True, max_iter=98, multi_class=auto, penalty=l2, solver=liblinear, tol=0.0007; total time=   0.0s\n",
      "[CV] END C=6, class_weight=balanced, dual=False, fit_intercept=True, max_iter=98, multi_class=auto, penalty=l2, solver=liblinear, tol=0.0006; total time=   0.0s\n",
      "[CV] END C=6, class_weight=balanced, dual=False, fit_intercept=True, max_iter=98, multi_class=auto, penalty=l2, solver=liblinear, tol=0.0006; total time=   0.0s\n"
     ]
    },
    {
     "name": "stdout",
     "output_type": "stream",
     "text": [
      "[CV] END C=6, class_weight=balanced, dual=False, fit_intercept=True, max_iter=98, multi_class=auto, penalty=l2, solver=liblinear, tol=0.0006; total time=   0.0s\n",
      "[CV] END C=6, class_weight=balanced, dual=False, fit_intercept=True, max_iter=98, multi_class=auto, penalty=l2, solver=liblinear, tol=0.0005; total time=   0.0s\n",
      "[CV] END C=6, class_weight=balanced, dual=False, fit_intercept=True, max_iter=98, multi_class=auto, penalty=l2, solver=liblinear, tol=0.0005; total time=   0.0s\n",
      "[CV] END C=6, class_weight=balanced, dual=False, fit_intercept=True, max_iter=98, multi_class=auto, penalty=l2, solver=liblinear, tol=0.0005; total time=   0.0s\n",
      "[CV] END C=6, class_weight=balanced, dual=False, fit_intercept=True, max_iter=98, multi_class=auto, penalty=l2, solver=liblinear, tol=0.00062; total time=   0.0s\n",
      "[CV] END C=6, class_weight=balanced, dual=False, fit_intercept=True, max_iter=98, multi_class=auto, penalty=l2, solver=liblinear, tol=0.00062; total time=   0.0s\n",
      "[CV] END C=6, class_weight=balanced, dual=False, fit_intercept=True, max_iter=98, multi_class=auto, penalty=l2, solver=liblinear, tol=0.00062; total time=   0.0s\n",
      "[CV] END C=6, class_weight=balanced, dual=False, fit_intercept=True, max_iter=97, multi_class=auto, penalty=l2, solver=liblinear, tol=0.00067; total time=   0.0s\n",
      "[CV] END C=6, class_weight=balanced, dual=False, fit_intercept=True, max_iter=97, multi_class=auto, penalty=l2, solver=liblinear, tol=0.00067; total time=   0.0s\n",
      "[CV] END C=6, class_weight=balanced, dual=False, fit_intercept=True, max_iter=97, multi_class=auto, penalty=l2, solver=liblinear, tol=0.00067; total time=   0.0s\n",
      "[CV] END C=6, class_weight=balanced, dual=False, fit_intercept=True, max_iter=97, multi_class=auto, penalty=l2, solver=liblinear, tol=0.0007; total time=   0.0s\n",
      "[CV] END C=6, class_weight=balanced, dual=False, fit_intercept=True, max_iter=97, multi_class=auto, penalty=l2, solver=liblinear, tol=0.0007; total time=   0.0s\n",
      "[CV] END C=6, class_weight=balanced, dual=False, fit_intercept=True, max_iter=97, multi_class=auto, penalty=l2, solver=liblinear, tol=0.0007; total time=   0.0s\n",
      "[CV] END C=6, class_weight=balanced, dual=False, fit_intercept=True, max_iter=97, multi_class=auto, penalty=l2, solver=liblinear, tol=0.0006; total time=   0.0s\n",
      "[CV] END C=6, class_weight=balanced, dual=False, fit_intercept=True, max_iter=97, multi_class=auto, penalty=l2, solver=liblinear, tol=0.0006; total time=   0.0s\n",
      "[CV] END C=6, class_weight=balanced, dual=False, fit_intercept=True, max_iter=97, multi_class=auto, penalty=l2, solver=liblinear, tol=0.0006; total time=   0.0s\n",
      "[CV] END C=6, class_weight=balanced, dual=False, fit_intercept=True, max_iter=97, multi_class=auto, penalty=l2, solver=liblinear, tol=0.0005; total time=   0.0s\n",
      "[CV] END C=6, class_weight=balanced, dual=False, fit_intercept=True, max_iter=97, multi_class=auto, penalty=l2, solver=liblinear, tol=0.0005; total time=   0.0s\n",
      "[CV] END C=6, class_weight=balanced, dual=False, fit_intercept=True, max_iter=97, multi_class=auto, penalty=l2, solver=liblinear, tol=0.0005; total time=   0.0s\n",
      "[CV] END C=6, class_weight=balanced, dual=False, fit_intercept=True, max_iter=97, multi_class=auto, penalty=l2, solver=liblinear, tol=0.00062; total time=   0.0s\n",
      "[CV] END C=6, class_weight=balanced, dual=False, fit_intercept=True, max_iter=97, multi_class=auto, penalty=l2, solver=liblinear, tol=0.00062; total time=   0.0s\n",
      "[CV] END C=6, class_weight=balanced, dual=False, fit_intercept=True, max_iter=97, multi_class=auto, penalty=l2, solver=liblinear, tol=0.00062; total time=   0.0s\n",
      "[CV] END C=5, class_weight=balanced, dual=False, fit_intercept=True, max_iter=94, multi_class=auto, penalty=l2, solver=liblinear, tol=0.00067; total time=   0.0s\n",
      "[CV] END C=5, class_weight=balanced, dual=False, fit_intercept=True, max_iter=94, multi_class=auto, penalty=l2, solver=liblinear, tol=0.00067; total time=   0.0s\n",
      "[CV] END C=5, class_weight=balanced, dual=False, fit_intercept=True, max_iter=94, multi_class=auto, penalty=l2, solver=liblinear, tol=0.00067; total time=   0.0s\n",
      "[CV] END C=5, class_weight=balanced, dual=False, fit_intercept=True, max_iter=94, multi_class=auto, penalty=l2, solver=liblinear, tol=0.0007; total time=   0.0s\n",
      "[CV] END C=5, class_weight=balanced, dual=False, fit_intercept=True, max_iter=94, multi_class=auto, penalty=l2, solver=liblinear, tol=0.0007; total time=   0.0s\n",
      "[CV] END C=5, class_weight=balanced, dual=False, fit_intercept=True, max_iter=94, multi_class=auto, penalty=l2, solver=liblinear, tol=0.0007; total time=   0.0s\n",
      "[CV] END C=5, class_weight=balanced, dual=False, fit_intercept=True, max_iter=94, multi_class=auto, penalty=l2, solver=liblinear, tol=0.0006; total time=   0.0s\n",
      "[CV] END C=5, class_weight=balanced, dual=False, fit_intercept=True, max_iter=94, multi_class=auto, penalty=l2, solver=liblinear, tol=0.0006; total time=   0.0s\n",
      "[CV] END C=5, class_weight=balanced, dual=False, fit_intercept=True, max_iter=94, multi_class=auto, penalty=l2, solver=liblinear, tol=0.0006; total time=   0.0s\n",
      "[CV] END C=5, class_weight=balanced, dual=False, fit_intercept=True, max_iter=94, multi_class=auto, penalty=l2, solver=liblinear, tol=0.0005; total time=   0.0s\n",
      "[CV] END C=5, class_weight=balanced, dual=False, fit_intercept=True, max_iter=94, multi_class=auto, penalty=l2, solver=liblinear, tol=0.0005; total time=   0.0s\n",
      "[CV] END C=5, class_weight=balanced, dual=False, fit_intercept=True, max_iter=94, multi_class=auto, penalty=l2, solver=liblinear, tol=0.0005; total time=   0.0s\n",
      "[CV] END C=5, class_weight=balanced, dual=False, fit_intercept=True, max_iter=94, multi_class=auto, penalty=l2, solver=liblinear, tol=0.00062; total time=   0.0s\n",
      "[CV] END C=5, class_weight=balanced, dual=False, fit_intercept=True, max_iter=94, multi_class=auto, penalty=l2, solver=liblinear, tol=0.00062; total time=   0.0s\n",
      "[CV] END C=5, class_weight=balanced, dual=False, fit_intercept=True, max_iter=94, multi_class=auto, penalty=l2, solver=liblinear, tol=0.00062; total time=   0.0s\n",
      "[CV] END C=5, class_weight=balanced, dual=False, fit_intercept=True, max_iter=93, multi_class=auto, penalty=l2, solver=liblinear, tol=0.00067; total time=   0.0s\n",
      "[CV] END C=5, class_weight=balanced, dual=False, fit_intercept=True, max_iter=93, multi_class=auto, penalty=l2, solver=liblinear, tol=0.00067; total time=   0.0s\n",
      "[CV] END C=5, class_weight=balanced, dual=False, fit_intercept=True, max_iter=93, multi_class=auto, penalty=l2, solver=liblinear, tol=0.00067; total time=   0.0s\n",
      "[CV] END C=5, class_weight=balanced, dual=False, fit_intercept=True, max_iter=93, multi_class=auto, penalty=l2, solver=liblinear, tol=0.0007; total time=   0.0s\n",
      "[CV] END C=5, class_weight=balanced, dual=False, fit_intercept=True, max_iter=93, multi_class=auto, penalty=l2, solver=liblinear, tol=0.0007; total time=   0.0s\n",
      "[CV] END C=5, class_weight=balanced, dual=False, fit_intercept=True, max_iter=93, multi_class=auto, penalty=l2, solver=liblinear, tol=0.0007; total time=   0.0s\n",
      "[CV] END C=5, class_weight=balanced, dual=False, fit_intercept=True, max_iter=93, multi_class=auto, penalty=l2, solver=liblinear, tol=0.0006; total time=   0.0s\n",
      "[CV] END C=5, class_weight=balanced, dual=False, fit_intercept=True, max_iter=93, multi_class=auto, penalty=l2, solver=liblinear, tol=0.0006; total time=   0.0s\n",
      "[CV] END C=5, class_weight=balanced, dual=False, fit_intercept=True, max_iter=93, multi_class=auto, penalty=l2, solver=liblinear, tol=0.0006; total time=   0.0s\n",
      "[CV] END C=5, class_weight=balanced, dual=False, fit_intercept=True, max_iter=93, multi_class=auto, penalty=l2, solver=liblinear, tol=0.0005; total time=   0.0s\n",
      "[CV] END C=5, class_weight=balanced, dual=False, fit_intercept=True, max_iter=93, multi_class=auto, penalty=l2, solver=liblinear, tol=0.0005; total time=   0.0s\n",
      "[CV] END C=5, class_weight=balanced, dual=False, fit_intercept=True, max_iter=93, multi_class=auto, penalty=l2, solver=liblinear, tol=0.0005; total time=   0.0s\n",
      "[CV] END C=5, class_weight=balanced, dual=False, fit_intercept=True, max_iter=93, multi_class=auto, penalty=l2, solver=liblinear, tol=0.00062; total time=   0.0s\n",
      "[CV] END C=5, class_weight=balanced, dual=False, fit_intercept=True, max_iter=93, multi_class=auto, penalty=l2, solver=liblinear, tol=0.00062; total time=   0.0s\n",
      "[CV] END C=5, class_weight=balanced, dual=False, fit_intercept=True, max_iter=93, multi_class=auto, penalty=l2, solver=liblinear, tol=0.00062; total time=   0.0s\n",
      "[CV] END C=5, class_weight=balanced, dual=False, fit_intercept=True, max_iter=92, multi_class=auto, penalty=l2, solver=liblinear, tol=0.00067; total time=   0.0s\n",
      "[CV] END C=5, class_weight=balanced, dual=False, fit_intercept=True, max_iter=92, multi_class=auto, penalty=l2, solver=liblinear, tol=0.00067; total time=   0.0s\n",
      "[CV] END C=5, class_weight=balanced, dual=False, fit_intercept=True, max_iter=92, multi_class=auto, penalty=l2, solver=liblinear, tol=0.00067; total time=   0.0s\n"
     ]
    },
    {
     "name": "stdout",
     "output_type": "stream",
     "text": [
      "[CV] END C=5, class_weight=balanced, dual=False, fit_intercept=True, max_iter=92, multi_class=auto, penalty=l2, solver=liblinear, tol=0.0007; total time=   0.0s\n",
      "[CV] END C=5, class_weight=balanced, dual=False, fit_intercept=True, max_iter=92, multi_class=auto, penalty=l2, solver=liblinear, tol=0.0007; total time=   0.0s\n",
      "[CV] END C=5, class_weight=balanced, dual=False, fit_intercept=True, max_iter=92, multi_class=auto, penalty=l2, solver=liblinear, tol=0.0007; total time=   0.0s\n",
      "[CV] END C=5, class_weight=balanced, dual=False, fit_intercept=True, max_iter=92, multi_class=auto, penalty=l2, solver=liblinear, tol=0.0006; total time=   0.0s\n",
      "[CV] END C=5, class_weight=balanced, dual=False, fit_intercept=True, max_iter=92, multi_class=auto, penalty=l2, solver=liblinear, tol=0.0006; total time=   0.0s\n",
      "[CV] END C=5, class_weight=balanced, dual=False, fit_intercept=True, max_iter=92, multi_class=auto, penalty=l2, solver=liblinear, tol=0.0006; total time=   0.0s\n",
      "[CV] END C=5, class_weight=balanced, dual=False, fit_intercept=True, max_iter=92, multi_class=auto, penalty=l2, solver=liblinear, tol=0.0005; total time=   0.0s\n",
      "[CV] END C=5, class_weight=balanced, dual=False, fit_intercept=True, max_iter=92, multi_class=auto, penalty=l2, solver=liblinear, tol=0.0005; total time=   0.0s\n",
      "[CV] END C=5, class_weight=balanced, dual=False, fit_intercept=True, max_iter=92, multi_class=auto, penalty=l2, solver=liblinear, tol=0.0005; total time=   0.0s\n",
      "[CV] END C=5, class_weight=balanced, dual=False, fit_intercept=True, max_iter=92, multi_class=auto, penalty=l2, solver=liblinear, tol=0.00062; total time=   0.0s\n",
      "[CV] END C=5, class_weight=balanced, dual=False, fit_intercept=True, max_iter=92, multi_class=auto, penalty=l2, solver=liblinear, tol=0.00062; total time=   0.0s\n",
      "[CV] END C=5, class_weight=balanced, dual=False, fit_intercept=True, max_iter=92, multi_class=auto, penalty=l2, solver=liblinear, tol=0.00062; total time=   0.0s\n",
      "[CV] END C=5, class_weight=balanced, dual=False, fit_intercept=True, max_iter=95, multi_class=auto, penalty=l2, solver=liblinear, tol=0.00067; total time=   0.0s\n",
      "[CV] END C=5, class_weight=balanced, dual=False, fit_intercept=True, max_iter=95, multi_class=auto, penalty=l2, solver=liblinear, tol=0.00067; total time=   0.0s\n",
      "[CV] END C=5, class_weight=balanced, dual=False, fit_intercept=True, max_iter=95, multi_class=auto, penalty=l2, solver=liblinear, tol=0.00067; total time=   0.0s\n",
      "[CV] END C=5, class_weight=balanced, dual=False, fit_intercept=True, max_iter=95, multi_class=auto, penalty=l2, solver=liblinear, tol=0.0007; total time=   0.0s\n",
      "[CV] END C=5, class_weight=balanced, dual=False, fit_intercept=True, max_iter=95, multi_class=auto, penalty=l2, solver=liblinear, tol=0.0007; total time=   0.0s\n",
      "[CV] END C=5, class_weight=balanced, dual=False, fit_intercept=True, max_iter=95, multi_class=auto, penalty=l2, solver=liblinear, tol=0.0007; total time=   0.0s\n",
      "[CV] END C=5, class_weight=balanced, dual=False, fit_intercept=True, max_iter=95, multi_class=auto, penalty=l2, solver=liblinear, tol=0.0006; total time=   0.0s\n",
      "[CV] END C=5, class_weight=balanced, dual=False, fit_intercept=True, max_iter=95, multi_class=auto, penalty=l2, solver=liblinear, tol=0.0006; total time=   0.0s\n",
      "[CV] END C=5, class_weight=balanced, dual=False, fit_intercept=True, max_iter=95, multi_class=auto, penalty=l2, solver=liblinear, tol=0.0006; total time=   0.0s\n",
      "[CV] END C=5, class_weight=balanced, dual=False, fit_intercept=True, max_iter=95, multi_class=auto, penalty=l2, solver=liblinear, tol=0.0005; total time=   0.0s\n",
      "[CV] END C=5, class_weight=balanced, dual=False, fit_intercept=True, max_iter=95, multi_class=auto, penalty=l2, solver=liblinear, tol=0.0005; total time=   0.0s\n",
      "[CV] END C=5, class_weight=balanced, dual=False, fit_intercept=True, max_iter=95, multi_class=auto, penalty=l2, solver=liblinear, tol=0.0005; total time=   0.0s\n",
      "[CV] END C=5, class_weight=balanced, dual=False, fit_intercept=True, max_iter=95, multi_class=auto, penalty=l2, solver=liblinear, tol=0.00062; total time=   0.0s\n",
      "[CV] END C=5, class_weight=balanced, dual=False, fit_intercept=True, max_iter=95, multi_class=auto, penalty=l2, solver=liblinear, tol=0.00062; total time=   0.0s\n",
      "[CV] END C=5, class_weight=balanced, dual=False, fit_intercept=True, max_iter=95, multi_class=auto, penalty=l2, solver=liblinear, tol=0.00062; total time=   0.0s\n",
      "[CV] END C=5, class_weight=balanced, dual=False, fit_intercept=True, max_iter=96, multi_class=auto, penalty=l2, solver=liblinear, tol=0.00067; total time=   0.0s\n",
      "[CV] END C=5, class_weight=balanced, dual=False, fit_intercept=True, max_iter=96, multi_class=auto, penalty=l2, solver=liblinear, tol=0.00067; total time=   0.0s\n",
      "[CV] END C=5, class_weight=balanced, dual=False, fit_intercept=True, max_iter=96, multi_class=auto, penalty=l2, solver=liblinear, tol=0.00067; total time=   0.0s\n",
      "[CV] END C=5, class_weight=balanced, dual=False, fit_intercept=True, max_iter=96, multi_class=auto, penalty=l2, solver=liblinear, tol=0.0007; total time=   0.0s\n",
      "[CV] END C=5, class_weight=balanced, dual=False, fit_intercept=True, max_iter=96, multi_class=auto, penalty=l2, solver=liblinear, tol=0.0007; total time=   0.0s\n",
      "[CV] END C=5, class_weight=balanced, dual=False, fit_intercept=True, max_iter=96, multi_class=auto, penalty=l2, solver=liblinear, tol=0.0007; total time=   0.0s\n",
      "[CV] END C=5, class_weight=balanced, dual=False, fit_intercept=True, max_iter=96, multi_class=auto, penalty=l2, solver=liblinear, tol=0.0006; total time=   0.0s\n",
      "[CV] END C=5, class_weight=balanced, dual=False, fit_intercept=True, max_iter=96, multi_class=auto, penalty=l2, solver=liblinear, tol=0.0006; total time=   0.0s\n",
      "[CV] END C=5, class_weight=balanced, dual=False, fit_intercept=True, max_iter=96, multi_class=auto, penalty=l2, solver=liblinear, tol=0.0006; total time=   0.0s\n",
      "[CV] END C=5, class_weight=balanced, dual=False, fit_intercept=True, max_iter=96, multi_class=auto, penalty=l2, solver=liblinear, tol=0.0005; total time=   0.0s\n",
      "[CV] END C=5, class_weight=balanced, dual=False, fit_intercept=True, max_iter=96, multi_class=auto, penalty=l2, solver=liblinear, tol=0.0005; total time=   0.0s\n",
      "[CV] END C=5, class_weight=balanced, dual=False, fit_intercept=True, max_iter=96, multi_class=auto, penalty=l2, solver=liblinear, tol=0.0005; total time=   0.0s\n",
      "[CV] END C=5, class_weight=balanced, dual=False, fit_intercept=True, max_iter=96, multi_class=auto, penalty=l2, solver=liblinear, tol=0.00062; total time=   0.0s\n",
      "[CV] END C=5, class_weight=balanced, dual=False, fit_intercept=True, max_iter=96, multi_class=auto, penalty=l2, solver=liblinear, tol=0.00062; total time=   0.0s\n",
      "[CV] END C=5, class_weight=balanced, dual=False, fit_intercept=True, max_iter=96, multi_class=auto, penalty=l2, solver=liblinear, tol=0.00062; total time=   0.0s\n",
      "[CV] END C=5, class_weight=balanced, dual=False, fit_intercept=True, max_iter=91, multi_class=auto, penalty=l2, solver=liblinear, tol=0.00067; total time=   0.0s\n",
      "[CV] END C=5, class_weight=balanced, dual=False, fit_intercept=True, max_iter=91, multi_class=auto, penalty=l2, solver=liblinear, tol=0.00067; total time=   0.0s\n",
      "[CV] END C=5, class_weight=balanced, dual=False, fit_intercept=True, max_iter=91, multi_class=auto, penalty=l2, solver=liblinear, tol=0.00067; total time=   0.0s\n",
      "[CV] END C=5, class_weight=balanced, dual=False, fit_intercept=True, max_iter=91, multi_class=auto, penalty=l2, solver=liblinear, tol=0.0007; total time=   0.0s\n",
      "[CV] END C=5, class_weight=balanced, dual=False, fit_intercept=True, max_iter=91, multi_class=auto, penalty=l2, solver=liblinear, tol=0.0007; total time=   0.0s\n",
      "[CV] END C=5, class_weight=balanced, dual=False, fit_intercept=True, max_iter=91, multi_class=auto, penalty=l2, solver=liblinear, tol=0.0007; total time=   0.0s\n",
      "[CV] END C=5, class_weight=balanced, dual=False, fit_intercept=True, max_iter=91, multi_class=auto, penalty=l2, solver=liblinear, tol=0.0006; total time=   0.0s\n",
      "[CV] END C=5, class_weight=balanced, dual=False, fit_intercept=True, max_iter=91, multi_class=auto, penalty=l2, solver=liblinear, tol=0.0006; total time=   0.0s\n",
      "[CV] END C=5, class_weight=balanced, dual=False, fit_intercept=True, max_iter=91, multi_class=auto, penalty=l2, solver=liblinear, tol=0.0006; total time=   0.0s\n",
      "[CV] END C=5, class_weight=balanced, dual=False, fit_intercept=True, max_iter=91, multi_class=auto, penalty=l2, solver=liblinear, tol=0.0005; total time=   0.0s\n",
      "[CV] END C=5, class_weight=balanced, dual=False, fit_intercept=True, max_iter=91, multi_class=auto, penalty=l2, solver=liblinear, tol=0.0005; total time=   0.0s\n",
      "[CV] END C=5, class_weight=balanced, dual=False, fit_intercept=True, max_iter=91, multi_class=auto, penalty=l2, solver=liblinear, tol=0.0005; total time=   0.0s\n",
      "[CV] END C=5, class_weight=balanced, dual=False, fit_intercept=True, max_iter=91, multi_class=auto, penalty=l2, solver=liblinear, tol=0.00062; total time=   0.0s\n",
      "[CV] END C=5, class_weight=balanced, dual=False, fit_intercept=True, max_iter=91, multi_class=auto, penalty=l2, solver=liblinear, tol=0.00062; total time=   0.0s\n",
      "[CV] END C=5, class_weight=balanced, dual=False, fit_intercept=True, max_iter=91, multi_class=auto, penalty=l2, solver=liblinear, tol=0.00062; total time=   0.0s\n",
      "[CV] END C=5, class_weight=balanced, dual=False, fit_intercept=True, max_iter=98, multi_class=auto, penalty=l2, solver=liblinear, tol=0.00067; total time=   0.0s\n",
      "[CV] END C=5, class_weight=balanced, dual=False, fit_intercept=True, max_iter=98, multi_class=auto, penalty=l2, solver=liblinear, tol=0.00067; total time=   0.0s\n",
      "[CV] END C=5, class_weight=balanced, dual=False, fit_intercept=True, max_iter=98, multi_class=auto, penalty=l2, solver=liblinear, tol=0.00067; total time=   0.0s\n",
      "[CV] END C=5, class_weight=balanced, dual=False, fit_intercept=True, max_iter=98, multi_class=auto, penalty=l2, solver=liblinear, tol=0.0007; total time=   0.0s\n",
      "[CV] END C=5, class_weight=balanced, dual=False, fit_intercept=True, max_iter=98, multi_class=auto, penalty=l2, solver=liblinear, tol=0.0007; total time=   0.0s\n",
      "[CV] END C=5, class_weight=balanced, dual=False, fit_intercept=True, max_iter=98, multi_class=auto, penalty=l2, solver=liblinear, tol=0.0007; total time=   0.0s\n",
      "[CV] END C=5, class_weight=balanced, dual=False, fit_intercept=True, max_iter=98, multi_class=auto, penalty=l2, solver=liblinear, tol=0.0006; total time=   0.0s\n",
      "[CV] END C=5, class_weight=balanced, dual=False, fit_intercept=True, max_iter=98, multi_class=auto, penalty=l2, solver=liblinear, tol=0.0006; total time=   0.0s\n",
      "[CV] END C=5, class_weight=balanced, dual=False, fit_intercept=True, max_iter=98, multi_class=auto, penalty=l2, solver=liblinear, tol=0.0006; total time=   0.0s\n",
      "[CV] END C=5, class_weight=balanced, dual=False, fit_intercept=True, max_iter=98, multi_class=auto, penalty=l2, solver=liblinear, tol=0.0005; total time=   0.0s\n",
      "[CV] END C=5, class_weight=balanced, dual=False, fit_intercept=True, max_iter=98, multi_class=auto, penalty=l2, solver=liblinear, tol=0.0005; total time=   0.0s\n",
      "[CV] END C=5, class_weight=balanced, dual=False, fit_intercept=True, max_iter=98, multi_class=auto, penalty=l2, solver=liblinear, tol=0.0005; total time=   0.0s\n",
      "[CV] END C=5, class_weight=balanced, dual=False, fit_intercept=True, max_iter=98, multi_class=auto, penalty=l2, solver=liblinear, tol=0.00062; total time=   0.0s\n",
      "[CV] END C=5, class_weight=balanced, dual=False, fit_intercept=True, max_iter=98, multi_class=auto, penalty=l2, solver=liblinear, tol=0.00062; total time=   0.0s\n",
      "[CV] END C=5, class_weight=balanced, dual=False, fit_intercept=True, max_iter=98, multi_class=auto, penalty=l2, solver=liblinear, tol=0.00062; total time=   0.0s\n"
     ]
    },
    {
     "name": "stdout",
     "output_type": "stream",
     "text": [
      "[CV] END C=5, class_weight=balanced, dual=False, fit_intercept=True, max_iter=97, multi_class=auto, penalty=l2, solver=liblinear, tol=0.00067; total time=   0.0s\n",
      "[CV] END C=5, class_weight=balanced, dual=False, fit_intercept=True, max_iter=97, multi_class=auto, penalty=l2, solver=liblinear, tol=0.00067; total time=   0.0s\n",
      "[CV] END C=5, class_weight=balanced, dual=False, fit_intercept=True, max_iter=97, multi_class=auto, penalty=l2, solver=liblinear, tol=0.00067; total time=   0.0s\n",
      "[CV] END C=5, class_weight=balanced, dual=False, fit_intercept=True, max_iter=97, multi_class=auto, penalty=l2, solver=liblinear, tol=0.0007; total time=   0.0s\n",
      "[CV] END C=5, class_weight=balanced, dual=False, fit_intercept=True, max_iter=97, multi_class=auto, penalty=l2, solver=liblinear, tol=0.0007; total time=   0.0s\n",
      "[CV] END C=5, class_weight=balanced, dual=False, fit_intercept=True, max_iter=97, multi_class=auto, penalty=l2, solver=liblinear, tol=0.0007; total time=   0.0s\n",
      "[CV] END C=5, class_weight=balanced, dual=False, fit_intercept=True, max_iter=97, multi_class=auto, penalty=l2, solver=liblinear, tol=0.0006; total time=   0.0s\n",
      "[CV] END C=5, class_weight=balanced, dual=False, fit_intercept=True, max_iter=97, multi_class=auto, penalty=l2, solver=liblinear, tol=0.0006; total time=   0.0s\n",
      "[CV] END C=5, class_weight=balanced, dual=False, fit_intercept=True, max_iter=97, multi_class=auto, penalty=l2, solver=liblinear, tol=0.0006; total time=   0.0s\n",
      "[CV] END C=5, class_weight=balanced, dual=False, fit_intercept=True, max_iter=97, multi_class=auto, penalty=l2, solver=liblinear, tol=0.0005; total time=   0.0s\n",
      "[CV] END C=5, class_weight=balanced, dual=False, fit_intercept=True, max_iter=97, multi_class=auto, penalty=l2, solver=liblinear, tol=0.0005; total time=   0.0s\n",
      "[CV] END C=5, class_weight=balanced, dual=False, fit_intercept=True, max_iter=97, multi_class=auto, penalty=l2, solver=liblinear, tol=0.0005; total time=   0.0s\n",
      "[CV] END C=5, class_weight=balanced, dual=False, fit_intercept=True, max_iter=97, multi_class=auto, penalty=l2, solver=liblinear, tol=0.00062; total time=   0.0s\n",
      "[CV] END C=5, class_weight=balanced, dual=False, fit_intercept=True, max_iter=97, multi_class=auto, penalty=l2, solver=liblinear, tol=0.00062; total time=   0.0s\n",
      "[CV] END C=5, class_weight=balanced, dual=False, fit_intercept=True, max_iter=97, multi_class=auto, penalty=l2, solver=liblinear, tol=0.00062; total time=   0.0s\n",
      "[CV] END C=4, class_weight=balanced, dual=False, fit_intercept=True, max_iter=94, multi_class=auto, penalty=l2, solver=liblinear, tol=0.00067; total time=   0.0s\n",
      "[CV] END C=4, class_weight=balanced, dual=False, fit_intercept=True, max_iter=94, multi_class=auto, penalty=l2, solver=liblinear, tol=0.00067; total time=   0.0s\n",
      "[CV] END C=4, class_weight=balanced, dual=False, fit_intercept=True, max_iter=94, multi_class=auto, penalty=l2, solver=liblinear, tol=0.00067; total time=   0.0s\n",
      "[CV] END C=4, class_weight=balanced, dual=False, fit_intercept=True, max_iter=94, multi_class=auto, penalty=l2, solver=liblinear, tol=0.0007; total time=   0.0s\n",
      "[CV] END C=4, class_weight=balanced, dual=False, fit_intercept=True, max_iter=94, multi_class=auto, penalty=l2, solver=liblinear, tol=0.0007; total time=   0.0s\n",
      "[CV] END C=4, class_weight=balanced, dual=False, fit_intercept=True, max_iter=94, multi_class=auto, penalty=l2, solver=liblinear, tol=0.0007; total time=   0.0s\n",
      "[CV] END C=4, class_weight=balanced, dual=False, fit_intercept=True, max_iter=94, multi_class=auto, penalty=l2, solver=liblinear, tol=0.0006; total time=   0.0s\n",
      "[CV] END C=4, class_weight=balanced, dual=False, fit_intercept=True, max_iter=94, multi_class=auto, penalty=l2, solver=liblinear, tol=0.0006; total time=   0.0s\n",
      "[CV] END C=4, class_weight=balanced, dual=False, fit_intercept=True, max_iter=94, multi_class=auto, penalty=l2, solver=liblinear, tol=0.0006; total time=   0.0s\n",
      "[CV] END C=4, class_weight=balanced, dual=False, fit_intercept=True, max_iter=94, multi_class=auto, penalty=l2, solver=liblinear, tol=0.0005; total time=   0.0s\n",
      "[CV] END C=4, class_weight=balanced, dual=False, fit_intercept=True, max_iter=94, multi_class=auto, penalty=l2, solver=liblinear, tol=0.0005; total time=   0.0s\n",
      "[CV] END C=4, class_weight=balanced, dual=False, fit_intercept=True, max_iter=94, multi_class=auto, penalty=l2, solver=liblinear, tol=0.0005; total time=   0.0s\n",
      "[CV] END C=4, class_weight=balanced, dual=False, fit_intercept=True, max_iter=94, multi_class=auto, penalty=l2, solver=liblinear, tol=0.00062; total time=   0.0s\n",
      "[CV] END C=4, class_weight=balanced, dual=False, fit_intercept=True, max_iter=94, multi_class=auto, penalty=l2, solver=liblinear, tol=0.00062; total time=   0.0s\n",
      "[CV] END C=4, class_weight=balanced, dual=False, fit_intercept=True, max_iter=94, multi_class=auto, penalty=l2, solver=liblinear, tol=0.00062; total time=   0.0s\n",
      "[CV] END C=4, class_weight=balanced, dual=False, fit_intercept=True, max_iter=93, multi_class=auto, penalty=l2, solver=liblinear, tol=0.00067; total time=   0.0s\n",
      "[CV] END C=4, class_weight=balanced, dual=False, fit_intercept=True, max_iter=93, multi_class=auto, penalty=l2, solver=liblinear, tol=0.00067; total time=   0.0s\n",
      "[CV] END C=4, class_weight=balanced, dual=False, fit_intercept=True, max_iter=93, multi_class=auto, penalty=l2, solver=liblinear, tol=0.00067; total time=   0.0s\n",
      "[CV] END C=4, class_weight=balanced, dual=False, fit_intercept=True, max_iter=93, multi_class=auto, penalty=l2, solver=liblinear, tol=0.0007; total time=   0.0s\n",
      "[CV] END C=4, class_weight=balanced, dual=False, fit_intercept=True, max_iter=93, multi_class=auto, penalty=l2, solver=liblinear, tol=0.0007; total time=   0.0s\n",
      "[CV] END C=4, class_weight=balanced, dual=False, fit_intercept=True, max_iter=93, multi_class=auto, penalty=l2, solver=liblinear, tol=0.0007; total time=   0.0s\n",
      "[CV] END C=4, class_weight=balanced, dual=False, fit_intercept=True, max_iter=93, multi_class=auto, penalty=l2, solver=liblinear, tol=0.0006; total time=   0.0s\n",
      "[CV] END C=4, class_weight=balanced, dual=False, fit_intercept=True, max_iter=93, multi_class=auto, penalty=l2, solver=liblinear, tol=0.0006; total time=   0.0s\n",
      "[CV] END C=4, class_weight=balanced, dual=False, fit_intercept=True, max_iter=93, multi_class=auto, penalty=l2, solver=liblinear, tol=0.0006; total time=   0.0s\n",
      "[CV] END C=4, class_weight=balanced, dual=False, fit_intercept=True, max_iter=93, multi_class=auto, penalty=l2, solver=liblinear, tol=0.0005; total time=   0.0s\n",
      "[CV] END C=4, class_weight=balanced, dual=False, fit_intercept=True, max_iter=93, multi_class=auto, penalty=l2, solver=liblinear, tol=0.0005; total time=   0.0s\n",
      "[CV] END C=4, class_weight=balanced, dual=False, fit_intercept=True, max_iter=93, multi_class=auto, penalty=l2, solver=liblinear, tol=0.0005; total time=   0.0s\n",
      "[CV] END C=4, class_weight=balanced, dual=False, fit_intercept=True, max_iter=93, multi_class=auto, penalty=l2, solver=liblinear, tol=0.00062; total time=   0.0s\n",
      "[CV] END C=4, class_weight=balanced, dual=False, fit_intercept=True, max_iter=93, multi_class=auto, penalty=l2, solver=liblinear, tol=0.00062; total time=   0.0s\n",
      "[CV] END C=4, class_weight=balanced, dual=False, fit_intercept=True, max_iter=93, multi_class=auto, penalty=l2, solver=liblinear, tol=0.00062; total time=   0.0s\n",
      "[CV] END C=4, class_weight=balanced, dual=False, fit_intercept=True, max_iter=92, multi_class=auto, penalty=l2, solver=liblinear, tol=0.00067; total time=   0.0s\n",
      "[CV] END C=4, class_weight=balanced, dual=False, fit_intercept=True, max_iter=92, multi_class=auto, penalty=l2, solver=liblinear, tol=0.00067; total time=   0.0s\n",
      "[CV] END C=4, class_weight=balanced, dual=False, fit_intercept=True, max_iter=92, multi_class=auto, penalty=l2, solver=liblinear, tol=0.00067; total time=   0.0s\n",
      "[CV] END C=4, class_weight=balanced, dual=False, fit_intercept=True, max_iter=92, multi_class=auto, penalty=l2, solver=liblinear, tol=0.0007; total time=   0.0s\n",
      "[CV] END C=4, class_weight=balanced, dual=False, fit_intercept=True, max_iter=92, multi_class=auto, penalty=l2, solver=liblinear, tol=0.0007; total time=   0.0s\n",
      "[CV] END C=4, class_weight=balanced, dual=False, fit_intercept=True, max_iter=92, multi_class=auto, penalty=l2, solver=liblinear, tol=0.0007; total time=   0.0s\n"
     ]
    },
    {
     "name": "stdout",
     "output_type": "stream",
     "text": [
      "[CV] END C=4, class_weight=balanced, dual=False, fit_intercept=True, max_iter=92, multi_class=auto, penalty=l2, solver=liblinear, tol=0.0006; total time=   0.0s\n",
      "[CV] END C=4, class_weight=balanced, dual=False, fit_intercept=True, max_iter=92, multi_class=auto, penalty=l2, solver=liblinear, tol=0.0006; total time=   0.0s\n",
      "[CV] END C=4, class_weight=balanced, dual=False, fit_intercept=True, max_iter=92, multi_class=auto, penalty=l2, solver=liblinear, tol=0.0006; total time=   0.0s\n",
      "[CV] END C=4, class_weight=balanced, dual=False, fit_intercept=True, max_iter=92, multi_class=auto, penalty=l2, solver=liblinear, tol=0.0005; total time=   0.0s\n",
      "[CV] END C=4, class_weight=balanced, dual=False, fit_intercept=True, max_iter=92, multi_class=auto, penalty=l2, solver=liblinear, tol=0.0005; total time=   0.0s\n",
      "[CV] END C=4, class_weight=balanced, dual=False, fit_intercept=True, max_iter=92, multi_class=auto, penalty=l2, solver=liblinear, tol=0.0005; total time=   0.0s\n",
      "[CV] END C=4, class_weight=balanced, dual=False, fit_intercept=True, max_iter=92, multi_class=auto, penalty=l2, solver=liblinear, tol=0.00062; total time=   0.0s\n",
      "[CV] END C=4, class_weight=balanced, dual=False, fit_intercept=True, max_iter=92, multi_class=auto, penalty=l2, solver=liblinear, tol=0.00062; total time=   0.0s\n",
      "[CV] END C=4, class_weight=balanced, dual=False, fit_intercept=True, max_iter=92, multi_class=auto, penalty=l2, solver=liblinear, tol=0.00062; total time=   0.0s\n",
      "[CV] END C=4, class_weight=balanced, dual=False, fit_intercept=True, max_iter=95, multi_class=auto, penalty=l2, solver=liblinear, tol=0.00067; total time=   0.0s\n",
      "[CV] END C=4, class_weight=balanced, dual=False, fit_intercept=True, max_iter=95, multi_class=auto, penalty=l2, solver=liblinear, tol=0.00067; total time=   0.0s\n",
      "[CV] END C=4, class_weight=balanced, dual=False, fit_intercept=True, max_iter=95, multi_class=auto, penalty=l2, solver=liblinear, tol=0.00067; total time=   0.0s\n",
      "[CV] END C=4, class_weight=balanced, dual=False, fit_intercept=True, max_iter=95, multi_class=auto, penalty=l2, solver=liblinear, tol=0.0007; total time=   0.0s\n",
      "[CV] END C=4, class_weight=balanced, dual=False, fit_intercept=True, max_iter=95, multi_class=auto, penalty=l2, solver=liblinear, tol=0.0007; total time=   0.0s\n",
      "[CV] END C=4, class_weight=balanced, dual=False, fit_intercept=True, max_iter=95, multi_class=auto, penalty=l2, solver=liblinear, tol=0.0007; total time=   0.0s\n",
      "[CV] END C=4, class_weight=balanced, dual=False, fit_intercept=True, max_iter=95, multi_class=auto, penalty=l2, solver=liblinear, tol=0.0006; total time=   0.0s\n",
      "[CV] END C=4, class_weight=balanced, dual=False, fit_intercept=True, max_iter=95, multi_class=auto, penalty=l2, solver=liblinear, tol=0.0006; total time=   0.0s\n",
      "[CV] END C=4, class_weight=balanced, dual=False, fit_intercept=True, max_iter=95, multi_class=auto, penalty=l2, solver=liblinear, tol=0.0006; total time=   0.0s\n",
      "[CV] END C=4, class_weight=balanced, dual=False, fit_intercept=True, max_iter=95, multi_class=auto, penalty=l2, solver=liblinear, tol=0.0005; total time=   0.0s\n",
      "[CV] END C=4, class_weight=balanced, dual=False, fit_intercept=True, max_iter=95, multi_class=auto, penalty=l2, solver=liblinear, tol=0.0005; total time=   0.0s\n",
      "[CV] END C=4, class_weight=balanced, dual=False, fit_intercept=True, max_iter=95, multi_class=auto, penalty=l2, solver=liblinear, tol=0.0005; total time=   0.0s\n",
      "[CV] END C=4, class_weight=balanced, dual=False, fit_intercept=True, max_iter=95, multi_class=auto, penalty=l2, solver=liblinear, tol=0.00062; total time=   0.0s\n",
      "[CV] END C=4, class_weight=balanced, dual=False, fit_intercept=True, max_iter=95, multi_class=auto, penalty=l2, solver=liblinear, tol=0.00062; total time=   0.0s\n",
      "[CV] END C=4, class_weight=balanced, dual=False, fit_intercept=True, max_iter=95, multi_class=auto, penalty=l2, solver=liblinear, tol=0.00062; total time=   0.0s\n",
      "[CV] END C=4, class_weight=balanced, dual=False, fit_intercept=True, max_iter=96, multi_class=auto, penalty=l2, solver=liblinear, tol=0.00067; total time=   0.0s\n",
      "[CV] END C=4, class_weight=balanced, dual=False, fit_intercept=True, max_iter=96, multi_class=auto, penalty=l2, solver=liblinear, tol=0.00067; total time=   0.0s\n",
      "[CV] END C=4, class_weight=balanced, dual=False, fit_intercept=True, max_iter=96, multi_class=auto, penalty=l2, solver=liblinear, tol=0.00067; total time=   0.0s\n",
      "[CV] END C=4, class_weight=balanced, dual=False, fit_intercept=True, max_iter=96, multi_class=auto, penalty=l2, solver=liblinear, tol=0.0007; total time=   0.0s\n",
      "[CV] END C=4, class_weight=balanced, dual=False, fit_intercept=True, max_iter=96, multi_class=auto, penalty=l2, solver=liblinear, tol=0.0007; total time=   0.0s\n",
      "[CV] END C=4, class_weight=balanced, dual=False, fit_intercept=True, max_iter=96, multi_class=auto, penalty=l2, solver=liblinear, tol=0.0007; total time=   0.0s\n",
      "[CV] END C=4, class_weight=balanced, dual=False, fit_intercept=True, max_iter=96, multi_class=auto, penalty=l2, solver=liblinear, tol=0.0006; total time=   0.0s\n",
      "[CV] END C=4, class_weight=balanced, dual=False, fit_intercept=True, max_iter=96, multi_class=auto, penalty=l2, solver=liblinear, tol=0.0006; total time=   0.0s\n",
      "[CV] END C=4, class_weight=balanced, dual=False, fit_intercept=True, max_iter=96, multi_class=auto, penalty=l2, solver=liblinear, tol=0.0006; total time=   0.0s\n",
      "[CV] END C=4, class_weight=balanced, dual=False, fit_intercept=True, max_iter=96, multi_class=auto, penalty=l2, solver=liblinear, tol=0.0005; total time=   0.0s\n",
      "[CV] END C=4, class_weight=balanced, dual=False, fit_intercept=True, max_iter=96, multi_class=auto, penalty=l2, solver=liblinear, tol=0.0005; total time=   0.0s\n",
      "[CV] END C=4, class_weight=balanced, dual=False, fit_intercept=True, max_iter=96, multi_class=auto, penalty=l2, solver=liblinear, tol=0.0005; total time=   0.0s\n",
      "[CV] END C=4, class_weight=balanced, dual=False, fit_intercept=True, max_iter=96, multi_class=auto, penalty=l2, solver=liblinear, tol=0.00062; total time=   0.0s\n",
      "[CV] END C=4, class_weight=balanced, dual=False, fit_intercept=True, max_iter=96, multi_class=auto, penalty=l2, solver=liblinear, tol=0.00062; total time=   0.0s\n",
      "[CV] END C=4, class_weight=balanced, dual=False, fit_intercept=True, max_iter=96, multi_class=auto, penalty=l2, solver=liblinear, tol=0.00062; total time=   0.0s\n",
      "[CV] END C=4, class_weight=balanced, dual=False, fit_intercept=True, max_iter=91, multi_class=auto, penalty=l2, solver=liblinear, tol=0.00067; total time=   0.0s\n",
      "[CV] END C=4, class_weight=balanced, dual=False, fit_intercept=True, max_iter=91, multi_class=auto, penalty=l2, solver=liblinear, tol=0.00067; total time=   0.0s\n",
      "[CV] END C=4, class_weight=balanced, dual=False, fit_intercept=True, max_iter=91, multi_class=auto, penalty=l2, solver=liblinear, tol=0.00067; total time=   0.0s\n",
      "[CV] END C=4, class_weight=balanced, dual=False, fit_intercept=True, max_iter=91, multi_class=auto, penalty=l2, solver=liblinear, tol=0.0007; total time=   0.0s\n",
      "[CV] END C=4, class_weight=balanced, dual=False, fit_intercept=True, max_iter=91, multi_class=auto, penalty=l2, solver=liblinear, tol=0.0007; total time=   0.0s\n",
      "[CV] END C=4, class_weight=balanced, dual=False, fit_intercept=True, max_iter=91, multi_class=auto, penalty=l2, solver=liblinear, tol=0.0007; total time=   0.0s\n",
      "[CV] END C=4, class_weight=balanced, dual=False, fit_intercept=True, max_iter=91, multi_class=auto, penalty=l2, solver=liblinear, tol=0.0006; total time=   0.0s\n",
      "[CV] END C=4, class_weight=balanced, dual=False, fit_intercept=True, max_iter=91, multi_class=auto, penalty=l2, solver=liblinear, tol=0.0006; total time=   0.0s\n",
      "[CV] END C=4, class_weight=balanced, dual=False, fit_intercept=True, max_iter=91, multi_class=auto, penalty=l2, solver=liblinear, tol=0.0006; total time=   0.0s\n",
      "[CV] END C=4, class_weight=balanced, dual=False, fit_intercept=True, max_iter=91, multi_class=auto, penalty=l2, solver=liblinear, tol=0.0005; total time=   0.0s\n",
      "[CV] END C=4, class_weight=balanced, dual=False, fit_intercept=True, max_iter=91, multi_class=auto, penalty=l2, solver=liblinear, tol=0.0005; total time=   0.0s\n",
      "[CV] END C=4, class_weight=balanced, dual=False, fit_intercept=True, max_iter=91, multi_class=auto, penalty=l2, solver=liblinear, tol=0.0005; total time=   0.0s\n",
      "[CV] END C=4, class_weight=balanced, dual=False, fit_intercept=True, max_iter=91, multi_class=auto, penalty=l2, solver=liblinear, tol=0.00062; total time=   0.0s\n",
      "[CV] END C=4, class_weight=balanced, dual=False, fit_intercept=True, max_iter=91, multi_class=auto, penalty=l2, solver=liblinear, tol=0.00062; total time=   0.0s\n",
      "[CV] END C=4, class_weight=balanced, dual=False, fit_intercept=True, max_iter=91, multi_class=auto, penalty=l2, solver=liblinear, tol=0.00062; total time=   0.0s\n",
      "[CV] END C=4, class_weight=balanced, dual=False, fit_intercept=True, max_iter=98, multi_class=auto, penalty=l2, solver=liblinear, tol=0.00067; total time=   0.0s\n",
      "[CV] END C=4, class_weight=balanced, dual=False, fit_intercept=True, max_iter=98, multi_class=auto, penalty=l2, solver=liblinear, tol=0.00067; total time=   0.0s\n",
      "[CV] END C=4, class_weight=balanced, dual=False, fit_intercept=True, max_iter=98, multi_class=auto, penalty=l2, solver=liblinear, tol=0.00067; total time=   0.0s\n",
      "[CV] END C=4, class_weight=balanced, dual=False, fit_intercept=True, max_iter=98, multi_class=auto, penalty=l2, solver=liblinear, tol=0.0007; total time=   0.0s\n",
      "[CV] END C=4, class_weight=balanced, dual=False, fit_intercept=True, max_iter=98, multi_class=auto, penalty=l2, solver=liblinear, tol=0.0007; total time=   0.0s\n",
      "[CV] END C=4, class_weight=balanced, dual=False, fit_intercept=True, max_iter=98, multi_class=auto, penalty=l2, solver=liblinear, tol=0.0007; total time=   0.0s\n",
      "[CV] END C=4, class_weight=balanced, dual=False, fit_intercept=True, max_iter=98, multi_class=auto, penalty=l2, solver=liblinear, tol=0.0006; total time=   0.0s\n",
      "[CV] END C=4, class_weight=balanced, dual=False, fit_intercept=True, max_iter=98, multi_class=auto, penalty=l2, solver=liblinear, tol=0.0006; total time=   0.0s\n",
      "[CV] END C=4, class_weight=balanced, dual=False, fit_intercept=True, max_iter=98, multi_class=auto, penalty=l2, solver=liblinear, tol=0.0006; total time=   0.0s\n",
      "[CV] END C=4, class_weight=balanced, dual=False, fit_intercept=True, max_iter=98, multi_class=auto, penalty=l2, solver=liblinear, tol=0.0005; total time=   0.0s\n",
      "[CV] END C=4, class_weight=balanced, dual=False, fit_intercept=True, max_iter=98, multi_class=auto, penalty=l2, solver=liblinear, tol=0.0005; total time=   0.0s\n",
      "[CV] END C=4, class_weight=balanced, dual=False, fit_intercept=True, max_iter=98, multi_class=auto, penalty=l2, solver=liblinear, tol=0.0005; total time=   0.0s\n",
      "[CV] END C=4, class_weight=balanced, dual=False, fit_intercept=True, max_iter=98, multi_class=auto, penalty=l2, solver=liblinear, tol=0.00062; total time=   0.0s\n",
      "[CV] END C=4, class_weight=balanced, dual=False, fit_intercept=True, max_iter=98, multi_class=auto, penalty=l2, solver=liblinear, tol=0.00062; total time=   0.0s\n",
      "[CV] END C=4, class_weight=balanced, dual=False, fit_intercept=True, max_iter=98, multi_class=auto, penalty=l2, solver=liblinear, tol=0.00062; total time=   0.0s\n",
      "[CV] END C=4, class_weight=balanced, dual=False, fit_intercept=True, max_iter=97, multi_class=auto, penalty=l2, solver=liblinear, tol=0.00067; total time=   0.0s\n",
      "[CV] END C=4, class_weight=balanced, dual=False, fit_intercept=True, max_iter=97, multi_class=auto, penalty=l2, solver=liblinear, tol=0.00067; total time=   0.0s\n"
     ]
    },
    {
     "name": "stdout",
     "output_type": "stream",
     "text": [
      "[CV] END C=4, class_weight=balanced, dual=False, fit_intercept=True, max_iter=97, multi_class=auto, penalty=l2, solver=liblinear, tol=0.00067; total time=   0.0s\n",
      "[CV] END C=4, class_weight=balanced, dual=False, fit_intercept=True, max_iter=97, multi_class=auto, penalty=l2, solver=liblinear, tol=0.0007; total time=   0.0s\n",
      "[CV] END C=4, class_weight=balanced, dual=False, fit_intercept=True, max_iter=97, multi_class=auto, penalty=l2, solver=liblinear, tol=0.0007; total time=   0.0s\n",
      "[CV] END C=4, class_weight=balanced, dual=False, fit_intercept=True, max_iter=97, multi_class=auto, penalty=l2, solver=liblinear, tol=0.0007; total time=   0.0s\n",
      "[CV] END C=4, class_weight=balanced, dual=False, fit_intercept=True, max_iter=97, multi_class=auto, penalty=l2, solver=liblinear, tol=0.0006; total time=   0.0s\n",
      "[CV] END C=4, class_weight=balanced, dual=False, fit_intercept=True, max_iter=97, multi_class=auto, penalty=l2, solver=liblinear, tol=0.0006; total time=   0.0s\n",
      "[CV] END C=4, class_weight=balanced, dual=False, fit_intercept=True, max_iter=97, multi_class=auto, penalty=l2, solver=liblinear, tol=0.0006; total time=   0.0s\n",
      "[CV] END C=4, class_weight=balanced, dual=False, fit_intercept=True, max_iter=97, multi_class=auto, penalty=l2, solver=liblinear, tol=0.0005; total time=   0.0s\n",
      "[CV] END C=4, class_weight=balanced, dual=False, fit_intercept=True, max_iter=97, multi_class=auto, penalty=l2, solver=liblinear, tol=0.0005; total time=   0.0s\n",
      "[CV] END C=4, class_weight=balanced, dual=False, fit_intercept=True, max_iter=97, multi_class=auto, penalty=l2, solver=liblinear, tol=0.0005; total time=   0.0s\n",
      "[CV] END C=4, class_weight=balanced, dual=False, fit_intercept=True, max_iter=97, multi_class=auto, penalty=l2, solver=liblinear, tol=0.00062; total time=   0.0s\n",
      "[CV] END C=4, class_weight=balanced, dual=False, fit_intercept=True, max_iter=97, multi_class=auto, penalty=l2, solver=liblinear, tol=0.00062; total time=   0.0s\n",
      "[CV] END C=4, class_weight=balanced, dual=False, fit_intercept=True, max_iter=97, multi_class=auto, penalty=l2, solver=liblinear, tol=0.00062; total time=   0.0s\n",
      "[CV] END C=11, class_weight=balanced, dual=False, fit_intercept=True, max_iter=94, multi_class=auto, penalty=l2, solver=liblinear, tol=0.00067; total time=   0.0s\n",
      "[CV] END C=11, class_weight=balanced, dual=False, fit_intercept=True, max_iter=94, multi_class=auto, penalty=l2, solver=liblinear, tol=0.00067; total time=   0.0s\n",
      "[CV] END C=11, class_weight=balanced, dual=False, fit_intercept=True, max_iter=94, multi_class=auto, penalty=l2, solver=liblinear, tol=0.00067; total time=   0.0s\n",
      "[CV] END C=11, class_weight=balanced, dual=False, fit_intercept=True, max_iter=94, multi_class=auto, penalty=l2, solver=liblinear, tol=0.0007; total time=   0.0s\n",
      "[CV] END C=11, class_weight=balanced, dual=False, fit_intercept=True, max_iter=94, multi_class=auto, penalty=l2, solver=liblinear, tol=0.0007; total time=   0.0s\n",
      "[CV] END C=11, class_weight=balanced, dual=False, fit_intercept=True, max_iter=94, multi_class=auto, penalty=l2, solver=liblinear, tol=0.0007; total time=   0.0s\n",
      "[CV] END C=11, class_weight=balanced, dual=False, fit_intercept=True, max_iter=94, multi_class=auto, penalty=l2, solver=liblinear, tol=0.0006; total time=   0.0s\n",
      "[CV] END C=11, class_weight=balanced, dual=False, fit_intercept=True, max_iter=94, multi_class=auto, penalty=l2, solver=liblinear, tol=0.0006; total time=   0.0s\n",
      "[CV] END C=11, class_weight=balanced, dual=False, fit_intercept=True, max_iter=94, multi_class=auto, penalty=l2, solver=liblinear, tol=0.0006; total time=   0.0s\n",
      "[CV] END C=11, class_weight=balanced, dual=False, fit_intercept=True, max_iter=94, multi_class=auto, penalty=l2, solver=liblinear, tol=0.0005; total time=   0.0s\n",
      "[CV] END C=11, class_weight=balanced, dual=False, fit_intercept=True, max_iter=94, multi_class=auto, penalty=l2, solver=liblinear, tol=0.0005; total time=   0.0s\n",
      "[CV] END C=11, class_weight=balanced, dual=False, fit_intercept=True, max_iter=94, multi_class=auto, penalty=l2, solver=liblinear, tol=0.0005; total time=   0.0s\n",
      "[CV] END C=11, class_weight=balanced, dual=False, fit_intercept=True, max_iter=94, multi_class=auto, penalty=l2, solver=liblinear, tol=0.00062; total time=   0.0s\n",
      "[CV] END C=11, class_weight=balanced, dual=False, fit_intercept=True, max_iter=94, multi_class=auto, penalty=l2, solver=liblinear, tol=0.00062; total time=   0.0s\n",
      "[CV] END C=11, class_weight=balanced, dual=False, fit_intercept=True, max_iter=94, multi_class=auto, penalty=l2, solver=liblinear, tol=0.00062; total time=   0.0s\n",
      "[CV] END C=11, class_weight=balanced, dual=False, fit_intercept=True, max_iter=93, multi_class=auto, penalty=l2, solver=liblinear, tol=0.00067; total time=   0.0s\n",
      "[CV] END C=11, class_weight=balanced, dual=False, fit_intercept=True, max_iter=93, multi_class=auto, penalty=l2, solver=liblinear, tol=0.00067; total time=   0.0s\n",
      "[CV] END C=11, class_weight=balanced, dual=False, fit_intercept=True, max_iter=93, multi_class=auto, penalty=l2, solver=liblinear, tol=0.00067; total time=   0.0s\n",
      "[CV] END C=11, class_weight=balanced, dual=False, fit_intercept=True, max_iter=93, multi_class=auto, penalty=l2, solver=liblinear, tol=0.0007; total time=   0.0s\n",
      "[CV] END C=11, class_weight=balanced, dual=False, fit_intercept=True, max_iter=93, multi_class=auto, penalty=l2, solver=liblinear, tol=0.0007; total time=   0.0s\n",
      "[CV] END C=11, class_weight=balanced, dual=False, fit_intercept=True, max_iter=93, multi_class=auto, penalty=l2, solver=liblinear, tol=0.0007; total time=   0.0s\n",
      "[CV] END C=11, class_weight=balanced, dual=False, fit_intercept=True, max_iter=93, multi_class=auto, penalty=l2, solver=liblinear, tol=0.0006; total time=   0.0s\n",
      "[CV] END C=11, class_weight=balanced, dual=False, fit_intercept=True, max_iter=93, multi_class=auto, penalty=l2, solver=liblinear, tol=0.0006; total time=   0.0s\n",
      "[CV] END C=11, class_weight=balanced, dual=False, fit_intercept=True, max_iter=93, multi_class=auto, penalty=l2, solver=liblinear, tol=0.0006; total time=   0.0s\n",
      "[CV] END C=11, class_weight=balanced, dual=False, fit_intercept=True, max_iter=93, multi_class=auto, penalty=l2, solver=liblinear, tol=0.0005; total time=   0.0s\n",
      "[CV] END C=11, class_weight=balanced, dual=False, fit_intercept=True, max_iter=93, multi_class=auto, penalty=l2, solver=liblinear, tol=0.0005; total time=   0.0s\n",
      "[CV] END C=11, class_weight=balanced, dual=False, fit_intercept=True, max_iter=93, multi_class=auto, penalty=l2, solver=liblinear, tol=0.0005; total time=   0.0s\n",
      "[CV] END C=11, class_weight=balanced, dual=False, fit_intercept=True, max_iter=93, multi_class=auto, penalty=l2, solver=liblinear, tol=0.00062; total time=   0.0s\n",
      "[CV] END C=11, class_weight=balanced, dual=False, fit_intercept=True, max_iter=93, multi_class=auto, penalty=l2, solver=liblinear, tol=0.00062; total time=   0.0s\n",
      "[CV] END C=11, class_weight=balanced, dual=False, fit_intercept=True, max_iter=93, multi_class=auto, penalty=l2, solver=liblinear, tol=0.00062; total time=   0.0s\n",
      "[CV] END C=11, class_weight=balanced, dual=False, fit_intercept=True, max_iter=92, multi_class=auto, penalty=l2, solver=liblinear, tol=0.00067; total time=   0.0s\n",
      "[CV] END C=11, class_weight=balanced, dual=False, fit_intercept=True, max_iter=92, multi_class=auto, penalty=l2, solver=liblinear, tol=0.00067; total time=   0.0s\n",
      "[CV] END C=11, class_weight=balanced, dual=False, fit_intercept=True, max_iter=92, multi_class=auto, penalty=l2, solver=liblinear, tol=0.00067; total time=   0.0s\n",
      "[CV] END C=11, class_weight=balanced, dual=False, fit_intercept=True, max_iter=92, multi_class=auto, penalty=l2, solver=liblinear, tol=0.0007; total time=   0.0s\n",
      "[CV] END C=11, class_weight=balanced, dual=False, fit_intercept=True, max_iter=92, multi_class=auto, penalty=l2, solver=liblinear, tol=0.0007; total time=   0.0s\n",
      "[CV] END C=11, class_weight=balanced, dual=False, fit_intercept=True, max_iter=92, multi_class=auto, penalty=l2, solver=liblinear, tol=0.0007; total time=   0.0s\n",
      "[CV] END C=11, class_weight=balanced, dual=False, fit_intercept=True, max_iter=92, multi_class=auto, penalty=l2, solver=liblinear, tol=0.0006; total time=   0.0s\n",
      "[CV] END C=11, class_weight=balanced, dual=False, fit_intercept=True, max_iter=92, multi_class=auto, penalty=l2, solver=liblinear, tol=0.0006; total time=   0.0s\n",
      "[CV] END C=11, class_weight=balanced, dual=False, fit_intercept=True, max_iter=92, multi_class=auto, penalty=l2, solver=liblinear, tol=0.0006; total time=   0.0s\n",
      "[CV] END C=11, class_weight=balanced, dual=False, fit_intercept=True, max_iter=92, multi_class=auto, penalty=l2, solver=liblinear, tol=0.0005; total time=   0.0s\n",
      "[CV] END C=11, class_weight=balanced, dual=False, fit_intercept=True, max_iter=92, multi_class=auto, penalty=l2, solver=liblinear, tol=0.0005; total time=   0.0s\n",
      "[CV] END C=11, class_weight=balanced, dual=False, fit_intercept=True, max_iter=92, multi_class=auto, penalty=l2, solver=liblinear, tol=0.0005; total time=   0.0s\n",
      "[CV] END C=11, class_weight=balanced, dual=False, fit_intercept=True, max_iter=92, multi_class=auto, penalty=l2, solver=liblinear, tol=0.00062; total time=   0.0s\n",
      "[CV] END C=11, class_weight=balanced, dual=False, fit_intercept=True, max_iter=92, multi_class=auto, penalty=l2, solver=liblinear, tol=0.00062; total time=   0.0s\n",
      "[CV] END C=11, class_weight=balanced, dual=False, fit_intercept=True, max_iter=92, multi_class=auto, penalty=l2, solver=liblinear, tol=0.00062; total time=   0.0s\n",
      "[CV] END C=11, class_weight=balanced, dual=False, fit_intercept=True, max_iter=95, multi_class=auto, penalty=l2, solver=liblinear, tol=0.00067; total time=   0.0s\n",
      "[CV] END C=11, class_weight=balanced, dual=False, fit_intercept=True, max_iter=95, multi_class=auto, penalty=l2, solver=liblinear, tol=0.00067; total time=   0.0s\n",
      "[CV] END C=11, class_weight=balanced, dual=False, fit_intercept=True, max_iter=95, multi_class=auto, penalty=l2, solver=liblinear, tol=0.00067; total time=   0.0s\n",
      "[CV] END C=11, class_weight=balanced, dual=False, fit_intercept=True, max_iter=95, multi_class=auto, penalty=l2, solver=liblinear, tol=0.0007; total time=   0.0s\n"
     ]
    },
    {
     "name": "stdout",
     "output_type": "stream",
     "text": [
      "[CV] END C=11, class_weight=balanced, dual=False, fit_intercept=True, max_iter=95, multi_class=auto, penalty=l2, solver=liblinear, tol=0.0007; total time=   0.0s\n",
      "[CV] END C=11, class_weight=balanced, dual=False, fit_intercept=True, max_iter=95, multi_class=auto, penalty=l2, solver=liblinear, tol=0.0007; total time=   0.0s\n",
      "[CV] END C=11, class_weight=balanced, dual=False, fit_intercept=True, max_iter=95, multi_class=auto, penalty=l2, solver=liblinear, tol=0.0006; total time=   0.0s\n",
      "[CV] END C=11, class_weight=balanced, dual=False, fit_intercept=True, max_iter=95, multi_class=auto, penalty=l2, solver=liblinear, tol=0.0006; total time=   0.0s\n",
      "[CV] END C=11, class_weight=balanced, dual=False, fit_intercept=True, max_iter=95, multi_class=auto, penalty=l2, solver=liblinear, tol=0.0006; total time=   0.0s\n",
      "[CV] END C=11, class_weight=balanced, dual=False, fit_intercept=True, max_iter=95, multi_class=auto, penalty=l2, solver=liblinear, tol=0.0005; total time=   0.0s\n",
      "[CV] END C=11, class_weight=balanced, dual=False, fit_intercept=True, max_iter=95, multi_class=auto, penalty=l2, solver=liblinear, tol=0.0005; total time=   0.0s\n",
      "[CV] END C=11, class_weight=balanced, dual=False, fit_intercept=True, max_iter=95, multi_class=auto, penalty=l2, solver=liblinear, tol=0.0005; total time=   0.0s\n",
      "[CV] END C=11, class_weight=balanced, dual=False, fit_intercept=True, max_iter=95, multi_class=auto, penalty=l2, solver=liblinear, tol=0.00062; total time=   0.0s\n",
      "[CV] END C=11, class_weight=balanced, dual=False, fit_intercept=True, max_iter=95, multi_class=auto, penalty=l2, solver=liblinear, tol=0.00062; total time=   0.0s\n",
      "[CV] END C=11, class_weight=balanced, dual=False, fit_intercept=True, max_iter=95, multi_class=auto, penalty=l2, solver=liblinear, tol=0.00062; total time=   0.0s\n",
      "[CV] END C=11, class_weight=balanced, dual=False, fit_intercept=True, max_iter=96, multi_class=auto, penalty=l2, solver=liblinear, tol=0.00067; total time=   0.0s\n",
      "[CV] END C=11, class_weight=balanced, dual=False, fit_intercept=True, max_iter=96, multi_class=auto, penalty=l2, solver=liblinear, tol=0.00067; total time=   0.0s\n",
      "[CV] END C=11, class_weight=balanced, dual=False, fit_intercept=True, max_iter=96, multi_class=auto, penalty=l2, solver=liblinear, tol=0.00067; total time=   0.0s\n",
      "[CV] END C=11, class_weight=balanced, dual=False, fit_intercept=True, max_iter=96, multi_class=auto, penalty=l2, solver=liblinear, tol=0.0007; total time=   0.0s\n",
      "[CV] END C=11, class_weight=balanced, dual=False, fit_intercept=True, max_iter=96, multi_class=auto, penalty=l2, solver=liblinear, tol=0.0007; total time=   0.0s\n",
      "[CV] END C=11, class_weight=balanced, dual=False, fit_intercept=True, max_iter=96, multi_class=auto, penalty=l2, solver=liblinear, tol=0.0007; total time=   0.0s\n",
      "[CV] END C=11, class_weight=balanced, dual=False, fit_intercept=True, max_iter=96, multi_class=auto, penalty=l2, solver=liblinear, tol=0.0006; total time=   0.0s\n",
      "[CV] END C=11, class_weight=balanced, dual=False, fit_intercept=True, max_iter=96, multi_class=auto, penalty=l2, solver=liblinear, tol=0.0006; total time=   0.0s\n",
      "[CV] END C=11, class_weight=balanced, dual=False, fit_intercept=True, max_iter=96, multi_class=auto, penalty=l2, solver=liblinear, tol=0.0006; total time=   0.0s\n",
      "[CV] END C=11, class_weight=balanced, dual=False, fit_intercept=True, max_iter=96, multi_class=auto, penalty=l2, solver=liblinear, tol=0.0005; total time=   0.0s\n",
      "[CV] END C=11, class_weight=balanced, dual=False, fit_intercept=True, max_iter=96, multi_class=auto, penalty=l2, solver=liblinear, tol=0.0005; total time=   0.0s\n",
      "[CV] END C=11, class_weight=balanced, dual=False, fit_intercept=True, max_iter=96, multi_class=auto, penalty=l2, solver=liblinear, tol=0.0005; total time=   0.0s\n",
      "[CV] END C=11, class_weight=balanced, dual=False, fit_intercept=True, max_iter=96, multi_class=auto, penalty=l2, solver=liblinear, tol=0.00062; total time=   0.0s\n",
      "[CV] END C=11, class_weight=balanced, dual=False, fit_intercept=True, max_iter=96, multi_class=auto, penalty=l2, solver=liblinear, tol=0.00062; total time=   0.0s\n",
      "[CV] END C=11, class_weight=balanced, dual=False, fit_intercept=True, max_iter=96, multi_class=auto, penalty=l2, solver=liblinear, tol=0.00062; total time=   0.0s\n",
      "[CV] END C=11, class_weight=balanced, dual=False, fit_intercept=True, max_iter=91, multi_class=auto, penalty=l2, solver=liblinear, tol=0.00067; total time=   0.0s\n",
      "[CV] END C=11, class_weight=balanced, dual=False, fit_intercept=True, max_iter=91, multi_class=auto, penalty=l2, solver=liblinear, tol=0.00067; total time=   0.0s\n",
      "[CV] END C=11, class_weight=balanced, dual=False, fit_intercept=True, max_iter=91, multi_class=auto, penalty=l2, solver=liblinear, tol=0.00067; total time=   0.0s\n",
      "[CV] END C=11, class_weight=balanced, dual=False, fit_intercept=True, max_iter=91, multi_class=auto, penalty=l2, solver=liblinear, tol=0.0007; total time=   0.0s\n",
      "[CV] END C=11, class_weight=balanced, dual=False, fit_intercept=True, max_iter=91, multi_class=auto, penalty=l2, solver=liblinear, tol=0.0007; total time=   0.0s\n",
      "[CV] END C=11, class_weight=balanced, dual=False, fit_intercept=True, max_iter=91, multi_class=auto, penalty=l2, solver=liblinear, tol=0.0007; total time=   0.0s\n",
      "[CV] END C=11, class_weight=balanced, dual=False, fit_intercept=True, max_iter=91, multi_class=auto, penalty=l2, solver=liblinear, tol=0.0006; total time=   0.0s\n",
      "[CV] END C=11, class_weight=balanced, dual=False, fit_intercept=True, max_iter=91, multi_class=auto, penalty=l2, solver=liblinear, tol=0.0006; total time=   0.0s\n",
      "[CV] END C=11, class_weight=balanced, dual=False, fit_intercept=True, max_iter=91, multi_class=auto, penalty=l2, solver=liblinear, tol=0.0006; total time=   0.0s\n",
      "[CV] END C=11, class_weight=balanced, dual=False, fit_intercept=True, max_iter=91, multi_class=auto, penalty=l2, solver=liblinear, tol=0.0005; total time=   0.0s\n",
      "[CV] END C=11, class_weight=balanced, dual=False, fit_intercept=True, max_iter=91, multi_class=auto, penalty=l2, solver=liblinear, tol=0.0005; total time=   0.0s\n",
      "[CV] END C=11, class_weight=balanced, dual=False, fit_intercept=True, max_iter=91, multi_class=auto, penalty=l2, solver=liblinear, tol=0.0005; total time=   0.0s\n",
      "[CV] END C=11, class_weight=balanced, dual=False, fit_intercept=True, max_iter=91, multi_class=auto, penalty=l2, solver=liblinear, tol=0.00062; total time=   0.0s\n",
      "[CV] END C=11, class_weight=balanced, dual=False, fit_intercept=True, max_iter=91, multi_class=auto, penalty=l2, solver=liblinear, tol=0.00062; total time=   0.0s\n",
      "[CV] END C=11, class_weight=balanced, dual=False, fit_intercept=True, max_iter=91, multi_class=auto, penalty=l2, solver=liblinear, tol=0.00062; total time=   0.0s\n",
      "[CV] END C=11, class_weight=balanced, dual=False, fit_intercept=True, max_iter=98, multi_class=auto, penalty=l2, solver=liblinear, tol=0.00067; total time=   0.0s\n",
      "[CV] END C=11, class_weight=balanced, dual=False, fit_intercept=True, max_iter=98, multi_class=auto, penalty=l2, solver=liblinear, tol=0.00067; total time=   0.0s\n",
      "[CV] END C=11, class_weight=balanced, dual=False, fit_intercept=True, max_iter=98, multi_class=auto, penalty=l2, solver=liblinear, tol=0.00067; total time=   0.0s\n",
      "[CV] END C=11, class_weight=balanced, dual=False, fit_intercept=True, max_iter=98, multi_class=auto, penalty=l2, solver=liblinear, tol=0.0007; total time=   0.0s\n",
      "[CV] END C=11, class_weight=balanced, dual=False, fit_intercept=True, max_iter=98, multi_class=auto, penalty=l2, solver=liblinear, tol=0.0007; total time=   0.0s\n",
      "[CV] END C=11, class_weight=balanced, dual=False, fit_intercept=True, max_iter=98, multi_class=auto, penalty=l2, solver=liblinear, tol=0.0007; total time=   0.0s\n",
      "[CV] END C=11, class_weight=balanced, dual=False, fit_intercept=True, max_iter=98, multi_class=auto, penalty=l2, solver=liblinear, tol=0.0006; total time=   0.0s\n",
      "[CV] END C=11, class_weight=balanced, dual=False, fit_intercept=True, max_iter=98, multi_class=auto, penalty=l2, solver=liblinear, tol=0.0006; total time=   0.0s\n",
      "[CV] END C=11, class_weight=balanced, dual=False, fit_intercept=True, max_iter=98, multi_class=auto, penalty=l2, solver=liblinear, tol=0.0006; total time=   0.0s\n",
      "[CV] END C=11, class_weight=balanced, dual=False, fit_intercept=True, max_iter=98, multi_class=auto, penalty=l2, solver=liblinear, tol=0.0005; total time=   0.0s\n",
      "[CV] END C=11, class_weight=balanced, dual=False, fit_intercept=True, max_iter=98, multi_class=auto, penalty=l2, solver=liblinear, tol=0.0005; total time=   0.0s\n",
      "[CV] END C=11, class_weight=balanced, dual=False, fit_intercept=True, max_iter=98, multi_class=auto, penalty=l2, solver=liblinear, tol=0.0005; total time=   0.0s\n",
      "[CV] END C=11, class_weight=balanced, dual=False, fit_intercept=True, max_iter=98, multi_class=auto, penalty=l2, solver=liblinear, tol=0.00062; total time=   0.0s\n",
      "[CV] END C=11, class_weight=balanced, dual=False, fit_intercept=True, max_iter=98, multi_class=auto, penalty=l2, solver=liblinear, tol=0.00062; total time=   0.0s\n",
      "[CV] END C=11, class_weight=balanced, dual=False, fit_intercept=True, max_iter=98, multi_class=auto, penalty=l2, solver=liblinear, tol=0.00062; total time=   0.0s\n",
      "[CV] END C=11, class_weight=balanced, dual=False, fit_intercept=True, max_iter=97, multi_class=auto, penalty=l2, solver=liblinear, tol=0.00067; total time=   0.0s\n",
      "[CV] END C=11, class_weight=balanced, dual=False, fit_intercept=True, max_iter=97, multi_class=auto, penalty=l2, solver=liblinear, tol=0.00067; total time=   0.0s\n",
      "[CV] END C=11, class_weight=balanced, dual=False, fit_intercept=True, max_iter=97, multi_class=auto, penalty=l2, solver=liblinear, tol=0.00067; total time=   0.0s\n",
      "[CV] END C=11, class_weight=balanced, dual=False, fit_intercept=True, max_iter=97, multi_class=auto, penalty=l2, solver=liblinear, tol=0.0007; total time=   0.0s\n",
      "[CV] END C=11, class_weight=balanced, dual=False, fit_intercept=True, max_iter=97, multi_class=auto, penalty=l2, solver=liblinear, tol=0.0007; total time=   0.0s\n",
      "[CV] END C=11, class_weight=balanced, dual=False, fit_intercept=True, max_iter=97, multi_class=auto, penalty=l2, solver=liblinear, tol=0.0007; total time=   0.0s\n",
      "[CV] END C=11, class_weight=balanced, dual=False, fit_intercept=True, max_iter=97, multi_class=auto, penalty=l2, solver=liblinear, tol=0.0006; total time=   0.0s\n",
      "[CV] END C=11, class_weight=balanced, dual=False, fit_intercept=True, max_iter=97, multi_class=auto, penalty=l2, solver=liblinear, tol=0.0006; total time=   0.0s\n",
      "[CV] END C=11, class_weight=balanced, dual=False, fit_intercept=True, max_iter=97, multi_class=auto, penalty=l2, solver=liblinear, tol=0.0006; total time=   0.0s\n",
      "[CV] END C=11, class_weight=balanced, dual=False, fit_intercept=True, max_iter=97, multi_class=auto, penalty=l2, solver=liblinear, tol=0.0005; total time=   0.0s\n",
      "[CV] END C=11, class_weight=balanced, dual=False, fit_intercept=True, max_iter=97, multi_class=auto, penalty=l2, solver=liblinear, tol=0.0005; total time=   0.0s\n"
     ]
    },
    {
     "name": "stdout",
     "output_type": "stream",
     "text": [
      "[CV] END C=11, class_weight=balanced, dual=False, fit_intercept=True, max_iter=97, multi_class=auto, penalty=l2, solver=liblinear, tol=0.0005; total time=   0.0s\n",
      "[CV] END C=11, class_weight=balanced, dual=False, fit_intercept=True, max_iter=97, multi_class=auto, penalty=l2, solver=liblinear, tol=0.00062; total time=   0.0s\n",
      "[CV] END C=11, class_weight=balanced, dual=False, fit_intercept=True, max_iter=97, multi_class=auto, penalty=l2, solver=liblinear, tol=0.00062; total time=   0.0s\n",
      "[CV] END C=11, class_weight=balanced, dual=False, fit_intercept=True, max_iter=97, multi_class=auto, penalty=l2, solver=liblinear, tol=0.00062; total time=   0.0s\n",
      "[CV] END C=3, class_weight=balanced, dual=False, fit_intercept=True, max_iter=94, multi_class=auto, penalty=l2, solver=liblinear, tol=0.00067; total time=   0.0s\n",
      "[CV] END C=3, class_weight=balanced, dual=False, fit_intercept=True, max_iter=94, multi_class=auto, penalty=l2, solver=liblinear, tol=0.00067; total time=   0.0s\n",
      "[CV] END C=3, class_weight=balanced, dual=False, fit_intercept=True, max_iter=94, multi_class=auto, penalty=l2, solver=liblinear, tol=0.00067; total time=   0.0s\n",
      "[CV] END C=3, class_weight=balanced, dual=False, fit_intercept=True, max_iter=94, multi_class=auto, penalty=l2, solver=liblinear, tol=0.0007; total time=   0.0s\n",
      "[CV] END C=3, class_weight=balanced, dual=False, fit_intercept=True, max_iter=94, multi_class=auto, penalty=l2, solver=liblinear, tol=0.0007; total time=   0.0s\n",
      "[CV] END C=3, class_weight=balanced, dual=False, fit_intercept=True, max_iter=94, multi_class=auto, penalty=l2, solver=liblinear, tol=0.0007; total time=   0.0s\n",
      "[CV] END C=3, class_weight=balanced, dual=False, fit_intercept=True, max_iter=94, multi_class=auto, penalty=l2, solver=liblinear, tol=0.0006; total time=   0.0s\n",
      "[CV] END C=3, class_weight=balanced, dual=False, fit_intercept=True, max_iter=94, multi_class=auto, penalty=l2, solver=liblinear, tol=0.0006; total time=   0.0s\n",
      "[CV] END C=3, class_weight=balanced, dual=False, fit_intercept=True, max_iter=94, multi_class=auto, penalty=l2, solver=liblinear, tol=0.0006; total time=   0.0s\n",
      "[CV] END C=3, class_weight=balanced, dual=False, fit_intercept=True, max_iter=94, multi_class=auto, penalty=l2, solver=liblinear, tol=0.0005; total time=   0.0s\n",
      "[CV] END C=3, class_weight=balanced, dual=False, fit_intercept=True, max_iter=94, multi_class=auto, penalty=l2, solver=liblinear, tol=0.0005; total time=   0.0s\n",
      "[CV] END C=3, class_weight=balanced, dual=False, fit_intercept=True, max_iter=94, multi_class=auto, penalty=l2, solver=liblinear, tol=0.0005; total time=   0.0s\n",
      "[CV] END C=3, class_weight=balanced, dual=False, fit_intercept=True, max_iter=94, multi_class=auto, penalty=l2, solver=liblinear, tol=0.00062; total time=   0.0s\n",
      "[CV] END C=3, class_weight=balanced, dual=False, fit_intercept=True, max_iter=94, multi_class=auto, penalty=l2, solver=liblinear, tol=0.00062; total time=   0.0s\n",
      "[CV] END C=3, class_weight=balanced, dual=False, fit_intercept=True, max_iter=94, multi_class=auto, penalty=l2, solver=liblinear, tol=0.00062; total time=   0.0s\n",
      "[CV] END C=3, class_weight=balanced, dual=False, fit_intercept=True, max_iter=93, multi_class=auto, penalty=l2, solver=liblinear, tol=0.00067; total time=   0.0s\n",
      "[CV] END C=3, class_weight=balanced, dual=False, fit_intercept=True, max_iter=93, multi_class=auto, penalty=l2, solver=liblinear, tol=0.00067; total time=   0.0s\n",
      "[CV] END C=3, class_weight=balanced, dual=False, fit_intercept=True, max_iter=93, multi_class=auto, penalty=l2, solver=liblinear, tol=0.00067; total time=   0.0s\n",
      "[CV] END C=3, class_weight=balanced, dual=False, fit_intercept=True, max_iter=93, multi_class=auto, penalty=l2, solver=liblinear, tol=0.0007; total time=   0.0s\n",
      "[CV] END C=3, class_weight=balanced, dual=False, fit_intercept=True, max_iter=93, multi_class=auto, penalty=l2, solver=liblinear, tol=0.0007; total time=   0.0s\n",
      "[CV] END C=3, class_weight=balanced, dual=False, fit_intercept=True, max_iter=93, multi_class=auto, penalty=l2, solver=liblinear, tol=0.0007; total time=   0.0s\n",
      "[CV] END C=3, class_weight=balanced, dual=False, fit_intercept=True, max_iter=93, multi_class=auto, penalty=l2, solver=liblinear, tol=0.0006; total time=   0.0s\n",
      "[CV] END C=3, class_weight=balanced, dual=False, fit_intercept=True, max_iter=93, multi_class=auto, penalty=l2, solver=liblinear, tol=0.0006; total time=   0.0s\n",
      "[CV] END C=3, class_weight=balanced, dual=False, fit_intercept=True, max_iter=93, multi_class=auto, penalty=l2, solver=liblinear, tol=0.0006; total time=   0.0s\n",
      "[CV] END C=3, class_weight=balanced, dual=False, fit_intercept=True, max_iter=93, multi_class=auto, penalty=l2, solver=liblinear, tol=0.0005; total time=   0.0s\n",
      "[CV] END C=3, class_weight=balanced, dual=False, fit_intercept=True, max_iter=93, multi_class=auto, penalty=l2, solver=liblinear, tol=0.0005; total time=   0.0s\n",
      "[CV] END C=3, class_weight=balanced, dual=False, fit_intercept=True, max_iter=93, multi_class=auto, penalty=l2, solver=liblinear, tol=0.0005; total time=   0.0s\n",
      "[CV] END C=3, class_weight=balanced, dual=False, fit_intercept=True, max_iter=93, multi_class=auto, penalty=l2, solver=liblinear, tol=0.00062; total time=   0.0s\n",
      "[CV] END C=3, class_weight=balanced, dual=False, fit_intercept=True, max_iter=93, multi_class=auto, penalty=l2, solver=liblinear, tol=0.00062; total time=   0.0s\n",
      "[CV] END C=3, class_weight=balanced, dual=False, fit_intercept=True, max_iter=93, multi_class=auto, penalty=l2, solver=liblinear, tol=0.00062; total time=   0.0s\n",
      "[CV] END C=3, class_weight=balanced, dual=False, fit_intercept=True, max_iter=92, multi_class=auto, penalty=l2, solver=liblinear, tol=0.00067; total time=   0.0s\n",
      "[CV] END C=3, class_weight=balanced, dual=False, fit_intercept=True, max_iter=92, multi_class=auto, penalty=l2, solver=liblinear, tol=0.00067; total time=   0.0s\n",
      "[CV] END C=3, class_weight=balanced, dual=False, fit_intercept=True, max_iter=92, multi_class=auto, penalty=l2, solver=liblinear, tol=0.00067; total time=   0.0s\n",
      "[CV] END C=3, class_weight=balanced, dual=False, fit_intercept=True, max_iter=92, multi_class=auto, penalty=l2, solver=liblinear, tol=0.0007; total time=   0.0s\n",
      "[CV] END C=3, class_weight=balanced, dual=False, fit_intercept=True, max_iter=92, multi_class=auto, penalty=l2, solver=liblinear, tol=0.0007; total time=   0.0s\n",
      "[CV] END C=3, class_weight=balanced, dual=False, fit_intercept=True, max_iter=92, multi_class=auto, penalty=l2, solver=liblinear, tol=0.0007; total time=   0.0s\n",
      "[CV] END C=3, class_weight=balanced, dual=False, fit_intercept=True, max_iter=92, multi_class=auto, penalty=l2, solver=liblinear, tol=0.0006; total time=   0.0s\n",
      "[CV] END C=3, class_weight=balanced, dual=False, fit_intercept=True, max_iter=92, multi_class=auto, penalty=l2, solver=liblinear, tol=0.0006; total time=   0.0s\n",
      "[CV] END C=3, class_weight=balanced, dual=False, fit_intercept=True, max_iter=92, multi_class=auto, penalty=l2, solver=liblinear, tol=0.0006; total time=   0.0s\n",
      "[CV] END C=3, class_weight=balanced, dual=False, fit_intercept=True, max_iter=92, multi_class=auto, penalty=l2, solver=liblinear, tol=0.0005; total time=   0.0s\n",
      "[CV] END C=3, class_weight=balanced, dual=False, fit_intercept=True, max_iter=92, multi_class=auto, penalty=l2, solver=liblinear, tol=0.0005; total time=   0.0s\n",
      "[CV] END C=3, class_weight=balanced, dual=False, fit_intercept=True, max_iter=92, multi_class=auto, penalty=l2, solver=liblinear, tol=0.0005; total time=   0.0s\n",
      "[CV] END C=3, class_weight=balanced, dual=False, fit_intercept=True, max_iter=92, multi_class=auto, penalty=l2, solver=liblinear, tol=0.00062; total time=   0.0s\n",
      "[CV] END C=3, class_weight=balanced, dual=False, fit_intercept=True, max_iter=92, multi_class=auto, penalty=l2, solver=liblinear, tol=0.00062; total time=   0.0s\n",
      "[CV] END C=3, class_weight=balanced, dual=False, fit_intercept=True, max_iter=92, multi_class=auto, penalty=l2, solver=liblinear, tol=0.00062; total time=   0.0s\n",
      "[CV] END C=3, class_weight=balanced, dual=False, fit_intercept=True, max_iter=95, multi_class=auto, penalty=l2, solver=liblinear, tol=0.00067; total time=   0.0s\n",
      "[CV] END C=3, class_weight=balanced, dual=False, fit_intercept=True, max_iter=95, multi_class=auto, penalty=l2, solver=liblinear, tol=0.00067; total time=   0.0s\n",
      "[CV] END C=3, class_weight=balanced, dual=False, fit_intercept=True, max_iter=95, multi_class=auto, penalty=l2, solver=liblinear, tol=0.00067; total time=   0.0s\n",
      "[CV] END C=3, class_weight=balanced, dual=False, fit_intercept=True, max_iter=95, multi_class=auto, penalty=l2, solver=liblinear, tol=0.0007; total time=   0.0s\n",
      "[CV] END C=3, class_weight=balanced, dual=False, fit_intercept=True, max_iter=95, multi_class=auto, penalty=l2, solver=liblinear, tol=0.0007; total time=   0.0s\n",
      "[CV] END C=3, class_weight=balanced, dual=False, fit_intercept=True, max_iter=95, multi_class=auto, penalty=l2, solver=liblinear, tol=0.0007; total time=   0.0s\n",
      "[CV] END C=3, class_weight=balanced, dual=False, fit_intercept=True, max_iter=95, multi_class=auto, penalty=l2, solver=liblinear, tol=0.0006; total time=   0.0s\n",
      "[CV] END C=3, class_weight=balanced, dual=False, fit_intercept=True, max_iter=95, multi_class=auto, penalty=l2, solver=liblinear, tol=0.0006; total time=   0.0s\n",
      "[CV] END C=3, class_weight=balanced, dual=False, fit_intercept=True, max_iter=95, multi_class=auto, penalty=l2, solver=liblinear, tol=0.0006; total time=   0.0s\n",
      "[CV] END C=3, class_weight=balanced, dual=False, fit_intercept=True, max_iter=95, multi_class=auto, penalty=l2, solver=liblinear, tol=0.0005; total time=   0.0s\n",
      "[CV] END C=3, class_weight=balanced, dual=False, fit_intercept=True, max_iter=95, multi_class=auto, penalty=l2, solver=liblinear, tol=0.0005; total time=   0.0s\n",
      "[CV] END C=3, class_weight=balanced, dual=False, fit_intercept=True, max_iter=95, multi_class=auto, penalty=l2, solver=liblinear, tol=0.0005; total time=   0.0s\n",
      "[CV] END C=3, class_weight=balanced, dual=False, fit_intercept=True, max_iter=95, multi_class=auto, penalty=l2, solver=liblinear, tol=0.00062; total time=   0.0s\n",
      "[CV] END C=3, class_weight=balanced, dual=False, fit_intercept=True, max_iter=95, multi_class=auto, penalty=l2, solver=liblinear, tol=0.00062; total time=   0.0s\n",
      "[CV] END C=3, class_weight=balanced, dual=False, fit_intercept=True, max_iter=95, multi_class=auto, penalty=l2, solver=liblinear, tol=0.00062; total time=   0.0s\n",
      "[CV] END C=3, class_weight=balanced, dual=False, fit_intercept=True, max_iter=96, multi_class=auto, penalty=l2, solver=liblinear, tol=0.00067; total time=   0.0s\n",
      "[CV] END C=3, class_weight=balanced, dual=False, fit_intercept=True, max_iter=96, multi_class=auto, penalty=l2, solver=liblinear, tol=0.00067; total time=   0.0s\n",
      "[CV] END C=3, class_weight=balanced, dual=False, fit_intercept=True, max_iter=96, multi_class=auto, penalty=l2, solver=liblinear, tol=0.00067; total time=   0.0s\n",
      "[CV] END C=3, class_weight=balanced, dual=False, fit_intercept=True, max_iter=96, multi_class=auto, penalty=l2, solver=liblinear, tol=0.0007; total time=   0.0s\n",
      "[CV] END C=3, class_weight=balanced, dual=False, fit_intercept=True, max_iter=96, multi_class=auto, penalty=l2, solver=liblinear, tol=0.0007; total time=   0.0s\n",
      "[CV] END C=3, class_weight=balanced, dual=False, fit_intercept=True, max_iter=96, multi_class=auto, penalty=l2, solver=liblinear, tol=0.0007; total time=   0.0s\n",
      "[CV] END C=3, class_weight=balanced, dual=False, fit_intercept=True, max_iter=96, multi_class=auto, penalty=l2, solver=liblinear, tol=0.0006; total time=   0.0s\n",
      "[CV] END C=3, class_weight=balanced, dual=False, fit_intercept=True, max_iter=96, multi_class=auto, penalty=l2, solver=liblinear, tol=0.0006; total time=   0.0s\n",
      "[CV] END C=3, class_weight=balanced, dual=False, fit_intercept=True, max_iter=96, multi_class=auto, penalty=l2, solver=liblinear, tol=0.0006; total time=   0.0s\n",
      "[CV] END C=3, class_weight=balanced, dual=False, fit_intercept=True, max_iter=96, multi_class=auto, penalty=l2, solver=liblinear, tol=0.0005; total time=   0.0s\n",
      "[CV] END C=3, class_weight=balanced, dual=False, fit_intercept=True, max_iter=96, multi_class=auto, penalty=l2, solver=liblinear, tol=0.0005; total time=   0.0s\n",
      "[CV] END C=3, class_weight=balanced, dual=False, fit_intercept=True, max_iter=96, multi_class=auto, penalty=l2, solver=liblinear, tol=0.0005; total time=   0.0s\n"
     ]
    },
    {
     "name": "stdout",
     "output_type": "stream",
     "text": [
      "[CV] END C=3, class_weight=balanced, dual=False, fit_intercept=True, max_iter=96, multi_class=auto, penalty=l2, solver=liblinear, tol=0.00062; total time=   0.0s\n",
      "[CV] END C=3, class_weight=balanced, dual=False, fit_intercept=True, max_iter=96, multi_class=auto, penalty=l2, solver=liblinear, tol=0.00062; total time=   0.0s\n",
      "[CV] END C=3, class_weight=balanced, dual=False, fit_intercept=True, max_iter=96, multi_class=auto, penalty=l2, solver=liblinear, tol=0.00062; total time=   0.0s\n",
      "[CV] END C=3, class_weight=balanced, dual=False, fit_intercept=True, max_iter=91, multi_class=auto, penalty=l2, solver=liblinear, tol=0.00067; total time=   0.0s\n",
      "[CV] END C=3, class_weight=balanced, dual=False, fit_intercept=True, max_iter=91, multi_class=auto, penalty=l2, solver=liblinear, tol=0.00067; total time=   0.0s\n",
      "[CV] END C=3, class_weight=balanced, dual=False, fit_intercept=True, max_iter=91, multi_class=auto, penalty=l2, solver=liblinear, tol=0.00067; total time=   0.0s\n",
      "[CV] END C=3, class_weight=balanced, dual=False, fit_intercept=True, max_iter=91, multi_class=auto, penalty=l2, solver=liblinear, tol=0.0007; total time=   0.0s\n",
      "[CV] END C=3, class_weight=balanced, dual=False, fit_intercept=True, max_iter=91, multi_class=auto, penalty=l2, solver=liblinear, tol=0.0007; total time=   0.0s\n",
      "[CV] END C=3, class_weight=balanced, dual=False, fit_intercept=True, max_iter=91, multi_class=auto, penalty=l2, solver=liblinear, tol=0.0007; total time=   0.0s\n",
      "[CV] END C=3, class_weight=balanced, dual=False, fit_intercept=True, max_iter=91, multi_class=auto, penalty=l2, solver=liblinear, tol=0.0006; total time=   0.0s\n",
      "[CV] END C=3, class_weight=balanced, dual=False, fit_intercept=True, max_iter=91, multi_class=auto, penalty=l2, solver=liblinear, tol=0.0006; total time=   0.0s\n",
      "[CV] END C=3, class_weight=balanced, dual=False, fit_intercept=True, max_iter=91, multi_class=auto, penalty=l2, solver=liblinear, tol=0.0006; total time=   0.0s\n",
      "[CV] END C=3, class_weight=balanced, dual=False, fit_intercept=True, max_iter=91, multi_class=auto, penalty=l2, solver=liblinear, tol=0.0005; total time=   0.0s\n",
      "[CV] END C=3, class_weight=balanced, dual=False, fit_intercept=True, max_iter=91, multi_class=auto, penalty=l2, solver=liblinear, tol=0.0005; total time=   0.0s\n",
      "[CV] END C=3, class_weight=balanced, dual=False, fit_intercept=True, max_iter=91, multi_class=auto, penalty=l2, solver=liblinear, tol=0.0005; total time=   0.0s\n",
      "[CV] END C=3, class_weight=balanced, dual=False, fit_intercept=True, max_iter=91, multi_class=auto, penalty=l2, solver=liblinear, tol=0.00062; total time=   0.0s\n",
      "[CV] END C=3, class_weight=balanced, dual=False, fit_intercept=True, max_iter=91, multi_class=auto, penalty=l2, solver=liblinear, tol=0.00062; total time=   0.0s\n",
      "[CV] END C=3, class_weight=balanced, dual=False, fit_intercept=True, max_iter=91, multi_class=auto, penalty=l2, solver=liblinear, tol=0.00062; total time=   0.0s\n",
      "[CV] END C=3, class_weight=balanced, dual=False, fit_intercept=True, max_iter=98, multi_class=auto, penalty=l2, solver=liblinear, tol=0.00067; total time=   0.0s\n",
      "[CV] END C=3, class_weight=balanced, dual=False, fit_intercept=True, max_iter=98, multi_class=auto, penalty=l2, solver=liblinear, tol=0.00067; total time=   0.0s\n",
      "[CV] END C=3, class_weight=balanced, dual=False, fit_intercept=True, max_iter=98, multi_class=auto, penalty=l2, solver=liblinear, tol=0.00067; total time=   0.0s\n",
      "[CV] END C=3, class_weight=balanced, dual=False, fit_intercept=True, max_iter=98, multi_class=auto, penalty=l2, solver=liblinear, tol=0.0007; total time=   0.0s\n",
      "[CV] END C=3, class_weight=balanced, dual=False, fit_intercept=True, max_iter=98, multi_class=auto, penalty=l2, solver=liblinear, tol=0.0007; total time=   0.0s\n",
      "[CV] END C=3, class_weight=balanced, dual=False, fit_intercept=True, max_iter=98, multi_class=auto, penalty=l2, solver=liblinear, tol=0.0007; total time=   0.0s\n",
      "[CV] END C=3, class_weight=balanced, dual=False, fit_intercept=True, max_iter=98, multi_class=auto, penalty=l2, solver=liblinear, tol=0.0006; total time=   0.0s\n",
      "[CV] END C=3, class_weight=balanced, dual=False, fit_intercept=True, max_iter=98, multi_class=auto, penalty=l2, solver=liblinear, tol=0.0006; total time=   0.0s\n",
      "[CV] END C=3, class_weight=balanced, dual=False, fit_intercept=True, max_iter=98, multi_class=auto, penalty=l2, solver=liblinear, tol=0.0006; total time=   0.0s\n",
      "[CV] END C=3, class_weight=balanced, dual=False, fit_intercept=True, max_iter=98, multi_class=auto, penalty=l2, solver=liblinear, tol=0.0005; total time=   0.0s\n",
      "[CV] END C=3, class_weight=balanced, dual=False, fit_intercept=True, max_iter=98, multi_class=auto, penalty=l2, solver=liblinear, tol=0.0005; total time=   0.0s\n",
      "[CV] END C=3, class_weight=balanced, dual=False, fit_intercept=True, max_iter=98, multi_class=auto, penalty=l2, solver=liblinear, tol=0.0005; total time=   0.0s\n",
      "[CV] END C=3, class_weight=balanced, dual=False, fit_intercept=True, max_iter=98, multi_class=auto, penalty=l2, solver=liblinear, tol=0.00062; total time=   0.0s\n",
      "[CV] END C=3, class_weight=balanced, dual=False, fit_intercept=True, max_iter=98, multi_class=auto, penalty=l2, solver=liblinear, tol=0.00062; total time=   0.0s\n",
      "[CV] END C=3, class_weight=balanced, dual=False, fit_intercept=True, max_iter=98, multi_class=auto, penalty=l2, solver=liblinear, tol=0.00062; total time=   0.0s\n",
      "[CV] END C=3, class_weight=balanced, dual=False, fit_intercept=True, max_iter=97, multi_class=auto, penalty=l2, solver=liblinear, tol=0.00067; total time=   0.0s\n",
      "[CV] END C=3, class_weight=balanced, dual=False, fit_intercept=True, max_iter=97, multi_class=auto, penalty=l2, solver=liblinear, tol=0.00067; total time=   0.0s\n",
      "[CV] END C=3, class_weight=balanced, dual=False, fit_intercept=True, max_iter=97, multi_class=auto, penalty=l2, solver=liblinear, tol=0.00067; total time=   0.0s\n",
      "[CV] END C=3, class_weight=balanced, dual=False, fit_intercept=True, max_iter=97, multi_class=auto, penalty=l2, solver=liblinear, tol=0.0007; total time=   0.0s\n",
      "[CV] END C=3, class_weight=balanced, dual=False, fit_intercept=True, max_iter=97, multi_class=auto, penalty=l2, solver=liblinear, tol=0.0007; total time=   0.0s\n",
      "[CV] END C=3, class_weight=balanced, dual=False, fit_intercept=True, max_iter=97, multi_class=auto, penalty=l2, solver=liblinear, tol=0.0007; total time=   0.0s\n",
      "[CV] END C=3, class_weight=balanced, dual=False, fit_intercept=True, max_iter=97, multi_class=auto, penalty=l2, solver=liblinear, tol=0.0006; total time=   0.0s\n",
      "[CV] END C=3, class_weight=balanced, dual=False, fit_intercept=True, max_iter=97, multi_class=auto, penalty=l2, solver=liblinear, tol=0.0006; total time=   0.0s\n",
      "[CV] END C=3, class_weight=balanced, dual=False, fit_intercept=True, max_iter=97, multi_class=auto, penalty=l2, solver=liblinear, tol=0.0006; total time=   0.0s\n",
      "[CV] END C=3, class_weight=balanced, dual=False, fit_intercept=True, max_iter=97, multi_class=auto, penalty=l2, solver=liblinear, tol=0.0005; total time=   0.0s\n",
      "[CV] END C=3, class_weight=balanced, dual=False, fit_intercept=True, max_iter=97, multi_class=auto, penalty=l2, solver=liblinear, tol=0.0005; total time=   0.0s\n",
      "[CV] END C=3, class_weight=balanced, dual=False, fit_intercept=True, max_iter=97, multi_class=auto, penalty=l2, solver=liblinear, tol=0.0005; total time=   0.0s\n",
      "[CV] END C=3, class_weight=balanced, dual=False, fit_intercept=True, max_iter=97, multi_class=auto, penalty=l2, solver=liblinear, tol=0.00062; total time=   0.0s\n",
      "[CV] END C=3, class_weight=balanced, dual=False, fit_intercept=True, max_iter=97, multi_class=auto, penalty=l2, solver=liblinear, tol=0.00062; total time=   0.0s\n",
      "[CV] END C=3, class_weight=balanced, dual=False, fit_intercept=True, max_iter=97, multi_class=auto, penalty=l2, solver=liblinear, tol=0.00062; total time=   0.0s\n"
     ]
    },
    {
     "data": {
      "text/plain": [
       "GridSearchCV(cv=3, estimator=LogisticRegression(),\n",
       "             param_grid={'C': [8, 9, 10, 7, 6, 5, 4, 11, 3],\n",
       "                         'class_weight': ['balanced'], 'dual': [False],\n",
       "                         'fit_intercept': [True],\n",
       "                         'max_iter': [94, 93, 92, 95, 96, 91, 98, 97],\n",
       "                         'multi_class': ['auto'], 'penalty': ['l2'],\n",
       "                         'solver': ['liblinear'],\n",
       "                         'tol': [0.00067, 0.0007, 0.0006, 0.0005, 0.00062]},\n",
       "             verbose=2)"
      ]
     },
     "execution_count": 183,
     "metadata": {},
     "output_type": "execute_result"
    }
   ],
   "source": [
    "from sklearn.model_selection import GridSearchCV\n",
    "model_GSCV = GridSearchCV(estimator=lr,param_grid=param_grid,cv=3,verbose=2)\n",
    "model_GSCV.fit(x,Y)"
   ]
  },
  {
   "cell_type": "code",
   "execution_count": 184,
   "id": "79e7b2fb",
   "metadata": {},
   "outputs": [
    {
     "data": {
      "text/plain": [
       "{'tol': 0.00067,\n",
       " 'solver': 'liblinear',\n",
       " 'penalty': 'l2',\n",
       " 'multi_class': 'auto',\n",
       " 'max_iter': 94,\n",
       " 'fit_intercept': True,\n",
       " 'dual': False,\n",
       " 'class_weight': 'balanced',\n",
       " 'C': 7.95918367346939}"
      ]
     },
     "execution_count": 184,
     "metadata": {},
     "output_type": "execute_result"
    }
   ],
   "source": [
    "model_RSCV.best_params_"
   ]
  },
  {
   "cell_type": "code",
   "execution_count": 185,
   "id": "51c07dc1",
   "metadata": {},
   "outputs": [
    {
     "data": {
      "text/plain": [
       "{'C': 9,\n",
       " 'class_weight': 'balanced',\n",
       " 'dual': False,\n",
       " 'fit_intercept': True,\n",
       " 'max_iter': 94,\n",
       " 'multi_class': 'auto',\n",
       " 'penalty': 'l2',\n",
       " 'solver': 'liblinear',\n",
       " 'tol': 0.00067}"
      ]
     },
     "execution_count": 185,
     "metadata": {},
     "output_type": "execute_result"
    }
   ],
   "source": [
    "model_GSCV.best_params_"
   ]
  },
  {
   "cell_type": "code",
   "execution_count": 186,
   "id": "76e325a5",
   "metadata": {},
   "outputs": [
    {
     "name": "stdout",
     "output_type": "stream",
     "text": [
      "Fitting 3 folds for each of 360 candidates, totalling 1080 fits\n",
      "[CV] END C=8, class_weight=balanced, dual=False, fit_intercept=True, max_iter=94, multi_class=auto, penalty=l2, solver=liblinear, tol=0.00067; total time=   0.0s\n",
      "[CV] END C=8, class_weight=balanced, dual=False, fit_intercept=True, max_iter=94, multi_class=auto, penalty=l2, solver=liblinear, tol=0.00067; total time=   0.0s\n",
      "[CV] END C=8, class_weight=balanced, dual=False, fit_intercept=True, max_iter=94, multi_class=auto, penalty=l2, solver=liblinear, tol=0.00067; total time=   0.0s\n",
      "[CV] END C=8, class_weight=balanced, dual=False, fit_intercept=True, max_iter=94, multi_class=auto, penalty=l2, solver=liblinear, tol=0.0007; total time=   0.0s\n",
      "[CV] END C=8, class_weight=balanced, dual=False, fit_intercept=True, max_iter=94, multi_class=auto, penalty=l2, solver=liblinear, tol=0.0007; total time=   0.0s\n",
      "[CV] END C=8, class_weight=balanced, dual=False, fit_intercept=True, max_iter=94, multi_class=auto, penalty=l2, solver=liblinear, tol=0.0007; total time=   0.0s\n",
      "[CV] END C=8, class_weight=balanced, dual=False, fit_intercept=True, max_iter=94, multi_class=auto, penalty=l2, solver=liblinear, tol=0.0006; total time=   0.0s\n",
      "[CV] END C=8, class_weight=balanced, dual=False, fit_intercept=True, max_iter=94, multi_class=auto, penalty=l2, solver=liblinear, tol=0.0006; total time=   0.0s\n",
      "[CV] END C=8, class_weight=balanced, dual=False, fit_intercept=True, max_iter=94, multi_class=auto, penalty=l2, solver=liblinear, tol=0.0006; total time=   0.0s\n",
      "[CV] END C=8, class_weight=balanced, dual=False, fit_intercept=True, max_iter=94, multi_class=auto, penalty=l2, solver=liblinear, tol=0.0005; total time=   0.0s\n",
      "[CV] END C=8, class_weight=balanced, dual=False, fit_intercept=True, max_iter=94, multi_class=auto, penalty=l2, solver=liblinear, tol=0.0005; total time=   0.0s\n",
      "[CV] END C=8, class_weight=balanced, dual=False, fit_intercept=True, max_iter=94, multi_class=auto, penalty=l2, solver=liblinear, tol=0.0005; total time=   0.0s\n",
      "[CV] END C=8, class_weight=balanced, dual=False, fit_intercept=True, max_iter=94, multi_class=auto, penalty=l2, solver=liblinear, tol=0.00062; total time=   0.0s\n",
      "[CV] END C=8, class_weight=balanced, dual=False, fit_intercept=True, max_iter=94, multi_class=auto, penalty=l2, solver=liblinear, tol=0.00062; total time=   0.0s\n",
      "[CV] END C=8, class_weight=balanced, dual=False, fit_intercept=True, max_iter=94, multi_class=auto, penalty=l2, solver=liblinear, tol=0.00062; total time=   0.0s\n",
      "[CV] END C=8, class_weight=balanced, dual=False, fit_intercept=True, max_iter=93, multi_class=auto, penalty=l2, solver=liblinear, tol=0.00067; total time=   0.0s\n",
      "[CV] END C=8, class_weight=balanced, dual=False, fit_intercept=True, max_iter=93, multi_class=auto, penalty=l2, solver=liblinear, tol=0.00067; total time=   0.0s\n",
      "[CV] END C=8, class_weight=balanced, dual=False, fit_intercept=True, max_iter=93, multi_class=auto, penalty=l2, solver=liblinear, tol=0.00067; total time=   0.0s\n",
      "[CV] END C=8, class_weight=balanced, dual=False, fit_intercept=True, max_iter=93, multi_class=auto, penalty=l2, solver=liblinear, tol=0.0007; total time=   0.0s\n",
      "[CV] END C=8, class_weight=balanced, dual=False, fit_intercept=True, max_iter=93, multi_class=auto, penalty=l2, solver=liblinear, tol=0.0007; total time=   0.0s\n",
      "[CV] END C=8, class_weight=balanced, dual=False, fit_intercept=True, max_iter=93, multi_class=auto, penalty=l2, solver=liblinear, tol=0.0007; total time=   0.0s\n",
      "[CV] END C=8, class_weight=balanced, dual=False, fit_intercept=True, max_iter=93, multi_class=auto, penalty=l2, solver=liblinear, tol=0.0006; total time=   0.0s\n",
      "[CV] END C=8, class_weight=balanced, dual=False, fit_intercept=True, max_iter=93, multi_class=auto, penalty=l2, solver=liblinear, tol=0.0006; total time=   0.0s\n",
      "[CV] END C=8, class_weight=balanced, dual=False, fit_intercept=True, max_iter=93, multi_class=auto, penalty=l2, solver=liblinear, tol=0.0006; total time=   0.0s\n",
      "[CV] END C=8, class_weight=balanced, dual=False, fit_intercept=True, max_iter=93, multi_class=auto, penalty=l2, solver=liblinear, tol=0.0005; total time=   0.0s\n",
      "[CV] END C=8, class_weight=balanced, dual=False, fit_intercept=True, max_iter=93, multi_class=auto, penalty=l2, solver=liblinear, tol=0.0005; total time=   0.0s\n",
      "[CV] END C=8, class_weight=balanced, dual=False, fit_intercept=True, max_iter=93, multi_class=auto, penalty=l2, solver=liblinear, tol=0.0005; total time=   0.0s\n",
      "[CV] END C=8, class_weight=balanced, dual=False, fit_intercept=True, max_iter=93, multi_class=auto, penalty=l2, solver=liblinear, tol=0.00062; total time=   0.0s\n",
      "[CV] END C=8, class_weight=balanced, dual=False, fit_intercept=True, max_iter=93, multi_class=auto, penalty=l2, solver=liblinear, tol=0.00062; total time=   0.0s\n",
      "[CV] END C=8, class_weight=balanced, dual=False, fit_intercept=True, max_iter=93, multi_class=auto, penalty=l2, solver=liblinear, tol=0.00062; total time=   0.0s\n",
      "[CV] END C=8, class_weight=balanced, dual=False, fit_intercept=True, max_iter=92, multi_class=auto, penalty=l2, solver=liblinear, tol=0.00067; total time=   0.0s\n",
      "[CV] END C=8, class_weight=balanced, dual=False, fit_intercept=True, max_iter=92, multi_class=auto, penalty=l2, solver=liblinear, tol=0.00067; total time=   0.0s\n",
      "[CV] END C=8, class_weight=balanced, dual=False, fit_intercept=True, max_iter=92, multi_class=auto, penalty=l2, solver=liblinear, tol=0.00067; total time=   0.0s\n",
      "[CV] END C=8, class_weight=balanced, dual=False, fit_intercept=True, max_iter=92, multi_class=auto, penalty=l2, solver=liblinear, tol=0.0007; total time=   0.0s\n",
      "[CV] END C=8, class_weight=balanced, dual=False, fit_intercept=True, max_iter=92, multi_class=auto, penalty=l2, solver=liblinear, tol=0.0007; total time=   0.0s\n",
      "[CV] END C=8, class_weight=balanced, dual=False, fit_intercept=True, max_iter=92, multi_class=auto, penalty=l2, solver=liblinear, tol=0.0007; total time=   0.0s\n",
      "[CV] END C=8, class_weight=balanced, dual=False, fit_intercept=True, max_iter=92, multi_class=auto, penalty=l2, solver=liblinear, tol=0.0006; total time=   0.0s\n",
      "[CV] END C=8, class_weight=balanced, dual=False, fit_intercept=True, max_iter=92, multi_class=auto, penalty=l2, solver=liblinear, tol=0.0006; total time=   0.0s\n",
      "[CV] END C=8, class_weight=balanced, dual=False, fit_intercept=True, max_iter=92, multi_class=auto, penalty=l2, solver=liblinear, tol=0.0006; total time=   0.0s\n",
      "[CV] END C=8, class_weight=balanced, dual=False, fit_intercept=True, max_iter=92, multi_class=auto, penalty=l2, solver=liblinear, tol=0.0005; total time=   0.0s\n",
      "[CV] END C=8, class_weight=balanced, dual=False, fit_intercept=True, max_iter=92, multi_class=auto, penalty=l2, solver=liblinear, tol=0.0005; total time=   0.0s\n",
      "[CV] END C=8, class_weight=balanced, dual=False, fit_intercept=True, max_iter=92, multi_class=auto, penalty=l2, solver=liblinear, tol=0.0005; total time=   0.0s\n",
      "[CV] END C=8, class_weight=balanced, dual=False, fit_intercept=True, max_iter=92, multi_class=auto, penalty=l2, solver=liblinear, tol=0.00062; total time=   0.0s\n",
      "[CV] END C=8, class_weight=balanced, dual=False, fit_intercept=True, max_iter=92, multi_class=auto, penalty=l2, solver=liblinear, tol=0.00062; total time=   0.0s\n",
      "[CV] END C=8, class_weight=balanced, dual=False, fit_intercept=True, max_iter=92, multi_class=auto, penalty=l2, solver=liblinear, tol=0.00062; total time=   0.0s\n",
      "[CV] END C=8, class_weight=balanced, dual=False, fit_intercept=True, max_iter=95, multi_class=auto, penalty=l2, solver=liblinear, tol=0.00067; total time=   0.0s\n",
      "[CV] END C=8, class_weight=balanced, dual=False, fit_intercept=True, max_iter=95, multi_class=auto, penalty=l2, solver=liblinear, tol=0.00067; total time=   0.0s\n",
      "[CV] END C=8, class_weight=balanced, dual=False, fit_intercept=True, max_iter=95, multi_class=auto, penalty=l2, solver=liblinear, tol=0.00067; total time=   0.0s\n",
      "[CV] END C=8, class_weight=balanced, dual=False, fit_intercept=True, max_iter=95, multi_class=auto, penalty=l2, solver=liblinear, tol=0.0007; total time=   0.0s\n",
      "[CV] END C=8, class_weight=balanced, dual=False, fit_intercept=True, max_iter=95, multi_class=auto, penalty=l2, solver=liblinear, tol=0.0007; total time=   0.0s\n",
      "[CV] END C=8, class_weight=balanced, dual=False, fit_intercept=True, max_iter=95, multi_class=auto, penalty=l2, solver=liblinear, tol=0.0007; total time=   0.0s\n",
      "[CV] END C=8, class_weight=balanced, dual=False, fit_intercept=True, max_iter=95, multi_class=auto, penalty=l2, solver=liblinear, tol=0.0006; total time=   0.0s\n",
      "[CV] END C=8, class_weight=balanced, dual=False, fit_intercept=True, max_iter=95, multi_class=auto, penalty=l2, solver=liblinear, tol=0.0006; total time=   0.0s\n",
      "[CV] END C=8, class_weight=balanced, dual=False, fit_intercept=True, max_iter=95, multi_class=auto, penalty=l2, solver=liblinear, tol=0.0006; total time=   0.0s\n",
      "[CV] END C=8, class_weight=balanced, dual=False, fit_intercept=True, max_iter=95, multi_class=auto, penalty=l2, solver=liblinear, tol=0.0005; total time=   0.0s\n",
      "[CV] END C=8, class_weight=balanced, dual=False, fit_intercept=True, max_iter=95, multi_class=auto, penalty=l2, solver=liblinear, tol=0.0005; total time=   0.0s\n",
      "[CV] END C=8, class_weight=balanced, dual=False, fit_intercept=True, max_iter=95, multi_class=auto, penalty=l2, solver=liblinear, tol=0.0005; total time=   0.0s\n",
      "[CV] END C=8, class_weight=balanced, dual=False, fit_intercept=True, max_iter=95, multi_class=auto, penalty=l2, solver=liblinear, tol=0.00062; total time=   0.0s\n",
      "[CV] END C=8, class_weight=balanced, dual=False, fit_intercept=True, max_iter=95, multi_class=auto, penalty=l2, solver=liblinear, tol=0.00062; total time=   0.0s\n",
      "[CV] END C=8, class_weight=balanced, dual=False, fit_intercept=True, max_iter=95, multi_class=auto, penalty=l2, solver=liblinear, tol=0.00062; total time=   0.0s\n",
      "[CV] END C=8, class_weight=balanced, dual=False, fit_intercept=True, max_iter=96, multi_class=auto, penalty=l2, solver=liblinear, tol=0.00067; total time=   0.0s\n",
      "[CV] END C=8, class_weight=balanced, dual=False, fit_intercept=True, max_iter=96, multi_class=auto, penalty=l2, solver=liblinear, tol=0.00067; total time=   0.0s\n",
      "[CV] END C=8, class_weight=balanced, dual=False, fit_intercept=True, max_iter=96, multi_class=auto, penalty=l2, solver=liblinear, tol=0.00067; total time=   0.0s\n",
      "[CV] END C=8, class_weight=balanced, dual=False, fit_intercept=True, max_iter=96, multi_class=auto, penalty=l2, solver=liblinear, tol=0.0007; total time=   0.0s\n",
      "[CV] END C=8, class_weight=balanced, dual=False, fit_intercept=True, max_iter=96, multi_class=auto, penalty=l2, solver=liblinear, tol=0.0007; total time=   0.0s\n",
      "[CV] END C=8, class_weight=balanced, dual=False, fit_intercept=True, max_iter=96, multi_class=auto, penalty=l2, solver=liblinear, tol=0.0007; total time=   0.0s\n",
      "[CV] END C=8, class_weight=balanced, dual=False, fit_intercept=True, max_iter=96, multi_class=auto, penalty=l2, solver=liblinear, tol=0.0006; total time=   0.0s\n",
      "[CV] END C=8, class_weight=balanced, dual=False, fit_intercept=True, max_iter=96, multi_class=auto, penalty=l2, solver=liblinear, tol=0.0006; total time=   0.0s\n",
      "[CV] END C=8, class_weight=balanced, dual=False, fit_intercept=True, max_iter=96, multi_class=auto, penalty=l2, solver=liblinear, tol=0.0006; total time=   0.0s\n",
      "[CV] END C=8, class_weight=balanced, dual=False, fit_intercept=True, max_iter=96, multi_class=auto, penalty=l2, solver=liblinear, tol=0.0005; total time=   0.0s\n",
      "[CV] END C=8, class_weight=balanced, dual=False, fit_intercept=True, max_iter=96, multi_class=auto, penalty=l2, solver=liblinear, tol=0.0005; total time=   0.0s\n",
      "[CV] END C=8, class_weight=balanced, dual=False, fit_intercept=True, max_iter=96, multi_class=auto, penalty=l2, solver=liblinear, tol=0.0005; total time=   0.0s\n",
      "[CV] END C=8, class_weight=balanced, dual=False, fit_intercept=True, max_iter=96, multi_class=auto, penalty=l2, solver=liblinear, tol=0.00062; total time=   0.0s\n",
      "[CV] END C=8, class_weight=balanced, dual=False, fit_intercept=True, max_iter=96, multi_class=auto, penalty=l2, solver=liblinear, tol=0.00062; total time=   0.0s\n",
      "[CV] END C=8, class_weight=balanced, dual=False, fit_intercept=True, max_iter=96, multi_class=auto, penalty=l2, solver=liblinear, tol=0.00062; total time=   0.0s\n",
      "[CV] END C=8, class_weight=balanced, dual=False, fit_intercept=True, max_iter=91, multi_class=auto, penalty=l2, solver=liblinear, tol=0.00067; total time=   0.0s\n",
      "[CV] END C=8, class_weight=balanced, dual=False, fit_intercept=True, max_iter=91, multi_class=auto, penalty=l2, solver=liblinear, tol=0.00067; total time=   0.0s\n",
      "[CV] END C=8, class_weight=balanced, dual=False, fit_intercept=True, max_iter=91, multi_class=auto, penalty=l2, solver=liblinear, tol=0.00067; total time=   0.0s\n",
      "[CV] END C=8, class_weight=balanced, dual=False, fit_intercept=True, max_iter=91, multi_class=auto, penalty=l2, solver=liblinear, tol=0.0007; total time=   0.0s\n",
      "[CV] END C=8, class_weight=balanced, dual=False, fit_intercept=True, max_iter=91, multi_class=auto, penalty=l2, solver=liblinear, tol=0.0007; total time=   0.0s\n"
     ]
    },
    {
     "name": "stdout",
     "output_type": "stream",
     "text": [
      "[CV] END C=8, class_weight=balanced, dual=False, fit_intercept=True, max_iter=91, multi_class=auto, penalty=l2, solver=liblinear, tol=0.0007; total time=   0.0s\n",
      "[CV] END C=8, class_weight=balanced, dual=False, fit_intercept=True, max_iter=91, multi_class=auto, penalty=l2, solver=liblinear, tol=0.0006; total time=   0.0s\n",
      "[CV] END C=8, class_weight=balanced, dual=False, fit_intercept=True, max_iter=91, multi_class=auto, penalty=l2, solver=liblinear, tol=0.0006; total time=   0.0s\n",
      "[CV] END C=8, class_weight=balanced, dual=False, fit_intercept=True, max_iter=91, multi_class=auto, penalty=l2, solver=liblinear, tol=0.0006; total time=   0.0s\n",
      "[CV] END C=8, class_weight=balanced, dual=False, fit_intercept=True, max_iter=91, multi_class=auto, penalty=l2, solver=liblinear, tol=0.0005; total time=   0.0s\n",
      "[CV] END C=8, class_weight=balanced, dual=False, fit_intercept=True, max_iter=91, multi_class=auto, penalty=l2, solver=liblinear, tol=0.0005; total time=   0.0s\n",
      "[CV] END C=8, class_weight=balanced, dual=False, fit_intercept=True, max_iter=91, multi_class=auto, penalty=l2, solver=liblinear, tol=0.0005; total time=   0.0s\n",
      "[CV] END C=8, class_weight=balanced, dual=False, fit_intercept=True, max_iter=91, multi_class=auto, penalty=l2, solver=liblinear, tol=0.00062; total time=   0.0s\n",
      "[CV] END C=8, class_weight=balanced, dual=False, fit_intercept=True, max_iter=91, multi_class=auto, penalty=l2, solver=liblinear, tol=0.00062; total time=   0.0s\n",
      "[CV] END C=8, class_weight=balanced, dual=False, fit_intercept=True, max_iter=91, multi_class=auto, penalty=l2, solver=liblinear, tol=0.00062; total time=   0.0s\n",
      "[CV] END C=8, class_weight=balanced, dual=False, fit_intercept=True, max_iter=98, multi_class=auto, penalty=l2, solver=liblinear, tol=0.00067; total time=   0.0s\n",
      "[CV] END C=8, class_weight=balanced, dual=False, fit_intercept=True, max_iter=98, multi_class=auto, penalty=l2, solver=liblinear, tol=0.00067; total time=   0.0s\n",
      "[CV] END C=8, class_weight=balanced, dual=False, fit_intercept=True, max_iter=98, multi_class=auto, penalty=l2, solver=liblinear, tol=0.00067; total time=   0.0s\n",
      "[CV] END C=8, class_weight=balanced, dual=False, fit_intercept=True, max_iter=98, multi_class=auto, penalty=l2, solver=liblinear, tol=0.0007; total time=   0.0s\n",
      "[CV] END C=8, class_weight=balanced, dual=False, fit_intercept=True, max_iter=98, multi_class=auto, penalty=l2, solver=liblinear, tol=0.0007; total time=   0.0s\n",
      "[CV] END C=8, class_weight=balanced, dual=False, fit_intercept=True, max_iter=98, multi_class=auto, penalty=l2, solver=liblinear, tol=0.0007; total time=   0.0s\n",
      "[CV] END C=8, class_weight=balanced, dual=False, fit_intercept=True, max_iter=98, multi_class=auto, penalty=l2, solver=liblinear, tol=0.0006; total time=   0.0s\n",
      "[CV] END C=8, class_weight=balanced, dual=False, fit_intercept=True, max_iter=98, multi_class=auto, penalty=l2, solver=liblinear, tol=0.0006; total time=   0.0s\n",
      "[CV] END C=8, class_weight=balanced, dual=False, fit_intercept=True, max_iter=98, multi_class=auto, penalty=l2, solver=liblinear, tol=0.0006; total time=   0.0s\n",
      "[CV] END C=8, class_weight=balanced, dual=False, fit_intercept=True, max_iter=98, multi_class=auto, penalty=l2, solver=liblinear, tol=0.0005; total time=   0.0s\n",
      "[CV] END C=8, class_weight=balanced, dual=False, fit_intercept=True, max_iter=98, multi_class=auto, penalty=l2, solver=liblinear, tol=0.0005; total time=   0.0s\n",
      "[CV] END C=8, class_weight=balanced, dual=False, fit_intercept=True, max_iter=98, multi_class=auto, penalty=l2, solver=liblinear, tol=0.0005; total time=   0.0s\n",
      "[CV] END C=8, class_weight=balanced, dual=False, fit_intercept=True, max_iter=98, multi_class=auto, penalty=l2, solver=liblinear, tol=0.00062; total time=   0.0s\n",
      "[CV] END C=8, class_weight=balanced, dual=False, fit_intercept=True, max_iter=98, multi_class=auto, penalty=l2, solver=liblinear, tol=0.00062; total time=   0.0s\n",
      "[CV] END C=8, class_weight=balanced, dual=False, fit_intercept=True, max_iter=98, multi_class=auto, penalty=l2, solver=liblinear, tol=0.00062; total time=   0.0s\n",
      "[CV] END C=8, class_weight=balanced, dual=False, fit_intercept=True, max_iter=97, multi_class=auto, penalty=l2, solver=liblinear, tol=0.00067; total time=   0.0s\n",
      "[CV] END C=8, class_weight=balanced, dual=False, fit_intercept=True, max_iter=97, multi_class=auto, penalty=l2, solver=liblinear, tol=0.00067; total time=   0.0s\n",
      "[CV] END C=8, class_weight=balanced, dual=False, fit_intercept=True, max_iter=97, multi_class=auto, penalty=l2, solver=liblinear, tol=0.00067; total time=   0.0s\n",
      "[CV] END C=8, class_weight=balanced, dual=False, fit_intercept=True, max_iter=97, multi_class=auto, penalty=l2, solver=liblinear, tol=0.0007; total time=   0.0s\n",
      "[CV] END C=8, class_weight=balanced, dual=False, fit_intercept=True, max_iter=97, multi_class=auto, penalty=l2, solver=liblinear, tol=0.0007; total time=   0.0s\n",
      "[CV] END C=8, class_weight=balanced, dual=False, fit_intercept=True, max_iter=97, multi_class=auto, penalty=l2, solver=liblinear, tol=0.0007; total time=   0.0s\n",
      "[CV] END C=8, class_weight=balanced, dual=False, fit_intercept=True, max_iter=97, multi_class=auto, penalty=l2, solver=liblinear, tol=0.0006; total time=   0.0s\n",
      "[CV] END C=8, class_weight=balanced, dual=False, fit_intercept=True, max_iter=97, multi_class=auto, penalty=l2, solver=liblinear, tol=0.0006; total time=   0.0s\n",
      "[CV] END C=8, class_weight=balanced, dual=False, fit_intercept=True, max_iter=97, multi_class=auto, penalty=l2, solver=liblinear, tol=0.0006; total time=   0.0s\n",
      "[CV] END C=8, class_weight=balanced, dual=False, fit_intercept=True, max_iter=97, multi_class=auto, penalty=l2, solver=liblinear, tol=0.0005; total time=   0.0s\n",
      "[CV] END C=8, class_weight=balanced, dual=False, fit_intercept=True, max_iter=97, multi_class=auto, penalty=l2, solver=liblinear, tol=0.0005; total time=   0.0s\n",
      "[CV] END C=8, class_weight=balanced, dual=False, fit_intercept=True, max_iter=97, multi_class=auto, penalty=l2, solver=liblinear, tol=0.0005; total time=   0.0s\n",
      "[CV] END C=8, class_weight=balanced, dual=False, fit_intercept=True, max_iter=97, multi_class=auto, penalty=l2, solver=liblinear, tol=0.00062; total time=   0.0s\n",
      "[CV] END C=8, class_weight=balanced, dual=False, fit_intercept=True, max_iter=97, multi_class=auto, penalty=l2, solver=liblinear, tol=0.00062; total time=   0.0s\n",
      "[CV] END C=8, class_weight=balanced, dual=False, fit_intercept=True, max_iter=97, multi_class=auto, penalty=l2, solver=liblinear, tol=0.00062; total time=   0.0s\n",
      "[CV] END C=9, class_weight=balanced, dual=False, fit_intercept=True, max_iter=94, multi_class=auto, penalty=l2, solver=liblinear, tol=0.00067; total time=   0.0s\n",
      "[CV] END C=9, class_weight=balanced, dual=False, fit_intercept=True, max_iter=94, multi_class=auto, penalty=l2, solver=liblinear, tol=0.00067; total time=   0.0s\n",
      "[CV] END C=9, class_weight=balanced, dual=False, fit_intercept=True, max_iter=94, multi_class=auto, penalty=l2, solver=liblinear, tol=0.00067; total time=   0.0s\n",
      "[CV] END C=9, class_weight=balanced, dual=False, fit_intercept=True, max_iter=94, multi_class=auto, penalty=l2, solver=liblinear, tol=0.0007; total time=   0.0s\n",
      "[CV] END C=9, class_weight=balanced, dual=False, fit_intercept=True, max_iter=94, multi_class=auto, penalty=l2, solver=liblinear, tol=0.0007; total time=   0.0s\n",
      "[CV] END C=9, class_weight=balanced, dual=False, fit_intercept=True, max_iter=94, multi_class=auto, penalty=l2, solver=liblinear, tol=0.0007; total time=   0.0s\n",
      "[CV] END C=9, class_weight=balanced, dual=False, fit_intercept=True, max_iter=94, multi_class=auto, penalty=l2, solver=liblinear, tol=0.0006; total time=   0.0s\n",
      "[CV] END C=9, class_weight=balanced, dual=False, fit_intercept=True, max_iter=94, multi_class=auto, penalty=l2, solver=liblinear, tol=0.0006; total time=   0.0s\n",
      "[CV] END C=9, class_weight=balanced, dual=False, fit_intercept=True, max_iter=94, multi_class=auto, penalty=l2, solver=liblinear, tol=0.0006; total time=   0.0s\n",
      "[CV] END C=9, class_weight=balanced, dual=False, fit_intercept=True, max_iter=94, multi_class=auto, penalty=l2, solver=liblinear, tol=0.0005; total time=   0.0s\n",
      "[CV] END C=9, class_weight=balanced, dual=False, fit_intercept=True, max_iter=94, multi_class=auto, penalty=l2, solver=liblinear, tol=0.0005; total time=   0.0s\n",
      "[CV] END C=9, class_weight=balanced, dual=False, fit_intercept=True, max_iter=94, multi_class=auto, penalty=l2, solver=liblinear, tol=0.0005; total time=   0.0s\n",
      "[CV] END C=9, class_weight=balanced, dual=False, fit_intercept=True, max_iter=94, multi_class=auto, penalty=l2, solver=liblinear, tol=0.00062; total time=   0.0s\n",
      "[CV] END C=9, class_weight=balanced, dual=False, fit_intercept=True, max_iter=94, multi_class=auto, penalty=l2, solver=liblinear, tol=0.00062; total time=   0.0s\n",
      "[CV] END C=9, class_weight=balanced, dual=False, fit_intercept=True, max_iter=94, multi_class=auto, penalty=l2, solver=liblinear, tol=0.00062; total time=   0.0s\n",
      "[CV] END C=9, class_weight=balanced, dual=False, fit_intercept=True, max_iter=93, multi_class=auto, penalty=l2, solver=liblinear, tol=0.00067; total time=   0.0s\n",
      "[CV] END C=9, class_weight=balanced, dual=False, fit_intercept=True, max_iter=93, multi_class=auto, penalty=l2, solver=liblinear, tol=0.00067; total time=   0.0s\n",
      "[CV] END C=9, class_weight=balanced, dual=False, fit_intercept=True, max_iter=93, multi_class=auto, penalty=l2, solver=liblinear, tol=0.00067; total time=   0.0s\n",
      "[CV] END C=9, class_weight=balanced, dual=False, fit_intercept=True, max_iter=93, multi_class=auto, penalty=l2, solver=liblinear, tol=0.0007; total time=   0.0s\n",
      "[CV] END C=9, class_weight=balanced, dual=False, fit_intercept=True, max_iter=93, multi_class=auto, penalty=l2, solver=liblinear, tol=0.0007; total time=   0.0s\n",
      "[CV] END C=9, class_weight=balanced, dual=False, fit_intercept=True, max_iter=93, multi_class=auto, penalty=l2, solver=liblinear, tol=0.0007; total time=   0.0s\n",
      "[CV] END C=9, class_weight=balanced, dual=False, fit_intercept=True, max_iter=93, multi_class=auto, penalty=l2, solver=liblinear, tol=0.0006; total time=   0.0s\n",
      "[CV] END C=9, class_weight=balanced, dual=False, fit_intercept=True, max_iter=93, multi_class=auto, penalty=l2, solver=liblinear, tol=0.0006; total time=   0.0s\n",
      "[CV] END C=9, class_weight=balanced, dual=False, fit_intercept=True, max_iter=93, multi_class=auto, penalty=l2, solver=liblinear, tol=0.0006; total time=   0.0s\n",
      "[CV] END C=9, class_weight=balanced, dual=False, fit_intercept=True, max_iter=93, multi_class=auto, penalty=l2, solver=liblinear, tol=0.0005; total time=   0.0s\n",
      "[CV] END C=9, class_weight=balanced, dual=False, fit_intercept=True, max_iter=93, multi_class=auto, penalty=l2, solver=liblinear, tol=0.0005; total time=   0.0s\n",
      "[CV] END C=9, class_weight=balanced, dual=False, fit_intercept=True, max_iter=93, multi_class=auto, penalty=l2, solver=liblinear, tol=0.0005; total time=   0.0s\n",
      "[CV] END C=9, class_weight=balanced, dual=False, fit_intercept=True, max_iter=93, multi_class=auto, penalty=l2, solver=liblinear, tol=0.00062; total time=   0.0s\n",
      "[CV] END C=9, class_weight=balanced, dual=False, fit_intercept=True, max_iter=93, multi_class=auto, penalty=l2, solver=liblinear, tol=0.00062; total time=   0.0s\n",
      "[CV] END C=9, class_weight=balanced, dual=False, fit_intercept=True, max_iter=93, multi_class=auto, penalty=l2, solver=liblinear, tol=0.00062; total time=   0.0s\n",
      "[CV] END C=9, class_weight=balanced, dual=False, fit_intercept=True, max_iter=92, multi_class=auto, penalty=l2, solver=liblinear, tol=0.00067; total time=   0.0s\n",
      "[CV] END C=9, class_weight=balanced, dual=False, fit_intercept=True, max_iter=92, multi_class=auto, penalty=l2, solver=liblinear, tol=0.00067; total time=   0.0s\n",
      "[CV] END C=9, class_weight=balanced, dual=False, fit_intercept=True, max_iter=92, multi_class=auto, penalty=l2, solver=liblinear, tol=0.00067; total time=   0.0s\n",
      "[CV] END C=9, class_weight=balanced, dual=False, fit_intercept=True, max_iter=92, multi_class=auto, penalty=l2, solver=liblinear, tol=0.0007; total time=   0.0s\n",
      "[CV] END C=9, class_weight=balanced, dual=False, fit_intercept=True, max_iter=92, multi_class=auto, penalty=l2, solver=liblinear, tol=0.0007; total time=   0.0s\n",
      "[CV] END C=9, class_weight=balanced, dual=False, fit_intercept=True, max_iter=92, multi_class=auto, penalty=l2, solver=liblinear, tol=0.0007; total time=   0.0s\n",
      "[CV] END C=9, class_weight=balanced, dual=False, fit_intercept=True, max_iter=92, multi_class=auto, penalty=l2, solver=liblinear, tol=0.0006; total time=   0.0s\n",
      "[CV] END C=9, class_weight=balanced, dual=False, fit_intercept=True, max_iter=92, multi_class=auto, penalty=l2, solver=liblinear, tol=0.0006; total time=   0.0s\n",
      "[CV] END C=9, class_weight=balanced, dual=False, fit_intercept=True, max_iter=92, multi_class=auto, penalty=l2, solver=liblinear, tol=0.0006; total time=   0.0s\n"
     ]
    },
    {
     "name": "stdout",
     "output_type": "stream",
     "text": [
      "[CV] END C=9, class_weight=balanced, dual=False, fit_intercept=True, max_iter=92, multi_class=auto, penalty=l2, solver=liblinear, tol=0.0005; total time=   0.0s\n",
      "[CV] END C=9, class_weight=balanced, dual=False, fit_intercept=True, max_iter=92, multi_class=auto, penalty=l2, solver=liblinear, tol=0.0005; total time=   0.0s\n",
      "[CV] END C=9, class_weight=balanced, dual=False, fit_intercept=True, max_iter=92, multi_class=auto, penalty=l2, solver=liblinear, tol=0.0005; total time=   0.0s\n",
      "[CV] END C=9, class_weight=balanced, dual=False, fit_intercept=True, max_iter=92, multi_class=auto, penalty=l2, solver=liblinear, tol=0.00062; total time=   0.0s\n",
      "[CV] END C=9, class_weight=balanced, dual=False, fit_intercept=True, max_iter=92, multi_class=auto, penalty=l2, solver=liblinear, tol=0.00062; total time=   0.0s\n",
      "[CV] END C=9, class_weight=balanced, dual=False, fit_intercept=True, max_iter=92, multi_class=auto, penalty=l2, solver=liblinear, tol=0.00062; total time=   0.0s\n",
      "[CV] END C=9, class_weight=balanced, dual=False, fit_intercept=True, max_iter=95, multi_class=auto, penalty=l2, solver=liblinear, tol=0.00067; total time=   0.0s\n",
      "[CV] END C=9, class_weight=balanced, dual=False, fit_intercept=True, max_iter=95, multi_class=auto, penalty=l2, solver=liblinear, tol=0.00067; total time=   0.0s\n",
      "[CV] END C=9, class_weight=balanced, dual=False, fit_intercept=True, max_iter=95, multi_class=auto, penalty=l2, solver=liblinear, tol=0.00067; total time=   0.0s\n",
      "[CV] END C=9, class_weight=balanced, dual=False, fit_intercept=True, max_iter=95, multi_class=auto, penalty=l2, solver=liblinear, tol=0.0007; total time=   0.0s\n",
      "[CV] END C=9, class_weight=balanced, dual=False, fit_intercept=True, max_iter=95, multi_class=auto, penalty=l2, solver=liblinear, tol=0.0007; total time=   0.0s\n",
      "[CV] END C=9, class_weight=balanced, dual=False, fit_intercept=True, max_iter=95, multi_class=auto, penalty=l2, solver=liblinear, tol=0.0007; total time=   0.0s\n",
      "[CV] END C=9, class_weight=balanced, dual=False, fit_intercept=True, max_iter=95, multi_class=auto, penalty=l2, solver=liblinear, tol=0.0006; total time=   0.0s\n",
      "[CV] END C=9, class_weight=balanced, dual=False, fit_intercept=True, max_iter=95, multi_class=auto, penalty=l2, solver=liblinear, tol=0.0006; total time=   0.0s\n",
      "[CV] END C=9, class_weight=balanced, dual=False, fit_intercept=True, max_iter=95, multi_class=auto, penalty=l2, solver=liblinear, tol=0.0006; total time=   0.0s\n",
      "[CV] END C=9, class_weight=balanced, dual=False, fit_intercept=True, max_iter=95, multi_class=auto, penalty=l2, solver=liblinear, tol=0.0005; total time=   0.0s\n",
      "[CV] END C=9, class_weight=balanced, dual=False, fit_intercept=True, max_iter=95, multi_class=auto, penalty=l2, solver=liblinear, tol=0.0005; total time=   0.0s\n",
      "[CV] END C=9, class_weight=balanced, dual=False, fit_intercept=True, max_iter=95, multi_class=auto, penalty=l2, solver=liblinear, tol=0.0005; total time=   0.0s\n",
      "[CV] END C=9, class_weight=balanced, dual=False, fit_intercept=True, max_iter=95, multi_class=auto, penalty=l2, solver=liblinear, tol=0.00062; total time=   0.0s\n",
      "[CV] END C=9, class_weight=balanced, dual=False, fit_intercept=True, max_iter=95, multi_class=auto, penalty=l2, solver=liblinear, tol=0.00062; total time=   0.0s\n",
      "[CV] END C=9, class_weight=balanced, dual=False, fit_intercept=True, max_iter=95, multi_class=auto, penalty=l2, solver=liblinear, tol=0.00062; total time=   0.0s\n",
      "[CV] END C=9, class_weight=balanced, dual=False, fit_intercept=True, max_iter=96, multi_class=auto, penalty=l2, solver=liblinear, tol=0.00067; total time=   0.0s\n",
      "[CV] END C=9, class_weight=balanced, dual=False, fit_intercept=True, max_iter=96, multi_class=auto, penalty=l2, solver=liblinear, tol=0.00067; total time=   0.0s\n",
      "[CV] END C=9, class_weight=balanced, dual=False, fit_intercept=True, max_iter=96, multi_class=auto, penalty=l2, solver=liblinear, tol=0.00067; total time=   0.0s\n",
      "[CV] END C=9, class_weight=balanced, dual=False, fit_intercept=True, max_iter=96, multi_class=auto, penalty=l2, solver=liblinear, tol=0.0007; total time=   0.0s\n",
      "[CV] END C=9, class_weight=balanced, dual=False, fit_intercept=True, max_iter=96, multi_class=auto, penalty=l2, solver=liblinear, tol=0.0007; total time=   0.0s\n",
      "[CV] END C=9, class_weight=balanced, dual=False, fit_intercept=True, max_iter=96, multi_class=auto, penalty=l2, solver=liblinear, tol=0.0007; total time=   0.0s\n",
      "[CV] END C=9, class_weight=balanced, dual=False, fit_intercept=True, max_iter=96, multi_class=auto, penalty=l2, solver=liblinear, tol=0.0006; total time=   0.0s\n",
      "[CV] END C=9, class_weight=balanced, dual=False, fit_intercept=True, max_iter=96, multi_class=auto, penalty=l2, solver=liblinear, tol=0.0006; total time=   0.0s\n",
      "[CV] END C=9, class_weight=balanced, dual=False, fit_intercept=True, max_iter=96, multi_class=auto, penalty=l2, solver=liblinear, tol=0.0006; total time=   0.0s\n",
      "[CV] END C=9, class_weight=balanced, dual=False, fit_intercept=True, max_iter=96, multi_class=auto, penalty=l2, solver=liblinear, tol=0.0005; total time=   0.0s\n",
      "[CV] END C=9, class_weight=balanced, dual=False, fit_intercept=True, max_iter=96, multi_class=auto, penalty=l2, solver=liblinear, tol=0.0005; total time=   0.0s\n",
      "[CV] END C=9, class_weight=balanced, dual=False, fit_intercept=True, max_iter=96, multi_class=auto, penalty=l2, solver=liblinear, tol=0.0005; total time=   0.0s\n",
      "[CV] END C=9, class_weight=balanced, dual=False, fit_intercept=True, max_iter=96, multi_class=auto, penalty=l2, solver=liblinear, tol=0.00062; total time=   0.0s\n",
      "[CV] END C=9, class_weight=balanced, dual=False, fit_intercept=True, max_iter=96, multi_class=auto, penalty=l2, solver=liblinear, tol=0.00062; total time=   0.0s\n",
      "[CV] END C=9, class_weight=balanced, dual=False, fit_intercept=True, max_iter=96, multi_class=auto, penalty=l2, solver=liblinear, tol=0.00062; total time=   0.0s\n",
      "[CV] END C=9, class_weight=balanced, dual=False, fit_intercept=True, max_iter=91, multi_class=auto, penalty=l2, solver=liblinear, tol=0.00067; total time=   0.0s\n",
      "[CV] END C=9, class_weight=balanced, dual=False, fit_intercept=True, max_iter=91, multi_class=auto, penalty=l2, solver=liblinear, tol=0.00067; total time=   0.0s\n",
      "[CV] END C=9, class_weight=balanced, dual=False, fit_intercept=True, max_iter=91, multi_class=auto, penalty=l2, solver=liblinear, tol=0.00067; total time=   0.0s\n",
      "[CV] END C=9, class_weight=balanced, dual=False, fit_intercept=True, max_iter=91, multi_class=auto, penalty=l2, solver=liblinear, tol=0.0007; total time=   0.0s\n",
      "[CV] END C=9, class_weight=balanced, dual=False, fit_intercept=True, max_iter=91, multi_class=auto, penalty=l2, solver=liblinear, tol=0.0007; total time=   0.0s\n",
      "[CV] END C=9, class_weight=balanced, dual=False, fit_intercept=True, max_iter=91, multi_class=auto, penalty=l2, solver=liblinear, tol=0.0007; total time=   0.0s\n",
      "[CV] END C=9, class_weight=balanced, dual=False, fit_intercept=True, max_iter=91, multi_class=auto, penalty=l2, solver=liblinear, tol=0.0006; total time=   0.0s\n",
      "[CV] END C=9, class_weight=balanced, dual=False, fit_intercept=True, max_iter=91, multi_class=auto, penalty=l2, solver=liblinear, tol=0.0006; total time=   0.0s\n",
      "[CV] END C=9, class_weight=balanced, dual=False, fit_intercept=True, max_iter=91, multi_class=auto, penalty=l2, solver=liblinear, tol=0.0006; total time=   0.0s\n",
      "[CV] END C=9, class_weight=balanced, dual=False, fit_intercept=True, max_iter=91, multi_class=auto, penalty=l2, solver=liblinear, tol=0.0005; total time=   0.0s\n",
      "[CV] END C=9, class_weight=balanced, dual=False, fit_intercept=True, max_iter=91, multi_class=auto, penalty=l2, solver=liblinear, tol=0.0005; total time=   0.0s\n",
      "[CV] END C=9, class_weight=balanced, dual=False, fit_intercept=True, max_iter=91, multi_class=auto, penalty=l2, solver=liblinear, tol=0.0005; total time=   0.0s\n",
      "[CV] END C=9, class_weight=balanced, dual=False, fit_intercept=True, max_iter=91, multi_class=auto, penalty=l2, solver=liblinear, tol=0.00062; total time=   0.0s\n",
      "[CV] END C=9, class_weight=balanced, dual=False, fit_intercept=True, max_iter=91, multi_class=auto, penalty=l2, solver=liblinear, tol=0.00062; total time=   0.0s\n",
      "[CV] END C=9, class_weight=balanced, dual=False, fit_intercept=True, max_iter=91, multi_class=auto, penalty=l2, solver=liblinear, tol=0.00062; total time=   0.0s\n",
      "[CV] END C=9, class_weight=balanced, dual=False, fit_intercept=True, max_iter=98, multi_class=auto, penalty=l2, solver=liblinear, tol=0.00067; total time=   0.0s\n",
      "[CV] END C=9, class_weight=balanced, dual=False, fit_intercept=True, max_iter=98, multi_class=auto, penalty=l2, solver=liblinear, tol=0.00067; total time=   0.0s\n",
      "[CV] END C=9, class_weight=balanced, dual=False, fit_intercept=True, max_iter=98, multi_class=auto, penalty=l2, solver=liblinear, tol=0.00067; total time=   0.0s\n",
      "[CV] END C=9, class_weight=balanced, dual=False, fit_intercept=True, max_iter=98, multi_class=auto, penalty=l2, solver=liblinear, tol=0.0007; total time=   0.0s\n",
      "[CV] END C=9, class_weight=balanced, dual=False, fit_intercept=True, max_iter=98, multi_class=auto, penalty=l2, solver=liblinear, tol=0.0007; total time=   0.0s\n",
      "[CV] END C=9, class_weight=balanced, dual=False, fit_intercept=True, max_iter=98, multi_class=auto, penalty=l2, solver=liblinear, tol=0.0007; total time=   0.0s\n",
      "[CV] END C=9, class_weight=balanced, dual=False, fit_intercept=True, max_iter=98, multi_class=auto, penalty=l2, solver=liblinear, tol=0.0006; total time=   0.0s\n",
      "[CV] END C=9, class_weight=balanced, dual=False, fit_intercept=True, max_iter=98, multi_class=auto, penalty=l2, solver=liblinear, tol=0.0006; total time=   0.0s\n",
      "[CV] END C=9, class_weight=balanced, dual=False, fit_intercept=True, max_iter=98, multi_class=auto, penalty=l2, solver=liblinear, tol=0.0006; total time=   0.0s\n",
      "[CV] END C=9, class_weight=balanced, dual=False, fit_intercept=True, max_iter=98, multi_class=auto, penalty=l2, solver=liblinear, tol=0.0005; total time=   0.0s\n",
      "[CV] END C=9, class_weight=balanced, dual=False, fit_intercept=True, max_iter=98, multi_class=auto, penalty=l2, solver=liblinear, tol=0.0005; total time=   0.0s\n",
      "[CV] END C=9, class_weight=balanced, dual=False, fit_intercept=True, max_iter=98, multi_class=auto, penalty=l2, solver=liblinear, tol=0.0005; total time=   0.0s\n",
      "[CV] END C=9, class_weight=balanced, dual=False, fit_intercept=True, max_iter=98, multi_class=auto, penalty=l2, solver=liblinear, tol=0.00062; total time=   0.0s\n",
      "[CV] END C=9, class_weight=balanced, dual=False, fit_intercept=True, max_iter=98, multi_class=auto, penalty=l2, solver=liblinear, tol=0.00062; total time=   0.0s\n",
      "[CV] END C=9, class_weight=balanced, dual=False, fit_intercept=True, max_iter=98, multi_class=auto, penalty=l2, solver=liblinear, tol=0.00062; total time=   0.0s\n",
      "[CV] END C=9, class_weight=balanced, dual=False, fit_intercept=True, max_iter=97, multi_class=auto, penalty=l2, solver=liblinear, tol=0.00067; total time=   0.0s\n",
      "[CV] END C=9, class_weight=balanced, dual=False, fit_intercept=True, max_iter=97, multi_class=auto, penalty=l2, solver=liblinear, tol=0.00067; total time=   0.0s\n",
      "[CV] END C=9, class_weight=balanced, dual=False, fit_intercept=True, max_iter=97, multi_class=auto, penalty=l2, solver=liblinear, tol=0.00067; total time=   0.0s\n",
      "[CV] END C=9, class_weight=balanced, dual=False, fit_intercept=True, max_iter=97, multi_class=auto, penalty=l2, solver=liblinear, tol=0.0007; total time=   0.0s\n",
      "[CV] END C=9, class_weight=balanced, dual=False, fit_intercept=True, max_iter=97, multi_class=auto, penalty=l2, solver=liblinear, tol=0.0007; total time=   0.0s\n",
      "[CV] END C=9, class_weight=balanced, dual=False, fit_intercept=True, max_iter=97, multi_class=auto, penalty=l2, solver=liblinear, tol=0.0007; total time=   0.0s\n",
      "[CV] END C=9, class_weight=balanced, dual=False, fit_intercept=True, max_iter=97, multi_class=auto, penalty=l2, solver=liblinear, tol=0.0006; total time=   0.0s\n",
      "[CV] END C=9, class_weight=balanced, dual=False, fit_intercept=True, max_iter=97, multi_class=auto, penalty=l2, solver=liblinear, tol=0.0006; total time=   0.0s\n",
      "[CV] END C=9, class_weight=balanced, dual=False, fit_intercept=True, max_iter=97, multi_class=auto, penalty=l2, solver=liblinear, tol=0.0006; total time=   0.0s\n",
      "[CV] END C=9, class_weight=balanced, dual=False, fit_intercept=True, max_iter=97, multi_class=auto, penalty=l2, solver=liblinear, tol=0.0005; total time=   0.0s\n",
      "[CV] END C=9, class_weight=balanced, dual=False, fit_intercept=True, max_iter=97, multi_class=auto, penalty=l2, solver=liblinear, tol=0.0005; total time=   0.0s\n",
      "[CV] END C=9, class_weight=balanced, dual=False, fit_intercept=True, max_iter=97, multi_class=auto, penalty=l2, solver=liblinear, tol=0.0005; total time=   0.0s\n",
      "[CV] END C=9, class_weight=balanced, dual=False, fit_intercept=True, max_iter=97, multi_class=auto, penalty=l2, solver=liblinear, tol=0.00062; total time=   0.0s\n",
      "[CV] END C=9, class_weight=balanced, dual=False, fit_intercept=True, max_iter=97, multi_class=auto, penalty=l2, solver=liblinear, tol=0.00062; total time=   0.0s\n",
      "[CV] END C=9, class_weight=balanced, dual=False, fit_intercept=True, max_iter=97, multi_class=auto, penalty=l2, solver=liblinear, tol=0.00062; total time=   0.0s\n"
     ]
    },
    {
     "name": "stdout",
     "output_type": "stream",
     "text": [
      "[CV] END C=10, class_weight=balanced, dual=False, fit_intercept=True, max_iter=94, multi_class=auto, penalty=l2, solver=liblinear, tol=0.00067; total time=   0.0s\n",
      "[CV] END C=10, class_weight=balanced, dual=False, fit_intercept=True, max_iter=94, multi_class=auto, penalty=l2, solver=liblinear, tol=0.00067; total time=   0.0s\n",
      "[CV] END C=10, class_weight=balanced, dual=False, fit_intercept=True, max_iter=94, multi_class=auto, penalty=l2, solver=liblinear, tol=0.00067; total time=   0.0s\n",
      "[CV] END C=10, class_weight=balanced, dual=False, fit_intercept=True, max_iter=94, multi_class=auto, penalty=l2, solver=liblinear, tol=0.0007; total time=   0.0s\n",
      "[CV] END C=10, class_weight=balanced, dual=False, fit_intercept=True, max_iter=94, multi_class=auto, penalty=l2, solver=liblinear, tol=0.0007; total time=   0.0s\n",
      "[CV] END C=10, class_weight=balanced, dual=False, fit_intercept=True, max_iter=94, multi_class=auto, penalty=l2, solver=liblinear, tol=0.0007; total time=   0.0s\n",
      "[CV] END C=10, class_weight=balanced, dual=False, fit_intercept=True, max_iter=94, multi_class=auto, penalty=l2, solver=liblinear, tol=0.0006; total time=   0.0s\n",
      "[CV] END C=10, class_weight=balanced, dual=False, fit_intercept=True, max_iter=94, multi_class=auto, penalty=l2, solver=liblinear, tol=0.0006; total time=   0.0s\n",
      "[CV] END C=10, class_weight=balanced, dual=False, fit_intercept=True, max_iter=94, multi_class=auto, penalty=l2, solver=liblinear, tol=0.0006; total time=   0.0s\n",
      "[CV] END C=10, class_weight=balanced, dual=False, fit_intercept=True, max_iter=94, multi_class=auto, penalty=l2, solver=liblinear, tol=0.0005; total time=   0.0s\n",
      "[CV] END C=10, class_weight=balanced, dual=False, fit_intercept=True, max_iter=94, multi_class=auto, penalty=l2, solver=liblinear, tol=0.0005; total time=   0.0s\n",
      "[CV] END C=10, class_weight=balanced, dual=False, fit_intercept=True, max_iter=94, multi_class=auto, penalty=l2, solver=liblinear, tol=0.0005; total time=   0.0s\n",
      "[CV] END C=10, class_weight=balanced, dual=False, fit_intercept=True, max_iter=94, multi_class=auto, penalty=l2, solver=liblinear, tol=0.00062; total time=   0.0s\n",
      "[CV] END C=10, class_weight=balanced, dual=False, fit_intercept=True, max_iter=94, multi_class=auto, penalty=l2, solver=liblinear, tol=0.00062; total time=   0.0s\n",
      "[CV] END C=10, class_weight=balanced, dual=False, fit_intercept=True, max_iter=94, multi_class=auto, penalty=l2, solver=liblinear, tol=0.00062; total time=   0.0s\n",
      "[CV] END C=10, class_weight=balanced, dual=False, fit_intercept=True, max_iter=93, multi_class=auto, penalty=l2, solver=liblinear, tol=0.00067; total time=   0.0s\n",
      "[CV] END C=10, class_weight=balanced, dual=False, fit_intercept=True, max_iter=93, multi_class=auto, penalty=l2, solver=liblinear, tol=0.00067; total time=   0.0s\n",
      "[CV] END C=10, class_weight=balanced, dual=False, fit_intercept=True, max_iter=93, multi_class=auto, penalty=l2, solver=liblinear, tol=0.00067; total time=   0.0s\n",
      "[CV] END C=10, class_weight=balanced, dual=False, fit_intercept=True, max_iter=93, multi_class=auto, penalty=l2, solver=liblinear, tol=0.0007; total time=   0.0s\n",
      "[CV] END C=10, class_weight=balanced, dual=False, fit_intercept=True, max_iter=93, multi_class=auto, penalty=l2, solver=liblinear, tol=0.0007; total time=   0.0s\n",
      "[CV] END C=10, class_weight=balanced, dual=False, fit_intercept=True, max_iter=93, multi_class=auto, penalty=l2, solver=liblinear, tol=0.0007; total time=   0.0s\n",
      "[CV] END C=10, class_weight=balanced, dual=False, fit_intercept=True, max_iter=93, multi_class=auto, penalty=l2, solver=liblinear, tol=0.0006; total time=   0.0s\n",
      "[CV] END C=10, class_weight=balanced, dual=False, fit_intercept=True, max_iter=93, multi_class=auto, penalty=l2, solver=liblinear, tol=0.0006; total time=   0.0s\n",
      "[CV] END C=10, class_weight=balanced, dual=False, fit_intercept=True, max_iter=93, multi_class=auto, penalty=l2, solver=liblinear, tol=0.0006; total time=   0.0s\n",
      "[CV] END C=10, class_weight=balanced, dual=False, fit_intercept=True, max_iter=93, multi_class=auto, penalty=l2, solver=liblinear, tol=0.0005; total time=   0.0s\n",
      "[CV] END C=10, class_weight=balanced, dual=False, fit_intercept=True, max_iter=93, multi_class=auto, penalty=l2, solver=liblinear, tol=0.0005; total time=   0.0s\n",
      "[CV] END C=10, class_weight=balanced, dual=False, fit_intercept=True, max_iter=93, multi_class=auto, penalty=l2, solver=liblinear, tol=0.0005; total time=   0.0s\n",
      "[CV] END C=10, class_weight=balanced, dual=False, fit_intercept=True, max_iter=93, multi_class=auto, penalty=l2, solver=liblinear, tol=0.00062; total time=   0.0s\n",
      "[CV] END C=10, class_weight=balanced, dual=False, fit_intercept=True, max_iter=93, multi_class=auto, penalty=l2, solver=liblinear, tol=0.00062; total time=   0.0s\n",
      "[CV] END C=10, class_weight=balanced, dual=False, fit_intercept=True, max_iter=93, multi_class=auto, penalty=l2, solver=liblinear, tol=0.00062; total time=   0.0s\n",
      "[CV] END C=10, class_weight=balanced, dual=False, fit_intercept=True, max_iter=92, multi_class=auto, penalty=l2, solver=liblinear, tol=0.00067; total time=   0.0s\n",
      "[CV] END C=10, class_weight=balanced, dual=False, fit_intercept=True, max_iter=92, multi_class=auto, penalty=l2, solver=liblinear, tol=0.00067; total time=   0.0s\n",
      "[CV] END C=10, class_weight=balanced, dual=False, fit_intercept=True, max_iter=92, multi_class=auto, penalty=l2, solver=liblinear, tol=0.00067; total time=   0.0s\n",
      "[CV] END C=10, class_weight=balanced, dual=False, fit_intercept=True, max_iter=92, multi_class=auto, penalty=l2, solver=liblinear, tol=0.0007; total time=   0.0s\n",
      "[CV] END C=10, class_weight=balanced, dual=False, fit_intercept=True, max_iter=92, multi_class=auto, penalty=l2, solver=liblinear, tol=0.0007; total time=   0.0s\n",
      "[CV] END C=10, class_weight=balanced, dual=False, fit_intercept=True, max_iter=92, multi_class=auto, penalty=l2, solver=liblinear, tol=0.0007; total time=   0.0s\n",
      "[CV] END C=10, class_weight=balanced, dual=False, fit_intercept=True, max_iter=92, multi_class=auto, penalty=l2, solver=liblinear, tol=0.0006; total time=   0.0s\n",
      "[CV] END C=10, class_weight=balanced, dual=False, fit_intercept=True, max_iter=92, multi_class=auto, penalty=l2, solver=liblinear, tol=0.0006; total time=   0.0s\n",
      "[CV] END C=10, class_weight=balanced, dual=False, fit_intercept=True, max_iter=92, multi_class=auto, penalty=l2, solver=liblinear, tol=0.0006; total time=   0.0s\n",
      "[CV] END C=10, class_weight=balanced, dual=False, fit_intercept=True, max_iter=92, multi_class=auto, penalty=l2, solver=liblinear, tol=0.0005; total time=   0.0s\n",
      "[CV] END C=10, class_weight=balanced, dual=False, fit_intercept=True, max_iter=92, multi_class=auto, penalty=l2, solver=liblinear, tol=0.0005; total time=   0.0s\n",
      "[CV] END C=10, class_weight=balanced, dual=False, fit_intercept=True, max_iter=92, multi_class=auto, penalty=l2, solver=liblinear, tol=0.0005; total time=   0.0s\n",
      "[CV] END C=10, class_weight=balanced, dual=False, fit_intercept=True, max_iter=92, multi_class=auto, penalty=l2, solver=liblinear, tol=0.00062; total time=   0.0s\n",
      "[CV] END C=10, class_weight=balanced, dual=False, fit_intercept=True, max_iter=92, multi_class=auto, penalty=l2, solver=liblinear, tol=0.00062; total time=   0.0s\n",
      "[CV] END C=10, class_weight=balanced, dual=False, fit_intercept=True, max_iter=92, multi_class=auto, penalty=l2, solver=liblinear, tol=0.00062; total time=   0.0s\n",
      "[CV] END C=10, class_weight=balanced, dual=False, fit_intercept=True, max_iter=95, multi_class=auto, penalty=l2, solver=liblinear, tol=0.00067; total time=   0.0s\n",
      "[CV] END C=10, class_weight=balanced, dual=False, fit_intercept=True, max_iter=95, multi_class=auto, penalty=l2, solver=liblinear, tol=0.00067; total time=   0.0s\n",
      "[CV] END C=10, class_weight=balanced, dual=False, fit_intercept=True, max_iter=95, multi_class=auto, penalty=l2, solver=liblinear, tol=0.00067; total time=   0.0s\n",
      "[CV] END C=10, class_weight=balanced, dual=False, fit_intercept=True, max_iter=95, multi_class=auto, penalty=l2, solver=liblinear, tol=0.0007; total time=   0.0s\n",
      "[CV] END C=10, class_weight=balanced, dual=False, fit_intercept=True, max_iter=95, multi_class=auto, penalty=l2, solver=liblinear, tol=0.0007; total time=   0.0s\n",
      "[CV] END C=10, class_weight=balanced, dual=False, fit_intercept=True, max_iter=95, multi_class=auto, penalty=l2, solver=liblinear, tol=0.0007; total time=   0.0s\n",
      "[CV] END C=10, class_weight=balanced, dual=False, fit_intercept=True, max_iter=95, multi_class=auto, penalty=l2, solver=liblinear, tol=0.0006; total time=   0.0s\n",
      "[CV] END C=10, class_weight=balanced, dual=False, fit_intercept=True, max_iter=95, multi_class=auto, penalty=l2, solver=liblinear, tol=0.0006; total time=   0.0s\n",
      "[CV] END C=10, class_weight=balanced, dual=False, fit_intercept=True, max_iter=95, multi_class=auto, penalty=l2, solver=liblinear, tol=0.0006; total time=   0.0s\n",
      "[CV] END C=10, class_weight=balanced, dual=False, fit_intercept=True, max_iter=95, multi_class=auto, penalty=l2, solver=liblinear, tol=0.0005; total time=   0.0s\n",
      "[CV] END C=10, class_weight=balanced, dual=False, fit_intercept=True, max_iter=95, multi_class=auto, penalty=l2, solver=liblinear, tol=0.0005; total time=   0.0s\n",
      "[CV] END C=10, class_weight=balanced, dual=False, fit_intercept=True, max_iter=95, multi_class=auto, penalty=l2, solver=liblinear, tol=0.0005; total time=   0.0s\n",
      "[CV] END C=10, class_weight=balanced, dual=False, fit_intercept=True, max_iter=95, multi_class=auto, penalty=l2, solver=liblinear, tol=0.00062; total time=   0.0s\n",
      "[CV] END C=10, class_weight=balanced, dual=False, fit_intercept=True, max_iter=95, multi_class=auto, penalty=l2, solver=liblinear, tol=0.00062; total time=   0.0s\n",
      "[CV] END C=10, class_weight=balanced, dual=False, fit_intercept=True, max_iter=95, multi_class=auto, penalty=l2, solver=liblinear, tol=0.00062; total time=   0.0s\n",
      "[CV] END C=10, class_weight=balanced, dual=False, fit_intercept=True, max_iter=96, multi_class=auto, penalty=l2, solver=liblinear, tol=0.00067; total time=   0.0s\n",
      "[CV] END C=10, class_weight=balanced, dual=False, fit_intercept=True, max_iter=96, multi_class=auto, penalty=l2, solver=liblinear, tol=0.00067; total time=   0.0s\n",
      "[CV] END C=10, class_weight=balanced, dual=False, fit_intercept=True, max_iter=96, multi_class=auto, penalty=l2, solver=liblinear, tol=0.00067; total time=   0.0s\n",
      "[CV] END C=10, class_weight=balanced, dual=False, fit_intercept=True, max_iter=96, multi_class=auto, penalty=l2, solver=liblinear, tol=0.0007; total time=   0.0s\n",
      "[CV] END C=10, class_weight=balanced, dual=False, fit_intercept=True, max_iter=96, multi_class=auto, penalty=l2, solver=liblinear, tol=0.0007; total time=   0.0s\n",
      "[CV] END C=10, class_weight=balanced, dual=False, fit_intercept=True, max_iter=96, multi_class=auto, penalty=l2, solver=liblinear, tol=0.0007; total time=   0.0s\n",
      "[CV] END C=10, class_weight=balanced, dual=False, fit_intercept=True, max_iter=96, multi_class=auto, penalty=l2, solver=liblinear, tol=0.0006; total time=   0.0s\n",
      "[CV] END C=10, class_weight=balanced, dual=False, fit_intercept=True, max_iter=96, multi_class=auto, penalty=l2, solver=liblinear, tol=0.0006; total time=   0.0s\n",
      "[CV] END C=10, class_weight=balanced, dual=False, fit_intercept=True, max_iter=96, multi_class=auto, penalty=l2, solver=liblinear, tol=0.0006; total time=   0.0s\n",
      "[CV] END C=10, class_weight=balanced, dual=False, fit_intercept=True, max_iter=96, multi_class=auto, penalty=l2, solver=liblinear, tol=0.0005; total time=   0.0s\n",
      "[CV] END C=10, class_weight=balanced, dual=False, fit_intercept=True, max_iter=96, multi_class=auto, penalty=l2, solver=liblinear, tol=0.0005; total time=   0.0s\n",
      "[CV] END C=10, class_weight=balanced, dual=False, fit_intercept=True, max_iter=96, multi_class=auto, penalty=l2, solver=liblinear, tol=0.0005; total time=   0.0s\n",
      "[CV] END C=10, class_weight=balanced, dual=False, fit_intercept=True, max_iter=96, multi_class=auto, penalty=l2, solver=liblinear, tol=0.00062; total time=   0.0s\n",
      "[CV] END C=10, class_weight=balanced, dual=False, fit_intercept=True, max_iter=96, multi_class=auto, penalty=l2, solver=liblinear, tol=0.00062; total time=   0.0s\n",
      "[CV] END C=10, class_weight=balanced, dual=False, fit_intercept=True, max_iter=96, multi_class=auto, penalty=l2, solver=liblinear, tol=0.00062; total time=   0.0s\n",
      "[CV] END C=10, class_weight=balanced, dual=False, fit_intercept=True, max_iter=91, multi_class=auto, penalty=l2, solver=liblinear, tol=0.00067; total time=   0.0s\n",
      "[CV] END C=10, class_weight=balanced, dual=False, fit_intercept=True, max_iter=91, multi_class=auto, penalty=l2, solver=liblinear, tol=0.00067; total time=   0.0s\n"
     ]
    },
    {
     "name": "stdout",
     "output_type": "stream",
     "text": [
      "[CV] END C=10, class_weight=balanced, dual=False, fit_intercept=True, max_iter=91, multi_class=auto, penalty=l2, solver=liblinear, tol=0.00067; total time=   0.0s\n",
      "[CV] END C=10, class_weight=balanced, dual=False, fit_intercept=True, max_iter=91, multi_class=auto, penalty=l2, solver=liblinear, tol=0.0007; total time=   0.0s\n",
      "[CV] END C=10, class_weight=balanced, dual=False, fit_intercept=True, max_iter=91, multi_class=auto, penalty=l2, solver=liblinear, tol=0.0007; total time=   0.0s\n",
      "[CV] END C=10, class_weight=balanced, dual=False, fit_intercept=True, max_iter=91, multi_class=auto, penalty=l2, solver=liblinear, tol=0.0007; total time=   0.0s\n",
      "[CV] END C=10, class_weight=balanced, dual=False, fit_intercept=True, max_iter=91, multi_class=auto, penalty=l2, solver=liblinear, tol=0.0006; total time=   0.0s\n",
      "[CV] END C=10, class_weight=balanced, dual=False, fit_intercept=True, max_iter=91, multi_class=auto, penalty=l2, solver=liblinear, tol=0.0006; total time=   0.0s\n",
      "[CV] END C=10, class_weight=balanced, dual=False, fit_intercept=True, max_iter=91, multi_class=auto, penalty=l2, solver=liblinear, tol=0.0006; total time=   0.0s\n",
      "[CV] END C=10, class_weight=balanced, dual=False, fit_intercept=True, max_iter=91, multi_class=auto, penalty=l2, solver=liblinear, tol=0.0005; total time=   0.0s\n",
      "[CV] END C=10, class_weight=balanced, dual=False, fit_intercept=True, max_iter=91, multi_class=auto, penalty=l2, solver=liblinear, tol=0.0005; total time=   0.0s\n",
      "[CV] END C=10, class_weight=balanced, dual=False, fit_intercept=True, max_iter=91, multi_class=auto, penalty=l2, solver=liblinear, tol=0.0005; total time=   0.0s\n",
      "[CV] END C=10, class_weight=balanced, dual=False, fit_intercept=True, max_iter=91, multi_class=auto, penalty=l2, solver=liblinear, tol=0.00062; total time=   0.0s\n",
      "[CV] END C=10, class_weight=balanced, dual=False, fit_intercept=True, max_iter=91, multi_class=auto, penalty=l2, solver=liblinear, tol=0.00062; total time=   0.0s\n",
      "[CV] END C=10, class_weight=balanced, dual=False, fit_intercept=True, max_iter=91, multi_class=auto, penalty=l2, solver=liblinear, tol=0.00062; total time=   0.0s\n",
      "[CV] END C=10, class_weight=balanced, dual=False, fit_intercept=True, max_iter=98, multi_class=auto, penalty=l2, solver=liblinear, tol=0.00067; total time=   0.0s\n",
      "[CV] END C=10, class_weight=balanced, dual=False, fit_intercept=True, max_iter=98, multi_class=auto, penalty=l2, solver=liblinear, tol=0.00067; total time=   0.0s\n",
      "[CV] END C=10, class_weight=balanced, dual=False, fit_intercept=True, max_iter=98, multi_class=auto, penalty=l2, solver=liblinear, tol=0.00067; total time=   0.0s\n",
      "[CV] END C=10, class_weight=balanced, dual=False, fit_intercept=True, max_iter=98, multi_class=auto, penalty=l2, solver=liblinear, tol=0.0007; total time=   0.0s\n",
      "[CV] END C=10, class_weight=balanced, dual=False, fit_intercept=True, max_iter=98, multi_class=auto, penalty=l2, solver=liblinear, tol=0.0007; total time=   0.0s\n",
      "[CV] END C=10, class_weight=balanced, dual=False, fit_intercept=True, max_iter=98, multi_class=auto, penalty=l2, solver=liblinear, tol=0.0007; total time=   0.0s\n",
      "[CV] END C=10, class_weight=balanced, dual=False, fit_intercept=True, max_iter=98, multi_class=auto, penalty=l2, solver=liblinear, tol=0.0006; total time=   0.0s\n",
      "[CV] END C=10, class_weight=balanced, dual=False, fit_intercept=True, max_iter=98, multi_class=auto, penalty=l2, solver=liblinear, tol=0.0006; total time=   0.0s\n",
      "[CV] END C=10, class_weight=balanced, dual=False, fit_intercept=True, max_iter=98, multi_class=auto, penalty=l2, solver=liblinear, tol=0.0006; total time=   0.0s\n",
      "[CV] END C=10, class_weight=balanced, dual=False, fit_intercept=True, max_iter=98, multi_class=auto, penalty=l2, solver=liblinear, tol=0.0005; total time=   0.0s\n",
      "[CV] END C=10, class_weight=balanced, dual=False, fit_intercept=True, max_iter=98, multi_class=auto, penalty=l2, solver=liblinear, tol=0.0005; total time=   0.0s\n",
      "[CV] END C=10, class_weight=balanced, dual=False, fit_intercept=True, max_iter=98, multi_class=auto, penalty=l2, solver=liblinear, tol=0.0005; total time=   0.0s\n",
      "[CV] END C=10, class_weight=balanced, dual=False, fit_intercept=True, max_iter=98, multi_class=auto, penalty=l2, solver=liblinear, tol=0.00062; total time=   0.0s\n",
      "[CV] END C=10, class_weight=balanced, dual=False, fit_intercept=True, max_iter=98, multi_class=auto, penalty=l2, solver=liblinear, tol=0.00062; total time=   0.0s\n",
      "[CV] END C=10, class_weight=balanced, dual=False, fit_intercept=True, max_iter=98, multi_class=auto, penalty=l2, solver=liblinear, tol=0.00062; total time=   0.0s\n",
      "[CV] END C=10, class_weight=balanced, dual=False, fit_intercept=True, max_iter=97, multi_class=auto, penalty=l2, solver=liblinear, tol=0.00067; total time=   0.0s\n",
      "[CV] END C=10, class_weight=balanced, dual=False, fit_intercept=True, max_iter=97, multi_class=auto, penalty=l2, solver=liblinear, tol=0.00067; total time=   0.0s\n",
      "[CV] END C=10, class_weight=balanced, dual=False, fit_intercept=True, max_iter=97, multi_class=auto, penalty=l2, solver=liblinear, tol=0.00067; total time=   0.0s\n",
      "[CV] END C=10, class_weight=balanced, dual=False, fit_intercept=True, max_iter=97, multi_class=auto, penalty=l2, solver=liblinear, tol=0.0007; total time=   0.0s\n",
      "[CV] END C=10, class_weight=balanced, dual=False, fit_intercept=True, max_iter=97, multi_class=auto, penalty=l2, solver=liblinear, tol=0.0007; total time=   0.0s\n",
      "[CV] END C=10, class_weight=balanced, dual=False, fit_intercept=True, max_iter=97, multi_class=auto, penalty=l2, solver=liblinear, tol=0.0007; total time=   0.0s\n",
      "[CV] END C=10, class_weight=balanced, dual=False, fit_intercept=True, max_iter=97, multi_class=auto, penalty=l2, solver=liblinear, tol=0.0006; total time=   0.0s\n",
      "[CV] END C=10, class_weight=balanced, dual=False, fit_intercept=True, max_iter=97, multi_class=auto, penalty=l2, solver=liblinear, tol=0.0006; total time=   0.0s\n",
      "[CV] END C=10, class_weight=balanced, dual=False, fit_intercept=True, max_iter=97, multi_class=auto, penalty=l2, solver=liblinear, tol=0.0006; total time=   0.0s\n",
      "[CV] END C=10, class_weight=balanced, dual=False, fit_intercept=True, max_iter=97, multi_class=auto, penalty=l2, solver=liblinear, tol=0.0005; total time=   0.0s\n",
      "[CV] END C=10, class_weight=balanced, dual=False, fit_intercept=True, max_iter=97, multi_class=auto, penalty=l2, solver=liblinear, tol=0.0005; total time=   0.0s\n",
      "[CV] END C=10, class_weight=balanced, dual=False, fit_intercept=True, max_iter=97, multi_class=auto, penalty=l2, solver=liblinear, tol=0.0005; total time=   0.0s\n",
      "[CV] END C=10, class_weight=balanced, dual=False, fit_intercept=True, max_iter=97, multi_class=auto, penalty=l2, solver=liblinear, tol=0.00062; total time=   0.0s\n",
      "[CV] END C=10, class_weight=balanced, dual=False, fit_intercept=True, max_iter=97, multi_class=auto, penalty=l2, solver=liblinear, tol=0.00062; total time=   0.0s\n",
      "[CV] END C=10, class_weight=balanced, dual=False, fit_intercept=True, max_iter=97, multi_class=auto, penalty=l2, solver=liblinear, tol=0.00062; total time=   0.0s\n",
      "[CV] END C=7, class_weight=balanced, dual=False, fit_intercept=True, max_iter=94, multi_class=auto, penalty=l2, solver=liblinear, tol=0.00067; total time=   0.0s\n",
      "[CV] END C=7, class_weight=balanced, dual=False, fit_intercept=True, max_iter=94, multi_class=auto, penalty=l2, solver=liblinear, tol=0.00067; total time=   0.0s\n",
      "[CV] END C=7, class_weight=balanced, dual=False, fit_intercept=True, max_iter=94, multi_class=auto, penalty=l2, solver=liblinear, tol=0.00067; total time=   0.0s\n",
      "[CV] END C=7, class_weight=balanced, dual=False, fit_intercept=True, max_iter=94, multi_class=auto, penalty=l2, solver=liblinear, tol=0.0007; total time=   0.0s\n",
      "[CV] END C=7, class_weight=balanced, dual=False, fit_intercept=True, max_iter=94, multi_class=auto, penalty=l2, solver=liblinear, tol=0.0007; total time=   0.0s\n",
      "[CV] END C=7, class_weight=balanced, dual=False, fit_intercept=True, max_iter=94, multi_class=auto, penalty=l2, solver=liblinear, tol=0.0007; total time=   0.0s\n",
      "[CV] END C=7, class_weight=balanced, dual=False, fit_intercept=True, max_iter=94, multi_class=auto, penalty=l2, solver=liblinear, tol=0.0006; total time=   0.0s\n",
      "[CV] END C=7, class_weight=balanced, dual=False, fit_intercept=True, max_iter=94, multi_class=auto, penalty=l2, solver=liblinear, tol=0.0006; total time=   0.0s\n",
      "[CV] END C=7, class_weight=balanced, dual=False, fit_intercept=True, max_iter=94, multi_class=auto, penalty=l2, solver=liblinear, tol=0.0006; total time=   0.0s\n",
      "[CV] END C=7, class_weight=balanced, dual=False, fit_intercept=True, max_iter=94, multi_class=auto, penalty=l2, solver=liblinear, tol=0.0005; total time=   0.0s\n",
      "[CV] END C=7, class_weight=balanced, dual=False, fit_intercept=True, max_iter=94, multi_class=auto, penalty=l2, solver=liblinear, tol=0.0005; total time=   0.0s\n",
      "[CV] END C=7, class_weight=balanced, dual=False, fit_intercept=True, max_iter=94, multi_class=auto, penalty=l2, solver=liblinear, tol=0.0005; total time=   0.0s\n",
      "[CV] END C=7, class_weight=balanced, dual=False, fit_intercept=True, max_iter=94, multi_class=auto, penalty=l2, solver=liblinear, tol=0.00062; total time=   0.0s\n",
      "[CV] END C=7, class_weight=balanced, dual=False, fit_intercept=True, max_iter=94, multi_class=auto, penalty=l2, solver=liblinear, tol=0.00062; total time=   0.0s\n",
      "[CV] END C=7, class_weight=balanced, dual=False, fit_intercept=True, max_iter=94, multi_class=auto, penalty=l2, solver=liblinear, tol=0.00062; total time=   0.0s\n",
      "[CV] END C=7, class_weight=balanced, dual=False, fit_intercept=True, max_iter=93, multi_class=auto, penalty=l2, solver=liblinear, tol=0.00067; total time=   0.0s\n",
      "[CV] END C=7, class_weight=balanced, dual=False, fit_intercept=True, max_iter=93, multi_class=auto, penalty=l2, solver=liblinear, tol=0.00067; total time=   0.0s\n",
      "[CV] END C=7, class_weight=balanced, dual=False, fit_intercept=True, max_iter=93, multi_class=auto, penalty=l2, solver=liblinear, tol=0.00067; total time=   0.0s\n",
      "[CV] END C=7, class_weight=balanced, dual=False, fit_intercept=True, max_iter=93, multi_class=auto, penalty=l2, solver=liblinear, tol=0.0007; total time=   0.0s\n",
      "[CV] END C=7, class_weight=balanced, dual=False, fit_intercept=True, max_iter=93, multi_class=auto, penalty=l2, solver=liblinear, tol=0.0007; total time=   0.0s\n",
      "[CV] END C=7, class_weight=balanced, dual=False, fit_intercept=True, max_iter=93, multi_class=auto, penalty=l2, solver=liblinear, tol=0.0007; total time=   0.0s\n",
      "[CV] END C=7, class_weight=balanced, dual=False, fit_intercept=True, max_iter=93, multi_class=auto, penalty=l2, solver=liblinear, tol=0.0006; total time=   0.0s\n",
      "[CV] END C=7, class_weight=balanced, dual=False, fit_intercept=True, max_iter=93, multi_class=auto, penalty=l2, solver=liblinear, tol=0.0006; total time=   0.0s\n",
      "[CV] END C=7, class_weight=balanced, dual=False, fit_intercept=True, max_iter=93, multi_class=auto, penalty=l2, solver=liblinear, tol=0.0006; total time=   0.0s\n",
      "[CV] END C=7, class_weight=balanced, dual=False, fit_intercept=True, max_iter=93, multi_class=auto, penalty=l2, solver=liblinear, tol=0.0005; total time=   0.0s\n",
      "[CV] END C=7, class_weight=balanced, dual=False, fit_intercept=True, max_iter=93, multi_class=auto, penalty=l2, solver=liblinear, tol=0.0005; total time=   0.0s\n",
      "[CV] END C=7, class_weight=balanced, dual=False, fit_intercept=True, max_iter=93, multi_class=auto, penalty=l2, solver=liblinear, tol=0.0005; total time=   0.0s\n",
      "[CV] END C=7, class_weight=balanced, dual=False, fit_intercept=True, max_iter=93, multi_class=auto, penalty=l2, solver=liblinear, tol=0.00062; total time=   0.0s\n",
      "[CV] END C=7, class_weight=balanced, dual=False, fit_intercept=True, max_iter=93, multi_class=auto, penalty=l2, solver=liblinear, tol=0.00062; total time=   0.0s\n",
      "[CV] END C=7, class_weight=balanced, dual=False, fit_intercept=True, max_iter=93, multi_class=auto, penalty=l2, solver=liblinear, tol=0.00062; total time=   0.0s\n",
      "[CV] END C=7, class_weight=balanced, dual=False, fit_intercept=True, max_iter=92, multi_class=auto, penalty=l2, solver=liblinear, tol=0.00067; total time=   0.0s\n",
      "[CV] END C=7, class_weight=balanced, dual=False, fit_intercept=True, max_iter=92, multi_class=auto, penalty=l2, solver=liblinear, tol=0.00067; total time=   0.0s\n",
      "[CV] END C=7, class_weight=balanced, dual=False, fit_intercept=True, max_iter=92, multi_class=auto, penalty=l2, solver=liblinear, tol=0.00067; total time=   0.0s\n",
      "[CV] END C=7, class_weight=balanced, dual=False, fit_intercept=True, max_iter=92, multi_class=auto, penalty=l2, solver=liblinear, tol=0.0007; total time=   0.0s\n"
     ]
    },
    {
     "name": "stdout",
     "output_type": "stream",
     "text": [
      "[CV] END C=7, class_weight=balanced, dual=False, fit_intercept=True, max_iter=92, multi_class=auto, penalty=l2, solver=liblinear, tol=0.0007; total time=   0.0s\n",
      "[CV] END C=7, class_weight=balanced, dual=False, fit_intercept=True, max_iter=92, multi_class=auto, penalty=l2, solver=liblinear, tol=0.0007; total time=   0.0s\n",
      "[CV] END C=7, class_weight=balanced, dual=False, fit_intercept=True, max_iter=92, multi_class=auto, penalty=l2, solver=liblinear, tol=0.0006; total time=   0.0s\n",
      "[CV] END C=7, class_weight=balanced, dual=False, fit_intercept=True, max_iter=92, multi_class=auto, penalty=l2, solver=liblinear, tol=0.0006; total time=   0.0s\n",
      "[CV] END C=7, class_weight=balanced, dual=False, fit_intercept=True, max_iter=92, multi_class=auto, penalty=l2, solver=liblinear, tol=0.0006; total time=   0.0s\n",
      "[CV] END C=7, class_weight=balanced, dual=False, fit_intercept=True, max_iter=92, multi_class=auto, penalty=l2, solver=liblinear, tol=0.0005; total time=   0.0s\n",
      "[CV] END C=7, class_weight=balanced, dual=False, fit_intercept=True, max_iter=92, multi_class=auto, penalty=l2, solver=liblinear, tol=0.0005; total time=   0.0s\n",
      "[CV] END C=7, class_weight=balanced, dual=False, fit_intercept=True, max_iter=92, multi_class=auto, penalty=l2, solver=liblinear, tol=0.0005; total time=   0.0s\n",
      "[CV] END C=7, class_weight=balanced, dual=False, fit_intercept=True, max_iter=92, multi_class=auto, penalty=l2, solver=liblinear, tol=0.00062; total time=   0.0s\n",
      "[CV] END C=7, class_weight=balanced, dual=False, fit_intercept=True, max_iter=92, multi_class=auto, penalty=l2, solver=liblinear, tol=0.00062; total time=   0.0s\n",
      "[CV] END C=7, class_weight=balanced, dual=False, fit_intercept=True, max_iter=92, multi_class=auto, penalty=l2, solver=liblinear, tol=0.00062; total time=   0.0s\n",
      "[CV] END C=7, class_weight=balanced, dual=False, fit_intercept=True, max_iter=95, multi_class=auto, penalty=l2, solver=liblinear, tol=0.00067; total time=   0.0s\n",
      "[CV] END C=7, class_weight=balanced, dual=False, fit_intercept=True, max_iter=95, multi_class=auto, penalty=l2, solver=liblinear, tol=0.00067; total time=   0.0s\n",
      "[CV] END C=7, class_weight=balanced, dual=False, fit_intercept=True, max_iter=95, multi_class=auto, penalty=l2, solver=liblinear, tol=0.00067; total time=   0.0s\n",
      "[CV] END C=7, class_weight=balanced, dual=False, fit_intercept=True, max_iter=95, multi_class=auto, penalty=l2, solver=liblinear, tol=0.0007; total time=   0.0s\n",
      "[CV] END C=7, class_weight=balanced, dual=False, fit_intercept=True, max_iter=95, multi_class=auto, penalty=l2, solver=liblinear, tol=0.0007; total time=   0.0s\n",
      "[CV] END C=7, class_weight=balanced, dual=False, fit_intercept=True, max_iter=95, multi_class=auto, penalty=l2, solver=liblinear, tol=0.0007; total time=   0.0s\n",
      "[CV] END C=7, class_weight=balanced, dual=False, fit_intercept=True, max_iter=95, multi_class=auto, penalty=l2, solver=liblinear, tol=0.0006; total time=   0.0s\n",
      "[CV] END C=7, class_weight=balanced, dual=False, fit_intercept=True, max_iter=95, multi_class=auto, penalty=l2, solver=liblinear, tol=0.0006; total time=   0.0s\n",
      "[CV] END C=7, class_weight=balanced, dual=False, fit_intercept=True, max_iter=95, multi_class=auto, penalty=l2, solver=liblinear, tol=0.0006; total time=   0.0s\n",
      "[CV] END C=7, class_weight=balanced, dual=False, fit_intercept=True, max_iter=95, multi_class=auto, penalty=l2, solver=liblinear, tol=0.0005; total time=   0.0s\n",
      "[CV] END C=7, class_weight=balanced, dual=False, fit_intercept=True, max_iter=95, multi_class=auto, penalty=l2, solver=liblinear, tol=0.0005; total time=   0.0s\n",
      "[CV] END C=7, class_weight=balanced, dual=False, fit_intercept=True, max_iter=95, multi_class=auto, penalty=l2, solver=liblinear, tol=0.0005; total time=   0.0s\n",
      "[CV] END C=7, class_weight=balanced, dual=False, fit_intercept=True, max_iter=95, multi_class=auto, penalty=l2, solver=liblinear, tol=0.00062; total time=   0.0s\n",
      "[CV] END C=7, class_weight=balanced, dual=False, fit_intercept=True, max_iter=95, multi_class=auto, penalty=l2, solver=liblinear, tol=0.00062; total time=   0.0s\n",
      "[CV] END C=7, class_weight=balanced, dual=False, fit_intercept=True, max_iter=95, multi_class=auto, penalty=l2, solver=liblinear, tol=0.00062; total time=   0.0s\n",
      "[CV] END C=7, class_weight=balanced, dual=False, fit_intercept=True, max_iter=96, multi_class=auto, penalty=l2, solver=liblinear, tol=0.00067; total time=   0.0s\n",
      "[CV] END C=7, class_weight=balanced, dual=False, fit_intercept=True, max_iter=96, multi_class=auto, penalty=l2, solver=liblinear, tol=0.00067; total time=   0.0s\n",
      "[CV] END C=7, class_weight=balanced, dual=False, fit_intercept=True, max_iter=96, multi_class=auto, penalty=l2, solver=liblinear, tol=0.00067; total time=   0.0s\n",
      "[CV] END C=7, class_weight=balanced, dual=False, fit_intercept=True, max_iter=96, multi_class=auto, penalty=l2, solver=liblinear, tol=0.0007; total time=   0.0s\n",
      "[CV] END C=7, class_weight=balanced, dual=False, fit_intercept=True, max_iter=96, multi_class=auto, penalty=l2, solver=liblinear, tol=0.0007; total time=   0.0s\n",
      "[CV] END C=7, class_weight=balanced, dual=False, fit_intercept=True, max_iter=96, multi_class=auto, penalty=l2, solver=liblinear, tol=0.0007; total time=   0.0s\n",
      "[CV] END C=7, class_weight=balanced, dual=False, fit_intercept=True, max_iter=96, multi_class=auto, penalty=l2, solver=liblinear, tol=0.0006; total time=   0.0s\n",
      "[CV] END C=7, class_weight=balanced, dual=False, fit_intercept=True, max_iter=96, multi_class=auto, penalty=l2, solver=liblinear, tol=0.0006; total time=   0.0s\n",
      "[CV] END C=7, class_weight=balanced, dual=False, fit_intercept=True, max_iter=96, multi_class=auto, penalty=l2, solver=liblinear, tol=0.0006; total time=   0.0s\n",
      "[CV] END C=7, class_weight=balanced, dual=False, fit_intercept=True, max_iter=96, multi_class=auto, penalty=l2, solver=liblinear, tol=0.0005; total time=   0.0s\n",
      "[CV] END C=7, class_weight=balanced, dual=False, fit_intercept=True, max_iter=96, multi_class=auto, penalty=l2, solver=liblinear, tol=0.0005; total time=   0.0s\n",
      "[CV] END C=7, class_weight=balanced, dual=False, fit_intercept=True, max_iter=96, multi_class=auto, penalty=l2, solver=liblinear, tol=0.0005; total time=   0.0s\n",
      "[CV] END C=7, class_weight=balanced, dual=False, fit_intercept=True, max_iter=96, multi_class=auto, penalty=l2, solver=liblinear, tol=0.00062; total time=   0.0s\n",
      "[CV] END C=7, class_weight=balanced, dual=False, fit_intercept=True, max_iter=96, multi_class=auto, penalty=l2, solver=liblinear, tol=0.00062; total time=   0.0s\n",
      "[CV] END C=7, class_weight=balanced, dual=False, fit_intercept=True, max_iter=96, multi_class=auto, penalty=l2, solver=liblinear, tol=0.00062; total time=   0.0s\n",
      "[CV] END C=7, class_weight=balanced, dual=False, fit_intercept=True, max_iter=91, multi_class=auto, penalty=l2, solver=liblinear, tol=0.00067; total time=   0.0s\n",
      "[CV] END C=7, class_weight=balanced, dual=False, fit_intercept=True, max_iter=91, multi_class=auto, penalty=l2, solver=liblinear, tol=0.00067; total time=   0.0s\n",
      "[CV] END C=7, class_weight=balanced, dual=False, fit_intercept=True, max_iter=91, multi_class=auto, penalty=l2, solver=liblinear, tol=0.00067; total time=   0.0s\n",
      "[CV] END C=7, class_weight=balanced, dual=False, fit_intercept=True, max_iter=91, multi_class=auto, penalty=l2, solver=liblinear, tol=0.0007; total time=   0.0s\n",
      "[CV] END C=7, class_weight=balanced, dual=False, fit_intercept=True, max_iter=91, multi_class=auto, penalty=l2, solver=liblinear, tol=0.0007; total time=   0.0s\n",
      "[CV] END C=7, class_weight=balanced, dual=False, fit_intercept=True, max_iter=91, multi_class=auto, penalty=l2, solver=liblinear, tol=0.0007; total time=   0.0s\n",
      "[CV] END C=7, class_weight=balanced, dual=False, fit_intercept=True, max_iter=91, multi_class=auto, penalty=l2, solver=liblinear, tol=0.0006; total time=   0.0s\n",
      "[CV] END C=7, class_weight=balanced, dual=False, fit_intercept=True, max_iter=91, multi_class=auto, penalty=l2, solver=liblinear, tol=0.0006; total time=   0.0s\n",
      "[CV] END C=7, class_weight=balanced, dual=False, fit_intercept=True, max_iter=91, multi_class=auto, penalty=l2, solver=liblinear, tol=0.0006; total time=   0.0s\n",
      "[CV] END C=7, class_weight=balanced, dual=False, fit_intercept=True, max_iter=91, multi_class=auto, penalty=l2, solver=liblinear, tol=0.0005; total time=   0.0s\n",
      "[CV] END C=7, class_weight=balanced, dual=False, fit_intercept=True, max_iter=91, multi_class=auto, penalty=l2, solver=liblinear, tol=0.0005; total time=   0.0s\n",
      "[CV] END C=7, class_weight=balanced, dual=False, fit_intercept=True, max_iter=91, multi_class=auto, penalty=l2, solver=liblinear, tol=0.0005; total time=   0.0s\n",
      "[CV] END C=7, class_weight=balanced, dual=False, fit_intercept=True, max_iter=91, multi_class=auto, penalty=l2, solver=liblinear, tol=0.00062; total time=   0.0s\n",
      "[CV] END C=7, class_weight=balanced, dual=False, fit_intercept=True, max_iter=91, multi_class=auto, penalty=l2, solver=liblinear, tol=0.00062; total time=   0.0s\n",
      "[CV] END C=7, class_weight=balanced, dual=False, fit_intercept=True, max_iter=91, multi_class=auto, penalty=l2, solver=liblinear, tol=0.00062; total time=   0.0s\n",
      "[CV] END C=7, class_weight=balanced, dual=False, fit_intercept=True, max_iter=98, multi_class=auto, penalty=l2, solver=liblinear, tol=0.00067; total time=   0.0s\n",
      "[CV] END C=7, class_weight=balanced, dual=False, fit_intercept=True, max_iter=98, multi_class=auto, penalty=l2, solver=liblinear, tol=0.00067; total time=   0.0s\n",
      "[CV] END C=7, class_weight=balanced, dual=False, fit_intercept=True, max_iter=98, multi_class=auto, penalty=l2, solver=liblinear, tol=0.00067; total time=   0.0s\n",
      "[CV] END C=7, class_weight=balanced, dual=False, fit_intercept=True, max_iter=98, multi_class=auto, penalty=l2, solver=liblinear, tol=0.0007; total time=   0.0s\n",
      "[CV] END C=7, class_weight=balanced, dual=False, fit_intercept=True, max_iter=98, multi_class=auto, penalty=l2, solver=liblinear, tol=0.0007; total time=   0.0s\n",
      "[CV] END C=7, class_weight=balanced, dual=False, fit_intercept=True, max_iter=98, multi_class=auto, penalty=l2, solver=liblinear, tol=0.0007; total time=   0.0s\n",
      "[CV] END C=7, class_weight=balanced, dual=False, fit_intercept=True, max_iter=98, multi_class=auto, penalty=l2, solver=liblinear, tol=0.0006; total time=   0.0s\n",
      "[CV] END C=7, class_weight=balanced, dual=False, fit_intercept=True, max_iter=98, multi_class=auto, penalty=l2, solver=liblinear, tol=0.0006; total time=   0.0s\n",
      "[CV] END C=7, class_weight=balanced, dual=False, fit_intercept=True, max_iter=98, multi_class=auto, penalty=l2, solver=liblinear, tol=0.0006; total time=   0.0s\n",
      "[CV] END C=7, class_weight=balanced, dual=False, fit_intercept=True, max_iter=98, multi_class=auto, penalty=l2, solver=liblinear, tol=0.0005; total time=   0.0s\n",
      "[CV] END C=7, class_weight=balanced, dual=False, fit_intercept=True, max_iter=98, multi_class=auto, penalty=l2, solver=liblinear, tol=0.0005; total time=   0.0s\n",
      "[CV] END C=7, class_weight=balanced, dual=False, fit_intercept=True, max_iter=98, multi_class=auto, penalty=l2, solver=liblinear, tol=0.0005; total time=   0.0s\n",
      "[CV] END C=7, class_weight=balanced, dual=False, fit_intercept=True, max_iter=98, multi_class=auto, penalty=l2, solver=liblinear, tol=0.00062; total time=   0.0s\n",
      "[CV] END C=7, class_weight=balanced, dual=False, fit_intercept=True, max_iter=98, multi_class=auto, penalty=l2, solver=liblinear, tol=0.00062; total time=   0.0s\n",
      "[CV] END C=7, class_weight=balanced, dual=False, fit_intercept=True, max_iter=98, multi_class=auto, penalty=l2, solver=liblinear, tol=0.00062; total time=   0.0s\n",
      "[CV] END C=7, class_weight=balanced, dual=False, fit_intercept=True, max_iter=97, multi_class=auto, penalty=l2, solver=liblinear, tol=0.00067; total time=   0.0s\n",
      "[CV] END C=7, class_weight=balanced, dual=False, fit_intercept=True, max_iter=97, multi_class=auto, penalty=l2, solver=liblinear, tol=0.00067; total time=   0.0s\n",
      "[CV] END C=7, class_weight=balanced, dual=False, fit_intercept=True, max_iter=97, multi_class=auto, penalty=l2, solver=liblinear, tol=0.00067; total time=   0.0s\n",
      "[CV] END C=7, class_weight=balanced, dual=False, fit_intercept=True, max_iter=97, multi_class=auto, penalty=l2, solver=liblinear, tol=0.0007; total time=   0.0s\n",
      "[CV] END C=7, class_weight=balanced, dual=False, fit_intercept=True, max_iter=97, multi_class=auto, penalty=l2, solver=liblinear, tol=0.0007; total time=   0.0s\n",
      "[CV] END C=7, class_weight=balanced, dual=False, fit_intercept=True, max_iter=97, multi_class=auto, penalty=l2, solver=liblinear, tol=0.0007; total time=   0.0s\n",
      "[CV] END C=7, class_weight=balanced, dual=False, fit_intercept=True, max_iter=97, multi_class=auto, penalty=l2, solver=liblinear, tol=0.0006; total time=   0.0s\n",
      "[CV] END C=7, class_weight=balanced, dual=False, fit_intercept=True, max_iter=97, multi_class=auto, penalty=l2, solver=liblinear, tol=0.0006; total time=   0.0s\n",
      "[CV] END C=7, class_weight=balanced, dual=False, fit_intercept=True, max_iter=97, multi_class=auto, penalty=l2, solver=liblinear, tol=0.0006; total time=   0.0s\n",
      "[CV] END C=7, class_weight=balanced, dual=False, fit_intercept=True, max_iter=97, multi_class=auto, penalty=l2, solver=liblinear, tol=0.0005; total time=   0.0s\n",
      "[CV] END C=7, class_weight=balanced, dual=False, fit_intercept=True, max_iter=97, multi_class=auto, penalty=l2, solver=liblinear, tol=0.0005; total time=   0.0s\n"
     ]
    },
    {
     "name": "stdout",
     "output_type": "stream",
     "text": [
      "[CV] END C=7, class_weight=balanced, dual=False, fit_intercept=True, max_iter=97, multi_class=auto, penalty=l2, solver=liblinear, tol=0.0005; total time=   0.0s\n",
      "[CV] END C=7, class_weight=balanced, dual=False, fit_intercept=True, max_iter=97, multi_class=auto, penalty=l2, solver=liblinear, tol=0.00062; total time=   0.0s\n",
      "[CV] END C=7, class_weight=balanced, dual=False, fit_intercept=True, max_iter=97, multi_class=auto, penalty=l2, solver=liblinear, tol=0.00062; total time=   0.0s\n",
      "[CV] END C=7, class_weight=balanced, dual=False, fit_intercept=True, max_iter=97, multi_class=auto, penalty=l2, solver=liblinear, tol=0.00062; total time=   0.0s\n",
      "[CV] END C=6, class_weight=balanced, dual=False, fit_intercept=True, max_iter=94, multi_class=auto, penalty=l2, solver=liblinear, tol=0.00067; total time=   0.0s\n",
      "[CV] END C=6, class_weight=balanced, dual=False, fit_intercept=True, max_iter=94, multi_class=auto, penalty=l2, solver=liblinear, tol=0.00067; total time=   0.0s\n",
      "[CV] END C=6, class_weight=balanced, dual=False, fit_intercept=True, max_iter=94, multi_class=auto, penalty=l2, solver=liblinear, tol=0.00067; total time=   0.0s\n",
      "[CV] END C=6, class_weight=balanced, dual=False, fit_intercept=True, max_iter=94, multi_class=auto, penalty=l2, solver=liblinear, tol=0.0007; total time=   0.0s\n",
      "[CV] END C=6, class_weight=balanced, dual=False, fit_intercept=True, max_iter=94, multi_class=auto, penalty=l2, solver=liblinear, tol=0.0007; total time=   0.0s\n",
      "[CV] END C=6, class_weight=balanced, dual=False, fit_intercept=True, max_iter=94, multi_class=auto, penalty=l2, solver=liblinear, tol=0.0007; total time=   0.0s\n",
      "[CV] END C=6, class_weight=balanced, dual=False, fit_intercept=True, max_iter=94, multi_class=auto, penalty=l2, solver=liblinear, tol=0.0006; total time=   0.0s\n",
      "[CV] END C=6, class_weight=balanced, dual=False, fit_intercept=True, max_iter=94, multi_class=auto, penalty=l2, solver=liblinear, tol=0.0006; total time=   0.0s\n",
      "[CV] END C=6, class_weight=balanced, dual=False, fit_intercept=True, max_iter=94, multi_class=auto, penalty=l2, solver=liblinear, tol=0.0006; total time=   0.0s\n",
      "[CV] END C=6, class_weight=balanced, dual=False, fit_intercept=True, max_iter=94, multi_class=auto, penalty=l2, solver=liblinear, tol=0.0005; total time=   0.0s\n",
      "[CV] END C=6, class_weight=balanced, dual=False, fit_intercept=True, max_iter=94, multi_class=auto, penalty=l2, solver=liblinear, tol=0.0005; total time=   0.0s\n",
      "[CV] END C=6, class_weight=balanced, dual=False, fit_intercept=True, max_iter=94, multi_class=auto, penalty=l2, solver=liblinear, tol=0.0005; total time=   0.0s\n",
      "[CV] END C=6, class_weight=balanced, dual=False, fit_intercept=True, max_iter=94, multi_class=auto, penalty=l2, solver=liblinear, tol=0.00062; total time=   0.0s\n",
      "[CV] END C=6, class_weight=balanced, dual=False, fit_intercept=True, max_iter=94, multi_class=auto, penalty=l2, solver=liblinear, tol=0.00062; total time=   0.0s\n",
      "[CV] END C=6, class_weight=balanced, dual=False, fit_intercept=True, max_iter=94, multi_class=auto, penalty=l2, solver=liblinear, tol=0.00062; total time=   0.0s\n",
      "[CV] END C=6, class_weight=balanced, dual=False, fit_intercept=True, max_iter=93, multi_class=auto, penalty=l2, solver=liblinear, tol=0.00067; total time=   0.0s\n",
      "[CV] END C=6, class_weight=balanced, dual=False, fit_intercept=True, max_iter=93, multi_class=auto, penalty=l2, solver=liblinear, tol=0.00067; total time=   0.0s\n",
      "[CV] END C=6, class_weight=balanced, dual=False, fit_intercept=True, max_iter=93, multi_class=auto, penalty=l2, solver=liblinear, tol=0.00067; total time=   0.0s\n",
      "[CV] END C=6, class_weight=balanced, dual=False, fit_intercept=True, max_iter=93, multi_class=auto, penalty=l2, solver=liblinear, tol=0.0007; total time=   0.0s\n",
      "[CV] END C=6, class_weight=balanced, dual=False, fit_intercept=True, max_iter=93, multi_class=auto, penalty=l2, solver=liblinear, tol=0.0007; total time=   0.0s\n",
      "[CV] END C=6, class_weight=balanced, dual=False, fit_intercept=True, max_iter=93, multi_class=auto, penalty=l2, solver=liblinear, tol=0.0007; total time=   0.0s\n",
      "[CV] END C=6, class_weight=balanced, dual=False, fit_intercept=True, max_iter=93, multi_class=auto, penalty=l2, solver=liblinear, tol=0.0006; total time=   0.0s\n",
      "[CV] END C=6, class_weight=balanced, dual=False, fit_intercept=True, max_iter=93, multi_class=auto, penalty=l2, solver=liblinear, tol=0.0006; total time=   0.0s\n",
      "[CV] END C=6, class_weight=balanced, dual=False, fit_intercept=True, max_iter=93, multi_class=auto, penalty=l2, solver=liblinear, tol=0.0006; total time=   0.0s\n",
      "[CV] END C=6, class_weight=balanced, dual=False, fit_intercept=True, max_iter=93, multi_class=auto, penalty=l2, solver=liblinear, tol=0.0005; total time=   0.0s\n",
      "[CV] END C=6, class_weight=balanced, dual=False, fit_intercept=True, max_iter=93, multi_class=auto, penalty=l2, solver=liblinear, tol=0.0005; total time=   0.0s\n",
      "[CV] END C=6, class_weight=balanced, dual=False, fit_intercept=True, max_iter=93, multi_class=auto, penalty=l2, solver=liblinear, tol=0.0005; total time=   0.0s\n",
      "[CV] END C=6, class_weight=balanced, dual=False, fit_intercept=True, max_iter=93, multi_class=auto, penalty=l2, solver=liblinear, tol=0.00062; total time=   0.0s\n",
      "[CV] END C=6, class_weight=balanced, dual=False, fit_intercept=True, max_iter=93, multi_class=auto, penalty=l2, solver=liblinear, tol=0.00062; total time=   0.0s\n",
      "[CV] END C=6, class_weight=balanced, dual=False, fit_intercept=True, max_iter=93, multi_class=auto, penalty=l2, solver=liblinear, tol=0.00062; total time=   0.0s\n",
      "[CV] END C=6, class_weight=balanced, dual=False, fit_intercept=True, max_iter=92, multi_class=auto, penalty=l2, solver=liblinear, tol=0.00067; total time=   0.0s\n",
      "[CV] END C=6, class_weight=balanced, dual=False, fit_intercept=True, max_iter=92, multi_class=auto, penalty=l2, solver=liblinear, tol=0.00067; total time=   0.0s\n",
      "[CV] END C=6, class_weight=balanced, dual=False, fit_intercept=True, max_iter=92, multi_class=auto, penalty=l2, solver=liblinear, tol=0.00067; total time=   0.0s\n",
      "[CV] END C=6, class_weight=balanced, dual=False, fit_intercept=True, max_iter=92, multi_class=auto, penalty=l2, solver=liblinear, tol=0.0007; total time=   0.0s\n",
      "[CV] END C=6, class_weight=balanced, dual=False, fit_intercept=True, max_iter=92, multi_class=auto, penalty=l2, solver=liblinear, tol=0.0007; total time=   0.0s\n",
      "[CV] END C=6, class_weight=balanced, dual=False, fit_intercept=True, max_iter=92, multi_class=auto, penalty=l2, solver=liblinear, tol=0.0007; total time=   0.0s\n",
      "[CV] END C=6, class_weight=balanced, dual=False, fit_intercept=True, max_iter=92, multi_class=auto, penalty=l2, solver=liblinear, tol=0.0006; total time=   0.0s\n",
      "[CV] END C=6, class_weight=balanced, dual=False, fit_intercept=True, max_iter=92, multi_class=auto, penalty=l2, solver=liblinear, tol=0.0006; total time=   0.0s\n",
      "[CV] END C=6, class_weight=balanced, dual=False, fit_intercept=True, max_iter=92, multi_class=auto, penalty=l2, solver=liblinear, tol=0.0006; total time=   0.0s\n",
      "[CV] END C=6, class_weight=balanced, dual=False, fit_intercept=True, max_iter=92, multi_class=auto, penalty=l2, solver=liblinear, tol=0.0005; total time=   0.0s\n",
      "[CV] END C=6, class_weight=balanced, dual=False, fit_intercept=True, max_iter=92, multi_class=auto, penalty=l2, solver=liblinear, tol=0.0005; total time=   0.0s\n",
      "[CV] END C=6, class_weight=balanced, dual=False, fit_intercept=True, max_iter=92, multi_class=auto, penalty=l2, solver=liblinear, tol=0.0005; total time=   0.0s\n",
      "[CV] END C=6, class_weight=balanced, dual=False, fit_intercept=True, max_iter=92, multi_class=auto, penalty=l2, solver=liblinear, tol=0.00062; total time=   0.0s\n",
      "[CV] END C=6, class_weight=balanced, dual=False, fit_intercept=True, max_iter=92, multi_class=auto, penalty=l2, solver=liblinear, tol=0.00062; total time=   0.0s\n",
      "[CV] END C=6, class_weight=balanced, dual=False, fit_intercept=True, max_iter=92, multi_class=auto, penalty=l2, solver=liblinear, tol=0.00062; total time=   0.0s\n",
      "[CV] END C=6, class_weight=balanced, dual=False, fit_intercept=True, max_iter=95, multi_class=auto, penalty=l2, solver=liblinear, tol=0.00067; total time=   0.0s\n",
      "[CV] END C=6, class_weight=balanced, dual=False, fit_intercept=True, max_iter=95, multi_class=auto, penalty=l2, solver=liblinear, tol=0.00067; total time=   0.0s\n",
      "[CV] END C=6, class_weight=balanced, dual=False, fit_intercept=True, max_iter=95, multi_class=auto, penalty=l2, solver=liblinear, tol=0.00067; total time=   0.0s\n",
      "[CV] END C=6, class_weight=balanced, dual=False, fit_intercept=True, max_iter=95, multi_class=auto, penalty=l2, solver=liblinear, tol=0.0007; total time=   0.0s\n",
      "[CV] END C=6, class_weight=balanced, dual=False, fit_intercept=True, max_iter=95, multi_class=auto, penalty=l2, solver=liblinear, tol=0.0007; total time=   0.0s\n",
      "[CV] END C=6, class_weight=balanced, dual=False, fit_intercept=True, max_iter=95, multi_class=auto, penalty=l2, solver=liblinear, tol=0.0007; total time=   0.0s\n",
      "[CV] END C=6, class_weight=balanced, dual=False, fit_intercept=True, max_iter=95, multi_class=auto, penalty=l2, solver=liblinear, tol=0.0006; total time=   0.0s\n",
      "[CV] END C=6, class_weight=balanced, dual=False, fit_intercept=True, max_iter=95, multi_class=auto, penalty=l2, solver=liblinear, tol=0.0006; total time=   0.0s\n",
      "[CV] END C=6, class_weight=balanced, dual=False, fit_intercept=True, max_iter=95, multi_class=auto, penalty=l2, solver=liblinear, tol=0.0006; total time=   0.0s\n",
      "[CV] END C=6, class_weight=balanced, dual=False, fit_intercept=True, max_iter=95, multi_class=auto, penalty=l2, solver=liblinear, tol=0.0005; total time=   0.0s\n",
      "[CV] END C=6, class_weight=balanced, dual=False, fit_intercept=True, max_iter=95, multi_class=auto, penalty=l2, solver=liblinear, tol=0.0005; total time=   0.0s\n",
      "[CV] END C=6, class_weight=balanced, dual=False, fit_intercept=True, max_iter=95, multi_class=auto, penalty=l2, solver=liblinear, tol=0.0005; total time=   0.0s\n",
      "[CV] END C=6, class_weight=balanced, dual=False, fit_intercept=True, max_iter=95, multi_class=auto, penalty=l2, solver=liblinear, tol=0.00062; total time=   0.0s\n",
      "[CV] END C=6, class_weight=balanced, dual=False, fit_intercept=True, max_iter=95, multi_class=auto, penalty=l2, solver=liblinear, tol=0.00062; total time=   0.0s\n",
      "[CV] END C=6, class_weight=balanced, dual=False, fit_intercept=True, max_iter=95, multi_class=auto, penalty=l2, solver=liblinear, tol=0.00062; total time=   0.0s\n",
      "[CV] END C=6, class_weight=balanced, dual=False, fit_intercept=True, max_iter=96, multi_class=auto, penalty=l2, solver=liblinear, tol=0.00067; total time=   0.0s\n",
      "[CV] END C=6, class_weight=balanced, dual=False, fit_intercept=True, max_iter=96, multi_class=auto, penalty=l2, solver=liblinear, tol=0.00067; total time=   0.0s\n",
      "[CV] END C=6, class_weight=balanced, dual=False, fit_intercept=True, max_iter=96, multi_class=auto, penalty=l2, solver=liblinear, tol=0.00067; total time=   0.0s\n",
      "[CV] END C=6, class_weight=balanced, dual=False, fit_intercept=True, max_iter=96, multi_class=auto, penalty=l2, solver=liblinear, tol=0.0007; total time=   0.0s\n",
      "[CV] END C=6, class_weight=balanced, dual=False, fit_intercept=True, max_iter=96, multi_class=auto, penalty=l2, solver=liblinear, tol=0.0007; total time=   0.0s\n",
      "[CV] END C=6, class_weight=balanced, dual=False, fit_intercept=True, max_iter=96, multi_class=auto, penalty=l2, solver=liblinear, tol=0.0007; total time=   0.0s\n",
      "[CV] END C=6, class_weight=balanced, dual=False, fit_intercept=True, max_iter=96, multi_class=auto, penalty=l2, solver=liblinear, tol=0.0006; total time=   0.0s\n",
      "[CV] END C=6, class_weight=balanced, dual=False, fit_intercept=True, max_iter=96, multi_class=auto, penalty=l2, solver=liblinear, tol=0.0006; total time=   0.0s\n",
      "[CV] END C=6, class_weight=balanced, dual=False, fit_intercept=True, max_iter=96, multi_class=auto, penalty=l2, solver=liblinear, tol=0.0006; total time=   0.0s\n",
      "[CV] END C=6, class_weight=balanced, dual=False, fit_intercept=True, max_iter=96, multi_class=auto, penalty=l2, solver=liblinear, tol=0.0005; total time=   0.0s\n",
      "[CV] END C=6, class_weight=balanced, dual=False, fit_intercept=True, max_iter=96, multi_class=auto, penalty=l2, solver=liblinear, tol=0.0005; total time=   0.0s\n",
      "[CV] END C=6, class_weight=balanced, dual=False, fit_intercept=True, max_iter=96, multi_class=auto, penalty=l2, solver=liblinear, tol=0.0005; total time=   0.0s\n",
      "[CV] END C=6, class_weight=balanced, dual=False, fit_intercept=True, max_iter=96, multi_class=auto, penalty=l2, solver=liblinear, tol=0.00062; total time=   0.0s\n",
      "[CV] END C=6, class_weight=balanced, dual=False, fit_intercept=True, max_iter=96, multi_class=auto, penalty=l2, solver=liblinear, tol=0.00062; total time=   0.0s\n"
     ]
    },
    {
     "name": "stdout",
     "output_type": "stream",
     "text": [
      "[CV] END C=6, class_weight=balanced, dual=False, fit_intercept=True, max_iter=96, multi_class=auto, penalty=l2, solver=liblinear, tol=0.00062; total time=   0.0s\n",
      "[CV] END C=6, class_weight=balanced, dual=False, fit_intercept=True, max_iter=91, multi_class=auto, penalty=l2, solver=liblinear, tol=0.00067; total time=   0.0s\n",
      "[CV] END C=6, class_weight=balanced, dual=False, fit_intercept=True, max_iter=91, multi_class=auto, penalty=l2, solver=liblinear, tol=0.00067; total time=   0.0s\n",
      "[CV] END C=6, class_weight=balanced, dual=False, fit_intercept=True, max_iter=91, multi_class=auto, penalty=l2, solver=liblinear, tol=0.00067; total time=   0.0s\n",
      "[CV] END C=6, class_weight=balanced, dual=False, fit_intercept=True, max_iter=91, multi_class=auto, penalty=l2, solver=liblinear, tol=0.0007; total time=   0.0s\n",
      "[CV] END C=6, class_weight=balanced, dual=False, fit_intercept=True, max_iter=91, multi_class=auto, penalty=l2, solver=liblinear, tol=0.0007; total time=   0.0s\n",
      "[CV] END C=6, class_weight=balanced, dual=False, fit_intercept=True, max_iter=91, multi_class=auto, penalty=l2, solver=liblinear, tol=0.0007; total time=   0.0s\n",
      "[CV] END C=6, class_weight=balanced, dual=False, fit_intercept=True, max_iter=91, multi_class=auto, penalty=l2, solver=liblinear, tol=0.0006; total time=   0.0s\n",
      "[CV] END C=6, class_weight=balanced, dual=False, fit_intercept=True, max_iter=91, multi_class=auto, penalty=l2, solver=liblinear, tol=0.0006; total time=   0.0s\n",
      "[CV] END C=6, class_weight=balanced, dual=False, fit_intercept=True, max_iter=91, multi_class=auto, penalty=l2, solver=liblinear, tol=0.0006; total time=   0.0s\n",
      "[CV] END C=6, class_weight=balanced, dual=False, fit_intercept=True, max_iter=91, multi_class=auto, penalty=l2, solver=liblinear, tol=0.0005; total time=   0.0s\n",
      "[CV] END C=6, class_weight=balanced, dual=False, fit_intercept=True, max_iter=91, multi_class=auto, penalty=l2, solver=liblinear, tol=0.0005; total time=   0.0s\n",
      "[CV] END C=6, class_weight=balanced, dual=False, fit_intercept=True, max_iter=91, multi_class=auto, penalty=l2, solver=liblinear, tol=0.0005; total time=   0.0s\n",
      "[CV] END C=6, class_weight=balanced, dual=False, fit_intercept=True, max_iter=91, multi_class=auto, penalty=l2, solver=liblinear, tol=0.00062; total time=   0.0s\n",
      "[CV] END C=6, class_weight=balanced, dual=False, fit_intercept=True, max_iter=91, multi_class=auto, penalty=l2, solver=liblinear, tol=0.00062; total time=   0.0s\n",
      "[CV] END C=6, class_weight=balanced, dual=False, fit_intercept=True, max_iter=91, multi_class=auto, penalty=l2, solver=liblinear, tol=0.00062; total time=   0.0s\n",
      "[CV] END C=6, class_weight=balanced, dual=False, fit_intercept=True, max_iter=98, multi_class=auto, penalty=l2, solver=liblinear, tol=0.00067; total time=   0.0s\n",
      "[CV] END C=6, class_weight=balanced, dual=False, fit_intercept=True, max_iter=98, multi_class=auto, penalty=l2, solver=liblinear, tol=0.00067; total time=   0.0s\n",
      "[CV] END C=6, class_weight=balanced, dual=False, fit_intercept=True, max_iter=98, multi_class=auto, penalty=l2, solver=liblinear, tol=0.00067; total time=   0.0s\n",
      "[CV] END C=6, class_weight=balanced, dual=False, fit_intercept=True, max_iter=98, multi_class=auto, penalty=l2, solver=liblinear, tol=0.0007; total time=   0.0s\n",
      "[CV] END C=6, class_weight=balanced, dual=False, fit_intercept=True, max_iter=98, multi_class=auto, penalty=l2, solver=liblinear, tol=0.0007; total time=   0.0s\n",
      "[CV] END C=6, class_weight=balanced, dual=False, fit_intercept=True, max_iter=98, multi_class=auto, penalty=l2, solver=liblinear, tol=0.0007; total time=   0.0s\n",
      "[CV] END C=6, class_weight=balanced, dual=False, fit_intercept=True, max_iter=98, multi_class=auto, penalty=l2, solver=liblinear, tol=0.0006; total time=   0.0s\n",
      "[CV] END C=6, class_weight=balanced, dual=False, fit_intercept=True, max_iter=98, multi_class=auto, penalty=l2, solver=liblinear, tol=0.0006; total time=   0.0s\n",
      "[CV] END C=6, class_weight=balanced, dual=False, fit_intercept=True, max_iter=98, multi_class=auto, penalty=l2, solver=liblinear, tol=0.0006; total time=   0.0s\n",
      "[CV] END C=6, class_weight=balanced, dual=False, fit_intercept=True, max_iter=98, multi_class=auto, penalty=l2, solver=liblinear, tol=0.0005; total time=   0.0s\n",
      "[CV] END C=6, class_weight=balanced, dual=False, fit_intercept=True, max_iter=98, multi_class=auto, penalty=l2, solver=liblinear, tol=0.0005; total time=   0.0s\n",
      "[CV] END C=6, class_weight=balanced, dual=False, fit_intercept=True, max_iter=98, multi_class=auto, penalty=l2, solver=liblinear, tol=0.0005; total time=   0.0s\n",
      "[CV] END C=6, class_weight=balanced, dual=False, fit_intercept=True, max_iter=98, multi_class=auto, penalty=l2, solver=liblinear, tol=0.00062; total time=   0.0s\n",
      "[CV] END C=6, class_weight=balanced, dual=False, fit_intercept=True, max_iter=98, multi_class=auto, penalty=l2, solver=liblinear, tol=0.00062; total time=   0.0s\n",
      "[CV] END C=6, class_weight=balanced, dual=False, fit_intercept=True, max_iter=98, multi_class=auto, penalty=l2, solver=liblinear, tol=0.00062; total time=   0.0s\n",
      "[CV] END C=6, class_weight=balanced, dual=False, fit_intercept=True, max_iter=97, multi_class=auto, penalty=l2, solver=liblinear, tol=0.00067; total time=   0.0s\n",
      "[CV] END C=6, class_weight=balanced, dual=False, fit_intercept=True, max_iter=97, multi_class=auto, penalty=l2, solver=liblinear, tol=0.00067; total time=   0.0s\n",
      "[CV] END C=6, class_weight=balanced, dual=False, fit_intercept=True, max_iter=97, multi_class=auto, penalty=l2, solver=liblinear, tol=0.00067; total time=   0.0s\n",
      "[CV] END C=6, class_weight=balanced, dual=False, fit_intercept=True, max_iter=97, multi_class=auto, penalty=l2, solver=liblinear, tol=0.0007; total time=   0.0s\n",
      "[CV] END C=6, class_weight=balanced, dual=False, fit_intercept=True, max_iter=97, multi_class=auto, penalty=l2, solver=liblinear, tol=0.0007; total time=   0.0s\n",
      "[CV] END C=6, class_weight=balanced, dual=False, fit_intercept=True, max_iter=97, multi_class=auto, penalty=l2, solver=liblinear, tol=0.0007; total time=   0.0s\n",
      "[CV] END C=6, class_weight=balanced, dual=False, fit_intercept=True, max_iter=97, multi_class=auto, penalty=l2, solver=liblinear, tol=0.0006; total time=   0.0s\n",
      "[CV] END C=6, class_weight=balanced, dual=False, fit_intercept=True, max_iter=97, multi_class=auto, penalty=l2, solver=liblinear, tol=0.0006; total time=   0.0s\n",
      "[CV] END C=6, class_weight=balanced, dual=False, fit_intercept=True, max_iter=97, multi_class=auto, penalty=l2, solver=liblinear, tol=0.0006; total time=   0.0s\n",
      "[CV] END C=6, class_weight=balanced, dual=False, fit_intercept=True, max_iter=97, multi_class=auto, penalty=l2, solver=liblinear, tol=0.0005; total time=   0.0s\n",
      "[CV] END C=6, class_weight=balanced, dual=False, fit_intercept=True, max_iter=97, multi_class=auto, penalty=l2, solver=liblinear, tol=0.0005; total time=   0.0s\n",
      "[CV] END C=6, class_weight=balanced, dual=False, fit_intercept=True, max_iter=97, multi_class=auto, penalty=l2, solver=liblinear, tol=0.0005; total time=   0.0s\n",
      "[CV] END C=6, class_weight=balanced, dual=False, fit_intercept=True, max_iter=97, multi_class=auto, penalty=l2, solver=liblinear, tol=0.00062; total time=   0.0s\n",
      "[CV] END C=6, class_weight=balanced, dual=False, fit_intercept=True, max_iter=97, multi_class=auto, penalty=l2, solver=liblinear, tol=0.00062; total time=   0.0s\n",
      "[CV] END C=6, class_weight=balanced, dual=False, fit_intercept=True, max_iter=97, multi_class=auto, penalty=l2, solver=liblinear, tol=0.00062; total time=   0.0s\n",
      "[CV] END C=5, class_weight=balanced, dual=False, fit_intercept=True, max_iter=94, multi_class=auto, penalty=l2, solver=liblinear, tol=0.00067; total time=   0.0s\n",
      "[CV] END C=5, class_weight=balanced, dual=False, fit_intercept=True, max_iter=94, multi_class=auto, penalty=l2, solver=liblinear, tol=0.00067; total time=   0.0s\n",
      "[CV] END C=5, class_weight=balanced, dual=False, fit_intercept=True, max_iter=94, multi_class=auto, penalty=l2, solver=liblinear, tol=0.00067; total time=   0.0s\n",
      "[CV] END C=5, class_weight=balanced, dual=False, fit_intercept=True, max_iter=94, multi_class=auto, penalty=l2, solver=liblinear, tol=0.0007; total time=   0.0s\n",
      "[CV] END C=5, class_weight=balanced, dual=False, fit_intercept=True, max_iter=94, multi_class=auto, penalty=l2, solver=liblinear, tol=0.0007; total time=   0.0s\n",
      "[CV] END C=5, class_weight=balanced, dual=False, fit_intercept=True, max_iter=94, multi_class=auto, penalty=l2, solver=liblinear, tol=0.0007; total time=   0.0s\n",
      "[CV] END C=5, class_weight=balanced, dual=False, fit_intercept=True, max_iter=94, multi_class=auto, penalty=l2, solver=liblinear, tol=0.0006; total time=   0.0s\n",
      "[CV] END C=5, class_weight=balanced, dual=False, fit_intercept=True, max_iter=94, multi_class=auto, penalty=l2, solver=liblinear, tol=0.0006; total time=   0.0s\n",
      "[CV] END C=5, class_weight=balanced, dual=False, fit_intercept=True, max_iter=94, multi_class=auto, penalty=l2, solver=liblinear, tol=0.0006; total time=   0.0s\n",
      "[CV] END C=5, class_weight=balanced, dual=False, fit_intercept=True, max_iter=94, multi_class=auto, penalty=l2, solver=liblinear, tol=0.0005; total time=   0.0s\n",
      "[CV] END C=5, class_weight=balanced, dual=False, fit_intercept=True, max_iter=94, multi_class=auto, penalty=l2, solver=liblinear, tol=0.0005; total time=   0.0s\n",
      "[CV] END C=5, class_weight=balanced, dual=False, fit_intercept=True, max_iter=94, multi_class=auto, penalty=l2, solver=liblinear, tol=0.0005; total time=   0.0s\n",
      "[CV] END C=5, class_weight=balanced, dual=False, fit_intercept=True, max_iter=94, multi_class=auto, penalty=l2, solver=liblinear, tol=0.00062; total time=   0.0s\n",
      "[CV] END C=5, class_weight=balanced, dual=False, fit_intercept=True, max_iter=94, multi_class=auto, penalty=l2, solver=liblinear, tol=0.00062; total time=   0.0s\n",
      "[CV] END C=5, class_weight=balanced, dual=False, fit_intercept=True, max_iter=94, multi_class=auto, penalty=l2, solver=liblinear, tol=0.00062; total time=   0.0s\n",
      "[CV] END C=5, class_weight=balanced, dual=False, fit_intercept=True, max_iter=93, multi_class=auto, penalty=l2, solver=liblinear, tol=0.00067; total time=   0.0s\n",
      "[CV] END C=5, class_weight=balanced, dual=False, fit_intercept=True, max_iter=93, multi_class=auto, penalty=l2, solver=liblinear, tol=0.00067; total time=   0.0s\n",
      "[CV] END C=5, class_weight=balanced, dual=False, fit_intercept=True, max_iter=93, multi_class=auto, penalty=l2, solver=liblinear, tol=0.00067; total time=   0.0s\n",
      "[CV] END C=5, class_weight=balanced, dual=False, fit_intercept=True, max_iter=93, multi_class=auto, penalty=l2, solver=liblinear, tol=0.0007; total time=   0.0s\n",
      "[CV] END C=5, class_weight=balanced, dual=False, fit_intercept=True, max_iter=93, multi_class=auto, penalty=l2, solver=liblinear, tol=0.0007; total time=   0.0s\n",
      "[CV] END C=5, class_weight=balanced, dual=False, fit_intercept=True, max_iter=93, multi_class=auto, penalty=l2, solver=liblinear, tol=0.0007; total time=   0.0s\n",
      "[CV] END C=5, class_weight=balanced, dual=False, fit_intercept=True, max_iter=93, multi_class=auto, penalty=l2, solver=liblinear, tol=0.0006; total time=   0.0s\n",
      "[CV] END C=5, class_weight=balanced, dual=False, fit_intercept=True, max_iter=93, multi_class=auto, penalty=l2, solver=liblinear, tol=0.0006; total time=   0.0s\n",
      "[CV] END C=5, class_weight=balanced, dual=False, fit_intercept=True, max_iter=93, multi_class=auto, penalty=l2, solver=liblinear, tol=0.0006; total time=   0.0s\n",
      "[CV] END C=5, class_weight=balanced, dual=False, fit_intercept=True, max_iter=93, multi_class=auto, penalty=l2, solver=liblinear, tol=0.0005; total time=   0.0s\n",
      "[CV] END C=5, class_weight=balanced, dual=False, fit_intercept=True, max_iter=93, multi_class=auto, penalty=l2, solver=liblinear, tol=0.0005; total time=   0.0s\n",
      "[CV] END C=5, class_weight=balanced, dual=False, fit_intercept=True, max_iter=93, multi_class=auto, penalty=l2, solver=liblinear, tol=0.0005; total time=   0.0s\n",
      "[CV] END C=5, class_weight=balanced, dual=False, fit_intercept=True, max_iter=93, multi_class=auto, penalty=l2, solver=liblinear, tol=0.00062; total time=   0.0s\n",
      "[CV] END C=5, class_weight=balanced, dual=False, fit_intercept=True, max_iter=93, multi_class=auto, penalty=l2, solver=liblinear, tol=0.00062; total time=   0.0s\n",
      "[CV] END C=5, class_weight=balanced, dual=False, fit_intercept=True, max_iter=93, multi_class=auto, penalty=l2, solver=liblinear, tol=0.00062; total time=   0.0s\n",
      "[CV] END C=5, class_weight=balanced, dual=False, fit_intercept=True, max_iter=92, multi_class=auto, penalty=l2, solver=liblinear, tol=0.00067; total time=   0.0s\n",
      "[CV] END C=5, class_weight=balanced, dual=False, fit_intercept=True, max_iter=92, multi_class=auto, penalty=l2, solver=liblinear, tol=0.00067; total time=   0.0s\n",
      "[CV] END C=5, class_weight=balanced, dual=False, fit_intercept=True, max_iter=92, multi_class=auto, penalty=l2, solver=liblinear, tol=0.00067; total time=   0.0s\n",
      "[CV] END C=5, class_weight=balanced, dual=False, fit_intercept=True, max_iter=92, multi_class=auto, penalty=l2, solver=liblinear, tol=0.0007; total time=   0.0s\n",
      "[CV] END C=5, class_weight=balanced, dual=False, fit_intercept=True, max_iter=92, multi_class=auto, penalty=l2, solver=liblinear, tol=0.0007; total time=   0.0s\n",
      "[CV] END C=5, class_weight=balanced, dual=False, fit_intercept=True, max_iter=92, multi_class=auto, penalty=l2, solver=liblinear, tol=0.0007; total time=   0.0s\n",
      "[CV] END C=5, class_weight=balanced, dual=False, fit_intercept=True, max_iter=92, multi_class=auto, penalty=l2, solver=liblinear, tol=0.0006; total time=   0.0s\n",
      "[CV] END C=5, class_weight=balanced, dual=False, fit_intercept=True, max_iter=92, multi_class=auto, penalty=l2, solver=liblinear, tol=0.0006; total time=   0.0s\n",
      "[CV] END C=5, class_weight=balanced, dual=False, fit_intercept=True, max_iter=92, multi_class=auto, penalty=l2, solver=liblinear, tol=0.0006; total time=   0.0s\n"
     ]
    },
    {
     "name": "stdout",
     "output_type": "stream",
     "text": [
      "[CV] END C=5, class_weight=balanced, dual=False, fit_intercept=True, max_iter=92, multi_class=auto, penalty=l2, solver=liblinear, tol=0.0005; total time=   0.0s\n",
      "[CV] END C=5, class_weight=balanced, dual=False, fit_intercept=True, max_iter=92, multi_class=auto, penalty=l2, solver=liblinear, tol=0.0005; total time=   0.0s\n",
      "[CV] END C=5, class_weight=balanced, dual=False, fit_intercept=True, max_iter=92, multi_class=auto, penalty=l2, solver=liblinear, tol=0.0005; total time=   0.0s\n",
      "[CV] END C=5, class_weight=balanced, dual=False, fit_intercept=True, max_iter=92, multi_class=auto, penalty=l2, solver=liblinear, tol=0.00062; total time=   0.0s\n",
      "[CV] END C=5, class_weight=balanced, dual=False, fit_intercept=True, max_iter=92, multi_class=auto, penalty=l2, solver=liblinear, tol=0.00062; total time=   0.0s\n",
      "[CV] END C=5, class_weight=balanced, dual=False, fit_intercept=True, max_iter=92, multi_class=auto, penalty=l2, solver=liblinear, tol=0.00062; total time=   0.0s\n",
      "[CV] END C=5, class_weight=balanced, dual=False, fit_intercept=True, max_iter=95, multi_class=auto, penalty=l2, solver=liblinear, tol=0.00067; total time=   0.0s\n",
      "[CV] END C=5, class_weight=balanced, dual=False, fit_intercept=True, max_iter=95, multi_class=auto, penalty=l2, solver=liblinear, tol=0.00067; total time=   0.0s\n",
      "[CV] END C=5, class_weight=balanced, dual=False, fit_intercept=True, max_iter=95, multi_class=auto, penalty=l2, solver=liblinear, tol=0.00067; total time=   0.0s\n",
      "[CV] END C=5, class_weight=balanced, dual=False, fit_intercept=True, max_iter=95, multi_class=auto, penalty=l2, solver=liblinear, tol=0.0007; total time=   0.0s\n",
      "[CV] END C=5, class_weight=balanced, dual=False, fit_intercept=True, max_iter=95, multi_class=auto, penalty=l2, solver=liblinear, tol=0.0007; total time=   0.0s\n",
      "[CV] END C=5, class_weight=balanced, dual=False, fit_intercept=True, max_iter=95, multi_class=auto, penalty=l2, solver=liblinear, tol=0.0007; total time=   0.0s\n",
      "[CV] END C=5, class_weight=balanced, dual=False, fit_intercept=True, max_iter=95, multi_class=auto, penalty=l2, solver=liblinear, tol=0.0006; total time=   0.0s\n",
      "[CV] END C=5, class_weight=balanced, dual=False, fit_intercept=True, max_iter=95, multi_class=auto, penalty=l2, solver=liblinear, tol=0.0006; total time=   0.0s\n",
      "[CV] END C=5, class_weight=balanced, dual=False, fit_intercept=True, max_iter=95, multi_class=auto, penalty=l2, solver=liblinear, tol=0.0006; total time=   0.0s\n",
      "[CV] END C=5, class_weight=balanced, dual=False, fit_intercept=True, max_iter=95, multi_class=auto, penalty=l2, solver=liblinear, tol=0.0005; total time=   0.0s\n",
      "[CV] END C=5, class_weight=balanced, dual=False, fit_intercept=True, max_iter=95, multi_class=auto, penalty=l2, solver=liblinear, tol=0.0005; total time=   0.0s\n",
      "[CV] END C=5, class_weight=balanced, dual=False, fit_intercept=True, max_iter=95, multi_class=auto, penalty=l2, solver=liblinear, tol=0.0005; total time=   0.0s\n",
      "[CV] END C=5, class_weight=balanced, dual=False, fit_intercept=True, max_iter=95, multi_class=auto, penalty=l2, solver=liblinear, tol=0.00062; total time=   0.0s\n",
      "[CV] END C=5, class_weight=balanced, dual=False, fit_intercept=True, max_iter=95, multi_class=auto, penalty=l2, solver=liblinear, tol=0.00062; total time=   0.0s\n",
      "[CV] END C=5, class_weight=balanced, dual=False, fit_intercept=True, max_iter=95, multi_class=auto, penalty=l2, solver=liblinear, tol=0.00062; total time=   0.0s\n",
      "[CV] END C=5, class_weight=balanced, dual=False, fit_intercept=True, max_iter=96, multi_class=auto, penalty=l2, solver=liblinear, tol=0.00067; total time=   0.0s\n",
      "[CV] END C=5, class_weight=balanced, dual=False, fit_intercept=True, max_iter=96, multi_class=auto, penalty=l2, solver=liblinear, tol=0.00067; total time=   0.0s\n",
      "[CV] END C=5, class_weight=balanced, dual=False, fit_intercept=True, max_iter=96, multi_class=auto, penalty=l2, solver=liblinear, tol=0.00067; total time=   0.0s\n",
      "[CV] END C=5, class_weight=balanced, dual=False, fit_intercept=True, max_iter=96, multi_class=auto, penalty=l2, solver=liblinear, tol=0.0007; total time=   0.0s\n",
      "[CV] END C=5, class_weight=balanced, dual=False, fit_intercept=True, max_iter=96, multi_class=auto, penalty=l2, solver=liblinear, tol=0.0007; total time=   0.0s\n",
      "[CV] END C=5, class_weight=balanced, dual=False, fit_intercept=True, max_iter=96, multi_class=auto, penalty=l2, solver=liblinear, tol=0.0007; total time=   0.0s\n",
      "[CV] END C=5, class_weight=balanced, dual=False, fit_intercept=True, max_iter=96, multi_class=auto, penalty=l2, solver=liblinear, tol=0.0006; total time=   0.0s\n",
      "[CV] END C=5, class_weight=balanced, dual=False, fit_intercept=True, max_iter=96, multi_class=auto, penalty=l2, solver=liblinear, tol=0.0006; total time=   0.0s\n",
      "[CV] END C=5, class_weight=balanced, dual=False, fit_intercept=True, max_iter=96, multi_class=auto, penalty=l2, solver=liblinear, tol=0.0006; total time=   0.0s\n",
      "[CV] END C=5, class_weight=balanced, dual=False, fit_intercept=True, max_iter=96, multi_class=auto, penalty=l2, solver=liblinear, tol=0.0005; total time=   0.0s\n",
      "[CV] END C=5, class_weight=balanced, dual=False, fit_intercept=True, max_iter=96, multi_class=auto, penalty=l2, solver=liblinear, tol=0.0005; total time=   0.0s\n",
      "[CV] END C=5, class_weight=balanced, dual=False, fit_intercept=True, max_iter=96, multi_class=auto, penalty=l2, solver=liblinear, tol=0.0005; total time=   0.0s\n",
      "[CV] END C=5, class_weight=balanced, dual=False, fit_intercept=True, max_iter=96, multi_class=auto, penalty=l2, solver=liblinear, tol=0.00062; total time=   0.0s\n",
      "[CV] END C=5, class_weight=balanced, dual=False, fit_intercept=True, max_iter=96, multi_class=auto, penalty=l2, solver=liblinear, tol=0.00062; total time=   0.0s\n",
      "[CV] END C=5, class_weight=balanced, dual=False, fit_intercept=True, max_iter=96, multi_class=auto, penalty=l2, solver=liblinear, tol=0.00062; total time=   0.0s\n",
      "[CV] END C=5, class_weight=balanced, dual=False, fit_intercept=True, max_iter=91, multi_class=auto, penalty=l2, solver=liblinear, tol=0.00067; total time=   0.0s\n",
      "[CV] END C=5, class_weight=balanced, dual=False, fit_intercept=True, max_iter=91, multi_class=auto, penalty=l2, solver=liblinear, tol=0.00067; total time=   0.0s\n",
      "[CV] END C=5, class_weight=balanced, dual=False, fit_intercept=True, max_iter=91, multi_class=auto, penalty=l2, solver=liblinear, tol=0.00067; total time=   0.0s\n",
      "[CV] END C=5, class_weight=balanced, dual=False, fit_intercept=True, max_iter=91, multi_class=auto, penalty=l2, solver=liblinear, tol=0.0007; total time=   0.0s\n",
      "[CV] END C=5, class_weight=balanced, dual=False, fit_intercept=True, max_iter=91, multi_class=auto, penalty=l2, solver=liblinear, tol=0.0007; total time=   0.0s\n",
      "[CV] END C=5, class_weight=balanced, dual=False, fit_intercept=True, max_iter=91, multi_class=auto, penalty=l2, solver=liblinear, tol=0.0007; total time=   0.0s\n",
      "[CV] END C=5, class_weight=balanced, dual=False, fit_intercept=True, max_iter=91, multi_class=auto, penalty=l2, solver=liblinear, tol=0.0006; total time=   0.0s\n",
      "[CV] END C=5, class_weight=balanced, dual=False, fit_intercept=True, max_iter=91, multi_class=auto, penalty=l2, solver=liblinear, tol=0.0006; total time=   0.0s\n",
      "[CV] END C=5, class_weight=balanced, dual=False, fit_intercept=True, max_iter=91, multi_class=auto, penalty=l2, solver=liblinear, tol=0.0006; total time=   0.0s\n",
      "[CV] END C=5, class_weight=balanced, dual=False, fit_intercept=True, max_iter=91, multi_class=auto, penalty=l2, solver=liblinear, tol=0.0005; total time=   0.0s\n",
      "[CV] END C=5, class_weight=balanced, dual=False, fit_intercept=True, max_iter=91, multi_class=auto, penalty=l2, solver=liblinear, tol=0.0005; total time=   0.0s\n",
      "[CV] END C=5, class_weight=balanced, dual=False, fit_intercept=True, max_iter=91, multi_class=auto, penalty=l2, solver=liblinear, tol=0.0005; total time=   0.0s\n",
      "[CV] END C=5, class_weight=balanced, dual=False, fit_intercept=True, max_iter=91, multi_class=auto, penalty=l2, solver=liblinear, tol=0.00062; total time=   0.0s\n",
      "[CV] END C=5, class_weight=balanced, dual=False, fit_intercept=True, max_iter=91, multi_class=auto, penalty=l2, solver=liblinear, tol=0.00062; total time=   0.0s\n",
      "[CV] END C=5, class_weight=balanced, dual=False, fit_intercept=True, max_iter=91, multi_class=auto, penalty=l2, solver=liblinear, tol=0.00062; total time=   0.0s\n",
      "[CV] END C=5, class_weight=balanced, dual=False, fit_intercept=True, max_iter=98, multi_class=auto, penalty=l2, solver=liblinear, tol=0.00067; total time=   0.0s\n",
      "[CV] END C=5, class_weight=balanced, dual=False, fit_intercept=True, max_iter=98, multi_class=auto, penalty=l2, solver=liblinear, tol=0.00067; total time=   0.0s\n",
      "[CV] END C=5, class_weight=balanced, dual=False, fit_intercept=True, max_iter=98, multi_class=auto, penalty=l2, solver=liblinear, tol=0.00067; total time=   0.0s\n",
      "[CV] END C=5, class_weight=balanced, dual=False, fit_intercept=True, max_iter=98, multi_class=auto, penalty=l2, solver=liblinear, tol=0.0007; total time=   0.0s\n",
      "[CV] END C=5, class_weight=balanced, dual=False, fit_intercept=True, max_iter=98, multi_class=auto, penalty=l2, solver=liblinear, tol=0.0007; total time=   0.0s\n",
      "[CV] END C=5, class_weight=balanced, dual=False, fit_intercept=True, max_iter=98, multi_class=auto, penalty=l2, solver=liblinear, tol=0.0007; total time=   0.0s\n",
      "[CV] END C=5, class_weight=balanced, dual=False, fit_intercept=True, max_iter=98, multi_class=auto, penalty=l2, solver=liblinear, tol=0.0006; total time=   0.0s\n",
      "[CV] END C=5, class_weight=balanced, dual=False, fit_intercept=True, max_iter=98, multi_class=auto, penalty=l2, solver=liblinear, tol=0.0006; total time=   0.0s\n",
      "[CV] END C=5, class_weight=balanced, dual=False, fit_intercept=True, max_iter=98, multi_class=auto, penalty=l2, solver=liblinear, tol=0.0006; total time=   0.0s\n",
      "[CV] END C=5, class_weight=balanced, dual=False, fit_intercept=True, max_iter=98, multi_class=auto, penalty=l2, solver=liblinear, tol=0.0005; total time=   0.0s\n",
      "[CV] END C=5, class_weight=balanced, dual=False, fit_intercept=True, max_iter=98, multi_class=auto, penalty=l2, solver=liblinear, tol=0.0005; total time=   0.0s\n",
      "[CV] END C=5, class_weight=balanced, dual=False, fit_intercept=True, max_iter=98, multi_class=auto, penalty=l2, solver=liblinear, tol=0.0005; total time=   0.0s\n",
      "[CV] END C=5, class_weight=balanced, dual=False, fit_intercept=True, max_iter=98, multi_class=auto, penalty=l2, solver=liblinear, tol=0.00062; total time=   0.0s\n",
      "[CV] END C=5, class_weight=balanced, dual=False, fit_intercept=True, max_iter=98, multi_class=auto, penalty=l2, solver=liblinear, tol=0.00062; total time=   0.0s\n",
      "[CV] END C=5, class_weight=balanced, dual=False, fit_intercept=True, max_iter=98, multi_class=auto, penalty=l2, solver=liblinear, tol=0.00062; total time=   0.0s\n",
      "[CV] END C=5, class_weight=balanced, dual=False, fit_intercept=True, max_iter=97, multi_class=auto, penalty=l2, solver=liblinear, tol=0.00067; total time=   0.0s\n",
      "[CV] END C=5, class_weight=balanced, dual=False, fit_intercept=True, max_iter=97, multi_class=auto, penalty=l2, solver=liblinear, tol=0.00067; total time=   0.0s\n",
      "[CV] END C=5, class_weight=balanced, dual=False, fit_intercept=True, max_iter=97, multi_class=auto, penalty=l2, solver=liblinear, tol=0.00067; total time=   0.0s\n",
      "[CV] END C=5, class_weight=balanced, dual=False, fit_intercept=True, max_iter=97, multi_class=auto, penalty=l2, solver=liblinear, tol=0.0007; total time=   0.0s\n",
      "[CV] END C=5, class_weight=balanced, dual=False, fit_intercept=True, max_iter=97, multi_class=auto, penalty=l2, solver=liblinear, tol=0.0007; total time=   0.0s\n",
      "[CV] END C=5, class_weight=balanced, dual=False, fit_intercept=True, max_iter=97, multi_class=auto, penalty=l2, solver=liblinear, tol=0.0007; total time=   0.0s\n",
      "[CV] END C=5, class_weight=balanced, dual=False, fit_intercept=True, max_iter=97, multi_class=auto, penalty=l2, solver=liblinear, tol=0.0006; total time=   0.0s\n",
      "[CV] END C=5, class_weight=balanced, dual=False, fit_intercept=True, max_iter=97, multi_class=auto, penalty=l2, solver=liblinear, tol=0.0006; total time=   0.0s\n",
      "[CV] END C=5, class_weight=balanced, dual=False, fit_intercept=True, max_iter=97, multi_class=auto, penalty=l2, solver=liblinear, tol=0.0006; total time=   0.0s\n",
      "[CV] END C=5, class_weight=balanced, dual=False, fit_intercept=True, max_iter=97, multi_class=auto, penalty=l2, solver=liblinear, tol=0.0005; total time=   0.0s\n",
      "[CV] END C=5, class_weight=balanced, dual=False, fit_intercept=True, max_iter=97, multi_class=auto, penalty=l2, solver=liblinear, tol=0.0005; total time=   0.0s\n",
      "[CV] END C=5, class_weight=balanced, dual=False, fit_intercept=True, max_iter=97, multi_class=auto, penalty=l2, solver=liblinear, tol=0.0005; total time=   0.0s\n",
      "[CV] END C=5, class_weight=balanced, dual=False, fit_intercept=True, max_iter=97, multi_class=auto, penalty=l2, solver=liblinear, tol=0.00062; total time=   0.0s\n"
     ]
    },
    {
     "name": "stdout",
     "output_type": "stream",
     "text": [
      "[CV] END C=5, class_weight=balanced, dual=False, fit_intercept=True, max_iter=97, multi_class=auto, penalty=l2, solver=liblinear, tol=0.00062; total time=   0.0s\n",
      "[CV] END C=5, class_weight=balanced, dual=False, fit_intercept=True, max_iter=97, multi_class=auto, penalty=l2, solver=liblinear, tol=0.00062; total time=   0.0s\n",
      "[CV] END C=4, class_weight=balanced, dual=False, fit_intercept=True, max_iter=94, multi_class=auto, penalty=l2, solver=liblinear, tol=0.00067; total time=   0.0s\n",
      "[CV] END C=4, class_weight=balanced, dual=False, fit_intercept=True, max_iter=94, multi_class=auto, penalty=l2, solver=liblinear, tol=0.00067; total time=   0.0s\n",
      "[CV] END C=4, class_weight=balanced, dual=False, fit_intercept=True, max_iter=94, multi_class=auto, penalty=l2, solver=liblinear, tol=0.00067; total time=   0.0s\n",
      "[CV] END C=4, class_weight=balanced, dual=False, fit_intercept=True, max_iter=94, multi_class=auto, penalty=l2, solver=liblinear, tol=0.0007; total time=   0.0s\n",
      "[CV] END C=4, class_weight=balanced, dual=False, fit_intercept=True, max_iter=94, multi_class=auto, penalty=l2, solver=liblinear, tol=0.0007; total time=   0.0s\n",
      "[CV] END C=4, class_weight=balanced, dual=False, fit_intercept=True, max_iter=94, multi_class=auto, penalty=l2, solver=liblinear, tol=0.0007; total time=   0.0s\n",
      "[CV] END C=4, class_weight=balanced, dual=False, fit_intercept=True, max_iter=94, multi_class=auto, penalty=l2, solver=liblinear, tol=0.0006; total time=   0.0s\n",
      "[CV] END C=4, class_weight=balanced, dual=False, fit_intercept=True, max_iter=94, multi_class=auto, penalty=l2, solver=liblinear, tol=0.0006; total time=   0.0s\n",
      "[CV] END C=4, class_weight=balanced, dual=False, fit_intercept=True, max_iter=94, multi_class=auto, penalty=l2, solver=liblinear, tol=0.0006; total time=   0.0s\n",
      "[CV] END C=4, class_weight=balanced, dual=False, fit_intercept=True, max_iter=94, multi_class=auto, penalty=l2, solver=liblinear, tol=0.0005; total time=   0.0s\n",
      "[CV] END C=4, class_weight=balanced, dual=False, fit_intercept=True, max_iter=94, multi_class=auto, penalty=l2, solver=liblinear, tol=0.0005; total time=   0.0s\n",
      "[CV] END C=4, class_weight=balanced, dual=False, fit_intercept=True, max_iter=94, multi_class=auto, penalty=l2, solver=liblinear, tol=0.0005; total time=   0.0s\n",
      "[CV] END C=4, class_weight=balanced, dual=False, fit_intercept=True, max_iter=94, multi_class=auto, penalty=l2, solver=liblinear, tol=0.00062; total time=   0.0s\n",
      "[CV] END C=4, class_weight=balanced, dual=False, fit_intercept=True, max_iter=94, multi_class=auto, penalty=l2, solver=liblinear, tol=0.00062; total time=   0.0s\n",
      "[CV] END C=4, class_weight=balanced, dual=False, fit_intercept=True, max_iter=94, multi_class=auto, penalty=l2, solver=liblinear, tol=0.00062; total time=   0.0s\n",
      "[CV] END C=4, class_weight=balanced, dual=False, fit_intercept=True, max_iter=93, multi_class=auto, penalty=l2, solver=liblinear, tol=0.00067; total time=   0.0s\n",
      "[CV] END C=4, class_weight=balanced, dual=False, fit_intercept=True, max_iter=93, multi_class=auto, penalty=l2, solver=liblinear, tol=0.00067; total time=   0.0s\n",
      "[CV] END C=4, class_weight=balanced, dual=False, fit_intercept=True, max_iter=93, multi_class=auto, penalty=l2, solver=liblinear, tol=0.00067; total time=   0.0s\n",
      "[CV] END C=4, class_weight=balanced, dual=False, fit_intercept=True, max_iter=93, multi_class=auto, penalty=l2, solver=liblinear, tol=0.0007; total time=   0.0s\n",
      "[CV] END C=4, class_weight=balanced, dual=False, fit_intercept=True, max_iter=93, multi_class=auto, penalty=l2, solver=liblinear, tol=0.0007; total time=   0.0s\n",
      "[CV] END C=4, class_weight=balanced, dual=False, fit_intercept=True, max_iter=93, multi_class=auto, penalty=l2, solver=liblinear, tol=0.0007; total time=   0.0s\n",
      "[CV] END C=4, class_weight=balanced, dual=False, fit_intercept=True, max_iter=93, multi_class=auto, penalty=l2, solver=liblinear, tol=0.0006; total time=   0.0s\n",
      "[CV] END C=4, class_weight=balanced, dual=False, fit_intercept=True, max_iter=93, multi_class=auto, penalty=l2, solver=liblinear, tol=0.0006; total time=   0.0s\n",
      "[CV] END C=4, class_weight=balanced, dual=False, fit_intercept=True, max_iter=93, multi_class=auto, penalty=l2, solver=liblinear, tol=0.0006; total time=   0.0s\n",
      "[CV] END C=4, class_weight=balanced, dual=False, fit_intercept=True, max_iter=93, multi_class=auto, penalty=l2, solver=liblinear, tol=0.0005; total time=   0.0s\n",
      "[CV] END C=4, class_weight=balanced, dual=False, fit_intercept=True, max_iter=93, multi_class=auto, penalty=l2, solver=liblinear, tol=0.0005; total time=   0.0s\n",
      "[CV] END C=4, class_weight=balanced, dual=False, fit_intercept=True, max_iter=93, multi_class=auto, penalty=l2, solver=liblinear, tol=0.0005; total time=   0.0s\n",
      "[CV] END C=4, class_weight=balanced, dual=False, fit_intercept=True, max_iter=93, multi_class=auto, penalty=l2, solver=liblinear, tol=0.00062; total time=   0.0s\n",
      "[CV] END C=4, class_weight=balanced, dual=False, fit_intercept=True, max_iter=93, multi_class=auto, penalty=l2, solver=liblinear, tol=0.00062; total time=   0.0s\n",
      "[CV] END C=4, class_weight=balanced, dual=False, fit_intercept=True, max_iter=93, multi_class=auto, penalty=l2, solver=liblinear, tol=0.00062; total time=   0.0s\n",
      "[CV] END C=4, class_weight=balanced, dual=False, fit_intercept=True, max_iter=92, multi_class=auto, penalty=l2, solver=liblinear, tol=0.00067; total time=   0.0s\n",
      "[CV] END C=4, class_weight=balanced, dual=False, fit_intercept=True, max_iter=92, multi_class=auto, penalty=l2, solver=liblinear, tol=0.00067; total time=   0.0s\n",
      "[CV] END C=4, class_weight=balanced, dual=False, fit_intercept=True, max_iter=92, multi_class=auto, penalty=l2, solver=liblinear, tol=0.00067; total time=   0.0s\n",
      "[CV] END C=4, class_weight=balanced, dual=False, fit_intercept=True, max_iter=92, multi_class=auto, penalty=l2, solver=liblinear, tol=0.0007; total time=   0.0s\n",
      "[CV] END C=4, class_weight=balanced, dual=False, fit_intercept=True, max_iter=92, multi_class=auto, penalty=l2, solver=liblinear, tol=0.0007; total time=   0.0s\n",
      "[CV] END C=4, class_weight=balanced, dual=False, fit_intercept=True, max_iter=92, multi_class=auto, penalty=l2, solver=liblinear, tol=0.0007; total time=   0.0s\n",
      "[CV] END C=4, class_weight=balanced, dual=False, fit_intercept=True, max_iter=92, multi_class=auto, penalty=l2, solver=liblinear, tol=0.0006; total time=   0.0s\n",
      "[CV] END C=4, class_weight=balanced, dual=False, fit_intercept=True, max_iter=92, multi_class=auto, penalty=l2, solver=liblinear, tol=0.0006; total time=   0.0s\n",
      "[CV] END C=4, class_weight=balanced, dual=False, fit_intercept=True, max_iter=92, multi_class=auto, penalty=l2, solver=liblinear, tol=0.0006; total time=   0.0s\n",
      "[CV] END C=4, class_weight=balanced, dual=False, fit_intercept=True, max_iter=92, multi_class=auto, penalty=l2, solver=liblinear, tol=0.0005; total time=   0.0s\n",
      "[CV] END C=4, class_weight=balanced, dual=False, fit_intercept=True, max_iter=92, multi_class=auto, penalty=l2, solver=liblinear, tol=0.0005; total time=   0.0s\n",
      "[CV] END C=4, class_weight=balanced, dual=False, fit_intercept=True, max_iter=92, multi_class=auto, penalty=l2, solver=liblinear, tol=0.0005; total time=   0.0s\n",
      "[CV] END C=4, class_weight=balanced, dual=False, fit_intercept=True, max_iter=92, multi_class=auto, penalty=l2, solver=liblinear, tol=0.00062; total time=   0.0s\n",
      "[CV] END C=4, class_weight=balanced, dual=False, fit_intercept=True, max_iter=92, multi_class=auto, penalty=l2, solver=liblinear, tol=0.00062; total time=   0.0s\n",
      "[CV] END C=4, class_weight=balanced, dual=False, fit_intercept=True, max_iter=92, multi_class=auto, penalty=l2, solver=liblinear, tol=0.00062; total time=   0.0s\n",
      "[CV] END C=4, class_weight=balanced, dual=False, fit_intercept=True, max_iter=95, multi_class=auto, penalty=l2, solver=liblinear, tol=0.00067; total time=   0.0s\n",
      "[CV] END C=4, class_weight=balanced, dual=False, fit_intercept=True, max_iter=95, multi_class=auto, penalty=l2, solver=liblinear, tol=0.00067; total time=   0.0s\n",
      "[CV] END C=4, class_weight=balanced, dual=False, fit_intercept=True, max_iter=95, multi_class=auto, penalty=l2, solver=liblinear, tol=0.00067; total time=   0.0s\n",
      "[CV] END C=4, class_weight=balanced, dual=False, fit_intercept=True, max_iter=95, multi_class=auto, penalty=l2, solver=liblinear, tol=0.0007; total time=   0.0s\n",
      "[CV] END C=4, class_weight=balanced, dual=False, fit_intercept=True, max_iter=95, multi_class=auto, penalty=l2, solver=liblinear, tol=0.0007; total time=   0.0s\n",
      "[CV] END C=4, class_weight=balanced, dual=False, fit_intercept=True, max_iter=95, multi_class=auto, penalty=l2, solver=liblinear, tol=0.0007; total time=   0.0s\n",
      "[CV] END C=4, class_weight=balanced, dual=False, fit_intercept=True, max_iter=95, multi_class=auto, penalty=l2, solver=liblinear, tol=0.0006; total time=   0.0s\n",
      "[CV] END C=4, class_weight=balanced, dual=False, fit_intercept=True, max_iter=95, multi_class=auto, penalty=l2, solver=liblinear, tol=0.0006; total time=   0.0s\n",
      "[CV] END C=4, class_weight=balanced, dual=False, fit_intercept=True, max_iter=95, multi_class=auto, penalty=l2, solver=liblinear, tol=0.0006; total time=   0.0s\n",
      "[CV] END C=4, class_weight=balanced, dual=False, fit_intercept=True, max_iter=95, multi_class=auto, penalty=l2, solver=liblinear, tol=0.0005; total time=   0.0s\n",
      "[CV] END C=4, class_weight=balanced, dual=False, fit_intercept=True, max_iter=95, multi_class=auto, penalty=l2, solver=liblinear, tol=0.0005; total time=   0.0s\n",
      "[CV] END C=4, class_weight=balanced, dual=False, fit_intercept=True, max_iter=95, multi_class=auto, penalty=l2, solver=liblinear, tol=0.0005; total time=   0.0s\n",
      "[CV] END C=4, class_weight=balanced, dual=False, fit_intercept=True, max_iter=95, multi_class=auto, penalty=l2, solver=liblinear, tol=0.00062; total time=   0.0s\n",
      "[CV] END C=4, class_weight=balanced, dual=False, fit_intercept=True, max_iter=95, multi_class=auto, penalty=l2, solver=liblinear, tol=0.00062; total time=   0.0s\n",
      "[CV] END C=4, class_weight=balanced, dual=False, fit_intercept=True, max_iter=95, multi_class=auto, penalty=l2, solver=liblinear, tol=0.00062; total time=   0.0s\n",
      "[CV] END C=4, class_weight=balanced, dual=False, fit_intercept=True, max_iter=96, multi_class=auto, penalty=l2, solver=liblinear, tol=0.00067; total time=   0.0s\n",
      "[CV] END C=4, class_weight=balanced, dual=False, fit_intercept=True, max_iter=96, multi_class=auto, penalty=l2, solver=liblinear, tol=0.00067; total time=   0.0s\n",
      "[CV] END C=4, class_weight=balanced, dual=False, fit_intercept=True, max_iter=96, multi_class=auto, penalty=l2, solver=liblinear, tol=0.00067; total time=   0.0s\n",
      "[CV] END C=4, class_weight=balanced, dual=False, fit_intercept=True, max_iter=96, multi_class=auto, penalty=l2, solver=liblinear, tol=0.0007; total time=   0.0s\n",
      "[CV] END C=4, class_weight=balanced, dual=False, fit_intercept=True, max_iter=96, multi_class=auto, penalty=l2, solver=liblinear, tol=0.0007; total time=   0.0s\n",
      "[CV] END C=4, class_weight=balanced, dual=False, fit_intercept=True, max_iter=96, multi_class=auto, penalty=l2, solver=liblinear, tol=0.0007; total time=   0.0s\n",
      "[CV] END C=4, class_weight=balanced, dual=False, fit_intercept=True, max_iter=96, multi_class=auto, penalty=l2, solver=liblinear, tol=0.0006; total time=   0.0s\n",
      "[CV] END C=4, class_weight=balanced, dual=False, fit_intercept=True, max_iter=96, multi_class=auto, penalty=l2, solver=liblinear, tol=0.0006; total time=   0.0s\n",
      "[CV] END C=4, class_weight=balanced, dual=False, fit_intercept=True, max_iter=96, multi_class=auto, penalty=l2, solver=liblinear, tol=0.0006; total time=   0.0s\n",
      "[CV] END C=4, class_weight=balanced, dual=False, fit_intercept=True, max_iter=96, multi_class=auto, penalty=l2, solver=liblinear, tol=0.0005; total time=   0.0s\n",
      "[CV] END C=4, class_weight=balanced, dual=False, fit_intercept=True, max_iter=96, multi_class=auto, penalty=l2, solver=liblinear, tol=0.0005; total time=   0.0s\n",
      "[CV] END C=4, class_weight=balanced, dual=False, fit_intercept=True, max_iter=96, multi_class=auto, penalty=l2, solver=liblinear, tol=0.0005; total time=   0.0s\n",
      "[CV] END C=4, class_weight=balanced, dual=False, fit_intercept=True, max_iter=96, multi_class=auto, penalty=l2, solver=liblinear, tol=0.00062; total time=   0.0s\n",
      "[CV] END C=4, class_weight=balanced, dual=False, fit_intercept=True, max_iter=96, multi_class=auto, penalty=l2, solver=liblinear, tol=0.00062; total time=   0.0s\n",
      "[CV] END C=4, class_weight=balanced, dual=False, fit_intercept=True, max_iter=96, multi_class=auto, penalty=l2, solver=liblinear, tol=0.00062; total time=   0.0s\n",
      "[CV] END C=4, class_weight=balanced, dual=False, fit_intercept=True, max_iter=91, multi_class=auto, penalty=l2, solver=liblinear, tol=0.00067; total time=   0.0s\n",
      "[CV] END C=4, class_weight=balanced, dual=False, fit_intercept=True, max_iter=91, multi_class=auto, penalty=l2, solver=liblinear, tol=0.00067; total time=   0.0s\n",
      "[CV] END C=4, class_weight=balanced, dual=False, fit_intercept=True, max_iter=91, multi_class=auto, penalty=l2, solver=liblinear, tol=0.00067; total time=   0.0s\n",
      "[CV] END C=4, class_weight=balanced, dual=False, fit_intercept=True, max_iter=91, multi_class=auto, penalty=l2, solver=liblinear, tol=0.0007; total time=   0.0s\n",
      "[CV] END C=4, class_weight=balanced, dual=False, fit_intercept=True, max_iter=91, multi_class=auto, penalty=l2, solver=liblinear, tol=0.0007; total time=   0.0s\n",
      "[CV] END C=4, class_weight=balanced, dual=False, fit_intercept=True, max_iter=91, multi_class=auto, penalty=l2, solver=liblinear, tol=0.0007; total time=   0.0s\n",
      "[CV] END C=4, class_weight=balanced, dual=False, fit_intercept=True, max_iter=91, multi_class=auto, penalty=l2, solver=liblinear, tol=0.0006; total time=   0.0s\n",
      "[CV] END C=4, class_weight=balanced, dual=False, fit_intercept=True, max_iter=91, multi_class=auto, penalty=l2, solver=liblinear, tol=0.0006; total time=   0.0s\n",
      "[CV] END C=4, class_weight=balanced, dual=False, fit_intercept=True, max_iter=91, multi_class=auto, penalty=l2, solver=liblinear, tol=0.0006; total time=   0.0s\n",
      "[CV] END C=4, class_weight=balanced, dual=False, fit_intercept=True, max_iter=91, multi_class=auto, penalty=l2, solver=liblinear, tol=0.0005; total time=   0.0s\n",
      "[CV] END C=4, class_weight=balanced, dual=False, fit_intercept=True, max_iter=91, multi_class=auto, penalty=l2, solver=liblinear, tol=0.0005; total time=   0.0s\n"
     ]
    },
    {
     "name": "stdout",
     "output_type": "stream",
     "text": [
      "[CV] END C=4, class_weight=balanced, dual=False, fit_intercept=True, max_iter=91, multi_class=auto, penalty=l2, solver=liblinear, tol=0.0005; total time=   0.0s\n",
      "[CV] END C=4, class_weight=balanced, dual=False, fit_intercept=True, max_iter=91, multi_class=auto, penalty=l2, solver=liblinear, tol=0.00062; total time=   0.0s\n",
      "[CV] END C=4, class_weight=balanced, dual=False, fit_intercept=True, max_iter=91, multi_class=auto, penalty=l2, solver=liblinear, tol=0.00062; total time=   0.0s\n",
      "[CV] END C=4, class_weight=balanced, dual=False, fit_intercept=True, max_iter=91, multi_class=auto, penalty=l2, solver=liblinear, tol=0.00062; total time=   0.0s\n",
      "[CV] END C=4, class_weight=balanced, dual=False, fit_intercept=True, max_iter=98, multi_class=auto, penalty=l2, solver=liblinear, tol=0.00067; total time=   0.0s\n",
      "[CV] END C=4, class_weight=balanced, dual=False, fit_intercept=True, max_iter=98, multi_class=auto, penalty=l2, solver=liblinear, tol=0.00067; total time=   0.0s\n",
      "[CV] END C=4, class_weight=balanced, dual=False, fit_intercept=True, max_iter=98, multi_class=auto, penalty=l2, solver=liblinear, tol=0.00067; total time=   0.0s\n",
      "[CV] END C=4, class_weight=balanced, dual=False, fit_intercept=True, max_iter=98, multi_class=auto, penalty=l2, solver=liblinear, tol=0.0007; total time=   0.0s\n",
      "[CV] END C=4, class_weight=balanced, dual=False, fit_intercept=True, max_iter=98, multi_class=auto, penalty=l2, solver=liblinear, tol=0.0007; total time=   0.0s\n",
      "[CV] END C=4, class_weight=balanced, dual=False, fit_intercept=True, max_iter=98, multi_class=auto, penalty=l2, solver=liblinear, tol=0.0007; total time=   0.0s\n",
      "[CV] END C=4, class_weight=balanced, dual=False, fit_intercept=True, max_iter=98, multi_class=auto, penalty=l2, solver=liblinear, tol=0.0006; total time=   0.0s\n",
      "[CV] END C=4, class_weight=balanced, dual=False, fit_intercept=True, max_iter=98, multi_class=auto, penalty=l2, solver=liblinear, tol=0.0006; total time=   0.0s\n",
      "[CV] END C=4, class_weight=balanced, dual=False, fit_intercept=True, max_iter=98, multi_class=auto, penalty=l2, solver=liblinear, tol=0.0006; total time=   0.0s\n",
      "[CV] END C=4, class_weight=balanced, dual=False, fit_intercept=True, max_iter=98, multi_class=auto, penalty=l2, solver=liblinear, tol=0.0005; total time=   0.0s\n",
      "[CV] END C=4, class_weight=balanced, dual=False, fit_intercept=True, max_iter=98, multi_class=auto, penalty=l2, solver=liblinear, tol=0.0005; total time=   0.0s\n",
      "[CV] END C=4, class_weight=balanced, dual=False, fit_intercept=True, max_iter=98, multi_class=auto, penalty=l2, solver=liblinear, tol=0.0005; total time=   0.0s\n",
      "[CV] END C=4, class_weight=balanced, dual=False, fit_intercept=True, max_iter=98, multi_class=auto, penalty=l2, solver=liblinear, tol=0.00062; total time=   0.0s\n",
      "[CV] END C=4, class_weight=balanced, dual=False, fit_intercept=True, max_iter=98, multi_class=auto, penalty=l2, solver=liblinear, tol=0.00062; total time=   0.0s\n",
      "[CV] END C=4, class_weight=balanced, dual=False, fit_intercept=True, max_iter=98, multi_class=auto, penalty=l2, solver=liblinear, tol=0.00062; total time=   0.0s\n",
      "[CV] END C=4, class_weight=balanced, dual=False, fit_intercept=True, max_iter=97, multi_class=auto, penalty=l2, solver=liblinear, tol=0.00067; total time=   0.0s\n",
      "[CV] END C=4, class_weight=balanced, dual=False, fit_intercept=True, max_iter=97, multi_class=auto, penalty=l2, solver=liblinear, tol=0.00067; total time=   0.0s\n",
      "[CV] END C=4, class_weight=balanced, dual=False, fit_intercept=True, max_iter=97, multi_class=auto, penalty=l2, solver=liblinear, tol=0.00067; total time=   0.0s\n",
      "[CV] END C=4, class_weight=balanced, dual=False, fit_intercept=True, max_iter=97, multi_class=auto, penalty=l2, solver=liblinear, tol=0.0007; total time=   0.0s\n",
      "[CV] END C=4, class_weight=balanced, dual=False, fit_intercept=True, max_iter=97, multi_class=auto, penalty=l2, solver=liblinear, tol=0.0007; total time=   0.0s\n",
      "[CV] END C=4, class_weight=balanced, dual=False, fit_intercept=True, max_iter=97, multi_class=auto, penalty=l2, solver=liblinear, tol=0.0007; total time=   0.0s\n",
      "[CV] END C=4, class_weight=balanced, dual=False, fit_intercept=True, max_iter=97, multi_class=auto, penalty=l2, solver=liblinear, tol=0.0006; total time=   0.0s\n",
      "[CV] END C=4, class_weight=balanced, dual=False, fit_intercept=True, max_iter=97, multi_class=auto, penalty=l2, solver=liblinear, tol=0.0006; total time=   0.0s\n",
      "[CV] END C=4, class_weight=balanced, dual=False, fit_intercept=True, max_iter=97, multi_class=auto, penalty=l2, solver=liblinear, tol=0.0006; total time=   0.0s\n",
      "[CV] END C=4, class_weight=balanced, dual=False, fit_intercept=True, max_iter=97, multi_class=auto, penalty=l2, solver=liblinear, tol=0.0005; total time=   0.0s\n",
      "[CV] END C=4, class_weight=balanced, dual=False, fit_intercept=True, max_iter=97, multi_class=auto, penalty=l2, solver=liblinear, tol=0.0005; total time=   0.0s\n",
      "[CV] END C=4, class_weight=balanced, dual=False, fit_intercept=True, max_iter=97, multi_class=auto, penalty=l2, solver=liblinear, tol=0.0005; total time=   0.0s\n",
      "[CV] END C=4, class_weight=balanced, dual=False, fit_intercept=True, max_iter=97, multi_class=auto, penalty=l2, solver=liblinear, tol=0.00062; total time=   0.0s\n",
      "[CV] END C=4, class_weight=balanced, dual=False, fit_intercept=True, max_iter=97, multi_class=auto, penalty=l2, solver=liblinear, tol=0.00062; total time=   0.0s\n",
      "[CV] END C=4, class_weight=balanced, dual=False, fit_intercept=True, max_iter=97, multi_class=auto, penalty=l2, solver=liblinear, tol=0.00062; total time=   0.0s\n",
      "[CV] END C=11, class_weight=balanced, dual=False, fit_intercept=True, max_iter=94, multi_class=auto, penalty=l2, solver=liblinear, tol=0.00067; total time=   0.0s\n",
      "[CV] END C=11, class_weight=balanced, dual=False, fit_intercept=True, max_iter=94, multi_class=auto, penalty=l2, solver=liblinear, tol=0.00067; total time=   0.0s\n",
      "[CV] END C=11, class_weight=balanced, dual=False, fit_intercept=True, max_iter=94, multi_class=auto, penalty=l2, solver=liblinear, tol=0.00067; total time=   0.0s\n",
      "[CV] END C=11, class_weight=balanced, dual=False, fit_intercept=True, max_iter=94, multi_class=auto, penalty=l2, solver=liblinear, tol=0.0007; total time=   0.0s\n",
      "[CV] END C=11, class_weight=balanced, dual=False, fit_intercept=True, max_iter=94, multi_class=auto, penalty=l2, solver=liblinear, tol=0.0007; total time=   0.0s\n",
      "[CV] END C=11, class_weight=balanced, dual=False, fit_intercept=True, max_iter=94, multi_class=auto, penalty=l2, solver=liblinear, tol=0.0007; total time=   0.0s\n",
      "[CV] END C=11, class_weight=balanced, dual=False, fit_intercept=True, max_iter=94, multi_class=auto, penalty=l2, solver=liblinear, tol=0.0006; total time=   0.0s\n",
      "[CV] END C=11, class_weight=balanced, dual=False, fit_intercept=True, max_iter=94, multi_class=auto, penalty=l2, solver=liblinear, tol=0.0006; total time=   0.0s\n",
      "[CV] END C=11, class_weight=balanced, dual=False, fit_intercept=True, max_iter=94, multi_class=auto, penalty=l2, solver=liblinear, tol=0.0006; total time=   0.0s\n",
      "[CV] END C=11, class_weight=balanced, dual=False, fit_intercept=True, max_iter=94, multi_class=auto, penalty=l2, solver=liblinear, tol=0.0005; total time=   0.0s\n",
      "[CV] END C=11, class_weight=balanced, dual=False, fit_intercept=True, max_iter=94, multi_class=auto, penalty=l2, solver=liblinear, tol=0.0005; total time=   0.0s\n",
      "[CV] END C=11, class_weight=balanced, dual=False, fit_intercept=True, max_iter=94, multi_class=auto, penalty=l2, solver=liblinear, tol=0.0005; total time=   0.0s\n",
      "[CV] END C=11, class_weight=balanced, dual=False, fit_intercept=True, max_iter=94, multi_class=auto, penalty=l2, solver=liblinear, tol=0.00062; total time=   0.0s\n",
      "[CV] END C=11, class_weight=balanced, dual=False, fit_intercept=True, max_iter=94, multi_class=auto, penalty=l2, solver=liblinear, tol=0.00062; total time=   0.0s\n",
      "[CV] END C=11, class_weight=balanced, dual=False, fit_intercept=True, max_iter=94, multi_class=auto, penalty=l2, solver=liblinear, tol=0.00062; total time=   0.0s\n",
      "[CV] END C=11, class_weight=balanced, dual=False, fit_intercept=True, max_iter=93, multi_class=auto, penalty=l2, solver=liblinear, tol=0.00067; total time=   0.0s\n",
      "[CV] END C=11, class_weight=balanced, dual=False, fit_intercept=True, max_iter=93, multi_class=auto, penalty=l2, solver=liblinear, tol=0.00067; total time=   0.0s\n",
      "[CV] END C=11, class_weight=balanced, dual=False, fit_intercept=True, max_iter=93, multi_class=auto, penalty=l2, solver=liblinear, tol=0.00067; total time=   0.0s\n",
      "[CV] END C=11, class_weight=balanced, dual=False, fit_intercept=True, max_iter=93, multi_class=auto, penalty=l2, solver=liblinear, tol=0.0007; total time=   0.0s\n",
      "[CV] END C=11, class_weight=balanced, dual=False, fit_intercept=True, max_iter=93, multi_class=auto, penalty=l2, solver=liblinear, tol=0.0007; total time=   0.0s\n",
      "[CV] END C=11, class_weight=balanced, dual=False, fit_intercept=True, max_iter=93, multi_class=auto, penalty=l2, solver=liblinear, tol=0.0007; total time=   0.0s\n",
      "[CV] END C=11, class_weight=balanced, dual=False, fit_intercept=True, max_iter=93, multi_class=auto, penalty=l2, solver=liblinear, tol=0.0006; total time=   0.0s\n",
      "[CV] END C=11, class_weight=balanced, dual=False, fit_intercept=True, max_iter=93, multi_class=auto, penalty=l2, solver=liblinear, tol=0.0006; total time=   0.0s\n",
      "[CV] END C=11, class_weight=balanced, dual=False, fit_intercept=True, max_iter=93, multi_class=auto, penalty=l2, solver=liblinear, tol=0.0006; total time=   0.0s\n",
      "[CV] END C=11, class_weight=balanced, dual=False, fit_intercept=True, max_iter=93, multi_class=auto, penalty=l2, solver=liblinear, tol=0.0005; total time=   0.0s\n",
      "[CV] END C=11, class_weight=balanced, dual=False, fit_intercept=True, max_iter=93, multi_class=auto, penalty=l2, solver=liblinear, tol=0.0005; total time=   0.0s\n",
      "[CV] END C=11, class_weight=balanced, dual=False, fit_intercept=True, max_iter=93, multi_class=auto, penalty=l2, solver=liblinear, tol=0.0005; total time=   0.0s\n",
      "[CV] END C=11, class_weight=balanced, dual=False, fit_intercept=True, max_iter=93, multi_class=auto, penalty=l2, solver=liblinear, tol=0.00062; total time=   0.0s\n",
      "[CV] END C=11, class_weight=balanced, dual=False, fit_intercept=True, max_iter=93, multi_class=auto, penalty=l2, solver=liblinear, tol=0.00062; total time=   0.0s\n",
      "[CV] END C=11, class_weight=balanced, dual=False, fit_intercept=True, max_iter=93, multi_class=auto, penalty=l2, solver=liblinear, tol=0.00062; total time=   0.0s\n",
      "[CV] END C=11, class_weight=balanced, dual=False, fit_intercept=True, max_iter=92, multi_class=auto, penalty=l2, solver=liblinear, tol=0.00067; total time=   0.0s\n",
      "[CV] END C=11, class_weight=balanced, dual=False, fit_intercept=True, max_iter=92, multi_class=auto, penalty=l2, solver=liblinear, tol=0.00067; total time=   0.0s\n",
      "[CV] END C=11, class_weight=balanced, dual=False, fit_intercept=True, max_iter=92, multi_class=auto, penalty=l2, solver=liblinear, tol=0.00067; total time=   0.0s\n",
      "[CV] END C=11, class_weight=balanced, dual=False, fit_intercept=True, max_iter=92, multi_class=auto, penalty=l2, solver=liblinear, tol=0.0007; total time=   0.0s\n",
      "[CV] END C=11, class_weight=balanced, dual=False, fit_intercept=True, max_iter=92, multi_class=auto, penalty=l2, solver=liblinear, tol=0.0007; total time=   0.0s\n",
      "[CV] END C=11, class_weight=balanced, dual=False, fit_intercept=True, max_iter=92, multi_class=auto, penalty=l2, solver=liblinear, tol=0.0007; total time=   0.0s\n",
      "[CV] END C=11, class_weight=balanced, dual=False, fit_intercept=True, max_iter=92, multi_class=auto, penalty=l2, solver=liblinear, tol=0.0006; total time=   0.0s\n",
      "[CV] END C=11, class_weight=balanced, dual=False, fit_intercept=True, max_iter=92, multi_class=auto, penalty=l2, solver=liblinear, tol=0.0006; total time=   0.0s\n",
      "[CV] END C=11, class_weight=balanced, dual=False, fit_intercept=True, max_iter=92, multi_class=auto, penalty=l2, solver=liblinear, tol=0.0006; total time=   0.0s\n",
      "[CV] END C=11, class_weight=balanced, dual=False, fit_intercept=True, max_iter=92, multi_class=auto, penalty=l2, solver=liblinear, tol=0.0005; total time=   0.0s\n",
      "[CV] END C=11, class_weight=balanced, dual=False, fit_intercept=True, max_iter=92, multi_class=auto, penalty=l2, solver=liblinear, tol=0.0005; total time=   0.0s\n",
      "[CV] END C=11, class_weight=balanced, dual=False, fit_intercept=True, max_iter=92, multi_class=auto, penalty=l2, solver=liblinear, tol=0.0005; total time=   0.0s\n",
      "[CV] END C=11, class_weight=balanced, dual=False, fit_intercept=True, max_iter=92, multi_class=auto, penalty=l2, solver=liblinear, tol=0.00062; total time=   0.0s\n",
      "[CV] END C=11, class_weight=balanced, dual=False, fit_intercept=True, max_iter=92, multi_class=auto, penalty=l2, solver=liblinear, tol=0.00062; total time=   0.0s\n",
      "[CV] END C=11, class_weight=balanced, dual=False, fit_intercept=True, max_iter=92, multi_class=auto, penalty=l2, solver=liblinear, tol=0.00062; total time=   0.0s\n",
      "[CV] END C=11, class_weight=balanced, dual=False, fit_intercept=True, max_iter=95, multi_class=auto, penalty=l2, solver=liblinear, tol=0.00067; total time=   0.0s\n",
      "[CV] END C=11, class_weight=balanced, dual=False, fit_intercept=True, max_iter=95, multi_class=auto, penalty=l2, solver=liblinear, tol=0.00067; total time=   0.0s\n",
      "[CV] END C=11, class_weight=balanced, dual=False, fit_intercept=True, max_iter=95, multi_class=auto, penalty=l2, solver=liblinear, tol=0.00067; total time=   0.0s\n",
      "[CV] END C=11, class_weight=balanced, dual=False, fit_intercept=True, max_iter=95, multi_class=auto, penalty=l2, solver=liblinear, tol=0.0007; total time=   0.0s\n"
     ]
    },
    {
     "name": "stdout",
     "output_type": "stream",
     "text": [
      "[CV] END C=11, class_weight=balanced, dual=False, fit_intercept=True, max_iter=95, multi_class=auto, penalty=l2, solver=liblinear, tol=0.0007; total time=   0.0s\n",
      "[CV] END C=11, class_weight=balanced, dual=False, fit_intercept=True, max_iter=95, multi_class=auto, penalty=l2, solver=liblinear, tol=0.0007; total time=   0.0s\n",
      "[CV] END C=11, class_weight=balanced, dual=False, fit_intercept=True, max_iter=95, multi_class=auto, penalty=l2, solver=liblinear, tol=0.0006; total time=   0.0s\n",
      "[CV] END C=11, class_weight=balanced, dual=False, fit_intercept=True, max_iter=95, multi_class=auto, penalty=l2, solver=liblinear, tol=0.0006; total time=   0.0s\n",
      "[CV] END C=11, class_weight=balanced, dual=False, fit_intercept=True, max_iter=95, multi_class=auto, penalty=l2, solver=liblinear, tol=0.0006; total time=   0.0s\n",
      "[CV] END C=11, class_weight=balanced, dual=False, fit_intercept=True, max_iter=95, multi_class=auto, penalty=l2, solver=liblinear, tol=0.0005; total time=   0.0s\n",
      "[CV] END C=11, class_weight=balanced, dual=False, fit_intercept=True, max_iter=95, multi_class=auto, penalty=l2, solver=liblinear, tol=0.0005; total time=   0.0s\n",
      "[CV] END C=11, class_weight=balanced, dual=False, fit_intercept=True, max_iter=95, multi_class=auto, penalty=l2, solver=liblinear, tol=0.0005; total time=   0.0s\n",
      "[CV] END C=11, class_weight=balanced, dual=False, fit_intercept=True, max_iter=95, multi_class=auto, penalty=l2, solver=liblinear, tol=0.00062; total time=   0.0s\n",
      "[CV] END C=11, class_weight=balanced, dual=False, fit_intercept=True, max_iter=95, multi_class=auto, penalty=l2, solver=liblinear, tol=0.00062; total time=   0.0s\n",
      "[CV] END C=11, class_weight=balanced, dual=False, fit_intercept=True, max_iter=95, multi_class=auto, penalty=l2, solver=liblinear, tol=0.00062; total time=   0.0s\n",
      "[CV] END C=11, class_weight=balanced, dual=False, fit_intercept=True, max_iter=96, multi_class=auto, penalty=l2, solver=liblinear, tol=0.00067; total time=   0.0s\n",
      "[CV] END C=11, class_weight=balanced, dual=False, fit_intercept=True, max_iter=96, multi_class=auto, penalty=l2, solver=liblinear, tol=0.00067; total time=   0.0s\n",
      "[CV] END C=11, class_weight=balanced, dual=False, fit_intercept=True, max_iter=96, multi_class=auto, penalty=l2, solver=liblinear, tol=0.00067; total time=   0.0s\n",
      "[CV] END C=11, class_weight=balanced, dual=False, fit_intercept=True, max_iter=96, multi_class=auto, penalty=l2, solver=liblinear, tol=0.0007; total time=   0.0s\n",
      "[CV] END C=11, class_weight=balanced, dual=False, fit_intercept=True, max_iter=96, multi_class=auto, penalty=l2, solver=liblinear, tol=0.0007; total time=   0.0s\n",
      "[CV] END C=11, class_weight=balanced, dual=False, fit_intercept=True, max_iter=96, multi_class=auto, penalty=l2, solver=liblinear, tol=0.0007; total time=   0.0s\n",
      "[CV] END C=11, class_weight=balanced, dual=False, fit_intercept=True, max_iter=96, multi_class=auto, penalty=l2, solver=liblinear, tol=0.0006; total time=   0.0s\n",
      "[CV] END C=11, class_weight=balanced, dual=False, fit_intercept=True, max_iter=96, multi_class=auto, penalty=l2, solver=liblinear, tol=0.0006; total time=   0.0s\n",
      "[CV] END C=11, class_weight=balanced, dual=False, fit_intercept=True, max_iter=96, multi_class=auto, penalty=l2, solver=liblinear, tol=0.0006; total time=   0.0s\n",
      "[CV] END C=11, class_weight=balanced, dual=False, fit_intercept=True, max_iter=96, multi_class=auto, penalty=l2, solver=liblinear, tol=0.0005; total time=   0.0s\n",
      "[CV] END C=11, class_weight=balanced, dual=False, fit_intercept=True, max_iter=96, multi_class=auto, penalty=l2, solver=liblinear, tol=0.0005; total time=   0.0s\n",
      "[CV] END C=11, class_weight=balanced, dual=False, fit_intercept=True, max_iter=96, multi_class=auto, penalty=l2, solver=liblinear, tol=0.0005; total time=   0.0s\n",
      "[CV] END C=11, class_weight=balanced, dual=False, fit_intercept=True, max_iter=96, multi_class=auto, penalty=l2, solver=liblinear, tol=0.00062; total time=   0.0s\n",
      "[CV] END C=11, class_weight=balanced, dual=False, fit_intercept=True, max_iter=96, multi_class=auto, penalty=l2, solver=liblinear, tol=0.00062; total time=   0.0s\n",
      "[CV] END C=11, class_weight=balanced, dual=False, fit_intercept=True, max_iter=96, multi_class=auto, penalty=l2, solver=liblinear, tol=0.00062; total time=   0.0s\n",
      "[CV] END C=11, class_weight=balanced, dual=False, fit_intercept=True, max_iter=91, multi_class=auto, penalty=l2, solver=liblinear, tol=0.00067; total time=   0.0s\n",
      "[CV] END C=11, class_weight=balanced, dual=False, fit_intercept=True, max_iter=91, multi_class=auto, penalty=l2, solver=liblinear, tol=0.00067; total time=   0.0s\n",
      "[CV] END C=11, class_weight=balanced, dual=False, fit_intercept=True, max_iter=91, multi_class=auto, penalty=l2, solver=liblinear, tol=0.00067; total time=   0.0s\n",
      "[CV] END C=11, class_weight=balanced, dual=False, fit_intercept=True, max_iter=91, multi_class=auto, penalty=l2, solver=liblinear, tol=0.0007; total time=   0.0s\n",
      "[CV] END C=11, class_weight=balanced, dual=False, fit_intercept=True, max_iter=91, multi_class=auto, penalty=l2, solver=liblinear, tol=0.0007; total time=   0.0s\n",
      "[CV] END C=11, class_weight=balanced, dual=False, fit_intercept=True, max_iter=91, multi_class=auto, penalty=l2, solver=liblinear, tol=0.0007; total time=   0.0s\n",
      "[CV] END C=11, class_weight=balanced, dual=False, fit_intercept=True, max_iter=91, multi_class=auto, penalty=l2, solver=liblinear, tol=0.0006; total time=   0.0s\n",
      "[CV] END C=11, class_weight=balanced, dual=False, fit_intercept=True, max_iter=91, multi_class=auto, penalty=l2, solver=liblinear, tol=0.0006; total time=   0.0s\n",
      "[CV] END C=11, class_weight=balanced, dual=False, fit_intercept=True, max_iter=91, multi_class=auto, penalty=l2, solver=liblinear, tol=0.0006; total time=   0.0s\n",
      "[CV] END C=11, class_weight=balanced, dual=False, fit_intercept=True, max_iter=91, multi_class=auto, penalty=l2, solver=liblinear, tol=0.0005; total time=   0.0s\n",
      "[CV] END C=11, class_weight=balanced, dual=False, fit_intercept=True, max_iter=91, multi_class=auto, penalty=l2, solver=liblinear, tol=0.0005; total time=   0.0s\n",
      "[CV] END C=11, class_weight=balanced, dual=False, fit_intercept=True, max_iter=91, multi_class=auto, penalty=l2, solver=liblinear, tol=0.0005; total time=   0.0s\n",
      "[CV] END C=11, class_weight=balanced, dual=False, fit_intercept=True, max_iter=91, multi_class=auto, penalty=l2, solver=liblinear, tol=0.00062; total time=   0.0s\n",
      "[CV] END C=11, class_weight=balanced, dual=False, fit_intercept=True, max_iter=91, multi_class=auto, penalty=l2, solver=liblinear, tol=0.00062; total time=   0.0s\n",
      "[CV] END C=11, class_weight=balanced, dual=False, fit_intercept=True, max_iter=91, multi_class=auto, penalty=l2, solver=liblinear, tol=0.00062; total time=   0.0s\n",
      "[CV] END C=11, class_weight=balanced, dual=False, fit_intercept=True, max_iter=98, multi_class=auto, penalty=l2, solver=liblinear, tol=0.00067; total time=   0.0s\n",
      "[CV] END C=11, class_weight=balanced, dual=False, fit_intercept=True, max_iter=98, multi_class=auto, penalty=l2, solver=liblinear, tol=0.00067; total time=   0.0s\n",
      "[CV] END C=11, class_weight=balanced, dual=False, fit_intercept=True, max_iter=98, multi_class=auto, penalty=l2, solver=liblinear, tol=0.00067; total time=   0.0s\n",
      "[CV] END C=11, class_weight=balanced, dual=False, fit_intercept=True, max_iter=98, multi_class=auto, penalty=l2, solver=liblinear, tol=0.0007; total time=   0.0s\n",
      "[CV] END C=11, class_weight=balanced, dual=False, fit_intercept=True, max_iter=98, multi_class=auto, penalty=l2, solver=liblinear, tol=0.0007; total time=   0.0s\n",
      "[CV] END C=11, class_weight=balanced, dual=False, fit_intercept=True, max_iter=98, multi_class=auto, penalty=l2, solver=liblinear, tol=0.0007; total time=   0.0s\n",
      "[CV] END C=11, class_weight=balanced, dual=False, fit_intercept=True, max_iter=98, multi_class=auto, penalty=l2, solver=liblinear, tol=0.0006; total time=   0.0s\n",
      "[CV] END C=11, class_weight=balanced, dual=False, fit_intercept=True, max_iter=98, multi_class=auto, penalty=l2, solver=liblinear, tol=0.0006; total time=   0.0s\n",
      "[CV] END C=11, class_weight=balanced, dual=False, fit_intercept=True, max_iter=98, multi_class=auto, penalty=l2, solver=liblinear, tol=0.0006; total time=   0.0s\n",
      "[CV] END C=11, class_weight=balanced, dual=False, fit_intercept=True, max_iter=98, multi_class=auto, penalty=l2, solver=liblinear, tol=0.0005; total time=   0.0s\n",
      "[CV] END C=11, class_weight=balanced, dual=False, fit_intercept=True, max_iter=98, multi_class=auto, penalty=l2, solver=liblinear, tol=0.0005; total time=   0.0s\n",
      "[CV] END C=11, class_weight=balanced, dual=False, fit_intercept=True, max_iter=98, multi_class=auto, penalty=l2, solver=liblinear, tol=0.0005; total time=   0.0s\n",
      "[CV] END C=11, class_weight=balanced, dual=False, fit_intercept=True, max_iter=98, multi_class=auto, penalty=l2, solver=liblinear, tol=0.00062; total time=   0.0s\n",
      "[CV] END C=11, class_weight=balanced, dual=False, fit_intercept=True, max_iter=98, multi_class=auto, penalty=l2, solver=liblinear, tol=0.00062; total time=   0.0s\n",
      "[CV] END C=11, class_weight=balanced, dual=False, fit_intercept=True, max_iter=98, multi_class=auto, penalty=l2, solver=liblinear, tol=0.00062; total time=   0.0s\n",
      "[CV] END C=11, class_weight=balanced, dual=False, fit_intercept=True, max_iter=97, multi_class=auto, penalty=l2, solver=liblinear, tol=0.00067; total time=   0.0s\n",
      "[CV] END C=11, class_weight=balanced, dual=False, fit_intercept=True, max_iter=97, multi_class=auto, penalty=l2, solver=liblinear, tol=0.00067; total time=   0.0s\n",
      "[CV] END C=11, class_weight=balanced, dual=False, fit_intercept=True, max_iter=97, multi_class=auto, penalty=l2, solver=liblinear, tol=0.00067; total time=   0.0s\n",
      "[CV] END C=11, class_weight=balanced, dual=False, fit_intercept=True, max_iter=97, multi_class=auto, penalty=l2, solver=liblinear, tol=0.0007; total time=   0.0s\n",
      "[CV] END C=11, class_weight=balanced, dual=False, fit_intercept=True, max_iter=97, multi_class=auto, penalty=l2, solver=liblinear, tol=0.0007; total time=   0.0s\n",
      "[CV] END C=11, class_weight=balanced, dual=False, fit_intercept=True, max_iter=97, multi_class=auto, penalty=l2, solver=liblinear, tol=0.0007; total time=   0.0s\n",
      "[CV] END C=11, class_weight=balanced, dual=False, fit_intercept=True, max_iter=97, multi_class=auto, penalty=l2, solver=liblinear, tol=0.0006; total time=   0.0s\n",
      "[CV] END C=11, class_weight=balanced, dual=False, fit_intercept=True, max_iter=97, multi_class=auto, penalty=l2, solver=liblinear, tol=0.0006; total time=   0.0s\n",
      "[CV] END C=11, class_weight=balanced, dual=False, fit_intercept=True, max_iter=97, multi_class=auto, penalty=l2, solver=liblinear, tol=0.0006; total time=   0.0s\n",
      "[CV] END C=11, class_weight=balanced, dual=False, fit_intercept=True, max_iter=97, multi_class=auto, penalty=l2, solver=liblinear, tol=0.0005; total time=   0.0s\n",
      "[CV] END C=11, class_weight=balanced, dual=False, fit_intercept=True, max_iter=97, multi_class=auto, penalty=l2, solver=liblinear, tol=0.0005; total time=   0.0s\n",
      "[CV] END C=11, class_weight=balanced, dual=False, fit_intercept=True, max_iter=97, multi_class=auto, penalty=l2, solver=liblinear, tol=0.0005; total time=   0.0s\n",
      "[CV] END C=11, class_weight=balanced, dual=False, fit_intercept=True, max_iter=97, multi_class=auto, penalty=l2, solver=liblinear, tol=0.00062; total time=   0.0s\n",
      "[CV] END C=11, class_weight=balanced, dual=False, fit_intercept=True, max_iter=97, multi_class=auto, penalty=l2, solver=liblinear, tol=0.00062; total time=   0.0s\n",
      "[CV] END C=11, class_weight=balanced, dual=False, fit_intercept=True, max_iter=97, multi_class=auto, penalty=l2, solver=liblinear, tol=0.00062; total time=   0.0s\n",
      "[CV] END C=3, class_weight=balanced, dual=False, fit_intercept=True, max_iter=94, multi_class=auto, penalty=l2, solver=liblinear, tol=0.00067; total time=   0.0s\n",
      "[CV] END C=3, class_weight=balanced, dual=False, fit_intercept=True, max_iter=94, multi_class=auto, penalty=l2, solver=liblinear, tol=0.00067; total time=   0.0s\n",
      "[CV] END C=3, class_weight=balanced, dual=False, fit_intercept=True, max_iter=94, multi_class=auto, penalty=l2, solver=liblinear, tol=0.00067; total time=   0.0s\n",
      "[CV] END C=3, class_weight=balanced, dual=False, fit_intercept=True, max_iter=94, multi_class=auto, penalty=l2, solver=liblinear, tol=0.0007; total time=   0.0s\n",
      "[CV] END C=3, class_weight=balanced, dual=False, fit_intercept=True, max_iter=94, multi_class=auto, penalty=l2, solver=liblinear, tol=0.0007; total time=   0.0s\n",
      "[CV] END C=3, class_weight=balanced, dual=False, fit_intercept=True, max_iter=94, multi_class=auto, penalty=l2, solver=liblinear, tol=0.0007; total time=   0.0s\n",
      "[CV] END C=3, class_weight=balanced, dual=False, fit_intercept=True, max_iter=94, multi_class=auto, penalty=l2, solver=liblinear, tol=0.0006; total time=   0.0s\n",
      "[CV] END C=3, class_weight=balanced, dual=False, fit_intercept=True, max_iter=94, multi_class=auto, penalty=l2, solver=liblinear, tol=0.0006; total time=   0.0s\n",
      "[CV] END C=3, class_weight=balanced, dual=False, fit_intercept=True, max_iter=94, multi_class=auto, penalty=l2, solver=liblinear, tol=0.0006; total time=   0.0s\n",
      "[CV] END C=3, class_weight=balanced, dual=False, fit_intercept=True, max_iter=94, multi_class=auto, penalty=l2, solver=liblinear, tol=0.0005; total time=   0.0s\n",
      "[CV] END C=3, class_weight=balanced, dual=False, fit_intercept=True, max_iter=94, multi_class=auto, penalty=l2, solver=liblinear, tol=0.0005; total time=   0.0s\n",
      "[CV] END C=3, class_weight=balanced, dual=False, fit_intercept=True, max_iter=94, multi_class=auto, penalty=l2, solver=liblinear, tol=0.0005; total time=   0.0s\n",
      "[CV] END C=3, class_weight=balanced, dual=False, fit_intercept=True, max_iter=94, multi_class=auto, penalty=l2, solver=liblinear, tol=0.00062; total time=   0.0s\n",
      "[CV] END C=3, class_weight=balanced, dual=False, fit_intercept=True, max_iter=94, multi_class=auto, penalty=l2, solver=liblinear, tol=0.00062; total time=   0.0s\n",
      "[CV] END C=3, class_weight=balanced, dual=False, fit_intercept=True, max_iter=94, multi_class=auto, penalty=l2, solver=liblinear, tol=0.00062; total time=   0.0s\n"
     ]
    },
    {
     "name": "stdout",
     "output_type": "stream",
     "text": [
      "[CV] END C=3, class_weight=balanced, dual=False, fit_intercept=True, max_iter=93, multi_class=auto, penalty=l2, solver=liblinear, tol=0.00067; total time=   0.0s\n",
      "[CV] END C=3, class_weight=balanced, dual=False, fit_intercept=True, max_iter=93, multi_class=auto, penalty=l2, solver=liblinear, tol=0.00067; total time=   0.0s\n",
      "[CV] END C=3, class_weight=balanced, dual=False, fit_intercept=True, max_iter=93, multi_class=auto, penalty=l2, solver=liblinear, tol=0.00067; total time=   0.0s\n",
      "[CV] END C=3, class_weight=balanced, dual=False, fit_intercept=True, max_iter=93, multi_class=auto, penalty=l2, solver=liblinear, tol=0.0007; total time=   0.0s\n",
      "[CV] END C=3, class_weight=balanced, dual=False, fit_intercept=True, max_iter=93, multi_class=auto, penalty=l2, solver=liblinear, tol=0.0007; total time=   0.0s\n",
      "[CV] END C=3, class_weight=balanced, dual=False, fit_intercept=True, max_iter=93, multi_class=auto, penalty=l2, solver=liblinear, tol=0.0007; total time=   0.0s\n",
      "[CV] END C=3, class_weight=balanced, dual=False, fit_intercept=True, max_iter=93, multi_class=auto, penalty=l2, solver=liblinear, tol=0.0006; total time=   0.0s\n",
      "[CV] END C=3, class_weight=balanced, dual=False, fit_intercept=True, max_iter=93, multi_class=auto, penalty=l2, solver=liblinear, tol=0.0006; total time=   0.0s\n",
      "[CV] END C=3, class_weight=balanced, dual=False, fit_intercept=True, max_iter=93, multi_class=auto, penalty=l2, solver=liblinear, tol=0.0006; total time=   0.0s\n",
      "[CV] END C=3, class_weight=balanced, dual=False, fit_intercept=True, max_iter=93, multi_class=auto, penalty=l2, solver=liblinear, tol=0.0005; total time=   0.0s\n",
      "[CV] END C=3, class_weight=balanced, dual=False, fit_intercept=True, max_iter=93, multi_class=auto, penalty=l2, solver=liblinear, tol=0.0005; total time=   0.0s\n",
      "[CV] END C=3, class_weight=balanced, dual=False, fit_intercept=True, max_iter=93, multi_class=auto, penalty=l2, solver=liblinear, tol=0.0005; total time=   0.0s\n",
      "[CV] END C=3, class_weight=balanced, dual=False, fit_intercept=True, max_iter=93, multi_class=auto, penalty=l2, solver=liblinear, tol=0.00062; total time=   0.0s\n",
      "[CV] END C=3, class_weight=balanced, dual=False, fit_intercept=True, max_iter=93, multi_class=auto, penalty=l2, solver=liblinear, tol=0.00062; total time=   0.0s\n",
      "[CV] END C=3, class_weight=balanced, dual=False, fit_intercept=True, max_iter=93, multi_class=auto, penalty=l2, solver=liblinear, tol=0.00062; total time=   0.0s\n",
      "[CV] END C=3, class_weight=balanced, dual=False, fit_intercept=True, max_iter=92, multi_class=auto, penalty=l2, solver=liblinear, tol=0.00067; total time=   0.0s\n",
      "[CV] END C=3, class_weight=balanced, dual=False, fit_intercept=True, max_iter=92, multi_class=auto, penalty=l2, solver=liblinear, tol=0.00067; total time=   0.0s\n",
      "[CV] END C=3, class_weight=balanced, dual=False, fit_intercept=True, max_iter=92, multi_class=auto, penalty=l2, solver=liblinear, tol=0.00067; total time=   0.0s\n",
      "[CV] END C=3, class_weight=balanced, dual=False, fit_intercept=True, max_iter=92, multi_class=auto, penalty=l2, solver=liblinear, tol=0.0007; total time=   0.0s\n",
      "[CV] END C=3, class_weight=balanced, dual=False, fit_intercept=True, max_iter=92, multi_class=auto, penalty=l2, solver=liblinear, tol=0.0007; total time=   0.0s\n",
      "[CV] END C=3, class_weight=balanced, dual=False, fit_intercept=True, max_iter=92, multi_class=auto, penalty=l2, solver=liblinear, tol=0.0007; total time=   0.0s\n",
      "[CV] END C=3, class_weight=balanced, dual=False, fit_intercept=True, max_iter=92, multi_class=auto, penalty=l2, solver=liblinear, tol=0.0006; total time=   0.0s\n",
      "[CV] END C=3, class_weight=balanced, dual=False, fit_intercept=True, max_iter=92, multi_class=auto, penalty=l2, solver=liblinear, tol=0.0006; total time=   0.0s\n",
      "[CV] END C=3, class_weight=balanced, dual=False, fit_intercept=True, max_iter=92, multi_class=auto, penalty=l2, solver=liblinear, tol=0.0006; total time=   0.0s\n",
      "[CV] END C=3, class_weight=balanced, dual=False, fit_intercept=True, max_iter=92, multi_class=auto, penalty=l2, solver=liblinear, tol=0.0005; total time=   0.0s\n",
      "[CV] END C=3, class_weight=balanced, dual=False, fit_intercept=True, max_iter=92, multi_class=auto, penalty=l2, solver=liblinear, tol=0.0005; total time=   0.0s\n",
      "[CV] END C=3, class_weight=balanced, dual=False, fit_intercept=True, max_iter=92, multi_class=auto, penalty=l2, solver=liblinear, tol=0.0005; total time=   0.0s\n",
      "[CV] END C=3, class_weight=balanced, dual=False, fit_intercept=True, max_iter=92, multi_class=auto, penalty=l2, solver=liblinear, tol=0.00062; total time=   0.0s\n",
      "[CV] END C=3, class_weight=balanced, dual=False, fit_intercept=True, max_iter=92, multi_class=auto, penalty=l2, solver=liblinear, tol=0.00062; total time=   0.0s\n",
      "[CV] END C=3, class_weight=balanced, dual=False, fit_intercept=True, max_iter=92, multi_class=auto, penalty=l2, solver=liblinear, tol=0.00062; total time=   0.0s\n",
      "[CV] END C=3, class_weight=balanced, dual=False, fit_intercept=True, max_iter=95, multi_class=auto, penalty=l2, solver=liblinear, tol=0.00067; total time=   0.0s\n",
      "[CV] END C=3, class_weight=balanced, dual=False, fit_intercept=True, max_iter=95, multi_class=auto, penalty=l2, solver=liblinear, tol=0.00067; total time=   0.0s\n",
      "[CV] END C=3, class_weight=balanced, dual=False, fit_intercept=True, max_iter=95, multi_class=auto, penalty=l2, solver=liblinear, tol=0.00067; total time=   0.0s\n",
      "[CV] END C=3, class_weight=balanced, dual=False, fit_intercept=True, max_iter=95, multi_class=auto, penalty=l2, solver=liblinear, tol=0.0007; total time=   0.0s\n",
      "[CV] END C=3, class_weight=balanced, dual=False, fit_intercept=True, max_iter=95, multi_class=auto, penalty=l2, solver=liblinear, tol=0.0007; total time=   0.0s\n",
      "[CV] END C=3, class_weight=balanced, dual=False, fit_intercept=True, max_iter=95, multi_class=auto, penalty=l2, solver=liblinear, tol=0.0007; total time=   0.0s\n",
      "[CV] END C=3, class_weight=balanced, dual=False, fit_intercept=True, max_iter=95, multi_class=auto, penalty=l2, solver=liblinear, tol=0.0006; total time=   0.0s\n",
      "[CV] END C=3, class_weight=balanced, dual=False, fit_intercept=True, max_iter=95, multi_class=auto, penalty=l2, solver=liblinear, tol=0.0006; total time=   0.0s\n",
      "[CV] END C=3, class_weight=balanced, dual=False, fit_intercept=True, max_iter=95, multi_class=auto, penalty=l2, solver=liblinear, tol=0.0006; total time=   0.0s\n",
      "[CV] END C=3, class_weight=balanced, dual=False, fit_intercept=True, max_iter=95, multi_class=auto, penalty=l2, solver=liblinear, tol=0.0005; total time=   0.0s\n",
      "[CV] END C=3, class_weight=balanced, dual=False, fit_intercept=True, max_iter=95, multi_class=auto, penalty=l2, solver=liblinear, tol=0.0005; total time=   0.0s\n",
      "[CV] END C=3, class_weight=balanced, dual=False, fit_intercept=True, max_iter=95, multi_class=auto, penalty=l2, solver=liblinear, tol=0.0005; total time=   0.0s\n",
      "[CV] END C=3, class_weight=balanced, dual=False, fit_intercept=True, max_iter=95, multi_class=auto, penalty=l2, solver=liblinear, tol=0.00062; total time=   0.0s\n",
      "[CV] END C=3, class_weight=balanced, dual=False, fit_intercept=True, max_iter=95, multi_class=auto, penalty=l2, solver=liblinear, tol=0.00062; total time=   0.0s\n",
      "[CV] END C=3, class_weight=balanced, dual=False, fit_intercept=True, max_iter=95, multi_class=auto, penalty=l2, solver=liblinear, tol=0.00062; total time=   0.0s\n",
      "[CV] END C=3, class_weight=balanced, dual=False, fit_intercept=True, max_iter=96, multi_class=auto, penalty=l2, solver=liblinear, tol=0.00067; total time=   0.0s\n",
      "[CV] END C=3, class_weight=balanced, dual=False, fit_intercept=True, max_iter=96, multi_class=auto, penalty=l2, solver=liblinear, tol=0.00067; total time=   0.0s\n",
      "[CV] END C=3, class_weight=balanced, dual=False, fit_intercept=True, max_iter=96, multi_class=auto, penalty=l2, solver=liblinear, tol=0.00067; total time=   0.0s\n",
      "[CV] END C=3, class_weight=balanced, dual=False, fit_intercept=True, max_iter=96, multi_class=auto, penalty=l2, solver=liblinear, tol=0.0007; total time=   0.0s\n",
      "[CV] END C=3, class_weight=balanced, dual=False, fit_intercept=True, max_iter=96, multi_class=auto, penalty=l2, solver=liblinear, tol=0.0007; total time=   0.0s\n",
      "[CV] END C=3, class_weight=balanced, dual=False, fit_intercept=True, max_iter=96, multi_class=auto, penalty=l2, solver=liblinear, tol=0.0007; total time=   0.0s\n",
      "[CV] END C=3, class_weight=balanced, dual=False, fit_intercept=True, max_iter=96, multi_class=auto, penalty=l2, solver=liblinear, tol=0.0006; total time=   0.0s\n",
      "[CV] END C=3, class_weight=balanced, dual=False, fit_intercept=True, max_iter=96, multi_class=auto, penalty=l2, solver=liblinear, tol=0.0006; total time=   0.0s\n",
      "[CV] END C=3, class_weight=balanced, dual=False, fit_intercept=True, max_iter=96, multi_class=auto, penalty=l2, solver=liblinear, tol=0.0006; total time=   0.0s\n",
      "[CV] END C=3, class_weight=balanced, dual=False, fit_intercept=True, max_iter=96, multi_class=auto, penalty=l2, solver=liblinear, tol=0.0005; total time=   0.0s\n",
      "[CV] END C=3, class_weight=balanced, dual=False, fit_intercept=True, max_iter=96, multi_class=auto, penalty=l2, solver=liblinear, tol=0.0005; total time=   0.0s\n",
      "[CV] END C=3, class_weight=balanced, dual=False, fit_intercept=True, max_iter=96, multi_class=auto, penalty=l2, solver=liblinear, tol=0.0005; total time=   0.0s\n",
      "[CV] END C=3, class_weight=balanced, dual=False, fit_intercept=True, max_iter=96, multi_class=auto, penalty=l2, solver=liblinear, tol=0.00062; total time=   0.0s\n",
      "[CV] END C=3, class_weight=balanced, dual=False, fit_intercept=True, max_iter=96, multi_class=auto, penalty=l2, solver=liblinear, tol=0.00062; total time=   0.0s\n",
      "[CV] END C=3, class_weight=balanced, dual=False, fit_intercept=True, max_iter=96, multi_class=auto, penalty=l2, solver=liblinear, tol=0.00062; total time=   0.0s\n",
      "[CV] END C=3, class_weight=balanced, dual=False, fit_intercept=True, max_iter=91, multi_class=auto, penalty=l2, solver=liblinear, tol=0.00067; total time=   0.0s\n",
      "[CV] END C=3, class_weight=balanced, dual=False, fit_intercept=True, max_iter=91, multi_class=auto, penalty=l2, solver=liblinear, tol=0.00067; total time=   0.0s\n",
      "[CV] END C=3, class_weight=balanced, dual=False, fit_intercept=True, max_iter=91, multi_class=auto, penalty=l2, solver=liblinear, tol=0.00067; total time=   0.0s\n",
      "[CV] END C=3, class_weight=balanced, dual=False, fit_intercept=True, max_iter=91, multi_class=auto, penalty=l2, solver=liblinear, tol=0.0007; total time=   0.0s\n",
      "[CV] END C=3, class_weight=balanced, dual=False, fit_intercept=True, max_iter=91, multi_class=auto, penalty=l2, solver=liblinear, tol=0.0007; total time=   0.0s\n",
      "[CV] END C=3, class_weight=balanced, dual=False, fit_intercept=True, max_iter=91, multi_class=auto, penalty=l2, solver=liblinear, tol=0.0007; total time=   0.0s\n",
      "[CV] END C=3, class_weight=balanced, dual=False, fit_intercept=True, max_iter=91, multi_class=auto, penalty=l2, solver=liblinear, tol=0.0006; total time=   0.0s\n",
      "[CV] END C=3, class_weight=balanced, dual=False, fit_intercept=True, max_iter=91, multi_class=auto, penalty=l2, solver=liblinear, tol=0.0006; total time=   0.0s\n",
      "[CV] END C=3, class_weight=balanced, dual=False, fit_intercept=True, max_iter=91, multi_class=auto, penalty=l2, solver=liblinear, tol=0.0006; total time=   0.0s\n",
      "[CV] END C=3, class_weight=balanced, dual=False, fit_intercept=True, max_iter=91, multi_class=auto, penalty=l2, solver=liblinear, tol=0.0005; total time=   0.0s\n",
      "[CV] END C=3, class_weight=balanced, dual=False, fit_intercept=True, max_iter=91, multi_class=auto, penalty=l2, solver=liblinear, tol=0.0005; total time=   0.0s\n",
      "[CV] END C=3, class_weight=balanced, dual=False, fit_intercept=True, max_iter=91, multi_class=auto, penalty=l2, solver=liblinear, tol=0.0005; total time=   0.0s\n",
      "[CV] END C=3, class_weight=balanced, dual=False, fit_intercept=True, max_iter=91, multi_class=auto, penalty=l2, solver=liblinear, tol=0.00062; total time=   0.0s\n",
      "[CV] END C=3, class_weight=balanced, dual=False, fit_intercept=True, max_iter=91, multi_class=auto, penalty=l2, solver=liblinear, tol=0.00062; total time=   0.0s\n",
      "[CV] END C=3, class_weight=balanced, dual=False, fit_intercept=True, max_iter=91, multi_class=auto, penalty=l2, solver=liblinear, tol=0.00062; total time=   0.0s\n",
      "[CV] END C=3, class_weight=balanced, dual=False, fit_intercept=True, max_iter=98, multi_class=auto, penalty=l2, solver=liblinear, tol=0.00067; total time=   0.0s\n",
      "[CV] END C=3, class_weight=balanced, dual=False, fit_intercept=True, max_iter=98, multi_class=auto, penalty=l2, solver=liblinear, tol=0.00067; total time=   0.0s\n",
      "[CV] END C=3, class_weight=balanced, dual=False, fit_intercept=True, max_iter=98, multi_class=auto, penalty=l2, solver=liblinear, tol=0.00067; total time=   0.0s\n",
      "[CV] END C=3, class_weight=balanced, dual=False, fit_intercept=True, max_iter=98, multi_class=auto, penalty=l2, solver=liblinear, tol=0.0007; total time=   0.0s\n",
      "[CV] END C=3, class_weight=balanced, dual=False, fit_intercept=True, max_iter=98, multi_class=auto, penalty=l2, solver=liblinear, tol=0.0007; total time=   0.0s\n",
      "[CV] END C=3, class_weight=balanced, dual=False, fit_intercept=True, max_iter=98, multi_class=auto, penalty=l2, solver=liblinear, tol=0.0007; total time=   0.0s\n",
      "[CV] END C=3, class_weight=balanced, dual=False, fit_intercept=True, max_iter=98, multi_class=auto, penalty=l2, solver=liblinear, tol=0.0006; total time=   0.0s\n"
     ]
    },
    {
     "name": "stdout",
     "output_type": "stream",
     "text": [
      "[CV] END C=3, class_weight=balanced, dual=False, fit_intercept=True, max_iter=98, multi_class=auto, penalty=l2, solver=liblinear, tol=0.0006; total time=   0.0s\n",
      "[CV] END C=3, class_weight=balanced, dual=False, fit_intercept=True, max_iter=98, multi_class=auto, penalty=l2, solver=liblinear, tol=0.0006; total time=   0.0s\n",
      "[CV] END C=3, class_weight=balanced, dual=False, fit_intercept=True, max_iter=98, multi_class=auto, penalty=l2, solver=liblinear, tol=0.0005; total time=   0.0s\n",
      "[CV] END C=3, class_weight=balanced, dual=False, fit_intercept=True, max_iter=98, multi_class=auto, penalty=l2, solver=liblinear, tol=0.0005; total time=   0.0s\n",
      "[CV] END C=3, class_weight=balanced, dual=False, fit_intercept=True, max_iter=98, multi_class=auto, penalty=l2, solver=liblinear, tol=0.0005; total time=   0.0s\n",
      "[CV] END C=3, class_weight=balanced, dual=False, fit_intercept=True, max_iter=98, multi_class=auto, penalty=l2, solver=liblinear, tol=0.00062; total time=   0.0s\n",
      "[CV] END C=3, class_weight=balanced, dual=False, fit_intercept=True, max_iter=98, multi_class=auto, penalty=l2, solver=liblinear, tol=0.00062; total time=   0.0s\n",
      "[CV] END C=3, class_weight=balanced, dual=False, fit_intercept=True, max_iter=98, multi_class=auto, penalty=l2, solver=liblinear, tol=0.00062; total time=   0.0s\n",
      "[CV] END C=3, class_weight=balanced, dual=False, fit_intercept=True, max_iter=97, multi_class=auto, penalty=l2, solver=liblinear, tol=0.00067; total time=   0.0s\n",
      "[CV] END C=3, class_weight=balanced, dual=False, fit_intercept=True, max_iter=97, multi_class=auto, penalty=l2, solver=liblinear, tol=0.00067; total time=   0.0s\n",
      "[CV] END C=3, class_weight=balanced, dual=False, fit_intercept=True, max_iter=97, multi_class=auto, penalty=l2, solver=liblinear, tol=0.00067; total time=   0.0s\n",
      "[CV] END C=3, class_weight=balanced, dual=False, fit_intercept=True, max_iter=97, multi_class=auto, penalty=l2, solver=liblinear, tol=0.0007; total time=   0.0s\n",
      "[CV] END C=3, class_weight=balanced, dual=False, fit_intercept=True, max_iter=97, multi_class=auto, penalty=l2, solver=liblinear, tol=0.0007; total time=   0.0s\n",
      "[CV] END C=3, class_weight=balanced, dual=False, fit_intercept=True, max_iter=97, multi_class=auto, penalty=l2, solver=liblinear, tol=0.0007; total time=   0.0s\n",
      "[CV] END C=3, class_weight=balanced, dual=False, fit_intercept=True, max_iter=97, multi_class=auto, penalty=l2, solver=liblinear, tol=0.0006; total time=   0.0s\n",
      "[CV] END C=3, class_weight=balanced, dual=False, fit_intercept=True, max_iter=97, multi_class=auto, penalty=l2, solver=liblinear, tol=0.0006; total time=   0.0s\n",
      "[CV] END C=3, class_weight=balanced, dual=False, fit_intercept=True, max_iter=97, multi_class=auto, penalty=l2, solver=liblinear, tol=0.0006; total time=   0.0s\n",
      "[CV] END C=3, class_weight=balanced, dual=False, fit_intercept=True, max_iter=97, multi_class=auto, penalty=l2, solver=liblinear, tol=0.0005; total time=   0.0s\n",
      "[CV] END C=3, class_weight=balanced, dual=False, fit_intercept=True, max_iter=97, multi_class=auto, penalty=l2, solver=liblinear, tol=0.0005; total time=   0.0s\n",
      "[CV] END C=3, class_weight=balanced, dual=False, fit_intercept=True, max_iter=97, multi_class=auto, penalty=l2, solver=liblinear, tol=0.0005; total time=   0.0s\n",
      "[CV] END C=3, class_weight=balanced, dual=False, fit_intercept=True, max_iter=97, multi_class=auto, penalty=l2, solver=liblinear, tol=0.00062; total time=   0.0s\n",
      "[CV] END C=3, class_weight=balanced, dual=False, fit_intercept=True, max_iter=97, multi_class=auto, penalty=l2, solver=liblinear, tol=0.00062; total time=   0.0s\n",
      "[CV] END C=3, class_weight=balanced, dual=False, fit_intercept=True, max_iter=97, multi_class=auto, penalty=l2, solver=liblinear, tol=0.00062; total time=   0.0s\n"
     ]
    }
   ],
   "source": [
    "#Turns out that GridSearchCV gives the same values for the hyperparameters\n",
    "#Finaling the optimized model\n",
    "model=model_GSCV.fit(x,Y)"
   ]
  },
  {
   "cell_type": "code",
   "execution_count": 187,
   "id": "0f29df74",
   "metadata": {},
   "outputs": [],
   "source": [
    "Y_model_predictions=model.predict(x_test)"
   ]
  },
  {
   "cell_type": "code",
   "execution_count": 188,
   "id": "5687686c",
   "metadata": {},
   "outputs": [],
   "source": [
    "#Finding best threshold for this model"
   ]
  },
  {
   "cell_type": "code",
   "execution_count": 189,
   "id": "41f36e4c",
   "metadata": {},
   "outputs": [
    {
     "data": {
      "text/plain": [
       "0.7332875457875458"
      ]
     },
     "execution_count": 189,
     "metadata": {},
     "output_type": "execute_result"
    }
   ],
   "source": [
    "AUROC=roc_auc_score(Y_test,Y_model_predictions)\n",
    "AUROC"
   ]
  },
  {
   "cell_type": "code",
   "execution_count": 190,
   "id": "0aa59e29",
   "metadata": {},
   "outputs": [
    {
     "data": {
      "image/png": "[encoded data removed]",
      "text/plain": [
       "<Figure size 720x720 with 1 Axes>"
      ]
     },
     "metadata": {
      "needs_background": "light"
     },
     "output_type": "display_data"
    }
   ],
   "source": [
    "#Plotting ROC curve\n",
    "FPR, TPR,_ = roc_curve(Y_test, Y_model_predictions)\n",
    "plt.figure(figsize=(10,10))\n",
    "plt.plot(FPR, TPR, linestyle='--', label='Random prediction (AUROC = %0.3f)' %AUROC)\n",
    "\n",
    "# Title\n",
    "plt.title('ROC Plot')\n",
    "\n",
    "# Axis labels\n",
    "plt.xlabel('False Positive Rate')\n",
    "plt.ylabel('True Positive Rate')\n",
    " \n",
    "# Show plot\n",
    "plt.show()"
   ]
  },
  {
   "cell_type": "code",
   "execution_count": 191,
   "id": "4e3b3ae2",
   "metadata": {},
   "outputs": [
    {
     "data": {
      "image/png": "[encoded data removed]",
      "text/plain": [
       "<Figure size 720x720 with 1 Axes>"
      ]
     },
     "metadata": {
      "needs_background": "light"
     },
     "output_type": "display_data"
    }
   ],
   "source": [
    "from sklearn.metrics import precision_recall_curve\n",
    "FPR,TPR, thresholds = precision_recall_curve(Y_test, Y_model_predictions)\n",
    "def plot_precision_recall_vs_threshold(FPR, TPR, thresholds):\n",
    "    plt.figure(figsize=(10,10))\n",
    "    plt.plot(thresholds, FPR[:-1], \"b--\", label=\"FPR\")\n",
    "    plt.plot(thresholds, TPR[:-1], \"g-\", label=\"TPR\")\n",
    "    plt.xlabel(\"Threshold\")\n",
    "    plt.legend(loc='upper right', frameon=True)\n",
    " \n",
    "\n",
    "plot_precision_recall_vs_threshold(FPR, TPR, thresholds)\n",
    "plt.show()"
   ]
  },
  {
   "cell_type": "code",
   "execution_count": 192,
   "id": "99c20727",
   "metadata": {},
   "outputs": [
    {
     "data": {
      "text/plain": [
       "array([[0.76655164, 0.23344836],\n",
       "       [0.64382579, 0.35617421],\n",
       "       [0.30154834, 0.69845166],\n",
       "       [0.84293751, 0.15706249],\n",
       "       [0.12754181, 0.87245819],\n",
       "       [0.04696289, 0.95303711],\n",
       "       [0.94920973, 0.05079027],\n",
       "       [0.8621088 , 0.1378912 ],\n",
       "       [0.4042534 , 0.5957466 ],\n",
       "       [0.37448494, 0.62551506],\n",
       "       [0.70070105, 0.29929895],\n",
       "       [0.52518731, 0.47481269],\n",
       "       [0.95736024, 0.04263976],\n",
       "       [0.61857669, 0.38142331],\n",
       "       [0.18379208, 0.81620792],\n",
       "       [0.05097158, 0.94902842],\n",
       "       [0.82827374, 0.17172626],\n",
       "       [0.02419278, 0.97580722],\n",
       "       [0.464947  , 0.535053  ],\n",
       "       [0.89363301, 0.10636699],\n",
       "       [0.55097337, 0.44902663],\n",
       "       [0.09025062, 0.90974938],\n",
       "       [0.81963631, 0.18036369],\n",
       "       [0.58299594, 0.41700406],\n",
       "       [0.16644147, 0.83355853],\n",
       "       [0.6548774 , 0.3451226 ],\n",
       "       [0.54938194, 0.45061806],\n",
       "       [0.54599135, 0.45400865],\n",
       "       [0.77430975, 0.22569025],\n",
       "       [0.06851772, 0.93148228],\n",
       "       [0.96053423, 0.03946577],\n",
       "       [0.57323617, 0.42676383],\n",
       "       [0.04656074, 0.95343926],\n",
       "       [0.80669824, 0.19330176],\n",
       "       [0.44134312, 0.55865688],\n",
       "       [0.11309202, 0.88690798],\n",
       "       [0.03697389, 0.96302611],\n",
       "       [0.61835492, 0.38164508],\n",
       "       [0.82296492, 0.17703508],\n",
       "       [0.18924879, 0.81075121],\n",
       "       [0.9025454 , 0.0974546 ],\n",
       "       [0.70662244, 0.29337756],\n",
       "       [0.796315  , 0.203685  ],\n",
       "       [0.79671794, 0.20328206],\n",
       "       [0.73466279, 0.26533721],\n",
       "       [0.25942399, 0.74057601],\n",
       "       [0.81429636, 0.18570364],\n",
       "       [0.24360702, 0.75639298],\n",
       "       [0.92311271, 0.07688729],\n",
       "       [0.31935517, 0.68064483],\n",
       "       [0.36124427, 0.63875573],\n",
       "       [0.96912705, 0.03087295],\n",
       "       [0.76583958, 0.23416042],\n",
       "       [0.42056047, 0.57943953],\n",
       "       [0.6628552 , 0.3371448 ],\n",
       "       [0.77926714, 0.22073286],\n",
       "       [0.05812172, 0.94187828],\n",
       "       [0.8269049 , 0.1730951 ],\n",
       "       [0.0358287 , 0.9641713 ],\n",
       "       [0.86130736, 0.13869264],\n",
       "       [0.48106882, 0.51893118],\n",
       "       [0.3543483 , 0.6456517 ],\n",
       "       [0.43814864, 0.56185136],\n",
       "       [0.98478489, 0.01521511],\n",
       "       [0.61894374, 0.38105626],\n",
       "       [0.84923133, 0.15076867],\n",
       "       [0.96050465, 0.03949535],\n",
       "       [0.87524275, 0.12475725],\n",
       "       [0.82409885, 0.17590115],\n",
       "       [0.28452526, 0.71547474],\n",
       "       [0.96591559, 0.03408441],\n",
       "       [0.09933458, 0.90066542],\n",
       "       [0.49063657, 0.50936343],\n",
       "       [0.60131212, 0.39868788],\n",
       "       [0.71039685, 0.28960315],\n",
       "       [0.62291686, 0.37708314],\n",
       "       [0.90793158, 0.09206842],\n",
       "       [0.72243613, 0.27756387],\n",
       "       [0.70119658, 0.29880342],\n",
       "       [0.14824606, 0.85175394],\n",
       "       [0.6087826 , 0.3912174 ],\n",
       "       [0.00512432, 0.99487568],\n",
       "       [0.28848355, 0.71151645],\n",
       "       [0.16391125, 0.83608875],\n",
       "       [0.46469932, 0.53530068],\n",
       "       [0.95908124, 0.04091876],\n",
       "       [0.68865859, 0.31134141],\n",
       "       [0.64720531, 0.35279469],\n",
       "       [0.21568663, 0.78431337],\n",
       "       [0.81208374, 0.18791626],\n",
       "       [0.85706651, 0.14293349],\n",
       "       [0.5037586 , 0.4962414 ],\n",
       "       [0.93524343, 0.06475657],\n",
       "       [0.07358923, 0.92641077],\n",
       "       [0.95199536, 0.04800464],\n",
       "       [0.96323812, 0.03676188],\n",
       "       [0.95548955, 0.04451045],\n",
       "       [0.90353234, 0.09646766],\n",
       "       [0.80750403, 0.19249597],\n",
       "       [0.06835339, 0.93164661],\n",
       "       [0.28902769, 0.71097231],\n",
       "       [0.08894865, 0.91105135],\n",
       "       [0.81736957, 0.18263043],\n",
       "       [0.65212753, 0.34787247],\n",
       "       [0.90893313, 0.09106687],\n",
       "       [0.94117687, 0.05882313],\n",
       "       [0.40051171, 0.59948829],\n",
       "       [0.65667404, 0.34332596],\n",
       "       [0.37347977, 0.62652023],\n",
       "       [0.38754587, 0.61245413],\n",
       "       [0.65249527, 0.34750473],\n",
       "       [0.29251451, 0.70748549],\n",
       "       [0.68506669, 0.31493331],\n",
       "       [0.20979447, 0.79020553],\n",
       "       [0.73056184, 0.26943816],\n",
       "       [0.02793649, 0.97206351],\n",
       "       [0.70550526, 0.29449474],\n",
       "       [0.09657649, 0.90342351],\n",
       "       [0.8834588 , 0.1165412 ],\n",
       "       [0.67452655, 0.32547345],\n",
       "       [0.67218387, 0.32781613],\n",
       "       [0.51133614, 0.48866386],\n",
       "       [0.04836703, 0.95163297],\n",
       "       [0.57197022, 0.42802978],\n",
       "       [0.62277981, 0.37722019],\n",
       "       [0.3546797 , 0.6453203 ],\n",
       "       [0.68314667, 0.31685333],\n",
       "       [0.05440306, 0.94559694],\n",
       "       [0.03034022, 0.96965978],\n",
       "       [0.54366251, 0.45633749],\n",
       "       [0.8060328 , 0.1939672 ],\n",
       "       [0.08164729, 0.91835271],\n",
       "       [0.64533108, 0.35466892],\n",
       "       [0.27364562, 0.72635438],\n",
       "       [0.32823242, 0.67176758],\n",
       "       [0.38255303, 0.61744697],\n",
       "       [0.8309109 , 0.1690891 ],\n",
       "       [0.47598941, 0.52401059],\n",
       "       [0.82106543, 0.17893457]])"
      ]
     },
     "execution_count": 192,
     "metadata": {},
     "output_type": "execute_result"
    }
   ],
   "source": [
    "model.predict_proba(x_test)"
   ]
  },
  {
   "cell_type": "code",
   "execution_count": 193,
   "id": "4655dddb",
   "metadata": {},
   "outputs": [
    {
     "data": {
      "text/html": [
       "<div>\n",
       "<style scoped>\n",
       "    .dataframe tbody tr th:only-of-type {\n",
       "        vertical-align: middle;\n",
       "    }\n",
       "\n",
       "    .dataframe tbody tr th {\n",
       "        vertical-align: top;\n",
       "    }\n",
       "\n",
       "    .dataframe thead th {\n",
       "        text-align: right;\n",
       "    }\n",
       "</style>\n",
       "<table border=\"1\" class=\"dataframe\">\n",
       "  <thead>\n",
       "    <tr style=\"text-align: right;\">\n",
       "      <th></th>\n",
       "      <th>0</th>\n",
       "      <th>1</th>\n",
       "    </tr>\n",
       "  </thead>\n",
       "  <tbody>\n",
       "    <tr>\n",
       "      <th>0</th>\n",
       "      <td>0.766552</td>\n",
       "      <td>0.233448</td>\n",
       "    </tr>\n",
       "    <tr>\n",
       "      <th>1</th>\n",
       "      <td>0.643826</td>\n",
       "      <td>0.356174</td>\n",
       "    </tr>\n",
       "    <tr>\n",
       "      <th>2</th>\n",
       "      <td>0.301548</td>\n",
       "      <td>0.698452</td>\n",
       "    </tr>\n",
       "    <tr>\n",
       "      <th>3</th>\n",
       "      <td>0.842938</td>\n",
       "      <td>0.157062</td>\n",
       "    </tr>\n",
       "    <tr>\n",
       "      <th>4</th>\n",
       "      <td>0.127542</td>\n",
       "      <td>0.872458</td>\n",
       "    </tr>\n",
       "  </tbody>\n",
       "</table>\n",
       "</div>"
      ],
      "text/plain": [
       "          0         1\n",
       "0  0.766552  0.233448\n",
       "1  0.643826  0.356174\n",
       "2  0.301548  0.698452\n",
       "3  0.842938  0.157062\n",
       "4  0.127542  0.872458"
      ]
     },
     "execution_count": 193,
     "metadata": {},
     "output_type": "execute_result"
    }
   ],
   "source": [
    "prediction_df=pd.DataFrame(model.predict_proba(x_test))\n",
    "prediction_df.head()"
   ]
  },
  {
   "cell_type": "code",
   "execution_count": 194,
   "id": "69324ca7",
   "metadata": {},
   "outputs": [],
   "source": [
    "prediction_df.drop(prediction_df[[1]],axis=1,inplace=True)"
   ]
  },
  {
   "cell_type": "code",
   "execution_count": 195,
   "id": "0848e230",
   "metadata": {},
   "outputs": [
    {
     "data": {
      "text/html": [
       "<div>\n",
       "<style scoped>\n",
       "    .dataframe tbody tr th:only-of-type {\n",
       "        vertical-align: middle;\n",
       "    }\n",
       "\n",
       "    .dataframe tbody tr th {\n",
       "        vertical-align: top;\n",
       "    }\n",
       "\n",
       "    .dataframe thead th {\n",
       "        text-align: right;\n",
       "    }\n",
       "</style>\n",
       "<table border=\"1\" class=\"dataframe\">\n",
       "  <thead>\n",
       "    <tr style=\"text-align: right;\">\n",
       "      <th></th>\n",
       "      <th>0</th>\n",
       "    </tr>\n",
       "  </thead>\n",
       "  <tbody>\n",
       "    <tr>\n",
       "      <th>127</th>\n",
       "      <td>0.054403</td>\n",
       "    </tr>\n",
       "    <tr>\n",
       "      <th>128</th>\n",
       "      <td>0.030340</td>\n",
       "    </tr>\n",
       "    <tr>\n",
       "      <th>129</th>\n",
       "      <td>0.543663</td>\n",
       "    </tr>\n",
       "    <tr>\n",
       "      <th>130</th>\n",
       "      <td>0.806033</td>\n",
       "    </tr>\n",
       "    <tr>\n",
       "      <th>131</th>\n",
       "      <td>0.081647</td>\n",
       "    </tr>\n",
       "    <tr>\n",
       "      <th>132</th>\n",
       "      <td>0.645331</td>\n",
       "    </tr>\n",
       "    <tr>\n",
       "      <th>133</th>\n",
       "      <td>0.273646</td>\n",
       "    </tr>\n",
       "    <tr>\n",
       "      <th>134</th>\n",
       "      <td>0.328232</td>\n",
       "    </tr>\n",
       "    <tr>\n",
       "      <th>135</th>\n",
       "      <td>0.382553</td>\n",
       "    </tr>\n",
       "    <tr>\n",
       "      <th>136</th>\n",
       "      <td>0.830911</td>\n",
       "    </tr>\n",
       "    <tr>\n",
       "      <th>137</th>\n",
       "      <td>0.475989</td>\n",
       "    </tr>\n",
       "    <tr>\n",
       "      <th>138</th>\n",
       "      <td>0.821065</td>\n",
       "    </tr>\n",
       "  </tbody>\n",
       "</table>\n",
       "</div>"
      ],
      "text/plain": [
       "            0\n",
       "127  0.054403\n",
       "128  0.030340\n",
       "129  0.543663\n",
       "130  0.806033\n",
       "131  0.081647\n",
       "132  0.645331\n",
       "133  0.273646\n",
       "134  0.328232\n",
       "135  0.382553\n",
       "136  0.830911\n",
       "137  0.475989\n",
       "138  0.821065"
      ]
     },
     "execution_count": 195,
     "metadata": {},
     "output_type": "execute_result"
    }
   ],
   "source": [
    "prediction_df.tail(12)"
   ]
  },
  {
   "cell_type": "code",
   "execution_count": 196,
   "id": "a7bb4c8a",
   "metadata": {},
   "outputs": [],
   "source": [
    "#Choosing the new threshold to be 0.52"
   ]
  },
  {
   "cell_type": "code",
   "execution_count": 246,
   "id": "d5d9bba6",
   "metadata": {},
   "outputs": [
    {
     "data": {
      "text/plain": [
       "array([0, 0, 1, 0, 1, 1, 0, 0, 1, 1, 0, 1, 0, 0, 1, 1, 0, 1, 1, 0, 1, 1,\n",
       "       0, 1, 1, 0, 1, 1, 0, 1, 0, 1, 1, 0, 1, 1, 1, 0, 0, 1, 0, 0, 0, 0,\n",
       "       0, 1, 0, 1, 0, 1, 1, 0, 0, 1, 0, 0, 1, 0, 1, 0, 1, 1, 1, 0, 0, 0,\n",
       "       0, 0, 0, 1, 0, 1, 1, 0, 0, 0, 0, 0, 0, 1, 0, 1, 1, 1, 1, 0, 0, 0,\n",
       "       1, 0, 0, 1, 0, 1, 0, 0, 0, 0, 0, 1, 1, 1, 0, 0, 0, 0, 1, 0, 1, 1,\n",
       "       0, 1, 0, 1, 0, 1, 0, 1, 0, 0, 0, 1, 1, 1, 0, 1, 0, 1, 1, 1, 0, 1,\n",
       "       0, 1, 1, 1, 0, 1, 0])"
      ]
     },
     "execution_count": 246,
     "metadata": {},
     "output_type": "execute_result"
    }
   ],
   "source": [
    "def change_threshold(prediction_dataframe):\n",
    "    final_prediction=[]\n",
    "    for i in prediction_dataframe:\n",
    "        if i >= 0.587:\n",
    "            i=0\n",
    "            final_prediction.append(i)\n",
    "        else:\n",
    "            i=1\n",
    "            final_prediction.append(i)\n",
    "    return final_prediction\n",
    "final_optimized_predictions=change_threshold(prediction_df.values)\n",
    "final_optimized_predictions=np.array(final_optimized_predictions)\n",
    "final_optimized_predictions"
   ]
  },
  {
   "cell_type": "code",
   "execution_count": 247,
   "id": "ce1207f9",
   "metadata": {},
   "outputs": [
    {
     "name": "stdout",
     "output_type": "stream",
     "text": [
      "AxesSubplot(0.125,0.125;0.62x0.755)\n",
      "0.697841726618705\n",
      "              precision    recall  f1-score   support\n",
      "\n",
      "           0       0.84      0.67      0.74        91\n",
      "           1       0.55      0.75      0.63        48\n",
      "\n",
      "    accuracy                           0.70       139\n",
      "   macro avg       0.69      0.71      0.69       139\n",
      "weighted avg       0.74      0.70      0.71       139\n",
      "\n"
     ]
    },
    {
     "data": {
      "image/png": "[encoded data removed]",
      "text/plain": [
       "<Figure size 432x288 with 2 Axes>"
      ]
     },
     "metadata": {
      "needs_background": "light"
     },
     "output_type": "display_data"
    }
   ],
   "source": [
    "#Analysis of variance(error in test data)...\n",
    "cm=confusion_matrix(Y_test,final_optimized_predictions)\n",
    "print(sns.heatmap(cm,annot=True))\n",
    "print(accuracy_score(Y_test,final_optimized_predictions))\n",
    "print(classification_report(Y_test,final_optimized_predictions))"
   ]
  },
  {
   "cell_type": "code",
   "execution_count": 248,
   "id": "b1c6fde9",
   "metadata": {},
   "outputs": [],
   "source": [
    "#Checking performance in training data\n",
    "Y_pred_training=model.predict_proba(x)"
   ]
  },
  {
   "cell_type": "code",
   "execution_count": 249,
   "id": "c48dc371",
   "metadata": {},
   "outputs": [],
   "source": [
    "df_training_prob=pd.DataFrame(Y_pred_training)\n",
    "df_training_prob.drop(df_training_prob[[1]],axis=1,inplace=True)"
   ]
  },
  {
   "cell_type": "code",
   "execution_count": 250,
   "id": "4a67f6dc",
   "metadata": {},
   "outputs": [],
   "source": [
    "training_data_predictions=change_threshold(df_training_prob.values)"
   ]
  },
  {
   "cell_type": "code",
   "execution_count": 251,
   "id": "b98d2619",
   "metadata": {},
   "outputs": [],
   "source": [
    "training_data_predictions=np.array(training_data_predictions)"
   ]
  },
  {
   "cell_type": "code",
   "execution_count": 252,
   "id": "1f43d025",
   "metadata": {},
   "outputs": [
    {
     "name": "stdout",
     "output_type": "stream",
     "text": [
      "AxesSubplot(0.125,0.125;0.62x0.755)\n",
      "0.7667560321715817\n",
      "              precision    recall  f1-score   support\n",
      "\n",
      "           0       0.85      0.72      0.78       431\n",
      "           1       0.68      0.83      0.75       315\n",
      "\n",
      "    accuracy                           0.77       746\n",
      "   macro avg       0.77      0.78      0.77       746\n",
      "weighted avg       0.78      0.77      0.77       746\n",
      "\n"
     ]
    },
    {
     "data": {
      "image/png": "[encoded data removed]",
      "text/plain": [
       "<Figure size 432x288 with 2 Axes>"
      ]
     },
     "metadata": {
      "needs_background": "light"
     },
     "output_type": "display_data"
    }
   ],
   "source": [
    "#Analysis of bias (error in training data)\n",
    "cm=confusion_matrix(Y,training_data_predictions)\n",
    "print(sns.heatmap(cm,annot=True))\n",
    "print(accuracy_score(Y,training_data_predictions))\n",
    "print(classification_report(Y,training_data_predictions))"
   ]
  },
  {
   "cell_type": "markdown",
   "id": "644fabc8",
   "metadata": {},
   "source": [
    "# Model is successfully complete!!!!!!!!!"
   ]
  },
  {
   "cell_type": "markdown",
   "id": "52235fd5",
   "metadata": {},
   "source": [
    "# Deploying the model now"
   ]
  },
  {
   "cell_type": "code",
   "execution_count": 253,
   "id": "26ca943d",
   "metadata": {},
   "outputs": [],
   "source": [
    "import pickle"
   ]
  },
  {
   "cell_type": "code",
   "execution_count": 254,
   "id": "36b2241e",
   "metadata": {},
   "outputs": [],
   "source": [
    "model_pickle_name=\"model_Diabetes.pkl\"\n",
    "f=open(model_pickle_name,\"wb\")\n",
    "pickle.dump(model,f)\n",
    "f.close()"
   ]
  },
  {
   "cell_type": "code",
   "execution_count": null,
   "id": "752d3856",
   "metadata": {},
   "outputs": [],
   "source": []
  },
  {
   "cell_type": "code",
   "execution_count": null,
   "id": "d6dad120",
   "metadata": {},
   "outputs": [],
   "source": []
  }
 ],
 "metadata": {
  "kernelspec": {
   "display_name": "Python 3 (ipykernel)",
   "language": "python",
   "name": "python3"
  },
  "language_info": {
   "codemirror_mode": {
    "name": "ipython",
    "version": 3
   },
   "file_extension": ".py",
   "mimetype": "text/x-python",
   "name": "python",
   "nbconvert_exporter": "python",
   "pygments_lexer": "ipython3",
   "version": "3.9.7"
  }
 },
 "nbformat": 4,
 "nbformat_minor": 5
}
