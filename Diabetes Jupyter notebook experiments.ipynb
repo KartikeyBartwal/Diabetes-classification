{
 "cells": [
  {
   "cell_type": "code",
   "execution_count": 1,
   "id": "e0e751a3",
   "metadata": {},
   "outputs": [],
   "source": [
    "import numpy as np\n",
    "import pandas as pd\n",
    "import seaborn as sns\n",
    "import matplotlib.pyplot as plt\n",
    "from sklearn.metrics import accuracy_score"
   ]
  },
  {
   "cell_type": "code",
   "execution_count": 2,
   "id": "04ea145b",
   "metadata": {},
   "outputs": [],
   "source": [
    "df=pd.read_csv(\"diabetes_dataset.csv\")"
   ]
  },
  {
   "cell_type": "markdown",
   "id": "d72e1c10",
   "metadata": {},
   "source": [
    "# Exploratory Data Analysis"
   ]
  },
  {
   "cell_type": "code",
   "execution_count": 3,
   "id": "e9231350",
   "metadata": {},
   "outputs": [
    {
     "data": {
      "text/html": [
       "<div>\n",
       "<style scoped>\n",
       "    .dataframe tbody tr th:only-of-type {\n",
       "        vertical-align: middle;\n",
       "    }\n",
       "\n",
       "    .dataframe tbody tr th {\n",
       "        vertical-align: top;\n",
       "    }\n",
       "\n",
       "    .dataframe thead th {\n",
       "        text-align: right;\n",
       "    }\n",
       "</style>\n",
       "<table border=\"1\" class=\"dataframe\">\n",
       "  <thead>\n",
       "    <tr style=\"text-align: right;\">\n",
       "      <th></th>\n",
       "      <th>Pregnancies</th>\n",
       "      <th>Glucose</th>\n",
       "      <th>BloodPressure</th>\n",
       "      <th>SkinThickness</th>\n",
       "      <th>Insulin</th>\n",
       "      <th>BMI</th>\n",
       "      <th>DiabetesPedigreeFunction</th>\n",
       "      <th>Age</th>\n",
       "      <th>Outcome</th>\n",
       "    </tr>\n",
       "  </thead>\n",
       "  <tbody>\n",
       "    <tr>\n",
       "      <th>0</th>\n",
       "      <td>6</td>\n",
       "      <td>148</td>\n",
       "      <td>72</td>\n",
       "      <td>35</td>\n",
       "      <td>0</td>\n",
       "      <td>33.6</td>\n",
       "      <td>0.627</td>\n",
       "      <td>50</td>\n",
       "      <td>1</td>\n",
       "    </tr>\n",
       "    <tr>\n",
       "      <th>1</th>\n",
       "      <td>1</td>\n",
       "      <td>85</td>\n",
       "      <td>66</td>\n",
       "      <td>29</td>\n",
       "      <td>0</td>\n",
       "      <td>26.6</td>\n",
       "      <td>0.351</td>\n",
       "      <td>31</td>\n",
       "      <td>0</td>\n",
       "    </tr>\n",
       "    <tr>\n",
       "      <th>2</th>\n",
       "      <td>8</td>\n",
       "      <td>183</td>\n",
       "      <td>64</td>\n",
       "      <td>0</td>\n",
       "      <td>0</td>\n",
       "      <td>23.3</td>\n",
       "      <td>0.672</td>\n",
       "      <td>32</td>\n",
       "      <td>1</td>\n",
       "    </tr>\n",
       "    <tr>\n",
       "      <th>3</th>\n",
       "      <td>1</td>\n",
       "      <td>89</td>\n",
       "      <td>66</td>\n",
       "      <td>23</td>\n",
       "      <td>94</td>\n",
       "      <td>28.1</td>\n",
       "      <td>0.167</td>\n",
       "      <td>21</td>\n",
       "      <td>0</td>\n",
       "    </tr>\n",
       "    <tr>\n",
       "      <th>4</th>\n",
       "      <td>0</td>\n",
       "      <td>137</td>\n",
       "      <td>40</td>\n",
       "      <td>35</td>\n",
       "      <td>168</td>\n",
       "      <td>43.1</td>\n",
       "      <td>2.288</td>\n",
       "      <td>33</td>\n",
       "      <td>1</td>\n",
       "    </tr>\n",
       "  </tbody>\n",
       "</table>\n",
       "</div>"
      ],
      "text/plain": [
       "   Pregnancies  Glucose  BloodPressure  SkinThickness  Insulin   BMI  \\\n",
       "0            6      148             72             35        0  33.6   \n",
       "1            1       85             66             29        0  26.6   \n",
       "2            8      183             64              0        0  23.3   \n",
       "3            1       89             66             23       94  28.1   \n",
       "4            0      137             40             35      168  43.1   \n",
       "\n",
       "   DiabetesPedigreeFunction  Age  Outcome  \n",
       "0                     0.627   50        1  \n",
       "1                     0.351   31        0  \n",
       "2                     0.672   32        1  \n",
       "3                     0.167   21        0  \n",
       "4                     2.288   33        1  "
      ]
     },
     "execution_count": 3,
     "metadata": {},
     "output_type": "execute_result"
    }
   ],
   "source": [
    "df.head()"
   ]
  },
  {
   "cell_type": "code",
   "execution_count": 4,
   "id": "561db0c2",
   "metadata": {},
   "outputs": [
    {
     "data": {
      "text/plain": [
       "(768, 9)"
      ]
     },
     "execution_count": 4,
     "metadata": {},
     "output_type": "execute_result"
    }
   ],
   "source": [
    "df.shape"
   ]
  },
  {
   "cell_type": "code",
   "execution_count": 5,
   "id": "5fa718a1",
   "metadata": {},
   "outputs": [
    {
     "name": "stdout",
     "output_type": "stream",
     "text": [
      "<class 'pandas.core.frame.DataFrame'>\n",
      "RangeIndex: 768 entries, 0 to 767\n",
      "Data columns (total 9 columns):\n",
      " #   Column                    Non-Null Count  Dtype  \n",
      "---  ------                    --------------  -----  \n",
      " 0   Pregnancies               768 non-null    int64  \n",
      " 1   Glucose                   768 non-null    int64  \n",
      " 2   BloodPressure             768 non-null    int64  \n",
      " 3   SkinThickness             768 non-null    int64  \n",
      " 4   Insulin                   768 non-null    int64  \n",
      " 5   BMI                       768 non-null    float64\n",
      " 6   DiabetesPedigreeFunction  768 non-null    float64\n",
      " 7   Age                       768 non-null    int64  \n",
      " 8   Outcome                   768 non-null    int64  \n",
      "dtypes: float64(2), int64(7)\n",
      "memory usage: 54.1 KB\n"
     ]
    }
   ],
   "source": [
    "df.info()"
   ]
  },
  {
   "cell_type": "markdown",
   "id": "95904a57",
   "metadata": {},
   "source": [
    "#### Pregnancies"
   ]
  },
  {
   "cell_type": "code",
   "execution_count": 6,
   "id": "f095ba40",
   "metadata": {},
   "outputs": [
    {
     "data": {
      "text/plain": [
       "count    768.000000\n",
       "mean       3.845052\n",
       "std        3.369578\n",
       "min        0.000000\n",
       "25%        1.000000\n",
       "50%        3.000000\n",
       "75%        6.000000\n",
       "max       17.000000\n",
       "Name: Pregnancies, dtype: float64"
      ]
     },
     "execution_count": 6,
     "metadata": {},
     "output_type": "execute_result"
    }
   ],
   "source": [
    "df[\"Pregnancies\"].describe()"
   ]
  },
  {
   "cell_type": "code",
   "execution_count": 7,
   "id": "f39f3c6b",
   "metadata": {},
   "outputs": [
    {
     "data": {
      "text/plain": [
       "[0, 1, 2, 3, 4, 5, 6, 7, 8, 9, 10, 11, 12, 13, 14, 15, 17]"
      ]
     },
     "execution_count": 7,
     "metadata": {},
     "output_type": "execute_result"
    }
   ],
   "source": [
    "#unique values\n",
    "Pregnancies_unique=list(pd.unique(df[\"Pregnancies\"]))\n",
    "Pregnancies_unique.sort()\n",
    "Pregnancies_unique"
   ]
  },
  {
   "cell_type": "code",
   "execution_count": 8,
   "id": "3ad35ca7",
   "metadata": {
    "scrolled": false
   },
   "outputs": [
    {
     "data": {
      "text/plain": [
       "1     135\n",
       "0     111\n",
       "2     103\n",
       "3      75\n",
       "4      68\n",
       "5      57\n",
       "6      50\n",
       "7      45\n",
       "8      38\n",
       "9      28\n",
       "10     24\n",
       "11     11\n",
       "13     10\n",
       "12      9\n",
       "14      2\n",
       "15      1\n",
       "17      1\n",
       "Name: Pregnancies, dtype: int64"
      ]
     },
     "execution_count": 8,
     "metadata": {},
     "output_type": "execute_result"
    }
   ],
   "source": [
    "#frequency of values\n",
    "df[\"Pregnancies\"].value_counts()"
   ]
  },
  {
   "cell_type": "code",
   "execution_count": 9,
   "id": "85189ec7",
   "metadata": {},
   "outputs": [
    {
     "name": "stderr",
     "output_type": "stream",
     "text": [
      "C:\\Users\\hp\\AppData\\Local\\Programs\\Python\\Python39\\lib\\site-packages\\seaborn\\_decorators.py:36: FutureWarning: Pass the following variable as a keyword arg: x. From version 0.12, the only valid positional argument will be `data`, and passing other arguments without an explicit keyword will result in an error or misinterpretation.\n",
      "  warnings.warn(\n"
     ]
    },
    {
     "data": {
      "text/plain": [
       "<AxesSubplot:xlabel='Pregnancies'>"
      ]
     },
     "execution_count": 9,
     "metadata": {},
     "output_type": "execute_result"
    },
    {
     "data": {
      "image/png": "[encoded data removed]",
      "text/plain": [
       "<Figure size 432x288 with 1 Axes>"
      ]
     },
     "metadata": {
      "needs_background": "light"
     },
     "output_type": "display_data"
    }
   ],
   "source": [
    "#Outliers\n",
    "sns.boxplot(df[\"Pregnancies\"])"
   ]
  },
  {
   "cell_type": "markdown",
   "id": "072fd641",
   "metadata": {},
   "source": [
    "#### Glucose"
   ]
  },
  {
   "cell_type": "code",
   "execution_count": 10,
   "id": "a36b1428",
   "metadata": {},
   "outputs": [
    {
     "data": {
      "text/plain": [
       "count    768.000000\n",
       "mean     120.894531\n",
       "std       31.972618\n",
       "min        0.000000\n",
       "25%       99.000000\n",
       "50%      117.000000\n",
       "75%      140.250000\n",
       "max      199.000000\n",
       "Name: Glucose, dtype: float64"
      ]
     },
     "execution_count": 10,
     "metadata": {},
     "output_type": "execute_result"
    }
   ],
   "source": [
    "df[\"Glucose\"].describe()"
   ]
  },
  {
   "cell_type": "code",
   "execution_count": 11,
   "id": "8b5472f8",
   "metadata": {},
   "outputs": [
    {
     "data": {
      "text/plain": [
       "[0,\n",
       " 44,\n",
       " 56,\n",
       " 57,\n",
       " 61,\n",
       " 62,\n",
       " 65,\n",
       " 67,\n",
       " 68,\n",
       " 71,\n",
       " 72,\n",
       " 73,\n",
       " 74,\n",
       " 75,\n",
       " 76,\n",
       " 77,\n",
       " 78,\n",
       " 79,\n",
       " 80,\n",
       " 81,\n",
       " 82,\n",
       " 83,\n",
       " 84,\n",
       " 85,\n",
       " 86,\n",
       " 87,\n",
       " 88,\n",
       " 89,\n",
       " 90,\n",
       " 91,\n",
       " 92,\n",
       " 93,\n",
       " 94,\n",
       " 95,\n",
       " 96,\n",
       " 97,\n",
       " 98,\n",
       " 99,\n",
       " 100,\n",
       " 101,\n",
       " 102,\n",
       " 103,\n",
       " 104,\n",
       " 105,\n",
       " 106,\n",
       " 107,\n",
       " 108,\n",
       " 109,\n",
       " 110,\n",
       " 111,\n",
       " 112,\n",
       " 113,\n",
       " 114,\n",
       " 115,\n",
       " 116,\n",
       " 117,\n",
       " 118,\n",
       " 119,\n",
       " 120,\n",
       " 121,\n",
       " 122,\n",
       " 123,\n",
       " 124,\n",
       " 125,\n",
       " 126,\n",
       " 127,\n",
       " 128,\n",
       " 129,\n",
       " 130,\n",
       " 131,\n",
       " 132,\n",
       " 133,\n",
       " 134,\n",
       " 135,\n",
       " 136,\n",
       " 137,\n",
       " 138,\n",
       " 139,\n",
       " 140,\n",
       " 141,\n",
       " 142,\n",
       " 143,\n",
       " 144,\n",
       " 145,\n",
       " 146,\n",
       " 147,\n",
       " 148,\n",
       " 149,\n",
       " 150,\n",
       " 151,\n",
       " 152,\n",
       " 153,\n",
       " 154,\n",
       " 155,\n",
       " 156,\n",
       " 157,\n",
       " 158,\n",
       " 159,\n",
       " 160,\n",
       " 161,\n",
       " 162,\n",
       " 163,\n",
       " 164,\n",
       " 165,\n",
       " 166,\n",
       " 167,\n",
       " 168,\n",
       " 169,\n",
       " 170,\n",
       " 171,\n",
       " 172,\n",
       " 173,\n",
       " 174,\n",
       " 175,\n",
       " 176,\n",
       " 177,\n",
       " 178,\n",
       " 179,\n",
       " 180,\n",
       " 181,\n",
       " 182,\n",
       " 183,\n",
       " 184,\n",
       " 186,\n",
       " 187,\n",
       " 188,\n",
       " 189,\n",
       " 190,\n",
       " 191,\n",
       " 193,\n",
       " 194,\n",
       " 195,\n",
       " 196,\n",
       " 197,\n",
       " 198,\n",
       " 199]"
      ]
     },
     "execution_count": 11,
     "metadata": {},
     "output_type": "execute_result"
    }
   ],
   "source": [
    "#unique values\n",
    "Glucose_unique=list(pd.unique(df[\"Glucose\"]))\n",
    "Glucose_unique.sort()\n",
    "Glucose_unique"
   ]
  },
  {
   "cell_type": "code",
   "execution_count": 12,
   "id": "0389737b",
   "metadata": {},
   "outputs": [
    {
     "data": {
      "text/plain": [
       "99     17\n",
       "100    17\n",
       "111    14\n",
       "129    14\n",
       "125    14\n",
       "       ..\n",
       "191     1\n",
       "177     1\n",
       "44      1\n",
       "62      1\n",
       "190     1\n",
       "Name: Glucose, Length: 136, dtype: int64"
      ]
     },
     "execution_count": 12,
     "metadata": {},
     "output_type": "execute_result"
    }
   ],
   "source": [
    "#frequency of values\n",
    "df[\"Glucose\"].value_counts()"
   ]
  },
  {
   "cell_type": "code",
   "execution_count": 13,
   "id": "4fb2c211",
   "metadata": {},
   "outputs": [
    {
     "name": "stderr",
     "output_type": "stream",
     "text": [
      "C:\\Users\\hp\\AppData\\Local\\Programs\\Python\\Python39\\lib\\site-packages\\seaborn\\_decorators.py:36: FutureWarning: Pass the following variable as a keyword arg: x. From version 0.12, the only valid positional argument will be `data`, and passing other arguments without an explicit keyword will result in an error or misinterpretation.\n",
      "  warnings.warn(\n"
     ]
    },
    {
     "data": {
      "text/plain": [
       "<AxesSubplot:xlabel='Glucose'>"
      ]
     },
     "execution_count": 13,
     "metadata": {},
     "output_type": "execute_result"
    },
    {
     "data": {
      "image/png": "[encoded data removed]",
      "text/plain": [
       "<Figure size 432x288 with 1 Axes>"
      ]
     },
     "metadata": {
      "needs_background": "light"
     },
     "output_type": "display_data"
    }
   ],
   "source": [
    "#Outliers\n",
    "sns.boxplot(df[\"Glucose\"])"
   ]
  },
  {
   "cell_type": "markdown",
   "id": "efb643f0",
   "metadata": {},
   "source": [
    "#### BloodPressure"
   ]
  },
  {
   "cell_type": "code",
   "execution_count": 14,
   "id": "a3954d04",
   "metadata": {},
   "outputs": [
    {
     "data": {
      "text/plain": [
       "count    768.000000\n",
       "mean      69.105469\n",
       "std       19.355807\n",
       "min        0.000000\n",
       "25%       62.000000\n",
       "50%       72.000000\n",
       "75%       80.000000\n",
       "max      122.000000\n",
       "Name: BloodPressure, dtype: float64"
      ]
     },
     "execution_count": 14,
     "metadata": {},
     "output_type": "execute_result"
    }
   ],
   "source": [
    "df[\"BloodPressure\"].describe()"
   ]
  },
  {
   "cell_type": "code",
   "execution_count": 15,
   "id": "e2b02eed",
   "metadata": {},
   "outputs": [
    {
     "data": {
      "text/plain": [
       "[0,\n",
       " 24,\n",
       " 30,\n",
       " 38,\n",
       " 40,\n",
       " 44,\n",
       " 46,\n",
       " 48,\n",
       " 50,\n",
       " 52,\n",
       " 54,\n",
       " 55,\n",
       " 56,\n",
       " 58,\n",
       " 60,\n",
       " 61,\n",
       " 62,\n",
       " 64,\n",
       " 65,\n",
       " 66,\n",
       " 68,\n",
       " 70,\n",
       " 72,\n",
       " 74,\n",
       " 75,\n",
       " 76,\n",
       " 78,\n",
       " 80,\n",
       " 82,\n",
       " 84,\n",
       " 85,\n",
       " 86,\n",
       " 88,\n",
       " 90,\n",
       " 92,\n",
       " 94,\n",
       " 95,\n",
       " 96,\n",
       " 98,\n",
       " 100,\n",
       " 102,\n",
       " 104,\n",
       " 106,\n",
       " 108,\n",
       " 110,\n",
       " 114,\n",
       " 122]"
      ]
     },
     "execution_count": 15,
     "metadata": {},
     "output_type": "execute_result"
    }
   ],
   "source": [
    "#unique values\n",
    "BloodPressure_unique=list(pd.unique(df[\"BloodPressure\"]))\n",
    "BloodPressure_unique.sort()\n",
    "BloodPressure_unique"
   ]
  },
  {
   "cell_type": "code",
   "execution_count": 16,
   "id": "3060fb5c",
   "metadata": {},
   "outputs": [
    {
     "data": {
      "text/plain": [
       "70     57\n",
       "74     52\n",
       "78     45\n",
       "68     45\n",
       "72     44\n",
       "64     43\n",
       "80     40\n",
       "76     39\n",
       "60     37\n",
       "0      35\n",
       "62     34\n",
       "66     30\n",
       "82     30\n",
       "88     25\n",
       "84     23\n",
       "90     22\n",
       "86     21\n",
       "58     21\n",
       "50     13\n",
       "56     12\n",
       "52     11\n",
       "54     11\n",
       "75      8\n",
       "92      8\n",
       "65      7\n",
       "85      6\n",
       "94      6\n",
       "48      5\n",
       "96      4\n",
       "44      4\n",
       "100     3\n",
       "106     3\n",
       "98      3\n",
       "110     3\n",
       "55      2\n",
       "108     2\n",
       "104     2\n",
       "46      2\n",
       "30      2\n",
       "122     1\n",
       "95      1\n",
       "102     1\n",
       "61      1\n",
       "24      1\n",
       "38      1\n",
       "40      1\n",
       "114     1\n",
       "Name: BloodPressure, dtype: int64"
      ]
     },
     "execution_count": 16,
     "metadata": {},
     "output_type": "execute_result"
    }
   ],
   "source": [
    "# frequency of values\n",
    "df[\"BloodPressure\"].value_counts()"
   ]
  },
  {
   "cell_type": "code",
   "execution_count": 17,
   "id": "c85b845d",
   "metadata": {},
   "outputs": [
    {
     "name": "stderr",
     "output_type": "stream",
     "text": [
      "C:\\Users\\hp\\AppData\\Local\\Programs\\Python\\Python39\\lib\\site-packages\\seaborn\\_decorators.py:36: FutureWarning: Pass the following variable as a keyword arg: x. From version 0.12, the only valid positional argument will be `data`, and passing other arguments without an explicit keyword will result in an error or misinterpretation.\n",
      "  warnings.warn(\n"
     ]
    },
    {
     "data": {
      "text/plain": [
       "<AxesSubplot:xlabel='BloodPressure'>"
      ]
     },
     "execution_count": 17,
     "metadata": {},
     "output_type": "execute_result"
    },
    {
     "data": {
      "image/png": "[encoded data removed]",
      "text/plain": [
       "<Figure size 432x288 with 1 Axes>"
      ]
     },
     "metadata": {
      "needs_background": "light"
     },
     "output_type": "display_data"
    }
   ],
   "source": [
    "#Outliers\n",
    "sns.boxplot(df[\"BloodPressure\"])"
   ]
  },
  {
   "cell_type": "markdown",
   "id": "9309deeb",
   "metadata": {},
   "source": [
    "#### SkinThickness"
   ]
  },
  {
   "cell_type": "code",
   "execution_count": 18,
   "id": "dbc12a7d",
   "metadata": {},
   "outputs": [
    {
     "data": {
      "text/plain": [
       "count    768.000000\n",
       "mean      20.536458\n",
       "std       15.952218\n",
       "min        0.000000\n",
       "25%        0.000000\n",
       "50%       23.000000\n",
       "75%       32.000000\n",
       "max       99.000000\n",
       "Name: SkinThickness, dtype: float64"
      ]
     },
     "execution_count": 18,
     "metadata": {},
     "output_type": "execute_result"
    }
   ],
   "source": [
    "df[\"SkinThickness\"].describe()"
   ]
  },
  {
   "cell_type": "code",
   "execution_count": 19,
   "id": "f3708f18",
   "metadata": {},
   "outputs": [
    {
     "data": {
      "text/plain": [
       "[0,\n",
       " 7,\n",
       " 8,\n",
       " 10,\n",
       " 11,\n",
       " 12,\n",
       " 13,\n",
       " 14,\n",
       " 15,\n",
       " 16,\n",
       " 17,\n",
       " 18,\n",
       " 19,\n",
       " 20,\n",
       " 21,\n",
       " 22,\n",
       " 23,\n",
       " 24,\n",
       " 25,\n",
       " 26,\n",
       " 27,\n",
       " 28,\n",
       " 29,\n",
       " 30,\n",
       " 31,\n",
       " 32,\n",
       " 33,\n",
       " 34,\n",
       " 35,\n",
       " 36,\n",
       " 37,\n",
       " 38,\n",
       " 39,\n",
       " 40,\n",
       " 41,\n",
       " 42,\n",
       " 43,\n",
       " 44,\n",
       " 45,\n",
       " 46,\n",
       " 47,\n",
       " 48,\n",
       " 49,\n",
       " 50,\n",
       " 51,\n",
       " 52,\n",
       " 54,\n",
       " 56,\n",
       " 60,\n",
       " 63,\n",
       " 99]"
      ]
     },
     "execution_count": 19,
     "metadata": {},
     "output_type": "execute_result"
    }
   ],
   "source": [
    "#unique values\n",
    "SkinThickness_unique=list(pd.unique(df[\"SkinThickness\"]))\n",
    "SkinThickness_unique.sort()\n",
    "SkinThickness_unique"
   ]
  },
  {
   "cell_type": "code",
   "execution_count": 20,
   "id": "a0c343dc",
   "metadata": {},
   "outputs": [
    {
     "data": {
      "text/plain": [
       "0     227\n",
       "32     31\n",
       "30     27\n",
       "27     23\n",
       "23     22\n",
       "33     20\n",
       "28     20\n",
       "18     20\n",
       "31     19\n",
       "19     18\n",
       "39     18\n",
       "29     17\n",
       "40     16\n",
       "25     16\n",
       "26     16\n",
       "22     16\n",
       "37     16\n",
       "41     15\n",
       "35     15\n",
       "36     14\n",
       "15     14\n",
       "17     14\n",
       "20     13\n",
       "24     12\n",
       "42     11\n",
       "13     11\n",
       "21     10\n",
       "46      8\n",
       "34      8\n",
       "12      7\n",
       "38      7\n",
       "11      6\n",
       "43      6\n",
       "16      6\n",
       "45      6\n",
       "14      6\n",
       "44      5\n",
       "10      5\n",
       "48      4\n",
       "47      4\n",
       "49      3\n",
       "50      3\n",
       "8       2\n",
       "7       2\n",
       "52      2\n",
       "54      2\n",
       "63      1\n",
       "60      1\n",
       "56      1\n",
       "51      1\n",
       "99      1\n",
       "Name: SkinThickness, dtype: int64"
      ]
     },
     "execution_count": 20,
     "metadata": {},
     "output_type": "execute_result"
    }
   ],
   "source": [
    "#frequency of values\n",
    "df[\"SkinThickness\"].value_counts()"
   ]
  },
  {
   "cell_type": "code",
   "execution_count": 21,
   "id": "3f3d7593",
   "metadata": {},
   "outputs": [
    {
     "name": "stderr",
     "output_type": "stream",
     "text": [
      "C:\\Users\\hp\\AppData\\Local\\Programs\\Python\\Python39\\lib\\site-packages\\seaborn\\_decorators.py:36: FutureWarning: Pass the following variable as a keyword arg: x. From version 0.12, the only valid positional argument will be `data`, and passing other arguments without an explicit keyword will result in an error or misinterpretation.\n",
      "  warnings.warn(\n"
     ]
    },
    {
     "data": {
      "text/plain": [
       "<AxesSubplot:xlabel='SkinThickness'>"
      ]
     },
     "execution_count": 21,
     "metadata": {},
     "output_type": "execute_result"
    },
    {
     "data": {
      "image/png": "[encoded data removed]",
      "text/plain": [
       "<Figure size 432x288 with 1 Axes>"
      ]
     },
     "metadata": {
      "needs_background": "light"
     },
     "output_type": "display_data"
    }
   ],
   "source": [
    "#Outliers\n",
    "sns.boxplot(df[\"SkinThickness\"])"
   ]
  },
  {
   "cell_type": "markdown",
   "id": "8bbe22fb",
   "metadata": {},
   "source": [
    "#### Insulin"
   ]
  },
  {
   "cell_type": "code",
   "execution_count": 22,
   "id": "4cfacec7",
   "metadata": {},
   "outputs": [
    {
     "data": {
      "text/plain": [
       "count    768.000000\n",
       "mean      79.799479\n",
       "std      115.244002\n",
       "min        0.000000\n",
       "25%        0.000000\n",
       "50%       30.500000\n",
       "75%      127.250000\n",
       "max      846.000000\n",
       "Name: Insulin, dtype: float64"
      ]
     },
     "execution_count": 22,
     "metadata": {},
     "output_type": "execute_result"
    }
   ],
   "source": [
    "df[\"Insulin\"].describe()"
   ]
  },
  {
   "cell_type": "code",
   "execution_count": 23,
   "id": "f4ad1916",
   "metadata": {},
   "outputs": [
    {
     "data": {
      "text/plain": [
       "[0,\n",
       " 14,\n",
       " 15,\n",
       " 16,\n",
       " 18,\n",
       " 22,\n",
       " 23,\n",
       " 25,\n",
       " 29,\n",
       " 32,\n",
       " 36,\n",
       " 37,\n",
       " 38,\n",
       " 40,\n",
       " 41,\n",
       " 42,\n",
       " 43,\n",
       " 44,\n",
       " 45,\n",
       " 46,\n",
       " 48,\n",
       " 49,\n",
       " 50,\n",
       " 51,\n",
       " 52,\n",
       " 53,\n",
       " 54,\n",
       " 55,\n",
       " 56,\n",
       " 57,\n",
       " 58,\n",
       " 59,\n",
       " 60,\n",
       " 61,\n",
       " 63,\n",
       " 64,\n",
       " 65,\n",
       " 66,\n",
       " 67,\n",
       " 68,\n",
       " 70,\n",
       " 71,\n",
       " 72,\n",
       " 73,\n",
       " 74,\n",
       " 75,\n",
       " 76,\n",
       " 77,\n",
       " 78,\n",
       " 79,\n",
       " 81,\n",
       " 82,\n",
       " 83,\n",
       " 84,\n",
       " 85,\n",
       " 86,\n",
       " 87,\n",
       " 88,\n",
       " 89,\n",
       " 90,\n",
       " 91,\n",
       " 92,\n",
       " 94,\n",
       " 95,\n",
       " 96,\n",
       " 99,\n",
       " 100,\n",
       " 105,\n",
       " 106,\n",
       " 108,\n",
       " 110,\n",
       " 112,\n",
       " 114,\n",
       " 115,\n",
       " 116,\n",
       " 119,\n",
       " 120,\n",
       " 122,\n",
       " 125,\n",
       " 126,\n",
       " 127,\n",
       " 128,\n",
       " 129,\n",
       " 130,\n",
       " 132,\n",
       " 135,\n",
       " 140,\n",
       " 142,\n",
       " 144,\n",
       " 145,\n",
       " 146,\n",
       " 148,\n",
       " 150,\n",
       " 152,\n",
       " 155,\n",
       " 156,\n",
       " 158,\n",
       " 159,\n",
       " 160,\n",
       " 165,\n",
       " 166,\n",
       " 167,\n",
       " 168,\n",
       " 170,\n",
       " 171,\n",
       " 175,\n",
       " 176,\n",
       " 178,\n",
       " 180,\n",
       " 182,\n",
       " 183,\n",
       " 184,\n",
       " 185,\n",
       " 188,\n",
       " 190,\n",
       " 191,\n",
       " 192,\n",
       " 193,\n",
       " 194,\n",
       " 196,\n",
       " 200,\n",
       " 204,\n",
       " 205,\n",
       " 207,\n",
       " 210,\n",
       " 215,\n",
       " 220,\n",
       " 225,\n",
       " 228,\n",
       " 230,\n",
       " 231,\n",
       " 235,\n",
       " 237,\n",
       " 240,\n",
       " 245,\n",
       " 249,\n",
       " 250,\n",
       " 255,\n",
       " 258,\n",
       " 265,\n",
       " 270,\n",
       " 271,\n",
       " 272,\n",
       " 274,\n",
       " 275,\n",
       " 277,\n",
       " 278,\n",
       " 280,\n",
       " 284,\n",
       " 285,\n",
       " 291,\n",
       " 293,\n",
       " 300,\n",
       " 304,\n",
       " 310,\n",
       " 318,\n",
       " 321,\n",
       " 325,\n",
       " 326,\n",
       " 328,\n",
       " 330,\n",
       " 335,\n",
       " 342,\n",
       " 360,\n",
       " 370,\n",
       " 375,\n",
       " 387,\n",
       " 392,\n",
       " 402,\n",
       " 415,\n",
       " 440,\n",
       " 465,\n",
       " 474,\n",
       " 478,\n",
       " 480,\n",
       " 485,\n",
       " 495,\n",
       " 510,\n",
       " 540,\n",
       " 543,\n",
       " 545,\n",
       " 579,\n",
       " 600,\n",
       " 680,\n",
       " 744,\n",
       " 846]"
      ]
     },
     "execution_count": 23,
     "metadata": {},
     "output_type": "execute_result"
    }
   ],
   "source": [
    "#unique values\n",
    "Insulin_unique=list(pd.unique(df[\"Insulin\"]))\n",
    "Insulin_unique.sort()\n",
    "Insulin_unique"
   ]
  },
  {
   "cell_type": "code",
   "execution_count": 24,
   "id": "e87f906d",
   "metadata": {},
   "outputs": [
    {
     "data": {
      "text/plain": [
       "0      374\n",
       "105     11\n",
       "130      9\n",
       "140      9\n",
       "120      8\n",
       "      ... \n",
       "73       1\n",
       "171      1\n",
       "255      1\n",
       "52       1\n",
       "112      1\n",
       "Name: Insulin, Length: 186, dtype: int64"
      ]
     },
     "execution_count": 24,
     "metadata": {},
     "output_type": "execute_result"
    }
   ],
   "source": [
    "# frequency of values\n",
    "df[\"Insulin\"].value_counts()"
   ]
  },
  {
   "cell_type": "code",
   "execution_count": 25,
   "id": "5af59d75",
   "metadata": {},
   "outputs": [
    {
     "name": "stderr",
     "output_type": "stream",
     "text": [
      "C:\\Users\\hp\\AppData\\Local\\Programs\\Python\\Python39\\lib\\site-packages\\seaborn\\_decorators.py:36: FutureWarning: Pass the following variable as a keyword arg: x. From version 0.12, the only valid positional argument will be `data`, and passing other arguments without an explicit keyword will result in an error or misinterpretation.\n",
      "  warnings.warn(\n"
     ]
    },
    {
     "data": {
      "text/plain": [
       "<AxesSubplot:xlabel='Insulin'>"
      ]
     },
     "execution_count": 25,
     "metadata": {},
     "output_type": "execute_result"
    },
    {
     "data": {
      "image/png": "[encoded data removed]",
      "text/plain": [
       "<Figure size 432x288 with 1 Axes>"
      ]
     },
     "metadata": {
      "needs_background": "light"
     },
     "output_type": "display_data"
    }
   ],
   "source": [
    "#Outliers\n",
    "sns.boxplot(df[\"Insulin\"])"
   ]
  },
  {
   "cell_type": "markdown",
   "id": "3ec0f977",
   "metadata": {},
   "source": [
    "#### BMI\t"
   ]
  },
  {
   "cell_type": "code",
   "execution_count": 26,
   "id": "7fc72f17",
   "metadata": {},
   "outputs": [
    {
     "data": {
      "text/plain": [
       "count    768.000000\n",
       "mean      31.992578\n",
       "std        7.884160\n",
       "min        0.000000\n",
       "25%       27.300000\n",
       "50%       32.000000\n",
       "75%       36.600000\n",
       "max       67.100000\n",
       "Name: BMI, dtype: float64"
      ]
     },
     "execution_count": 26,
     "metadata": {},
     "output_type": "execute_result"
    }
   ],
   "source": [
    "df[\"BMI\"].describe()"
   ]
  },
  {
   "cell_type": "code",
   "execution_count": 27,
   "id": "6a2bc7a9",
   "metadata": {},
   "outputs": [
    {
     "data": {
      "text/plain": [
       "[0.0,\n",
       " 18.2,\n",
       " 18.4,\n",
       " 19.1,\n",
       " 19.3,\n",
       " 19.4,\n",
       " 19.5,\n",
       " 19.6,\n",
       " 19.9,\n",
       " 20.0,\n",
       " 20.1,\n",
       " 20.4,\n",
       " 20.8,\n",
       " 21.0,\n",
       " 21.1,\n",
       " 21.2,\n",
       " 21.7,\n",
       " 21.8,\n",
       " 21.9,\n",
       " 22.1,\n",
       " 22.2,\n",
       " 22.3,\n",
       " 22.4,\n",
       " 22.5,\n",
       " 22.6,\n",
       " 22.7,\n",
       " 22.9,\n",
       " 23.0,\n",
       " 23.1,\n",
       " 23.2,\n",
       " 23.3,\n",
       " 23.4,\n",
       " 23.5,\n",
       " 23.6,\n",
       " 23.7,\n",
       " 23.8,\n",
       " 23.9,\n",
       " 24.0,\n",
       " 24.1,\n",
       " 24.2,\n",
       " 24.3,\n",
       " 24.4,\n",
       " 24.5,\n",
       " 24.6,\n",
       " 24.7,\n",
       " 24.8,\n",
       " 24.9,\n",
       " 25.0,\n",
       " 25.1,\n",
       " 25.2,\n",
       " 25.3,\n",
       " 25.4,\n",
       " 25.5,\n",
       " 25.6,\n",
       " 25.8,\n",
       " 25.9,\n",
       " 26.0,\n",
       " 26.1,\n",
       " 26.2,\n",
       " 26.3,\n",
       " 26.4,\n",
       " 26.5,\n",
       " 26.6,\n",
       " 26.7,\n",
       " 26.8,\n",
       " 26.9,\n",
       " 27.0,\n",
       " 27.1,\n",
       " 27.2,\n",
       " 27.3,\n",
       " 27.4,\n",
       " 27.5,\n",
       " 27.6,\n",
       " 27.7,\n",
       " 27.8,\n",
       " 27.9,\n",
       " 28.0,\n",
       " 28.1,\n",
       " 28.2,\n",
       " 28.3,\n",
       " 28.4,\n",
       " 28.5,\n",
       " 28.6,\n",
       " 28.7,\n",
       " 28.8,\n",
       " 28.9,\n",
       " 29.0,\n",
       " 29.2,\n",
       " 29.3,\n",
       " 29.5,\n",
       " 29.6,\n",
       " 29.7,\n",
       " 29.8,\n",
       " 29.9,\n",
       " 30.0,\n",
       " 30.1,\n",
       " 30.2,\n",
       " 30.3,\n",
       " 30.4,\n",
       " 30.5,\n",
       " 30.7,\n",
       " 30.8,\n",
       " 30.9,\n",
       " 31.0,\n",
       " 31.1,\n",
       " 31.2,\n",
       " 31.3,\n",
       " 31.6,\n",
       " 31.9,\n",
       " 32.0,\n",
       " 32.1,\n",
       " 32.2,\n",
       " 32.3,\n",
       " 32.4,\n",
       " 32.5,\n",
       " 32.6,\n",
       " 32.7,\n",
       " 32.8,\n",
       " 32.9,\n",
       " 33.1,\n",
       " 33.2,\n",
       " 33.3,\n",
       " 33.5,\n",
       " 33.6,\n",
       " 33.7,\n",
       " 33.8,\n",
       " 33.9,\n",
       " 34.0,\n",
       " 34.1,\n",
       " 34.2,\n",
       " 34.3,\n",
       " 34.4,\n",
       " 34.5,\n",
       " 34.6,\n",
       " 34.7,\n",
       " 34.8,\n",
       " 34.9,\n",
       " 35.0,\n",
       " 35.1,\n",
       " 35.2,\n",
       " 35.3,\n",
       " 35.4,\n",
       " 35.5,\n",
       " 35.6,\n",
       " 35.7,\n",
       " 35.8,\n",
       " 35.9,\n",
       " 36.0,\n",
       " 36.1,\n",
       " 36.2,\n",
       " 36.3,\n",
       " 36.4,\n",
       " 36.5,\n",
       " 36.6,\n",
       " 36.7,\n",
       " 36.8,\n",
       " 36.9,\n",
       " 37.0,\n",
       " 37.1,\n",
       " 37.2,\n",
       " 37.3,\n",
       " 37.4,\n",
       " 37.5,\n",
       " 37.6,\n",
       " 37.7,\n",
       " 37.8,\n",
       " 37.9,\n",
       " 38.0,\n",
       " 38.1,\n",
       " 38.2,\n",
       " 38.3,\n",
       " 38.4,\n",
       " 38.5,\n",
       " 38.6,\n",
       " 38.7,\n",
       " 38.8,\n",
       " 38.9,\n",
       " 39.0,\n",
       " 39.1,\n",
       " 39.2,\n",
       " 39.3,\n",
       " 39.4,\n",
       " 39.5,\n",
       " 39.6,\n",
       " 39.7,\n",
       " 39.8,\n",
       " 39.9,\n",
       " 40.0,\n",
       " 40.1,\n",
       " 40.2,\n",
       " 40.5,\n",
       " 40.6,\n",
       " 40.7,\n",
       " 40.8,\n",
       " 40.9,\n",
       " 41.0,\n",
       " 41.2,\n",
       " 41.3,\n",
       " 41.5,\n",
       " 41.8,\n",
       " 42.0,\n",
       " 42.1,\n",
       " 42.2,\n",
       " 42.3,\n",
       " 42.4,\n",
       " 42.6,\n",
       " 42.7,\n",
       " 42.8,\n",
       " 42.9,\n",
       " 43.1,\n",
       " 43.2,\n",
       " 43.3,\n",
       " 43.4,\n",
       " 43.5,\n",
       " 43.6,\n",
       " 44.0,\n",
       " 44.1,\n",
       " 44.2,\n",
       " 44.5,\n",
       " 44.6,\n",
       " 45.0,\n",
       " 45.2,\n",
       " 45.3,\n",
       " 45.4,\n",
       " 45.5,\n",
       " 45.6,\n",
       " 45.7,\n",
       " 45.8,\n",
       " 46.1,\n",
       " 46.2,\n",
       " 46.3,\n",
       " 46.5,\n",
       " 46.7,\n",
       " 46.8,\n",
       " 47.9,\n",
       " 48.3,\n",
       " 48.8,\n",
       " 49.3,\n",
       " 49.6,\n",
       " 49.7,\n",
       " 50.0,\n",
       " 52.3,\n",
       " 52.9,\n",
       " 53.2,\n",
       " 55.0,\n",
       " 57.3,\n",
       " 59.4,\n",
       " 67.1]"
      ]
     },
     "execution_count": 27,
     "metadata": {},
     "output_type": "execute_result"
    }
   ],
   "source": [
    "#unique values\n",
    "BMI_unique=list(pd.unique(df[\"BMI\"]))\n",
    "BMI_unique.sort()\n",
    "BMI_unique"
   ]
  },
  {
   "cell_type": "code",
   "execution_count": 28,
   "id": "bd170fc5",
   "metadata": {},
   "outputs": [
    {
     "data": {
      "text/plain": [
       "32.0    13\n",
       "31.6    12\n",
       "31.2    12\n",
       "0.0     11\n",
       "32.4    10\n",
       "        ..\n",
       "36.7     1\n",
       "41.8     1\n",
       "42.6     1\n",
       "42.8     1\n",
       "46.3     1\n",
       "Name: BMI, Length: 248, dtype: int64"
      ]
     },
     "execution_count": 28,
     "metadata": {},
     "output_type": "execute_result"
    }
   ],
   "source": [
    "# frequency of values\n",
    "df[\"BMI\"].value_counts()"
   ]
  },
  {
   "cell_type": "code",
   "execution_count": 29,
   "id": "a75788de",
   "metadata": {
    "scrolled": true
   },
   "outputs": [
    {
     "name": "stderr",
     "output_type": "stream",
     "text": [
      "C:\\Users\\hp\\AppData\\Local\\Programs\\Python\\Python39\\lib\\site-packages\\seaborn\\_decorators.py:36: FutureWarning: Pass the following variable as a keyword arg: x. From version 0.12, the only valid positional argument will be `data`, and passing other arguments without an explicit keyword will result in an error or misinterpretation.\n",
      "  warnings.warn(\n"
     ]
    },
    {
     "data": {
      "text/plain": [
       "<AxesSubplot:xlabel='BMI'>"
      ]
     },
     "execution_count": 29,
     "metadata": {},
     "output_type": "execute_result"
    },
    {
     "data": {
      "image/png": "[encoded data removed]",
      "text/plain": [
       "<Figure size 432x288 with 1 Axes>"
      ]
     },
     "metadata": {
      "needs_background": "light"
     },
     "output_type": "display_data"
    }
   ],
   "source": [
    "#Outliers\n",
    "sns.boxplot(df[\"BMI\"])"
   ]
  },
  {
   "cell_type": "markdown",
   "id": "652c707a",
   "metadata": {},
   "source": [
    "#### DiabetesPedigreeFunction"
   ]
  },
  {
   "cell_type": "code",
   "execution_count": 30,
   "id": "0a34f3eb",
   "metadata": {},
   "outputs": [
    {
     "data": {
      "text/plain": [
       "count    768.000000\n",
       "mean       0.471876\n",
       "std        0.331329\n",
       "min        0.078000\n",
       "25%        0.243750\n",
       "50%        0.372500\n",
       "75%        0.626250\n",
       "max        2.420000\n",
       "Name: DiabetesPedigreeFunction, dtype: float64"
      ]
     },
     "execution_count": 30,
     "metadata": {},
     "output_type": "execute_result"
    }
   ],
   "source": [
    "df[\"DiabetesPedigreeFunction\"].describe()"
   ]
  },
  {
   "cell_type": "code",
   "execution_count": 31,
   "id": "7828e71c",
   "metadata": {},
   "outputs": [
    {
     "data": {
      "text/plain": [
       "[0.078,\n",
       " 0.084,\n",
       " 0.085,\n",
       " 0.088,\n",
       " 0.089,\n",
       " 0.092,\n",
       " 0.096,\n",
       " 0.1,\n",
       " 0.101,\n",
       " 0.102,\n",
       " 0.107,\n",
       " 0.108,\n",
       " 0.115,\n",
       " 0.118,\n",
       " 0.121,\n",
       " 0.122,\n",
       " 0.123,\n",
       " 0.126,\n",
       " 0.127,\n",
       " 0.128,\n",
       " 0.129,\n",
       " 0.13,\n",
       " 0.133,\n",
       " 0.134,\n",
       " 0.135,\n",
       " 0.136,\n",
       " 0.137,\n",
       " 0.138,\n",
       " 0.14,\n",
       " 0.141,\n",
       " 0.142,\n",
       " 0.143,\n",
       " 0.144,\n",
       " 0.145,\n",
       " 0.147,\n",
       " 0.148,\n",
       " 0.149,\n",
       " 0.15,\n",
       " 0.151,\n",
       " 0.153,\n",
       " 0.154,\n",
       " 0.155,\n",
       " 0.156,\n",
       " 0.157,\n",
       " 0.158,\n",
       " 0.159,\n",
       " 0.16,\n",
       " 0.161,\n",
       " 0.162,\n",
       " 0.163,\n",
       " 0.164,\n",
       " 0.165,\n",
       " 0.166,\n",
       " 0.167,\n",
       " 0.17,\n",
       " 0.171,\n",
       " 0.173,\n",
       " 0.174,\n",
       " 0.175,\n",
       " 0.176,\n",
       " 0.177,\n",
       " 0.178,\n",
       " 0.179,\n",
       " 0.18,\n",
       " 0.181,\n",
       " 0.182,\n",
       " 0.183,\n",
       " 0.186,\n",
       " 0.187,\n",
       " 0.188,\n",
       " 0.189,\n",
       " 0.19,\n",
       " 0.191,\n",
       " 0.192,\n",
       " 0.194,\n",
       " 0.196,\n",
       " 0.197,\n",
       " 0.198,\n",
       " 0.199,\n",
       " 0.2,\n",
       " 0.201,\n",
       " 0.203,\n",
       " 0.204,\n",
       " 0.205,\n",
       " 0.206,\n",
       " 0.207,\n",
       " 0.209,\n",
       " 0.21,\n",
       " 0.212,\n",
       " 0.215,\n",
       " 0.217,\n",
       " 0.218,\n",
       " 0.219,\n",
       " 0.22,\n",
       " 0.221,\n",
       " 0.222,\n",
       " 0.223,\n",
       " 0.225,\n",
       " 0.226,\n",
       " 0.227,\n",
       " 0.229,\n",
       " 0.23,\n",
       " 0.231,\n",
       " 0.232,\n",
       " 0.233,\n",
       " 0.234,\n",
       " 0.235,\n",
       " 0.236,\n",
       " 0.237,\n",
       " 0.238,\n",
       " 0.239,\n",
       " 0.24,\n",
       " 0.241,\n",
       " 0.243,\n",
       " 0.244,\n",
       " 0.245,\n",
       " 0.246,\n",
       " 0.247,\n",
       " 0.248,\n",
       " 0.249,\n",
       " 0.251,\n",
       " 0.252,\n",
       " 0.253,\n",
       " 0.254,\n",
       " 0.255,\n",
       " 0.256,\n",
       " 0.257,\n",
       " 0.258,\n",
       " 0.259,\n",
       " 0.26,\n",
       " 0.261,\n",
       " 0.262,\n",
       " 0.263,\n",
       " 0.264,\n",
       " 0.265,\n",
       " 0.267,\n",
       " 0.268,\n",
       " 0.269,\n",
       " 0.27,\n",
       " 0.271,\n",
       " 0.272,\n",
       " 0.277,\n",
       " 0.278,\n",
       " 0.279,\n",
       " 0.28,\n",
       " 0.282,\n",
       " 0.283,\n",
       " 0.284,\n",
       " 0.285,\n",
       " 0.286,\n",
       " 0.287,\n",
       " 0.289,\n",
       " 0.29,\n",
       " 0.292,\n",
       " 0.293,\n",
       " 0.294,\n",
       " 0.295,\n",
       " 0.296,\n",
       " 0.297,\n",
       " 0.299,\n",
       " 0.3,\n",
       " 0.302,\n",
       " 0.303,\n",
       " 0.304,\n",
       " 0.305,\n",
       " 0.306,\n",
       " 0.307,\n",
       " 0.313,\n",
       " 0.314,\n",
       " 0.315,\n",
       " 0.317,\n",
       " 0.318,\n",
       " 0.319,\n",
       " 0.323,\n",
       " 0.324,\n",
       " 0.325,\n",
       " 0.326,\n",
       " 0.328,\n",
       " 0.329,\n",
       " 0.33,\n",
       " 0.331,\n",
       " 0.332,\n",
       " 0.334,\n",
       " 0.335,\n",
       " 0.336,\n",
       " 0.337,\n",
       " 0.338,\n",
       " 0.34,\n",
       " 0.341,\n",
       " 0.342,\n",
       " 0.343,\n",
       " 0.344,\n",
       " 0.345,\n",
       " 0.346,\n",
       " 0.347,\n",
       " 0.349,\n",
       " 0.351,\n",
       " 0.352,\n",
       " 0.355,\n",
       " 0.356,\n",
       " 0.358,\n",
       " 0.361,\n",
       " 0.362,\n",
       " 0.364,\n",
       " 0.365,\n",
       " 0.366,\n",
       " 0.368,\n",
       " 0.37,\n",
       " 0.371,\n",
       " 0.374,\n",
       " 0.375,\n",
       " 0.376,\n",
       " 0.378,\n",
       " 0.38,\n",
       " 0.381,\n",
       " 0.382,\n",
       " 0.383,\n",
       " 0.385,\n",
       " 0.388,\n",
       " 0.389,\n",
       " 0.391,\n",
       " 0.393,\n",
       " 0.394,\n",
       " 0.395,\n",
       " 0.396,\n",
       " 0.398,\n",
       " 0.399,\n",
       " 0.4,\n",
       " 0.401,\n",
       " 0.402,\n",
       " 0.403,\n",
       " 0.404,\n",
       " 0.407,\n",
       " 0.408,\n",
       " 0.409,\n",
       " 0.411,\n",
       " 0.412,\n",
       " 0.415,\n",
       " 0.416,\n",
       " 0.417,\n",
       " 0.419,\n",
       " 0.42,\n",
       " 0.421,\n",
       " 0.422,\n",
       " 0.423,\n",
       " 0.426,\n",
       " 0.427,\n",
       " 0.43,\n",
       " 0.431,\n",
       " 0.432,\n",
       " 0.433,\n",
       " 0.434,\n",
       " 0.435,\n",
       " 0.439,\n",
       " 0.441,\n",
       " 0.443,\n",
       " 0.444,\n",
       " 0.446,\n",
       " 0.447,\n",
       " 0.451,\n",
       " 0.452,\n",
       " 0.453,\n",
       " 0.454,\n",
       " 0.455,\n",
       " 0.457,\n",
       " 0.46,\n",
       " 0.463,\n",
       " 0.464,\n",
       " 0.465,\n",
       " 0.466,\n",
       " 0.467,\n",
       " 0.471,\n",
       " 0.472,\n",
       " 0.479,\n",
       " 0.482,\n",
       " 0.483,\n",
       " 0.484,\n",
       " 0.485,\n",
       " 0.487,\n",
       " 0.488,\n",
       " 0.491,\n",
       " 0.493,\n",
       " 0.495,\n",
       " 0.496,\n",
       " 0.497,\n",
       " 0.498,\n",
       " 0.499,\n",
       " 0.501,\n",
       " 0.502,\n",
       " 0.503,\n",
       " 0.507,\n",
       " 0.509,\n",
       " 0.51,\n",
       " 0.512,\n",
       " 0.514,\n",
       " 0.515,\n",
       " 0.516,\n",
       " 0.52,\n",
       " 0.525,\n",
       " 0.526,\n",
       " 0.527,\n",
       " 0.528,\n",
       " 0.529,\n",
       " 0.532,\n",
       " 0.534,\n",
       " 0.536,\n",
       " 0.537,\n",
       " 0.539,\n",
       " 0.542,\n",
       " 0.543,\n",
       " 0.545,\n",
       " 0.546,\n",
       " 0.547,\n",
       " 0.549,\n",
       " 0.551,\n",
       " 0.554,\n",
       " 0.557,\n",
       " 0.559,\n",
       " 0.56,\n",
       " 0.561,\n",
       " 0.564,\n",
       " 0.565,\n",
       " 0.569,\n",
       " 0.571,\n",
       " 0.572,\n",
       " 0.575,\n",
       " 0.578,\n",
       " 0.58,\n",
       " 0.582,\n",
       " 0.583,\n",
       " 0.586,\n",
       " 0.587,\n",
       " 0.588,\n",
       " 0.591,\n",
       " 0.593,\n",
       " 0.595,\n",
       " 0.597,\n",
       " 0.598,\n",
       " 0.6,\n",
       " 0.601,\n",
       " 0.605,\n",
       " 0.607,\n",
       " 0.61,\n",
       " 0.612,\n",
       " 0.613,\n",
       " 0.614,\n",
       " 0.615,\n",
       " 0.619,\n",
       " 0.624,\n",
       " 0.626,\n",
       " 0.627,\n",
       " 0.629,\n",
       " 0.63,\n",
       " 0.631,\n",
       " 0.637,\n",
       " 0.64,\n",
       " 0.645,\n",
       " 0.646,\n",
       " 0.647,\n",
       " 0.649,\n",
       " 0.652,\n",
       " 0.654,\n",
       " 0.655,\n",
       " 0.658,\n",
       " 0.66,\n",
       " 0.661,\n",
       " 0.665,\n",
       " 0.666,\n",
       " 0.672,\n",
       " 0.673,\n",
       " 0.674,\n",
       " 0.677,\n",
       " 0.678,\n",
       " 0.68,\n",
       " 0.682,\n",
       " 0.686,\n",
       " 0.687,\n",
       " 0.692,\n",
       " 0.693,\n",
       " 0.695,\n",
       " 0.696,\n",
       " 0.698,\n",
       " 0.699,\n",
       " 0.702,\n",
       " 0.703,\n",
       " 0.704,\n",
       " 0.705,\n",
       " 0.709,\n",
       " 0.711,\n",
       " 0.717,\n",
       " 0.718,\n",
       " 0.719,\n",
       " 0.721,\n",
       " 0.722,\n",
       " 0.725,\n",
       " 0.727,\n",
       " 0.73,\n",
       " 0.731,\n",
       " 0.732,\n",
       " 0.733,\n",
       " 0.734,\n",
       " 0.735,\n",
       " 0.738,\n",
       " 0.741,\n",
       " 0.742,\n",
       " 0.743,\n",
       " 0.744,\n",
       " 0.745,\n",
       " 0.748,\n",
       " 0.757,\n",
       " 0.759,\n",
       " 0.761,\n",
       " 0.766,\n",
       " 0.767,\n",
       " 0.771,\n",
       " 0.773,\n",
       " 0.785,\n",
       " 0.787,\n",
       " 0.801,\n",
       " 0.803,\n",
       " 0.804,\n",
       " 0.805,\n",
       " 0.808,\n",
       " 0.813,\n",
       " 0.816,\n",
       " 0.817,\n",
       " 0.821,\n",
       " 0.825,\n",
       " 0.826,\n",
       " 0.828,\n",
       " 0.831,\n",
       " 0.832,\n",
       " 0.833,\n",
       " 0.839,\n",
       " 0.84,\n",
       " 0.845,\n",
       " 0.851,\n",
       " 0.855,\n",
       " 0.856,\n",
       " 0.867,\n",
       " 0.871,\n",
       " 0.874,\n",
       " 0.875,\n",
       " 0.878,\n",
       " 0.88,\n",
       " 0.881,\n",
       " 0.886,\n",
       " 0.892,\n",
       " 0.893,\n",
       " 0.904,\n",
       " 0.905,\n",
       " 0.917,\n",
       " 0.925,\n",
       " 0.926,\n",
       " 0.93,\n",
       " 0.932,\n",
       " 0.933,\n",
       " 0.944,\n",
       " 0.947,\n",
       " 0.949,\n",
       " 0.955,\n",
       " 0.956,\n",
       " 0.962,\n",
       " 0.966,\n",
       " 0.968,\n",
       " 0.97,\n",
       " 0.997,\n",
       " 1.001,\n",
       " 1.021,\n",
       " 1.022,\n",
       " 1.034,\n",
       " 1.057,\n",
       " 1.072,\n",
       " 1.076,\n",
       " 1.095,\n",
       " 1.096,\n",
       " 1.101,\n",
       " 1.114,\n",
       " 1.127,\n",
       " 1.136,\n",
       " 1.138,\n",
       " 1.144,\n",
       " 1.154,\n",
       " 1.159,\n",
       " 1.162,\n",
       " 1.174,\n",
       " 1.182,\n",
       " 1.189,\n",
       " 1.191,\n",
       " 1.213,\n",
       " 1.222,\n",
       " 1.224,\n",
       " 1.251,\n",
       " 1.258,\n",
       " 1.268,\n",
       " 1.282,\n",
       " 1.292,\n",
       " 1.318,\n",
       " 1.321,\n",
       " 1.353,\n",
       " 1.39,\n",
       " 1.391,\n",
       " 1.394,\n",
       " 1.4,\n",
       " 1.441,\n",
       " 1.461,\n",
       " 1.476,\n",
       " 1.6,\n",
       " 1.698,\n",
       " 1.699,\n",
       " 1.731,\n",
       " 1.781,\n",
       " 1.893,\n",
       " 2.137,\n",
       " 2.288,\n",
       " 2.329,\n",
       " 2.42]"
      ]
     },
     "execution_count": 31,
     "metadata": {},
     "output_type": "execute_result"
    }
   ],
   "source": [
    "#unique values\n",
    "DiabetesPedigreeFunction_unique=list(pd.unique(df[\"DiabetesPedigreeFunction\"]))\n",
    "DiabetesPedigreeFunction_unique.sort()\n",
    "DiabetesPedigreeFunction_unique"
   ]
  },
  {
   "cell_type": "code",
   "execution_count": 32,
   "id": "1f44c100",
   "metadata": {},
   "outputs": [
    {
     "data": {
      "text/plain": [
       "0.627    1\n",
       "0.351    1\n",
       "0.672    1\n",
       "0.167    4\n",
       "2.288    1\n",
       "        ..\n",
       "1.182    1\n",
       "0.222    1\n",
       "1.057    1\n",
       "0.766    1\n",
       "0.171    1\n",
       "Name: DiabetesPedigreeFunction, Length: 517, dtype: int64"
      ]
     },
     "execution_count": 32,
     "metadata": {},
     "output_type": "execute_result"
    }
   ],
   "source": [
    "# frequency of values\n",
    "freq_DiabetesPedigreeFunction=df[\"DiabetesPedigreeFunction\"].value_counts(sort=False,ascending=True)\n",
    "freq_DiabetesPedigreeFunction"
   ]
  },
  {
   "cell_type": "code",
   "execution_count": 33,
   "id": "cdc88c97",
   "metadata": {},
   "outputs": [
    {
     "name": "stderr",
     "output_type": "stream",
     "text": [
      "C:\\Users\\hp\\AppData\\Local\\Programs\\Python\\Python39\\lib\\site-packages\\seaborn\\_decorators.py:36: FutureWarning: Pass the following variable as a keyword arg: x. From version 0.12, the only valid positional argument will be `data`, and passing other arguments without an explicit keyword will result in an error or misinterpretation.\n",
      "  warnings.warn(\n"
     ]
    },
    {
     "data": {
      "text/plain": [
       "<AxesSubplot:xlabel='DiabetesPedigreeFunction'>"
      ]
     },
     "execution_count": 33,
     "metadata": {},
     "output_type": "execute_result"
    },
    {
     "data": {
      "image/png": "[encoded data removed]",
      "text/plain": [
       "<Figure size 432x288 with 1 Axes>"
      ]
     },
     "metadata": {
      "needs_background": "light"
     },
     "output_type": "display_data"
    }
   ],
   "source": [
    "#Outliers\n",
    "sns.boxplot(df[\"DiabetesPedigreeFunction\"])"
   ]
  },
  {
   "cell_type": "markdown",
   "id": "529c1414",
   "metadata": {},
   "source": [
    "#### Age"
   ]
  },
  {
   "cell_type": "code",
   "execution_count": 34,
   "id": "ca47cbc9",
   "metadata": {},
   "outputs": [
    {
     "data": {
      "text/plain": [
       "count    768.000000\n",
       "mean      33.240885\n",
       "std       11.760232\n",
       "min       21.000000\n",
       "25%       24.000000\n",
       "50%       29.000000\n",
       "75%       41.000000\n",
       "max       81.000000\n",
       "Name: Age, dtype: float64"
      ]
     },
     "execution_count": 34,
     "metadata": {},
     "output_type": "execute_result"
    }
   ],
   "source": [
    "df[\"Age\"].describe()"
   ]
  },
  {
   "cell_type": "code",
   "execution_count": 35,
   "id": "ad3fe3a7",
   "metadata": {},
   "outputs": [
    {
     "data": {
      "text/plain": [
       "[21,\n",
       " 22,\n",
       " 23,\n",
       " 24,\n",
       " 25,\n",
       " 26,\n",
       " 27,\n",
       " 28,\n",
       " 29,\n",
       " 30,\n",
       " 31,\n",
       " 32,\n",
       " 33,\n",
       " 34,\n",
       " 35,\n",
       " 36,\n",
       " 37,\n",
       " 38,\n",
       " 39,\n",
       " 40,\n",
       " 41,\n",
       " 42,\n",
       " 43,\n",
       " 44,\n",
       " 45,\n",
       " 46,\n",
       " 47,\n",
       " 48,\n",
       " 49,\n",
       " 50,\n",
       " 51,\n",
       " 52,\n",
       " 53,\n",
       " 54,\n",
       " 55,\n",
       " 56,\n",
       " 57,\n",
       " 58,\n",
       " 59,\n",
       " 60,\n",
       " 61,\n",
       " 62,\n",
       " 63,\n",
       " 64,\n",
       " 65,\n",
       " 66,\n",
       " 67,\n",
       " 68,\n",
       " 69,\n",
       " 70,\n",
       " 72,\n",
       " 81]"
      ]
     },
     "execution_count": 35,
     "metadata": {},
     "output_type": "execute_result"
    }
   ],
   "source": [
    "#unique values\n",
    "Age_unique=list(pd.unique(df[\"Age\"]))\n",
    "Age_unique.sort()\n",
    "Age_unique"
   ]
  },
  {
   "cell_type": "code",
   "execution_count": 36,
   "id": "0d0b6877",
   "metadata": {},
   "outputs": [
    {
     "data": {
      "text/plain": [
       "22    72\n",
       "21    63\n",
       "25    48\n",
       "24    46\n",
       "23    38\n",
       "28    35\n",
       "26    33\n",
       "27    32\n",
       "29    29\n",
       "31    24\n",
       "41    22\n",
       "30    21\n",
       "37    19\n",
       "42    18\n",
       "33    17\n",
       "38    16\n",
       "36    16\n",
       "32    16\n",
       "45    15\n",
       "34    14\n",
       "46    13\n",
       "43    13\n",
       "40    13\n",
       "39    12\n",
       "35    10\n",
       "50     8\n",
       "51     8\n",
       "52     8\n",
       "44     8\n",
       "58     7\n",
       "47     6\n",
       "54     6\n",
       "49     5\n",
       "48     5\n",
       "57     5\n",
       "53     5\n",
       "60     5\n",
       "66     4\n",
       "63     4\n",
       "62     4\n",
       "55     4\n",
       "67     3\n",
       "56     3\n",
       "59     3\n",
       "65     3\n",
       "69     2\n",
       "61     2\n",
       "72     1\n",
       "81     1\n",
       "64     1\n",
       "70     1\n",
       "68     1\n",
       "Name: Age, dtype: int64"
      ]
     },
     "execution_count": 36,
     "metadata": {},
     "output_type": "execute_result"
    }
   ],
   "source": [
    "# frequency of values\n",
    "df[\"Age\"].value_counts()"
   ]
  },
  {
   "cell_type": "code",
   "execution_count": 37,
   "id": "0ad237f4",
   "metadata": {},
   "outputs": [
    {
     "name": "stderr",
     "output_type": "stream",
     "text": [
      "C:\\Users\\hp\\AppData\\Local\\Programs\\Python\\Python39\\lib\\site-packages\\seaborn\\_decorators.py:36: FutureWarning: Pass the following variable as a keyword arg: x. From version 0.12, the only valid positional argument will be `data`, and passing other arguments without an explicit keyword will result in an error or misinterpretation.\n",
      "  warnings.warn(\n"
     ]
    },
    {
     "data": {
      "text/plain": [
       "<AxesSubplot:xlabel='Age'>"
      ]
     },
     "execution_count": 37,
     "metadata": {},
     "output_type": "execute_result"
    },
    {
     "data": {
      "image/png": "[encoded data removed]",
      "text/plain": [
       "<Figure size 432x288 with 1 Axes>"
      ]
     },
     "metadata": {
      "needs_background": "light"
     },
     "output_type": "display_data"
    }
   ],
   "source": [
    "#Outliers\n",
    "sns.boxplot(df[\"Age\"])"
   ]
  },
  {
   "cell_type": "markdown",
   "id": "b7324451",
   "metadata": {},
   "source": [
    "#### Outcomes"
   ]
  },
  {
   "cell_type": "code",
   "execution_count": 38,
   "id": "5a5dd8ee",
   "metadata": {},
   "outputs": [
    {
     "data": {
      "text/plain": [
       "0    500\n",
       "1    268\n",
       "Name: Outcome, dtype: int64"
      ]
     },
     "execution_count": 38,
     "metadata": {},
     "output_type": "execute_result"
    }
   ],
   "source": [
    "df[\"Outcome\"].value_counts()"
   ]
  },
  {
   "cell_type": "code",
   "execution_count": null,
   "id": "70489d5c",
   "metadata": {},
   "outputs": [],
   "source": []
  },
  {
   "cell_type": "markdown",
   "id": "20efdcc2",
   "metadata": {},
   "source": [
    "# Feature Engineering"
   ]
  },
  {
   "cell_type": "code",
   "execution_count": 39,
   "id": "3689075c",
   "metadata": {},
   "outputs": [
    {
     "data": {
      "text/plain": [
       "\"Note: If you remove outliers after standardizing, \\nthe resulting data won't be standardized anymore \\n(if many outliers are removed, standard deviation could become considerably smaller than 1)\""
      ]
     },
     "execution_count": 39,
     "metadata": {},
     "output_type": "execute_result"
    }
   ],
   "source": [
    "'''Note: If you remove outliers after standardizing, \n",
    "the resulting data won't be standardized anymore \n",
    "(if many outliers are removed, standard deviation could become considerably smaller than 1)'''"
   ]
  },
  {
   "cell_type": "markdown",
   "id": "551f1b83",
   "metadata": {},
   "source": [
    "### Removing Outliers"
   ]
  },
  {
   "cell_type": "code",
   "execution_count": 40,
   "id": "ccfe3e57",
   "metadata": {},
   "outputs": [
    {
     "data": {
      "text/plain": [
       "Index(['Pregnancies', 'Glucose', 'BloodPressure', 'SkinThickness', 'Insulin',\n",
       "       'BMI', 'DiabetesPedigreeFunction', 'Age', 'Outcome'],\n",
       "      dtype='object')"
      ]
     },
     "execution_count": 40,
     "metadata": {},
     "output_type": "execute_result"
    }
   ],
   "source": [
    "df.columns"
   ]
  },
  {
   "cell_type": "code",
   "execution_count": 41,
   "id": "e2c851c4",
   "metadata": {},
   "outputs": [],
   "source": [
    "#Pregnancies"
   ]
  },
  {
   "cell_type": "code",
   "execution_count": 42,
   "id": "ffe6aeca",
   "metadata": {},
   "outputs": [],
   "source": [
    "outliers_Pregnancies=[]\n",
    "threshold=3\n",
    "def outlier_Pregnancies(data):\n",
    "    for i in data.values:\n",
    "        z_score= (i-3.755627)/3.312217\n",
    "        if abs(z_score) > threshold:\n",
    "            outliers_Pregnancies.append(i)\n",
    "    return \"The outliers are\",outliers_Pregnancies"
   ]
  },
  {
   "cell_type": "code",
   "execution_count": 43,
   "id": "32cc966a",
   "metadata": {},
   "outputs": [
    {
     "data": {
      "text/plain": [
       "('The outliers are', [15, 17, 14, 14])"
      ]
     },
     "execution_count": 43,
     "metadata": {},
     "output_type": "execute_result"
    }
   ],
   "source": [
    "outlier_Pregnancies(df[\"Pregnancies\"])"
   ]
  },
  {
   "cell_type": "code",
   "execution_count": 44,
   "id": "9c446ec0",
   "metadata": {},
   "outputs": [
    {
     "data": {
      "text/plain": [
       "[Int64Index([88], dtype='int64'),\n",
       " Int64Index([159], dtype='int64'),\n",
       " Int64Index([298, 455], dtype='int64'),\n",
       " Int64Index([298, 455], dtype='int64')]"
      ]
     },
     "execution_count": 44,
     "metadata": {},
     "output_type": "execute_result"
    }
   ],
   "source": [
    "outlier_index_Pregnancies=[]\n",
    "for i in outliers_Pregnancies:\n",
    "    a=df[\"Pregnancies\"].loc[df[\"Pregnancies\"]==i].index\n",
    "    outlier_index_Pregnancies.append(a)\n",
    "outlier_index_Pregnancies"
   ]
  },
  {
   "cell_type": "code",
   "execution_count": 45,
   "id": "0b1e29c9",
   "metadata": {},
   "outputs": [],
   "source": [
    "outlier_index_Pregnancies=[281,479]"
   ]
  },
  {
   "cell_type": "code",
   "execution_count": null,
   "id": "c0385ff4",
   "metadata": {},
   "outputs": [],
   "source": []
  },
  {
   "cell_type": "code",
   "execution_count": 46,
   "id": "6de8758c",
   "metadata": {},
   "outputs": [],
   "source": [
    "# DiabetesPedigreeFunction"
   ]
  },
  {
   "cell_type": "code",
   "execution_count": 47,
   "id": "524ffbd1",
   "metadata": {},
   "outputs": [],
   "source": [
    "outliers_DiabetesPedigreeFunction=[]\n",
    "threshold=3\n",
    "def outlier_DiabetesPedigreeFunction(data):\n",
    "    for i in data.values:\n",
    "            z_score= (i-0.470831)/0.337983\n",
    "            if abs(z_score) > threshold:\n",
    "                outliers_DiabetesPedigreeFunction.append(i)\n",
    "    return \"The outliers are\",outliers_DiabetesPedigreeFunction"
   ]
  },
  {
   "cell_type": "code",
   "execution_count": 48,
   "id": "da5232cd",
   "metadata": {},
   "outputs": [
    {
     "data": {
      "text/plain": [
       "('The outliers are',\n",
       " [2.288, 1.893, 1.781, 2.329, 2.137, 1.731, 1.6, 2.42, 1.699, 1.698])"
      ]
     },
     "execution_count": 48,
     "metadata": {},
     "output_type": "execute_result"
    }
   ],
   "source": [
    "outlier_DiabetesPedigreeFunction(df[\"DiabetesPedigreeFunction\"])"
   ]
  },
  {
   "cell_type": "code",
   "execution_count": 49,
   "id": "22923b6d",
   "metadata": {},
   "outputs": [
    {
     "data": {
      "text/plain": [
       "[Int64Index([4], dtype='int64'),\n",
       " Int64Index([45], dtype='int64'),\n",
       " Int64Index([58], dtype='int64'),\n",
       " Int64Index([228], dtype='int64'),\n",
       " Int64Index([370], dtype='int64'),\n",
       " Int64Index([371], dtype='int64'),\n",
       " Int64Index([395], dtype='int64'),\n",
       " Int64Index([445], dtype='int64'),\n",
       " Int64Index([593], dtype='int64'),\n",
       " Int64Index([621], dtype='int64')]"
      ]
     },
     "execution_count": 49,
     "metadata": {},
     "output_type": "execute_result"
    }
   ],
   "source": [
    "outlier_index_DiabetesPedigreeFunction=[]\n",
    "for i in outliers_DiabetesPedigreeFunction:\n",
    "    a=df[\"DiabetesPedigreeFunction\"].loc[df[\"DiabetesPedigreeFunction\"]==i].index\n",
    "    outlier_index_DiabetesPedigreeFunction.append(a)\n",
    "outlier_index_DiabetesPedigreeFunction"
   ]
  },
  {
   "cell_type": "code",
   "execution_count": 50,
   "id": "b7ecd818",
   "metadata": {},
   "outputs": [],
   "source": [
    "outlier_index_DiabetesPedigreeFunction=[4,45,58,370,371,395,445,593,621]"
   ]
  },
  {
   "cell_type": "code",
   "execution_count": 51,
   "id": "ef0d7bcc",
   "metadata": {},
   "outputs": [],
   "source": [
    "#Glucose"
   ]
  },
  {
   "cell_type": "code",
   "execution_count": 52,
   "id": "3b28a9f6",
   "metadata": {},
   "outputs": [
    {
     "name": "stderr",
     "output_type": "stream",
     "text": [
      "C:\\Users\\hp\\AppData\\Local\\Programs\\Python\\Python39\\lib\\site-packages\\seaborn\\_decorators.py:36: FutureWarning: Pass the following variable as a keyword arg: x. From version 0.12, the only valid positional argument will be `data`, and passing other arguments without an explicit keyword will result in an error or misinterpretation.\n",
      "  warnings.warn(\n"
     ]
    },
    {
     "data": {
      "text/plain": [
       "<AxesSubplot:xlabel='Glucose'>"
      ]
     },
     "execution_count": 52,
     "metadata": {},
     "output_type": "execute_result"
    },
    {
     "data": {
      "image/png": "[encoded data removed]",
      "text/plain": [
       "<Figure size 432x288 with 1 Axes>"
      ]
     },
     "metadata": {
      "needs_background": "light"
     },
     "output_type": "display_data"
    }
   ],
   "source": [
    "sns.boxplot(df[\"Glucose\"])"
   ]
  },
  {
   "cell_type": "code",
   "execution_count": 53,
   "id": "014f14be",
   "metadata": {},
   "outputs": [],
   "source": [
    "outliers_Glucose=[]\n",
    "threshold=3\n",
    "def outlier_Glucose(data):\n",
    "    mean=np.mean(data.values)\n",
    "    std=np.std(data.values)\n",
    "    for i in data.values:\n",
    "        z_score= (i-mean)/std\n",
    "        if abs(z_score) > threshold:\n",
    "            outliers_Glucose.append(i)\n",
    "    return \"The outliers are\",outliers_Glucose"
   ]
  },
  {
   "cell_type": "code",
   "execution_count": 54,
   "id": "5c7bb795",
   "metadata": {},
   "outputs": [
    {
     "data": {
      "text/plain": [
       "('The outliers are', [0, 0, 0, 0, 0])"
      ]
     },
     "execution_count": 54,
     "metadata": {},
     "output_type": "execute_result"
    }
   ],
   "source": [
    "outlier_Glucose(df[\"Glucose\"])"
   ]
  },
  {
   "cell_type": "code",
   "execution_count": 55,
   "id": "0f1a2d15",
   "metadata": {},
   "outputs": [
    {
     "data": {
      "text/plain": [
       "[Int64Index([75, 182, 342, 349, 502], dtype='int64'),\n",
       " Int64Index([75, 182, 342, 349, 502], dtype='int64'),\n",
       " Int64Index([75, 182, 342, 349, 502], dtype='int64'),\n",
       " Int64Index([75, 182, 342, 349, 502], dtype='int64'),\n",
       " Int64Index([75, 182, 342, 349, 502], dtype='int64')]"
      ]
     },
     "execution_count": 55,
     "metadata": {},
     "output_type": "execute_result"
    }
   ],
   "source": [
    "outlier_index_Glucose=[]\n",
    "for i in outliers_Glucose:\n",
    "    a=df[\"Glucose\"].loc[df[\"Glucose\"]==i].index\n",
    "    outlier_index_Glucose.append(a)\n",
    "outlier_index_Glucose"
   ]
  },
  {
   "cell_type": "code",
   "execution_count": 56,
   "id": "a9f95a25",
   "metadata": {},
   "outputs": [],
   "source": [
    "outlier_index_Glucose=[75,182,342,349,502]"
   ]
  },
  {
   "cell_type": "code",
   "execution_count": 57,
   "id": "c7ab79b6",
   "metadata": {},
   "outputs": [],
   "source": [
    "#BloodPressure"
   ]
  },
  {
   "cell_type": "code",
   "execution_count": 58,
   "id": "abaf7c12",
   "metadata": {},
   "outputs": [
    {
     "name": "stderr",
     "output_type": "stream",
     "text": [
      "C:\\Users\\hp\\AppData\\Local\\Programs\\Python\\Python39\\lib\\site-packages\\seaborn\\_decorators.py:36: FutureWarning: Pass the following variable as a keyword arg: x. From version 0.12, the only valid positional argument will be `data`, and passing other arguments without an explicit keyword will result in an error or misinterpretation.\n",
      "  warnings.warn(\n"
     ]
    },
    {
     "data": {
      "text/plain": [
       "<AxesSubplot:xlabel='BloodPressure'>"
      ]
     },
     "execution_count": 58,
     "metadata": {},
     "output_type": "execute_result"
    },
    {
     "data": {
      "image/png": "[encoded data removed]",
      "text/plain": [
       "<Figure size 432x288 with 1 Axes>"
      ]
     },
     "metadata": {
      "needs_background": "light"
     },
     "output_type": "display_data"
    }
   ],
   "source": [
    "sns.boxplot(df[\"BloodPressure\"])"
   ]
  },
  {
   "cell_type": "code",
   "execution_count": 59,
   "id": "ebb0b672",
   "metadata": {},
   "outputs": [
    {
     "data": {
      "text/plain": [
       "count    768.000000\n",
       "mean      69.105469\n",
       "std       19.355807\n",
       "min        0.000000\n",
       "25%       62.000000\n",
       "50%       72.000000\n",
       "75%       80.000000\n",
       "max      122.000000\n",
       "Name: BloodPressure, dtype: float64"
      ]
     },
     "execution_count": 59,
     "metadata": {},
     "output_type": "execute_result"
    }
   ],
   "source": [
    "df[\"BloodPressure\"].describe()"
   ]
  },
  {
   "cell_type": "code",
   "execution_count": 60,
   "id": "47b0a0ab",
   "metadata": {},
   "outputs": [],
   "source": [
    "outliers_BloodPressure=[]\n",
    "threshold=3\n",
    "def outlier_BloodPressure(data):\n",
    "    mean=np.mean(data.values)\n",
    "    std=np.std(data.values)\n",
    "    for i in data.values:\n",
    "        z_score= (i-mean)/std\n",
    "        if abs(z_score) > threshold:\n",
    "            outliers_BloodPressure.append(i)\n",
    "    return \"The outliers are\",outliers_BloodPressure"
   ]
  },
  {
   "cell_type": "code",
   "execution_count": 61,
   "id": "6c21a99a",
   "metadata": {},
   "outputs": [
    {
     "data": {
      "text/plain": [
       "0      72\n",
       "1      66\n",
       "2      64\n",
       "3      66\n",
       "4      40\n",
       "       ..\n",
       "763    76\n",
       "764    70\n",
       "765    72\n",
       "766    60\n",
       "767    70\n",
       "Name: BloodPressure, Length: 768, dtype: int64"
      ]
     },
     "execution_count": 61,
     "metadata": {},
     "output_type": "execute_result"
    }
   ],
   "source": [
    "df[\"BloodPressure\"]"
   ]
  },
  {
   "cell_type": "code",
   "execution_count": 62,
   "id": "962dfd50",
   "metadata": {},
   "outputs": [
    {
     "data": {
      "text/plain": [
       "('The outliers are',\n",
       " [0,\n",
       "  0,\n",
       "  0,\n",
       "  0,\n",
       "  0,\n",
       "  0,\n",
       "  0,\n",
       "  0,\n",
       "  0,\n",
       "  0,\n",
       "  0,\n",
       "  0,\n",
       "  0,\n",
       "  0,\n",
       "  0,\n",
       "  0,\n",
       "  0,\n",
       "  0,\n",
       "  0,\n",
       "  0,\n",
       "  0,\n",
       "  0,\n",
       "  0,\n",
       "  0,\n",
       "  0,\n",
       "  0,\n",
       "  0,\n",
       "  0,\n",
       "  0,\n",
       "  0,\n",
       "  0,\n",
       "  0,\n",
       "  0,\n",
       "  0,\n",
       "  0])"
      ]
     },
     "execution_count": 62,
     "metadata": {},
     "output_type": "execute_result"
    }
   ],
   "source": [
    "outlier_BloodPressure(df[\"BloodPressure\"])"
   ]
  },
  {
   "cell_type": "code",
   "execution_count": 63,
   "id": "3736ec38",
   "metadata": {},
   "outputs": [
    {
     "data": {
      "text/plain": [
       "7      0\n",
       "15     0\n",
       "49     0\n",
       "60     0\n",
       "78     0\n",
       "81     0\n",
       "172    0\n",
       "193    0\n",
       "222    0\n",
       "261    0\n",
       "266    0\n",
       "269    0\n",
       "300    0\n",
       "332    0\n",
       "336    0\n",
       "347    0\n",
       "357    0\n",
       "426    0\n",
       "430    0\n",
       "435    0\n",
       "453    0\n",
       "468    0\n",
       "484    0\n",
       "494    0\n",
       "522    0\n",
       "533    0\n",
       "535    0\n",
       "589    0\n",
       "601    0\n",
       "604    0\n",
       "619    0\n",
       "643    0\n",
       "697    0\n",
       "703    0\n",
       "706    0\n",
       "Name: BloodPressure, dtype: int64"
      ]
     },
     "execution_count": 63,
     "metadata": {},
     "output_type": "execute_result"
    }
   ],
   "source": [
    "df[\"BloodPressure\"].loc[df[\"BloodPressure\"]== 0]"
   ]
  },
  {
   "cell_type": "code",
   "execution_count": 64,
   "id": "cc758c42",
   "metadata": {},
   "outputs": [],
   "source": [
    "outlier_index_BloodPressure=[7,15,49,60,78,81,172,193,222,261,266,269,300,332,\n",
    "                             336,347,357,426,430,435,453,468,484,494,522,533,\n",
    "                            535,589,601,604,619,643,697,703,706]"
   ]
  },
  {
   "cell_type": "code",
   "execution_count": 65,
   "id": "cdb3d98e",
   "metadata": {},
   "outputs": [],
   "source": [
    "#SkinThickness"
   ]
  },
  {
   "cell_type": "code",
   "execution_count": 66,
   "id": "db7df91b",
   "metadata": {},
   "outputs": [
    {
     "name": "stderr",
     "output_type": "stream",
     "text": [
      "C:\\Users\\hp\\AppData\\Local\\Programs\\Python\\Python39\\lib\\site-packages\\seaborn\\_decorators.py:36: FutureWarning: Pass the following variable as a keyword arg: x. From version 0.12, the only valid positional argument will be `data`, and passing other arguments without an explicit keyword will result in an error or misinterpretation.\n",
      "  warnings.warn(\n"
     ]
    },
    {
     "data": {
      "text/plain": [
       "<AxesSubplot:xlabel='SkinThickness'>"
      ]
     },
     "execution_count": 66,
     "metadata": {},
     "output_type": "execute_result"
    },
    {
     "data": {
      "image/png": "[encoded data removed]",
      "text/plain": [
       "<Figure size 432x288 with 1 Axes>"
      ]
     },
     "metadata": {
      "needs_background": "light"
     },
     "output_type": "display_data"
    }
   ],
   "source": [
    "sns.boxplot(df[\"SkinThickness\"])"
   ]
  },
  {
   "cell_type": "code",
   "execution_count": 67,
   "id": "cea56476",
   "metadata": {},
   "outputs": [],
   "source": [
    "outliers_SkinThickness=[]\n",
    "threshold=3\n",
    "def outlier_SkinThickness(data):\n",
    "    mean=np.mean(data.values)\n",
    "    std=np.std(data.values)\n",
    "    for i in data.values:\n",
    "        z_score= (i-mean)/std\n",
    "        if abs(z_score) > threshold:\n",
    "            outliers_SkinThickness.append(i)\n",
    "    return \"The outliers are\",outliers_SkinThickness"
   ]
  },
  {
   "cell_type": "code",
   "execution_count": 68,
   "id": "e92c3ef3",
   "metadata": {},
   "outputs": [
    {
     "data": {
      "text/plain": [
       "('The outliers are', [99])"
      ]
     },
     "execution_count": 68,
     "metadata": {},
     "output_type": "execute_result"
    }
   ],
   "source": [
    "outlier_SkinThickness(df[\"SkinThickness\"])"
   ]
  },
  {
   "cell_type": "code",
   "execution_count": 69,
   "id": "5eb9c6f1",
   "metadata": {},
   "outputs": [
    {
     "data": {
      "text/plain": [
       "579    99\n",
       "Name: SkinThickness, dtype: int64"
      ]
     },
     "execution_count": 69,
     "metadata": {},
     "output_type": "execute_result"
    }
   ],
   "source": [
    "df[\"SkinThickness\"].loc[df[\"SkinThickness\"]==99]"
   ]
  },
  {
   "cell_type": "code",
   "execution_count": 70,
   "id": "3fbb8628",
   "metadata": {},
   "outputs": [],
   "source": [
    "outlier_index_SkinThickness=[579]"
   ]
  },
  {
   "cell_type": "code",
   "execution_count": 71,
   "id": "006aefe6",
   "metadata": {},
   "outputs": [],
   "source": [
    "#Insulin"
   ]
  },
  {
   "cell_type": "code",
   "execution_count": 72,
   "id": "c5ef1fbc",
   "metadata": {},
   "outputs": [
    {
     "name": "stderr",
     "output_type": "stream",
     "text": [
      "C:\\Users\\hp\\AppData\\Local\\Programs\\Python\\Python39\\lib\\site-packages\\seaborn\\_decorators.py:36: FutureWarning: Pass the following variable as a keyword arg: x. From version 0.12, the only valid positional argument will be `data`, and passing other arguments without an explicit keyword will result in an error or misinterpretation.\n",
      "  warnings.warn(\n"
     ]
    },
    {
     "data": {
      "text/plain": [
       "<AxesSubplot:xlabel='Insulin'>"
      ]
     },
     "execution_count": 72,
     "metadata": {},
     "output_type": "execute_result"
    },
    {
     "data": {
      "image/png": "[encoded data removed]",
      "text/plain": [
       "<Figure size 432x288 with 1 Axes>"
      ]
     },
     "metadata": {
      "needs_background": "light"
     },
     "output_type": "display_data"
    }
   ],
   "source": [
    "sns.boxplot(df[\"Insulin\"])"
   ]
  },
  {
   "cell_type": "code",
   "execution_count": 73,
   "id": "05925dee",
   "metadata": {},
   "outputs": [],
   "source": [
    "outliers_Insulin=[]\n",
    "threshold=3\n",
    "def outlier_Insulin(data):\n",
    "    mean=np.mean(data.values)\n",
    "    std=np.std(data.values)\n",
    "    for i in data.values:\n",
    "        z_score= (i-mean)/std\n",
    "        if abs(z_score) > threshold:\n",
    "            outliers_Insulin.append(i)\n",
    "    return \"The outliers are\",outliers_Insulin"
   ]
  },
  {
   "cell_type": "code",
   "execution_count": 74,
   "id": "385a063a",
   "metadata": {},
   "outputs": [
    {
     "data": {
      "text/plain": [
       "('The outliers are',\n",
       " [543,\n",
       "  846,\n",
       "  495,\n",
       "  485,\n",
       "  495,\n",
       "  478,\n",
       "  744,\n",
       "  680,\n",
       "  545,\n",
       "  465,\n",
       "  579,\n",
       "  474,\n",
       "  480,\n",
       "  600,\n",
       "  440,\n",
       "  540,\n",
       "  480,\n",
       "  510])"
      ]
     },
     "execution_count": 74,
     "metadata": {},
     "output_type": "execute_result"
    }
   ],
   "source": [
    "outlier_Insulin(df[\"Insulin\"])"
   ]
  },
  {
   "cell_type": "code",
   "execution_count": 75,
   "id": "7d0924e0",
   "metadata": {},
   "outputs": [
    {
     "data": {
      "text/plain": [
       "[8    543\n",
       " Name: Insulin, dtype: int64,\n",
       " 13    846\n",
       " Name: Insulin, dtype: int64,\n",
       " 111    495\n",
       " 186    495\n",
       " Name: Insulin, dtype: int64,\n",
       " 153    485\n",
       " Name: Insulin, dtype: int64,\n",
       " 111    495\n",
       " 186    495\n",
       " Name: Insulin, dtype: int64,\n",
       " 220    478\n",
       " Name: Insulin, dtype: int64,\n",
       " 228    744\n",
       " Name: Insulin, dtype: int64,\n",
       " 247    680\n",
       " Name: Insulin, dtype: int64,\n",
       " 286    545\n",
       " Name: Insulin, dtype: int64,\n",
       " 370    465\n",
       " Name: Insulin, dtype: int64,\n",
       " 409    579\n",
       " Name: Insulin, dtype: int64,\n",
       " 415    474\n",
       " Name: Insulin, dtype: int64,\n",
       " 486    480\n",
       " 695    480\n",
       " Name: Insulin, dtype: int64,\n",
       " 584    600\n",
       " Name: Insulin, dtype: int64,\n",
       " 645    440\n",
       " Name: Insulin, dtype: int64,\n",
       " 655    540\n",
       " Name: Insulin, dtype: int64,\n",
       " 486    480\n",
       " 695    480\n",
       " Name: Insulin, dtype: int64,\n",
       " 753    510\n",
       " Name: Insulin, dtype: int64]"
      ]
     },
     "execution_count": 75,
     "metadata": {},
     "output_type": "execute_result"
    }
   ],
   "source": [
    "outlier_index_Insulin=[]\n",
    "for i in outliers_Insulin:\n",
    "    a=df[\"Insulin\"].loc[df[\"Insulin\"]==i]\n",
    "    outlier_index_Insulin.append(a)\n",
    "outlier_index_Insulin"
   ]
  },
  {
   "cell_type": "code",
   "execution_count": 76,
   "id": "2e4170ba",
   "metadata": {},
   "outputs": [],
   "source": [
    "outlier_index_Insulin=[8,13,111,153,186,220,228,247,286,370,409,415,486,584,645,584,645,655,486,695,753]"
   ]
  },
  {
   "cell_type": "code",
   "execution_count": 77,
   "id": "eea1343e",
   "metadata": {},
   "outputs": [],
   "source": [
    "#BMI"
   ]
  },
  {
   "cell_type": "code",
   "execution_count": 78,
   "id": "0baaa7d5",
   "metadata": {},
   "outputs": [
    {
     "name": "stderr",
     "output_type": "stream",
     "text": [
      "C:\\Users\\hp\\AppData\\Local\\Programs\\Python\\Python39\\lib\\site-packages\\seaborn\\_decorators.py:36: FutureWarning: Pass the following variable as a keyword arg: x. From version 0.12, the only valid positional argument will be `data`, and passing other arguments without an explicit keyword will result in an error or misinterpretation.\n",
      "  warnings.warn(\n"
     ]
    },
    {
     "data": {
      "text/plain": [
       "<AxesSubplot:xlabel='BMI'>"
      ]
     },
     "execution_count": 78,
     "metadata": {},
     "output_type": "execute_result"
    },
    {
     "data": {
      "image/png": "[encoded data removed]",
      "text/plain": [
       "<Figure size 432x288 with 1 Axes>"
      ]
     },
     "metadata": {
      "needs_background": "light"
     },
     "output_type": "display_data"
    }
   ],
   "source": [
    "sns.boxplot(df[\"BMI\"])"
   ]
  },
  {
   "cell_type": "code",
   "execution_count": 79,
   "id": "fb11a5b9",
   "metadata": {},
   "outputs": [],
   "source": [
    "outliers_BMI=[]\n",
    "threshold=3\n",
    "def outlier_BMI(data):\n",
    "    mean=np.mean(data.values)\n",
    "    std=np.std(data.values)\n",
    "    for i in data.values:\n",
    "        z_score= (i-mean)/std\n",
    "        if abs(z_score) > threshold:\n",
    "            outliers_BMI.append(i)\n",
    "    return \"The outliers are\",outliers_BMI"
   ]
  },
  {
   "cell_type": "code",
   "execution_count": 80,
   "id": "d7e097c4",
   "metadata": {},
   "outputs": [
    {
     "data": {
      "text/plain": [
       "('The outliers are',\n",
       " [0.0, 0.0, 0.0, 0.0, 0.0, 67.1, 0.0, 0.0, 59.4, 0.0, 0.0, 57.3, 0.0, 0.0])"
      ]
     },
     "execution_count": 80,
     "metadata": {},
     "output_type": "execute_result"
    }
   ],
   "source": [
    "outlier_BMI(df[\"BMI\"])"
   ]
  },
  {
   "cell_type": "code",
   "execution_count": 81,
   "id": "771c9251",
   "metadata": {},
   "outputs": [
    {
     "data": {
      "text/plain": [
       "[9      0.0\n",
       " 49     0.0\n",
       " 60     0.0\n",
       " 81     0.0\n",
       " 145    0.0\n",
       " 371    0.0\n",
       " 426    0.0\n",
       " 494    0.0\n",
       " 522    0.0\n",
       " 684    0.0\n",
       " 706    0.0\n",
       " Name: BMI, dtype: float64,\n",
       " 9      0.0\n",
       " 49     0.0\n",
       " 60     0.0\n",
       " 81     0.0\n",
       " 145    0.0\n",
       " 371    0.0\n",
       " 426    0.0\n",
       " 494    0.0\n",
       " 522    0.0\n",
       " 684    0.0\n",
       " 706    0.0\n",
       " Name: BMI, dtype: float64,\n",
       " 9      0.0\n",
       " 49     0.0\n",
       " 60     0.0\n",
       " 81     0.0\n",
       " 145    0.0\n",
       " 371    0.0\n",
       " 426    0.0\n",
       " 494    0.0\n",
       " 522    0.0\n",
       " 684    0.0\n",
       " 706    0.0\n",
       " Name: BMI, dtype: float64,\n",
       " 9      0.0\n",
       " 49     0.0\n",
       " 60     0.0\n",
       " 81     0.0\n",
       " 145    0.0\n",
       " 371    0.0\n",
       " 426    0.0\n",
       " 494    0.0\n",
       " 522    0.0\n",
       " 684    0.0\n",
       " 706    0.0\n",
       " Name: BMI, dtype: float64,\n",
       " 9      0.0\n",
       " 49     0.0\n",
       " 60     0.0\n",
       " 81     0.0\n",
       " 145    0.0\n",
       " 371    0.0\n",
       " 426    0.0\n",
       " 494    0.0\n",
       " 522    0.0\n",
       " 684    0.0\n",
       " 706    0.0\n",
       " Name: BMI, dtype: float64,\n",
       " 177    67.1\n",
       " Name: BMI, dtype: float64,\n",
       " 9      0.0\n",
       " 49     0.0\n",
       " 60     0.0\n",
       " 81     0.0\n",
       " 145    0.0\n",
       " 371    0.0\n",
       " 426    0.0\n",
       " 494    0.0\n",
       " 522    0.0\n",
       " 684    0.0\n",
       " 706    0.0\n",
       " Name: BMI, dtype: float64,\n",
       " 9      0.0\n",
       " 49     0.0\n",
       " 60     0.0\n",
       " 81     0.0\n",
       " 145    0.0\n",
       " 371    0.0\n",
       " 426    0.0\n",
       " 494    0.0\n",
       " 522    0.0\n",
       " 684    0.0\n",
       " 706    0.0\n",
       " Name: BMI, dtype: float64,\n",
       " 445    59.4\n",
       " Name: BMI, dtype: float64,\n",
       " 9      0.0\n",
       " 49     0.0\n",
       " 60     0.0\n",
       " 81     0.0\n",
       " 145    0.0\n",
       " 371    0.0\n",
       " 426    0.0\n",
       " 494    0.0\n",
       " 522    0.0\n",
       " 684    0.0\n",
       " 706    0.0\n",
       " Name: BMI, dtype: float64,\n",
       " 9      0.0\n",
       " 49     0.0\n",
       " 60     0.0\n",
       " 81     0.0\n",
       " 145    0.0\n",
       " 371    0.0\n",
       " 426    0.0\n",
       " 494    0.0\n",
       " 522    0.0\n",
       " 684    0.0\n",
       " 706    0.0\n",
       " Name: BMI, dtype: float64,\n",
       " 673    57.3\n",
       " Name: BMI, dtype: float64,\n",
       " 9      0.0\n",
       " 49     0.0\n",
       " 60     0.0\n",
       " 81     0.0\n",
       " 145    0.0\n",
       " 371    0.0\n",
       " 426    0.0\n",
       " 494    0.0\n",
       " 522    0.0\n",
       " 684    0.0\n",
       " 706    0.0\n",
       " Name: BMI, dtype: float64,\n",
       " 9      0.0\n",
       " 49     0.0\n",
       " 60     0.0\n",
       " 81     0.0\n",
       " 145    0.0\n",
       " 371    0.0\n",
       " 426    0.0\n",
       " 494    0.0\n",
       " 522    0.0\n",
       " 684    0.0\n",
       " 706    0.0\n",
       " Name: BMI, dtype: float64]"
      ]
     },
     "execution_count": 81,
     "metadata": {},
     "output_type": "execute_result"
    }
   ],
   "source": [
    "outlier_index_BMI=[]\n",
    "for i in outliers_BMI:\n",
    "    a= df[\"BMI\"].loc[df[\"BMI\"]==i]\n",
    "    outlier_index_BMI.append(a)\n",
    "outlier_index_BMI"
   ]
  },
  {
   "cell_type": "code",
   "execution_count": 82,
   "id": "23185972",
   "metadata": {},
   "outputs": [],
   "source": [
    "outlier_index_BMI=[9,49,60,81,145,371,426,494,522,684,706]"
   ]
  },
  {
   "cell_type": "code",
   "execution_count": null,
   "id": "aec89201",
   "metadata": {},
   "outputs": [],
   "source": []
  },
  {
   "cell_type": "code",
   "execution_count": 83,
   "id": "aad9017c",
   "metadata": {},
   "outputs": [],
   "source": [
    "#Age"
   ]
  },
  {
   "cell_type": "code",
   "execution_count": 84,
   "id": "5986c2ef",
   "metadata": {},
   "outputs": [
    {
     "name": "stderr",
     "output_type": "stream",
     "text": [
      "C:\\Users\\hp\\AppData\\Local\\Programs\\Python\\Python39\\lib\\site-packages\\seaborn\\_decorators.py:36: FutureWarning: Pass the following variable as a keyword arg: x. From version 0.12, the only valid positional argument will be `data`, and passing other arguments without an explicit keyword will result in an error or misinterpretation.\n",
      "  warnings.warn(\n"
     ]
    },
    {
     "data": {
      "text/plain": [
       "<AxesSubplot:xlabel='Age'>"
      ]
     },
     "execution_count": 84,
     "metadata": {},
     "output_type": "execute_result"
    },
    {
     "data": {
      "image/png": "[encoded data removed]",
      "text/plain": [
       "<Figure size 432x288 with 1 Axes>"
      ]
     },
     "metadata": {
      "needs_background": "light"
     },
     "output_type": "display_data"
    }
   ],
   "source": [
    "sns.boxplot(df[\"Age\"])"
   ]
  },
  {
   "cell_type": "code",
   "execution_count": 85,
   "id": "4d808023",
   "metadata": {},
   "outputs": [],
   "source": [
    "outliers_Age=[]\n",
    "threshold=3\n",
    "def outlier_Age(data):\n",
    "    mean=np.mean(data.values)\n",
    "    std=np.std(data.values)\n",
    "    for i in data.values:\n",
    "        z_score= (i-mean)/std\n",
    "        if abs(z_score) > threshold:\n",
    "            outliers_Age.append(i)\n",
    "    return \"The outliers are\",outliers_Age"
   ]
  },
  {
   "cell_type": "code",
   "execution_count": 86,
   "id": "fab13358",
   "metadata": {},
   "outputs": [
    {
     "data": {
      "text/plain": [
       "('The outliers are', [69, 72, 81, 70, 69])"
      ]
     },
     "execution_count": 86,
     "metadata": {},
     "output_type": "execute_result"
    }
   ],
   "source": [
    "outlier_Age(df[\"Age\"])"
   ]
  },
  {
   "cell_type": "code",
   "execution_count": 87,
   "id": "4edd2676",
   "metadata": {},
   "outputs": [
    {
     "data": {
      "text/plain": [
       "[123    69\n",
       " 684    69\n",
       " Name: Age, dtype: int64,\n",
       " 453    72\n",
       " Name: Age, dtype: int64,\n",
       " 459    81\n",
       " Name: Age, dtype: int64,\n",
       " 666    70\n",
       " Name: Age, dtype: int64,\n",
       " 123    69\n",
       " 684    69\n",
       " Name: Age, dtype: int64]"
      ]
     },
     "execution_count": 87,
     "metadata": {},
     "output_type": "execute_result"
    }
   ],
   "source": [
    "outlier_index_Age=[]\n",
    "for i in outliers_Age:\n",
    "    a=df[\"Age\"].loc[df[\"Age\"]==i]\n",
    "    outlier_index_Age.append(a)\n",
    "outlier_index_Age"
   ]
  },
  {
   "cell_type": "code",
   "execution_count": 88,
   "id": "55abf483",
   "metadata": {},
   "outputs": [],
   "source": [
    "outlier_index_Age=[123,684,453,459,666,]"
   ]
  },
  {
   "cell_type": "markdown",
   "id": "3db06ee8",
   "metadata": {},
   "source": [
    "##### Merging all the outlier index lists into a universal outlier list "
   ]
  },
  {
   "cell_type": "code",
   "execution_count": 89,
   "id": "6a26bd8f",
   "metadata": {},
   "outputs": [],
   "source": [
    "universal_outlier_indexes= outlier_index_Pregnancies + outlier_index_DiabetesPedigreeFunction + outlier_index_Glucose + outlier_index_BloodPressure + outlier_index_SkinThickness + outlier_index_Insulin + outlier_index_BMI + outlier_index_Age                              \n",
    "                                                                "
   ]
  },
  {
   "cell_type": "code",
   "execution_count": 90,
   "id": "afba1516",
   "metadata": {},
   "outputs": [],
   "source": [
    "universal_outlier_indexes=set(universal_outlier_indexes)"
   ]
  },
  {
   "cell_type": "code",
   "execution_count": 91,
   "id": "e9242202",
   "metadata": {
    "scrolled": true
   },
   "outputs": [
    {
     "data": {
      "text/plain": [
       "{4,\n",
       " 7,\n",
       " 8,\n",
       " 9,\n",
       " 13,\n",
       " 15,\n",
       " 45,\n",
       " 49,\n",
       " 58,\n",
       " 60,\n",
       " 75,\n",
       " 78,\n",
       " 81,\n",
       " 111,\n",
       " 123,\n",
       " 145,\n",
       " 153,\n",
       " 172,\n",
       " 182,\n",
       " 186,\n",
       " 193,\n",
       " 220,\n",
       " 222,\n",
       " 228,\n",
       " 247,\n",
       " 261,\n",
       " 266,\n",
       " 269,\n",
       " 281,\n",
       " 286,\n",
       " 300,\n",
       " 332,\n",
       " 336,\n",
       " 342,\n",
       " 347,\n",
       " 349,\n",
       " 357,\n",
       " 370,\n",
       " 371,\n",
       " 395,\n",
       " 409,\n",
       " 415,\n",
       " 426,\n",
       " 430,\n",
       " 435,\n",
       " 445,\n",
       " 453,\n",
       " 459,\n",
       " 468,\n",
       " 479,\n",
       " 484,\n",
       " 486,\n",
       " 494,\n",
       " 502,\n",
       " 522,\n",
       " 533,\n",
       " 535,\n",
       " 579,\n",
       " 584,\n",
       " 589,\n",
       " 593,\n",
       " 601,\n",
       " 604,\n",
       " 619,\n",
       " 621,\n",
       " 643,\n",
       " 645,\n",
       " 655,\n",
       " 666,\n",
       " 684,\n",
       " 695,\n",
       " 697,\n",
       " 703,\n",
       " 706,\n",
       " 753}"
      ]
     },
     "execution_count": 91,
     "metadata": {},
     "output_type": "execute_result"
    }
   ],
   "source": [
    "universal_outlier_indexes"
   ]
  },
  {
   "cell_type": "code",
   "execution_count": 92,
   "id": "de2a0792",
   "metadata": {},
   "outputs": [
    {
     "name": "stdout",
     "output_type": "stream",
     "text": [
      "75\n"
     ]
    }
   ],
   "source": [
    "print(len(universal_outlier_indexes))"
   ]
  },
  {
   "cell_type": "code",
   "execution_count": 93,
   "id": "1f2910dd",
   "metadata": {},
   "outputs": [],
   "source": [
    "def remove_outlier_indexes(index_list):\n",
    "    for i in index_list:\n",
    "        df.drop(i,axis=0,inplace=True)\n",
    "remove_outlier_indexes(universal_outlier_indexes)"
   ]
  },
  {
   "cell_type": "code",
   "execution_count": 94,
   "id": "5fe86894",
   "metadata": {},
   "outputs": [
    {
     "data": {
      "text/plain": [
       "(693, 9)"
      ]
     },
     "execution_count": 94,
     "metadata": {},
     "output_type": "execute_result"
    }
   ],
   "source": [
    "df.shape"
   ]
  },
  {
   "cell_type": "code",
   "execution_count": 95,
   "id": "ce690d2a",
   "metadata": {},
   "outputs": [
    {
     "data": {
      "text/html": [
       "<div>\n",
       "<style scoped>\n",
       "    .dataframe tbody tr th:only-of-type {\n",
       "        vertical-align: middle;\n",
       "    }\n",
       "\n",
       "    .dataframe tbody tr th {\n",
       "        vertical-align: top;\n",
       "    }\n",
       "\n",
       "    .dataframe thead th {\n",
       "        text-align: right;\n",
       "    }\n",
       "</style>\n",
       "<table border=\"1\" class=\"dataframe\">\n",
       "  <thead>\n",
       "    <tr style=\"text-align: right;\">\n",
       "      <th></th>\n",
       "      <th>Pregnancies</th>\n",
       "      <th>Glucose</th>\n",
       "      <th>BloodPressure</th>\n",
       "      <th>SkinThickness</th>\n",
       "      <th>Insulin</th>\n",
       "      <th>BMI</th>\n",
       "      <th>DiabetesPedigreeFunction</th>\n",
       "      <th>Age</th>\n",
       "      <th>Outcome</th>\n",
       "    </tr>\n",
       "  </thead>\n",
       "  <tbody>\n",
       "    <tr>\n",
       "      <th>0</th>\n",
       "      <td>6</td>\n",
       "      <td>148</td>\n",
       "      <td>72</td>\n",
       "      <td>35</td>\n",
       "      <td>0</td>\n",
       "      <td>33.6</td>\n",
       "      <td>0.627</td>\n",
       "      <td>50</td>\n",
       "      <td>1</td>\n",
       "    </tr>\n",
       "    <tr>\n",
       "      <th>1</th>\n",
       "      <td>1</td>\n",
       "      <td>85</td>\n",
       "      <td>66</td>\n",
       "      <td>29</td>\n",
       "      <td>0</td>\n",
       "      <td>26.6</td>\n",
       "      <td>0.351</td>\n",
       "      <td>31</td>\n",
       "      <td>0</td>\n",
       "    </tr>\n",
       "    <tr>\n",
       "      <th>2</th>\n",
       "      <td>8</td>\n",
       "      <td>183</td>\n",
       "      <td>64</td>\n",
       "      <td>0</td>\n",
       "      <td>0</td>\n",
       "      <td>23.3</td>\n",
       "      <td>0.672</td>\n",
       "      <td>32</td>\n",
       "      <td>1</td>\n",
       "    </tr>\n",
       "    <tr>\n",
       "      <th>3</th>\n",
       "      <td>1</td>\n",
       "      <td>89</td>\n",
       "      <td>66</td>\n",
       "      <td>23</td>\n",
       "      <td>94</td>\n",
       "      <td>28.1</td>\n",
       "      <td>0.167</td>\n",
       "      <td>21</td>\n",
       "      <td>0</td>\n",
       "    </tr>\n",
       "    <tr>\n",
       "      <th>5</th>\n",
       "      <td>5</td>\n",
       "      <td>116</td>\n",
       "      <td>74</td>\n",
       "      <td>0</td>\n",
       "      <td>0</td>\n",
       "      <td>25.6</td>\n",
       "      <td>0.201</td>\n",
       "      <td>30</td>\n",
       "      <td>0</td>\n",
       "    </tr>\n",
       "  </tbody>\n",
       "</table>\n",
       "</div>"
      ],
      "text/plain": [
       "   Pregnancies  Glucose  BloodPressure  SkinThickness  Insulin   BMI  \\\n",
       "0            6      148             72             35        0  33.6   \n",
       "1            1       85             66             29        0  26.6   \n",
       "2            8      183             64              0        0  23.3   \n",
       "3            1       89             66             23       94  28.1   \n",
       "5            5      116             74              0        0  25.6   \n",
       "\n",
       "   DiabetesPedigreeFunction  Age  Outcome  \n",
       "0                     0.627   50        1  \n",
       "1                     0.351   31        0  \n",
       "2                     0.672   32        1  \n",
       "3                     0.167   21        0  \n",
       "5                     0.201   30        0  "
      ]
     },
     "execution_count": 95,
     "metadata": {},
     "output_type": "execute_result"
    }
   ],
   "source": [
    "df.head()"
   ]
  },
  {
   "cell_type": "code",
   "execution_count": 96,
   "id": "a537693a",
   "metadata": {},
   "outputs": [],
   "source": [
    "df.reset_index(drop=True,inplace=True)"
   ]
  },
  {
   "cell_type": "code",
   "execution_count": null,
   "id": "2129b671",
   "metadata": {},
   "outputs": [],
   "source": []
  },
  {
   "cell_type": "code",
   "execution_count": null,
   "id": "d561186e",
   "metadata": {},
   "outputs": [],
   "source": []
  },
  {
   "cell_type": "markdown",
   "id": "385f5431",
   "metadata": {},
   "source": [
    "### Breaking the dataset into training and testing "
   ]
  },
  {
   "cell_type": "code",
   "execution_count": null,
   "id": "aac8be64",
   "metadata": {},
   "outputs": [],
   "source": []
  },
  {
   "cell_type": "code",
   "execution_count": 97,
   "id": "ef8440d0",
   "metadata": {},
   "outputs": [
    {
     "data": {
      "text/plain": [
       "'from sklearn.model_selection import train_test_split\\nx_train,x_test,Y_train,Y_test=train_test_split(x,Y,test_size=0.2,random_state=42)\\nprint(x_train.shape,x_test.shape,Y_train.shape,Y_test.shape)'"
      ]
     },
     "execution_count": 97,
     "metadata": {},
     "output_type": "execute_result"
    }
   ],
   "source": [
    "'''from sklearn.model_selection import train_test_split\n",
    "x_train,x_test,Y_train,Y_test=train_test_split(x,Y,test_size=0.2,random_state=42)\n",
    "print(x_train.shape,x_test.shape,Y_train.shape,Y_test.shape)'''"
   ]
  },
  {
   "cell_type": "code",
   "execution_count": 98,
   "id": "80a35cab",
   "metadata": {},
   "outputs": [
    {
     "data": {
      "text/plain": [
       "'df_train=pd.concat([x_train,Y_train],axis=1)\\ndf_test=pd.concat([x_test,Y_test],axis=1)'"
      ]
     },
     "execution_count": 98,
     "metadata": {},
     "output_type": "execute_result"
    }
   ],
   "source": [
    "'''df_train=pd.concat([x_train,Y_train],axis=1)\n",
    "df_test=pd.concat([x_test,Y_test],axis=1)'''"
   ]
  },
  {
   "cell_type": "code",
   "execution_count": 99,
   "id": "875a78d0",
   "metadata": {},
   "outputs": [
    {
     "data": {
      "text/plain": [
       "'df_train.to_csv(\"diabetes_train.csv\")\\ndf_test.to_csv(\"diabetes_test.csv\")'"
      ]
     },
     "execution_count": 99,
     "metadata": {},
     "output_type": "execute_result"
    }
   ],
   "source": [
    "'''df_train.to_csv(\"diabetes_train.csv\")\n",
    "df_test.to_csv(\"diabetes_test.csv\")'''"
   ]
  },
  {
   "cell_type": "code",
   "execution_count": 100,
   "id": "c7258ae6",
   "metadata": {},
   "outputs": [
    {
     "data": {
      "text/html": [
       "<div>\n",
       "<style scoped>\n",
       "    .dataframe tbody tr th:only-of-type {\n",
       "        vertical-align: middle;\n",
       "    }\n",
       "\n",
       "    .dataframe tbody tr th {\n",
       "        vertical-align: top;\n",
       "    }\n",
       "\n",
       "    .dataframe thead th {\n",
       "        text-align: right;\n",
       "    }\n",
       "</style>\n",
       "<table border=\"1\" class=\"dataframe\">\n",
       "  <thead>\n",
       "    <tr style=\"text-align: right;\">\n",
       "      <th></th>\n",
       "      <th>Pregnancies</th>\n",
       "      <th>Glucose</th>\n",
       "      <th>BloodPressure</th>\n",
       "      <th>SkinThickness</th>\n",
       "      <th>Insulin</th>\n",
       "      <th>BMI</th>\n",
       "      <th>DiabetesPedigreeFunction</th>\n",
       "      <th>Age</th>\n",
       "      <th>Outcome</th>\n",
       "    </tr>\n",
       "  </thead>\n",
       "  <tbody>\n",
       "    <tr>\n",
       "      <th>0</th>\n",
       "      <td>6</td>\n",
       "      <td>148</td>\n",
       "      <td>72</td>\n",
       "      <td>35</td>\n",
       "      <td>0</td>\n",
       "      <td>33.6</td>\n",
       "      <td>0.627</td>\n",
       "      <td>50</td>\n",
       "      <td>1</td>\n",
       "    </tr>\n",
       "    <tr>\n",
       "      <th>1</th>\n",
       "      <td>1</td>\n",
       "      <td>85</td>\n",
       "      <td>66</td>\n",
       "      <td>29</td>\n",
       "      <td>0</td>\n",
       "      <td>26.6</td>\n",
       "      <td>0.351</td>\n",
       "      <td>31</td>\n",
       "      <td>0</td>\n",
       "    </tr>\n",
       "    <tr>\n",
       "      <th>2</th>\n",
       "      <td>8</td>\n",
       "      <td>183</td>\n",
       "      <td>64</td>\n",
       "      <td>0</td>\n",
       "      <td>0</td>\n",
       "      <td>23.3</td>\n",
       "      <td>0.672</td>\n",
       "      <td>32</td>\n",
       "      <td>1</td>\n",
       "    </tr>\n",
       "    <tr>\n",
       "      <th>3</th>\n",
       "      <td>1</td>\n",
       "      <td>89</td>\n",
       "      <td>66</td>\n",
       "      <td>23</td>\n",
       "      <td>94</td>\n",
       "      <td>28.1</td>\n",
       "      <td>0.167</td>\n",
       "      <td>21</td>\n",
       "      <td>0</td>\n",
       "    </tr>\n",
       "    <tr>\n",
       "      <th>4</th>\n",
       "      <td>5</td>\n",
       "      <td>116</td>\n",
       "      <td>74</td>\n",
       "      <td>0</td>\n",
       "      <td>0</td>\n",
       "      <td>25.6</td>\n",
       "      <td>0.201</td>\n",
       "      <td>30</td>\n",
       "      <td>0</td>\n",
       "    </tr>\n",
       "  </tbody>\n",
       "</table>\n",
       "</div>"
      ],
      "text/plain": [
       "   Pregnancies  Glucose  BloodPressure  SkinThickness  Insulin   BMI  \\\n",
       "0            6      148             72             35        0  33.6   \n",
       "1            1       85             66             29        0  26.6   \n",
       "2            8      183             64              0        0  23.3   \n",
       "3            1       89             66             23       94  28.1   \n",
       "4            5      116             74              0        0  25.6   \n",
       "\n",
       "   DiabetesPedigreeFunction  Age  Outcome  \n",
       "0                     0.627   50        1  \n",
       "1                     0.351   31        0  \n",
       "2                     0.672   32        1  \n",
       "3                     0.167   21        0  \n",
       "4                     0.201   30        0  "
      ]
     },
     "execution_count": 100,
     "metadata": {},
     "output_type": "execute_result"
    }
   ],
   "source": [
    "df.head()"
   ]
  },
  {
   "cell_type": "code",
   "execution_count": null,
   "id": "03b92a3d",
   "metadata": {},
   "outputs": [],
   "source": []
  },
  {
   "cell_type": "markdown",
   "id": "c39d4ae2",
   "metadata": {},
   "source": [
    "### Null Values"
   ]
  },
  {
   "cell_type": "code",
   "execution_count": 101,
   "id": "148248d8",
   "metadata": {},
   "outputs": [
    {
     "data": {
      "text/plain": [
       "Pregnancies                 0\n",
       "Glucose                     0\n",
       "BloodPressure               0\n",
       "SkinThickness               0\n",
       "Insulin                     0\n",
       "BMI                         0\n",
       "DiabetesPedigreeFunction    0\n",
       "Age                         0\n",
       "Outcome                     0\n",
       "dtype: int64"
      ]
     },
     "execution_count": 101,
     "metadata": {},
     "output_type": "execute_result"
    }
   ],
   "source": [
    "df.isnull().sum()"
   ]
  },
  {
   "cell_type": "markdown",
   "id": "36d3ca46",
   "metadata": {},
   "source": [
    "### Feature Scaling"
   ]
  },
  {
   "cell_type": "markdown",
   "id": "3bc87f34",
   "metadata": {},
   "source": [
    "scaling down: glucose, blood pressure, SkinThickness, Insulin, BMI, Age"
   ]
  },
  {
   "cell_type": "markdown",
   "id": "e15be374",
   "metadata": {},
   "source": [
    "choosing standard scalar"
   ]
  },
  {
   "cell_type": "code",
   "execution_count": 102,
   "id": "d71d5c15",
   "metadata": {},
   "outputs": [
    {
     "data": {
      "text/plain": [
       "Index(['Pregnancies', 'Glucose', 'BloodPressure', 'SkinThickness', 'Insulin',\n",
       "       'BMI', 'DiabetesPedigreeFunction', 'Age', 'Outcome'],\n",
       "      dtype='object')"
      ]
     },
     "execution_count": 102,
     "metadata": {},
     "output_type": "execute_result"
    }
   ],
   "source": [
    "df.columns"
   ]
  },
  {
   "cell_type": "code",
   "execution_count": 103,
   "id": "350604e8",
   "metadata": {},
   "outputs": [],
   "source": [
    "from sklearn.preprocessing import StandardScaler\n",
    "scale=StandardScaler()\n",
    "df0=scale.fit_transform(df[['Glucose', 'BloodPressure', 'SkinThickness', 'Insulin',\n",
    "       'BMI','Age']])"
   ]
  },
  {
   "cell_type": "code",
   "execution_count": 104,
   "id": "85e947a2",
   "metadata": {},
   "outputs": [
    {
     "data": {
      "text/plain": [
       "array([[ 0.9194923 , -0.03262631,  0.91675653, -0.80931614,  0.18932948,\n",
       "         1.48540411],\n",
       "       [-1.18020509, -0.51712701,  0.52715374, -0.80931614, -0.83904059,\n",
       "        -0.18410643],\n",
       "       [ 2.08599085, -0.67862724, -1.35592638, -0.80931614, -1.32384362,\n",
       "        -0.09623745],\n",
       "       ...,\n",
       "       [ 0.01962199, -0.03262631,  0.13755096,  0.43355364, -0.89780459,\n",
       "        -0.2719754 ],\n",
       "       [ 0.18626464, -1.0016277 , -1.35592638, -0.80931614, -0.32485555,\n",
       "         1.22179719],\n",
       "       [-0.91357685, -0.19412654,  0.65702134, -0.80931614, -0.28078255,\n",
       "        -0.88705823]])"
      ]
     },
     "execution_count": 104,
     "metadata": {},
     "output_type": "execute_result"
    }
   ],
   "source": [
    "df0"
   ]
  },
  {
   "cell_type": "code",
   "execution_count": 105,
   "id": "dda589e9",
   "metadata": {},
   "outputs": [],
   "source": [
    "df_scaled_features=pd.DataFrame(df0)"
   ]
  },
  {
   "cell_type": "code",
   "execution_count": 106,
   "id": "a1f31151",
   "metadata": {},
   "outputs": [
    {
     "data": {
      "text/html": [
       "<div>\n",
       "<style scoped>\n",
       "    .dataframe tbody tr th:only-of-type {\n",
       "        vertical-align: middle;\n",
       "    }\n",
       "\n",
       "    .dataframe tbody tr th {\n",
       "        vertical-align: top;\n",
       "    }\n",
       "\n",
       "    .dataframe thead th {\n",
       "        text-align: right;\n",
       "    }\n",
       "</style>\n",
       "<table border=\"1\" class=\"dataframe\">\n",
       "  <thead>\n",
       "    <tr style=\"text-align: right;\">\n",
       "      <th></th>\n",
       "      <th>0</th>\n",
       "      <th>1</th>\n",
       "      <th>2</th>\n",
       "      <th>3</th>\n",
       "      <th>4</th>\n",
       "      <th>5</th>\n",
       "    </tr>\n",
       "  </thead>\n",
       "  <tbody>\n",
       "    <tr>\n",
       "      <th>0</th>\n",
       "      <td>0.919492</td>\n",
       "      <td>-0.032626</td>\n",
       "      <td>0.916757</td>\n",
       "      <td>-0.809316</td>\n",
       "      <td>0.189329</td>\n",
       "      <td>1.485404</td>\n",
       "    </tr>\n",
       "    <tr>\n",
       "      <th>1</th>\n",
       "      <td>-1.180205</td>\n",
       "      <td>-0.517127</td>\n",
       "      <td>0.527154</td>\n",
       "      <td>-0.809316</td>\n",
       "      <td>-0.839041</td>\n",
       "      <td>-0.184106</td>\n",
       "    </tr>\n",
       "    <tr>\n",
       "      <th>2</th>\n",
       "      <td>2.085991</td>\n",
       "      <td>-0.678627</td>\n",
       "      <td>-1.355926</td>\n",
       "      <td>-0.809316</td>\n",
       "      <td>-1.323844</td>\n",
       "      <td>-0.096237</td>\n",
       "    </tr>\n",
       "    <tr>\n",
       "      <th>3</th>\n",
       "      <td>-1.046891</td>\n",
       "      <td>-0.517127</td>\n",
       "      <td>0.137551</td>\n",
       "      <td>0.233807</td>\n",
       "      <td>-0.618676</td>\n",
       "      <td>-1.062796</td>\n",
       "    </tr>\n",
       "    <tr>\n",
       "      <th>4</th>\n",
       "      <td>-0.147021</td>\n",
       "      <td>0.128874</td>\n",
       "      <td>-1.355926</td>\n",
       "      <td>-0.809316</td>\n",
       "      <td>-0.985951</td>\n",
       "      <td>-0.271975</td>\n",
       "    </tr>\n",
       "  </tbody>\n",
       "</table>\n",
       "</div>"
      ],
      "text/plain": [
       "          0         1         2         3         4         5\n",
       "0  0.919492 -0.032626  0.916757 -0.809316  0.189329  1.485404\n",
       "1 -1.180205 -0.517127  0.527154 -0.809316 -0.839041 -0.184106\n",
       "2  2.085991 -0.678627 -1.355926 -0.809316 -1.323844 -0.096237\n",
       "3 -1.046891 -0.517127  0.137551  0.233807 -0.618676 -1.062796\n",
       "4 -0.147021  0.128874 -1.355926 -0.809316 -0.985951 -0.271975"
      ]
     },
     "execution_count": 106,
     "metadata": {},
     "output_type": "execute_result"
    }
   ],
   "source": [
    "df_scaled_features.head()"
   ]
  },
  {
   "cell_type": "code",
   "execution_count": 107,
   "id": "41669bd7",
   "metadata": {},
   "outputs": [
    {
     "data": {
      "text/plain": [
       "0    0\n",
       "1    0\n",
       "2    0\n",
       "3    0\n",
       "4    0\n",
       "5    0\n",
       "dtype: int64"
      ]
     },
     "execution_count": 107,
     "metadata": {},
     "output_type": "execute_result"
    }
   ],
   "source": [
    "df_scaled_features.isnull().sum()"
   ]
  },
  {
   "cell_type": "code",
   "execution_count": 108,
   "id": "4c24bb42",
   "metadata": {},
   "outputs": [],
   "source": [
    "df_scaled_features.columns=['Glucose', 'BloodPressure', 'SkinThickness', 'Insulin','BMI','Age']"
   ]
  },
  {
   "cell_type": "code",
   "execution_count": 109,
   "id": "8d7ee86e",
   "metadata": {},
   "outputs": [
    {
     "data": {
      "text/html": [
       "<div>\n",
       "<style scoped>\n",
       "    .dataframe tbody tr th:only-of-type {\n",
       "        vertical-align: middle;\n",
       "    }\n",
       "\n",
       "    .dataframe tbody tr th {\n",
       "        vertical-align: top;\n",
       "    }\n",
       "\n",
       "    .dataframe thead th {\n",
       "        text-align: right;\n",
       "    }\n",
       "</style>\n",
       "<table border=\"1\" class=\"dataframe\">\n",
       "  <thead>\n",
       "    <tr style=\"text-align: right;\">\n",
       "      <th></th>\n",
       "      <th>Glucose</th>\n",
       "      <th>BloodPressure</th>\n",
       "      <th>SkinThickness</th>\n",
       "      <th>Insulin</th>\n",
       "      <th>BMI</th>\n",
       "      <th>Age</th>\n",
       "    </tr>\n",
       "  </thead>\n",
       "  <tbody>\n",
       "    <tr>\n",
       "      <th>0</th>\n",
       "      <td>0.919492</td>\n",
       "      <td>-0.032626</td>\n",
       "      <td>0.916757</td>\n",
       "      <td>-0.809316</td>\n",
       "      <td>0.189329</td>\n",
       "      <td>1.485404</td>\n",
       "    </tr>\n",
       "    <tr>\n",
       "      <th>1</th>\n",
       "      <td>-1.180205</td>\n",
       "      <td>-0.517127</td>\n",
       "      <td>0.527154</td>\n",
       "      <td>-0.809316</td>\n",
       "      <td>-0.839041</td>\n",
       "      <td>-0.184106</td>\n",
       "    </tr>\n",
       "    <tr>\n",
       "      <th>2</th>\n",
       "      <td>2.085991</td>\n",
       "      <td>-0.678627</td>\n",
       "      <td>-1.355926</td>\n",
       "      <td>-0.809316</td>\n",
       "      <td>-1.323844</td>\n",
       "      <td>-0.096237</td>\n",
       "    </tr>\n",
       "    <tr>\n",
       "      <th>3</th>\n",
       "      <td>-1.046891</td>\n",
       "      <td>-0.517127</td>\n",
       "      <td>0.137551</td>\n",
       "      <td>0.233807</td>\n",
       "      <td>-0.618676</td>\n",
       "      <td>-1.062796</td>\n",
       "    </tr>\n",
       "    <tr>\n",
       "      <th>4</th>\n",
       "      <td>-0.147021</td>\n",
       "      <td>0.128874</td>\n",
       "      <td>-1.355926</td>\n",
       "      <td>-0.809316</td>\n",
       "      <td>-0.985951</td>\n",
       "      <td>-0.271975</td>\n",
       "    </tr>\n",
       "  </tbody>\n",
       "</table>\n",
       "</div>"
      ],
      "text/plain": [
       "    Glucose  BloodPressure  SkinThickness   Insulin       BMI       Age\n",
       "0  0.919492      -0.032626       0.916757 -0.809316  0.189329  1.485404\n",
       "1 -1.180205      -0.517127       0.527154 -0.809316 -0.839041 -0.184106\n",
       "2  2.085991      -0.678627      -1.355926 -0.809316 -1.323844 -0.096237\n",
       "3 -1.046891      -0.517127       0.137551  0.233807 -0.618676 -1.062796\n",
       "4 -0.147021       0.128874      -1.355926 -0.809316 -0.985951 -0.271975"
      ]
     },
     "execution_count": 109,
     "metadata": {},
     "output_type": "execute_result"
    }
   ],
   "source": [
    "df_scaled_features.head()"
   ]
  },
  {
   "cell_type": "code",
   "execution_count": 110,
   "id": "c6ff25c8",
   "metadata": {},
   "outputs": [
    {
     "data": {
      "text/plain": [
       "Glucose          0\n",
       "BloodPressure    0\n",
       "SkinThickness    0\n",
       "Insulin          0\n",
       "BMI              0\n",
       "Age              0\n",
       "dtype: int64"
      ]
     },
     "execution_count": 110,
     "metadata": {},
     "output_type": "execute_result"
    }
   ],
   "source": [
    "df_scaled_features.isnull().sum()"
   ]
  },
  {
   "cell_type": "code",
   "execution_count": 111,
   "id": "60309032",
   "metadata": {},
   "outputs": [
    {
     "data": {
      "text/html": [
       "<div>\n",
       "<style scoped>\n",
       "    .dataframe tbody tr th:only-of-type {\n",
       "        vertical-align: middle;\n",
       "    }\n",
       "\n",
       "    .dataframe tbody tr th {\n",
       "        vertical-align: top;\n",
       "    }\n",
       "\n",
       "    .dataframe thead th {\n",
       "        text-align: right;\n",
       "    }\n",
       "</style>\n",
       "<table border=\"1\" class=\"dataframe\">\n",
       "  <thead>\n",
       "    <tr style=\"text-align: right;\">\n",
       "      <th></th>\n",
       "      <th>Pregnancies</th>\n",
       "      <th>DiabetesPedigreeFunction</th>\n",
       "      <th>Outcome</th>\n",
       "    </tr>\n",
       "  </thead>\n",
       "  <tbody>\n",
       "    <tr>\n",
       "      <th>0</th>\n",
       "      <td>6</td>\n",
       "      <td>0.627</td>\n",
       "      <td>1</td>\n",
       "    </tr>\n",
       "    <tr>\n",
       "      <th>1</th>\n",
       "      <td>1</td>\n",
       "      <td>0.351</td>\n",
       "      <td>0</td>\n",
       "    </tr>\n",
       "    <tr>\n",
       "      <th>2</th>\n",
       "      <td>8</td>\n",
       "      <td>0.672</td>\n",
       "      <td>1</td>\n",
       "    </tr>\n",
       "    <tr>\n",
       "      <th>3</th>\n",
       "      <td>1</td>\n",
       "      <td>0.167</td>\n",
       "      <td>0</td>\n",
       "    </tr>\n",
       "    <tr>\n",
       "      <th>4</th>\n",
       "      <td>5</td>\n",
       "      <td>0.201</td>\n",
       "      <td>0</td>\n",
       "    </tr>\n",
       "  </tbody>\n",
       "</table>\n",
       "</div>"
      ],
      "text/plain": [
       "   Pregnancies  DiabetesPedigreeFunction  Outcome\n",
       "0            6                     0.627        1\n",
       "1            1                     0.351        0\n",
       "2            8                     0.672        1\n",
       "3            1                     0.167        0\n",
       "4            5                     0.201        0"
      ]
     },
     "execution_count": 111,
     "metadata": {},
     "output_type": "execute_result"
    }
   ],
   "source": [
    "df=df.drop(['Glucose', 'BloodPressure', 'SkinThickness', 'Insulin',\n",
    "       'BMI','Age'],axis=1)\n",
    "df.head()"
   ]
  },
  {
   "cell_type": "code",
   "execution_count": 112,
   "id": "41f70087",
   "metadata": {},
   "outputs": [
    {
     "data": {
      "text/plain": [
       "Pregnancies                 0\n",
       "DiabetesPedigreeFunction    0\n",
       "Outcome                     0\n",
       "dtype: int64"
      ]
     },
     "execution_count": 112,
     "metadata": {},
     "output_type": "execute_result"
    }
   ],
   "source": [
    "df.isnull().sum()"
   ]
  },
  {
   "cell_type": "code",
   "execution_count": 113,
   "id": "85538747",
   "metadata": {},
   "outputs": [],
   "source": [
    "df.reset_index(drop=True, inplace=True)\n",
    "df_scaled_features.reset_index(drop=True,inplace=True)"
   ]
  },
  {
   "cell_type": "code",
   "execution_count": null,
   "id": "f143d068",
   "metadata": {},
   "outputs": [],
   "source": []
  },
  {
   "cell_type": "code",
   "execution_count": 114,
   "id": "24fc8d4d",
   "metadata": {},
   "outputs": [],
   "source": [
    "df=pd.concat([df,df_scaled_features],axis=1)"
   ]
  },
  {
   "cell_type": "code",
   "execution_count": 115,
   "id": "d38fcc9d",
   "metadata": {},
   "outputs": [
    {
     "data": {
      "text/plain": [
       "Pregnancies                 0\n",
       "DiabetesPedigreeFunction    0\n",
       "Outcome                     0\n",
       "Glucose                     0\n",
       "BloodPressure               0\n",
       "SkinThickness               0\n",
       "Insulin                     0\n",
       "BMI                         0\n",
       "Age                         0\n",
       "dtype: int64"
      ]
     },
     "execution_count": 115,
     "metadata": {},
     "output_type": "execute_result"
    }
   ],
   "source": [
    "df.isnull().sum()"
   ]
  },
  {
   "cell_type": "code",
   "execution_count": 116,
   "id": "0dcbac72",
   "metadata": {},
   "outputs": [
    {
     "data": {
      "text/html": [
       "<div>\n",
       "<style scoped>\n",
       "    .dataframe tbody tr th:only-of-type {\n",
       "        vertical-align: middle;\n",
       "    }\n",
       "\n",
       "    .dataframe tbody tr th {\n",
       "        vertical-align: top;\n",
       "    }\n",
       "\n",
       "    .dataframe thead th {\n",
       "        text-align: right;\n",
       "    }\n",
       "</style>\n",
       "<table border=\"1\" class=\"dataframe\">\n",
       "  <thead>\n",
       "    <tr style=\"text-align: right;\">\n",
       "      <th></th>\n",
       "      <th>Pregnancies</th>\n",
       "      <th>DiabetesPedigreeFunction</th>\n",
       "      <th>Outcome</th>\n",
       "      <th>Glucose</th>\n",
       "      <th>BloodPressure</th>\n",
       "      <th>SkinThickness</th>\n",
       "      <th>Insulin</th>\n",
       "      <th>BMI</th>\n",
       "      <th>Age</th>\n",
       "    </tr>\n",
       "  </thead>\n",
       "  <tbody>\n",
       "    <tr>\n",
       "      <th>0</th>\n",
       "      <td>6</td>\n",
       "      <td>0.627</td>\n",
       "      <td>1</td>\n",
       "      <td>0.919492</td>\n",
       "      <td>-0.032626</td>\n",
       "      <td>0.916757</td>\n",
       "      <td>-0.809316</td>\n",
       "      <td>0.189329</td>\n",
       "      <td>1.485404</td>\n",
       "    </tr>\n",
       "    <tr>\n",
       "      <th>1</th>\n",
       "      <td>1</td>\n",
       "      <td>0.351</td>\n",
       "      <td>0</td>\n",
       "      <td>-1.180205</td>\n",
       "      <td>-0.517127</td>\n",
       "      <td>0.527154</td>\n",
       "      <td>-0.809316</td>\n",
       "      <td>-0.839041</td>\n",
       "      <td>-0.184106</td>\n",
       "    </tr>\n",
       "    <tr>\n",
       "      <th>2</th>\n",
       "      <td>8</td>\n",
       "      <td>0.672</td>\n",
       "      <td>1</td>\n",
       "      <td>2.085991</td>\n",
       "      <td>-0.678627</td>\n",
       "      <td>-1.355926</td>\n",
       "      <td>-0.809316</td>\n",
       "      <td>-1.323844</td>\n",
       "      <td>-0.096237</td>\n",
       "    </tr>\n",
       "    <tr>\n",
       "      <th>3</th>\n",
       "      <td>1</td>\n",
       "      <td>0.167</td>\n",
       "      <td>0</td>\n",
       "      <td>-1.046891</td>\n",
       "      <td>-0.517127</td>\n",
       "      <td>0.137551</td>\n",
       "      <td>0.233807</td>\n",
       "      <td>-0.618676</td>\n",
       "      <td>-1.062796</td>\n",
       "    </tr>\n",
       "    <tr>\n",
       "      <th>4</th>\n",
       "      <td>5</td>\n",
       "      <td>0.201</td>\n",
       "      <td>0</td>\n",
       "      <td>-0.147021</td>\n",
       "      <td>0.128874</td>\n",
       "      <td>-1.355926</td>\n",
       "      <td>-0.809316</td>\n",
       "      <td>-0.985951</td>\n",
       "      <td>-0.271975</td>\n",
       "    </tr>\n",
       "  </tbody>\n",
       "</table>\n",
       "</div>"
      ],
      "text/plain": [
       "   Pregnancies  DiabetesPedigreeFunction  Outcome   Glucose  BloodPressure  \\\n",
       "0            6                     0.627        1  0.919492      -0.032626   \n",
       "1            1                     0.351        0 -1.180205      -0.517127   \n",
       "2            8                     0.672        1  2.085991      -0.678627   \n",
       "3            1                     0.167        0 -1.046891      -0.517127   \n",
       "4            5                     0.201        0 -0.147021       0.128874   \n",
       "\n",
       "   SkinThickness   Insulin       BMI       Age  \n",
       "0       0.916757 -0.809316  0.189329  1.485404  \n",
       "1       0.527154 -0.809316 -0.839041 -0.184106  \n",
       "2      -1.355926 -0.809316 -1.323844 -0.096237  \n",
       "3       0.137551  0.233807 -0.618676 -1.062796  \n",
       "4      -1.355926 -0.809316 -0.985951 -0.271975  "
      ]
     },
     "execution_count": 116,
     "metadata": {},
     "output_type": "execute_result"
    }
   ],
   "source": [
    "df.head()"
   ]
  },
  {
   "cell_type": "code",
   "execution_count": 117,
   "id": "599c3574",
   "metadata": {},
   "outputs": [
    {
     "data": {
      "text/plain": [
       "Index(['Pregnancies', 'DiabetesPedigreeFunction', 'Outcome', 'Glucose',\n",
       "       'BloodPressure', 'SkinThickness', 'Insulin', 'BMI', 'Age'],\n",
       "      dtype='object')"
      ]
     },
     "execution_count": 117,
     "metadata": {},
     "output_type": "execute_result"
    }
   ],
   "source": [
    "df.columns"
   ]
  },
  {
   "cell_type": "code",
   "execution_count": 118,
   "id": "4b8ddc5f",
   "metadata": {},
   "outputs": [],
   "source": [
    "df=df[['Pregnancies', 'DiabetesPedigreeFunction', 'Glucose',\n",
    "       'BloodPressure', 'SkinThickness', 'Insulin', 'BMI', 'Age', 'Outcome']]"
   ]
  },
  {
   "cell_type": "code",
   "execution_count": 119,
   "id": "8f515ba1",
   "metadata": {},
   "outputs": [
    {
     "data": {
      "text/html": [
       "<div>\n",
       "<style scoped>\n",
       "    .dataframe tbody tr th:only-of-type {\n",
       "        vertical-align: middle;\n",
       "    }\n",
       "\n",
       "    .dataframe tbody tr th {\n",
       "        vertical-align: top;\n",
       "    }\n",
       "\n",
       "    .dataframe thead th {\n",
       "        text-align: right;\n",
       "    }\n",
       "</style>\n",
       "<table border=\"1\" class=\"dataframe\">\n",
       "  <thead>\n",
       "    <tr style=\"text-align: right;\">\n",
       "      <th></th>\n",
       "      <th>Pregnancies</th>\n",
       "      <th>DiabetesPedigreeFunction</th>\n",
       "      <th>Glucose</th>\n",
       "      <th>BloodPressure</th>\n",
       "      <th>SkinThickness</th>\n",
       "      <th>Insulin</th>\n",
       "      <th>BMI</th>\n",
       "      <th>Age</th>\n",
       "      <th>Outcome</th>\n",
       "    </tr>\n",
       "  </thead>\n",
       "  <tbody>\n",
       "    <tr>\n",
       "      <th>0</th>\n",
       "      <td>6</td>\n",
       "      <td>0.627</td>\n",
       "      <td>0.919492</td>\n",
       "      <td>-0.032626</td>\n",
       "      <td>0.916757</td>\n",
       "      <td>-0.809316</td>\n",
       "      <td>0.189329</td>\n",
       "      <td>1.485404</td>\n",
       "      <td>1</td>\n",
       "    </tr>\n",
       "    <tr>\n",
       "      <th>1</th>\n",
       "      <td>1</td>\n",
       "      <td>0.351</td>\n",
       "      <td>-1.180205</td>\n",
       "      <td>-0.517127</td>\n",
       "      <td>0.527154</td>\n",
       "      <td>-0.809316</td>\n",
       "      <td>-0.839041</td>\n",
       "      <td>-0.184106</td>\n",
       "      <td>0</td>\n",
       "    </tr>\n",
       "    <tr>\n",
       "      <th>2</th>\n",
       "      <td>8</td>\n",
       "      <td>0.672</td>\n",
       "      <td>2.085991</td>\n",
       "      <td>-0.678627</td>\n",
       "      <td>-1.355926</td>\n",
       "      <td>-0.809316</td>\n",
       "      <td>-1.323844</td>\n",
       "      <td>-0.096237</td>\n",
       "      <td>1</td>\n",
       "    </tr>\n",
       "    <tr>\n",
       "      <th>3</th>\n",
       "      <td>1</td>\n",
       "      <td>0.167</td>\n",
       "      <td>-1.046891</td>\n",
       "      <td>-0.517127</td>\n",
       "      <td>0.137551</td>\n",
       "      <td>0.233807</td>\n",
       "      <td>-0.618676</td>\n",
       "      <td>-1.062796</td>\n",
       "      <td>0</td>\n",
       "    </tr>\n",
       "    <tr>\n",
       "      <th>4</th>\n",
       "      <td>5</td>\n",
       "      <td>0.201</td>\n",
       "      <td>-0.147021</td>\n",
       "      <td>0.128874</td>\n",
       "      <td>-1.355926</td>\n",
       "      <td>-0.809316</td>\n",
       "      <td>-0.985951</td>\n",
       "      <td>-0.271975</td>\n",
       "      <td>0</td>\n",
       "    </tr>\n",
       "  </tbody>\n",
       "</table>\n",
       "</div>"
      ],
      "text/plain": [
       "   Pregnancies  DiabetesPedigreeFunction   Glucose  BloodPressure  \\\n",
       "0            6                     0.627  0.919492      -0.032626   \n",
       "1            1                     0.351 -1.180205      -0.517127   \n",
       "2            8                     0.672  2.085991      -0.678627   \n",
       "3            1                     0.167 -1.046891      -0.517127   \n",
       "4            5                     0.201 -0.147021       0.128874   \n",
       "\n",
       "   SkinThickness   Insulin       BMI       Age  Outcome  \n",
       "0       0.916757 -0.809316  0.189329  1.485404        1  \n",
       "1       0.527154 -0.809316 -0.839041 -0.184106        0  \n",
       "2      -1.355926 -0.809316 -1.323844 -0.096237        1  \n",
       "3       0.137551  0.233807 -0.618676 -1.062796        0  \n",
       "4      -1.355926 -0.809316 -0.985951 -0.271975        0  "
      ]
     },
     "execution_count": 119,
     "metadata": {},
     "output_type": "execute_result"
    }
   ],
   "source": [
    "df.head()"
   ]
  },
  {
   "cell_type": "code",
   "execution_count": 120,
   "id": "e905f39f",
   "metadata": {
    "scrolled": true
   },
   "outputs": [
    {
     "data": {
      "text/plain": [
       "Pregnancies                 0\n",
       "DiabetesPedigreeFunction    0\n",
       "Glucose                     0\n",
       "BloodPressure               0\n",
       "SkinThickness               0\n",
       "Insulin                     0\n",
       "BMI                         0\n",
       "Age                         0\n",
       "Outcome                     0\n",
       "dtype: int64"
      ]
     },
     "execution_count": 120,
     "metadata": {},
     "output_type": "execute_result"
    }
   ],
   "source": [
    "df.isnull().sum()"
   ]
  },
  {
   "cell_type": "code",
   "execution_count": null,
   "id": "698b5c81",
   "metadata": {},
   "outputs": [],
   "source": []
  },
  {
   "cell_type": "code",
   "execution_count": null,
   "id": "73890582",
   "metadata": {},
   "outputs": [],
   "source": []
  },
  {
   "cell_type": "code",
   "execution_count": null,
   "id": "3af3d652",
   "metadata": {},
   "outputs": [],
   "source": []
  },
  {
   "cell_type": "markdown",
   "id": "076b8e61",
   "metadata": {},
   "source": [
    "## Feature Selection\n",
    "##### (Using Embedd methods: SelectKBest , Feature Importance, Correlation Matrix"
   ]
  },
  {
   "cell_type": "markdown",
   "id": "c5f8808a",
   "metadata": {},
   "source": [
    "##### Via Correlation Matrix"
   ]
  },
  {
   "cell_type": "code",
   "execution_count": 121,
   "id": "7a313147",
   "metadata": {},
   "outputs": [
    {
     "data": {
      "text/html": [
       "<div>\n",
       "<style scoped>\n",
       "    .dataframe tbody tr th:only-of-type {\n",
       "        vertical-align: middle;\n",
       "    }\n",
       "\n",
       "    .dataframe tbody tr th {\n",
       "        vertical-align: top;\n",
       "    }\n",
       "\n",
       "    .dataframe thead th {\n",
       "        text-align: right;\n",
       "    }\n",
       "</style>\n",
       "<table border=\"1\" class=\"dataframe\">\n",
       "  <thead>\n",
       "    <tr style=\"text-align: right;\">\n",
       "      <th></th>\n",
       "      <th>Pregnancies</th>\n",
       "      <th>DiabetesPedigreeFunction</th>\n",
       "      <th>Glucose</th>\n",
       "      <th>BloodPressure</th>\n",
       "      <th>SkinThickness</th>\n",
       "      <th>Insulin</th>\n",
       "      <th>BMI</th>\n",
       "      <th>Age</th>\n",
       "      <th>Outcome</th>\n",
       "    </tr>\n",
       "  </thead>\n",
       "  <tbody>\n",
       "    <tr>\n",
       "      <th>Pregnancies</th>\n",
       "      <td>1.000000</td>\n",
       "      <td>0.020674</td>\n",
       "      <td>0.164805</td>\n",
       "      <td>0.210796</td>\n",
       "      <td>-0.084177</td>\n",
       "      <td>-0.075878</td>\n",
       "      <td>0.041342</td>\n",
       "      <td>0.571566</td>\n",
       "      <td>0.243048</td>\n",
       "    </tr>\n",
       "    <tr>\n",
       "      <th>DiabetesPedigreeFunction</th>\n",
       "      <td>0.020674</td>\n",
       "      <td>1.000000</td>\n",
       "      <td>0.102328</td>\n",
       "      <td>0.036145</td>\n",
       "      <td>0.152156</td>\n",
       "      <td>0.180619</td>\n",
       "      <td>0.118748</td>\n",
       "      <td>0.065127</td>\n",
       "      <td>0.201073</td>\n",
       "    </tr>\n",
       "    <tr>\n",
       "      <th>Glucose</th>\n",
       "      <td>0.164805</td>\n",
       "      <td>0.102328</td>\n",
       "      <td>1.000000</td>\n",
       "      <td>0.235081</td>\n",
       "      <td>0.013284</td>\n",
       "      <td>0.269023</td>\n",
       "      <td>0.195496</td>\n",
       "      <td>0.266928</td>\n",
       "      <td>0.480673</td>\n",
       "    </tr>\n",
       "    <tr>\n",
       "      <th>BloodPressure</th>\n",
       "      <td>0.210796</td>\n",
       "      <td>0.036145</td>\n",
       "      <td>0.235081</td>\n",
       "      <td>1.000000</td>\n",
       "      <td>0.013091</td>\n",
       "      <td>-0.058056</td>\n",
       "      <td>0.298324</td>\n",
       "      <td>0.340656</td>\n",
       "      <td>0.183523</td>\n",
       "    </tr>\n",
       "    <tr>\n",
       "      <th>SkinThickness</th>\n",
       "      <td>-0.084177</td>\n",
       "      <td>0.152156</td>\n",
       "      <td>0.013284</td>\n",
       "      <td>0.013091</td>\n",
       "      <td>1.000000</td>\n",
       "      <td>0.464477</td>\n",
       "      <td>0.391089</td>\n",
       "      <td>-0.151305</td>\n",
       "      <td>0.065612</td>\n",
       "    </tr>\n",
       "    <tr>\n",
       "      <th>Insulin</th>\n",
       "      <td>-0.075878</td>\n",
       "      <td>0.180619</td>\n",
       "      <td>0.269023</td>\n",
       "      <td>-0.058056</td>\n",
       "      <td>0.464477</td>\n",
       "      <td>1.000000</td>\n",
       "      <td>0.176589</td>\n",
       "      <td>-0.079700</td>\n",
       "      <td>0.111402</td>\n",
       "    </tr>\n",
       "    <tr>\n",
       "      <th>BMI</th>\n",
       "      <td>0.041342</td>\n",
       "      <td>0.118748</td>\n",
       "      <td>0.195496</td>\n",
       "      <td>0.298324</td>\n",
       "      <td>0.391089</td>\n",
       "      <td>0.176589</td>\n",
       "      <td>1.000000</td>\n",
       "      <td>0.052393</td>\n",
       "      <td>0.300207</td>\n",
       "    </tr>\n",
       "    <tr>\n",
       "      <th>Age</th>\n",
       "      <td>0.571566</td>\n",
       "      <td>0.065127</td>\n",
       "      <td>0.266928</td>\n",
       "      <td>0.340656</td>\n",
       "      <td>-0.151305</td>\n",
       "      <td>-0.079700</td>\n",
       "      <td>0.052393</td>\n",
       "      <td>1.000000</td>\n",
       "      <td>0.253880</td>\n",
       "    </tr>\n",
       "    <tr>\n",
       "      <th>Outcome</th>\n",
       "      <td>0.243048</td>\n",
       "      <td>0.201073</td>\n",
       "      <td>0.480673</td>\n",
       "      <td>0.183523</td>\n",
       "      <td>0.065612</td>\n",
       "      <td>0.111402</td>\n",
       "      <td>0.300207</td>\n",
       "      <td>0.253880</td>\n",
       "      <td>1.000000</td>\n",
       "    </tr>\n",
       "  </tbody>\n",
       "</table>\n",
       "</div>"
      ],
      "text/plain": [
       "                          Pregnancies  DiabetesPedigreeFunction   Glucose  \\\n",
       "Pregnancies                  1.000000                  0.020674  0.164805   \n",
       "DiabetesPedigreeFunction     0.020674                  1.000000  0.102328   \n",
       "Glucose                      0.164805                  0.102328  1.000000   \n",
       "BloodPressure                0.210796                  0.036145  0.235081   \n",
       "SkinThickness               -0.084177                  0.152156  0.013284   \n",
       "Insulin                     -0.075878                  0.180619  0.269023   \n",
       "BMI                          0.041342                  0.118748  0.195496   \n",
       "Age                          0.571566                  0.065127  0.266928   \n",
       "Outcome                      0.243048                  0.201073  0.480673   \n",
       "\n",
       "                          BloodPressure  SkinThickness   Insulin       BMI  \\\n",
       "Pregnancies                    0.210796      -0.084177 -0.075878  0.041342   \n",
       "DiabetesPedigreeFunction       0.036145       0.152156  0.180619  0.118748   \n",
       "Glucose                        0.235081       0.013284  0.269023  0.195496   \n",
       "BloodPressure                  1.000000       0.013091 -0.058056  0.298324   \n",
       "SkinThickness                  0.013091       1.000000  0.464477  0.391089   \n",
       "Insulin                       -0.058056       0.464477  1.000000  0.176589   \n",
       "BMI                            0.298324       0.391089  0.176589  1.000000   \n",
       "Age                            0.340656      -0.151305 -0.079700  0.052393   \n",
       "Outcome                        0.183523       0.065612  0.111402  0.300207   \n",
       "\n",
       "                               Age   Outcome  \n",
       "Pregnancies               0.571566  0.243048  \n",
       "DiabetesPedigreeFunction  0.065127  0.201073  \n",
       "Glucose                   0.266928  0.480673  \n",
       "BloodPressure             0.340656  0.183523  \n",
       "SkinThickness            -0.151305  0.065612  \n",
       "Insulin                  -0.079700  0.111402  \n",
       "BMI                       0.052393  0.300207  \n",
       "Age                       1.000000  0.253880  \n",
       "Outcome                   0.253880  1.000000  "
      ]
     },
     "execution_count": 121,
     "metadata": {},
     "output_type": "execute_result"
    }
   ],
   "source": [
    "df.corr()"
   ]
  },
  {
   "cell_type": "code",
   "execution_count": 122,
   "id": "ec04714b",
   "metadata": {
    "scrolled": true
   },
   "outputs": [
    {
     "data": {
      "image/png": "[encoded data removed]",
      "text/plain": [
       "<Figure size 720x720 with 2 Axes>"
      ]
     },
     "metadata": {
      "needs_background": "light"
     },
     "output_type": "display_data"
    }
   ],
   "source": [
    "plt.figure(figsize=(10,10))\n",
    "sns.heatmap(df.corr(),linewidths=2,annot=True,cmap=\"RdYlGn\")\n",
    "plt.show()"
   ]
  },
  {
   "cell_type": "code",
   "execution_count": 123,
   "id": "4ed582ff",
   "metadata": {},
   "outputs": [],
   "source": [
    "#Threshold: 0.90\n",
    "#However max correlaion between independent variables is only 0.54"
   ]
  },
  {
   "cell_type": "markdown",
   "id": "d4571b0d",
   "metadata": {},
   "source": [
    "CONCLUSION: No Features could be filtered from this method"
   ]
  },
  {
   "cell_type": "markdown",
   "id": "73e72b05",
   "metadata": {},
   "source": [
    "#### Feature Importance (used for finding relation between features and labels)"
   ]
  },
  {
   "cell_type": "code",
   "execution_count": 124,
   "id": "a083f422",
   "metadata": {},
   "outputs": [
    {
     "data": {
      "text/plain": [
       "'x=df[[\\'Pregnancies\\', \\'DiabetesPedigreeFunction\\', \\'Glucose\\',\\n       \\'BloodPressure\\', \\'SkinThickness\\', \\'Insulin\\', \\'BMI\\', \\'Age\\']]\\nY=df[[\"Outcome\"]]'"
      ]
     },
     "execution_count": 124,
     "metadata": {},
     "output_type": "execute_result"
    }
   ],
   "source": [
    "'''x=df[['Pregnancies', 'DiabetesPedigreeFunction', 'Glucose',\n",
    "       'BloodPressure', 'SkinThickness', 'Insulin', 'BMI', 'Age']]\n",
    "Y=df[[\"Outcome\"]]'''"
   ]
  },
  {
   "cell_type": "code",
   "execution_count": 125,
   "id": "fbb78d59",
   "metadata": {},
   "outputs": [
    {
     "data": {
      "text/plain": [
       "'from sklearn.ensemble import ExtraTreesRegressor\\nselection=ExtraTreesRegressor()\\nselection.fit(x,Y)'"
      ]
     },
     "execution_count": 125,
     "metadata": {},
     "output_type": "execute_result"
    }
   ],
   "source": [
    "'''from sklearn.ensemble import ExtraTreesRegressor\n",
    "selection=ExtraTreesRegressor()\n",
    "selection.fit(x,Y)'''"
   ]
  },
  {
   "cell_type": "code",
   "execution_count": 126,
   "id": "1e62a12b",
   "metadata": {},
   "outputs": [
    {
     "data": {
      "text/plain": [
       "'election.feature_importances_  #relation of corresponding independent variable to label'"
      ]
     },
     "execution_count": 126,
     "metadata": {},
     "output_type": "execute_result"
    }
   ],
   "source": [
    "'''election.feature_importances_  #relation of corresponding independent variable to label'''"
   ]
  },
  {
   "cell_type": "code",
   "execution_count": 127,
   "id": "4474c6cb",
   "metadata": {},
   "outputs": [
    {
     "data": {
      "text/plain": [
       "'#plot graph of feature importances for better visualization\\nplt.figure(figsize=(12,8))\\nfeature_importance=pd.Series(selection.feature_importances_,index=x.columns)\\nfeature_importance.nlargest(40).plot(kind=\"barh\")\\nplt.show()'"
      ]
     },
     "execution_count": 127,
     "metadata": {},
     "output_type": "execute_result"
    }
   ],
   "source": [
    "'''#plot graph of feature importances for better visualization\n",
    "plt.figure(figsize=(12,8))\n",
    "feature_importance=pd.Series(selection.feature_importances_,index=x.columns)\n",
    "feature_importance.nlargest(40).plot(kind=\"barh\")\n",
    "plt.show()'''"
   ]
  },
  {
   "cell_type": "code",
   "execution_count": 128,
   "id": "59dfbfd5",
   "metadata": {},
   "outputs": [
    {
     "data": {
      "text/plain": [
       "\"\\nObservations: SkinThickness is the least correlated with label.However, the relatively weakest relation is still ok in logical \\nterms. Also, based on the study of data there isn't any dire need for reducing the number of independent features.\\nTherefore, no feature will be filtered out\\n\""
      ]
     },
     "execution_count": 128,
     "metadata": {},
     "output_type": "execute_result"
    }
   ],
   "source": [
    "'''\n",
    "Observations: SkinThickness is the least correlated with label.However, the relatively weakest relation is still ok in logical \n",
    "terms. Also, based on the study of data there isn't any dire need for reducing the number of independent features.\n",
    "Therefore, no feature will be filtered out\n",
    "'''"
   ]
  },
  {
   "cell_type": "markdown",
   "id": "eae40467",
   "metadata": {},
   "source": [
    "#### SelectKBest\n",
    "### Can only be used when for scaling down the discreate values we use normalization(i.e Min-Max Scaler). So, use it in deep learning\n",
    "###### (Used when we want to take only those k number of features which are the most related with label)"
   ]
  },
  {
   "cell_type": "markdown",
   "id": "3cac7d35",
   "metadata": {},
   "source": []
  },
  {
   "cell_type": "markdown",
   "id": "5790304b",
   "metadata": {},
   "source": [
    "# Modal Building"
   ]
  },
  {
   "cell_type": "code",
   "execution_count": 129,
   "id": "33a8cb5a",
   "metadata": {},
   "outputs": [],
   "source": [
    "x=df.drop(\"Outcome\",axis=1).values\n",
    "Y=df[\"Outcome\"].values"
   ]
  },
  {
   "cell_type": "code",
   "execution_count": null,
   "id": "97e7cf1c",
   "metadata": {},
   "outputs": [],
   "source": []
  },
  {
   "cell_type": "code",
   "execution_count": 130,
   "id": "bb8f895a",
   "metadata": {},
   "outputs": [],
   "source": [
    "df_t=pd.read_csv(\"diabetes_test.csv\")"
   ]
  },
  {
   "cell_type": "code",
   "execution_count": 131,
   "id": "c5a10e25",
   "metadata": {},
   "outputs": [
    {
     "data": {
      "text/html": [
       "<div>\n",
       "<style scoped>\n",
       "    .dataframe tbody tr th:only-of-type {\n",
       "        vertical-align: middle;\n",
       "    }\n",
       "\n",
       "    .dataframe tbody tr th {\n",
       "        vertical-align: top;\n",
       "    }\n",
       "\n",
       "    .dataframe thead th {\n",
       "        text-align: right;\n",
       "    }\n",
       "</style>\n",
       "<table border=\"1\" class=\"dataframe\">\n",
       "  <thead>\n",
       "    <tr style=\"text-align: right;\">\n",
       "      <th></th>\n",
       "      <th>Unnamed: 0</th>\n",
       "      <th>Pregnancies</th>\n",
       "      <th>Glucose</th>\n",
       "      <th>BloodPressure</th>\n",
       "      <th>SkinThickness</th>\n",
       "      <th>Insulin</th>\n",
       "      <th>BMI</th>\n",
       "      <th>DiabetesPedigreeFunction</th>\n",
       "      <th>Age</th>\n",
       "      <th>Outcome</th>\n",
       "    </tr>\n",
       "  </thead>\n",
       "  <tbody>\n",
       "    <tr>\n",
       "      <th>0</th>\n",
       "      <td>423</td>\n",
       "      <td>2</td>\n",
       "      <td>115</td>\n",
       "      <td>64</td>\n",
       "      <td>22</td>\n",
       "      <td>0</td>\n",
       "      <td>30.8</td>\n",
       "      <td>0.421</td>\n",
       "      <td>21</td>\n",
       "      <td>0</td>\n",
       "    </tr>\n",
       "    <tr>\n",
       "      <th>1</th>\n",
       "      <td>739</td>\n",
       "      <td>1</td>\n",
       "      <td>102</td>\n",
       "      <td>74</td>\n",
       "      <td>0</td>\n",
       "      <td>0</td>\n",
       "      <td>39.5</td>\n",
       "      <td>0.293</td>\n",
       "      <td>42</td>\n",
       "      <td>1</td>\n",
       "    </tr>\n",
       "    <tr>\n",
       "      <th>2</th>\n",
       "      <td>287</td>\n",
       "      <td>1</td>\n",
       "      <td>119</td>\n",
       "      <td>86</td>\n",
       "      <td>39</td>\n",
       "      <td>220</td>\n",
       "      <td>45.6</td>\n",
       "      <td>0.808</td>\n",
       "      <td>29</td>\n",
       "      <td>1</td>\n",
       "    </tr>\n",
       "    <tr>\n",
       "      <th>3</th>\n",
       "      <td>377</td>\n",
       "      <td>1</td>\n",
       "      <td>87</td>\n",
       "      <td>60</td>\n",
       "      <td>37</td>\n",
       "      <td>75</td>\n",
       "      <td>37.2</td>\n",
       "      <td>0.509</td>\n",
       "      <td>22</td>\n",
       "      <td>0</td>\n",
       "    </tr>\n",
       "    <tr>\n",
       "      <th>4</th>\n",
       "      <td>355</td>\n",
       "      <td>9</td>\n",
       "      <td>165</td>\n",
       "      <td>88</td>\n",
       "      <td>0</td>\n",
       "      <td>0</td>\n",
       "      <td>30.4</td>\n",
       "      <td>0.302</td>\n",
       "      <td>49</td>\n",
       "      <td>1</td>\n",
       "    </tr>\n",
       "  </tbody>\n",
       "</table>\n",
       "</div>"
      ],
      "text/plain": [
       "   Unnamed: 0  Pregnancies  Glucose  BloodPressure  SkinThickness  Insulin  \\\n",
       "0         423            2      115             64             22        0   \n",
       "1         739            1      102             74              0        0   \n",
       "2         287            1      119             86             39      220   \n",
       "3         377            1       87             60             37       75   \n",
       "4         355            9      165             88              0        0   \n",
       "\n",
       "    BMI  DiabetesPedigreeFunction  Age  Outcome  \n",
       "0  30.8                     0.421   21        0  \n",
       "1  39.5                     0.293   42        1  \n",
       "2  45.6                     0.808   29        1  \n",
       "3  37.2                     0.509   22        0  \n",
       "4  30.4                     0.302   49        1  "
      ]
     },
     "execution_count": 131,
     "metadata": {},
     "output_type": "execute_result"
    }
   ],
   "source": [
    "df_t.head()"
   ]
  },
  {
   "cell_type": "code",
   "execution_count": 132,
   "id": "94923fe9",
   "metadata": {},
   "outputs": [
    {
     "data": {
      "text/plain": [
       "Index(['Unnamed: 0', 'Pregnancies', 'Glucose', 'BloodPressure',\n",
       "       'SkinThickness', 'Insulin', 'BMI', 'DiabetesPedigreeFunction', 'Age',\n",
       "       'Outcome'],\n",
       "      dtype='object')"
      ]
     },
     "execution_count": 132,
     "metadata": {},
     "output_type": "execute_result"
    }
   ],
   "source": [
    "df_t.columns"
   ]
  },
  {
   "cell_type": "markdown",
   "id": "ba5bb510",
   "metadata": {},
   "source": [
    "### Preprocessing test data"
   ]
  },
  {
   "cell_type": "code",
   "execution_count": 133,
   "id": "dab79d93",
   "metadata": {},
   "outputs": [],
   "source": [
    "df_t=df_t[['Pregnancies', 'Glucose', 'BloodPressure',\n",
    "       'SkinThickness', 'Insulin', 'BMI', 'DiabetesPedigreeFunction', 'Age',\n",
    "       'Outcome']]"
   ]
  },
  {
   "cell_type": "code",
   "execution_count": 134,
   "id": "6bc08089",
   "metadata": {},
   "outputs": [
    {
     "data": {
      "text/html": [
       "<div>\n",
       "<style scoped>\n",
       "    .dataframe tbody tr th:only-of-type {\n",
       "        vertical-align: middle;\n",
       "    }\n",
       "\n",
       "    .dataframe tbody tr th {\n",
       "        vertical-align: top;\n",
       "    }\n",
       "\n",
       "    .dataframe thead th {\n",
       "        text-align: right;\n",
       "    }\n",
       "</style>\n",
       "<table border=\"1\" class=\"dataframe\">\n",
       "  <thead>\n",
       "    <tr style=\"text-align: right;\">\n",
       "      <th></th>\n",
       "      <th>Pregnancies</th>\n",
       "      <th>Glucose</th>\n",
       "      <th>BloodPressure</th>\n",
       "      <th>SkinThickness</th>\n",
       "      <th>Insulin</th>\n",
       "      <th>BMI</th>\n",
       "      <th>DiabetesPedigreeFunction</th>\n",
       "      <th>Age</th>\n",
       "      <th>Outcome</th>\n",
       "    </tr>\n",
       "  </thead>\n",
       "  <tbody>\n",
       "    <tr>\n",
       "      <th>0</th>\n",
       "      <td>2</td>\n",
       "      <td>115</td>\n",
       "      <td>64</td>\n",
       "      <td>22</td>\n",
       "      <td>0</td>\n",
       "      <td>30.8</td>\n",
       "      <td>0.421</td>\n",
       "      <td>21</td>\n",
       "      <td>0</td>\n",
       "    </tr>\n",
       "    <tr>\n",
       "      <th>1</th>\n",
       "      <td>1</td>\n",
       "      <td>102</td>\n",
       "      <td>74</td>\n",
       "      <td>0</td>\n",
       "      <td>0</td>\n",
       "      <td>39.5</td>\n",
       "      <td>0.293</td>\n",
       "      <td>42</td>\n",
       "      <td>1</td>\n",
       "    </tr>\n",
       "    <tr>\n",
       "      <th>2</th>\n",
       "      <td>1</td>\n",
       "      <td>119</td>\n",
       "      <td>86</td>\n",
       "      <td>39</td>\n",
       "      <td>220</td>\n",
       "      <td>45.6</td>\n",
       "      <td>0.808</td>\n",
       "      <td>29</td>\n",
       "      <td>1</td>\n",
       "    </tr>\n",
       "    <tr>\n",
       "      <th>3</th>\n",
       "      <td>1</td>\n",
       "      <td>87</td>\n",
       "      <td>60</td>\n",
       "      <td>37</td>\n",
       "      <td>75</td>\n",
       "      <td>37.2</td>\n",
       "      <td>0.509</td>\n",
       "      <td>22</td>\n",
       "      <td>0</td>\n",
       "    </tr>\n",
       "    <tr>\n",
       "      <th>4</th>\n",
       "      <td>9</td>\n",
       "      <td>165</td>\n",
       "      <td>88</td>\n",
       "      <td>0</td>\n",
       "      <td>0</td>\n",
       "      <td>30.4</td>\n",
       "      <td>0.302</td>\n",
       "      <td>49</td>\n",
       "      <td>1</td>\n",
       "    </tr>\n",
       "  </tbody>\n",
       "</table>\n",
       "</div>"
      ],
      "text/plain": [
       "   Pregnancies  Glucose  BloodPressure  SkinThickness  Insulin   BMI  \\\n",
       "0            2      115             64             22        0  30.8   \n",
       "1            1      102             74              0        0  39.5   \n",
       "2            1      119             86             39      220  45.6   \n",
       "3            1       87             60             37       75  37.2   \n",
       "4            9      165             88              0        0  30.4   \n",
       "\n",
       "   DiabetesPedigreeFunction  Age  Outcome  \n",
       "0                     0.421   21        0  \n",
       "1                     0.293   42        1  \n",
       "2                     0.808   29        1  \n",
       "3                     0.509   22        0  \n",
       "4                     0.302   49        1  "
      ]
     },
     "execution_count": 134,
     "metadata": {},
     "output_type": "execute_result"
    }
   ],
   "source": [
    "df_t.head()"
   ]
  },
  {
   "cell_type": "code",
   "execution_count": 135,
   "id": "8f4244f1",
   "metadata": {},
   "outputs": [],
   "source": [
    "# Feature Scaling\n",
    "#scaling down: glucose, blood pressure, SkinThickness, Insulin, BMI, Age"
   ]
  },
  {
   "cell_type": "code",
   "execution_count": 136,
   "id": "b301ed39",
   "metadata": {},
   "outputs": [],
   "source": [
    "from sklearn.preprocessing import StandardScaler\n",
    "scale=StandardScaler()\n",
    "scaled_down_=scale.fit_transform(df_t[['Glucose', 'BloodPressure',\n",
    "       'SkinThickness', 'Insulin', 'BMI','Age',\n",
    "       ]])"
   ]
  },
  {
   "cell_type": "code",
   "execution_count": 137,
   "id": "511c6a50",
   "metadata": {},
   "outputs": [],
   "source": [
    "df_ss=pd.DataFrame(scaled_down_)"
   ]
  },
  {
   "cell_type": "code",
   "execution_count": 138,
   "id": "a35fa0f8",
   "metadata": {},
   "outputs": [],
   "source": [
    "df_ss.columns=['Glucose', 'BloodPressure',\n",
    "       'SkinThickness', 'Insulin', 'BMI','Age']"
   ]
  },
  {
   "cell_type": "code",
   "execution_count": 139,
   "id": "9d43d06c",
   "metadata": {},
   "outputs": [
    {
     "data": {
      "text/html": [
       "<div>\n",
       "<style scoped>\n",
       "    .dataframe tbody tr th:only-of-type {\n",
       "        vertical-align: middle;\n",
       "    }\n",
       "\n",
       "    .dataframe tbody tr th {\n",
       "        vertical-align: top;\n",
       "    }\n",
       "\n",
       "    .dataframe thead th {\n",
       "        text-align: right;\n",
       "    }\n",
       "</style>\n",
       "<table border=\"1\" class=\"dataframe\">\n",
       "  <thead>\n",
       "    <tr style=\"text-align: right;\">\n",
       "      <th></th>\n",
       "      <th>Glucose</th>\n",
       "      <th>BloodPressure</th>\n",
       "      <th>SkinThickness</th>\n",
       "      <th>Insulin</th>\n",
       "      <th>BMI</th>\n",
       "      <th>Age</th>\n",
       "    </tr>\n",
       "  </thead>\n",
       "  <tbody>\n",
       "    <tr>\n",
       "      <th>0</th>\n",
       "      <td>-0.169122</td>\n",
       "      <td>-0.843624</td>\n",
       "      <td>0.059243</td>\n",
       "      <td>-0.768879</td>\n",
       "      <td>-0.262018</td>\n",
       "      <td>-1.178567</td>\n",
       "    </tr>\n",
       "    <tr>\n",
       "      <th>1</th>\n",
       "      <td>-0.598339</td>\n",
       "      <td>0.061189</td>\n",
       "      <td>-1.282715</td>\n",
       "      <td>-0.768879</td>\n",
       "      <td>1.020810</td>\n",
       "      <td>0.517802</td>\n",
       "    </tr>\n",
       "    <tr>\n",
       "      <th>2</th>\n",
       "      <td>-0.037055</td>\n",
       "      <td>1.146964</td>\n",
       "      <td>1.096210</td>\n",
       "      <td>1.686459</td>\n",
       "      <td>1.920265</td>\n",
       "      <td>-0.532331</td>\n",
       "    </tr>\n",
       "    <tr>\n",
       "      <th>3</th>\n",
       "      <td>-1.093589</td>\n",
       "      <td>-1.205549</td>\n",
       "      <td>0.974214</td>\n",
       "      <td>0.068168</td>\n",
       "      <td>0.681672</td>\n",
       "      <td>-1.097787</td>\n",
       "    </tr>\n",
       "    <tr>\n",
       "      <th>4</th>\n",
       "      <td>1.481714</td>\n",
       "      <td>1.327926</td>\n",
       "      <td>-1.282715</td>\n",
       "      <td>-0.768879</td>\n",
       "      <td>-0.320999</td>\n",
       "      <td>1.083259</td>\n",
       "    </tr>\n",
       "  </tbody>\n",
       "</table>\n",
       "</div>"
      ],
      "text/plain": [
       "    Glucose  BloodPressure  SkinThickness   Insulin       BMI       Age\n",
       "0 -0.169122      -0.843624       0.059243 -0.768879 -0.262018 -1.178567\n",
       "1 -0.598339       0.061189      -1.282715 -0.768879  1.020810  0.517802\n",
       "2 -0.037055       1.146964       1.096210  1.686459  1.920265 -0.532331\n",
       "3 -1.093589      -1.205549       0.974214  0.068168  0.681672 -1.097787\n",
       "4  1.481714       1.327926      -1.282715 -0.768879 -0.320999  1.083259"
      ]
     },
     "execution_count": 139,
     "metadata": {},
     "output_type": "execute_result"
    }
   ],
   "source": [
    "df_ss.head()"
   ]
  },
  {
   "cell_type": "code",
   "execution_count": 140,
   "id": "86056e02",
   "metadata": {},
   "outputs": [],
   "source": [
    "df_t=df_t.drop(df_t[['Glucose', 'BloodPressure',\n",
    "       'SkinThickness', 'Insulin', 'BMI','Age']],axis=1)"
   ]
  },
  {
   "cell_type": "code",
   "execution_count": null,
   "id": "ec1a6d68",
   "metadata": {},
   "outputs": [],
   "source": []
  },
  {
   "cell_type": "code",
   "execution_count": 141,
   "id": "f8ad8cf5",
   "metadata": {},
   "outputs": [],
   "source": [
    "df_t=pd.concat([df_t,df_ss],axis=1)"
   ]
  },
  {
   "cell_type": "code",
   "execution_count": 142,
   "id": "55394561",
   "metadata": {},
   "outputs": [
    {
     "data": {
      "text/html": [
       "<div>\n",
       "<style scoped>\n",
       "    .dataframe tbody tr th:only-of-type {\n",
       "        vertical-align: middle;\n",
       "    }\n",
       "\n",
       "    .dataframe tbody tr th {\n",
       "        vertical-align: top;\n",
       "    }\n",
       "\n",
       "    .dataframe thead th {\n",
       "        text-align: right;\n",
       "    }\n",
       "</style>\n",
       "<table border=\"1\" class=\"dataframe\">\n",
       "  <thead>\n",
       "    <tr style=\"text-align: right;\">\n",
       "      <th></th>\n",
       "      <th>Pregnancies</th>\n",
       "      <th>DiabetesPedigreeFunction</th>\n",
       "      <th>Outcome</th>\n",
       "      <th>Glucose</th>\n",
       "      <th>BloodPressure</th>\n",
       "      <th>SkinThickness</th>\n",
       "      <th>Insulin</th>\n",
       "      <th>BMI</th>\n",
       "      <th>Age</th>\n",
       "    </tr>\n",
       "  </thead>\n",
       "  <tbody>\n",
       "    <tr>\n",
       "      <th>0</th>\n",
       "      <td>2</td>\n",
       "      <td>0.421</td>\n",
       "      <td>0</td>\n",
       "      <td>-0.169122</td>\n",
       "      <td>-0.843624</td>\n",
       "      <td>0.059243</td>\n",
       "      <td>-0.768879</td>\n",
       "      <td>-0.262018</td>\n",
       "      <td>-1.178567</td>\n",
       "    </tr>\n",
       "    <tr>\n",
       "      <th>1</th>\n",
       "      <td>1</td>\n",
       "      <td>0.293</td>\n",
       "      <td>1</td>\n",
       "      <td>-0.598339</td>\n",
       "      <td>0.061189</td>\n",
       "      <td>-1.282715</td>\n",
       "      <td>-0.768879</td>\n",
       "      <td>1.020810</td>\n",
       "      <td>0.517802</td>\n",
       "    </tr>\n",
       "    <tr>\n",
       "      <th>2</th>\n",
       "      <td>1</td>\n",
       "      <td>0.808</td>\n",
       "      <td>1</td>\n",
       "      <td>-0.037055</td>\n",
       "      <td>1.146964</td>\n",
       "      <td>1.096210</td>\n",
       "      <td>1.686459</td>\n",
       "      <td>1.920265</td>\n",
       "      <td>-0.532331</td>\n",
       "    </tr>\n",
       "    <tr>\n",
       "      <th>3</th>\n",
       "      <td>1</td>\n",
       "      <td>0.509</td>\n",
       "      <td>0</td>\n",
       "      <td>-1.093589</td>\n",
       "      <td>-1.205549</td>\n",
       "      <td>0.974214</td>\n",
       "      <td>0.068168</td>\n",
       "      <td>0.681672</td>\n",
       "      <td>-1.097787</td>\n",
       "    </tr>\n",
       "    <tr>\n",
       "      <th>4</th>\n",
       "      <td>9</td>\n",
       "      <td>0.302</td>\n",
       "      <td>1</td>\n",
       "      <td>1.481714</td>\n",
       "      <td>1.327926</td>\n",
       "      <td>-1.282715</td>\n",
       "      <td>-0.768879</td>\n",
       "      <td>-0.320999</td>\n",
       "      <td>1.083259</td>\n",
       "    </tr>\n",
       "  </tbody>\n",
       "</table>\n",
       "</div>"
      ],
      "text/plain": [
       "   Pregnancies  DiabetesPedigreeFunction  Outcome   Glucose  BloodPressure  \\\n",
       "0            2                     0.421        0 -0.169122      -0.843624   \n",
       "1            1                     0.293        1 -0.598339       0.061189   \n",
       "2            1                     0.808        1 -0.037055       1.146964   \n",
       "3            1                     0.509        0 -1.093589      -1.205549   \n",
       "4            9                     0.302        1  1.481714       1.327926   \n",
       "\n",
       "   SkinThickness   Insulin       BMI       Age  \n",
       "0       0.059243 -0.768879 -0.262018 -1.178567  \n",
       "1      -1.282715 -0.768879  1.020810  0.517802  \n",
       "2       1.096210  1.686459  1.920265 -0.532331  \n",
       "3       0.974214  0.068168  0.681672 -1.097787  \n",
       "4      -1.282715 -0.768879 -0.320999  1.083259  "
      ]
     },
     "execution_count": 142,
     "metadata": {},
     "output_type": "execute_result"
    }
   ],
   "source": [
    "df_t.head()"
   ]
  },
  {
   "cell_type": "code",
   "execution_count": 143,
   "id": "9b56fc4a",
   "metadata": {},
   "outputs": [
    {
     "data": {
      "text/plain": [
       "Pregnancies                 0\n",
       "DiabetesPedigreeFunction    0\n",
       "Outcome                     0\n",
       "Glucose                     0\n",
       "BloodPressure               0\n",
       "SkinThickness               0\n",
       "Insulin                     0\n",
       "BMI                         0\n",
       "Age                         0\n",
       "dtype: int64"
      ]
     },
     "execution_count": 143,
     "metadata": {},
     "output_type": "execute_result"
    }
   ],
   "source": [
    "df_t.isnull().sum()"
   ]
  },
  {
   "cell_type": "code",
   "execution_count": 144,
   "id": "5ae7966b",
   "metadata": {},
   "outputs": [],
   "source": [
    "df_t=df_t[['Pregnancies', 'DiabetesPedigreeFunction', 'Glucose', 'BloodPressure',\n",
    "       'SkinThickness', 'Insulin', 'BMI', 'Age', 'Outcome']]"
   ]
  },
  {
   "cell_type": "code",
   "execution_count": 145,
   "id": "233f8534",
   "metadata": {},
   "outputs": [
    {
     "data": {
      "text/html": [
       "<div>\n",
       "<style scoped>\n",
       "    .dataframe tbody tr th:only-of-type {\n",
       "        vertical-align: middle;\n",
       "    }\n",
       "\n",
       "    .dataframe tbody tr th {\n",
       "        vertical-align: top;\n",
       "    }\n",
       "\n",
       "    .dataframe thead th {\n",
       "        text-align: right;\n",
       "    }\n",
       "</style>\n",
       "<table border=\"1\" class=\"dataframe\">\n",
       "  <thead>\n",
       "    <tr style=\"text-align: right;\">\n",
       "      <th></th>\n",
       "      <th>Pregnancies</th>\n",
       "      <th>DiabetesPedigreeFunction</th>\n",
       "      <th>Glucose</th>\n",
       "      <th>BloodPressure</th>\n",
       "      <th>SkinThickness</th>\n",
       "      <th>Insulin</th>\n",
       "      <th>BMI</th>\n",
       "      <th>Age</th>\n",
       "      <th>Outcome</th>\n",
       "    </tr>\n",
       "  </thead>\n",
       "  <tbody>\n",
       "    <tr>\n",
       "      <th>0</th>\n",
       "      <td>6</td>\n",
       "      <td>0.627</td>\n",
       "      <td>0.919492</td>\n",
       "      <td>-0.032626</td>\n",
       "      <td>0.916757</td>\n",
       "      <td>-0.809316</td>\n",
       "      <td>0.189329</td>\n",
       "      <td>1.485404</td>\n",
       "      <td>1</td>\n",
       "    </tr>\n",
       "    <tr>\n",
       "      <th>1</th>\n",
       "      <td>1</td>\n",
       "      <td>0.351</td>\n",
       "      <td>-1.180205</td>\n",
       "      <td>-0.517127</td>\n",
       "      <td>0.527154</td>\n",
       "      <td>-0.809316</td>\n",
       "      <td>-0.839041</td>\n",
       "      <td>-0.184106</td>\n",
       "      <td>0</td>\n",
       "    </tr>\n",
       "    <tr>\n",
       "      <th>2</th>\n",
       "      <td>8</td>\n",
       "      <td>0.672</td>\n",
       "      <td>2.085991</td>\n",
       "      <td>-0.678627</td>\n",
       "      <td>-1.355926</td>\n",
       "      <td>-0.809316</td>\n",
       "      <td>-1.323844</td>\n",
       "      <td>-0.096237</td>\n",
       "      <td>1</td>\n",
       "    </tr>\n",
       "    <tr>\n",
       "      <th>3</th>\n",
       "      <td>1</td>\n",
       "      <td>0.167</td>\n",
       "      <td>-1.046891</td>\n",
       "      <td>-0.517127</td>\n",
       "      <td>0.137551</td>\n",
       "      <td>0.233807</td>\n",
       "      <td>-0.618676</td>\n",
       "      <td>-1.062796</td>\n",
       "      <td>0</td>\n",
       "    </tr>\n",
       "    <tr>\n",
       "      <th>4</th>\n",
       "      <td>5</td>\n",
       "      <td>0.201</td>\n",
       "      <td>-0.147021</td>\n",
       "      <td>0.128874</td>\n",
       "      <td>-1.355926</td>\n",
       "      <td>-0.809316</td>\n",
       "      <td>-0.985951</td>\n",
       "      <td>-0.271975</td>\n",
       "      <td>0</td>\n",
       "    </tr>\n",
       "  </tbody>\n",
       "</table>\n",
       "</div>"
      ],
      "text/plain": [
       "   Pregnancies  DiabetesPedigreeFunction   Glucose  BloodPressure  \\\n",
       "0            6                     0.627  0.919492      -0.032626   \n",
       "1            1                     0.351 -1.180205      -0.517127   \n",
       "2            8                     0.672  2.085991      -0.678627   \n",
       "3            1                     0.167 -1.046891      -0.517127   \n",
       "4            5                     0.201 -0.147021       0.128874   \n",
       "\n",
       "   SkinThickness   Insulin       BMI       Age  Outcome  \n",
       "0       0.916757 -0.809316  0.189329  1.485404        1  \n",
       "1       0.527154 -0.809316 -0.839041 -0.184106        0  \n",
       "2      -1.355926 -0.809316 -1.323844 -0.096237        1  \n",
       "3       0.137551  0.233807 -0.618676 -1.062796        0  \n",
       "4      -1.355926 -0.809316 -0.985951 -0.271975        0  "
      ]
     },
     "execution_count": 145,
     "metadata": {},
     "output_type": "execute_result"
    }
   ],
   "source": [
    "df.head()"
   ]
  },
  {
   "cell_type": "code",
   "execution_count": 146,
   "id": "fe5d5d2c",
   "metadata": {},
   "outputs": [
    {
     "data": {
      "text/html": [
       "<div>\n",
       "<style scoped>\n",
       "    .dataframe tbody tr th:only-of-type {\n",
       "        vertical-align: middle;\n",
       "    }\n",
       "\n",
       "    .dataframe tbody tr th {\n",
       "        vertical-align: top;\n",
       "    }\n",
       "\n",
       "    .dataframe thead th {\n",
       "        text-align: right;\n",
       "    }\n",
       "</style>\n",
       "<table border=\"1\" class=\"dataframe\">\n",
       "  <thead>\n",
       "    <tr style=\"text-align: right;\">\n",
       "      <th></th>\n",
       "      <th>Pregnancies</th>\n",
       "      <th>DiabetesPedigreeFunction</th>\n",
       "      <th>Glucose</th>\n",
       "      <th>BloodPressure</th>\n",
       "      <th>SkinThickness</th>\n",
       "      <th>Insulin</th>\n",
       "      <th>BMI</th>\n",
       "      <th>Age</th>\n",
       "      <th>Outcome</th>\n",
       "    </tr>\n",
       "  </thead>\n",
       "  <tbody>\n",
       "    <tr>\n",
       "      <th>0</th>\n",
       "      <td>2</td>\n",
       "      <td>0.421</td>\n",
       "      <td>-0.169122</td>\n",
       "      <td>-0.843624</td>\n",
       "      <td>0.059243</td>\n",
       "      <td>-0.768879</td>\n",
       "      <td>-0.262018</td>\n",
       "      <td>-1.178567</td>\n",
       "      <td>0</td>\n",
       "    </tr>\n",
       "    <tr>\n",
       "      <th>1</th>\n",
       "      <td>1</td>\n",
       "      <td>0.293</td>\n",
       "      <td>-0.598339</td>\n",
       "      <td>0.061189</td>\n",
       "      <td>-1.282715</td>\n",
       "      <td>-0.768879</td>\n",
       "      <td>1.020810</td>\n",
       "      <td>0.517802</td>\n",
       "      <td>1</td>\n",
       "    </tr>\n",
       "    <tr>\n",
       "      <th>2</th>\n",
       "      <td>1</td>\n",
       "      <td>0.808</td>\n",
       "      <td>-0.037055</td>\n",
       "      <td>1.146964</td>\n",
       "      <td>1.096210</td>\n",
       "      <td>1.686459</td>\n",
       "      <td>1.920265</td>\n",
       "      <td>-0.532331</td>\n",
       "      <td>1</td>\n",
       "    </tr>\n",
       "    <tr>\n",
       "      <th>3</th>\n",
       "      <td>1</td>\n",
       "      <td>0.509</td>\n",
       "      <td>-1.093589</td>\n",
       "      <td>-1.205549</td>\n",
       "      <td>0.974214</td>\n",
       "      <td>0.068168</td>\n",
       "      <td>0.681672</td>\n",
       "      <td>-1.097787</td>\n",
       "      <td>0</td>\n",
       "    </tr>\n",
       "    <tr>\n",
       "      <th>4</th>\n",
       "      <td>9</td>\n",
       "      <td>0.302</td>\n",
       "      <td>1.481714</td>\n",
       "      <td>1.327926</td>\n",
       "      <td>-1.282715</td>\n",
       "      <td>-0.768879</td>\n",
       "      <td>-0.320999</td>\n",
       "      <td>1.083259</td>\n",
       "      <td>1</td>\n",
       "    </tr>\n",
       "  </tbody>\n",
       "</table>\n",
       "</div>"
      ],
      "text/plain": [
       "   Pregnancies  DiabetesPedigreeFunction   Glucose  BloodPressure  \\\n",
       "0            2                     0.421 -0.169122      -0.843624   \n",
       "1            1                     0.293 -0.598339       0.061189   \n",
       "2            1                     0.808 -0.037055       1.146964   \n",
       "3            1                     0.509 -1.093589      -1.205549   \n",
       "4            9                     0.302  1.481714       1.327926   \n",
       "\n",
       "   SkinThickness   Insulin       BMI       Age  Outcome  \n",
       "0       0.059243 -0.768879 -0.262018 -1.178567        0  \n",
       "1      -1.282715 -0.768879  1.020810  0.517802        1  \n",
       "2       1.096210  1.686459  1.920265 -0.532331        1  \n",
       "3       0.974214  0.068168  0.681672 -1.097787        0  \n",
       "4      -1.282715 -0.768879 -0.320999  1.083259        1  "
      ]
     },
     "execution_count": 146,
     "metadata": {},
     "output_type": "execute_result"
    }
   ],
   "source": [
    "df_t.head()"
   ]
  },
  {
   "cell_type": "code",
   "execution_count": 147,
   "id": "51f06b2e",
   "metadata": {},
   "outputs": [],
   "source": [
    "x_test=df_t.drop(df_t[[\"Outcome\"]],axis=1).values\n",
    "Y_test=df_t[\"Outcome\"].values"
   ]
  },
  {
   "cell_type": "code",
   "execution_count": 148,
   "id": "817dcc3d",
   "metadata": {},
   "outputs": [
    {
     "data": {
      "text/plain": [
       "array([[ 2.        ,  0.421     , -0.16912153, ..., -0.76887899,\n",
       "        -0.26201826, -1.17856672],\n",
       "       [ 1.        ,  0.293     , -0.59833868, ..., -0.76887899,\n",
       "         1.0208104 ,  0.51780224],\n",
       "       [ 1.        ,  0.808     , -0.03705472, ...,  1.6864593 ,\n",
       "         1.92026497, -0.53233093],\n",
       "       ...,\n",
       "       [ 6.        ,  0.382     , -1.15962263, ..., -0.76887899,\n",
       "        -0.20303763,  0.51780224],\n",
       "       [10.        ,  0.245     ,  0.42517913, ..., -0.76887899,\n",
       "        -0.82233422,  0.0331254 ],\n",
       "       [ 1.        ,  1.268     , -0.99453912, ..., -0.1104019 ,\n",
       "        -1.1024922 , -0.85544882]])"
      ]
     },
     "execution_count": 148,
     "metadata": {},
     "output_type": "execute_result"
    }
   ],
   "source": [
    "x_test"
   ]
  },
  {
   "cell_type": "code",
   "execution_count": 149,
   "id": "9fc3ded7",
   "metadata": {},
   "outputs": [
    {
     "data": {
      "text/plain": [
       "array([0, 1, 1, 0, 1, 1, 0, 1, 0, 0, 0, 0, 0, 0, 1, 1, 0, 1, 1, 0, 0, 1,\n",
       "       1, 0, 0, 1, 0, 1, 0, 0, 0, 0, 1, 1, 1, 0, 1, 0, 0, 0, 0, 0, 0, 0,\n",
       "       0, 0, 0, 1, 0, 1, 1, 0, 0, 1, 0, 1, 1, 0, 1, 0, 1, 0, 1, 0, 0, 0,\n",
       "       0, 0, 0, 0, 0, 1, 1, 0, 0, 0, 0, 1, 0, 1, 0, 0, 1, 1, 0, 0, 1, 1,\n",
       "       0, 0, 0, 0, 0, 1, 0, 0, 0, 0, 0, 1, 0, 1, 1, 0, 0, 0, 0, 0, 0, 0,\n",
       "       0, 1, 0, 1, 0, 1, 0, 1, 0, 0, 0, 0, 1, 0, 0, 1, 1, 0, 0, 1, 0, 1,\n",
       "       1, 0, 0, 0, 0, 0, 0], dtype=int64)"
      ]
     },
     "execution_count": 149,
     "metadata": {},
     "output_type": "execute_result"
    }
   ],
   "source": [
    "Y_test"
   ]
  },
  {
   "cell_type": "code",
   "execution_count": null,
   "id": "a2b6483f",
   "metadata": {},
   "outputs": [],
   "source": []
  },
  {
   "cell_type": "markdown",
   "id": "cc5c14a0",
   "metadata": {},
   "source": [
    " Technique: From self created crisp model maunal, study the level of sensitivity of each model w.r.t your target dataset. Give each model a score out of 10 based on how fit the model is for your target dataset. Now make a priority order for your models by seeing the score. Pick up the top 3 highest priority models. \n",
    " Now practically apply the modals with default parameters and select the model which practically performs the best in its default/base level.Now optimize the chosen model to the maximum according to the problem. You have built the model."
   ]
  },
  {
   "cell_type": "markdown",
   "id": "00ab4496",
   "metadata": {},
   "source": [
    "#### Characteristics of my target dataset"
   ]
  },
  {
   "cell_type": "code",
   "execution_count": 150,
   "id": "2da8125a",
   "metadata": {},
   "outputs": [
    {
     "data": {
      "text/plain": [
       "\" \\nA small dataset consisting of 622 rows and 8 columns.\\nFeatures don't seem to have any significant relation with each other.\\n\\n\""
      ]
     },
     "execution_count": 150,
     "metadata": {},
     "output_type": "execute_result"
    }
   ],
   "source": [
    "''' \n",
    "A small dataset consisting of 622 rows and 8 columns.\n",
    "Features don't seem to have any significant relation with each other.\n",
    "\n",
    "'''"
   ]
  },
  {
   "cell_type": "code",
   "execution_count": 151,
   "id": "7bfeceba",
   "metadata": {},
   "outputs": [
    {
     "data": {
      "text/html": [
       "<div>\n",
       "<style scoped>\n",
       "    .dataframe tbody tr th:only-of-type {\n",
       "        vertical-align: middle;\n",
       "    }\n",
       "\n",
       "    .dataframe tbody tr th {\n",
       "        vertical-align: top;\n",
       "    }\n",
       "\n",
       "    .dataframe thead th {\n",
       "        text-align: right;\n",
       "    }\n",
       "</style>\n",
       "<table border=\"1\" class=\"dataframe\">\n",
       "  <thead>\n",
       "    <tr style=\"text-align: right;\">\n",
       "      <th></th>\n",
       "      <th>Pregnancies</th>\n",
       "      <th>DiabetesPedigreeFunction</th>\n",
       "      <th>Glucose</th>\n",
       "      <th>BloodPressure</th>\n",
       "      <th>SkinThickness</th>\n",
       "      <th>Insulin</th>\n",
       "      <th>BMI</th>\n",
       "      <th>Age</th>\n",
       "      <th>Outcome</th>\n",
       "    </tr>\n",
       "  </thead>\n",
       "  <tbody>\n",
       "    <tr>\n",
       "      <th>0</th>\n",
       "      <td>6</td>\n",
       "      <td>0.627</td>\n",
       "      <td>0.919492</td>\n",
       "      <td>-0.032626</td>\n",
       "      <td>0.916757</td>\n",
       "      <td>-0.809316</td>\n",
       "      <td>0.189329</td>\n",
       "      <td>1.485404</td>\n",
       "      <td>1</td>\n",
       "    </tr>\n",
       "    <tr>\n",
       "      <th>1</th>\n",
       "      <td>1</td>\n",
       "      <td>0.351</td>\n",
       "      <td>-1.180205</td>\n",
       "      <td>-0.517127</td>\n",
       "      <td>0.527154</td>\n",
       "      <td>-0.809316</td>\n",
       "      <td>-0.839041</td>\n",
       "      <td>-0.184106</td>\n",
       "      <td>0</td>\n",
       "    </tr>\n",
       "    <tr>\n",
       "      <th>2</th>\n",
       "      <td>8</td>\n",
       "      <td>0.672</td>\n",
       "      <td>2.085991</td>\n",
       "      <td>-0.678627</td>\n",
       "      <td>-1.355926</td>\n",
       "      <td>-0.809316</td>\n",
       "      <td>-1.323844</td>\n",
       "      <td>-0.096237</td>\n",
       "      <td>1</td>\n",
       "    </tr>\n",
       "    <tr>\n",
       "      <th>3</th>\n",
       "      <td>1</td>\n",
       "      <td>0.167</td>\n",
       "      <td>-1.046891</td>\n",
       "      <td>-0.517127</td>\n",
       "      <td>0.137551</td>\n",
       "      <td>0.233807</td>\n",
       "      <td>-0.618676</td>\n",
       "      <td>-1.062796</td>\n",
       "      <td>0</td>\n",
       "    </tr>\n",
       "    <tr>\n",
       "      <th>4</th>\n",
       "      <td>5</td>\n",
       "      <td>0.201</td>\n",
       "      <td>-0.147021</td>\n",
       "      <td>0.128874</td>\n",
       "      <td>-1.355926</td>\n",
       "      <td>-0.809316</td>\n",
       "      <td>-0.985951</td>\n",
       "      <td>-0.271975</td>\n",
       "      <td>0</td>\n",
       "    </tr>\n",
       "  </tbody>\n",
       "</table>\n",
       "</div>"
      ],
      "text/plain": [
       "   Pregnancies  DiabetesPedigreeFunction   Glucose  BloodPressure  \\\n",
       "0            6                     0.627  0.919492      -0.032626   \n",
       "1            1                     0.351 -1.180205      -0.517127   \n",
       "2            8                     0.672  2.085991      -0.678627   \n",
       "3            1                     0.167 -1.046891      -0.517127   \n",
       "4            5                     0.201 -0.147021       0.128874   \n",
       "\n",
       "   SkinThickness   Insulin       BMI       Age  Outcome  \n",
       "0       0.916757 -0.809316  0.189329  1.485404        1  \n",
       "1       0.527154 -0.809316 -0.839041 -0.184106        0  \n",
       "2      -1.355926 -0.809316 -1.323844 -0.096237        1  \n",
       "3       0.137551  0.233807 -0.618676 -1.062796        0  \n",
       "4      -1.355926 -0.809316 -0.985951 -0.271975        0  "
      ]
     },
     "execution_count": 151,
     "metadata": {},
     "output_type": "execute_result"
    }
   ],
   "source": [
    "df.head()"
   ]
  },
  {
   "cell_type": "code",
   "execution_count": 152,
   "id": "ddd4f24d",
   "metadata": {},
   "outputs": [
    {
     "name": "stdout",
     "output_type": "stream",
     "text": [
      "<class 'pandas.core.frame.DataFrame'>\n",
      "RangeIndex: 693 entries, 0 to 692\n",
      "Data columns (total 9 columns):\n",
      " #   Column                    Non-Null Count  Dtype  \n",
      "---  ------                    --------------  -----  \n",
      " 0   Pregnancies               693 non-null    int64  \n",
      " 1   DiabetesPedigreeFunction  693 non-null    float64\n",
      " 2   Glucose                   693 non-null    float64\n",
      " 3   BloodPressure             693 non-null    float64\n",
      " 4   SkinThickness             693 non-null    float64\n",
      " 5   Insulin                   693 non-null    float64\n",
      " 6   BMI                       693 non-null    float64\n",
      " 7   Age                       693 non-null    float64\n",
      " 8   Outcome                   693 non-null    int64  \n",
      "dtypes: float64(7), int64(2)\n",
      "memory usage: 48.9 KB\n"
     ]
    }
   ],
   "source": [
    "df.info()"
   ]
  },
  {
   "cell_type": "code",
   "execution_count": 153,
   "id": "5250492d",
   "metadata": {},
   "outputs": [
    {
     "name": "stdout",
     "output_type": "stream",
     "text": [
      "0    461\n",
      "1    232\n",
      "Name: Outcome, dtype: int64\n"
     ]
    }
   ],
   "source": [
    "print(df[\"Outcome\"].value_counts())"
   ]
  },
  {
   "cell_type": "markdown",
   "id": "3519f4db",
   "metadata": {},
   "source": [
    "On a Scale Of 10\n",
    "1) Logistic Regression: 6.5\n",
    "2) Naïve Bayes: 5.5\n",
    "3) SGD:-\n",
    "4) Mini SGD: -\n",
    "5) K-NN: 5\n",
    "6) Decision Tree: 6\n",
    "7) Random Forest: 6\n",
    "8) Support Vector Machine: 5.5\n",
    "\n",
    "Priority order:  Logistic Regression >Decision Tree = Random Forest > Support Vector Machine = Naive Bayes "
   ]
  },
  {
   "cell_type": "markdown",
   "id": "88acb8d4",
   "metadata": {},
   "source": [
    "#### SVM Classifier Linear"
   ]
  },
  {
   "cell_type": "code",
   "execution_count": 154,
   "id": "083333cf",
   "metadata": {},
   "outputs": [
    {
     "data": {
      "text/plain": [
       "'from sklearn import svm\\nsvm_model_linear=svm.SVC(kernel=\"linear\")\\nsvm_model_linear.fit(x,Y)\\nsvm_model_linear_pred=svm_model_linear.predict(x_test)\\nprint(accuracy_score(Y_test,svm_model_linear_pred))'"
      ]
     },
     "execution_count": 154,
     "metadata": {},
     "output_type": "execute_result"
    }
   ],
   "source": [
    "'''from sklearn import svm\n",
    "svm_model_linear=svm.SVC(kernel=\"linear\")\n",
    "svm_model_linear.fit(x,Y)\n",
    "svm_model_linear_pred=svm_model_linear.predict(x_test)\n",
    "print(accuracy_score(Y_test,svm_model_linear_pred))'''"
   ]
  },
  {
   "cell_type": "code",
   "execution_count": 155,
   "id": "2dc17292",
   "metadata": {},
   "outputs": [
    {
     "data": {
      "text/plain": [
       "'from sklearn.metrics import confusion_matrix\\ncm=confusion_matrix(Y_test,svm_model_linear_pred)'"
      ]
     },
     "execution_count": 155,
     "metadata": {},
     "output_type": "execute_result"
    }
   ],
   "source": [
    "'''from sklearn.metrics import confusion_matrix\n",
    "cm=confusion_matrix(Y_test,svm_model_linear_pred)'''"
   ]
  },
  {
   "cell_type": "code",
   "execution_count": 156,
   "id": "0f2cae45",
   "metadata": {},
   "outputs": [
    {
     "data": {
      "text/plain": [
       "'sns.heatmap(cm,annot=True)'"
      ]
     },
     "execution_count": 156,
     "metadata": {},
     "output_type": "execute_result"
    }
   ],
   "source": [
    "'''sns.heatmap(cm,annot=True)'''"
   ]
  },
  {
   "cell_type": "code",
   "execution_count": 157,
   "id": "69cf64f8",
   "metadata": {},
   "outputs": [
    {
     "data": {
      "text/plain": [
       "'from sklearn.metrics import classification_report\\nprint(classification_report(Y_test,svm_model_linear_pred))'"
      ]
     },
     "execution_count": 157,
     "metadata": {},
     "output_type": "execute_result"
    }
   ],
   "source": [
    "'''from sklearn.metrics import classification_report\n",
    "print(classification_report(Y_test,svm_model_linear_pred))'''"
   ]
  },
  {
   "cell_type": "markdown",
   "id": "e43714ef",
   "metadata": {},
   "source": [
    "#### Improving AUC value (it should be at least more than 0.7)"
   ]
  },
  {
   "cell_type": "code",
   "execution_count": 158,
   "id": "845f8026",
   "metadata": {},
   "outputs": [
    {
     "data": {
      "text/plain": [
       "'\\nThat will be done by balancing the dataset. Techniques available to handle imbalanced dataset:\\n1) Undersampling\\n2) Oversampling\\n3) SMOTE(Synthetic Minority Over-sampling Technique)\\n4) Ensemble technique\\n'"
      ]
     },
     "execution_count": 158,
     "metadata": {},
     "output_type": "execute_result"
    }
   ],
   "source": [
    "#### Improving AUC value (it should be at least more than 0.7)\n",
    "'''\n",
    "That will be done by balancing the dataset. Techniques available to handle imbalanced dataset:\n",
    "1) Undersampling\n",
    "2) Oversampling\n",
    "3) SMOTE(Synthetic Minority Over-sampling Technique)\n",
    "4) Ensemble technique\n",
    "'''\n",
    "#Going for SMOTE"
   ]
  },
  {
   "cell_type": "code",
   "execution_count": 159,
   "id": "308863ee",
   "metadata": {},
   "outputs": [],
   "source": [
    "#Going for SMOTE\n",
    "from imblearn.over_sampling import SMOTE\n",
    "sm = SMOTE(random_state=42,k_neighbors=5, sampling_strategy='not majority')\n",
    "X_res, y_res = sm.fit_resample(x,Y)"
   ]
  },
  {
   "cell_type": "markdown",
   "id": "c0ce589d",
   "metadata": {},
   "source": [
    "## Logistic Regression complete"
   ]
  },
  {
   "cell_type": "code",
   "execution_count": 160,
   "id": "f453995e",
   "metadata": {},
   "outputs": [
    {
     "name": "stdout",
     "output_type": "stream",
     "text": [
      "0.7338129496402878\n"
     ]
    }
   ],
   "source": [
    "from sklearn.linear_model import LogisticRegression\n",
    "logistic_reg=LogisticRegression(random_state=42)\n",
    "logistic_reg.fit(x,Y)\n",
    "Y_logistic_reg_pred=logistic_reg.predict(x_test)\n",
    "print(accuracy_score(Y_test,Y_logistic_reg_pred))"
   ]
  },
  {
   "cell_type": "code",
   "execution_count": 161,
   "id": "449a71eb",
   "metadata": {},
   "outputs": [],
   "source": [
    "from sklearn.metrics import confusion_matrix\n",
    "cm=confusion_matrix(Y_test,Y_logistic_reg_pred)"
   ]
  },
  {
   "cell_type": "code",
   "execution_count": 162,
   "id": "7047161a",
   "metadata": {},
   "outputs": [
    {
     "data": {
      "text/plain": [
       "<AxesSubplot:>"
      ]
     },
     "execution_count": 162,
     "metadata": {},
     "output_type": "execute_result"
    },
    {
     "data": {
      "image/png": "[encoded data removed]",
      "text/plain": [
       "<Figure size 432x288 with 2 Axes>"
      ]
     },
     "metadata": {
      "needs_background": "light"
     },
     "output_type": "display_data"
    }
   ],
   "source": [
    "sns.heatmap(cm,annot=True)"
   ]
  },
  {
   "cell_type": "code",
   "execution_count": 163,
   "id": "2bba5521",
   "metadata": {},
   "outputs": [
    {
     "name": "stdout",
     "output_type": "stream",
     "text": [
      "              precision    recall  f1-score   support\n",
      "\n",
      "           0       0.76      0.87      0.81        91\n",
      "           1       0.66      0.48      0.55        48\n",
      "\n",
      "    accuracy                           0.73       139\n",
      "   macro avg       0.71      0.67      0.68       139\n",
      "weighted avg       0.72      0.73      0.72       139\n",
      "\n"
     ]
    }
   ],
   "source": [
    "from sklearn.metrics import classification_report\n",
    "print(classification_report(Y_test,Y_logistic_reg_pred))"
   ]
  },
  {
   "cell_type": "code",
   "execution_count": 164,
   "id": "0ec26282",
   "metadata": {},
   "outputs": [],
   "source": [
    "# Accuracy of Linear SVM and Logistic Regression comes out to be the same because the problem could be solved linearly\n",
    "#i.e the labels could be separated by a 2D plane"
   ]
  },
  {
   "cell_type": "code",
   "execution_count": 165,
   "id": "ad8fdc78",
   "metadata": {},
   "outputs": [],
   "source": [
    "#Finally, picking logistic regression as my model for this project"
   ]
  },
  {
   "cell_type": "markdown",
   "id": "531bb72c",
   "metadata": {},
   "source": [
    "## Optimizing Model"
   ]
  },
  {
   "cell_type": "markdown",
   "id": "7fd13b3a",
   "metadata": {},
   "source": [
    "## Target Problem oriented tuning"
   ]
  },
  {
   "cell_type": "code",
   "execution_count": 166,
   "id": "6d664df5",
   "metadata": {},
   "outputs": [],
   "source": [
    "# We have to ensure that actual yes but predicted no should be reduced (A21)"
   ]
  },
  {
   "cell_type": "code",
   "execution_count": 167,
   "id": "b598b308",
   "metadata": {},
   "outputs": [
    {
     "data": {
      "text/plain": [
       "0    461\n",
       "1    232\n",
       "Name: Outcome, dtype: int64"
      ]
     },
     "execution_count": 167,
     "metadata": {},
     "output_type": "execute_result"
    }
   ],
   "source": [
    "df[\"Outcome\"].value_counts()"
   ]
  },
  {
   "cell_type": "code",
   "execution_count": 168,
   "id": "23c99bc4",
   "metadata": {},
   "outputs": [],
   "source": [
    "from sklearn.metrics import roc_curve\n",
    "from sklearn.metrics import roc_auc_score"
   ]
  },
  {
   "cell_type": "code",
   "execution_count": 169,
   "id": "f3b05fdc",
   "metadata": {},
   "outputs": [
    {
     "data": {
      "text/plain": [
       "0.6736492673992674"
      ]
     },
     "execution_count": 169,
     "metadata": {},
     "output_type": "execute_result"
    }
   ],
   "source": [
    "#AUROC: Area under roc_curve\n",
    "AUROC=roc_auc_score(Y_test,Y_logistic_reg_pred)\n",
    "AUROC"
   ]
  },
  {
   "cell_type": "code",
   "execution_count": 170,
   "id": "f0cfd8b6",
   "metadata": {},
   "outputs": [
    {
     "data": {
      "image/png": "[encoded data removed]",
      "text/plain": [
       "<Figure size 720x720 with 1 Axes>"
      ]
     },
     "metadata": {
      "needs_background": "light"
     },
     "output_type": "display_data"
    }
   ],
   "source": [
    "#Plotting ROC curve\n",
    "FPR, TPR,_ = roc_curve(Y_test, Y_logistic_reg_pred)\n",
    "plt.figure(figsize=(10,10))\n",
    "plt.plot(FPR, TPR, linestyle='--', label='Random prediction (AUROC = %0.3f)' %AUROC)\n",
    "\n",
    "# Title\n",
    "plt.title('ROC Plot')\n",
    "\n",
    "# Axis labels\n",
    "plt.xlabel('False Positive Rate')\n",
    "plt.ylabel('True Positive Rate')\n",
    " \n",
    "# Show plot\n",
    "plt.show()"
   ]
  },
  {
   "cell_type": "code",
   "execution_count": null,
   "id": "9ff28d10",
   "metadata": {},
   "outputs": [],
   "source": []
  },
  {
   "cell_type": "code",
   "execution_count": null,
   "id": "243d4ee3",
   "metadata": {},
   "outputs": [],
   "source": []
  },
  {
   "cell_type": "code",
   "execution_count": null,
   "id": "4855fd91",
   "metadata": {},
   "outputs": [],
   "source": []
  },
  {
   "cell_type": "code",
   "execution_count": 171,
   "id": "62ecf165",
   "metadata": {},
   "outputs": [
    {
     "data": {
      "image/png": "[encoded data removed]",
      "text/plain": [
       "<Figure size 720x720 with 1 Axes>"
      ]
     },
     "metadata": {
      "needs_background": "light"
     },
     "output_type": "display_data"
    }
   ],
   "source": [
    "from sklearn.metrics import precision_recall_curve\n",
    "FPR,TPR, thresholds = precision_recall_curve(Y_test, Y_logistic_reg_pred)\n",
    "def plot_precision_recall_vs_threshold(FPR, TPR, thresholds):\n",
    "    plt.figure(figsize=(10,10))\n",
    "    plt.plot(thresholds, FPR[:-1], \"b--\", label=\"FPR\")\n",
    "    plt.plot(thresholds, TPR[:-1], \"g-\", label=\"TPR\")\n",
    "    plt.xlabel(\"Threshold\")\n",
    "    plt.legend(loc='upper right', frameon=True)\n",
    " \n",
    "\n",
    "plot_precision_recall_vs_threshold(FPR, TPR, thresholds)\n",
    "plt.show()"
   ]
  },
  {
   "cell_type": "markdown",
   "id": "1e65c374",
   "metadata": {},
   "source": [
    "### Creating an Optimized Model\n",
    "\n",
    "The parameters are numbers that tells the model what to do with the features, while hyperparameters tell the model how to choose parameters."
   ]
  },
  {
   "cell_type": "code",
   "execution_count": 172,
   "id": "b4439ba3",
   "metadata": {},
   "outputs": [
    {
     "data": {
      "text/plain": [
       "'\\n\\nAll hyperparameters: \\n1) Penalty: [\"l2\",\\'l1\\',\\'none\\',\"elasticnet\"] (exhaustive set)\\n2) Dual: [False,True] (exhaustive set)\\n3) tol: [0.0001,0.0002,0.0009,0.09,0.5] (totally inexhaustive set)\\n (A lower tol is almost always what you want, otherwise you risk the algorithm not converging,\\n which is what I think you\\'re seeing here.\\n My suggestion would be to leave it as default unless you have some huge complex dataset)\\n4)C:  [-5,-2.5,-1.5,-0.5,1,1.5,2,5] (totally inexhaustive set)\\n (A high value of C tells the model to give high weight to the training data, and a lower weight to \\n the complexity penalty.Basically, a high C means \"Trust this training data\\n a lot\", while a low value says \"This data may not be fully representative of the real world data,\\n so if it\\'s telling you to make a parameter really large, don\\'t listen to it\")\\n5)fit_intercept: [True,False] (exhaustive set)\\n   False ==> the value of y-intercept will be taken 0\\n   True ==> the value of y-intercept will not be taken 0 and will be founded by further calculations\\n6)class_weight: [\"balanced\",None]\\n7)random_state:\\n8)solver: [‘newton-cg’, ‘lbfgs’, ‘liblinear’, ‘sag’, ‘saga’]\\n9)max_iter=[100,90,110,50,200] (inexhaustive set)\\n10)multi_class=[\"auto\", \"ovr\", \"multinomial\"]\\n'"
      ]
     },
     "execution_count": 172,
     "metadata": {},
     "output_type": "execute_result"
    }
   ],
   "source": [
    "'''\n",
    "\n",
    "All hyperparameters: \n",
    "1) Penalty: [\"l2\",'l1','none',\"elasticnet\"] (exhaustive set)\n",
    "2) Dual: [False,True] (exhaustive set)\n",
    "3) tol: [0.0001,0.0002,0.0009,0.09,0.5] (totally inexhaustive set)\n",
    " (A lower tol is almost always what you want, otherwise you risk the algorithm not converging,\n",
    " which is what I think you're seeing here.\n",
    " My suggestion would be to leave it as default unless you have some huge complex dataset)\n",
    "4)C:  [-5,-2.5,-1.5,-0.5,1,1.5,2,5] (totally inexhaustive set)\n",
    " (A high value of C tells the model to give high weight to the training data, and a lower weight to \n",
    " the complexity penalty.Basically, a high C means \"Trust this training data\n",
    " a lot\", while a low value says \"This data may not be fully representative of the real world data,\n",
    " so if it's telling you to make a parameter really large, don't listen to it\")\n",
    "5)fit_intercept: [True,False] (exhaustive set)\n",
    "   False ==> the value of y-intercept will be taken 0\n",
    "   True ==> the value of y-intercept will not be taken 0 and will be founded by further calculations\n",
    "6)class_weight: [\"balanced\",None]\n",
    "7)random_state:\n",
    "8)solver: [‘newton-cg’, ‘lbfgs’, ‘liblinear’, ‘sag’, ‘saga’]\n",
    "9)max_iter=[100,90,110,50,200] (inexhaustive set)\n",
    "10)multi_class=[\"auto\", \"ovr\", \"multinomial\"]\n",
    "'''"
   ]
  },
  {
   "cell_type": "code",
   "execution_count": 173,
   "id": "5a4921b5",
   "metadata": {},
   "outputs": [],
   "source": [
    "lr=LogisticRegression()"
   ]
  },
  {
   "cell_type": "code",
   "execution_count": 174,
   "id": "70a08a5c",
   "metadata": {},
   "outputs": [],
   "source": [
    "#Randomized Search CV\n",
    "penalty=[\"l2\",'l1','none',\"elasticnet\"]\n",
    "Dual=[False,True]\n",
    "tol=[x for x in np.linspace(start=0.00001, stop=0.001,num=10).astype(float)]\n",
    "C=[x for x in np.linspace(start=-10,stop=10,)] +[1]\n",
    "fit_intercept=[True,False]\n",
    "class_weight=[\"balanced\",None]\n",
    "solver=[\"newton-cg\", \"lbfgs\", \"liblinear\", \"sag\", \"saga\"]\n",
    "max_iter=[x for x in np.linspace(start=10,stop=200,num=10).astype(int)] + [100]\n",
    "multi_class=[\"auto\", \"ovr\", \"multinomial\"]\n",
    "\n",
    "\n",
    "random_grid={\n",
    "    \"penalty\" : penalty,\n",
    "     \"dual\" : Dual,\n",
    "    \"tol\": tol,\n",
    "    \"C\": C,\n",
    "    \"fit_intercept\": fit_intercept,\n",
    "    \"class_weight\" : class_weight,\n",
    "    \"solver\" : solver,\n",
    "    \"max_iter\" : max_iter,\n",
    "    \"multi_class\" : multi_class,\n",
    "}"
   ]
  },
  {
   "cell_type": "code",
   "execution_count": 175,
   "id": "fef3dfa9",
   "metadata": {},
   "outputs": [
    {
     "name": "stdout",
     "output_type": "stream",
     "text": [
      "Fitting 3 folds for each of 100 candidates, totalling 300 fits\n"
     ]
    },
    {
     "name": "stderr",
     "output_type": "stream",
     "text": [
      "C:\\Users\\hp\\AppData\\Local\\Programs\\Python\\Python39\\lib\\site-packages\\sklearn\\model_selection\\_validation.py:372: FitFailedWarning: \n",
      "261 fits failed out of a total of 300.\n",
      "The score on these train-test partitions for these parameters will be set to nan.\n",
      "If these failures are not expected, you can try to debug them by setting error_score='raise'.\n",
      "\n",
      "Below are more details about the failures:\n",
      "--------------------------------------------------------------------------------\n",
      "9 fits failed with the following error:\n",
      "Traceback (most recent call last):\n",
      "  File \"C:\\Users\\hp\\AppData\\Local\\Programs\\Python\\Python39\\lib\\site-packages\\sklearn\\model_selection\\_validation.py\", line 680, in _fit_and_score\n",
      "    estimator.fit(X_train, y_train, **fit_params)\n",
      "  File \"C:\\Users\\hp\\AppData\\Local\\Programs\\Python\\Python39\\lib\\site-packages\\sklearn\\linear_model\\_logistic.py\", line 1461, in fit\n",
      "    solver = _check_solver(self.solver, self.penalty, self.dual)\n",
      "  File \"C:\\Users\\hp\\AppData\\Local\\Programs\\Python\\Python39\\lib\\site-packages\\sklearn\\linear_model\\_logistic.py\", line 452, in _check_solver\n",
      "    raise ValueError(\n",
      "ValueError: Solver lbfgs supports only dual=False, got dual=True\n",
      "\n",
      "--------------------------------------------------------------------------------\n",
      "9 fits failed with the following error:\n",
      "Traceback (most recent call last):\n",
      "  File \"C:\\Users\\hp\\AppData\\Local\\Programs\\Python\\Python39\\lib\\site-packages\\sklearn\\model_selection\\_validation.py\", line 680, in _fit_and_score\n",
      "    estimator.fit(X_train, y_train, **fit_params)\n",
      "  File \"C:\\Users\\hp\\AppData\\Local\\Programs\\Python\\Python39\\lib\\site-packages\\sklearn\\linear_model\\_logistic.py\", line 1461, in fit\n",
      "    solver = _check_solver(self.solver, self.penalty, self.dual)\n",
      "  File \"C:\\Users\\hp\\AppData\\Local\\Programs\\Python\\Python39\\lib\\site-packages\\sklearn\\linear_model\\_logistic.py\", line 447, in _check_solver\n",
      "    raise ValueError(\n",
      "ValueError: Solver lbfgs supports only 'l2' or 'none' penalties, got l1 penalty.\n",
      "\n",
      "--------------------------------------------------------------------------------\n",
      "9 fits failed with the following error:\n",
      "Traceback (most recent call last):\n",
      "  File \"C:\\Users\\hp\\AppData\\Local\\Programs\\Python\\Python39\\lib\\site-packages\\sklearn\\model_selection\\_validation.py\", line 680, in _fit_and_score\n",
      "    estimator.fit(X_train, y_train, **fit_params)\n",
      "  File \"C:\\Users\\hp\\AppData\\Local\\Programs\\Python\\Python39\\lib\\site-packages\\sklearn\\linear_model\\_logistic.py\", line 1461, in fit\n",
      "    solver = _check_solver(self.solver, self.penalty, self.dual)\n",
      "  File \"C:\\Users\\hp\\AppData\\Local\\Programs\\Python\\Python39\\lib\\site-packages\\sklearn\\linear_model\\_logistic.py\", line 447, in _check_solver\n",
      "    raise ValueError(\n",
      "ValueError: Solver newton-cg supports only 'l2' or 'none' penalties, got elasticnet penalty.\n",
      "\n",
      "--------------------------------------------------------------------------------\n",
      "3 fits failed with the following error:\n",
      "Traceback (most recent call last):\n",
      "  File \"C:\\Users\\hp\\AppData\\Local\\Programs\\Python\\Python39\\lib\\site-packages\\sklearn\\model_selection\\_validation.py\", line 680, in _fit_and_score\n",
      "    estimator.fit(X_train, y_train, **fit_params)\n",
      "  File \"C:\\Users\\hp\\AppData\\Local\\Programs\\Python\\Python39\\lib\\site-packages\\sklearn\\linear_model\\_logistic.py\", line 1464, in fit\n",
      "    raise ValueError(\"Penalty term must be positive; got (C=%r)\" % self.C)\n",
      "ValueError: Penalty term must be positive; got (C=-9.591836734693878)\n",
      "\n",
      "--------------------------------------------------------------------------------\n",
      "9 fits failed with the following error:\n",
      "Traceback (most recent call last):\n",
      "  File \"C:\\Users\\hp\\AppData\\Local\\Programs\\Python\\Python39\\lib\\site-packages\\sklearn\\model_selection\\_validation.py\", line 680, in _fit_and_score\n",
      "    estimator.fit(X_train, y_train, **fit_params)\n",
      "  File \"C:\\Users\\hp\\AppData\\Local\\Programs\\Python\\Python39\\lib\\site-packages\\sklearn\\linear_model\\_logistic.py\", line 1464, in fit\n",
      "    raise ValueError(\"Penalty term must be positive; got (C=%r)\" % self.C)\n",
      "ValueError: Penalty term must be positive; got (C=-8.36734693877551)\n",
      "\n",
      "--------------------------------------------------------------------------------\n",
      "3 fits failed with the following error:\n",
      "Traceback (most recent call last):\n",
      "  File \"C:\\Users\\hp\\AppData\\Local\\Programs\\Python\\Python39\\lib\\site-packages\\sklearn\\model_selection\\_validation.py\", line 680, in _fit_and_score\n",
      "    estimator.fit(X_train, y_train, **fit_params)\n",
      "  File \"C:\\Users\\hp\\AppData\\Local\\Programs\\Python\\Python39\\lib\\site-packages\\sklearn\\linear_model\\_logistic.py\", line 1464, in fit\n",
      "    raise ValueError(\"Penalty term must be positive; got (C=%r)\" % self.C)\n",
      "ValueError: Penalty term must be positive; got (C=-4.6938775510204085)\n",
      "\n",
      "--------------------------------------------------------------------------------\n",
      "45 fits failed with the following error:\n",
      "Traceback (most recent call last):\n",
      "  File \"C:\\Users\\hp\\AppData\\Local\\Programs\\Python\\Python39\\lib\\site-packages\\sklearn\\model_selection\\_validation.py\", line 680, in _fit_and_score\n",
      "    estimator.fit(X_train, y_train, **fit_params)\n",
      "  File \"C:\\Users\\hp\\AppData\\Local\\Programs\\Python\\Python39\\lib\\site-packages\\sklearn\\linear_model\\_logistic.py\", line 1461, in fit\n",
      "    solver = _check_solver(self.solver, self.penalty, self.dual)\n",
      "  File \"C:\\Users\\hp\\AppData\\Local\\Programs\\Python\\Python39\\lib\\site-packages\\sklearn\\linear_model\\_logistic.py\", line 452, in _check_solver\n",
      "    raise ValueError(\n",
      "ValueError: Solver saga supports only dual=False, got dual=True\n",
      "\n",
      "--------------------------------------------------------------------------------\n",
      "18 fits failed with the following error:\n",
      "Traceback (most recent call last):\n",
      "  File \"C:\\Users\\hp\\AppData\\Local\\Programs\\Python\\Python39\\lib\\site-packages\\sklearn\\model_selection\\_validation.py\", line 680, in _fit_and_score\n",
      "    estimator.fit(X_train, y_train, **fit_params)\n",
      "  File \"C:\\Users\\hp\\AppData\\Local\\Programs\\Python\\Python39\\lib\\site-packages\\sklearn\\linear_model\\_logistic.py\", line 1461, in fit\n",
      "    solver = _check_solver(self.solver, self.penalty, self.dual)\n",
      "  File \"C:\\Users\\hp\\AppData\\Local\\Programs\\Python\\Python39\\lib\\site-packages\\sklearn\\linear_model\\_logistic.py\", line 464, in _check_solver\n",
      "    raise ValueError(\"penalty='none' is not supported for the liblinear solver\")\n",
      "ValueError: penalty='none' is not supported for the liblinear solver\n",
      "\n",
      "--------------------------------------------------------------------------------\n",
      "6 fits failed with the following error:\n",
      "Traceback (most recent call last):\n",
      "  File \"C:\\Users\\hp\\AppData\\Local\\Programs\\Python\\Python39\\lib\\site-packages\\sklearn\\model_selection\\_validation.py\", line 680, in _fit_and_score\n",
      "    estimator.fit(X_train, y_train, **fit_params)\n",
      "  File \"C:\\Users\\hp\\AppData\\Local\\Programs\\Python\\Python39\\lib\\site-packages\\sklearn\\linear_model\\_logistic.py\", line 1464, in fit\n",
      "    raise ValueError(\"Penalty term must be positive; got (C=%r)\" % self.C)\n",
      "ValueError: Penalty term must be positive; got (C=-9.183673469387756)\n",
      "\n",
      "--------------------------------------------------------------------------------\n",
      "6 fits failed with the following error:\n",
      "Traceback (most recent call last):\n",
      "  File \"C:\\Users\\hp\\AppData\\Local\\Programs\\Python\\Python39\\lib\\site-packages\\sklearn\\model_selection\\_validation.py\", line 680, in _fit_and_score\n",
      "    estimator.fit(X_train, y_train, **fit_params)\n",
      "  File \"C:\\Users\\hp\\AppData\\Local\\Programs\\Python\\Python39\\lib\\site-packages\\sklearn\\linear_model\\_logistic.py\", line 1464, in fit\n",
      "    raise ValueError(\"Penalty term must be positive; got (C=%r)\" % self.C)\n",
      "ValueError: Penalty term must be positive; got (C=-3.4693877551020407)\n",
      "\n",
      "--------------------------------------------------------------------------------\n",
      "3 fits failed with the following error:\n",
      "Traceback (most recent call last):\n",
      "  File \"C:\\Users\\hp\\AppData\\Local\\Programs\\Python\\Python39\\lib\\site-packages\\sklearn\\model_selection\\_validation.py\", line 680, in _fit_and_score\n",
      "    estimator.fit(X_train, y_train, **fit_params)\n",
      "  File \"C:\\Users\\hp\\AppData\\Local\\Programs\\Python\\Python39\\lib\\site-packages\\sklearn\\linear_model\\_logistic.py\", line 1464, in fit\n",
      "    raise ValueError(\"Penalty term must be positive; got (C=%r)\" % self.C)\n",
      "ValueError: Penalty term must be positive; got (C=-3.0612244897959187)\n",
      "\n",
      "--------------------------------------------------------------------------------\n",
      "15 fits failed with the following error:\n",
      "Traceback (most recent call last):\n",
      "  File \"C:\\Users\\hp\\AppData\\Local\\Programs\\Python\\Python39\\lib\\site-packages\\sklearn\\model_selection\\_validation.py\", line 680, in _fit_and_score\n",
      "    estimator.fit(X_train, y_train, **fit_params)\n",
      "  File \"C:\\Users\\hp\\AppData\\Local\\Programs\\Python\\Python39\\lib\\site-packages\\sklearn\\linear_model\\_logistic.py\", line 1461, in fit\n",
      "    solver = _check_solver(self.solver, self.penalty, self.dual)\n",
      "  File \"C:\\Users\\hp\\AppData\\Local\\Programs\\Python\\Python39\\lib\\site-packages\\sklearn\\linear_model\\_logistic.py\", line 452, in _check_solver\n",
      "    raise ValueError(\n",
      "ValueError: Solver sag supports only dual=False, got dual=True\n",
      "\n",
      "--------------------------------------------------------------------------------\n",
      "15 fits failed with the following error:\n",
      "Traceback (most recent call last):\n",
      "  File \"C:\\Users\\hp\\AppData\\Local\\Programs\\Python\\Python39\\lib\\site-packages\\sklearn\\model_selection\\_validation.py\", line 680, in _fit_and_score\n",
      "    estimator.fit(X_train, y_train, **fit_params)\n",
      "  File \"C:\\Users\\hp\\AppData\\Local\\Programs\\Python\\Python39\\lib\\site-packages\\sklearn\\linear_model\\_logistic.py\", line 1461, in fit\n",
      "    solver = _check_solver(self.solver, self.penalty, self.dual)\n",
      "  File \"C:\\Users\\hp\\AppData\\Local\\Programs\\Python\\Python39\\lib\\site-packages\\sklearn\\linear_model\\_logistic.py\", line 447, in _check_solver\n",
      "    raise ValueError(\n",
      "ValueError: Solver sag supports only 'l2' or 'none' penalties, got elasticnet penalty.\n",
      "\n",
      "--------------------------------------------------------------------------------\n",
      "21 fits failed with the following error:\n",
      "Traceback (most recent call last):\n",
      "  File \"C:\\Users\\hp\\AppData\\Local\\Programs\\Python\\Python39\\lib\\site-packages\\sklearn\\model_selection\\_validation.py\", line 680, in _fit_and_score\n",
      "    estimator.fit(X_train, y_train, **fit_params)\n",
      "  File \"C:\\Users\\hp\\AppData\\Local\\Programs\\Python\\Python39\\lib\\site-packages\\sklearn\\linear_model\\_logistic.py\", line 1461, in fit\n",
      "    solver = _check_solver(self.solver, self.penalty, self.dual)\n",
      "  File \"C:\\Users\\hp\\AppData\\Local\\Programs\\Python\\Python39\\lib\\site-packages\\sklearn\\linear_model\\_logistic.py\", line 447, in _check_solver\n",
      "    raise ValueError(\n",
      "ValueError: Solver sag supports only 'l2' or 'none' penalties, got l1 penalty.\n",
      "\n",
      "--------------------------------------------------------------------------------\n",
      "6 fits failed with the following error:\n",
      "Traceback (most recent call last):\n",
      "  File \"C:\\Users\\hp\\AppData\\Local\\Programs\\Python\\Python39\\lib\\site-packages\\sklearn\\model_selection\\_validation.py\", line 680, in _fit_and_score\n",
      "    estimator.fit(X_train, y_train, **fit_params)\n",
      "  File \"C:\\Users\\hp\\AppData\\Local\\Programs\\Python\\Python39\\lib\\site-packages\\sklearn\\linear_model\\_logistic.py\", line 1464, in fit\n",
      "    raise ValueError(\"Penalty term must be positive; got (C=%r)\" % self.C)\n",
      "ValueError: Penalty term must be positive; got (C=-6.73469387755102)\n",
      "\n",
      "--------------------------------------------------------------------------------\n",
      "3 fits failed with the following error:\n",
      "Traceback (most recent call last):\n",
      "  File \"C:\\Users\\hp\\AppData\\Local\\Programs\\Python\\Python39\\lib\\site-packages\\sklearn\\model_selection\\_validation.py\", line 680, in _fit_and_score\n",
      "    estimator.fit(X_train, y_train, **fit_params)\n",
      "  File \"C:\\Users\\hp\\AppData\\Local\\Programs\\Python\\Python39\\lib\\site-packages\\sklearn\\linear_model\\_logistic.py\", line 1464, in fit\n",
      "    raise ValueError(\"Penalty term must be positive; got (C=%r)\" % self.C)\n",
      "ValueError: Penalty term must be positive; got (C=-4.285714285714286)\n",
      "\n",
      "--------------------------------------------------------------------------------\n",
      "9 fits failed with the following error:\n",
      "Traceback (most recent call last):\n",
      "  File \"C:\\Users\\hp\\AppData\\Local\\Programs\\Python\\Python39\\lib\\site-packages\\sklearn\\model_selection\\_validation.py\", line 680, in _fit_and_score\n",
      "    estimator.fit(X_train, y_train, **fit_params)\n",
      "  File \"C:\\Users\\hp\\AppData\\Local\\Programs\\Python\\Python39\\lib\\site-packages\\sklearn\\linear_model\\_logistic.py\", line 1461, in fit\n",
      "    solver = _check_solver(self.solver, self.penalty, self.dual)\n",
      "  File \"C:\\Users\\hp\\AppData\\Local\\Programs\\Python\\Python39\\lib\\site-packages\\sklearn\\linear_model\\_logistic.py\", line 447, in _check_solver\n",
      "    raise ValueError(\n",
      "ValueError: Solver lbfgs supports only 'l2' or 'none' penalties, got elasticnet penalty.\n",
      "\n",
      "--------------------------------------------------------------------------------\n",
      "24 fits failed with the following error:\n",
      "Traceback (most recent call last):\n",
      "  File \"C:\\Users\\hp\\AppData\\Local\\Programs\\Python\\Python39\\lib\\site-packages\\sklearn\\model_selection\\_validation.py\", line 680, in _fit_and_score\n",
      "    estimator.fit(X_train, y_train, **fit_params)\n",
      "  File \"C:\\Users\\hp\\AppData\\Local\\Programs\\Python\\Python39\\lib\\site-packages\\sklearn\\linear_model\\_logistic.py\", line 1461, in fit\n",
      "    solver = _check_solver(self.solver, self.penalty, self.dual)\n",
      "  File \"C:\\Users\\hp\\AppData\\Local\\Programs\\Python\\Python39\\lib\\site-packages\\sklearn\\linear_model\\_logistic.py\", line 452, in _check_solver\n",
      "    raise ValueError(\n",
      "ValueError: Solver newton-cg supports only dual=False, got dual=True\n",
      "\n",
      "--------------------------------------------------------------------------------\n",
      "3 fits failed with the following error:\n",
      "Traceback (most recent call last):\n",
      "  File \"C:\\Users\\hp\\AppData\\Local\\Programs\\Python\\Python39\\lib\\site-packages\\sklearn\\model_selection\\_validation.py\", line 680, in _fit_and_score\n",
      "    estimator.fit(X_train, y_train, **fit_params)\n",
      "  File \"C:\\Users\\hp\\AppData\\Local\\Programs\\Python\\Python39\\lib\\site-packages\\sklearn\\linear_model\\_logistic.py\", line 1519, in fit\n",
      "    multi_class = _check_multi_class(self.multi_class, solver, len(self.classes_))\n",
      "  File \"C:\\Users\\hp\\AppData\\Local\\Programs\\Python\\Python39\\lib\\site-packages\\sklearn\\linear_model\\_logistic.py\", line 483, in _check_multi_class\n",
      "    raise ValueError(\"Solver %s does not support a multinomial backend.\" % solver)\n",
      "ValueError: Solver liblinear does not support a multinomial backend.\n",
      "\n",
      "--------------------------------------------------------------------------------\n",
      "9 fits failed with the following error:\n",
      "Traceback (most recent call last):\n",
      "  File \"C:\\Users\\hp\\AppData\\Local\\Programs\\Python\\Python39\\lib\\site-packages\\sklearn\\model_selection\\_validation.py\", line 680, in _fit_and_score\n",
      "    estimator.fit(X_train, y_train, **fit_params)\n",
      "  File \"C:\\Users\\hp\\AppData\\Local\\Programs\\Python\\Python39\\lib\\site-packages\\sklearn\\linear_model\\_logistic.py\", line 1461, in fit\n",
      "    solver = _check_solver(self.solver, self.penalty, self.dual)\n",
      "  File \"C:\\Users\\hp\\AppData\\Local\\Programs\\Python\\Python39\\lib\\site-packages\\sklearn\\linear_model\\_logistic.py\", line 457, in _check_solver\n",
      "    raise ValueError(\n",
      "ValueError: Only 'saga' solver supports elasticnet penalty, got solver=liblinear.\n",
      "\n",
      "--------------------------------------------------------------------------------\n",
      "15 fits failed with the following error:\n",
      "Traceback (most recent call last):\n",
      "  File \"C:\\Users\\hp\\AppData\\Local\\Programs\\Python\\Python39\\lib\\site-packages\\sklearn\\model_selection\\_validation.py\", line 680, in _fit_and_score\n",
      "    estimator.fit(X_train, y_train, **fit_params)\n",
      "  File \"C:\\Users\\hp\\AppData\\Local\\Programs\\Python\\Python39\\lib\\site-packages\\sklearn\\linear_model\\_logistic.py\", line 1461, in fit\n",
      "    solver = _check_solver(self.solver, self.penalty, self.dual)\n",
      "  File \"C:\\Users\\hp\\AppData\\Local\\Programs\\Python\\Python39\\lib\\site-packages\\sklearn\\linear_model\\_logistic.py\", line 447, in _check_solver\n",
      "    raise ValueError(\n",
      "ValueError: Solver newton-cg supports only 'l2' or 'none' penalties, got l1 penalty.\n",
      "\n",
      "--------------------------------------------------------------------------------\n",
      "6 fits failed with the following error:\n",
      "Traceback (most recent call last):\n",
      "  File \"C:\\Users\\hp\\AppData\\Local\\Programs\\Python\\Python39\\lib\\site-packages\\sklearn\\model_selection\\_validation.py\", line 680, in _fit_and_score\n",
      "    estimator.fit(X_train, y_train, **fit_params)\n",
      "  File \"C:\\Users\\hp\\AppData\\Local\\Programs\\Python\\Python39\\lib\\site-packages\\sklearn\\linear_model\\_logistic.py\", line 1464, in fit\n",
      "    raise ValueError(\"Penalty term must be positive; got (C=%r)\" % self.C)\n",
      "ValueError: Penalty term must be positive; got (C=-1.8367346938775508)\n",
      "\n",
      "--------------------------------------------------------------------------------\n",
      "3 fits failed with the following error:\n",
      "Traceback (most recent call last):\n",
      "  File \"C:\\Users\\hp\\AppData\\Local\\Programs\\Python\\Python39\\lib\\site-packages\\sklearn\\model_selection\\_validation.py\", line 680, in _fit_and_score\n",
      "    estimator.fit(X_train, y_train, **fit_params)\n",
      "  File \"C:\\Users\\hp\\AppData\\Local\\Programs\\Python\\Python39\\lib\\site-packages\\sklearn\\linear_model\\_logistic.py\", line 1464, in fit\n",
      "    raise ValueError(\"Penalty term must be positive; got (C=%r)\" % self.C)\n",
      "ValueError: Penalty term must be positive; got (C=-7.959183673469388)\n",
      "\n",
      "--------------------------------------------------------------------------------\n",
      "3 fits failed with the following error:\n",
      "Traceback (most recent call last):\n",
      "  File \"C:\\Users\\hp\\AppData\\Local\\Programs\\Python\\Python39\\lib\\site-packages\\sklearn\\model_selection\\_validation.py\", line 680, in _fit_and_score\n",
      "    estimator.fit(X_train, y_train, **fit_params)\n",
      "  File \"C:\\Users\\hp\\AppData\\Local\\Programs\\Python\\Python39\\lib\\site-packages\\sklearn\\linear_model\\_logistic.py\", line 1464, in fit\n",
      "    raise ValueError(\"Penalty term must be positive; got (C=%r)\" % self.C)\n",
      "ValueError: Penalty term must be positive; got (C=-2.6530612244897958)\n",
      "\n",
      "--------------------------------------------------------------------------------\n",
      "3 fits failed with the following error:\n",
      "Traceback (most recent call last):\n",
      "  File \"C:\\Users\\hp\\AppData\\Local\\Programs\\Python\\Python39\\lib\\site-packages\\sklearn\\model_selection\\_validation.py\", line 680, in _fit_and_score\n",
      "    estimator.fit(X_train, y_train, **fit_params)\n",
      "  File \"C:\\Users\\hp\\AppData\\Local\\Programs\\Python\\Python39\\lib\\site-packages\\sklearn\\linear_model\\_logistic.py\", line 1464, in fit\n",
      "    raise ValueError(\"Penalty term must be positive; got (C=%r)\" % self.C)\n",
      "ValueError: Penalty term must be positive; got (C=-1.4285714285714288)\n",
      "\n",
      "--------------------------------------------------------------------------------\n",
      "3 fits failed with the following error:\n",
      "Traceback (most recent call last):\n",
      "  File \"C:\\Users\\hp\\AppData\\Local\\Programs\\Python\\Python39\\lib\\site-packages\\sklearn\\model_selection\\_validation.py\", line 680, in _fit_and_score\n",
      "    estimator.fit(X_train, y_train, **fit_params)\n",
      "  File \"C:\\Users\\hp\\AppData\\Local\\Programs\\Python\\Python39\\lib\\site-packages\\sklearn\\linear_model\\_logistic.py\", line 1471, in fit\n",
      "    raise ValueError(\n",
      "ValueError: l1_ratio must be between 0 and 1; got (l1_ratio=None)\n",
      "\n",
      "--------------------------------------------------------------------------------\n",
      "3 fits failed with the following error:\n",
      "Traceback (most recent call last):\n",
      "  File \"C:\\Users\\hp\\AppData\\Local\\Programs\\Python\\Python39\\lib\\site-packages\\sklearn\\model_selection\\_validation.py\", line 680, in _fit_and_score\n",
      "    estimator.fit(X_train, y_train, **fit_params)\n",
      "  File \"C:\\Users\\hp\\AppData\\Local\\Programs\\Python\\Python39\\lib\\site-packages\\sklearn\\linear_model\\_logistic.py\", line 1464, in fit\n",
      "    raise ValueError(\"Penalty term must be positive; got (C=%r)\" % self.C)\n",
      "ValueError: Penalty term must be positive; got (C=-5.918367346938775)\n",
      "\n",
      "  warnings.warn(some_fits_failed_message, FitFailedWarning)\n",
      "C:\\Users\\hp\\AppData\\Local\\Programs\\Python\\Python39\\lib\\site-packages\\sklearn\\model_selection\\_search.py:969: UserWarning: One or more of the test scores are non-finite: [       nan        nan        nan        nan        nan        nan\n",
      " 0.76767677 0.75036075        nan        nan        nan        nan\n",
      "        nan        nan        nan        nan        nan 0.78499278\n",
      "        nan        nan        nan 0.78499278        nan        nan\n",
      "        nan        nan        nan        nan 0.71139971        nan\n",
      "        nan        nan        nan 0.71139971        nan        nan\n",
      "        nan        nan        nan        nan        nan        nan\n",
      " 0.71139971        nan        nan        nan        nan        nan\n",
      "        nan        nan 0.78210678        nan        nan        nan\n",
      "        nan        nan        nan        nan        nan        nan\n",
      " 0.75468975 0.70995671        nan        nan 0.75180375        nan\n",
      "        nan        nan        nan        nan        nan        nan\n",
      "        nan        nan        nan        nan 0.75324675        nan\n",
      "        nan        nan        nan        nan        nan        nan\n",
      " 0.74747475        nan        nan        nan        nan        nan\n",
      "        nan        nan        nan        nan        nan        nan\n",
      "        nan        nan        nan        nan]\n",
      "  warnings.warn(\n",
      "C:\\Users\\hp\\AppData\\Local\\Programs\\Python\\Python39\\lib\\site-packages\\sklearn\\linear_model\\_logistic.py:1483: UserWarning: Setting penalty='none' will ignore the C and l1_ratio parameters\n",
      "  warnings.warn(\n"
     ]
    },
    {
     "data": {
      "text/plain": [
       "RandomizedSearchCV(cv=3, estimator=LogisticRegression(), n_iter=100, n_jobs=-1,\n",
       "                   param_distributions={'C': [-10.0, -9.591836734693878,\n",
       "                                              -9.183673469387756,\n",
       "                                              -8.775510204081632,\n",
       "                                              -8.36734693877551,\n",
       "                                              -7.959183673469388,\n",
       "                                              -7.551020408163265,\n",
       "                                              -7.142857142857142,\n",
       "                                              -6.73469387755102,\n",
       "                                              -6.326530612244898,\n",
       "                                              -5.918367346938775,\n",
       "                                              -5.5102040816326525,\n",
       "                                              -5.1020408163265305,\n",
       "                                              -4.69387755102...\n",
       "                                        'max_iter': [10, 31, 52, 73, 94, 115,\n",
       "                                                     136, 157, 178, 200, 100],\n",
       "                                        'multi_class': ['auto', 'ovr',\n",
       "                                                        'multinomial'],\n",
       "                                        'penalty': ['l2', 'l1', 'none',\n",
       "                                                    'elasticnet'],\n",
       "                                        'solver': ['newton-cg', 'lbfgs',\n",
       "                                                   'liblinear', 'sag', 'saga'],\n",
       "                                        'tol': [1e-05, 0.00012, 0.00023,\n",
       "                                                0.00034, 0.00045000000000000004,\n",
       "                                                0.0005600000000000001, 0.00067,\n",
       "                                                0.0007800000000000001,\n",
       "                                                0.0008900000000000001, 0.001]},\n",
       "                   random_state=100, verbose=2)"
      ]
     },
     "execution_count": 175,
     "metadata": {},
     "output_type": "execute_result"
    }
   ],
   "source": [
    "from sklearn.model_selection import RandomizedSearchCV\n",
    "model_RSCV=RandomizedSearchCV(estimator=lr,param_distributions=random_grid,n_iter=100,cv=3,verbose=2,\n",
    "                            random_state=100,n_jobs=-1)\n",
    "model_RSCV.fit(x,Y)"
   ]
  },
  {
   "cell_type": "code",
   "execution_count": 176,
   "id": "d045760c",
   "metadata": {},
   "outputs": [
    {
     "data": {
      "text/plain": [
       "RandomizedSearchCV(cv=3, estimator=LogisticRegression(), n_iter=100, n_jobs=-1,\n",
       "                   param_distributions={'C': [-10.0, -9.591836734693878,\n",
       "                                              -9.183673469387756,\n",
       "                                              -8.775510204081632,\n",
       "                                              -8.36734693877551,\n",
       "                                              -7.959183673469388,\n",
       "                                              -7.551020408163265,\n",
       "                                              -7.142857142857142,\n",
       "                                              -6.73469387755102,\n",
       "                                              -6.326530612244898,\n",
       "                                              -5.918367346938775,\n",
       "                                              -5.5102040816326525,\n",
       "                                              -5.1020408163265305,\n",
       "                                              -4.69387755102...\n",
       "                                        'max_iter': [10, 31, 52, 73, 94, 115,\n",
       "                                                     136, 157, 178, 200, 100],\n",
       "                                        'multi_class': ['auto', 'ovr',\n",
       "                                                        'multinomial'],\n",
       "                                        'penalty': ['l2', 'l1', 'none',\n",
       "                                                    'elasticnet'],\n",
       "                                        'solver': ['newton-cg', 'lbfgs',\n",
       "                                                   'liblinear', 'sag', 'saga'],\n",
       "                                        'tol': [1e-05, 0.00012, 0.00023,\n",
       "                                                0.00034, 0.00045000000000000004,\n",
       "                                                0.0005600000000000001, 0.00067,\n",
       "                                                0.0007800000000000001,\n",
       "                                                0.0008900000000000001, 0.001]},\n",
       "                   random_state=100, verbose=2)"
      ]
     },
     "execution_count": 176,
     "metadata": {},
     "output_type": "execute_result"
    }
   ],
   "source": [
    "model_RSCV"
   ]
  },
  {
   "cell_type": "code",
   "execution_count": 177,
   "id": "cc8640d5",
   "metadata": {},
   "outputs": [
    {
     "data": {
      "text/plain": [
       "{'tol': 0.00023,\n",
       " 'solver': 'sag',\n",
       " 'penalty': 'none',\n",
       " 'multi_class': 'auto',\n",
       " 'max_iter': 94,\n",
       " 'fit_intercept': True,\n",
       " 'dual': False,\n",
       " 'class_weight': None,\n",
       " 'C': 7.95918367346939}"
      ]
     },
     "execution_count": 177,
     "metadata": {},
     "output_type": "execute_result"
    }
   ],
   "source": [
    "#Suspects for bests parameters\n",
    "model_RSCV.best_params_"
   ]
  },
  {
   "cell_type": "code",
   "execution_count": 178,
   "id": "e91b5d1c",
   "metadata": {},
   "outputs": [
    {
     "data": {
      "text/plain": [
       "LogisticRegression(C=7.95918367346939, max_iter=94, penalty='none',\n",
       "                   solver='sag', tol=0.00023)"
      ]
     },
     "execution_count": 178,
     "metadata": {},
     "output_type": "execute_result"
    }
   ],
   "source": [
    "model_RSCV.best_estimator_ \n",
    "#Shows the syntax to make this changed regression model "
   ]
  },
  {
   "cell_type": "code",
   "execution_count": 179,
   "id": "4b0de1f0",
   "metadata": {},
   "outputs": [],
   "source": [
    "model_RSCV_model=model_RSCV.best_estimator_"
   ]
  },
  {
   "cell_type": "code",
   "execution_count": 180,
   "id": "771f8d25",
   "metadata": {},
   "outputs": [
    {
     "data": {
      "text/plain": [
       "LogisticRegression(C=7.95918367346939, max_iter=94, penalty='none',\n",
       "                   solver='sag', tol=0.00023)"
      ]
     },
     "execution_count": 180,
     "metadata": {},
     "output_type": "execute_result"
    }
   ],
   "source": [
    "model_RSCV_model"
   ]
  },
  {
   "cell_type": "code",
   "execution_count": 181,
   "id": "d1972070",
   "metadata": {},
   "outputs": [
    {
     "name": "stdout",
     "output_type": "stream",
     "text": [
      "AxesSubplot(0.125,0.125;0.62x0.755)\n",
      "The accuracy is  0.7482014388489209 \n",
      "\n",
      "\n",
      "              precision    recall  f1-score   support\n",
      "\n",
      "           0       0.77      0.87      0.82        91\n",
      "           1       0.68      0.52      0.59        48\n",
      "\n",
      "    accuracy                           0.75       139\n",
      "   macro avg       0.73      0.69      0.70       139\n",
      "weighted avg       0.74      0.75      0.74       139\n",
      "\n"
     ]
    },
    {
     "data": {
      "image/png": "[encoded data removed]",
      "text/plain": [
       "<Figure size 432x288 with 2 Axes>"
      ]
     },
     "metadata": {
      "needs_background": "light"
     },
     "output_type": "display_data"
    }
   ],
   "source": [
    "#Checking the accuracy of model created by RandomizedSearchCV\n",
    "Y_pred_model_RSCV=model_RSCV.predict(x_test)\n",
    "cm_model_RSCV=confusion_matrix(Y_test,Y_pred_model_RSCV)\n",
    "print(sns.heatmap(cm_model_RSCV,annot=True))\n",
    "print(\"The accuracy is \",accuracy_score(Y_test,Y_pred_model_RSCV),\"\\n\\n\")\n",
    "print(classification_report(Y_test,Y_pred_model_RSCV))"
   ]
  },
  {
   "cell_type": "code",
   "execution_count": 182,
   "id": "8566028f",
   "metadata": {},
   "outputs": [
    {
     "data": {
      "text/plain": [
       "{'tol': 0.00023,\n",
       " 'solver': 'sag',\n",
       " 'penalty': 'none',\n",
       " 'multi_class': 'auto',\n",
       " 'max_iter': 94,\n",
       " 'fit_intercept': True,\n",
       " 'dual': False,\n",
       " 'class_weight': None,\n",
       " 'C': 7.95918367346939}"
      ]
     },
     "execution_count": 182,
     "metadata": {},
     "output_type": "execute_result"
    }
   ],
   "source": [
    "#GridSearchCV\n",
    "model_RSCV.best_params_"
   ]
  },
  {
   "cell_type": "code",
   "execution_count": 183,
   "id": "9cb68230",
   "metadata": {},
   "outputs": [],
   "source": [
    "param_grid={\n",
    "    'tol':[0.00067,0.0007,0.00060,0.0005,0.00062],\n",
    " 'solver': ['liblinear'],\n",
    " 'penalty': ['l2'],\n",
    " 'multi_class': ['auto'],\n",
    " 'max_iter': [94,93,92,95,96,91,98,97],\n",
    " 'fit_intercept': [True],\n",
    " 'dual': [False],\n",
    " 'class_weight': ['balanced'],\n",
    " 'C': [8,9,10,7,6,5,4,11,3]\n",
    " }"
   ]
  },
  {
   "cell_type": "code",
   "execution_count": 184,
   "id": "ab379097",
   "metadata": {},
   "outputs": [
    {
     "name": "stdout",
     "output_type": "stream",
     "text": [
      "Fitting 3 folds for each of 360 candidates, totalling 1080 fits\n",
      "[CV] END C=8, class_weight=balanced, dual=False, fit_intercept=True, max_iter=94, multi_class=auto, penalty=l2, solver=liblinear, tol=0.00067; total time=   0.0s\n",
      "[CV] END C=8, class_weight=balanced, dual=False, fit_intercept=True, max_iter=94, multi_class=auto, penalty=l2, solver=liblinear, tol=0.00067; total time=   0.0s\n",
      "[CV] END C=8, class_weight=balanced, dual=False, fit_intercept=True, max_iter=94, multi_class=auto, penalty=l2, solver=liblinear, tol=0.00067; total time=   0.0s\n",
      "[CV] END C=8, class_weight=balanced, dual=False, fit_intercept=True, max_iter=94, multi_class=auto, penalty=l2, solver=liblinear, tol=0.0007; total time=   0.0s\n",
      "[CV] END C=8, class_weight=balanced, dual=False, fit_intercept=True, max_iter=94, multi_class=auto, penalty=l2, solver=liblinear, tol=0.0007; total time=   0.0s\n",
      "[CV] END C=8, class_weight=balanced, dual=False, fit_intercept=True, max_iter=94, multi_class=auto, penalty=l2, solver=liblinear, tol=0.0007; total time=   0.0s\n",
      "[CV] END C=8, class_weight=balanced, dual=False, fit_intercept=True, max_iter=94, multi_class=auto, penalty=l2, solver=liblinear, tol=0.0006; total time=   0.0s\n",
      "[CV] END C=8, class_weight=balanced, dual=False, fit_intercept=True, max_iter=94, multi_class=auto, penalty=l2, solver=liblinear, tol=0.0006; total time=   0.0s\n",
      "[CV] END C=8, class_weight=balanced, dual=False, fit_intercept=True, max_iter=94, multi_class=auto, penalty=l2, solver=liblinear, tol=0.0006; total time=   0.0s\n",
      "[CV] END C=8, class_weight=balanced, dual=False, fit_intercept=True, max_iter=94, multi_class=auto, penalty=l2, solver=liblinear, tol=0.0005; total time=   0.0s\n",
      "[CV] END C=8, class_weight=balanced, dual=False, fit_intercept=True, max_iter=94, multi_class=auto, penalty=l2, solver=liblinear, tol=0.0005; total time=   0.0s\n",
      "[CV] END C=8, class_weight=balanced, dual=False, fit_intercept=True, max_iter=94, multi_class=auto, penalty=l2, solver=liblinear, tol=0.0005; total time=   0.0s\n",
      "[CV] END C=8, class_weight=balanced, dual=False, fit_intercept=True, max_iter=94, multi_class=auto, penalty=l2, solver=liblinear, tol=0.00062; total time=   0.0s\n",
      "[CV] END C=8, class_weight=balanced, dual=False, fit_intercept=True, max_iter=94, multi_class=auto, penalty=l2, solver=liblinear, tol=0.00062; total time=   0.0s\n",
      "[CV] END C=8, class_weight=balanced, dual=False, fit_intercept=True, max_iter=94, multi_class=auto, penalty=l2, solver=liblinear, tol=0.00062; total time=   0.0s\n",
      "[CV] END C=8, class_weight=balanced, dual=False, fit_intercept=True, max_iter=93, multi_class=auto, penalty=l2, solver=liblinear, tol=0.00067; total time=   0.0s\n",
      "[CV] END C=8, class_weight=balanced, dual=False, fit_intercept=True, max_iter=93, multi_class=auto, penalty=l2, solver=liblinear, tol=0.00067; total time=   0.0s\n",
      "[CV] END C=8, class_weight=balanced, dual=False, fit_intercept=True, max_iter=93, multi_class=auto, penalty=l2, solver=liblinear, tol=0.00067; total time=   0.0s\n",
      "[CV] END C=8, class_weight=balanced, dual=False, fit_intercept=True, max_iter=93, multi_class=auto, penalty=l2, solver=liblinear, tol=0.0007; total time=   0.0s\n",
      "[CV] END C=8, class_weight=balanced, dual=False, fit_intercept=True, max_iter=93, multi_class=auto, penalty=l2, solver=liblinear, tol=0.0007; total time=   0.0s\n",
      "[CV] END C=8, class_weight=balanced, dual=False, fit_intercept=True, max_iter=93, multi_class=auto, penalty=l2, solver=liblinear, tol=0.0007; total time=   0.0s\n",
      "[CV] END C=8, class_weight=balanced, dual=False, fit_intercept=True, max_iter=93, multi_class=auto, penalty=l2, solver=liblinear, tol=0.0006; total time=   0.0s\n",
      "[CV] END C=8, class_weight=balanced, dual=False, fit_intercept=True, max_iter=93, multi_class=auto, penalty=l2, solver=liblinear, tol=0.0006; total time=   0.0s\n",
      "[CV] END C=8, class_weight=balanced, dual=False, fit_intercept=True, max_iter=93, multi_class=auto, penalty=l2, solver=liblinear, tol=0.0006; total time=   0.0s\n",
      "[CV] END C=8, class_weight=balanced, dual=False, fit_intercept=True, max_iter=93, multi_class=auto, penalty=l2, solver=liblinear, tol=0.0005; total time=   0.0s\n",
      "[CV] END C=8, class_weight=balanced, dual=False, fit_intercept=True, max_iter=93, multi_class=auto, penalty=l2, solver=liblinear, tol=0.0005; total time=   0.0s\n",
      "[CV] END C=8, class_weight=balanced, dual=False, fit_intercept=True, max_iter=93, multi_class=auto, penalty=l2, solver=liblinear, tol=0.0005; total time=   0.0s\n",
      "[CV] END C=8, class_weight=balanced, dual=False, fit_intercept=True, max_iter=93, multi_class=auto, penalty=l2, solver=liblinear, tol=0.00062; total time=   0.0s\n",
      "[CV] END C=8, class_weight=balanced, dual=False, fit_intercept=True, max_iter=93, multi_class=auto, penalty=l2, solver=liblinear, tol=0.00062; total time=   0.0s\n",
      "[CV] END C=8, class_weight=balanced, dual=False, fit_intercept=True, max_iter=93, multi_class=auto, penalty=l2, solver=liblinear, tol=0.00062; total time=   0.0s\n",
      "[CV] END C=8, class_weight=balanced, dual=False, fit_intercept=True, max_iter=92, multi_class=auto, penalty=l2, solver=liblinear, tol=0.00067; total time=   0.0s\n",
      "[CV] END C=8, class_weight=balanced, dual=False, fit_intercept=True, max_iter=92, multi_class=auto, penalty=l2, solver=liblinear, tol=0.00067; total time=   0.0s\n",
      "[CV] END C=8, class_weight=balanced, dual=False, fit_intercept=True, max_iter=92, multi_class=auto, penalty=l2, solver=liblinear, tol=0.00067; total time=   0.0s\n",
      "[CV] END C=8, class_weight=balanced, dual=False, fit_intercept=True, max_iter=92, multi_class=auto, penalty=l2, solver=liblinear, tol=0.0007; total time=   0.0s\n",
      "[CV] END C=8, class_weight=balanced, dual=False, fit_intercept=True, max_iter=92, multi_class=auto, penalty=l2, solver=liblinear, tol=0.0007; total time=   0.0s\n",
      "[CV] END C=8, class_weight=balanced, dual=False, fit_intercept=True, max_iter=92, multi_class=auto, penalty=l2, solver=liblinear, tol=0.0007; total time=   0.0s\n",
      "[CV] END C=8, class_weight=balanced, dual=False, fit_intercept=True, max_iter=92, multi_class=auto, penalty=l2, solver=liblinear, tol=0.0006; total time=   0.0s\n",
      "[CV] END C=8, class_weight=balanced, dual=False, fit_intercept=True, max_iter=92, multi_class=auto, penalty=l2, solver=liblinear, tol=0.0006; total time=   0.0s\n",
      "[CV] END C=8, class_weight=balanced, dual=False, fit_intercept=True, max_iter=92, multi_class=auto, penalty=l2, solver=liblinear, tol=0.0006; total time=   0.0s\n",
      "[CV] END C=8, class_weight=balanced, dual=False, fit_intercept=True, max_iter=92, multi_class=auto, penalty=l2, solver=liblinear, tol=0.0005; total time=   0.0s\n",
      "[CV] END C=8, class_weight=balanced, dual=False, fit_intercept=True, max_iter=92, multi_class=auto, penalty=l2, solver=liblinear, tol=0.0005; total time=   0.0s\n",
      "[CV] END C=8, class_weight=balanced, dual=False, fit_intercept=True, max_iter=92, multi_class=auto, penalty=l2, solver=liblinear, tol=0.0005; total time=   0.0s\n",
      "[CV] END C=8, class_weight=balanced, dual=False, fit_intercept=True, max_iter=92, multi_class=auto, penalty=l2, solver=liblinear, tol=0.00062; total time=   0.0s\n",
      "[CV] END C=8, class_weight=balanced, dual=False, fit_intercept=True, max_iter=92, multi_class=auto, penalty=l2, solver=liblinear, tol=0.00062; total time=   0.0s\n",
      "[CV] END C=8, class_weight=balanced, dual=False, fit_intercept=True, max_iter=92, multi_class=auto, penalty=l2, solver=liblinear, tol=0.00062; total time=   0.0s\n",
      "[CV] END C=8, class_weight=balanced, dual=False, fit_intercept=True, max_iter=95, multi_class=auto, penalty=l2, solver=liblinear, tol=0.00067; total time=   0.0s\n",
      "[CV] END C=8, class_weight=balanced, dual=False, fit_intercept=True, max_iter=95, multi_class=auto, penalty=l2, solver=liblinear, tol=0.00067; total time=   0.0s\n",
      "[CV] END C=8, class_weight=balanced, dual=False, fit_intercept=True, max_iter=95, multi_class=auto, penalty=l2, solver=liblinear, tol=0.00067; total time=   0.0s\n",
      "[CV] END C=8, class_weight=balanced, dual=False, fit_intercept=True, max_iter=95, multi_class=auto, penalty=l2, solver=liblinear, tol=0.0007; total time=   0.0s\n",
      "[CV] END C=8, class_weight=balanced, dual=False, fit_intercept=True, max_iter=95, multi_class=auto, penalty=l2, solver=liblinear, tol=0.0007; total time=   0.0s\n",
      "[CV] END C=8, class_weight=balanced, dual=False, fit_intercept=True, max_iter=95, multi_class=auto, penalty=l2, solver=liblinear, tol=0.0007; total time=   0.0s\n",
      "[CV] END C=8, class_weight=balanced, dual=False, fit_intercept=True, max_iter=95, multi_class=auto, penalty=l2, solver=liblinear, tol=0.0006; total time=   0.0s\n",
      "[CV] END C=8, class_weight=balanced, dual=False, fit_intercept=True, max_iter=95, multi_class=auto, penalty=l2, solver=liblinear, tol=0.0006; total time=   0.0s\n",
      "[CV] END C=8, class_weight=balanced, dual=False, fit_intercept=True, max_iter=95, multi_class=auto, penalty=l2, solver=liblinear, tol=0.0006; total time=   0.0s\n",
      "[CV] END C=8, class_weight=balanced, dual=False, fit_intercept=True, max_iter=95, multi_class=auto, penalty=l2, solver=liblinear, tol=0.0005; total time=   0.0s\n",
      "[CV] END C=8, class_weight=balanced, dual=False, fit_intercept=True, max_iter=95, multi_class=auto, penalty=l2, solver=liblinear, tol=0.0005; total time=   0.0s\n",
      "[CV] END C=8, class_weight=balanced, dual=False, fit_intercept=True, max_iter=95, multi_class=auto, penalty=l2, solver=liblinear, tol=0.0005; total time=   0.0s\n",
      "[CV] END C=8, class_weight=balanced, dual=False, fit_intercept=True, max_iter=95, multi_class=auto, penalty=l2, solver=liblinear, tol=0.00062; total time=   0.0s\n",
      "[CV] END C=8, class_weight=balanced, dual=False, fit_intercept=True, max_iter=95, multi_class=auto, penalty=l2, solver=liblinear, tol=0.00062; total time=   0.0s\n",
      "[CV] END C=8, class_weight=balanced, dual=False, fit_intercept=True, max_iter=95, multi_class=auto, penalty=l2, solver=liblinear, tol=0.00062; total time=   0.0s\n",
      "[CV] END C=8, class_weight=balanced, dual=False, fit_intercept=True, max_iter=96, multi_class=auto, penalty=l2, solver=liblinear, tol=0.00067; total time=   0.0s\n",
      "[CV] END C=8, class_weight=balanced, dual=False, fit_intercept=True, max_iter=96, multi_class=auto, penalty=l2, solver=liblinear, tol=0.00067; total time=   0.0s\n",
      "[CV] END C=8, class_weight=balanced, dual=False, fit_intercept=True, max_iter=96, multi_class=auto, penalty=l2, solver=liblinear, tol=0.00067; total time=   0.0s\n",
      "[CV] END C=8, class_weight=balanced, dual=False, fit_intercept=True, max_iter=96, multi_class=auto, penalty=l2, solver=liblinear, tol=0.0007; total time=   0.0s\n",
      "[CV] END C=8, class_weight=balanced, dual=False, fit_intercept=True, max_iter=96, multi_class=auto, penalty=l2, solver=liblinear, tol=0.0007; total time=   0.0s\n",
      "[CV] END C=8, class_weight=balanced, dual=False, fit_intercept=True, max_iter=96, multi_class=auto, penalty=l2, solver=liblinear, tol=0.0007; total time=   0.0s\n",
      "[CV] END C=8, class_weight=balanced, dual=False, fit_intercept=True, max_iter=96, multi_class=auto, penalty=l2, solver=liblinear, tol=0.0006; total time=   0.0s\n",
      "[CV] END C=8, class_weight=balanced, dual=False, fit_intercept=True, max_iter=96, multi_class=auto, penalty=l2, solver=liblinear, tol=0.0006; total time=   0.0s\n",
      "[CV] END C=8, class_weight=balanced, dual=False, fit_intercept=True, max_iter=96, multi_class=auto, penalty=l2, solver=liblinear, tol=0.0006; total time=   0.0s\n",
      "[CV] END C=8, class_weight=balanced, dual=False, fit_intercept=True, max_iter=96, multi_class=auto, penalty=l2, solver=liblinear, tol=0.0005; total time=   0.0s\n",
      "[CV] END C=8, class_weight=balanced, dual=False, fit_intercept=True, max_iter=96, multi_class=auto, penalty=l2, solver=liblinear, tol=0.0005; total time=   0.0s\n",
      "[CV] END C=8, class_weight=balanced, dual=False, fit_intercept=True, max_iter=96, multi_class=auto, penalty=l2, solver=liblinear, tol=0.0005; total time=   0.0s\n",
      "[CV] END C=8, class_weight=balanced, dual=False, fit_intercept=True, max_iter=96, multi_class=auto, penalty=l2, solver=liblinear, tol=0.00062; total time=   0.0s\n",
      "[CV] END C=8, class_weight=balanced, dual=False, fit_intercept=True, max_iter=96, multi_class=auto, penalty=l2, solver=liblinear, tol=0.00062; total time=   0.0s\n"
     ]
    },
    {
     "name": "stdout",
     "output_type": "stream",
     "text": [
      "[CV] END C=8, class_weight=balanced, dual=False, fit_intercept=True, max_iter=96, multi_class=auto, penalty=l2, solver=liblinear, tol=0.00062; total time=   0.0s\n",
      "[CV] END C=8, class_weight=balanced, dual=False, fit_intercept=True, max_iter=91, multi_class=auto, penalty=l2, solver=liblinear, tol=0.00067; total time=   0.0s\n",
      "[CV] END C=8, class_weight=balanced, dual=False, fit_intercept=True, max_iter=91, multi_class=auto, penalty=l2, solver=liblinear, tol=0.00067; total time=   0.0s\n",
      "[CV] END C=8, class_weight=balanced, dual=False, fit_intercept=True, max_iter=91, multi_class=auto, penalty=l2, solver=liblinear, tol=0.00067; total time=   0.0s\n",
      "[CV] END C=8, class_weight=balanced, dual=False, fit_intercept=True, max_iter=91, multi_class=auto, penalty=l2, solver=liblinear, tol=0.0007; total time=   0.0s\n",
      "[CV] END C=8, class_weight=balanced, dual=False, fit_intercept=True, max_iter=91, multi_class=auto, penalty=l2, solver=liblinear, tol=0.0007; total time=   0.0s\n",
      "[CV] END C=8, class_weight=balanced, dual=False, fit_intercept=True, max_iter=91, multi_class=auto, penalty=l2, solver=liblinear, tol=0.0007; total time=   0.0s\n",
      "[CV] END C=8, class_weight=balanced, dual=False, fit_intercept=True, max_iter=91, multi_class=auto, penalty=l2, solver=liblinear, tol=0.0006; total time=   0.0s\n",
      "[CV] END C=8, class_weight=balanced, dual=False, fit_intercept=True, max_iter=91, multi_class=auto, penalty=l2, solver=liblinear, tol=0.0006; total time=   0.0s\n",
      "[CV] END C=8, class_weight=balanced, dual=False, fit_intercept=True, max_iter=91, multi_class=auto, penalty=l2, solver=liblinear, tol=0.0006; total time=   0.0s\n",
      "[CV] END C=8, class_weight=balanced, dual=False, fit_intercept=True, max_iter=91, multi_class=auto, penalty=l2, solver=liblinear, tol=0.0005; total time=   0.0s\n",
      "[CV] END C=8, class_weight=balanced, dual=False, fit_intercept=True, max_iter=91, multi_class=auto, penalty=l2, solver=liblinear, tol=0.0005; total time=   0.0s\n",
      "[CV] END C=8, class_weight=balanced, dual=False, fit_intercept=True, max_iter=91, multi_class=auto, penalty=l2, solver=liblinear, tol=0.0005; total time=   0.0s\n",
      "[CV] END C=8, class_weight=balanced, dual=False, fit_intercept=True, max_iter=91, multi_class=auto, penalty=l2, solver=liblinear, tol=0.00062; total time=   0.0s\n",
      "[CV] END C=8, class_weight=balanced, dual=False, fit_intercept=True, max_iter=91, multi_class=auto, penalty=l2, solver=liblinear, tol=0.00062; total time=   0.0s\n",
      "[CV] END C=8, class_weight=balanced, dual=False, fit_intercept=True, max_iter=91, multi_class=auto, penalty=l2, solver=liblinear, tol=0.00062; total time=   0.0s\n",
      "[CV] END C=8, class_weight=balanced, dual=False, fit_intercept=True, max_iter=98, multi_class=auto, penalty=l2, solver=liblinear, tol=0.00067; total time=   0.0s\n",
      "[CV] END C=8, class_weight=balanced, dual=False, fit_intercept=True, max_iter=98, multi_class=auto, penalty=l2, solver=liblinear, tol=0.00067; total time=   0.0s\n",
      "[CV] END C=8, class_weight=balanced, dual=False, fit_intercept=True, max_iter=98, multi_class=auto, penalty=l2, solver=liblinear, tol=0.00067; total time=   0.0s\n",
      "[CV] END C=8, class_weight=balanced, dual=False, fit_intercept=True, max_iter=98, multi_class=auto, penalty=l2, solver=liblinear, tol=0.0007; total time=   0.0s\n",
      "[CV] END C=8, class_weight=balanced, dual=False, fit_intercept=True, max_iter=98, multi_class=auto, penalty=l2, solver=liblinear, tol=0.0007; total time=   0.0s\n",
      "[CV] END C=8, class_weight=balanced, dual=False, fit_intercept=True, max_iter=98, multi_class=auto, penalty=l2, solver=liblinear, tol=0.0007; total time=   0.0s\n",
      "[CV] END C=8, class_weight=balanced, dual=False, fit_intercept=True, max_iter=98, multi_class=auto, penalty=l2, solver=liblinear, tol=0.0006; total time=   0.0s\n",
      "[CV] END C=8, class_weight=balanced, dual=False, fit_intercept=True, max_iter=98, multi_class=auto, penalty=l2, solver=liblinear, tol=0.0006; total time=   0.0s\n",
      "[CV] END C=8, class_weight=balanced, dual=False, fit_intercept=True, max_iter=98, multi_class=auto, penalty=l2, solver=liblinear, tol=0.0006; total time=   0.0s\n",
      "[CV] END C=8, class_weight=balanced, dual=False, fit_intercept=True, max_iter=98, multi_class=auto, penalty=l2, solver=liblinear, tol=0.0005; total time=   0.0s\n",
      "[CV] END C=8, class_weight=balanced, dual=False, fit_intercept=True, max_iter=98, multi_class=auto, penalty=l2, solver=liblinear, tol=0.0005; total time=   0.0s\n",
      "[CV] END C=8, class_weight=balanced, dual=False, fit_intercept=True, max_iter=98, multi_class=auto, penalty=l2, solver=liblinear, tol=0.0005; total time=   0.0s\n",
      "[CV] END C=8, class_weight=balanced, dual=False, fit_intercept=True, max_iter=98, multi_class=auto, penalty=l2, solver=liblinear, tol=0.00062; total time=   0.0s\n",
      "[CV] END C=8, class_weight=balanced, dual=False, fit_intercept=True, max_iter=98, multi_class=auto, penalty=l2, solver=liblinear, tol=0.00062; total time=   0.0s\n",
      "[CV] END C=8, class_weight=balanced, dual=False, fit_intercept=True, max_iter=98, multi_class=auto, penalty=l2, solver=liblinear, tol=0.00062; total time=   0.0s\n",
      "[CV] END C=8, class_weight=balanced, dual=False, fit_intercept=True, max_iter=97, multi_class=auto, penalty=l2, solver=liblinear, tol=0.00067; total time=   0.0s\n",
      "[CV] END C=8, class_weight=balanced, dual=False, fit_intercept=True, max_iter=97, multi_class=auto, penalty=l2, solver=liblinear, tol=0.00067; total time=   0.0s\n",
      "[CV] END C=8, class_weight=balanced, dual=False, fit_intercept=True, max_iter=97, multi_class=auto, penalty=l2, solver=liblinear, tol=0.00067; total time=   0.0s\n",
      "[CV] END C=8, class_weight=balanced, dual=False, fit_intercept=True, max_iter=97, multi_class=auto, penalty=l2, solver=liblinear, tol=0.0007; total time=   0.0s\n",
      "[CV] END C=8, class_weight=balanced, dual=False, fit_intercept=True, max_iter=97, multi_class=auto, penalty=l2, solver=liblinear, tol=0.0007; total time=   0.0s\n",
      "[CV] END C=8, class_weight=balanced, dual=False, fit_intercept=True, max_iter=97, multi_class=auto, penalty=l2, solver=liblinear, tol=0.0007; total time=   0.0s\n",
      "[CV] END C=8, class_weight=balanced, dual=False, fit_intercept=True, max_iter=97, multi_class=auto, penalty=l2, solver=liblinear, tol=0.0006; total time=   0.0s\n",
      "[CV] END C=8, class_weight=balanced, dual=False, fit_intercept=True, max_iter=97, multi_class=auto, penalty=l2, solver=liblinear, tol=0.0006; total time=   0.0s\n",
      "[CV] END C=8, class_weight=balanced, dual=False, fit_intercept=True, max_iter=97, multi_class=auto, penalty=l2, solver=liblinear, tol=0.0006; total time=   0.0s\n",
      "[CV] END C=8, class_weight=balanced, dual=False, fit_intercept=True, max_iter=97, multi_class=auto, penalty=l2, solver=liblinear, tol=0.0005; total time=   0.0s\n",
      "[CV] END C=8, class_weight=balanced, dual=False, fit_intercept=True, max_iter=97, multi_class=auto, penalty=l2, solver=liblinear, tol=0.0005; total time=   0.0s\n",
      "[CV] END C=8, class_weight=balanced, dual=False, fit_intercept=True, max_iter=97, multi_class=auto, penalty=l2, solver=liblinear, tol=0.0005; total time=   0.0s\n",
      "[CV] END C=8, class_weight=balanced, dual=False, fit_intercept=True, max_iter=97, multi_class=auto, penalty=l2, solver=liblinear, tol=0.00062; total time=   0.0s\n",
      "[CV] END C=8, class_weight=balanced, dual=False, fit_intercept=True, max_iter=97, multi_class=auto, penalty=l2, solver=liblinear, tol=0.00062; total time=   0.0s\n",
      "[CV] END C=8, class_weight=balanced, dual=False, fit_intercept=True, max_iter=97, multi_class=auto, penalty=l2, solver=liblinear, tol=0.00062; total time=   0.0s\n",
      "[CV] END C=9, class_weight=balanced, dual=False, fit_intercept=True, max_iter=94, multi_class=auto, penalty=l2, solver=liblinear, tol=0.00067; total time=   0.0s\n",
      "[CV] END C=9, class_weight=balanced, dual=False, fit_intercept=True, max_iter=94, multi_class=auto, penalty=l2, solver=liblinear, tol=0.00067; total time=   0.0s\n",
      "[CV] END C=9, class_weight=balanced, dual=False, fit_intercept=True, max_iter=94, multi_class=auto, penalty=l2, solver=liblinear, tol=0.00067; total time=   0.0s\n",
      "[CV] END C=9, class_weight=balanced, dual=False, fit_intercept=True, max_iter=94, multi_class=auto, penalty=l2, solver=liblinear, tol=0.0007; total time=   0.0s\n",
      "[CV] END C=9, class_weight=balanced, dual=False, fit_intercept=True, max_iter=94, multi_class=auto, penalty=l2, solver=liblinear, tol=0.0007; total time=   0.0s\n",
      "[CV] END C=9, class_weight=balanced, dual=False, fit_intercept=True, max_iter=94, multi_class=auto, penalty=l2, solver=liblinear, tol=0.0007; total time=   0.0s\n"
     ]
    },
    {
     "name": "stdout",
     "output_type": "stream",
     "text": [
      "[CV] END C=9, class_weight=balanced, dual=False, fit_intercept=True, max_iter=94, multi_class=auto, penalty=l2, solver=liblinear, tol=0.0006; total time=   0.0s\n",
      "[CV] END C=9, class_weight=balanced, dual=False, fit_intercept=True, max_iter=94, multi_class=auto, penalty=l2, solver=liblinear, tol=0.0006; total time=   0.0s\n",
      "[CV] END C=9, class_weight=balanced, dual=False, fit_intercept=True, max_iter=94, multi_class=auto, penalty=l2, solver=liblinear, tol=0.0006; total time=   0.0s\n",
      "[CV] END C=9, class_weight=balanced, dual=False, fit_intercept=True, max_iter=94, multi_class=auto, penalty=l2, solver=liblinear, tol=0.0005; total time=   0.0s\n",
      "[CV] END C=9, class_weight=balanced, dual=False, fit_intercept=True, max_iter=94, multi_class=auto, penalty=l2, solver=liblinear, tol=0.0005; total time=   0.0s\n",
      "[CV] END C=9, class_weight=balanced, dual=False, fit_intercept=True, max_iter=94, multi_class=auto, penalty=l2, solver=liblinear, tol=0.0005; total time=   0.0s\n",
      "[CV] END C=9, class_weight=balanced, dual=False, fit_intercept=True, max_iter=94, multi_class=auto, penalty=l2, solver=liblinear, tol=0.00062; total time=   0.0s\n",
      "[CV] END C=9, class_weight=balanced, dual=False, fit_intercept=True, max_iter=94, multi_class=auto, penalty=l2, solver=liblinear, tol=0.00062; total time=   0.0s\n",
      "[CV] END C=9, class_weight=balanced, dual=False, fit_intercept=True, max_iter=94, multi_class=auto, penalty=l2, solver=liblinear, tol=0.00062; total time=   0.0s\n",
      "[CV] END C=9, class_weight=balanced, dual=False, fit_intercept=True, max_iter=93, multi_class=auto, penalty=l2, solver=liblinear, tol=0.00067; total time=   0.0s\n",
      "[CV] END C=9, class_weight=balanced, dual=False, fit_intercept=True, max_iter=93, multi_class=auto, penalty=l2, solver=liblinear, tol=0.00067; total time=   0.0s\n",
      "[CV] END C=9, class_weight=balanced, dual=False, fit_intercept=True, max_iter=93, multi_class=auto, penalty=l2, solver=liblinear, tol=0.00067; total time=   0.0s\n",
      "[CV] END C=9, class_weight=balanced, dual=False, fit_intercept=True, max_iter=93, multi_class=auto, penalty=l2, solver=liblinear, tol=0.0007; total time=   0.0s\n",
      "[CV] END C=9, class_weight=balanced, dual=False, fit_intercept=True, max_iter=93, multi_class=auto, penalty=l2, solver=liblinear, tol=0.0007; total time=   0.0s\n",
      "[CV] END C=9, class_weight=balanced, dual=False, fit_intercept=True, max_iter=93, multi_class=auto, penalty=l2, solver=liblinear, tol=0.0007; total time=   0.0s\n",
      "[CV] END C=9, class_weight=balanced, dual=False, fit_intercept=True, max_iter=93, multi_class=auto, penalty=l2, solver=liblinear, tol=0.0006; total time=   0.0s\n",
      "[CV] END C=9, class_weight=balanced, dual=False, fit_intercept=True, max_iter=93, multi_class=auto, penalty=l2, solver=liblinear, tol=0.0006; total time=   0.0s\n",
      "[CV] END C=9, class_weight=balanced, dual=False, fit_intercept=True, max_iter=93, multi_class=auto, penalty=l2, solver=liblinear, tol=0.0006; total time=   0.0s\n",
      "[CV] END C=9, class_weight=balanced, dual=False, fit_intercept=True, max_iter=93, multi_class=auto, penalty=l2, solver=liblinear, tol=0.0005; total time=   0.0s\n",
      "[CV] END C=9, class_weight=balanced, dual=False, fit_intercept=True, max_iter=93, multi_class=auto, penalty=l2, solver=liblinear, tol=0.0005; total time=   0.0s\n",
      "[CV] END C=9, class_weight=balanced, dual=False, fit_intercept=True, max_iter=93, multi_class=auto, penalty=l2, solver=liblinear, tol=0.0005; total time=   0.0s\n",
      "[CV] END C=9, class_weight=balanced, dual=False, fit_intercept=True, max_iter=93, multi_class=auto, penalty=l2, solver=liblinear, tol=0.00062; total time=   0.0s\n",
      "[CV] END C=9, class_weight=balanced, dual=False, fit_intercept=True, max_iter=93, multi_class=auto, penalty=l2, solver=liblinear, tol=0.00062; total time=   0.0s\n",
      "[CV] END C=9, class_weight=balanced, dual=False, fit_intercept=True, max_iter=93, multi_class=auto, penalty=l2, solver=liblinear, tol=0.00062; total time=   0.0s\n",
      "[CV] END C=9, class_weight=balanced, dual=False, fit_intercept=True, max_iter=92, multi_class=auto, penalty=l2, solver=liblinear, tol=0.00067; total time=   0.0s\n",
      "[CV] END C=9, class_weight=balanced, dual=False, fit_intercept=True, max_iter=92, multi_class=auto, penalty=l2, solver=liblinear, tol=0.00067; total time=   0.0s\n",
      "[CV] END C=9, class_weight=balanced, dual=False, fit_intercept=True, max_iter=92, multi_class=auto, penalty=l2, solver=liblinear, tol=0.00067; total time=   0.0s\n",
      "[CV] END C=9, class_weight=balanced, dual=False, fit_intercept=True, max_iter=92, multi_class=auto, penalty=l2, solver=liblinear, tol=0.0007; total time=   0.0s\n",
      "[CV] END C=9, class_weight=balanced, dual=False, fit_intercept=True, max_iter=92, multi_class=auto, penalty=l2, solver=liblinear, tol=0.0007; total time=   0.0s\n",
      "[CV] END C=9, class_weight=balanced, dual=False, fit_intercept=True, max_iter=92, multi_class=auto, penalty=l2, solver=liblinear, tol=0.0007; total time=   0.0s\n",
      "[CV] END C=9, class_weight=balanced, dual=False, fit_intercept=True, max_iter=92, multi_class=auto, penalty=l2, solver=liblinear, tol=0.0006; total time=   0.0s\n",
      "[CV] END C=9, class_weight=balanced, dual=False, fit_intercept=True, max_iter=92, multi_class=auto, penalty=l2, solver=liblinear, tol=0.0006; total time=   0.0s\n",
      "[CV] END C=9, class_weight=balanced, dual=False, fit_intercept=True, max_iter=92, multi_class=auto, penalty=l2, solver=liblinear, tol=0.0006; total time=   0.0s\n",
      "[CV] END C=9, class_weight=balanced, dual=False, fit_intercept=True, max_iter=92, multi_class=auto, penalty=l2, solver=liblinear, tol=0.0005; total time=   0.0s\n",
      "[CV] END C=9, class_weight=balanced, dual=False, fit_intercept=True, max_iter=92, multi_class=auto, penalty=l2, solver=liblinear, tol=0.0005; total time=   0.0s\n",
      "[CV] END C=9, class_weight=balanced, dual=False, fit_intercept=True, max_iter=92, multi_class=auto, penalty=l2, solver=liblinear, tol=0.0005; total time=   0.0s\n",
      "[CV] END C=9, class_weight=balanced, dual=False, fit_intercept=True, max_iter=92, multi_class=auto, penalty=l2, solver=liblinear, tol=0.00062; total time=   0.0s\n",
      "[CV] END C=9, class_weight=balanced, dual=False, fit_intercept=True, max_iter=92, multi_class=auto, penalty=l2, solver=liblinear, tol=0.00062; total time=   0.0s\n",
      "[CV] END C=9, class_weight=balanced, dual=False, fit_intercept=True, max_iter=92, multi_class=auto, penalty=l2, solver=liblinear, tol=0.00062; total time=   0.0s\n",
      "[CV] END C=9, class_weight=balanced, dual=False, fit_intercept=True, max_iter=95, multi_class=auto, penalty=l2, solver=liblinear, tol=0.00067; total time=   0.0s\n",
      "[CV] END C=9, class_weight=balanced, dual=False, fit_intercept=True, max_iter=95, multi_class=auto, penalty=l2, solver=liblinear, tol=0.00067; total time=   0.0s\n",
      "[CV] END C=9, class_weight=balanced, dual=False, fit_intercept=True, max_iter=95, multi_class=auto, penalty=l2, solver=liblinear, tol=0.00067; total time=   0.0s\n",
      "[CV] END C=9, class_weight=balanced, dual=False, fit_intercept=True, max_iter=95, multi_class=auto, penalty=l2, solver=liblinear, tol=0.0007; total time=   0.0s\n",
      "[CV] END C=9, class_weight=balanced, dual=False, fit_intercept=True, max_iter=95, multi_class=auto, penalty=l2, solver=liblinear, tol=0.0007; total time=   0.0s\n",
      "[CV] END C=9, class_weight=balanced, dual=False, fit_intercept=True, max_iter=95, multi_class=auto, penalty=l2, solver=liblinear, tol=0.0007; total time=   0.0s\n",
      "[CV] END C=9, class_weight=balanced, dual=False, fit_intercept=True, max_iter=95, multi_class=auto, penalty=l2, solver=liblinear, tol=0.0006; total time=   0.0s\n",
      "[CV] END C=9, class_weight=balanced, dual=False, fit_intercept=True, max_iter=95, multi_class=auto, penalty=l2, solver=liblinear, tol=0.0006; total time=   0.0s\n",
      "[CV] END C=9, class_weight=balanced, dual=False, fit_intercept=True, max_iter=95, multi_class=auto, penalty=l2, solver=liblinear, tol=0.0006; total time=   0.0s\n",
      "[CV] END C=9, class_weight=balanced, dual=False, fit_intercept=True, max_iter=95, multi_class=auto, penalty=l2, solver=liblinear, tol=0.0005; total time=   0.0s\n",
      "[CV] END C=9, class_weight=balanced, dual=False, fit_intercept=True, max_iter=95, multi_class=auto, penalty=l2, solver=liblinear, tol=0.0005; total time=   0.0s\n",
      "[CV] END C=9, class_weight=balanced, dual=False, fit_intercept=True, max_iter=95, multi_class=auto, penalty=l2, solver=liblinear, tol=0.0005; total time=   0.0s\n",
      "[CV] END C=9, class_weight=balanced, dual=False, fit_intercept=True, max_iter=95, multi_class=auto, penalty=l2, solver=liblinear, tol=0.00062; total time=   0.0s\n",
      "[CV] END C=9, class_weight=balanced, dual=False, fit_intercept=True, max_iter=95, multi_class=auto, penalty=l2, solver=liblinear, tol=0.00062; total time=   0.0s\n",
      "[CV] END C=9, class_weight=balanced, dual=False, fit_intercept=True, max_iter=95, multi_class=auto, penalty=l2, solver=liblinear, tol=0.00062; total time=   0.0s\n",
      "[CV] END C=9, class_weight=balanced, dual=False, fit_intercept=True, max_iter=96, multi_class=auto, penalty=l2, solver=liblinear, tol=0.00067; total time=   0.0s\n"
     ]
    },
    {
     "name": "stdout",
     "output_type": "stream",
     "text": [
      "[CV] END C=9, class_weight=balanced, dual=False, fit_intercept=True, max_iter=96, multi_class=auto, penalty=l2, solver=liblinear, tol=0.00067; total time=   0.0s\n",
      "[CV] END C=9, class_weight=balanced, dual=False, fit_intercept=True, max_iter=96, multi_class=auto, penalty=l2, solver=liblinear, tol=0.00067; total time=   0.0s\n",
      "[CV] END C=9, class_weight=balanced, dual=False, fit_intercept=True, max_iter=96, multi_class=auto, penalty=l2, solver=liblinear, tol=0.0007; total time=   0.0s\n",
      "[CV] END C=9, class_weight=balanced, dual=False, fit_intercept=True, max_iter=96, multi_class=auto, penalty=l2, solver=liblinear, tol=0.0007; total time=   0.0s\n",
      "[CV] END C=9, class_weight=balanced, dual=False, fit_intercept=True, max_iter=96, multi_class=auto, penalty=l2, solver=liblinear, tol=0.0007; total time=   0.0s\n",
      "[CV] END C=9, class_weight=balanced, dual=False, fit_intercept=True, max_iter=96, multi_class=auto, penalty=l2, solver=liblinear, tol=0.0006; total time=   0.0s\n",
      "[CV] END C=9, class_weight=balanced, dual=False, fit_intercept=True, max_iter=96, multi_class=auto, penalty=l2, solver=liblinear, tol=0.0006; total time=   0.0s\n",
      "[CV] END C=9, class_weight=balanced, dual=False, fit_intercept=True, max_iter=96, multi_class=auto, penalty=l2, solver=liblinear, tol=0.0006; total time=   0.0s\n",
      "[CV] END C=9, class_weight=balanced, dual=False, fit_intercept=True, max_iter=96, multi_class=auto, penalty=l2, solver=liblinear, tol=0.0005; total time=   0.0s\n",
      "[CV] END C=9, class_weight=balanced, dual=False, fit_intercept=True, max_iter=96, multi_class=auto, penalty=l2, solver=liblinear, tol=0.0005; total time=   0.0s\n",
      "[CV] END C=9, class_weight=balanced, dual=False, fit_intercept=True, max_iter=96, multi_class=auto, penalty=l2, solver=liblinear, tol=0.0005; total time=   0.0s\n",
      "[CV] END C=9, class_weight=balanced, dual=False, fit_intercept=True, max_iter=96, multi_class=auto, penalty=l2, solver=liblinear, tol=0.00062; total time=   0.0s\n",
      "[CV] END C=9, class_weight=balanced, dual=False, fit_intercept=True, max_iter=96, multi_class=auto, penalty=l2, solver=liblinear, tol=0.00062; total time=   0.0s\n",
      "[CV] END C=9, class_weight=balanced, dual=False, fit_intercept=True, max_iter=96, multi_class=auto, penalty=l2, solver=liblinear, tol=0.00062; total time=   0.0s\n",
      "[CV] END C=9, class_weight=balanced, dual=False, fit_intercept=True, max_iter=91, multi_class=auto, penalty=l2, solver=liblinear, tol=0.00067; total time=   0.0s\n",
      "[CV] END C=9, class_weight=balanced, dual=False, fit_intercept=True, max_iter=91, multi_class=auto, penalty=l2, solver=liblinear, tol=0.00067; total time=   0.0s\n",
      "[CV] END C=9, class_weight=balanced, dual=False, fit_intercept=True, max_iter=91, multi_class=auto, penalty=l2, solver=liblinear, tol=0.00067; total time=   0.0s\n",
      "[CV] END C=9, class_weight=balanced, dual=False, fit_intercept=True, max_iter=91, multi_class=auto, penalty=l2, solver=liblinear, tol=0.0007; total time=   0.0s\n",
      "[CV] END C=9, class_weight=balanced, dual=False, fit_intercept=True, max_iter=91, multi_class=auto, penalty=l2, solver=liblinear, tol=0.0007; total time=   0.0s\n",
      "[CV] END C=9, class_weight=balanced, dual=False, fit_intercept=True, max_iter=91, multi_class=auto, penalty=l2, solver=liblinear, tol=0.0007; total time=   0.0s\n",
      "[CV] END C=9, class_weight=balanced, dual=False, fit_intercept=True, max_iter=91, multi_class=auto, penalty=l2, solver=liblinear, tol=0.0006; total time=   0.0s\n",
      "[CV] END C=9, class_weight=balanced, dual=False, fit_intercept=True, max_iter=91, multi_class=auto, penalty=l2, solver=liblinear, tol=0.0006; total time=   0.0s\n",
      "[CV] END C=9, class_weight=balanced, dual=False, fit_intercept=True, max_iter=91, multi_class=auto, penalty=l2, solver=liblinear, tol=0.0006; total time=   0.0s\n",
      "[CV] END C=9, class_weight=balanced, dual=False, fit_intercept=True, max_iter=91, multi_class=auto, penalty=l2, solver=liblinear, tol=0.0005; total time=   0.0s\n",
      "[CV] END C=9, class_weight=balanced, dual=False, fit_intercept=True, max_iter=91, multi_class=auto, penalty=l2, solver=liblinear, tol=0.0005; total time=   0.0s\n",
      "[CV] END C=9, class_weight=balanced, dual=False, fit_intercept=True, max_iter=91, multi_class=auto, penalty=l2, solver=liblinear, tol=0.0005; total time=   0.0s\n",
      "[CV] END C=9, class_weight=balanced, dual=False, fit_intercept=True, max_iter=91, multi_class=auto, penalty=l2, solver=liblinear, tol=0.00062; total time=   0.0s\n",
      "[CV] END C=9, class_weight=balanced, dual=False, fit_intercept=True, max_iter=91, multi_class=auto, penalty=l2, solver=liblinear, tol=0.00062; total time=   0.0s\n",
      "[CV] END C=9, class_weight=balanced, dual=False, fit_intercept=True, max_iter=91, multi_class=auto, penalty=l2, solver=liblinear, tol=0.00062; total time=   0.0s\n",
      "[CV] END C=9, class_weight=balanced, dual=False, fit_intercept=True, max_iter=98, multi_class=auto, penalty=l2, solver=liblinear, tol=0.00067; total time=   0.0s\n",
      "[CV] END C=9, class_weight=balanced, dual=False, fit_intercept=True, max_iter=98, multi_class=auto, penalty=l2, solver=liblinear, tol=0.00067; total time=   0.0s\n",
      "[CV] END C=9, class_weight=balanced, dual=False, fit_intercept=True, max_iter=98, multi_class=auto, penalty=l2, solver=liblinear, tol=0.00067; total time=   0.0s\n",
      "[CV] END C=9, class_weight=balanced, dual=False, fit_intercept=True, max_iter=98, multi_class=auto, penalty=l2, solver=liblinear, tol=0.0007; total time=   0.0s\n",
      "[CV] END C=9, class_weight=balanced, dual=False, fit_intercept=True, max_iter=98, multi_class=auto, penalty=l2, solver=liblinear, tol=0.0007; total time=   0.0s\n",
      "[CV] END C=9, class_weight=balanced, dual=False, fit_intercept=True, max_iter=98, multi_class=auto, penalty=l2, solver=liblinear, tol=0.0007; total time=   0.0s\n",
      "[CV] END C=9, class_weight=balanced, dual=False, fit_intercept=True, max_iter=98, multi_class=auto, penalty=l2, solver=liblinear, tol=0.0006; total time=   0.0s\n",
      "[CV] END C=9, class_weight=balanced, dual=False, fit_intercept=True, max_iter=98, multi_class=auto, penalty=l2, solver=liblinear, tol=0.0006; total time=   0.0s\n",
      "[CV] END C=9, class_weight=balanced, dual=False, fit_intercept=True, max_iter=98, multi_class=auto, penalty=l2, solver=liblinear, tol=0.0006; total time=   0.0s\n",
      "[CV] END C=9, class_weight=balanced, dual=False, fit_intercept=True, max_iter=98, multi_class=auto, penalty=l2, solver=liblinear, tol=0.0005; total time=   0.0s\n",
      "[CV] END C=9, class_weight=balanced, dual=False, fit_intercept=True, max_iter=98, multi_class=auto, penalty=l2, solver=liblinear, tol=0.0005; total time=   0.0s\n",
      "[CV] END C=9, class_weight=balanced, dual=False, fit_intercept=True, max_iter=98, multi_class=auto, penalty=l2, solver=liblinear, tol=0.0005; total time=   0.0s\n",
      "[CV] END C=9, class_weight=balanced, dual=False, fit_intercept=True, max_iter=98, multi_class=auto, penalty=l2, solver=liblinear, tol=0.00062; total time=   0.0s\n",
      "[CV] END C=9, class_weight=balanced, dual=False, fit_intercept=True, max_iter=98, multi_class=auto, penalty=l2, solver=liblinear, tol=0.00062; total time=   0.0s\n",
      "[CV] END C=9, class_weight=balanced, dual=False, fit_intercept=True, max_iter=98, multi_class=auto, penalty=l2, solver=liblinear, tol=0.00062; total time=   0.0s\n",
      "[CV] END C=9, class_weight=balanced, dual=False, fit_intercept=True, max_iter=97, multi_class=auto, penalty=l2, solver=liblinear, tol=0.00067; total time=   0.0s\n",
      "[CV] END C=9, class_weight=balanced, dual=False, fit_intercept=True, max_iter=97, multi_class=auto, penalty=l2, solver=liblinear, tol=0.00067; total time=   0.0s\n",
      "[CV] END C=9, class_weight=balanced, dual=False, fit_intercept=True, max_iter=97, multi_class=auto, penalty=l2, solver=liblinear, tol=0.00067; total time=   0.0s\n",
      "[CV] END C=9, class_weight=balanced, dual=False, fit_intercept=True, max_iter=97, multi_class=auto, penalty=l2, solver=liblinear, tol=0.0007; total time=   0.0s\n",
      "[CV] END C=9, class_weight=balanced, dual=False, fit_intercept=True, max_iter=97, multi_class=auto, penalty=l2, solver=liblinear, tol=0.0007; total time=   0.0s\n",
      "[CV] END C=9, class_weight=balanced, dual=False, fit_intercept=True, max_iter=97, multi_class=auto, penalty=l2, solver=liblinear, tol=0.0007; total time=   0.0s\n",
      "[CV] END C=9, class_weight=balanced, dual=False, fit_intercept=True, max_iter=97, multi_class=auto, penalty=l2, solver=liblinear, tol=0.0006; total time=   0.0s\n",
      "[CV] END C=9, class_weight=balanced, dual=False, fit_intercept=True, max_iter=97, multi_class=auto, penalty=l2, solver=liblinear, tol=0.0006; total time=   0.0s\n",
      "[CV] END C=9, class_weight=balanced, dual=False, fit_intercept=True, max_iter=97, multi_class=auto, penalty=l2, solver=liblinear, tol=0.0006; total time=   0.0s\n",
      "[CV] END C=9, class_weight=balanced, dual=False, fit_intercept=True, max_iter=97, multi_class=auto, penalty=l2, solver=liblinear, tol=0.0005; total time=   0.0s\n",
      "[CV] END C=9, class_weight=balanced, dual=False, fit_intercept=True, max_iter=97, multi_class=auto, penalty=l2, solver=liblinear, tol=0.0005; total time=   0.0s\n",
      "[CV] END C=9, class_weight=balanced, dual=False, fit_intercept=True, max_iter=97, multi_class=auto, penalty=l2, solver=liblinear, tol=0.0005; total time=   0.0s\n",
      "[CV] END C=9, class_weight=balanced, dual=False, fit_intercept=True, max_iter=97, multi_class=auto, penalty=l2, solver=liblinear, tol=0.00062; total time=   0.0s\n",
      "[CV] END C=9, class_weight=balanced, dual=False, fit_intercept=True, max_iter=97, multi_class=auto, penalty=l2, solver=liblinear, tol=0.00062; total time=   0.0s\n",
      "[CV] END C=9, class_weight=balanced, dual=False, fit_intercept=True, max_iter=97, multi_class=auto, penalty=l2, solver=liblinear, tol=0.00062; total time=   0.0s\n",
      "[CV] END C=10, class_weight=balanced, dual=False, fit_intercept=True, max_iter=94, multi_class=auto, penalty=l2, solver=liblinear, tol=0.00067; total time=   0.0s\n",
      "[CV] END C=10, class_weight=balanced, dual=False, fit_intercept=True, max_iter=94, multi_class=auto, penalty=l2, solver=liblinear, tol=0.00067; total time=   0.0s\n",
      "[CV] END C=10, class_weight=balanced, dual=False, fit_intercept=True, max_iter=94, multi_class=auto, penalty=l2, solver=liblinear, tol=0.00067; total time=   0.0s\n",
      "[CV] END C=10, class_weight=balanced, dual=False, fit_intercept=True, max_iter=94, multi_class=auto, penalty=l2, solver=liblinear, tol=0.0007; total time=   0.0s\n",
      "[CV] END C=10, class_weight=balanced, dual=False, fit_intercept=True, max_iter=94, multi_class=auto, penalty=l2, solver=liblinear, tol=0.0007; total time=   0.0s\n",
      "[CV] END C=10, class_weight=balanced, dual=False, fit_intercept=True, max_iter=94, multi_class=auto, penalty=l2, solver=liblinear, tol=0.0007; total time=   0.0s\n",
      "[CV] END C=10, class_weight=balanced, dual=False, fit_intercept=True, max_iter=94, multi_class=auto, penalty=l2, solver=liblinear, tol=0.0006; total time=   0.0s\n",
      "[CV] END C=10, class_weight=balanced, dual=False, fit_intercept=True, max_iter=94, multi_class=auto, penalty=l2, solver=liblinear, tol=0.0006; total time=   0.0s\n",
      "[CV] END C=10, class_weight=balanced, dual=False, fit_intercept=True, max_iter=94, multi_class=auto, penalty=l2, solver=liblinear, tol=0.0006; total time=   0.0s\n",
      "[CV] END C=10, class_weight=balanced, dual=False, fit_intercept=True, max_iter=94, multi_class=auto, penalty=l2, solver=liblinear, tol=0.0005; total time=   0.0s\n",
      "[CV] END C=10, class_weight=balanced, dual=False, fit_intercept=True, max_iter=94, multi_class=auto, penalty=l2, solver=liblinear, tol=0.0005; total time=   0.0s\n",
      "[CV] END C=10, class_weight=balanced, dual=False, fit_intercept=True, max_iter=94, multi_class=auto, penalty=l2, solver=liblinear, tol=0.0005; total time=   0.0s\n",
      "[CV] END C=10, class_weight=balanced, dual=False, fit_intercept=True, max_iter=94, multi_class=auto, penalty=l2, solver=liblinear, tol=0.00062; total time=   0.0s\n",
      "[CV] END C=10, class_weight=balanced, dual=False, fit_intercept=True, max_iter=94, multi_class=auto, penalty=l2, solver=liblinear, tol=0.00062; total time=   0.0s\n",
      "[CV] END C=10, class_weight=balanced, dual=False, fit_intercept=True, max_iter=94, multi_class=auto, penalty=l2, solver=liblinear, tol=0.00062; total time=   0.0s\n",
      "[CV] END C=10, class_weight=balanced, dual=False, fit_intercept=True, max_iter=93, multi_class=auto, penalty=l2, solver=liblinear, tol=0.00067; total time=   0.0s\n",
      "[CV] END C=10, class_weight=balanced, dual=False, fit_intercept=True, max_iter=93, multi_class=auto, penalty=l2, solver=liblinear, tol=0.00067; total time=   0.0s\n",
      "[CV] END C=10, class_weight=balanced, dual=False, fit_intercept=True, max_iter=93, multi_class=auto, penalty=l2, solver=liblinear, tol=0.00067; total time=   0.0s\n",
      "[CV] END C=10, class_weight=balanced, dual=False, fit_intercept=True, max_iter=93, multi_class=auto, penalty=l2, solver=liblinear, tol=0.0007; total time=   0.0s\n"
     ]
    },
    {
     "name": "stdout",
     "output_type": "stream",
     "text": [
      "[CV] END C=10, class_weight=balanced, dual=False, fit_intercept=True, max_iter=93, multi_class=auto, penalty=l2, solver=liblinear, tol=0.0007; total time=   0.0s\n",
      "[CV] END C=10, class_weight=balanced, dual=False, fit_intercept=True, max_iter=93, multi_class=auto, penalty=l2, solver=liblinear, tol=0.0007; total time=   0.0s\n",
      "[CV] END C=10, class_weight=balanced, dual=False, fit_intercept=True, max_iter=93, multi_class=auto, penalty=l2, solver=liblinear, tol=0.0006; total time=   0.0s\n",
      "[CV] END C=10, class_weight=balanced, dual=False, fit_intercept=True, max_iter=93, multi_class=auto, penalty=l2, solver=liblinear, tol=0.0006; total time=   0.0s\n",
      "[CV] END C=10, class_weight=balanced, dual=False, fit_intercept=True, max_iter=93, multi_class=auto, penalty=l2, solver=liblinear, tol=0.0006; total time=   0.0s\n",
      "[CV] END C=10, class_weight=balanced, dual=False, fit_intercept=True, max_iter=93, multi_class=auto, penalty=l2, solver=liblinear, tol=0.0005; total time=   0.0s\n",
      "[CV] END C=10, class_weight=balanced, dual=False, fit_intercept=True, max_iter=93, multi_class=auto, penalty=l2, solver=liblinear, tol=0.0005; total time=   0.0s\n",
      "[CV] END C=10, class_weight=balanced, dual=False, fit_intercept=True, max_iter=93, multi_class=auto, penalty=l2, solver=liblinear, tol=0.0005; total time=   0.0s\n",
      "[CV] END C=10, class_weight=balanced, dual=False, fit_intercept=True, max_iter=93, multi_class=auto, penalty=l2, solver=liblinear, tol=0.00062; total time=   0.0s\n",
      "[CV] END C=10, class_weight=balanced, dual=False, fit_intercept=True, max_iter=93, multi_class=auto, penalty=l2, solver=liblinear, tol=0.00062; total time=   0.0s\n",
      "[CV] END C=10, class_weight=balanced, dual=False, fit_intercept=True, max_iter=93, multi_class=auto, penalty=l2, solver=liblinear, tol=0.00062; total time=   0.0s\n",
      "[CV] END C=10, class_weight=balanced, dual=False, fit_intercept=True, max_iter=92, multi_class=auto, penalty=l2, solver=liblinear, tol=0.00067; total time=   0.0s\n",
      "[CV] END C=10, class_weight=balanced, dual=False, fit_intercept=True, max_iter=92, multi_class=auto, penalty=l2, solver=liblinear, tol=0.00067; total time=   0.0s\n",
      "[CV] END C=10, class_weight=balanced, dual=False, fit_intercept=True, max_iter=92, multi_class=auto, penalty=l2, solver=liblinear, tol=0.00067; total time=   0.0s\n",
      "[CV] END C=10, class_weight=balanced, dual=False, fit_intercept=True, max_iter=92, multi_class=auto, penalty=l2, solver=liblinear, tol=0.0007; total time=   0.0s\n",
      "[CV] END C=10, class_weight=balanced, dual=False, fit_intercept=True, max_iter=92, multi_class=auto, penalty=l2, solver=liblinear, tol=0.0007; total time=   0.0s\n",
      "[CV] END C=10, class_weight=balanced, dual=False, fit_intercept=True, max_iter=92, multi_class=auto, penalty=l2, solver=liblinear, tol=0.0007; total time=   0.0s\n",
      "[CV] END C=10, class_weight=balanced, dual=False, fit_intercept=True, max_iter=92, multi_class=auto, penalty=l2, solver=liblinear, tol=0.0006; total time=   0.0s\n",
      "[CV] END C=10, class_weight=balanced, dual=False, fit_intercept=True, max_iter=92, multi_class=auto, penalty=l2, solver=liblinear, tol=0.0006; total time=   0.0s\n",
      "[CV] END C=10, class_weight=balanced, dual=False, fit_intercept=True, max_iter=92, multi_class=auto, penalty=l2, solver=liblinear, tol=0.0006; total time=   0.0s\n",
      "[CV] END C=10, class_weight=balanced, dual=False, fit_intercept=True, max_iter=92, multi_class=auto, penalty=l2, solver=liblinear, tol=0.0005; total time=   0.0s\n",
      "[CV] END C=10, class_weight=balanced, dual=False, fit_intercept=True, max_iter=92, multi_class=auto, penalty=l2, solver=liblinear, tol=0.0005; total time=   0.0s\n",
      "[CV] END C=10, class_weight=balanced, dual=False, fit_intercept=True, max_iter=92, multi_class=auto, penalty=l2, solver=liblinear, tol=0.0005; total time=   0.0s\n",
      "[CV] END C=10, class_weight=balanced, dual=False, fit_intercept=True, max_iter=92, multi_class=auto, penalty=l2, solver=liblinear, tol=0.00062; total time=   0.0s\n",
      "[CV] END C=10, class_weight=balanced, dual=False, fit_intercept=True, max_iter=92, multi_class=auto, penalty=l2, solver=liblinear, tol=0.00062; total time=   0.0s\n",
      "[CV] END C=10, class_weight=balanced, dual=False, fit_intercept=True, max_iter=92, multi_class=auto, penalty=l2, solver=liblinear, tol=0.00062; total time=   0.0s\n",
      "[CV] END C=10, class_weight=balanced, dual=False, fit_intercept=True, max_iter=95, multi_class=auto, penalty=l2, solver=liblinear, tol=0.00067; total time=   0.0s\n",
      "[CV] END C=10, class_weight=balanced, dual=False, fit_intercept=True, max_iter=95, multi_class=auto, penalty=l2, solver=liblinear, tol=0.00067; total time=   0.0s\n",
      "[CV] END C=10, class_weight=balanced, dual=False, fit_intercept=True, max_iter=95, multi_class=auto, penalty=l2, solver=liblinear, tol=0.00067; total time=   0.0s\n",
      "[CV] END C=10, class_weight=balanced, dual=False, fit_intercept=True, max_iter=95, multi_class=auto, penalty=l2, solver=liblinear, tol=0.0007; total time=   0.0s\n",
      "[CV] END C=10, class_weight=balanced, dual=False, fit_intercept=True, max_iter=95, multi_class=auto, penalty=l2, solver=liblinear, tol=0.0007; total time=   0.0s\n",
      "[CV] END C=10, class_weight=balanced, dual=False, fit_intercept=True, max_iter=95, multi_class=auto, penalty=l2, solver=liblinear, tol=0.0007; total time=   0.0s\n",
      "[CV] END C=10, class_weight=balanced, dual=False, fit_intercept=True, max_iter=95, multi_class=auto, penalty=l2, solver=liblinear, tol=0.0006; total time=   0.0s\n",
      "[CV] END C=10, class_weight=balanced, dual=False, fit_intercept=True, max_iter=95, multi_class=auto, penalty=l2, solver=liblinear, tol=0.0006; total time=   0.0s\n",
      "[CV] END C=10, class_weight=balanced, dual=False, fit_intercept=True, max_iter=95, multi_class=auto, penalty=l2, solver=liblinear, tol=0.0006; total time=   0.0s\n",
      "[CV] END C=10, class_weight=balanced, dual=False, fit_intercept=True, max_iter=95, multi_class=auto, penalty=l2, solver=liblinear, tol=0.0005; total time=   0.0s\n",
      "[CV] END C=10, class_weight=balanced, dual=False, fit_intercept=True, max_iter=95, multi_class=auto, penalty=l2, solver=liblinear, tol=0.0005; total time=   0.0s\n",
      "[CV] END C=10, class_weight=balanced, dual=False, fit_intercept=True, max_iter=95, multi_class=auto, penalty=l2, solver=liblinear, tol=0.0005; total time=   0.0s\n",
      "[CV] END C=10, class_weight=balanced, dual=False, fit_intercept=True, max_iter=95, multi_class=auto, penalty=l2, solver=liblinear, tol=0.00062; total time=   0.0s\n",
      "[CV] END C=10, class_weight=balanced, dual=False, fit_intercept=True, max_iter=95, multi_class=auto, penalty=l2, solver=liblinear, tol=0.00062; total time=   0.0s\n",
      "[CV] END C=10, class_weight=balanced, dual=False, fit_intercept=True, max_iter=95, multi_class=auto, penalty=l2, solver=liblinear, tol=0.00062; total time=   0.0s\n",
      "[CV] END C=10, class_weight=balanced, dual=False, fit_intercept=True, max_iter=96, multi_class=auto, penalty=l2, solver=liblinear, tol=0.00067; total time=   0.0s\n",
      "[CV] END C=10, class_weight=balanced, dual=False, fit_intercept=True, max_iter=96, multi_class=auto, penalty=l2, solver=liblinear, tol=0.00067; total time=   0.0s\n",
      "[CV] END C=10, class_weight=balanced, dual=False, fit_intercept=True, max_iter=96, multi_class=auto, penalty=l2, solver=liblinear, tol=0.00067; total time=   0.0s\n",
      "[CV] END C=10, class_weight=balanced, dual=False, fit_intercept=True, max_iter=96, multi_class=auto, penalty=l2, solver=liblinear, tol=0.0007; total time=   0.0s\n",
      "[CV] END C=10, class_weight=balanced, dual=False, fit_intercept=True, max_iter=96, multi_class=auto, penalty=l2, solver=liblinear, tol=0.0007; total time=   0.0s\n",
      "[CV] END C=10, class_weight=balanced, dual=False, fit_intercept=True, max_iter=96, multi_class=auto, penalty=l2, solver=liblinear, tol=0.0007; total time=   0.0s\n",
      "[CV] END C=10, class_weight=balanced, dual=False, fit_intercept=True, max_iter=96, multi_class=auto, penalty=l2, solver=liblinear, tol=0.0006; total time=   0.0s\n",
      "[CV] END C=10, class_weight=balanced, dual=False, fit_intercept=True, max_iter=96, multi_class=auto, penalty=l2, solver=liblinear, tol=0.0006; total time=   0.0s\n",
      "[CV] END C=10, class_weight=balanced, dual=False, fit_intercept=True, max_iter=96, multi_class=auto, penalty=l2, solver=liblinear, tol=0.0006; total time=   0.0s\n",
      "[CV] END C=10, class_weight=balanced, dual=False, fit_intercept=True, max_iter=96, multi_class=auto, penalty=l2, solver=liblinear, tol=0.0005; total time=   0.0s\n",
      "[CV] END C=10, class_weight=balanced, dual=False, fit_intercept=True, max_iter=96, multi_class=auto, penalty=l2, solver=liblinear, tol=0.0005; total time=   0.0s\n",
      "[CV] END C=10, class_weight=balanced, dual=False, fit_intercept=True, max_iter=96, multi_class=auto, penalty=l2, solver=liblinear, tol=0.0005; total time=   0.0s\n"
     ]
    },
    {
     "name": "stdout",
     "output_type": "stream",
     "text": [
      "[CV] END C=10, class_weight=balanced, dual=False, fit_intercept=True, max_iter=96, multi_class=auto, penalty=l2, solver=liblinear, tol=0.00062; total time=   0.0s\n",
      "[CV] END C=10, class_weight=balanced, dual=False, fit_intercept=True, max_iter=96, multi_class=auto, penalty=l2, solver=liblinear, tol=0.00062; total time=   0.0s\n",
      "[CV] END C=10, class_weight=balanced, dual=False, fit_intercept=True, max_iter=96, multi_class=auto, penalty=l2, solver=liblinear, tol=0.00062; total time=   0.0s\n",
      "[CV] END C=10, class_weight=balanced, dual=False, fit_intercept=True, max_iter=91, multi_class=auto, penalty=l2, solver=liblinear, tol=0.00067; total time=   0.0s\n",
      "[CV] END C=10, class_weight=balanced, dual=False, fit_intercept=True, max_iter=91, multi_class=auto, penalty=l2, solver=liblinear, tol=0.00067; total time=   0.0s\n",
      "[CV] END C=10, class_weight=balanced, dual=False, fit_intercept=True, max_iter=91, multi_class=auto, penalty=l2, solver=liblinear, tol=0.00067; total time=   0.0s\n",
      "[CV] END C=10, class_weight=balanced, dual=False, fit_intercept=True, max_iter=91, multi_class=auto, penalty=l2, solver=liblinear, tol=0.0007; total time=   0.0s\n",
      "[CV] END C=10, class_weight=balanced, dual=False, fit_intercept=True, max_iter=91, multi_class=auto, penalty=l2, solver=liblinear, tol=0.0007; total time=   0.0s\n",
      "[CV] END C=10, class_weight=balanced, dual=False, fit_intercept=True, max_iter=91, multi_class=auto, penalty=l2, solver=liblinear, tol=0.0007; total time=   0.0s\n",
      "[CV] END C=10, class_weight=balanced, dual=False, fit_intercept=True, max_iter=91, multi_class=auto, penalty=l2, solver=liblinear, tol=0.0006; total time=   0.0s\n",
      "[CV] END C=10, class_weight=balanced, dual=False, fit_intercept=True, max_iter=91, multi_class=auto, penalty=l2, solver=liblinear, tol=0.0006; total time=   0.0s\n",
      "[CV] END C=10, class_weight=balanced, dual=False, fit_intercept=True, max_iter=91, multi_class=auto, penalty=l2, solver=liblinear, tol=0.0006; total time=   0.0s\n",
      "[CV] END C=10, class_weight=balanced, dual=False, fit_intercept=True, max_iter=91, multi_class=auto, penalty=l2, solver=liblinear, tol=0.0005; total time=   0.0s\n",
      "[CV] END C=10, class_weight=balanced, dual=False, fit_intercept=True, max_iter=91, multi_class=auto, penalty=l2, solver=liblinear, tol=0.0005; total time=   0.0s\n",
      "[CV] END C=10, class_weight=balanced, dual=False, fit_intercept=True, max_iter=91, multi_class=auto, penalty=l2, solver=liblinear, tol=0.0005; total time=   0.0s\n",
      "[CV] END C=10, class_weight=balanced, dual=False, fit_intercept=True, max_iter=91, multi_class=auto, penalty=l2, solver=liblinear, tol=0.00062; total time=   0.0s\n",
      "[CV] END C=10, class_weight=balanced, dual=False, fit_intercept=True, max_iter=91, multi_class=auto, penalty=l2, solver=liblinear, tol=0.00062; total time=   0.0s\n",
      "[CV] END C=10, class_weight=balanced, dual=False, fit_intercept=True, max_iter=91, multi_class=auto, penalty=l2, solver=liblinear, tol=0.00062; total time=   0.0s\n",
      "[CV] END C=10, class_weight=balanced, dual=False, fit_intercept=True, max_iter=98, multi_class=auto, penalty=l2, solver=liblinear, tol=0.00067; total time=   0.0s\n",
      "[CV] END C=10, class_weight=balanced, dual=False, fit_intercept=True, max_iter=98, multi_class=auto, penalty=l2, solver=liblinear, tol=0.00067; total time=   0.0s\n",
      "[CV] END C=10, class_weight=balanced, dual=False, fit_intercept=True, max_iter=98, multi_class=auto, penalty=l2, solver=liblinear, tol=0.00067; total time=   0.0s\n",
      "[CV] END C=10, class_weight=balanced, dual=False, fit_intercept=True, max_iter=98, multi_class=auto, penalty=l2, solver=liblinear, tol=0.0007; total time=   0.0s\n",
      "[CV] END C=10, class_weight=balanced, dual=False, fit_intercept=True, max_iter=98, multi_class=auto, penalty=l2, solver=liblinear, tol=0.0007; total time=   0.0s\n",
      "[CV] END C=10, class_weight=balanced, dual=False, fit_intercept=True, max_iter=98, multi_class=auto, penalty=l2, solver=liblinear, tol=0.0007; total time=   0.0s\n",
      "[CV] END C=10, class_weight=balanced, dual=False, fit_intercept=True, max_iter=98, multi_class=auto, penalty=l2, solver=liblinear, tol=0.0006; total time=   0.0s\n",
      "[CV] END C=10, class_weight=balanced, dual=False, fit_intercept=True, max_iter=98, multi_class=auto, penalty=l2, solver=liblinear, tol=0.0006; total time=   0.0s\n",
      "[CV] END C=10, class_weight=balanced, dual=False, fit_intercept=True, max_iter=98, multi_class=auto, penalty=l2, solver=liblinear, tol=0.0006; total time=   0.0s\n",
      "[CV] END C=10, class_weight=balanced, dual=False, fit_intercept=True, max_iter=98, multi_class=auto, penalty=l2, solver=liblinear, tol=0.0005; total time=   0.0s\n",
      "[CV] END C=10, class_weight=balanced, dual=False, fit_intercept=True, max_iter=98, multi_class=auto, penalty=l2, solver=liblinear, tol=0.0005; total time=   0.0s\n",
      "[CV] END C=10, class_weight=balanced, dual=False, fit_intercept=True, max_iter=98, multi_class=auto, penalty=l2, solver=liblinear, tol=0.0005; total time=   0.0s\n",
      "[CV] END C=10, class_weight=balanced, dual=False, fit_intercept=True, max_iter=98, multi_class=auto, penalty=l2, solver=liblinear, tol=0.00062; total time=   0.0s\n",
      "[CV] END C=10, class_weight=balanced, dual=False, fit_intercept=True, max_iter=98, multi_class=auto, penalty=l2, solver=liblinear, tol=0.00062; total time=   0.0s\n",
      "[CV] END C=10, class_weight=balanced, dual=False, fit_intercept=True, max_iter=98, multi_class=auto, penalty=l2, solver=liblinear, tol=0.00062; total time=   0.0s\n",
      "[CV] END C=10, class_weight=balanced, dual=False, fit_intercept=True, max_iter=97, multi_class=auto, penalty=l2, solver=liblinear, tol=0.00067; total time=   0.0s\n",
      "[CV] END C=10, class_weight=balanced, dual=False, fit_intercept=True, max_iter=97, multi_class=auto, penalty=l2, solver=liblinear, tol=0.00067; total time=   0.0s\n",
      "[CV] END C=10, class_weight=balanced, dual=False, fit_intercept=True, max_iter=97, multi_class=auto, penalty=l2, solver=liblinear, tol=0.00067; total time=   0.0s\n",
      "[CV] END C=10, class_weight=balanced, dual=False, fit_intercept=True, max_iter=97, multi_class=auto, penalty=l2, solver=liblinear, tol=0.0007; total time=   0.0s\n",
      "[CV] END C=10, class_weight=balanced, dual=False, fit_intercept=True, max_iter=97, multi_class=auto, penalty=l2, solver=liblinear, tol=0.0007; total time=   0.0s\n",
      "[CV] END C=10, class_weight=balanced, dual=False, fit_intercept=True, max_iter=97, multi_class=auto, penalty=l2, solver=liblinear, tol=0.0007; total time=   0.0s\n",
      "[CV] END C=10, class_weight=balanced, dual=False, fit_intercept=True, max_iter=97, multi_class=auto, penalty=l2, solver=liblinear, tol=0.0006; total time=   0.0s\n",
      "[CV] END C=10, class_weight=balanced, dual=False, fit_intercept=True, max_iter=97, multi_class=auto, penalty=l2, solver=liblinear, tol=0.0006; total time=   0.0s\n",
      "[CV] END C=10, class_weight=balanced, dual=False, fit_intercept=True, max_iter=97, multi_class=auto, penalty=l2, solver=liblinear, tol=0.0006; total time=   0.0s\n",
      "[CV] END C=10, class_weight=balanced, dual=False, fit_intercept=True, max_iter=97, multi_class=auto, penalty=l2, solver=liblinear, tol=0.0005; total time=   0.0s\n",
      "[CV] END C=10, class_weight=balanced, dual=False, fit_intercept=True, max_iter=97, multi_class=auto, penalty=l2, solver=liblinear, tol=0.0005; total time=   0.0s\n",
      "[CV] END C=10, class_weight=balanced, dual=False, fit_intercept=True, max_iter=97, multi_class=auto, penalty=l2, solver=liblinear, tol=0.0005; total time=   0.0s\n",
      "[CV] END C=10, class_weight=balanced, dual=False, fit_intercept=True, max_iter=97, multi_class=auto, penalty=l2, solver=liblinear, tol=0.00062; total time=   0.0s\n",
      "[CV] END C=10, class_weight=balanced, dual=False, fit_intercept=True, max_iter=97, multi_class=auto, penalty=l2, solver=liblinear, tol=0.00062; total time=   0.0s\n",
      "[CV] END C=10, class_weight=balanced, dual=False, fit_intercept=True, max_iter=97, multi_class=auto, penalty=l2, solver=liblinear, tol=0.00062; total time=   0.0s\n",
      "[CV] END C=7, class_weight=balanced, dual=False, fit_intercept=True, max_iter=94, multi_class=auto, penalty=l2, solver=liblinear, tol=0.00067; total time=   0.0s\n",
      "[CV] END C=7, class_weight=balanced, dual=False, fit_intercept=True, max_iter=94, multi_class=auto, penalty=l2, solver=liblinear, tol=0.00067; total time=   0.0s\n",
      "[CV] END C=7, class_weight=balanced, dual=False, fit_intercept=True, max_iter=94, multi_class=auto, penalty=l2, solver=liblinear, tol=0.00067; total time=   0.0s\n",
      "[CV] END C=7, class_weight=balanced, dual=False, fit_intercept=True, max_iter=94, multi_class=auto, penalty=l2, solver=liblinear, tol=0.0007; total time=   0.0s\n",
      "[CV] END C=7, class_weight=balanced, dual=False, fit_intercept=True, max_iter=94, multi_class=auto, penalty=l2, solver=liblinear, tol=0.0007; total time=   0.0s\n",
      "[CV] END C=7, class_weight=balanced, dual=False, fit_intercept=True, max_iter=94, multi_class=auto, penalty=l2, solver=liblinear, tol=0.0007; total time=   0.0s\n",
      "[CV] END C=7, class_weight=balanced, dual=False, fit_intercept=True, max_iter=94, multi_class=auto, penalty=l2, solver=liblinear, tol=0.0006; total time=   0.0s\n"
     ]
    },
    {
     "name": "stdout",
     "output_type": "stream",
     "text": [
      "[CV] END C=7, class_weight=balanced, dual=False, fit_intercept=True, max_iter=94, multi_class=auto, penalty=l2, solver=liblinear, tol=0.0006; total time=   0.0s\n",
      "[CV] END C=7, class_weight=balanced, dual=False, fit_intercept=True, max_iter=94, multi_class=auto, penalty=l2, solver=liblinear, tol=0.0006; total time=   0.0s\n",
      "[CV] END C=7, class_weight=balanced, dual=False, fit_intercept=True, max_iter=94, multi_class=auto, penalty=l2, solver=liblinear, tol=0.0005; total time=   0.0s\n",
      "[CV] END C=7, class_weight=balanced, dual=False, fit_intercept=True, max_iter=94, multi_class=auto, penalty=l2, solver=liblinear, tol=0.0005; total time=   0.0s\n",
      "[CV] END C=7, class_weight=balanced, dual=False, fit_intercept=True, max_iter=94, multi_class=auto, penalty=l2, solver=liblinear, tol=0.0005; total time=   0.0s\n",
      "[CV] END C=7, class_weight=balanced, dual=False, fit_intercept=True, max_iter=94, multi_class=auto, penalty=l2, solver=liblinear, tol=0.00062; total time=   0.0s\n",
      "[CV] END C=7, class_weight=balanced, dual=False, fit_intercept=True, max_iter=94, multi_class=auto, penalty=l2, solver=liblinear, tol=0.00062; total time=   0.0s\n",
      "[CV] END C=7, class_weight=balanced, dual=False, fit_intercept=True, max_iter=94, multi_class=auto, penalty=l2, solver=liblinear, tol=0.00062; total time=   0.0s\n",
      "[CV] END C=7, class_weight=balanced, dual=False, fit_intercept=True, max_iter=93, multi_class=auto, penalty=l2, solver=liblinear, tol=0.00067; total time=   0.0s\n",
      "[CV] END C=7, class_weight=balanced, dual=False, fit_intercept=True, max_iter=93, multi_class=auto, penalty=l2, solver=liblinear, tol=0.00067; total time=   0.0s\n",
      "[CV] END C=7, class_weight=balanced, dual=False, fit_intercept=True, max_iter=93, multi_class=auto, penalty=l2, solver=liblinear, tol=0.00067; total time=   0.0s\n",
      "[CV] END C=7, class_weight=balanced, dual=False, fit_intercept=True, max_iter=93, multi_class=auto, penalty=l2, solver=liblinear, tol=0.0007; total time=   0.0s\n",
      "[CV] END C=7, class_weight=balanced, dual=False, fit_intercept=True, max_iter=93, multi_class=auto, penalty=l2, solver=liblinear, tol=0.0007; total time=   0.0s\n",
      "[CV] END C=7, class_weight=balanced, dual=False, fit_intercept=True, max_iter=93, multi_class=auto, penalty=l2, solver=liblinear, tol=0.0007; total time=   0.0s\n",
      "[CV] END C=7, class_weight=balanced, dual=False, fit_intercept=True, max_iter=93, multi_class=auto, penalty=l2, solver=liblinear, tol=0.0006; total time=   0.0s\n",
      "[CV] END C=7, class_weight=balanced, dual=False, fit_intercept=True, max_iter=93, multi_class=auto, penalty=l2, solver=liblinear, tol=0.0006; total time=   0.0s\n",
      "[CV] END C=7, class_weight=balanced, dual=False, fit_intercept=True, max_iter=93, multi_class=auto, penalty=l2, solver=liblinear, tol=0.0006; total time=   0.0s\n",
      "[CV] END C=7, class_weight=balanced, dual=False, fit_intercept=True, max_iter=93, multi_class=auto, penalty=l2, solver=liblinear, tol=0.0005; total time=   0.0s\n",
      "[CV] END C=7, class_weight=balanced, dual=False, fit_intercept=True, max_iter=93, multi_class=auto, penalty=l2, solver=liblinear, tol=0.0005; total time=   0.0s\n",
      "[CV] END C=7, class_weight=balanced, dual=False, fit_intercept=True, max_iter=93, multi_class=auto, penalty=l2, solver=liblinear, tol=0.0005; total time=   0.0s\n",
      "[CV] END C=7, class_weight=balanced, dual=False, fit_intercept=True, max_iter=93, multi_class=auto, penalty=l2, solver=liblinear, tol=0.00062; total time=   0.0s\n",
      "[CV] END C=7, class_weight=balanced, dual=False, fit_intercept=True, max_iter=93, multi_class=auto, penalty=l2, solver=liblinear, tol=0.00062; total time=   0.0s\n",
      "[CV] END C=7, class_weight=balanced, dual=False, fit_intercept=True, max_iter=93, multi_class=auto, penalty=l2, solver=liblinear, tol=0.00062; total time=   0.0s\n",
      "[CV] END C=7, class_weight=balanced, dual=False, fit_intercept=True, max_iter=92, multi_class=auto, penalty=l2, solver=liblinear, tol=0.00067; total time=   0.0s\n",
      "[CV] END C=7, class_weight=balanced, dual=False, fit_intercept=True, max_iter=92, multi_class=auto, penalty=l2, solver=liblinear, tol=0.00067; total time=   0.0s\n",
      "[CV] END C=7, class_weight=balanced, dual=False, fit_intercept=True, max_iter=92, multi_class=auto, penalty=l2, solver=liblinear, tol=0.00067; total time=   0.0s\n",
      "[CV] END C=7, class_weight=balanced, dual=False, fit_intercept=True, max_iter=92, multi_class=auto, penalty=l2, solver=liblinear, tol=0.0007; total time=   0.0s\n",
      "[CV] END C=7, class_weight=balanced, dual=False, fit_intercept=True, max_iter=92, multi_class=auto, penalty=l2, solver=liblinear, tol=0.0007; total time=   0.0s\n",
      "[CV] END C=7, class_weight=balanced, dual=False, fit_intercept=True, max_iter=92, multi_class=auto, penalty=l2, solver=liblinear, tol=0.0007; total time=   0.0s\n",
      "[CV] END C=7, class_weight=balanced, dual=False, fit_intercept=True, max_iter=92, multi_class=auto, penalty=l2, solver=liblinear, tol=0.0006; total time=   0.0s\n",
      "[CV] END C=7, class_weight=balanced, dual=False, fit_intercept=True, max_iter=92, multi_class=auto, penalty=l2, solver=liblinear, tol=0.0006; total time=   0.0s\n",
      "[CV] END C=7, class_weight=balanced, dual=False, fit_intercept=True, max_iter=92, multi_class=auto, penalty=l2, solver=liblinear, tol=0.0006; total time=   0.0s\n",
      "[CV] END C=7, class_weight=balanced, dual=False, fit_intercept=True, max_iter=92, multi_class=auto, penalty=l2, solver=liblinear, tol=0.0005; total time=   0.0s\n",
      "[CV] END C=7, class_weight=balanced, dual=False, fit_intercept=True, max_iter=92, multi_class=auto, penalty=l2, solver=liblinear, tol=0.0005; total time=   0.0s\n",
      "[CV] END C=7, class_weight=balanced, dual=False, fit_intercept=True, max_iter=92, multi_class=auto, penalty=l2, solver=liblinear, tol=0.0005; total time=   0.0s\n",
      "[CV] END C=7, class_weight=balanced, dual=False, fit_intercept=True, max_iter=92, multi_class=auto, penalty=l2, solver=liblinear, tol=0.00062; total time=   0.0s\n",
      "[CV] END C=7, class_weight=balanced, dual=False, fit_intercept=True, max_iter=92, multi_class=auto, penalty=l2, solver=liblinear, tol=0.00062; total time=   0.0s\n",
      "[CV] END C=7, class_weight=balanced, dual=False, fit_intercept=True, max_iter=92, multi_class=auto, penalty=l2, solver=liblinear, tol=0.00062; total time=   0.0s\n",
      "[CV] END C=7, class_weight=balanced, dual=False, fit_intercept=True, max_iter=95, multi_class=auto, penalty=l2, solver=liblinear, tol=0.00067; total time=   0.0s\n",
      "[CV] END C=7, class_weight=balanced, dual=False, fit_intercept=True, max_iter=95, multi_class=auto, penalty=l2, solver=liblinear, tol=0.00067; total time=   0.0s\n",
      "[CV] END C=7, class_weight=balanced, dual=False, fit_intercept=True, max_iter=95, multi_class=auto, penalty=l2, solver=liblinear, tol=0.00067; total time=   0.0s\n",
      "[CV] END C=7, class_weight=balanced, dual=False, fit_intercept=True, max_iter=95, multi_class=auto, penalty=l2, solver=liblinear, tol=0.0007; total time=   0.0s\n",
      "[CV] END C=7, class_weight=balanced, dual=False, fit_intercept=True, max_iter=95, multi_class=auto, penalty=l2, solver=liblinear, tol=0.0007; total time=   0.0s\n",
      "[CV] END C=7, class_weight=balanced, dual=False, fit_intercept=True, max_iter=95, multi_class=auto, penalty=l2, solver=liblinear, tol=0.0007; total time=   0.0s\n",
      "[CV] END C=7, class_weight=balanced, dual=False, fit_intercept=True, max_iter=95, multi_class=auto, penalty=l2, solver=liblinear, tol=0.0006; total time=   0.0s\n",
      "[CV] END C=7, class_weight=balanced, dual=False, fit_intercept=True, max_iter=95, multi_class=auto, penalty=l2, solver=liblinear, tol=0.0006; total time=   0.0s\n",
      "[CV] END C=7, class_weight=balanced, dual=False, fit_intercept=True, max_iter=95, multi_class=auto, penalty=l2, solver=liblinear, tol=0.0006; total time=   0.0s\n",
      "[CV] END C=7, class_weight=balanced, dual=False, fit_intercept=True, max_iter=95, multi_class=auto, penalty=l2, solver=liblinear, tol=0.0005; total time=   0.0s\n",
      "[CV] END C=7, class_weight=balanced, dual=False, fit_intercept=True, max_iter=95, multi_class=auto, penalty=l2, solver=liblinear, tol=0.0005; total time=   0.0s\n",
      "[CV] END C=7, class_weight=balanced, dual=False, fit_intercept=True, max_iter=95, multi_class=auto, penalty=l2, solver=liblinear, tol=0.0005; total time=   0.0s\n",
      "[CV] END C=7, class_weight=balanced, dual=False, fit_intercept=True, max_iter=95, multi_class=auto, penalty=l2, solver=liblinear, tol=0.00062; total time=   0.0s\n",
      "[CV] END C=7, class_weight=balanced, dual=False, fit_intercept=True, max_iter=95, multi_class=auto, penalty=l2, solver=liblinear, tol=0.00062; total time=   0.0s\n",
      "[CV] END C=7, class_weight=balanced, dual=False, fit_intercept=True, max_iter=95, multi_class=auto, penalty=l2, solver=liblinear, tol=0.00062; total time=   0.0s\n",
      "[CV] END C=7, class_weight=balanced, dual=False, fit_intercept=True, max_iter=96, multi_class=auto, penalty=l2, solver=liblinear, tol=0.00067; total time=   0.0s\n",
      "[CV] END C=7, class_weight=balanced, dual=False, fit_intercept=True, max_iter=96, multi_class=auto, penalty=l2, solver=liblinear, tol=0.00067; total time=   0.0s\n",
      "[CV] END C=7, class_weight=balanced, dual=False, fit_intercept=True, max_iter=96, multi_class=auto, penalty=l2, solver=liblinear, tol=0.00067; total time=   0.0s\n"
     ]
    },
    {
     "name": "stdout",
     "output_type": "stream",
     "text": [
      "[CV] END C=7, class_weight=balanced, dual=False, fit_intercept=True, max_iter=96, multi_class=auto, penalty=l2, solver=liblinear, tol=0.0007; total time=   0.0s\n",
      "[CV] END C=7, class_weight=balanced, dual=False, fit_intercept=True, max_iter=96, multi_class=auto, penalty=l2, solver=liblinear, tol=0.0007; total time=   0.0s\n",
      "[CV] END C=7, class_weight=balanced, dual=False, fit_intercept=True, max_iter=96, multi_class=auto, penalty=l2, solver=liblinear, tol=0.0007; total time=   0.0s\n",
      "[CV] END C=7, class_weight=balanced, dual=False, fit_intercept=True, max_iter=96, multi_class=auto, penalty=l2, solver=liblinear, tol=0.0006; total time=   0.0s\n",
      "[CV] END C=7, class_weight=balanced, dual=False, fit_intercept=True, max_iter=96, multi_class=auto, penalty=l2, solver=liblinear, tol=0.0006; total time=   0.0s\n",
      "[CV] END C=7, class_weight=balanced, dual=False, fit_intercept=True, max_iter=96, multi_class=auto, penalty=l2, solver=liblinear, tol=0.0006; total time=   0.0s\n",
      "[CV] END C=7, class_weight=balanced, dual=False, fit_intercept=True, max_iter=96, multi_class=auto, penalty=l2, solver=liblinear, tol=0.0005; total time=   0.0s\n",
      "[CV] END C=7, class_weight=balanced, dual=False, fit_intercept=True, max_iter=96, multi_class=auto, penalty=l2, solver=liblinear, tol=0.0005; total time=   0.0s\n",
      "[CV] END C=7, class_weight=balanced, dual=False, fit_intercept=True, max_iter=96, multi_class=auto, penalty=l2, solver=liblinear, tol=0.0005; total time=   0.0s\n",
      "[CV] END C=7, class_weight=balanced, dual=False, fit_intercept=True, max_iter=96, multi_class=auto, penalty=l2, solver=liblinear, tol=0.00062; total time=   0.0s\n",
      "[CV] END C=7, class_weight=balanced, dual=False, fit_intercept=True, max_iter=96, multi_class=auto, penalty=l2, solver=liblinear, tol=0.00062; total time=   0.0s\n",
      "[CV] END C=7, class_weight=balanced, dual=False, fit_intercept=True, max_iter=96, multi_class=auto, penalty=l2, solver=liblinear, tol=0.00062; total time=   0.0s\n",
      "[CV] END C=7, class_weight=balanced, dual=False, fit_intercept=True, max_iter=91, multi_class=auto, penalty=l2, solver=liblinear, tol=0.00067; total time=   0.0s\n",
      "[CV] END C=7, class_weight=balanced, dual=False, fit_intercept=True, max_iter=91, multi_class=auto, penalty=l2, solver=liblinear, tol=0.00067; total time=   0.0s\n",
      "[CV] END C=7, class_weight=balanced, dual=False, fit_intercept=True, max_iter=91, multi_class=auto, penalty=l2, solver=liblinear, tol=0.00067; total time=   0.0s\n",
      "[CV] END C=7, class_weight=balanced, dual=False, fit_intercept=True, max_iter=91, multi_class=auto, penalty=l2, solver=liblinear, tol=0.0007; total time=   0.0s\n",
      "[CV] END C=7, class_weight=balanced, dual=False, fit_intercept=True, max_iter=91, multi_class=auto, penalty=l2, solver=liblinear, tol=0.0007; total time=   0.0s\n",
      "[CV] END C=7, class_weight=balanced, dual=False, fit_intercept=True, max_iter=91, multi_class=auto, penalty=l2, solver=liblinear, tol=0.0007; total time=   0.0s\n",
      "[CV] END C=7, class_weight=balanced, dual=False, fit_intercept=True, max_iter=91, multi_class=auto, penalty=l2, solver=liblinear, tol=0.0006; total time=   0.0s\n",
      "[CV] END C=7, class_weight=balanced, dual=False, fit_intercept=True, max_iter=91, multi_class=auto, penalty=l2, solver=liblinear, tol=0.0006; total time=   0.0s\n",
      "[CV] END C=7, class_weight=balanced, dual=False, fit_intercept=True, max_iter=91, multi_class=auto, penalty=l2, solver=liblinear, tol=0.0006; total time=   0.0s\n",
      "[CV] END C=7, class_weight=balanced, dual=False, fit_intercept=True, max_iter=91, multi_class=auto, penalty=l2, solver=liblinear, tol=0.0005; total time=   0.0s\n",
      "[CV] END C=7, class_weight=balanced, dual=False, fit_intercept=True, max_iter=91, multi_class=auto, penalty=l2, solver=liblinear, tol=0.0005; total time=   0.0s\n",
      "[CV] END C=7, class_weight=balanced, dual=False, fit_intercept=True, max_iter=91, multi_class=auto, penalty=l2, solver=liblinear, tol=0.0005; total time=   0.0s\n",
      "[CV] END C=7, class_weight=balanced, dual=False, fit_intercept=True, max_iter=91, multi_class=auto, penalty=l2, solver=liblinear, tol=0.00062; total time=   0.0s\n",
      "[CV] END C=7, class_weight=balanced, dual=False, fit_intercept=True, max_iter=91, multi_class=auto, penalty=l2, solver=liblinear, tol=0.00062; total time=   0.0s\n",
      "[CV] END C=7, class_weight=balanced, dual=False, fit_intercept=True, max_iter=91, multi_class=auto, penalty=l2, solver=liblinear, tol=0.00062; total time=   0.0s\n",
      "[CV] END C=7, class_weight=balanced, dual=False, fit_intercept=True, max_iter=98, multi_class=auto, penalty=l2, solver=liblinear, tol=0.00067; total time=   0.0s\n",
      "[CV] END C=7, class_weight=balanced, dual=False, fit_intercept=True, max_iter=98, multi_class=auto, penalty=l2, solver=liblinear, tol=0.00067; total time=   0.0s\n",
      "[CV] END C=7, class_weight=balanced, dual=False, fit_intercept=True, max_iter=98, multi_class=auto, penalty=l2, solver=liblinear, tol=0.00067; total time=   0.0s\n",
      "[CV] END C=7, class_weight=balanced, dual=False, fit_intercept=True, max_iter=98, multi_class=auto, penalty=l2, solver=liblinear, tol=0.0007; total time=   0.0s\n",
      "[CV] END C=7, class_weight=balanced, dual=False, fit_intercept=True, max_iter=98, multi_class=auto, penalty=l2, solver=liblinear, tol=0.0007; total time=   0.0s\n",
      "[CV] END C=7, class_weight=balanced, dual=False, fit_intercept=True, max_iter=98, multi_class=auto, penalty=l2, solver=liblinear, tol=0.0007; total time=   0.0s\n",
      "[CV] END C=7, class_weight=balanced, dual=False, fit_intercept=True, max_iter=98, multi_class=auto, penalty=l2, solver=liblinear, tol=0.0006; total time=   0.0s\n",
      "[CV] END C=7, class_weight=balanced, dual=False, fit_intercept=True, max_iter=98, multi_class=auto, penalty=l2, solver=liblinear, tol=0.0006; total time=   0.0s\n",
      "[CV] END C=7, class_weight=balanced, dual=False, fit_intercept=True, max_iter=98, multi_class=auto, penalty=l2, solver=liblinear, tol=0.0006; total time=   0.0s\n",
      "[CV] END C=7, class_weight=balanced, dual=False, fit_intercept=True, max_iter=98, multi_class=auto, penalty=l2, solver=liblinear, tol=0.0005; total time=   0.0s\n",
      "[CV] END C=7, class_weight=balanced, dual=False, fit_intercept=True, max_iter=98, multi_class=auto, penalty=l2, solver=liblinear, tol=0.0005; total time=   0.0s\n",
      "[CV] END C=7, class_weight=balanced, dual=False, fit_intercept=True, max_iter=98, multi_class=auto, penalty=l2, solver=liblinear, tol=0.0005; total time=   0.0s\n",
      "[CV] END C=7, class_weight=balanced, dual=False, fit_intercept=True, max_iter=98, multi_class=auto, penalty=l2, solver=liblinear, tol=0.00062; total time=   0.0s\n",
      "[CV] END C=7, class_weight=balanced, dual=False, fit_intercept=True, max_iter=98, multi_class=auto, penalty=l2, solver=liblinear, tol=0.00062; total time=   0.0s\n",
      "[CV] END C=7, class_weight=balanced, dual=False, fit_intercept=True, max_iter=98, multi_class=auto, penalty=l2, solver=liblinear, tol=0.00062; total time=   0.0s\n",
      "[CV] END C=7, class_weight=balanced, dual=False, fit_intercept=True, max_iter=97, multi_class=auto, penalty=l2, solver=liblinear, tol=0.00067; total time=   0.0s\n",
      "[CV] END C=7, class_weight=balanced, dual=False, fit_intercept=True, max_iter=97, multi_class=auto, penalty=l2, solver=liblinear, tol=0.00067; total time=   0.0s\n",
      "[CV] END C=7, class_weight=balanced, dual=False, fit_intercept=True, max_iter=97, multi_class=auto, penalty=l2, solver=liblinear, tol=0.00067; total time=   0.0s\n",
      "[CV] END C=7, class_weight=balanced, dual=False, fit_intercept=True, max_iter=97, multi_class=auto, penalty=l2, solver=liblinear, tol=0.0007; total time=   0.0s\n",
      "[CV] END C=7, class_weight=balanced, dual=False, fit_intercept=True, max_iter=97, multi_class=auto, penalty=l2, solver=liblinear, tol=0.0007; total time=   0.0s\n",
      "[CV] END C=7, class_weight=balanced, dual=False, fit_intercept=True, max_iter=97, multi_class=auto, penalty=l2, solver=liblinear, tol=0.0007; total time=   0.0s\n",
      "[CV] END C=7, class_weight=balanced, dual=False, fit_intercept=True, max_iter=97, multi_class=auto, penalty=l2, solver=liblinear, tol=0.0006; total time=   0.0s\n",
      "[CV] END C=7, class_weight=balanced, dual=False, fit_intercept=True, max_iter=97, multi_class=auto, penalty=l2, solver=liblinear, tol=0.0006; total time=   0.0s\n",
      "[CV] END C=7, class_weight=balanced, dual=False, fit_intercept=True, max_iter=97, multi_class=auto, penalty=l2, solver=liblinear, tol=0.0006; total time=   0.0s\n",
      "[CV] END C=7, class_weight=balanced, dual=False, fit_intercept=True, max_iter=97, multi_class=auto, penalty=l2, solver=liblinear, tol=0.0005; total time=   0.0s\n",
      "[CV] END C=7, class_weight=balanced, dual=False, fit_intercept=True, max_iter=97, multi_class=auto, penalty=l2, solver=liblinear, tol=0.0005; total time=   0.0s\n",
      "[CV] END C=7, class_weight=balanced, dual=False, fit_intercept=True, max_iter=97, multi_class=auto, penalty=l2, solver=liblinear, tol=0.0005; total time=   0.0s\n",
      "[CV] END C=7, class_weight=balanced, dual=False, fit_intercept=True, max_iter=97, multi_class=auto, penalty=l2, solver=liblinear, tol=0.00062; total time=   0.0s\n",
      "[CV] END C=7, class_weight=balanced, dual=False, fit_intercept=True, max_iter=97, multi_class=auto, penalty=l2, solver=liblinear, tol=0.00062; total time=   0.0s\n",
      "[CV] END C=7, class_weight=balanced, dual=False, fit_intercept=True, max_iter=97, multi_class=auto, penalty=l2, solver=liblinear, tol=0.00062; total time=   0.0s\n"
     ]
    },
    {
     "name": "stdout",
     "output_type": "stream",
     "text": [
      "[CV] END C=6, class_weight=balanced, dual=False, fit_intercept=True, max_iter=94, multi_class=auto, penalty=l2, solver=liblinear, tol=0.00067; total time=   0.0s\n",
      "[CV] END C=6, class_weight=balanced, dual=False, fit_intercept=True, max_iter=94, multi_class=auto, penalty=l2, solver=liblinear, tol=0.00067; total time=   0.0s\n",
      "[CV] END C=6, class_weight=balanced, dual=False, fit_intercept=True, max_iter=94, multi_class=auto, penalty=l2, solver=liblinear, tol=0.00067; total time=   0.0s\n",
      "[CV] END C=6, class_weight=balanced, dual=False, fit_intercept=True, max_iter=94, multi_class=auto, penalty=l2, solver=liblinear, tol=0.0007; total time=   0.0s\n",
      "[CV] END C=6, class_weight=balanced, dual=False, fit_intercept=True, max_iter=94, multi_class=auto, penalty=l2, solver=liblinear, tol=0.0007; total time=   0.0s\n",
      "[CV] END C=6, class_weight=balanced, dual=False, fit_intercept=True, max_iter=94, multi_class=auto, penalty=l2, solver=liblinear, tol=0.0007; total time=   0.0s\n",
      "[CV] END C=6, class_weight=balanced, dual=False, fit_intercept=True, max_iter=94, multi_class=auto, penalty=l2, solver=liblinear, tol=0.0006; total time=   0.0s\n",
      "[CV] END C=6, class_weight=balanced, dual=False, fit_intercept=True, max_iter=94, multi_class=auto, penalty=l2, solver=liblinear, tol=0.0006; total time=   0.0s\n",
      "[CV] END C=6, class_weight=balanced, dual=False, fit_intercept=True, max_iter=94, multi_class=auto, penalty=l2, solver=liblinear, tol=0.0006; total time=   0.0s\n",
      "[CV] END C=6, class_weight=balanced, dual=False, fit_intercept=True, max_iter=94, multi_class=auto, penalty=l2, solver=liblinear, tol=0.0005; total time=   0.0s\n",
      "[CV] END C=6, class_weight=balanced, dual=False, fit_intercept=True, max_iter=94, multi_class=auto, penalty=l2, solver=liblinear, tol=0.0005; total time=   0.0s\n",
      "[CV] END C=6, class_weight=balanced, dual=False, fit_intercept=True, max_iter=94, multi_class=auto, penalty=l2, solver=liblinear, tol=0.0005; total time=   0.0s\n",
      "[CV] END C=6, class_weight=balanced, dual=False, fit_intercept=True, max_iter=94, multi_class=auto, penalty=l2, solver=liblinear, tol=0.00062; total time=   0.0s\n",
      "[CV] END C=6, class_weight=balanced, dual=False, fit_intercept=True, max_iter=94, multi_class=auto, penalty=l2, solver=liblinear, tol=0.00062; total time=   0.0s\n",
      "[CV] END C=6, class_weight=balanced, dual=False, fit_intercept=True, max_iter=94, multi_class=auto, penalty=l2, solver=liblinear, tol=0.00062; total time=   0.0s\n",
      "[CV] END C=6, class_weight=balanced, dual=False, fit_intercept=True, max_iter=93, multi_class=auto, penalty=l2, solver=liblinear, tol=0.00067; total time=   0.0s\n",
      "[CV] END C=6, class_weight=balanced, dual=False, fit_intercept=True, max_iter=93, multi_class=auto, penalty=l2, solver=liblinear, tol=0.00067; total time=   0.0s\n",
      "[CV] END C=6, class_weight=balanced, dual=False, fit_intercept=True, max_iter=93, multi_class=auto, penalty=l2, solver=liblinear, tol=0.00067; total time=   0.0s\n",
      "[CV] END C=6, class_weight=balanced, dual=False, fit_intercept=True, max_iter=93, multi_class=auto, penalty=l2, solver=liblinear, tol=0.0007; total time=   0.0s\n",
      "[CV] END C=6, class_weight=balanced, dual=False, fit_intercept=True, max_iter=93, multi_class=auto, penalty=l2, solver=liblinear, tol=0.0007; total time=   0.0s\n",
      "[CV] END C=6, class_weight=balanced, dual=False, fit_intercept=True, max_iter=93, multi_class=auto, penalty=l2, solver=liblinear, tol=0.0007; total time=   0.0s\n",
      "[CV] END C=6, class_weight=balanced, dual=False, fit_intercept=True, max_iter=93, multi_class=auto, penalty=l2, solver=liblinear, tol=0.0006; total time=   0.0s\n",
      "[CV] END C=6, class_weight=balanced, dual=False, fit_intercept=True, max_iter=93, multi_class=auto, penalty=l2, solver=liblinear, tol=0.0006; total time=   0.0s\n",
      "[CV] END C=6, class_weight=balanced, dual=False, fit_intercept=True, max_iter=93, multi_class=auto, penalty=l2, solver=liblinear, tol=0.0006; total time=   0.0s\n",
      "[CV] END C=6, class_weight=balanced, dual=False, fit_intercept=True, max_iter=93, multi_class=auto, penalty=l2, solver=liblinear, tol=0.0005; total time=   0.0s\n",
      "[CV] END C=6, class_weight=balanced, dual=False, fit_intercept=True, max_iter=93, multi_class=auto, penalty=l2, solver=liblinear, tol=0.0005; total time=   0.0s\n",
      "[CV] END C=6, class_weight=balanced, dual=False, fit_intercept=True, max_iter=93, multi_class=auto, penalty=l2, solver=liblinear, tol=0.0005; total time=   0.0s\n",
      "[CV] END C=6, class_weight=balanced, dual=False, fit_intercept=True, max_iter=93, multi_class=auto, penalty=l2, solver=liblinear, tol=0.00062; total time=   0.0s\n",
      "[CV] END C=6, class_weight=balanced, dual=False, fit_intercept=True, max_iter=93, multi_class=auto, penalty=l2, solver=liblinear, tol=0.00062; total time=   0.0s\n",
      "[CV] END C=6, class_weight=balanced, dual=False, fit_intercept=True, max_iter=93, multi_class=auto, penalty=l2, solver=liblinear, tol=0.00062; total time=   0.0s\n",
      "[CV] END C=6, class_weight=balanced, dual=False, fit_intercept=True, max_iter=92, multi_class=auto, penalty=l2, solver=liblinear, tol=0.00067; total time=   0.0s\n",
      "[CV] END C=6, class_weight=balanced, dual=False, fit_intercept=True, max_iter=92, multi_class=auto, penalty=l2, solver=liblinear, tol=0.00067; total time=   0.0s\n",
      "[CV] END C=6, class_weight=balanced, dual=False, fit_intercept=True, max_iter=92, multi_class=auto, penalty=l2, solver=liblinear, tol=0.00067; total time=   0.0s\n",
      "[CV] END C=6, class_weight=balanced, dual=False, fit_intercept=True, max_iter=92, multi_class=auto, penalty=l2, solver=liblinear, tol=0.0007; total time=   0.0s\n",
      "[CV] END C=6, class_weight=balanced, dual=False, fit_intercept=True, max_iter=92, multi_class=auto, penalty=l2, solver=liblinear, tol=0.0007; total time=   0.0s\n",
      "[CV] END C=6, class_weight=balanced, dual=False, fit_intercept=True, max_iter=92, multi_class=auto, penalty=l2, solver=liblinear, tol=0.0007; total time=   0.0s\n",
      "[CV] END C=6, class_weight=balanced, dual=False, fit_intercept=True, max_iter=92, multi_class=auto, penalty=l2, solver=liblinear, tol=0.0006; total time=   0.0s\n",
      "[CV] END C=6, class_weight=balanced, dual=False, fit_intercept=True, max_iter=92, multi_class=auto, penalty=l2, solver=liblinear, tol=0.0006; total time=   0.0s\n",
      "[CV] END C=6, class_weight=balanced, dual=False, fit_intercept=True, max_iter=92, multi_class=auto, penalty=l2, solver=liblinear, tol=0.0006; total time=   0.0s\n",
      "[CV] END C=6, class_weight=balanced, dual=False, fit_intercept=True, max_iter=92, multi_class=auto, penalty=l2, solver=liblinear, tol=0.0005; total time=   0.0s\n",
      "[CV] END C=6, class_weight=balanced, dual=False, fit_intercept=True, max_iter=92, multi_class=auto, penalty=l2, solver=liblinear, tol=0.0005; total time=   0.0s\n",
      "[CV] END C=6, class_weight=balanced, dual=False, fit_intercept=True, max_iter=92, multi_class=auto, penalty=l2, solver=liblinear, tol=0.0005; total time=   0.0s\n",
      "[CV] END C=6, class_weight=balanced, dual=False, fit_intercept=True, max_iter=92, multi_class=auto, penalty=l2, solver=liblinear, tol=0.00062; total time=   0.0s\n",
      "[CV] END C=6, class_weight=balanced, dual=False, fit_intercept=True, max_iter=92, multi_class=auto, penalty=l2, solver=liblinear, tol=0.00062; total time=   0.0s\n",
      "[CV] END C=6, class_weight=balanced, dual=False, fit_intercept=True, max_iter=92, multi_class=auto, penalty=l2, solver=liblinear, tol=0.00062; total time=   0.0s\n",
      "[CV] END C=6, class_weight=balanced, dual=False, fit_intercept=True, max_iter=95, multi_class=auto, penalty=l2, solver=liblinear, tol=0.00067; total time=   0.0s\n",
      "[CV] END C=6, class_weight=balanced, dual=False, fit_intercept=True, max_iter=95, multi_class=auto, penalty=l2, solver=liblinear, tol=0.00067; total time=   0.0s\n",
      "[CV] END C=6, class_weight=balanced, dual=False, fit_intercept=True, max_iter=95, multi_class=auto, penalty=l2, solver=liblinear, tol=0.00067; total time=   0.0s\n",
      "[CV] END C=6, class_weight=balanced, dual=False, fit_intercept=True, max_iter=95, multi_class=auto, penalty=l2, solver=liblinear, tol=0.0007; total time=   0.0s\n",
      "[CV] END C=6, class_weight=balanced, dual=False, fit_intercept=True, max_iter=95, multi_class=auto, penalty=l2, solver=liblinear, tol=0.0007; total time=   0.0s\n",
      "[CV] END C=6, class_weight=balanced, dual=False, fit_intercept=True, max_iter=95, multi_class=auto, penalty=l2, solver=liblinear, tol=0.0007; total time=   0.0s\n",
      "[CV] END C=6, class_weight=balanced, dual=False, fit_intercept=True, max_iter=95, multi_class=auto, penalty=l2, solver=liblinear, tol=0.0006; total time=   0.0s\n",
      "[CV] END C=6, class_weight=balanced, dual=False, fit_intercept=True, max_iter=95, multi_class=auto, penalty=l2, solver=liblinear, tol=0.0006; total time=   0.0s\n",
      "[CV] END C=6, class_weight=balanced, dual=False, fit_intercept=True, max_iter=95, multi_class=auto, penalty=l2, solver=liblinear, tol=0.0006; total time=   0.0s\n",
      "[CV] END C=6, class_weight=balanced, dual=False, fit_intercept=True, max_iter=95, multi_class=auto, penalty=l2, solver=liblinear, tol=0.0005; total time=   0.0s\n"
     ]
    },
    {
     "name": "stdout",
     "output_type": "stream",
     "text": [
      "[CV] END C=6, class_weight=balanced, dual=False, fit_intercept=True, max_iter=95, multi_class=auto, penalty=l2, solver=liblinear, tol=0.0005; total time=   0.0s\n",
      "[CV] END C=6, class_weight=balanced, dual=False, fit_intercept=True, max_iter=95, multi_class=auto, penalty=l2, solver=liblinear, tol=0.0005; total time=   0.0s\n",
      "[CV] END C=6, class_weight=balanced, dual=False, fit_intercept=True, max_iter=95, multi_class=auto, penalty=l2, solver=liblinear, tol=0.00062; total time=   0.0s\n",
      "[CV] END C=6, class_weight=balanced, dual=False, fit_intercept=True, max_iter=95, multi_class=auto, penalty=l2, solver=liblinear, tol=0.00062; total time=   0.0s\n",
      "[CV] END C=6, class_weight=balanced, dual=False, fit_intercept=True, max_iter=95, multi_class=auto, penalty=l2, solver=liblinear, tol=0.00062; total time=   0.0s\n",
      "[CV] END C=6, class_weight=balanced, dual=False, fit_intercept=True, max_iter=96, multi_class=auto, penalty=l2, solver=liblinear, tol=0.00067; total time=   0.0s\n",
      "[CV] END C=6, class_weight=balanced, dual=False, fit_intercept=True, max_iter=96, multi_class=auto, penalty=l2, solver=liblinear, tol=0.00067; total time=   0.0s\n",
      "[CV] END C=6, class_weight=balanced, dual=False, fit_intercept=True, max_iter=96, multi_class=auto, penalty=l2, solver=liblinear, tol=0.00067; total time=   0.0s\n",
      "[CV] END C=6, class_weight=balanced, dual=False, fit_intercept=True, max_iter=96, multi_class=auto, penalty=l2, solver=liblinear, tol=0.0007; total time=   0.0s\n",
      "[CV] END C=6, class_weight=balanced, dual=False, fit_intercept=True, max_iter=96, multi_class=auto, penalty=l2, solver=liblinear, tol=0.0007; total time=   0.0s\n",
      "[CV] END C=6, class_weight=balanced, dual=False, fit_intercept=True, max_iter=96, multi_class=auto, penalty=l2, solver=liblinear, tol=0.0007; total time=   0.0s\n",
      "[CV] END C=6, class_weight=balanced, dual=False, fit_intercept=True, max_iter=96, multi_class=auto, penalty=l2, solver=liblinear, tol=0.0006; total time=   0.0s\n",
      "[CV] END C=6, class_weight=balanced, dual=False, fit_intercept=True, max_iter=96, multi_class=auto, penalty=l2, solver=liblinear, tol=0.0006; total time=   0.0s\n",
      "[CV] END C=6, class_weight=balanced, dual=False, fit_intercept=True, max_iter=96, multi_class=auto, penalty=l2, solver=liblinear, tol=0.0006; total time=   0.0s\n",
      "[CV] END C=6, class_weight=balanced, dual=False, fit_intercept=True, max_iter=96, multi_class=auto, penalty=l2, solver=liblinear, tol=0.0005; total time=   0.0s\n",
      "[CV] END C=6, class_weight=balanced, dual=False, fit_intercept=True, max_iter=96, multi_class=auto, penalty=l2, solver=liblinear, tol=0.0005; total time=   0.0s\n",
      "[CV] END C=6, class_weight=balanced, dual=False, fit_intercept=True, max_iter=96, multi_class=auto, penalty=l2, solver=liblinear, tol=0.0005; total time=   0.0s\n",
      "[CV] END C=6, class_weight=balanced, dual=False, fit_intercept=True, max_iter=96, multi_class=auto, penalty=l2, solver=liblinear, tol=0.00062; total time=   0.0s\n",
      "[CV] END C=6, class_weight=balanced, dual=False, fit_intercept=True, max_iter=96, multi_class=auto, penalty=l2, solver=liblinear, tol=0.00062; total time=   0.0s\n",
      "[CV] END C=6, class_weight=balanced, dual=False, fit_intercept=True, max_iter=96, multi_class=auto, penalty=l2, solver=liblinear, tol=0.00062; total time=   0.0s\n",
      "[CV] END C=6, class_weight=balanced, dual=False, fit_intercept=True, max_iter=91, multi_class=auto, penalty=l2, solver=liblinear, tol=0.00067; total time=   0.0s\n",
      "[CV] END C=6, class_weight=balanced, dual=False, fit_intercept=True, max_iter=91, multi_class=auto, penalty=l2, solver=liblinear, tol=0.00067; total time=   0.0s\n",
      "[CV] END C=6, class_weight=balanced, dual=False, fit_intercept=True, max_iter=91, multi_class=auto, penalty=l2, solver=liblinear, tol=0.00067; total time=   0.0s\n",
      "[CV] END C=6, class_weight=balanced, dual=False, fit_intercept=True, max_iter=91, multi_class=auto, penalty=l2, solver=liblinear, tol=0.0007; total time=   0.0s\n",
      "[CV] END C=6, class_weight=balanced, dual=False, fit_intercept=True, max_iter=91, multi_class=auto, penalty=l2, solver=liblinear, tol=0.0007; total time=   0.0s\n",
      "[CV] END C=6, class_weight=balanced, dual=False, fit_intercept=True, max_iter=91, multi_class=auto, penalty=l2, solver=liblinear, tol=0.0007; total time=   0.0s\n",
      "[CV] END C=6, class_weight=balanced, dual=False, fit_intercept=True, max_iter=91, multi_class=auto, penalty=l2, solver=liblinear, tol=0.0006; total time=   0.0s\n",
      "[CV] END C=6, class_weight=balanced, dual=False, fit_intercept=True, max_iter=91, multi_class=auto, penalty=l2, solver=liblinear, tol=0.0006; total time=   0.0s\n",
      "[CV] END C=6, class_weight=balanced, dual=False, fit_intercept=True, max_iter=91, multi_class=auto, penalty=l2, solver=liblinear, tol=0.0006; total time=   0.0s\n",
      "[CV] END C=6, class_weight=balanced, dual=False, fit_intercept=True, max_iter=91, multi_class=auto, penalty=l2, solver=liblinear, tol=0.0005; total time=   0.0s\n",
      "[CV] END C=6, class_weight=balanced, dual=False, fit_intercept=True, max_iter=91, multi_class=auto, penalty=l2, solver=liblinear, tol=0.0005; total time=   0.0s\n",
      "[CV] END C=6, class_weight=balanced, dual=False, fit_intercept=True, max_iter=91, multi_class=auto, penalty=l2, solver=liblinear, tol=0.0005; total time=   0.0s\n",
      "[CV] END C=6, class_weight=balanced, dual=False, fit_intercept=True, max_iter=91, multi_class=auto, penalty=l2, solver=liblinear, tol=0.00062; total time=   0.0s\n",
      "[CV] END C=6, class_weight=balanced, dual=False, fit_intercept=True, max_iter=91, multi_class=auto, penalty=l2, solver=liblinear, tol=0.00062; total time=   0.0s\n",
      "[CV] END C=6, class_weight=balanced, dual=False, fit_intercept=True, max_iter=91, multi_class=auto, penalty=l2, solver=liblinear, tol=0.00062; total time=   0.0s\n",
      "[CV] END C=6, class_weight=balanced, dual=False, fit_intercept=True, max_iter=98, multi_class=auto, penalty=l2, solver=liblinear, tol=0.00067; total time=   0.0s\n",
      "[CV] END C=6, class_weight=balanced, dual=False, fit_intercept=True, max_iter=98, multi_class=auto, penalty=l2, solver=liblinear, tol=0.00067; total time=   0.0s\n",
      "[CV] END C=6, class_weight=balanced, dual=False, fit_intercept=True, max_iter=98, multi_class=auto, penalty=l2, solver=liblinear, tol=0.00067; total time=   0.0s\n",
      "[CV] END C=6, class_weight=balanced, dual=False, fit_intercept=True, max_iter=98, multi_class=auto, penalty=l2, solver=liblinear, tol=0.0007; total time=   0.0s\n",
      "[CV] END C=6, class_weight=balanced, dual=False, fit_intercept=True, max_iter=98, multi_class=auto, penalty=l2, solver=liblinear, tol=0.0007; total time=   0.0s\n",
      "[CV] END C=6, class_weight=balanced, dual=False, fit_intercept=True, max_iter=98, multi_class=auto, penalty=l2, solver=liblinear, tol=0.0007; total time=   0.0s\n",
      "[CV] END C=6, class_weight=balanced, dual=False, fit_intercept=True, max_iter=98, multi_class=auto, penalty=l2, solver=liblinear, tol=0.0006; total time=   0.0s\n",
      "[CV] END C=6, class_weight=balanced, dual=False, fit_intercept=True, max_iter=98, multi_class=auto, penalty=l2, solver=liblinear, tol=0.0006; total time=   0.0s\n",
      "[CV] END C=6, class_weight=balanced, dual=False, fit_intercept=True, max_iter=98, multi_class=auto, penalty=l2, solver=liblinear, tol=0.0006; total time=   0.0s\n",
      "[CV] END C=6, class_weight=balanced, dual=False, fit_intercept=True, max_iter=98, multi_class=auto, penalty=l2, solver=liblinear, tol=0.0005; total time=   0.0s\n",
      "[CV] END C=6, class_weight=balanced, dual=False, fit_intercept=True, max_iter=98, multi_class=auto, penalty=l2, solver=liblinear, tol=0.0005; total time=   0.0s\n",
      "[CV] END C=6, class_weight=balanced, dual=False, fit_intercept=True, max_iter=98, multi_class=auto, penalty=l2, solver=liblinear, tol=0.0005; total time=   0.0s\n",
      "[CV] END C=6, class_weight=balanced, dual=False, fit_intercept=True, max_iter=98, multi_class=auto, penalty=l2, solver=liblinear, tol=0.00062; total time=   0.0s\n",
      "[CV] END C=6, class_weight=balanced, dual=False, fit_intercept=True, max_iter=98, multi_class=auto, penalty=l2, solver=liblinear, tol=0.00062; total time=   0.0s\n",
      "[CV] END C=6, class_weight=balanced, dual=False, fit_intercept=True, max_iter=98, multi_class=auto, penalty=l2, solver=liblinear, tol=0.00062; total time=   0.0s\n",
      "[CV] END C=6, class_weight=balanced, dual=False, fit_intercept=True, max_iter=97, multi_class=auto, penalty=l2, solver=liblinear, tol=0.00067; total time=   0.0s\n",
      "[CV] END C=6, class_weight=balanced, dual=False, fit_intercept=True, max_iter=97, multi_class=auto, penalty=l2, solver=liblinear, tol=0.00067; total time=   0.0s\n",
      "[CV] END C=6, class_weight=balanced, dual=False, fit_intercept=True, max_iter=97, multi_class=auto, penalty=l2, solver=liblinear, tol=0.00067; total time=   0.0s\n",
      "[CV] END C=6, class_weight=balanced, dual=False, fit_intercept=True, max_iter=97, multi_class=auto, penalty=l2, solver=liblinear, tol=0.0007; total time=   0.0s\n",
      "[CV] END C=6, class_weight=balanced, dual=False, fit_intercept=True, max_iter=97, multi_class=auto, penalty=l2, solver=liblinear, tol=0.0007; total time=   0.0s\n"
     ]
    },
    {
     "name": "stdout",
     "output_type": "stream",
     "text": [
      "[CV] END C=6, class_weight=balanced, dual=False, fit_intercept=True, max_iter=97, multi_class=auto, penalty=l2, solver=liblinear, tol=0.0007; total time=   0.0s\n",
      "[CV] END C=6, class_weight=balanced, dual=False, fit_intercept=True, max_iter=97, multi_class=auto, penalty=l2, solver=liblinear, tol=0.0006; total time=   0.0s\n",
      "[CV] END C=6, class_weight=balanced, dual=False, fit_intercept=True, max_iter=97, multi_class=auto, penalty=l2, solver=liblinear, tol=0.0006; total time=   0.0s\n",
      "[CV] END C=6, class_weight=balanced, dual=False, fit_intercept=True, max_iter=97, multi_class=auto, penalty=l2, solver=liblinear, tol=0.0006; total time=   0.0s\n",
      "[CV] END C=6, class_weight=balanced, dual=False, fit_intercept=True, max_iter=97, multi_class=auto, penalty=l2, solver=liblinear, tol=0.0005; total time=   0.0s\n",
      "[CV] END C=6, class_weight=balanced, dual=False, fit_intercept=True, max_iter=97, multi_class=auto, penalty=l2, solver=liblinear, tol=0.0005; total time=   0.0s\n",
      "[CV] END C=6, class_weight=balanced, dual=False, fit_intercept=True, max_iter=97, multi_class=auto, penalty=l2, solver=liblinear, tol=0.0005; total time=   0.0s\n",
      "[CV] END C=6, class_weight=balanced, dual=False, fit_intercept=True, max_iter=97, multi_class=auto, penalty=l2, solver=liblinear, tol=0.00062; total time=   0.0s\n",
      "[CV] END C=6, class_weight=balanced, dual=False, fit_intercept=True, max_iter=97, multi_class=auto, penalty=l2, solver=liblinear, tol=0.00062; total time=   0.0s\n",
      "[CV] END C=6, class_weight=balanced, dual=False, fit_intercept=True, max_iter=97, multi_class=auto, penalty=l2, solver=liblinear, tol=0.00062; total time=   0.0s\n",
      "[CV] END C=5, class_weight=balanced, dual=False, fit_intercept=True, max_iter=94, multi_class=auto, penalty=l2, solver=liblinear, tol=0.00067; total time=   0.0s\n",
      "[CV] END C=5, class_weight=balanced, dual=False, fit_intercept=True, max_iter=94, multi_class=auto, penalty=l2, solver=liblinear, tol=0.00067; total time=   0.0s\n",
      "[CV] END C=5, class_weight=balanced, dual=False, fit_intercept=True, max_iter=94, multi_class=auto, penalty=l2, solver=liblinear, tol=0.00067; total time=   0.0s\n",
      "[CV] END C=5, class_weight=balanced, dual=False, fit_intercept=True, max_iter=94, multi_class=auto, penalty=l2, solver=liblinear, tol=0.0007; total time=   0.0s\n",
      "[CV] END C=5, class_weight=balanced, dual=False, fit_intercept=True, max_iter=94, multi_class=auto, penalty=l2, solver=liblinear, tol=0.0007; total time=   0.0s\n",
      "[CV] END C=5, class_weight=balanced, dual=False, fit_intercept=True, max_iter=94, multi_class=auto, penalty=l2, solver=liblinear, tol=0.0007; total time=   0.0s\n",
      "[CV] END C=5, class_weight=balanced, dual=False, fit_intercept=True, max_iter=94, multi_class=auto, penalty=l2, solver=liblinear, tol=0.0006; total time=   0.0s\n",
      "[CV] END C=5, class_weight=balanced, dual=False, fit_intercept=True, max_iter=94, multi_class=auto, penalty=l2, solver=liblinear, tol=0.0006; total time=   0.0s\n",
      "[CV] END C=5, class_weight=balanced, dual=False, fit_intercept=True, max_iter=94, multi_class=auto, penalty=l2, solver=liblinear, tol=0.0006; total time=   0.0s\n",
      "[CV] END C=5, class_weight=balanced, dual=False, fit_intercept=True, max_iter=94, multi_class=auto, penalty=l2, solver=liblinear, tol=0.0005; total time=   0.0s\n",
      "[CV] END C=5, class_weight=balanced, dual=False, fit_intercept=True, max_iter=94, multi_class=auto, penalty=l2, solver=liblinear, tol=0.0005; total time=   0.0s\n",
      "[CV] END C=5, class_weight=balanced, dual=False, fit_intercept=True, max_iter=94, multi_class=auto, penalty=l2, solver=liblinear, tol=0.0005; total time=   0.0s\n",
      "[CV] END C=5, class_weight=balanced, dual=False, fit_intercept=True, max_iter=94, multi_class=auto, penalty=l2, solver=liblinear, tol=0.00062; total time=   0.0s\n",
      "[CV] END C=5, class_weight=balanced, dual=False, fit_intercept=True, max_iter=94, multi_class=auto, penalty=l2, solver=liblinear, tol=0.00062; total time=   0.0s\n",
      "[CV] END C=5, class_weight=balanced, dual=False, fit_intercept=True, max_iter=94, multi_class=auto, penalty=l2, solver=liblinear, tol=0.00062; total time=   0.0s\n",
      "[CV] END C=5, class_weight=balanced, dual=False, fit_intercept=True, max_iter=93, multi_class=auto, penalty=l2, solver=liblinear, tol=0.00067; total time=   0.0s\n",
      "[CV] END C=5, class_weight=balanced, dual=False, fit_intercept=True, max_iter=93, multi_class=auto, penalty=l2, solver=liblinear, tol=0.00067; total time=   0.0s\n",
      "[CV] END C=5, class_weight=balanced, dual=False, fit_intercept=True, max_iter=93, multi_class=auto, penalty=l2, solver=liblinear, tol=0.00067; total time=   0.0s\n",
      "[CV] END C=5, class_weight=balanced, dual=False, fit_intercept=True, max_iter=93, multi_class=auto, penalty=l2, solver=liblinear, tol=0.0007; total time=   0.0s\n",
      "[CV] END C=5, class_weight=balanced, dual=False, fit_intercept=True, max_iter=93, multi_class=auto, penalty=l2, solver=liblinear, tol=0.0007; total time=   0.0s\n",
      "[CV] END C=5, class_weight=balanced, dual=False, fit_intercept=True, max_iter=93, multi_class=auto, penalty=l2, solver=liblinear, tol=0.0007; total time=   0.0s\n",
      "[CV] END C=5, class_weight=balanced, dual=False, fit_intercept=True, max_iter=93, multi_class=auto, penalty=l2, solver=liblinear, tol=0.0006; total time=   0.0s\n",
      "[CV] END C=5, class_weight=balanced, dual=False, fit_intercept=True, max_iter=93, multi_class=auto, penalty=l2, solver=liblinear, tol=0.0006; total time=   0.0s\n",
      "[CV] END C=5, class_weight=balanced, dual=False, fit_intercept=True, max_iter=93, multi_class=auto, penalty=l2, solver=liblinear, tol=0.0006; total time=   0.0s\n",
      "[CV] END C=5, class_weight=balanced, dual=False, fit_intercept=True, max_iter=93, multi_class=auto, penalty=l2, solver=liblinear, tol=0.0005; total time=   0.0s\n",
      "[CV] END C=5, class_weight=balanced, dual=False, fit_intercept=True, max_iter=93, multi_class=auto, penalty=l2, solver=liblinear, tol=0.0005; total time=   0.0s\n",
      "[CV] END C=5, class_weight=balanced, dual=False, fit_intercept=True, max_iter=93, multi_class=auto, penalty=l2, solver=liblinear, tol=0.0005; total time=   0.0s\n",
      "[CV] END C=5, class_weight=balanced, dual=False, fit_intercept=True, max_iter=93, multi_class=auto, penalty=l2, solver=liblinear, tol=0.00062; total time=   0.0s\n",
      "[CV] END C=5, class_weight=balanced, dual=False, fit_intercept=True, max_iter=93, multi_class=auto, penalty=l2, solver=liblinear, tol=0.00062; total time=   0.0s\n",
      "[CV] END C=5, class_weight=balanced, dual=False, fit_intercept=True, max_iter=93, multi_class=auto, penalty=l2, solver=liblinear, tol=0.00062; total time=   0.0s\n",
      "[CV] END C=5, class_weight=balanced, dual=False, fit_intercept=True, max_iter=92, multi_class=auto, penalty=l2, solver=liblinear, tol=0.00067; total time=   0.0s\n",
      "[CV] END C=5, class_weight=balanced, dual=False, fit_intercept=True, max_iter=92, multi_class=auto, penalty=l2, solver=liblinear, tol=0.00067; total time=   0.0s\n",
      "[CV] END C=5, class_weight=balanced, dual=False, fit_intercept=True, max_iter=92, multi_class=auto, penalty=l2, solver=liblinear, tol=0.00067; total time=   0.0s\n",
      "[CV] END C=5, class_weight=balanced, dual=False, fit_intercept=True, max_iter=92, multi_class=auto, penalty=l2, solver=liblinear, tol=0.0007; total time=   0.0s\n",
      "[CV] END C=5, class_weight=balanced, dual=False, fit_intercept=True, max_iter=92, multi_class=auto, penalty=l2, solver=liblinear, tol=0.0007; total time=   0.0s\n",
      "[CV] END C=5, class_weight=balanced, dual=False, fit_intercept=True, max_iter=92, multi_class=auto, penalty=l2, solver=liblinear, tol=0.0007; total time=   0.0s\n",
      "[CV] END C=5, class_weight=balanced, dual=False, fit_intercept=True, max_iter=92, multi_class=auto, penalty=l2, solver=liblinear, tol=0.0006; total time=   0.0s\n",
      "[CV] END C=5, class_weight=balanced, dual=False, fit_intercept=True, max_iter=92, multi_class=auto, penalty=l2, solver=liblinear, tol=0.0006; total time=   0.0s\n",
      "[CV] END C=5, class_weight=balanced, dual=False, fit_intercept=True, max_iter=92, multi_class=auto, penalty=l2, solver=liblinear, tol=0.0006; total time=   0.0s\n",
      "[CV] END C=5, class_weight=balanced, dual=False, fit_intercept=True, max_iter=92, multi_class=auto, penalty=l2, solver=liblinear, tol=0.0005; total time=   0.0s\n",
      "[CV] END C=5, class_weight=balanced, dual=False, fit_intercept=True, max_iter=92, multi_class=auto, penalty=l2, solver=liblinear, tol=0.0005; total time=   0.0s\n",
      "[CV] END C=5, class_weight=balanced, dual=False, fit_intercept=True, max_iter=92, multi_class=auto, penalty=l2, solver=liblinear, tol=0.0005; total time=   0.0s\n",
      "[CV] END C=5, class_weight=balanced, dual=False, fit_intercept=True, max_iter=92, multi_class=auto, penalty=l2, solver=liblinear, tol=0.00062; total time=   0.0s\n",
      "[CV] END C=5, class_weight=balanced, dual=False, fit_intercept=True, max_iter=92, multi_class=auto, penalty=l2, solver=liblinear, tol=0.00062; total time=   0.0s\n",
      "[CV] END C=5, class_weight=balanced, dual=False, fit_intercept=True, max_iter=92, multi_class=auto, penalty=l2, solver=liblinear, tol=0.00062; total time=   0.0s\n"
     ]
    },
    {
     "name": "stdout",
     "output_type": "stream",
     "text": [
      "[CV] END C=5, class_weight=balanced, dual=False, fit_intercept=True, max_iter=95, multi_class=auto, penalty=l2, solver=liblinear, tol=0.00067; total time=   0.0s\n",
      "[CV] END C=5, class_weight=balanced, dual=False, fit_intercept=True, max_iter=95, multi_class=auto, penalty=l2, solver=liblinear, tol=0.00067; total time=   0.0s\n",
      "[CV] END C=5, class_weight=balanced, dual=False, fit_intercept=True, max_iter=95, multi_class=auto, penalty=l2, solver=liblinear, tol=0.00067; total time=   0.0s\n",
      "[CV] END C=5, class_weight=balanced, dual=False, fit_intercept=True, max_iter=95, multi_class=auto, penalty=l2, solver=liblinear, tol=0.0007; total time=   0.0s\n",
      "[CV] END C=5, class_weight=balanced, dual=False, fit_intercept=True, max_iter=95, multi_class=auto, penalty=l2, solver=liblinear, tol=0.0007; total time=   0.0s\n",
      "[CV] END C=5, class_weight=balanced, dual=False, fit_intercept=True, max_iter=95, multi_class=auto, penalty=l2, solver=liblinear, tol=0.0007; total time=   0.0s\n",
      "[CV] END C=5, class_weight=balanced, dual=False, fit_intercept=True, max_iter=95, multi_class=auto, penalty=l2, solver=liblinear, tol=0.0006; total time=   0.0s\n",
      "[CV] END C=5, class_weight=balanced, dual=False, fit_intercept=True, max_iter=95, multi_class=auto, penalty=l2, solver=liblinear, tol=0.0006; total time=   0.0s\n",
      "[CV] END C=5, class_weight=balanced, dual=False, fit_intercept=True, max_iter=95, multi_class=auto, penalty=l2, solver=liblinear, tol=0.0006; total time=   0.0s\n",
      "[CV] END C=5, class_weight=balanced, dual=False, fit_intercept=True, max_iter=95, multi_class=auto, penalty=l2, solver=liblinear, tol=0.0005; total time=   0.0s\n",
      "[CV] END C=5, class_weight=balanced, dual=False, fit_intercept=True, max_iter=95, multi_class=auto, penalty=l2, solver=liblinear, tol=0.0005; total time=   0.0s\n",
      "[CV] END C=5, class_weight=balanced, dual=False, fit_intercept=True, max_iter=95, multi_class=auto, penalty=l2, solver=liblinear, tol=0.0005; total time=   0.0s\n",
      "[CV] END C=5, class_weight=balanced, dual=False, fit_intercept=True, max_iter=95, multi_class=auto, penalty=l2, solver=liblinear, tol=0.00062; total time=   0.0s\n",
      "[CV] END C=5, class_weight=balanced, dual=False, fit_intercept=True, max_iter=95, multi_class=auto, penalty=l2, solver=liblinear, tol=0.00062; total time=   0.0s\n",
      "[CV] END C=5, class_weight=balanced, dual=False, fit_intercept=True, max_iter=95, multi_class=auto, penalty=l2, solver=liblinear, tol=0.00062; total time=   0.0s\n",
      "[CV] END C=5, class_weight=balanced, dual=False, fit_intercept=True, max_iter=96, multi_class=auto, penalty=l2, solver=liblinear, tol=0.00067; total time=   0.0s\n",
      "[CV] END C=5, class_weight=balanced, dual=False, fit_intercept=True, max_iter=96, multi_class=auto, penalty=l2, solver=liblinear, tol=0.00067; total time=   0.0s\n",
      "[CV] END C=5, class_weight=balanced, dual=False, fit_intercept=True, max_iter=96, multi_class=auto, penalty=l2, solver=liblinear, tol=0.00067; total time=   0.0s\n",
      "[CV] END C=5, class_weight=balanced, dual=False, fit_intercept=True, max_iter=96, multi_class=auto, penalty=l2, solver=liblinear, tol=0.0007; total time=   0.0s\n",
      "[CV] END C=5, class_weight=balanced, dual=False, fit_intercept=True, max_iter=96, multi_class=auto, penalty=l2, solver=liblinear, tol=0.0007; total time=   0.0s\n",
      "[CV] END C=5, class_weight=balanced, dual=False, fit_intercept=True, max_iter=96, multi_class=auto, penalty=l2, solver=liblinear, tol=0.0007; total time=   0.0s\n",
      "[CV] END C=5, class_weight=balanced, dual=False, fit_intercept=True, max_iter=96, multi_class=auto, penalty=l2, solver=liblinear, tol=0.0006; total time=   0.0s\n",
      "[CV] END C=5, class_weight=balanced, dual=False, fit_intercept=True, max_iter=96, multi_class=auto, penalty=l2, solver=liblinear, tol=0.0006; total time=   0.0s\n",
      "[CV] END C=5, class_weight=balanced, dual=False, fit_intercept=True, max_iter=96, multi_class=auto, penalty=l2, solver=liblinear, tol=0.0006; total time=   0.0s\n",
      "[CV] END C=5, class_weight=balanced, dual=False, fit_intercept=True, max_iter=96, multi_class=auto, penalty=l2, solver=liblinear, tol=0.0005; total time=   0.0s\n",
      "[CV] END C=5, class_weight=balanced, dual=False, fit_intercept=True, max_iter=96, multi_class=auto, penalty=l2, solver=liblinear, tol=0.0005; total time=   0.0s\n",
      "[CV] END C=5, class_weight=balanced, dual=False, fit_intercept=True, max_iter=96, multi_class=auto, penalty=l2, solver=liblinear, tol=0.0005; total time=   0.0s\n",
      "[CV] END C=5, class_weight=balanced, dual=False, fit_intercept=True, max_iter=96, multi_class=auto, penalty=l2, solver=liblinear, tol=0.00062; total time=   0.0s\n",
      "[CV] END C=5, class_weight=balanced, dual=False, fit_intercept=True, max_iter=96, multi_class=auto, penalty=l2, solver=liblinear, tol=0.00062; total time=   0.0s\n",
      "[CV] END C=5, class_weight=balanced, dual=False, fit_intercept=True, max_iter=96, multi_class=auto, penalty=l2, solver=liblinear, tol=0.00062; total time=   0.0s\n",
      "[CV] END C=5, class_weight=balanced, dual=False, fit_intercept=True, max_iter=91, multi_class=auto, penalty=l2, solver=liblinear, tol=0.00067; total time=   0.0s\n",
      "[CV] END C=5, class_weight=balanced, dual=False, fit_intercept=True, max_iter=91, multi_class=auto, penalty=l2, solver=liblinear, tol=0.00067; total time=   0.0s\n",
      "[CV] END C=5, class_weight=balanced, dual=False, fit_intercept=True, max_iter=91, multi_class=auto, penalty=l2, solver=liblinear, tol=0.00067; total time=   0.0s\n",
      "[CV] END C=5, class_weight=balanced, dual=False, fit_intercept=True, max_iter=91, multi_class=auto, penalty=l2, solver=liblinear, tol=0.0007; total time=   0.0s\n",
      "[CV] END C=5, class_weight=balanced, dual=False, fit_intercept=True, max_iter=91, multi_class=auto, penalty=l2, solver=liblinear, tol=0.0007; total time=   0.0s\n",
      "[CV] END C=5, class_weight=balanced, dual=False, fit_intercept=True, max_iter=91, multi_class=auto, penalty=l2, solver=liblinear, tol=0.0007; total time=   0.0s\n",
      "[CV] END C=5, class_weight=balanced, dual=False, fit_intercept=True, max_iter=91, multi_class=auto, penalty=l2, solver=liblinear, tol=0.0006; total time=   0.0s\n",
      "[CV] END C=5, class_weight=balanced, dual=False, fit_intercept=True, max_iter=91, multi_class=auto, penalty=l2, solver=liblinear, tol=0.0006; total time=   0.0s\n",
      "[CV] END C=5, class_weight=balanced, dual=False, fit_intercept=True, max_iter=91, multi_class=auto, penalty=l2, solver=liblinear, tol=0.0006; total time=   0.0s\n",
      "[CV] END C=5, class_weight=balanced, dual=False, fit_intercept=True, max_iter=91, multi_class=auto, penalty=l2, solver=liblinear, tol=0.0005; total time=   0.0s\n",
      "[CV] END C=5, class_weight=balanced, dual=False, fit_intercept=True, max_iter=91, multi_class=auto, penalty=l2, solver=liblinear, tol=0.0005; total time=   0.0s\n",
      "[CV] END C=5, class_weight=balanced, dual=False, fit_intercept=True, max_iter=91, multi_class=auto, penalty=l2, solver=liblinear, tol=0.0005; total time=   0.0s\n",
      "[CV] END C=5, class_weight=balanced, dual=False, fit_intercept=True, max_iter=91, multi_class=auto, penalty=l2, solver=liblinear, tol=0.00062; total time=   0.0s\n",
      "[CV] END C=5, class_weight=balanced, dual=False, fit_intercept=True, max_iter=91, multi_class=auto, penalty=l2, solver=liblinear, tol=0.00062; total time=   0.0s\n",
      "[CV] END C=5, class_weight=balanced, dual=False, fit_intercept=True, max_iter=91, multi_class=auto, penalty=l2, solver=liblinear, tol=0.00062; total time=   0.0s\n",
      "[CV] END C=5, class_weight=balanced, dual=False, fit_intercept=True, max_iter=98, multi_class=auto, penalty=l2, solver=liblinear, tol=0.00067; total time=   0.0s\n",
      "[CV] END C=5, class_weight=balanced, dual=False, fit_intercept=True, max_iter=98, multi_class=auto, penalty=l2, solver=liblinear, tol=0.00067; total time=   0.0s\n",
      "[CV] END C=5, class_weight=balanced, dual=False, fit_intercept=True, max_iter=98, multi_class=auto, penalty=l2, solver=liblinear, tol=0.00067; total time=   0.0s\n",
      "[CV] END C=5, class_weight=balanced, dual=False, fit_intercept=True, max_iter=98, multi_class=auto, penalty=l2, solver=liblinear, tol=0.0007; total time=   0.0s\n",
      "[CV] END C=5, class_weight=balanced, dual=False, fit_intercept=True, max_iter=98, multi_class=auto, penalty=l2, solver=liblinear, tol=0.0007; total time=   0.0s\n",
      "[CV] END C=5, class_weight=balanced, dual=False, fit_intercept=True, max_iter=98, multi_class=auto, penalty=l2, solver=liblinear, tol=0.0007; total time=   0.0s\n",
      "[CV] END C=5, class_weight=balanced, dual=False, fit_intercept=True, max_iter=98, multi_class=auto, penalty=l2, solver=liblinear, tol=0.0006; total time=   0.0s\n",
      "[CV] END C=5, class_weight=balanced, dual=False, fit_intercept=True, max_iter=98, multi_class=auto, penalty=l2, solver=liblinear, tol=0.0006; total time=   0.0s\n",
      "[CV] END C=5, class_weight=balanced, dual=False, fit_intercept=True, max_iter=98, multi_class=auto, penalty=l2, solver=liblinear, tol=0.0006; total time=   0.0s\n"
     ]
    },
    {
     "name": "stdout",
     "output_type": "stream",
     "text": [
      "[CV] END C=5, class_weight=balanced, dual=False, fit_intercept=True, max_iter=98, multi_class=auto, penalty=l2, solver=liblinear, tol=0.0005; total time=   0.0s\n",
      "[CV] END C=5, class_weight=balanced, dual=False, fit_intercept=True, max_iter=98, multi_class=auto, penalty=l2, solver=liblinear, tol=0.0005; total time=   0.0s\n",
      "[CV] END C=5, class_weight=balanced, dual=False, fit_intercept=True, max_iter=98, multi_class=auto, penalty=l2, solver=liblinear, tol=0.0005; total time=   0.0s\n",
      "[CV] END C=5, class_weight=balanced, dual=False, fit_intercept=True, max_iter=98, multi_class=auto, penalty=l2, solver=liblinear, tol=0.00062; total time=   0.0s\n",
      "[CV] END C=5, class_weight=balanced, dual=False, fit_intercept=True, max_iter=98, multi_class=auto, penalty=l2, solver=liblinear, tol=0.00062; total time=   0.0s\n",
      "[CV] END C=5, class_weight=balanced, dual=False, fit_intercept=True, max_iter=98, multi_class=auto, penalty=l2, solver=liblinear, tol=0.00062; total time=   0.0s\n",
      "[CV] END C=5, class_weight=balanced, dual=False, fit_intercept=True, max_iter=97, multi_class=auto, penalty=l2, solver=liblinear, tol=0.00067; total time=   0.0s\n",
      "[CV] END C=5, class_weight=balanced, dual=False, fit_intercept=True, max_iter=97, multi_class=auto, penalty=l2, solver=liblinear, tol=0.00067; total time=   0.0s\n",
      "[CV] END C=5, class_weight=balanced, dual=False, fit_intercept=True, max_iter=97, multi_class=auto, penalty=l2, solver=liblinear, tol=0.00067; total time=   0.0s\n",
      "[CV] END C=5, class_weight=balanced, dual=False, fit_intercept=True, max_iter=97, multi_class=auto, penalty=l2, solver=liblinear, tol=0.0007; total time=   0.0s\n",
      "[CV] END C=5, class_weight=balanced, dual=False, fit_intercept=True, max_iter=97, multi_class=auto, penalty=l2, solver=liblinear, tol=0.0007; total time=   0.0s\n",
      "[CV] END C=5, class_weight=balanced, dual=False, fit_intercept=True, max_iter=97, multi_class=auto, penalty=l2, solver=liblinear, tol=0.0007; total time=   0.0s\n",
      "[CV] END C=5, class_weight=balanced, dual=False, fit_intercept=True, max_iter=97, multi_class=auto, penalty=l2, solver=liblinear, tol=0.0006; total time=   0.0s\n",
      "[CV] END C=5, class_weight=balanced, dual=False, fit_intercept=True, max_iter=97, multi_class=auto, penalty=l2, solver=liblinear, tol=0.0006; total time=   0.0s\n",
      "[CV] END C=5, class_weight=balanced, dual=False, fit_intercept=True, max_iter=97, multi_class=auto, penalty=l2, solver=liblinear, tol=0.0006; total time=   0.0s\n",
      "[CV] END C=5, class_weight=balanced, dual=False, fit_intercept=True, max_iter=97, multi_class=auto, penalty=l2, solver=liblinear, tol=0.0005; total time=   0.0s\n",
      "[CV] END C=5, class_weight=balanced, dual=False, fit_intercept=True, max_iter=97, multi_class=auto, penalty=l2, solver=liblinear, tol=0.0005; total time=   0.0s\n",
      "[CV] END C=5, class_weight=balanced, dual=False, fit_intercept=True, max_iter=97, multi_class=auto, penalty=l2, solver=liblinear, tol=0.0005; total time=   0.0s\n",
      "[CV] END C=5, class_weight=balanced, dual=False, fit_intercept=True, max_iter=97, multi_class=auto, penalty=l2, solver=liblinear, tol=0.00062; total time=   0.0s\n",
      "[CV] END C=5, class_weight=balanced, dual=False, fit_intercept=True, max_iter=97, multi_class=auto, penalty=l2, solver=liblinear, tol=0.00062; total time=   0.0s\n",
      "[CV] END C=5, class_weight=balanced, dual=False, fit_intercept=True, max_iter=97, multi_class=auto, penalty=l2, solver=liblinear, tol=0.00062; total time=   0.0s\n",
      "[CV] END C=4, class_weight=balanced, dual=False, fit_intercept=True, max_iter=94, multi_class=auto, penalty=l2, solver=liblinear, tol=0.00067; total time=   0.0s\n",
      "[CV] END C=4, class_weight=balanced, dual=False, fit_intercept=True, max_iter=94, multi_class=auto, penalty=l2, solver=liblinear, tol=0.00067; total time=   0.0s\n",
      "[CV] END C=4, class_weight=balanced, dual=False, fit_intercept=True, max_iter=94, multi_class=auto, penalty=l2, solver=liblinear, tol=0.00067; total time=   0.0s\n",
      "[CV] END C=4, class_weight=balanced, dual=False, fit_intercept=True, max_iter=94, multi_class=auto, penalty=l2, solver=liblinear, tol=0.0007; total time=   0.0s\n",
      "[CV] END C=4, class_weight=balanced, dual=False, fit_intercept=True, max_iter=94, multi_class=auto, penalty=l2, solver=liblinear, tol=0.0007; total time=   0.0s\n",
      "[CV] END C=4, class_weight=balanced, dual=False, fit_intercept=True, max_iter=94, multi_class=auto, penalty=l2, solver=liblinear, tol=0.0007; total time=   0.0s\n",
      "[CV] END C=4, class_weight=balanced, dual=False, fit_intercept=True, max_iter=94, multi_class=auto, penalty=l2, solver=liblinear, tol=0.0006; total time=   0.0s\n",
      "[CV] END C=4, class_weight=balanced, dual=False, fit_intercept=True, max_iter=94, multi_class=auto, penalty=l2, solver=liblinear, tol=0.0006; total time=   0.0s\n",
      "[CV] END C=4, class_weight=balanced, dual=False, fit_intercept=True, max_iter=94, multi_class=auto, penalty=l2, solver=liblinear, tol=0.0006; total time=   0.0s\n",
      "[CV] END C=4, class_weight=balanced, dual=False, fit_intercept=True, max_iter=94, multi_class=auto, penalty=l2, solver=liblinear, tol=0.0005; total time=   0.0s\n",
      "[CV] END C=4, class_weight=balanced, dual=False, fit_intercept=True, max_iter=94, multi_class=auto, penalty=l2, solver=liblinear, tol=0.0005; total time=   0.0s\n",
      "[CV] END C=4, class_weight=balanced, dual=False, fit_intercept=True, max_iter=94, multi_class=auto, penalty=l2, solver=liblinear, tol=0.0005; total time=   0.0s\n",
      "[CV] END C=4, class_weight=balanced, dual=False, fit_intercept=True, max_iter=94, multi_class=auto, penalty=l2, solver=liblinear, tol=0.00062; total time=   0.0s\n",
      "[CV] END C=4, class_weight=balanced, dual=False, fit_intercept=True, max_iter=94, multi_class=auto, penalty=l2, solver=liblinear, tol=0.00062; total time=   0.0s\n",
      "[CV] END C=4, class_weight=balanced, dual=False, fit_intercept=True, max_iter=94, multi_class=auto, penalty=l2, solver=liblinear, tol=0.00062; total time=   0.0s\n",
      "[CV] END C=4, class_weight=balanced, dual=False, fit_intercept=True, max_iter=93, multi_class=auto, penalty=l2, solver=liblinear, tol=0.00067; total time=   0.0s\n",
      "[CV] END C=4, class_weight=balanced, dual=False, fit_intercept=True, max_iter=93, multi_class=auto, penalty=l2, solver=liblinear, tol=0.00067; total time=   0.0s\n",
      "[CV] END C=4, class_weight=balanced, dual=False, fit_intercept=True, max_iter=93, multi_class=auto, penalty=l2, solver=liblinear, tol=0.00067; total time=   0.0s\n",
      "[CV] END C=4, class_weight=balanced, dual=False, fit_intercept=True, max_iter=93, multi_class=auto, penalty=l2, solver=liblinear, tol=0.0007; total time=   0.0s\n",
      "[CV] END C=4, class_weight=balanced, dual=False, fit_intercept=True, max_iter=93, multi_class=auto, penalty=l2, solver=liblinear, tol=0.0007; total time=   0.0s\n",
      "[CV] END C=4, class_weight=balanced, dual=False, fit_intercept=True, max_iter=93, multi_class=auto, penalty=l2, solver=liblinear, tol=0.0007; total time=   0.0s\n",
      "[CV] END C=4, class_weight=balanced, dual=False, fit_intercept=True, max_iter=93, multi_class=auto, penalty=l2, solver=liblinear, tol=0.0006; total time=   0.0s\n",
      "[CV] END C=4, class_weight=balanced, dual=False, fit_intercept=True, max_iter=93, multi_class=auto, penalty=l2, solver=liblinear, tol=0.0006; total time=   0.0s\n",
      "[CV] END C=4, class_weight=balanced, dual=False, fit_intercept=True, max_iter=93, multi_class=auto, penalty=l2, solver=liblinear, tol=0.0006; total time=   0.0s\n",
      "[CV] END C=4, class_weight=balanced, dual=False, fit_intercept=True, max_iter=93, multi_class=auto, penalty=l2, solver=liblinear, tol=0.0005; total time=   0.0s\n",
      "[CV] END C=4, class_weight=balanced, dual=False, fit_intercept=True, max_iter=93, multi_class=auto, penalty=l2, solver=liblinear, tol=0.0005; total time=   0.0s\n",
      "[CV] END C=4, class_weight=balanced, dual=False, fit_intercept=True, max_iter=93, multi_class=auto, penalty=l2, solver=liblinear, tol=0.0005; total time=   0.0s\n",
      "[CV] END C=4, class_weight=balanced, dual=False, fit_intercept=True, max_iter=93, multi_class=auto, penalty=l2, solver=liblinear, tol=0.00062; total time=   0.0s\n",
      "[CV] END C=4, class_weight=balanced, dual=False, fit_intercept=True, max_iter=93, multi_class=auto, penalty=l2, solver=liblinear, tol=0.00062; total time=   0.0s\n",
      "[CV] END C=4, class_weight=balanced, dual=False, fit_intercept=True, max_iter=93, multi_class=auto, penalty=l2, solver=liblinear, tol=0.00062; total time=   0.0s\n"
     ]
    },
    {
     "name": "stdout",
     "output_type": "stream",
     "text": [
      "[CV] END C=4, class_weight=balanced, dual=False, fit_intercept=True, max_iter=92, multi_class=auto, penalty=l2, solver=liblinear, tol=0.00067; total time=   0.0s\n",
      "[CV] END C=4, class_weight=balanced, dual=False, fit_intercept=True, max_iter=92, multi_class=auto, penalty=l2, solver=liblinear, tol=0.00067; total time=   0.0s\n",
      "[CV] END C=4, class_weight=balanced, dual=False, fit_intercept=True, max_iter=92, multi_class=auto, penalty=l2, solver=liblinear, tol=0.00067; total time=   0.0s\n",
      "[CV] END C=4, class_weight=balanced, dual=False, fit_intercept=True, max_iter=92, multi_class=auto, penalty=l2, solver=liblinear, tol=0.0007; total time=   0.0s\n",
      "[CV] END C=4, class_weight=balanced, dual=False, fit_intercept=True, max_iter=92, multi_class=auto, penalty=l2, solver=liblinear, tol=0.0007; total time=   0.0s\n",
      "[CV] END C=4, class_weight=balanced, dual=False, fit_intercept=True, max_iter=92, multi_class=auto, penalty=l2, solver=liblinear, tol=0.0007; total time=   0.0s\n",
      "[CV] END C=4, class_weight=balanced, dual=False, fit_intercept=True, max_iter=92, multi_class=auto, penalty=l2, solver=liblinear, tol=0.0006; total time=   0.0s\n",
      "[CV] END C=4, class_weight=balanced, dual=False, fit_intercept=True, max_iter=92, multi_class=auto, penalty=l2, solver=liblinear, tol=0.0006; total time=   0.0s\n",
      "[CV] END C=4, class_weight=balanced, dual=False, fit_intercept=True, max_iter=92, multi_class=auto, penalty=l2, solver=liblinear, tol=0.0006; total time=   0.0s\n",
      "[CV] END C=4, class_weight=balanced, dual=False, fit_intercept=True, max_iter=92, multi_class=auto, penalty=l2, solver=liblinear, tol=0.0005; total time=   0.0s\n",
      "[CV] END C=4, class_weight=balanced, dual=False, fit_intercept=True, max_iter=92, multi_class=auto, penalty=l2, solver=liblinear, tol=0.0005; total time=   0.0s\n",
      "[CV] END C=4, class_weight=balanced, dual=False, fit_intercept=True, max_iter=92, multi_class=auto, penalty=l2, solver=liblinear, tol=0.0005; total time=   0.0s\n",
      "[CV] END C=4, class_weight=balanced, dual=False, fit_intercept=True, max_iter=92, multi_class=auto, penalty=l2, solver=liblinear, tol=0.00062; total time=   0.0s\n",
      "[CV] END C=4, class_weight=balanced, dual=False, fit_intercept=True, max_iter=92, multi_class=auto, penalty=l2, solver=liblinear, tol=0.00062; total time=   0.0s\n",
      "[CV] END C=4, class_weight=balanced, dual=False, fit_intercept=True, max_iter=92, multi_class=auto, penalty=l2, solver=liblinear, tol=0.00062; total time=   0.0s\n",
      "[CV] END C=4, class_weight=balanced, dual=False, fit_intercept=True, max_iter=95, multi_class=auto, penalty=l2, solver=liblinear, tol=0.00067; total time=   0.0s\n",
      "[CV] END C=4, class_weight=balanced, dual=False, fit_intercept=True, max_iter=95, multi_class=auto, penalty=l2, solver=liblinear, tol=0.00067; total time=   0.0s\n",
      "[CV] END C=4, class_weight=balanced, dual=False, fit_intercept=True, max_iter=95, multi_class=auto, penalty=l2, solver=liblinear, tol=0.00067; total time=   0.0s\n",
      "[CV] END C=4, class_weight=balanced, dual=False, fit_intercept=True, max_iter=95, multi_class=auto, penalty=l2, solver=liblinear, tol=0.0007; total time=   0.0s\n",
      "[CV] END C=4, class_weight=balanced, dual=False, fit_intercept=True, max_iter=95, multi_class=auto, penalty=l2, solver=liblinear, tol=0.0007; total time=   0.0s\n",
      "[CV] END C=4, class_weight=balanced, dual=False, fit_intercept=True, max_iter=95, multi_class=auto, penalty=l2, solver=liblinear, tol=0.0007; total time=   0.0s\n",
      "[CV] END C=4, class_weight=balanced, dual=False, fit_intercept=True, max_iter=95, multi_class=auto, penalty=l2, solver=liblinear, tol=0.0006; total time=   0.0s\n",
      "[CV] END C=4, class_weight=balanced, dual=False, fit_intercept=True, max_iter=95, multi_class=auto, penalty=l2, solver=liblinear, tol=0.0006; total time=   0.0s\n",
      "[CV] END C=4, class_weight=balanced, dual=False, fit_intercept=True, max_iter=95, multi_class=auto, penalty=l2, solver=liblinear, tol=0.0006; total time=   0.0s\n",
      "[CV] END C=4, class_weight=balanced, dual=False, fit_intercept=True, max_iter=95, multi_class=auto, penalty=l2, solver=liblinear, tol=0.0005; total time=   0.0s\n",
      "[CV] END C=4, class_weight=balanced, dual=False, fit_intercept=True, max_iter=95, multi_class=auto, penalty=l2, solver=liblinear, tol=0.0005; total time=   0.0s\n",
      "[CV] END C=4, class_weight=balanced, dual=False, fit_intercept=True, max_iter=95, multi_class=auto, penalty=l2, solver=liblinear, tol=0.0005; total time=   0.0s\n",
      "[CV] END C=4, class_weight=balanced, dual=False, fit_intercept=True, max_iter=95, multi_class=auto, penalty=l2, solver=liblinear, tol=0.00062; total time=   0.0s\n",
      "[CV] END C=4, class_weight=balanced, dual=False, fit_intercept=True, max_iter=95, multi_class=auto, penalty=l2, solver=liblinear, tol=0.00062; total time=   0.0s\n",
      "[CV] END C=4, class_weight=balanced, dual=False, fit_intercept=True, max_iter=95, multi_class=auto, penalty=l2, solver=liblinear, tol=0.00062; total time=   0.0s\n",
      "[CV] END C=4, class_weight=balanced, dual=False, fit_intercept=True, max_iter=96, multi_class=auto, penalty=l2, solver=liblinear, tol=0.00067; total time=   0.0s\n",
      "[CV] END C=4, class_weight=balanced, dual=False, fit_intercept=True, max_iter=96, multi_class=auto, penalty=l2, solver=liblinear, tol=0.00067; total time=   0.0s\n",
      "[CV] END C=4, class_weight=balanced, dual=False, fit_intercept=True, max_iter=96, multi_class=auto, penalty=l2, solver=liblinear, tol=0.00067; total time=   0.0s\n",
      "[CV] END C=4, class_weight=balanced, dual=False, fit_intercept=True, max_iter=96, multi_class=auto, penalty=l2, solver=liblinear, tol=0.0007; total time=   0.0s\n",
      "[CV] END C=4, class_weight=balanced, dual=False, fit_intercept=True, max_iter=96, multi_class=auto, penalty=l2, solver=liblinear, tol=0.0007; total time=   0.0s\n",
      "[CV] END C=4, class_weight=balanced, dual=False, fit_intercept=True, max_iter=96, multi_class=auto, penalty=l2, solver=liblinear, tol=0.0007; total time=   0.0s\n",
      "[CV] END C=4, class_weight=balanced, dual=False, fit_intercept=True, max_iter=96, multi_class=auto, penalty=l2, solver=liblinear, tol=0.0006; total time=   0.0s\n",
      "[CV] END C=4, class_weight=balanced, dual=False, fit_intercept=True, max_iter=96, multi_class=auto, penalty=l2, solver=liblinear, tol=0.0006; total time=   0.0s\n",
      "[CV] END C=4, class_weight=balanced, dual=False, fit_intercept=True, max_iter=96, multi_class=auto, penalty=l2, solver=liblinear, tol=0.0006; total time=   0.0s\n",
      "[CV] END C=4, class_weight=balanced, dual=False, fit_intercept=True, max_iter=96, multi_class=auto, penalty=l2, solver=liblinear, tol=0.0005; total time=   0.0s\n",
      "[CV] END C=4, class_weight=balanced, dual=False, fit_intercept=True, max_iter=96, multi_class=auto, penalty=l2, solver=liblinear, tol=0.0005; total time=   0.0s\n",
      "[CV] END C=4, class_weight=balanced, dual=False, fit_intercept=True, max_iter=96, multi_class=auto, penalty=l2, solver=liblinear, tol=0.0005; total time=   0.0s\n",
      "[CV] END C=4, class_weight=balanced, dual=False, fit_intercept=True, max_iter=96, multi_class=auto, penalty=l2, solver=liblinear, tol=0.00062; total time=   0.0s\n",
      "[CV] END C=4, class_weight=balanced, dual=False, fit_intercept=True, max_iter=96, multi_class=auto, penalty=l2, solver=liblinear, tol=0.00062; total time=   0.0s\n",
      "[CV] END C=4, class_weight=balanced, dual=False, fit_intercept=True, max_iter=96, multi_class=auto, penalty=l2, solver=liblinear, tol=0.00062; total time=   0.0s\n",
      "[CV] END C=4, class_weight=balanced, dual=False, fit_intercept=True, max_iter=91, multi_class=auto, penalty=l2, solver=liblinear, tol=0.00067; total time=   0.0s\n",
      "[CV] END C=4, class_weight=balanced, dual=False, fit_intercept=True, max_iter=91, multi_class=auto, penalty=l2, solver=liblinear, tol=0.00067; total time=   0.0s\n",
      "[CV] END C=4, class_weight=balanced, dual=False, fit_intercept=True, max_iter=91, multi_class=auto, penalty=l2, solver=liblinear, tol=0.00067; total time=   0.0s\n",
      "[CV] END C=4, class_weight=balanced, dual=False, fit_intercept=True, max_iter=91, multi_class=auto, penalty=l2, solver=liblinear, tol=0.0007; total time=   0.0s\n",
      "[CV] END C=4, class_weight=balanced, dual=False, fit_intercept=True, max_iter=91, multi_class=auto, penalty=l2, solver=liblinear, tol=0.0007; total time=   0.0s\n",
      "[CV] END C=4, class_weight=balanced, dual=False, fit_intercept=True, max_iter=91, multi_class=auto, penalty=l2, solver=liblinear, tol=0.0007; total time=   0.0s\n",
      "[CV] END C=4, class_weight=balanced, dual=False, fit_intercept=True, max_iter=91, multi_class=auto, penalty=l2, solver=liblinear, tol=0.0006; total time=   0.0s\n",
      "[CV] END C=4, class_weight=balanced, dual=False, fit_intercept=True, max_iter=91, multi_class=auto, penalty=l2, solver=liblinear, tol=0.0006; total time=   0.0s\n",
      "[CV] END C=4, class_weight=balanced, dual=False, fit_intercept=True, max_iter=91, multi_class=auto, penalty=l2, solver=liblinear, tol=0.0006; total time=   0.0s\n",
      "[CV] END C=4, class_weight=balanced, dual=False, fit_intercept=True, max_iter=91, multi_class=auto, penalty=l2, solver=liblinear, tol=0.0005; total time=   0.0s\n",
      "[CV] END C=4, class_weight=balanced, dual=False, fit_intercept=True, max_iter=91, multi_class=auto, penalty=l2, solver=liblinear, tol=0.0005; total time=   0.0s\n",
      "[CV] END C=4, class_weight=balanced, dual=False, fit_intercept=True, max_iter=91, multi_class=auto, penalty=l2, solver=liblinear, tol=0.0005; total time=   0.0s\n",
      "[CV] END C=4, class_weight=balanced, dual=False, fit_intercept=True, max_iter=91, multi_class=auto, penalty=l2, solver=liblinear, tol=0.00062; total time=   0.0s\n",
      "[CV] END C=4, class_weight=balanced, dual=False, fit_intercept=True, max_iter=91, multi_class=auto, penalty=l2, solver=liblinear, tol=0.00062; total time=   0.0s\n",
      "[CV] END C=4, class_weight=balanced, dual=False, fit_intercept=True, max_iter=91, multi_class=auto, penalty=l2, solver=liblinear, tol=0.00062; total time=   0.0s\n",
      "[CV] END C=4, class_weight=balanced, dual=False, fit_intercept=True, max_iter=98, multi_class=auto, penalty=l2, solver=liblinear, tol=0.00067; total time=   0.0s\n",
      "[CV] END C=4, class_weight=balanced, dual=False, fit_intercept=True, max_iter=98, multi_class=auto, penalty=l2, solver=liblinear, tol=0.00067; total time=   0.0s\n",
      "[CV] END C=4, class_weight=balanced, dual=False, fit_intercept=True, max_iter=98, multi_class=auto, penalty=l2, solver=liblinear, tol=0.00067; total time=   0.0s\n",
      "[CV] END C=4, class_weight=balanced, dual=False, fit_intercept=True, max_iter=98, multi_class=auto, penalty=l2, solver=liblinear, tol=0.0007; total time=   0.0s\n",
      "[CV] END C=4, class_weight=balanced, dual=False, fit_intercept=True, max_iter=98, multi_class=auto, penalty=l2, solver=liblinear, tol=0.0007; total time=   0.0s\n",
      "[CV] END C=4, class_weight=balanced, dual=False, fit_intercept=True, max_iter=98, multi_class=auto, penalty=l2, solver=liblinear, tol=0.0007; total time=   0.0s\n",
      "[CV] END C=4, class_weight=balanced, dual=False, fit_intercept=True, max_iter=98, multi_class=auto, penalty=l2, solver=liblinear, tol=0.0006; total time=   0.0s\n",
      "[CV] END C=4, class_weight=balanced, dual=False, fit_intercept=True, max_iter=98, multi_class=auto, penalty=l2, solver=liblinear, tol=0.0006; total time=   0.0s\n",
      "[CV] END C=4, class_weight=balanced, dual=False, fit_intercept=True, max_iter=98, multi_class=auto, penalty=l2, solver=liblinear, tol=0.0006; total time=   0.0s\n",
      "[CV] END C=4, class_weight=balanced, dual=False, fit_intercept=True, max_iter=98, multi_class=auto, penalty=l2, solver=liblinear, tol=0.0005; total time=   0.0s\n",
      "[CV] END C=4, class_weight=balanced, dual=False, fit_intercept=True, max_iter=98, multi_class=auto, penalty=l2, solver=liblinear, tol=0.0005; total time=   0.0s\n",
      "[CV] END C=4, class_weight=balanced, dual=False, fit_intercept=True, max_iter=98, multi_class=auto, penalty=l2, solver=liblinear, tol=0.0005; total time=   0.0s\n",
      "[CV] END C=4, class_weight=balanced, dual=False, fit_intercept=True, max_iter=98, multi_class=auto, penalty=l2, solver=liblinear, tol=0.00062; total time=   0.0s\n"
     ]
    },
    {
     "name": "stdout",
     "output_type": "stream",
     "text": [
      "[CV] END C=4, class_weight=balanced, dual=False, fit_intercept=True, max_iter=98, multi_class=auto, penalty=l2, solver=liblinear, tol=0.00062; total time=   0.0s\n",
      "[CV] END C=4, class_weight=balanced, dual=False, fit_intercept=True, max_iter=98, multi_class=auto, penalty=l2, solver=liblinear, tol=0.00062; total time=   0.0s\n",
      "[CV] END C=4, class_weight=balanced, dual=False, fit_intercept=True, max_iter=97, multi_class=auto, penalty=l2, solver=liblinear, tol=0.00067; total time=   0.0s\n",
      "[CV] END C=4, class_weight=balanced, dual=False, fit_intercept=True, max_iter=97, multi_class=auto, penalty=l2, solver=liblinear, tol=0.00067; total time=   0.0s\n",
      "[CV] END C=4, class_weight=balanced, dual=False, fit_intercept=True, max_iter=97, multi_class=auto, penalty=l2, solver=liblinear, tol=0.00067; total time=   0.0s\n",
      "[CV] END C=4, class_weight=balanced, dual=False, fit_intercept=True, max_iter=97, multi_class=auto, penalty=l2, solver=liblinear, tol=0.0007; total time=   0.0s\n",
      "[CV] END C=4, class_weight=balanced, dual=False, fit_intercept=True, max_iter=97, multi_class=auto, penalty=l2, solver=liblinear, tol=0.0007; total time=   0.0s\n",
      "[CV] END C=4, class_weight=balanced, dual=False, fit_intercept=True, max_iter=97, multi_class=auto, penalty=l2, solver=liblinear, tol=0.0007; total time=   0.0s\n",
      "[CV] END C=4, class_weight=balanced, dual=False, fit_intercept=True, max_iter=97, multi_class=auto, penalty=l2, solver=liblinear, tol=0.0006; total time=   0.0s\n",
      "[CV] END C=4, class_weight=balanced, dual=False, fit_intercept=True, max_iter=97, multi_class=auto, penalty=l2, solver=liblinear, tol=0.0006; total time=   0.0s\n",
      "[CV] END C=4, class_weight=balanced, dual=False, fit_intercept=True, max_iter=97, multi_class=auto, penalty=l2, solver=liblinear, tol=0.0006; total time=   0.0s\n",
      "[CV] END C=4, class_weight=balanced, dual=False, fit_intercept=True, max_iter=97, multi_class=auto, penalty=l2, solver=liblinear, tol=0.0005; total time=   0.0s\n",
      "[CV] END C=4, class_weight=balanced, dual=False, fit_intercept=True, max_iter=97, multi_class=auto, penalty=l2, solver=liblinear, tol=0.0005; total time=   0.0s\n",
      "[CV] END C=4, class_weight=balanced, dual=False, fit_intercept=True, max_iter=97, multi_class=auto, penalty=l2, solver=liblinear, tol=0.0005; total time=   0.0s\n",
      "[CV] END C=4, class_weight=balanced, dual=False, fit_intercept=True, max_iter=97, multi_class=auto, penalty=l2, solver=liblinear, tol=0.00062; total time=   0.0s\n",
      "[CV] END C=4, class_weight=balanced, dual=False, fit_intercept=True, max_iter=97, multi_class=auto, penalty=l2, solver=liblinear, tol=0.00062; total time=   0.0s\n",
      "[CV] END C=4, class_weight=balanced, dual=False, fit_intercept=True, max_iter=97, multi_class=auto, penalty=l2, solver=liblinear, tol=0.00062; total time=   0.0s\n",
      "[CV] END C=11, class_weight=balanced, dual=False, fit_intercept=True, max_iter=94, multi_class=auto, penalty=l2, solver=liblinear, tol=0.00067; total time=   0.0s\n",
      "[CV] END C=11, class_weight=balanced, dual=False, fit_intercept=True, max_iter=94, multi_class=auto, penalty=l2, solver=liblinear, tol=0.00067; total time=   0.0s\n",
      "[CV] END C=11, class_weight=balanced, dual=False, fit_intercept=True, max_iter=94, multi_class=auto, penalty=l2, solver=liblinear, tol=0.00067; total time=   0.0s\n",
      "[CV] END C=11, class_weight=balanced, dual=False, fit_intercept=True, max_iter=94, multi_class=auto, penalty=l2, solver=liblinear, tol=0.0007; total time=   0.0s\n",
      "[CV] END C=11, class_weight=balanced, dual=False, fit_intercept=True, max_iter=94, multi_class=auto, penalty=l2, solver=liblinear, tol=0.0007; total time=   0.0s\n",
      "[CV] END C=11, class_weight=balanced, dual=False, fit_intercept=True, max_iter=94, multi_class=auto, penalty=l2, solver=liblinear, tol=0.0007; total time=   0.0s\n",
      "[CV] END C=11, class_weight=balanced, dual=False, fit_intercept=True, max_iter=94, multi_class=auto, penalty=l2, solver=liblinear, tol=0.0006; total time=   0.0s\n",
      "[CV] END C=11, class_weight=balanced, dual=False, fit_intercept=True, max_iter=94, multi_class=auto, penalty=l2, solver=liblinear, tol=0.0006; total time=   0.0s\n",
      "[CV] END C=11, class_weight=balanced, dual=False, fit_intercept=True, max_iter=94, multi_class=auto, penalty=l2, solver=liblinear, tol=0.0006; total time=   0.0s\n",
      "[CV] END C=11, class_weight=balanced, dual=False, fit_intercept=True, max_iter=94, multi_class=auto, penalty=l2, solver=liblinear, tol=0.0005; total time=   0.0s\n",
      "[CV] END C=11, class_weight=balanced, dual=False, fit_intercept=True, max_iter=94, multi_class=auto, penalty=l2, solver=liblinear, tol=0.0005; total time=   0.0s\n",
      "[CV] END C=11, class_weight=balanced, dual=False, fit_intercept=True, max_iter=94, multi_class=auto, penalty=l2, solver=liblinear, tol=0.0005; total time=   0.0s\n",
      "[CV] END C=11, class_weight=balanced, dual=False, fit_intercept=True, max_iter=94, multi_class=auto, penalty=l2, solver=liblinear, tol=0.00062; total time=   0.0s\n",
      "[CV] END C=11, class_weight=balanced, dual=False, fit_intercept=True, max_iter=94, multi_class=auto, penalty=l2, solver=liblinear, tol=0.00062; total time=   0.0s\n",
      "[CV] END C=11, class_weight=balanced, dual=False, fit_intercept=True, max_iter=94, multi_class=auto, penalty=l2, solver=liblinear, tol=0.00062; total time=   0.0s\n",
      "[CV] END C=11, class_weight=balanced, dual=False, fit_intercept=True, max_iter=93, multi_class=auto, penalty=l2, solver=liblinear, tol=0.00067; total time=   0.0s\n",
      "[CV] END C=11, class_weight=balanced, dual=False, fit_intercept=True, max_iter=93, multi_class=auto, penalty=l2, solver=liblinear, tol=0.00067; total time=   0.0s\n",
      "[CV] END C=11, class_weight=balanced, dual=False, fit_intercept=True, max_iter=93, multi_class=auto, penalty=l2, solver=liblinear, tol=0.00067; total time=   0.0s\n",
      "[CV] END C=11, class_weight=balanced, dual=False, fit_intercept=True, max_iter=93, multi_class=auto, penalty=l2, solver=liblinear, tol=0.0007; total time=   0.0s\n",
      "[CV] END C=11, class_weight=balanced, dual=False, fit_intercept=True, max_iter=93, multi_class=auto, penalty=l2, solver=liblinear, tol=0.0007; total time=   0.0s\n",
      "[CV] END C=11, class_weight=balanced, dual=False, fit_intercept=True, max_iter=93, multi_class=auto, penalty=l2, solver=liblinear, tol=0.0007; total time=   0.0s\n",
      "[CV] END C=11, class_weight=balanced, dual=False, fit_intercept=True, max_iter=93, multi_class=auto, penalty=l2, solver=liblinear, tol=0.0006; total time=   0.0s\n",
      "[CV] END C=11, class_weight=balanced, dual=False, fit_intercept=True, max_iter=93, multi_class=auto, penalty=l2, solver=liblinear, tol=0.0006; total time=   0.0s\n",
      "[CV] END C=11, class_weight=balanced, dual=False, fit_intercept=True, max_iter=93, multi_class=auto, penalty=l2, solver=liblinear, tol=0.0006; total time=   0.0s\n",
      "[CV] END C=11, class_weight=balanced, dual=False, fit_intercept=True, max_iter=93, multi_class=auto, penalty=l2, solver=liblinear, tol=0.0005; total time=   0.0s\n",
      "[CV] END C=11, class_weight=balanced, dual=False, fit_intercept=True, max_iter=93, multi_class=auto, penalty=l2, solver=liblinear, tol=0.0005; total time=   0.0s\n",
      "[CV] END C=11, class_weight=balanced, dual=False, fit_intercept=True, max_iter=93, multi_class=auto, penalty=l2, solver=liblinear, tol=0.0005; total time=   0.0s\n",
      "[CV] END C=11, class_weight=balanced, dual=False, fit_intercept=True, max_iter=93, multi_class=auto, penalty=l2, solver=liblinear, tol=0.00062; total time=   0.0s\n",
      "[CV] END C=11, class_weight=balanced, dual=False, fit_intercept=True, max_iter=93, multi_class=auto, penalty=l2, solver=liblinear, tol=0.00062; total time=   0.0s\n",
      "[CV] END C=11, class_weight=balanced, dual=False, fit_intercept=True, max_iter=93, multi_class=auto, penalty=l2, solver=liblinear, tol=0.00062; total time=   0.0s\n",
      "[CV] END C=11, class_weight=balanced, dual=False, fit_intercept=True, max_iter=92, multi_class=auto, penalty=l2, solver=liblinear, tol=0.00067; total time=   0.0s\n",
      "[CV] END C=11, class_weight=balanced, dual=False, fit_intercept=True, max_iter=92, multi_class=auto, penalty=l2, solver=liblinear, tol=0.00067; total time=   0.0s\n",
      "[CV] END C=11, class_weight=balanced, dual=False, fit_intercept=True, max_iter=92, multi_class=auto, penalty=l2, solver=liblinear, tol=0.00067; total time=   0.0s\n",
      "[CV] END C=11, class_weight=balanced, dual=False, fit_intercept=True, max_iter=92, multi_class=auto, penalty=l2, solver=liblinear, tol=0.0007; total time=   0.0s\n",
      "[CV] END C=11, class_weight=balanced, dual=False, fit_intercept=True, max_iter=92, multi_class=auto, penalty=l2, solver=liblinear, tol=0.0007; total time=   0.0s\n",
      "[CV] END C=11, class_weight=balanced, dual=False, fit_intercept=True, max_iter=92, multi_class=auto, penalty=l2, solver=liblinear, tol=0.0007; total time=   0.0s\n",
      "[CV] END C=11, class_weight=balanced, dual=False, fit_intercept=True, max_iter=92, multi_class=auto, penalty=l2, solver=liblinear, tol=0.0006; total time=   0.0s\n",
      "[CV] END C=11, class_weight=balanced, dual=False, fit_intercept=True, max_iter=92, multi_class=auto, penalty=l2, solver=liblinear, tol=0.0006; total time=   0.0s\n",
      "[CV] END C=11, class_weight=balanced, dual=False, fit_intercept=True, max_iter=92, multi_class=auto, penalty=l2, solver=liblinear, tol=0.0006; total time=   0.0s\n",
      "[CV] END C=11, class_weight=balanced, dual=False, fit_intercept=True, max_iter=92, multi_class=auto, penalty=l2, solver=liblinear, tol=0.0005; total time=   0.0s\n",
      "[CV] END C=11, class_weight=balanced, dual=False, fit_intercept=True, max_iter=92, multi_class=auto, penalty=l2, solver=liblinear, tol=0.0005; total time=   0.0s\n",
      "[CV] END C=11, class_weight=balanced, dual=False, fit_intercept=True, max_iter=92, multi_class=auto, penalty=l2, solver=liblinear, tol=0.0005; total time=   0.0s\n",
      "[CV] END C=11, class_weight=balanced, dual=False, fit_intercept=True, max_iter=92, multi_class=auto, penalty=l2, solver=liblinear, tol=0.00062; total time=   0.0s\n",
      "[CV] END C=11, class_weight=balanced, dual=False, fit_intercept=True, max_iter=92, multi_class=auto, penalty=l2, solver=liblinear, tol=0.00062; total time=   0.0s\n",
      "[CV] END C=11, class_weight=balanced, dual=False, fit_intercept=True, max_iter=92, multi_class=auto, penalty=l2, solver=liblinear, tol=0.00062; total time=   0.0s\n",
      "[CV] END C=11, class_weight=balanced, dual=False, fit_intercept=True, max_iter=95, multi_class=auto, penalty=l2, solver=liblinear, tol=0.00067; total time=   0.0s\n",
      "[CV] END C=11, class_weight=balanced, dual=False, fit_intercept=True, max_iter=95, multi_class=auto, penalty=l2, solver=liblinear, tol=0.00067; total time=   0.0s\n",
      "[CV] END C=11, class_weight=balanced, dual=False, fit_intercept=True, max_iter=95, multi_class=auto, penalty=l2, solver=liblinear, tol=0.00067; total time=   0.0s\n",
      "[CV] END C=11, class_weight=balanced, dual=False, fit_intercept=True, max_iter=95, multi_class=auto, penalty=l2, solver=liblinear, tol=0.0007; total time=   0.0s\n",
      "[CV] END C=11, class_weight=balanced, dual=False, fit_intercept=True, max_iter=95, multi_class=auto, penalty=l2, solver=liblinear, tol=0.0007; total time=   0.0s\n",
      "[CV] END C=11, class_weight=balanced, dual=False, fit_intercept=True, max_iter=95, multi_class=auto, penalty=l2, solver=liblinear, tol=0.0007; total time=   0.0s\n",
      "[CV] END C=11, class_weight=balanced, dual=False, fit_intercept=True, max_iter=95, multi_class=auto, penalty=l2, solver=liblinear, tol=0.0006; total time=   0.0s\n",
      "[CV] END C=11, class_weight=balanced, dual=False, fit_intercept=True, max_iter=95, multi_class=auto, penalty=l2, solver=liblinear, tol=0.0006; total time=   0.0s\n",
      "[CV] END C=11, class_weight=balanced, dual=False, fit_intercept=True, max_iter=95, multi_class=auto, penalty=l2, solver=liblinear, tol=0.0006; total time=   0.0s\n",
      "[CV] END C=11, class_weight=balanced, dual=False, fit_intercept=True, max_iter=95, multi_class=auto, penalty=l2, solver=liblinear, tol=0.0005; total time=   0.0s\n",
      "[CV] END C=11, class_weight=balanced, dual=False, fit_intercept=True, max_iter=95, multi_class=auto, penalty=l2, solver=liblinear, tol=0.0005; total time=   0.0s\n"
     ]
    },
    {
     "name": "stdout",
     "output_type": "stream",
     "text": [
      "[CV] END C=11, class_weight=balanced, dual=False, fit_intercept=True, max_iter=95, multi_class=auto, penalty=l2, solver=liblinear, tol=0.0005; total time=   0.0s\n",
      "[CV] END C=11, class_weight=balanced, dual=False, fit_intercept=True, max_iter=95, multi_class=auto, penalty=l2, solver=liblinear, tol=0.00062; total time=   0.0s\n",
      "[CV] END C=11, class_weight=balanced, dual=False, fit_intercept=True, max_iter=95, multi_class=auto, penalty=l2, solver=liblinear, tol=0.00062; total time=   0.0s\n",
      "[CV] END C=11, class_weight=balanced, dual=False, fit_intercept=True, max_iter=95, multi_class=auto, penalty=l2, solver=liblinear, tol=0.00062; total time=   0.0s\n",
      "[CV] END C=11, class_weight=balanced, dual=False, fit_intercept=True, max_iter=96, multi_class=auto, penalty=l2, solver=liblinear, tol=0.00067; total time=   0.0s\n",
      "[CV] END C=11, class_weight=balanced, dual=False, fit_intercept=True, max_iter=96, multi_class=auto, penalty=l2, solver=liblinear, tol=0.00067; total time=   0.0s\n",
      "[CV] END C=11, class_weight=balanced, dual=False, fit_intercept=True, max_iter=96, multi_class=auto, penalty=l2, solver=liblinear, tol=0.00067; total time=   0.0s\n",
      "[CV] END C=11, class_weight=balanced, dual=False, fit_intercept=True, max_iter=96, multi_class=auto, penalty=l2, solver=liblinear, tol=0.0007; total time=   0.0s\n",
      "[CV] END C=11, class_weight=balanced, dual=False, fit_intercept=True, max_iter=96, multi_class=auto, penalty=l2, solver=liblinear, tol=0.0007; total time=   0.0s\n",
      "[CV] END C=11, class_weight=balanced, dual=False, fit_intercept=True, max_iter=96, multi_class=auto, penalty=l2, solver=liblinear, tol=0.0007; total time=   0.0s\n",
      "[CV] END C=11, class_weight=balanced, dual=False, fit_intercept=True, max_iter=96, multi_class=auto, penalty=l2, solver=liblinear, tol=0.0006; total time=   0.0s\n",
      "[CV] END C=11, class_weight=balanced, dual=False, fit_intercept=True, max_iter=96, multi_class=auto, penalty=l2, solver=liblinear, tol=0.0006; total time=   0.0s\n",
      "[CV] END C=11, class_weight=balanced, dual=False, fit_intercept=True, max_iter=96, multi_class=auto, penalty=l2, solver=liblinear, tol=0.0006; total time=   0.0s\n",
      "[CV] END C=11, class_weight=balanced, dual=False, fit_intercept=True, max_iter=96, multi_class=auto, penalty=l2, solver=liblinear, tol=0.0005; total time=   0.0s\n",
      "[CV] END C=11, class_weight=balanced, dual=False, fit_intercept=True, max_iter=96, multi_class=auto, penalty=l2, solver=liblinear, tol=0.0005; total time=   0.0s\n",
      "[CV] END C=11, class_weight=balanced, dual=False, fit_intercept=True, max_iter=96, multi_class=auto, penalty=l2, solver=liblinear, tol=0.0005; total time=   0.0s\n",
      "[CV] END C=11, class_weight=balanced, dual=False, fit_intercept=True, max_iter=96, multi_class=auto, penalty=l2, solver=liblinear, tol=0.00062; total time=   0.0s\n",
      "[CV] END C=11, class_weight=balanced, dual=False, fit_intercept=True, max_iter=96, multi_class=auto, penalty=l2, solver=liblinear, tol=0.00062; total time=   0.0s\n",
      "[CV] END C=11, class_weight=balanced, dual=False, fit_intercept=True, max_iter=96, multi_class=auto, penalty=l2, solver=liblinear, tol=0.00062; total time=   0.0s\n",
      "[CV] END C=11, class_weight=balanced, dual=False, fit_intercept=True, max_iter=91, multi_class=auto, penalty=l2, solver=liblinear, tol=0.00067; total time=   0.0s\n",
      "[CV] END C=11, class_weight=balanced, dual=False, fit_intercept=True, max_iter=91, multi_class=auto, penalty=l2, solver=liblinear, tol=0.00067; total time=   0.0s\n",
      "[CV] END C=11, class_weight=balanced, dual=False, fit_intercept=True, max_iter=91, multi_class=auto, penalty=l2, solver=liblinear, tol=0.00067; total time=   0.0s\n",
      "[CV] END C=11, class_weight=balanced, dual=False, fit_intercept=True, max_iter=91, multi_class=auto, penalty=l2, solver=liblinear, tol=0.0007; total time=   0.0s\n",
      "[CV] END C=11, class_weight=balanced, dual=False, fit_intercept=True, max_iter=91, multi_class=auto, penalty=l2, solver=liblinear, tol=0.0007; total time=   0.0s\n",
      "[CV] END C=11, class_weight=balanced, dual=False, fit_intercept=True, max_iter=91, multi_class=auto, penalty=l2, solver=liblinear, tol=0.0007; total time=   0.0s\n",
      "[CV] END C=11, class_weight=balanced, dual=False, fit_intercept=True, max_iter=91, multi_class=auto, penalty=l2, solver=liblinear, tol=0.0006; total time=   0.0s\n",
      "[CV] END C=11, class_weight=balanced, dual=False, fit_intercept=True, max_iter=91, multi_class=auto, penalty=l2, solver=liblinear, tol=0.0006; total time=   0.0s\n",
      "[CV] END C=11, class_weight=balanced, dual=False, fit_intercept=True, max_iter=91, multi_class=auto, penalty=l2, solver=liblinear, tol=0.0006; total time=   0.0s\n",
      "[CV] END C=11, class_weight=balanced, dual=False, fit_intercept=True, max_iter=91, multi_class=auto, penalty=l2, solver=liblinear, tol=0.0005; total time=   0.0s\n",
      "[CV] END C=11, class_weight=balanced, dual=False, fit_intercept=True, max_iter=91, multi_class=auto, penalty=l2, solver=liblinear, tol=0.0005; total time=   0.0s\n",
      "[CV] END C=11, class_weight=balanced, dual=False, fit_intercept=True, max_iter=91, multi_class=auto, penalty=l2, solver=liblinear, tol=0.0005; total time=   0.0s\n",
      "[CV] END C=11, class_weight=balanced, dual=False, fit_intercept=True, max_iter=91, multi_class=auto, penalty=l2, solver=liblinear, tol=0.00062; total time=   0.0s\n",
      "[CV] END C=11, class_weight=balanced, dual=False, fit_intercept=True, max_iter=91, multi_class=auto, penalty=l2, solver=liblinear, tol=0.00062; total time=   0.0s\n",
      "[CV] END C=11, class_weight=balanced, dual=False, fit_intercept=True, max_iter=91, multi_class=auto, penalty=l2, solver=liblinear, tol=0.00062; total time=   0.0s\n",
      "[CV] END C=11, class_weight=balanced, dual=False, fit_intercept=True, max_iter=98, multi_class=auto, penalty=l2, solver=liblinear, tol=0.00067; total time=   0.0s\n",
      "[CV] END C=11, class_weight=balanced, dual=False, fit_intercept=True, max_iter=98, multi_class=auto, penalty=l2, solver=liblinear, tol=0.00067; total time=   0.0s\n",
      "[CV] END C=11, class_weight=balanced, dual=False, fit_intercept=True, max_iter=98, multi_class=auto, penalty=l2, solver=liblinear, tol=0.00067; total time=   0.0s\n",
      "[CV] END C=11, class_weight=balanced, dual=False, fit_intercept=True, max_iter=98, multi_class=auto, penalty=l2, solver=liblinear, tol=0.0007; total time=   0.0s\n",
      "[CV] END C=11, class_weight=balanced, dual=False, fit_intercept=True, max_iter=98, multi_class=auto, penalty=l2, solver=liblinear, tol=0.0007; total time=   0.0s\n",
      "[CV] END C=11, class_weight=balanced, dual=False, fit_intercept=True, max_iter=98, multi_class=auto, penalty=l2, solver=liblinear, tol=0.0007; total time=   0.0s\n",
      "[CV] END C=11, class_weight=balanced, dual=False, fit_intercept=True, max_iter=98, multi_class=auto, penalty=l2, solver=liblinear, tol=0.0006; total time=   0.0s\n",
      "[CV] END C=11, class_weight=balanced, dual=False, fit_intercept=True, max_iter=98, multi_class=auto, penalty=l2, solver=liblinear, tol=0.0006; total time=   0.0s\n",
      "[CV] END C=11, class_weight=balanced, dual=False, fit_intercept=True, max_iter=98, multi_class=auto, penalty=l2, solver=liblinear, tol=0.0006; total time=   0.0s\n",
      "[CV] END C=11, class_weight=balanced, dual=False, fit_intercept=True, max_iter=98, multi_class=auto, penalty=l2, solver=liblinear, tol=0.0005; total time=   0.0s\n",
      "[CV] END C=11, class_weight=balanced, dual=False, fit_intercept=True, max_iter=98, multi_class=auto, penalty=l2, solver=liblinear, tol=0.0005; total time=   0.0s\n",
      "[CV] END C=11, class_weight=balanced, dual=False, fit_intercept=True, max_iter=98, multi_class=auto, penalty=l2, solver=liblinear, tol=0.0005; total time=   0.0s\n",
      "[CV] END C=11, class_weight=balanced, dual=False, fit_intercept=True, max_iter=98, multi_class=auto, penalty=l2, solver=liblinear, tol=0.00062; total time=   0.0s\n",
      "[CV] END C=11, class_weight=balanced, dual=False, fit_intercept=True, max_iter=98, multi_class=auto, penalty=l2, solver=liblinear, tol=0.00062; total time=   0.0s\n",
      "[CV] END C=11, class_weight=balanced, dual=False, fit_intercept=True, max_iter=98, multi_class=auto, penalty=l2, solver=liblinear, tol=0.00062; total time=   0.0s\n",
      "[CV] END C=11, class_weight=balanced, dual=False, fit_intercept=True, max_iter=97, multi_class=auto, penalty=l2, solver=liblinear, tol=0.00067; total time=   0.0s\n",
      "[CV] END C=11, class_weight=balanced, dual=False, fit_intercept=True, max_iter=97, multi_class=auto, penalty=l2, solver=liblinear, tol=0.00067; total time=   0.0s\n",
      "[CV] END C=11, class_weight=balanced, dual=False, fit_intercept=True, max_iter=97, multi_class=auto, penalty=l2, solver=liblinear, tol=0.00067; total time=   0.0s\n",
      "[CV] END C=11, class_weight=balanced, dual=False, fit_intercept=True, max_iter=97, multi_class=auto, penalty=l2, solver=liblinear, tol=0.0007; total time=   0.0s\n",
      "[CV] END C=11, class_weight=balanced, dual=False, fit_intercept=True, max_iter=97, multi_class=auto, penalty=l2, solver=liblinear, tol=0.0007; total time=   0.0s\n",
      "[CV] END C=11, class_weight=balanced, dual=False, fit_intercept=True, max_iter=97, multi_class=auto, penalty=l2, solver=liblinear, tol=0.0007; total time=   0.0s\n",
      "[CV] END C=11, class_weight=balanced, dual=False, fit_intercept=True, max_iter=97, multi_class=auto, penalty=l2, solver=liblinear, tol=0.0006; total time=   0.0s\n"
     ]
    },
    {
     "name": "stdout",
     "output_type": "stream",
     "text": [
      "[CV] END C=11, class_weight=balanced, dual=False, fit_intercept=True, max_iter=97, multi_class=auto, penalty=l2, solver=liblinear, tol=0.0006; total time=   0.0s\n",
      "[CV] END C=11, class_weight=balanced, dual=False, fit_intercept=True, max_iter=97, multi_class=auto, penalty=l2, solver=liblinear, tol=0.0006; total time=   0.0s\n",
      "[CV] END C=11, class_weight=balanced, dual=False, fit_intercept=True, max_iter=97, multi_class=auto, penalty=l2, solver=liblinear, tol=0.0005; total time=   0.0s\n",
      "[CV] END C=11, class_weight=balanced, dual=False, fit_intercept=True, max_iter=97, multi_class=auto, penalty=l2, solver=liblinear, tol=0.0005; total time=   0.0s\n",
      "[CV] END C=11, class_weight=balanced, dual=False, fit_intercept=True, max_iter=97, multi_class=auto, penalty=l2, solver=liblinear, tol=0.0005; total time=   0.0s\n",
      "[CV] END C=11, class_weight=balanced, dual=False, fit_intercept=True, max_iter=97, multi_class=auto, penalty=l2, solver=liblinear, tol=0.00062; total time=   0.0s\n",
      "[CV] END C=11, class_weight=balanced, dual=False, fit_intercept=True, max_iter=97, multi_class=auto, penalty=l2, solver=liblinear, tol=0.00062; total time=   0.0s\n",
      "[CV] END C=11, class_weight=balanced, dual=False, fit_intercept=True, max_iter=97, multi_class=auto, penalty=l2, solver=liblinear, tol=0.00062; total time=   0.0s\n",
      "[CV] END C=3, class_weight=balanced, dual=False, fit_intercept=True, max_iter=94, multi_class=auto, penalty=l2, solver=liblinear, tol=0.00067; total time=   0.0s\n",
      "[CV] END C=3, class_weight=balanced, dual=False, fit_intercept=True, max_iter=94, multi_class=auto, penalty=l2, solver=liblinear, tol=0.00067; total time=   0.0s\n",
      "[CV] END C=3, class_weight=balanced, dual=False, fit_intercept=True, max_iter=94, multi_class=auto, penalty=l2, solver=liblinear, tol=0.00067; total time=   0.0s\n",
      "[CV] END C=3, class_weight=balanced, dual=False, fit_intercept=True, max_iter=94, multi_class=auto, penalty=l2, solver=liblinear, tol=0.0007; total time=   0.0s\n",
      "[CV] END C=3, class_weight=balanced, dual=False, fit_intercept=True, max_iter=94, multi_class=auto, penalty=l2, solver=liblinear, tol=0.0007; total time=   0.0s\n",
      "[CV] END C=3, class_weight=balanced, dual=False, fit_intercept=True, max_iter=94, multi_class=auto, penalty=l2, solver=liblinear, tol=0.0007; total time=   0.0s\n",
      "[CV] END C=3, class_weight=balanced, dual=False, fit_intercept=True, max_iter=94, multi_class=auto, penalty=l2, solver=liblinear, tol=0.0006; total time=   0.0s\n",
      "[CV] END C=3, class_weight=balanced, dual=False, fit_intercept=True, max_iter=94, multi_class=auto, penalty=l2, solver=liblinear, tol=0.0006; total time=   0.0s\n",
      "[CV] END C=3, class_weight=balanced, dual=False, fit_intercept=True, max_iter=94, multi_class=auto, penalty=l2, solver=liblinear, tol=0.0006; total time=   0.0s\n",
      "[CV] END C=3, class_weight=balanced, dual=False, fit_intercept=True, max_iter=94, multi_class=auto, penalty=l2, solver=liblinear, tol=0.0005; total time=   0.0s\n",
      "[CV] END C=3, class_weight=balanced, dual=False, fit_intercept=True, max_iter=94, multi_class=auto, penalty=l2, solver=liblinear, tol=0.0005; total time=   0.0s\n",
      "[CV] END C=3, class_weight=balanced, dual=False, fit_intercept=True, max_iter=94, multi_class=auto, penalty=l2, solver=liblinear, tol=0.0005; total time=   0.0s\n",
      "[CV] END C=3, class_weight=balanced, dual=False, fit_intercept=True, max_iter=94, multi_class=auto, penalty=l2, solver=liblinear, tol=0.00062; total time=   0.0s\n",
      "[CV] END C=3, class_weight=balanced, dual=False, fit_intercept=True, max_iter=94, multi_class=auto, penalty=l2, solver=liblinear, tol=0.00062; total time=   0.0s\n",
      "[CV] END C=3, class_weight=balanced, dual=False, fit_intercept=True, max_iter=94, multi_class=auto, penalty=l2, solver=liblinear, tol=0.00062; total time=   0.0s\n",
      "[CV] END C=3, class_weight=balanced, dual=False, fit_intercept=True, max_iter=93, multi_class=auto, penalty=l2, solver=liblinear, tol=0.00067; total time=   0.0s\n",
      "[CV] END C=3, class_weight=balanced, dual=False, fit_intercept=True, max_iter=93, multi_class=auto, penalty=l2, solver=liblinear, tol=0.00067; total time=   0.0s\n",
      "[CV] END C=3, class_weight=balanced, dual=False, fit_intercept=True, max_iter=93, multi_class=auto, penalty=l2, solver=liblinear, tol=0.00067; total time=   0.0s\n",
      "[CV] END C=3, class_weight=balanced, dual=False, fit_intercept=True, max_iter=93, multi_class=auto, penalty=l2, solver=liblinear, tol=0.0007; total time=   0.0s\n",
      "[CV] END C=3, class_weight=balanced, dual=False, fit_intercept=True, max_iter=93, multi_class=auto, penalty=l2, solver=liblinear, tol=0.0007; total time=   0.0s\n",
      "[CV] END C=3, class_weight=balanced, dual=False, fit_intercept=True, max_iter=93, multi_class=auto, penalty=l2, solver=liblinear, tol=0.0007; total time=   0.0s\n",
      "[CV] END C=3, class_weight=balanced, dual=False, fit_intercept=True, max_iter=93, multi_class=auto, penalty=l2, solver=liblinear, tol=0.0006; total time=   0.0s\n",
      "[CV] END C=3, class_weight=balanced, dual=False, fit_intercept=True, max_iter=93, multi_class=auto, penalty=l2, solver=liblinear, tol=0.0006; total time=   0.0s\n",
      "[CV] END C=3, class_weight=balanced, dual=False, fit_intercept=True, max_iter=93, multi_class=auto, penalty=l2, solver=liblinear, tol=0.0006; total time=   0.0s\n",
      "[CV] END C=3, class_weight=balanced, dual=False, fit_intercept=True, max_iter=93, multi_class=auto, penalty=l2, solver=liblinear, tol=0.0005; total time=   0.0s\n",
      "[CV] END C=3, class_weight=balanced, dual=False, fit_intercept=True, max_iter=93, multi_class=auto, penalty=l2, solver=liblinear, tol=0.0005; total time=   0.0s\n",
      "[CV] END C=3, class_weight=balanced, dual=False, fit_intercept=True, max_iter=93, multi_class=auto, penalty=l2, solver=liblinear, tol=0.0005; total time=   0.0s\n",
      "[CV] END C=3, class_weight=balanced, dual=False, fit_intercept=True, max_iter=93, multi_class=auto, penalty=l2, solver=liblinear, tol=0.00062; total time=   0.0s\n",
      "[CV] END C=3, class_weight=balanced, dual=False, fit_intercept=True, max_iter=93, multi_class=auto, penalty=l2, solver=liblinear, tol=0.00062; total time=   0.0s\n",
      "[CV] END C=3, class_weight=balanced, dual=False, fit_intercept=True, max_iter=93, multi_class=auto, penalty=l2, solver=liblinear, tol=0.00062; total time=   0.0s\n",
      "[CV] END C=3, class_weight=balanced, dual=False, fit_intercept=True, max_iter=92, multi_class=auto, penalty=l2, solver=liblinear, tol=0.00067; total time=   0.0s\n",
      "[CV] END C=3, class_weight=balanced, dual=False, fit_intercept=True, max_iter=92, multi_class=auto, penalty=l2, solver=liblinear, tol=0.00067; total time=   0.0s\n",
      "[CV] END C=3, class_weight=balanced, dual=False, fit_intercept=True, max_iter=92, multi_class=auto, penalty=l2, solver=liblinear, tol=0.00067; total time=   0.0s\n",
      "[CV] END C=3, class_weight=balanced, dual=False, fit_intercept=True, max_iter=92, multi_class=auto, penalty=l2, solver=liblinear, tol=0.0007; total time=   0.0s\n",
      "[CV] END C=3, class_weight=balanced, dual=False, fit_intercept=True, max_iter=92, multi_class=auto, penalty=l2, solver=liblinear, tol=0.0007; total time=   0.0s\n",
      "[CV] END C=3, class_weight=balanced, dual=False, fit_intercept=True, max_iter=92, multi_class=auto, penalty=l2, solver=liblinear, tol=0.0007; total time=   0.0s\n",
      "[CV] END C=3, class_weight=balanced, dual=False, fit_intercept=True, max_iter=92, multi_class=auto, penalty=l2, solver=liblinear, tol=0.0006; total time=   0.0s\n",
      "[CV] END C=3, class_weight=balanced, dual=False, fit_intercept=True, max_iter=92, multi_class=auto, penalty=l2, solver=liblinear, tol=0.0006; total time=   0.0s\n",
      "[CV] END C=3, class_weight=balanced, dual=False, fit_intercept=True, max_iter=92, multi_class=auto, penalty=l2, solver=liblinear, tol=0.0006; total time=   0.0s\n",
      "[CV] END C=3, class_weight=balanced, dual=False, fit_intercept=True, max_iter=92, multi_class=auto, penalty=l2, solver=liblinear, tol=0.0005; total time=   0.0s\n",
      "[CV] END C=3, class_weight=balanced, dual=False, fit_intercept=True, max_iter=92, multi_class=auto, penalty=l2, solver=liblinear, tol=0.0005; total time=   0.0s\n",
      "[CV] END C=3, class_weight=balanced, dual=False, fit_intercept=True, max_iter=92, multi_class=auto, penalty=l2, solver=liblinear, tol=0.0005; total time=   0.0s\n",
      "[CV] END C=3, class_weight=balanced, dual=False, fit_intercept=True, max_iter=92, multi_class=auto, penalty=l2, solver=liblinear, tol=0.00062; total time=   0.0s\n",
      "[CV] END C=3, class_weight=balanced, dual=False, fit_intercept=True, max_iter=92, multi_class=auto, penalty=l2, solver=liblinear, tol=0.00062; total time=   0.0s\n",
      "[CV] END C=3, class_weight=balanced, dual=False, fit_intercept=True, max_iter=92, multi_class=auto, penalty=l2, solver=liblinear, tol=0.00062; total time=   0.0s\n",
      "[CV] END C=3, class_weight=balanced, dual=False, fit_intercept=True, max_iter=95, multi_class=auto, penalty=l2, solver=liblinear, tol=0.00067; total time=   0.0s\n",
      "[CV] END C=3, class_weight=balanced, dual=False, fit_intercept=True, max_iter=95, multi_class=auto, penalty=l2, solver=liblinear, tol=0.00067; total time=   0.0s\n",
      "[CV] END C=3, class_weight=balanced, dual=False, fit_intercept=True, max_iter=95, multi_class=auto, penalty=l2, solver=liblinear, tol=0.00067; total time=   0.0s\n",
      "[CV] END C=3, class_weight=balanced, dual=False, fit_intercept=True, max_iter=95, multi_class=auto, penalty=l2, solver=liblinear, tol=0.0007; total time=   0.0s\n",
      "[CV] END C=3, class_weight=balanced, dual=False, fit_intercept=True, max_iter=95, multi_class=auto, penalty=l2, solver=liblinear, tol=0.0007; total time=   0.0s\n",
      "[CV] END C=3, class_weight=balanced, dual=False, fit_intercept=True, max_iter=95, multi_class=auto, penalty=l2, solver=liblinear, tol=0.0007; total time=   0.0s\n",
      "[CV] END C=3, class_weight=balanced, dual=False, fit_intercept=True, max_iter=95, multi_class=auto, penalty=l2, solver=liblinear, tol=0.0006; total time=   0.0s\n",
      "[CV] END C=3, class_weight=balanced, dual=False, fit_intercept=True, max_iter=95, multi_class=auto, penalty=l2, solver=liblinear, tol=0.0006; total time=   0.0s\n",
      "[CV] END C=3, class_weight=balanced, dual=False, fit_intercept=True, max_iter=95, multi_class=auto, penalty=l2, solver=liblinear, tol=0.0006; total time=   0.0s\n",
      "[CV] END C=3, class_weight=balanced, dual=False, fit_intercept=True, max_iter=95, multi_class=auto, penalty=l2, solver=liblinear, tol=0.0005; total time=   0.0s\n",
      "[CV] END C=3, class_weight=balanced, dual=False, fit_intercept=True, max_iter=95, multi_class=auto, penalty=l2, solver=liblinear, tol=0.0005; total time=   0.0s\n",
      "[CV] END C=3, class_weight=balanced, dual=False, fit_intercept=True, max_iter=95, multi_class=auto, penalty=l2, solver=liblinear, tol=0.0005; total time=   0.0s\n",
      "[CV] END C=3, class_weight=balanced, dual=False, fit_intercept=True, max_iter=95, multi_class=auto, penalty=l2, solver=liblinear, tol=0.00062; total time=   0.0s\n",
      "[CV] END C=3, class_weight=balanced, dual=False, fit_intercept=True, max_iter=95, multi_class=auto, penalty=l2, solver=liblinear, tol=0.00062; total time=   0.0s\n",
      "[CV] END C=3, class_weight=balanced, dual=False, fit_intercept=True, max_iter=95, multi_class=auto, penalty=l2, solver=liblinear, tol=0.00062; total time=   0.0s\n",
      "[CV] END C=3, class_weight=balanced, dual=False, fit_intercept=True, max_iter=96, multi_class=auto, penalty=l2, solver=liblinear, tol=0.00067; total time=   0.0s\n",
      "[CV] END C=3, class_weight=balanced, dual=False, fit_intercept=True, max_iter=96, multi_class=auto, penalty=l2, solver=liblinear, tol=0.00067; total time=   0.0s\n",
      "[CV] END C=3, class_weight=balanced, dual=False, fit_intercept=True, max_iter=96, multi_class=auto, penalty=l2, solver=liblinear, tol=0.00067; total time=   0.0s\n",
      "[CV] END C=3, class_weight=balanced, dual=False, fit_intercept=True, max_iter=96, multi_class=auto, penalty=l2, solver=liblinear, tol=0.0007; total time=   0.0s\n",
      "[CV] END C=3, class_weight=balanced, dual=False, fit_intercept=True, max_iter=96, multi_class=auto, penalty=l2, solver=liblinear, tol=0.0007; total time=   0.0s\n",
      "[CV] END C=3, class_weight=balanced, dual=False, fit_intercept=True, max_iter=96, multi_class=auto, penalty=l2, solver=liblinear, tol=0.0007; total time=   0.0s\n",
      "[CV] END C=3, class_weight=balanced, dual=False, fit_intercept=True, max_iter=96, multi_class=auto, penalty=l2, solver=liblinear, tol=0.0006; total time=   0.0s\n",
      "[CV] END C=3, class_weight=balanced, dual=False, fit_intercept=True, max_iter=96, multi_class=auto, penalty=l2, solver=liblinear, tol=0.0006; total time=   0.0s\n",
      "[CV] END C=3, class_weight=balanced, dual=False, fit_intercept=True, max_iter=96, multi_class=auto, penalty=l2, solver=liblinear, tol=0.0006; total time=   0.0s\n",
      "[CV] END C=3, class_weight=balanced, dual=False, fit_intercept=True, max_iter=96, multi_class=auto, penalty=l2, solver=liblinear, tol=0.0005; total time=   0.0s\n"
     ]
    },
    {
     "name": "stdout",
     "output_type": "stream",
     "text": [
      "[CV] END C=3, class_weight=balanced, dual=False, fit_intercept=True, max_iter=96, multi_class=auto, penalty=l2, solver=liblinear, tol=0.0005; total time=   0.0s\n",
      "[CV] END C=3, class_weight=balanced, dual=False, fit_intercept=True, max_iter=96, multi_class=auto, penalty=l2, solver=liblinear, tol=0.0005; total time=   0.0s\n",
      "[CV] END C=3, class_weight=balanced, dual=False, fit_intercept=True, max_iter=96, multi_class=auto, penalty=l2, solver=liblinear, tol=0.00062; total time=   0.0s\n",
      "[CV] END C=3, class_weight=balanced, dual=False, fit_intercept=True, max_iter=96, multi_class=auto, penalty=l2, solver=liblinear, tol=0.00062; total time=   0.0s\n",
      "[CV] END C=3, class_weight=balanced, dual=False, fit_intercept=True, max_iter=96, multi_class=auto, penalty=l2, solver=liblinear, tol=0.00062; total time=   0.0s\n",
      "[CV] END C=3, class_weight=balanced, dual=False, fit_intercept=True, max_iter=91, multi_class=auto, penalty=l2, solver=liblinear, tol=0.00067; total time=   0.0s\n",
      "[CV] END C=3, class_weight=balanced, dual=False, fit_intercept=True, max_iter=91, multi_class=auto, penalty=l2, solver=liblinear, tol=0.00067; total time=   0.0s\n",
      "[CV] END C=3, class_weight=balanced, dual=False, fit_intercept=True, max_iter=91, multi_class=auto, penalty=l2, solver=liblinear, tol=0.00067; total time=   0.0s\n",
      "[CV] END C=3, class_weight=balanced, dual=False, fit_intercept=True, max_iter=91, multi_class=auto, penalty=l2, solver=liblinear, tol=0.0007; total time=   0.0s\n",
      "[CV] END C=3, class_weight=balanced, dual=False, fit_intercept=True, max_iter=91, multi_class=auto, penalty=l2, solver=liblinear, tol=0.0007; total time=   0.0s\n",
      "[CV] END C=3, class_weight=balanced, dual=False, fit_intercept=True, max_iter=91, multi_class=auto, penalty=l2, solver=liblinear, tol=0.0007; total time=   0.0s\n",
      "[CV] END C=3, class_weight=balanced, dual=False, fit_intercept=True, max_iter=91, multi_class=auto, penalty=l2, solver=liblinear, tol=0.0006; total time=   0.0s\n",
      "[CV] END C=3, class_weight=balanced, dual=False, fit_intercept=True, max_iter=91, multi_class=auto, penalty=l2, solver=liblinear, tol=0.0006; total time=   0.0s\n",
      "[CV] END C=3, class_weight=balanced, dual=False, fit_intercept=True, max_iter=91, multi_class=auto, penalty=l2, solver=liblinear, tol=0.0006; total time=   0.0s\n",
      "[CV] END C=3, class_weight=balanced, dual=False, fit_intercept=True, max_iter=91, multi_class=auto, penalty=l2, solver=liblinear, tol=0.0005; total time=   0.0s\n",
      "[CV] END C=3, class_weight=balanced, dual=False, fit_intercept=True, max_iter=91, multi_class=auto, penalty=l2, solver=liblinear, tol=0.0005; total time=   0.0s\n",
      "[CV] END C=3, class_weight=balanced, dual=False, fit_intercept=True, max_iter=91, multi_class=auto, penalty=l2, solver=liblinear, tol=0.0005; total time=   0.0s\n",
      "[CV] END C=3, class_weight=balanced, dual=False, fit_intercept=True, max_iter=91, multi_class=auto, penalty=l2, solver=liblinear, tol=0.00062; total time=   0.0s\n",
      "[CV] END C=3, class_weight=balanced, dual=False, fit_intercept=True, max_iter=91, multi_class=auto, penalty=l2, solver=liblinear, tol=0.00062; total time=   0.0s\n",
      "[CV] END C=3, class_weight=balanced, dual=False, fit_intercept=True, max_iter=91, multi_class=auto, penalty=l2, solver=liblinear, tol=0.00062; total time=   0.0s\n",
      "[CV] END C=3, class_weight=balanced, dual=False, fit_intercept=True, max_iter=98, multi_class=auto, penalty=l2, solver=liblinear, tol=0.00067; total time=   0.0s\n",
      "[CV] END C=3, class_weight=balanced, dual=False, fit_intercept=True, max_iter=98, multi_class=auto, penalty=l2, solver=liblinear, tol=0.00067; total time=   0.0s\n",
      "[CV] END C=3, class_weight=balanced, dual=False, fit_intercept=True, max_iter=98, multi_class=auto, penalty=l2, solver=liblinear, tol=0.00067; total time=   0.0s\n",
      "[CV] END C=3, class_weight=balanced, dual=False, fit_intercept=True, max_iter=98, multi_class=auto, penalty=l2, solver=liblinear, tol=0.0007; total time=   0.0s\n",
      "[CV] END C=3, class_weight=balanced, dual=False, fit_intercept=True, max_iter=98, multi_class=auto, penalty=l2, solver=liblinear, tol=0.0007; total time=   0.0s\n",
      "[CV] END C=3, class_weight=balanced, dual=False, fit_intercept=True, max_iter=98, multi_class=auto, penalty=l2, solver=liblinear, tol=0.0007; total time=   0.0s\n",
      "[CV] END C=3, class_weight=balanced, dual=False, fit_intercept=True, max_iter=98, multi_class=auto, penalty=l2, solver=liblinear, tol=0.0006; total time=   0.0s\n",
      "[CV] END C=3, class_weight=balanced, dual=False, fit_intercept=True, max_iter=98, multi_class=auto, penalty=l2, solver=liblinear, tol=0.0006; total time=   0.0s\n",
      "[CV] END C=3, class_weight=balanced, dual=False, fit_intercept=True, max_iter=98, multi_class=auto, penalty=l2, solver=liblinear, tol=0.0006; total time=   0.0s\n",
      "[CV] END C=3, class_weight=balanced, dual=False, fit_intercept=True, max_iter=98, multi_class=auto, penalty=l2, solver=liblinear, tol=0.0005; total time=   0.0s\n",
      "[CV] END C=3, class_weight=balanced, dual=False, fit_intercept=True, max_iter=98, multi_class=auto, penalty=l2, solver=liblinear, tol=0.0005; total time=   0.0s\n",
      "[CV] END C=3, class_weight=balanced, dual=False, fit_intercept=True, max_iter=98, multi_class=auto, penalty=l2, solver=liblinear, tol=0.0005; total time=   0.0s\n",
      "[CV] END C=3, class_weight=balanced, dual=False, fit_intercept=True, max_iter=98, multi_class=auto, penalty=l2, solver=liblinear, tol=0.00062; total time=   0.0s\n",
      "[CV] END C=3, class_weight=balanced, dual=False, fit_intercept=True, max_iter=98, multi_class=auto, penalty=l2, solver=liblinear, tol=0.00062; total time=   0.0s\n",
      "[CV] END C=3, class_weight=balanced, dual=False, fit_intercept=True, max_iter=98, multi_class=auto, penalty=l2, solver=liblinear, tol=0.00062; total time=   0.0s\n",
      "[CV] END C=3, class_weight=balanced, dual=False, fit_intercept=True, max_iter=97, multi_class=auto, penalty=l2, solver=liblinear, tol=0.00067; total time=   0.0s\n",
      "[CV] END C=3, class_weight=balanced, dual=False, fit_intercept=True, max_iter=97, multi_class=auto, penalty=l2, solver=liblinear, tol=0.00067; total time=   0.0s\n",
      "[CV] END C=3, class_weight=balanced, dual=False, fit_intercept=True, max_iter=97, multi_class=auto, penalty=l2, solver=liblinear, tol=0.00067; total time=   0.0s\n",
      "[CV] END C=3, class_weight=balanced, dual=False, fit_intercept=True, max_iter=97, multi_class=auto, penalty=l2, solver=liblinear, tol=0.0007; total time=   0.0s\n",
      "[CV] END C=3, class_weight=balanced, dual=False, fit_intercept=True, max_iter=97, multi_class=auto, penalty=l2, solver=liblinear, tol=0.0007; total time=   0.0s\n",
      "[CV] END C=3, class_weight=balanced, dual=False, fit_intercept=True, max_iter=97, multi_class=auto, penalty=l2, solver=liblinear, tol=0.0007; total time=   0.0s\n",
      "[CV] END C=3, class_weight=balanced, dual=False, fit_intercept=True, max_iter=97, multi_class=auto, penalty=l2, solver=liblinear, tol=0.0006; total time=   0.0s\n",
      "[CV] END C=3, class_weight=balanced, dual=False, fit_intercept=True, max_iter=97, multi_class=auto, penalty=l2, solver=liblinear, tol=0.0006; total time=   0.0s\n",
      "[CV] END C=3, class_weight=balanced, dual=False, fit_intercept=True, max_iter=97, multi_class=auto, penalty=l2, solver=liblinear, tol=0.0006; total time=   0.0s\n",
      "[CV] END C=3, class_weight=balanced, dual=False, fit_intercept=True, max_iter=97, multi_class=auto, penalty=l2, solver=liblinear, tol=0.0005; total time=   0.0s\n",
      "[CV] END C=3, class_weight=balanced, dual=False, fit_intercept=True, max_iter=97, multi_class=auto, penalty=l2, solver=liblinear, tol=0.0005; total time=   0.0s\n",
      "[CV] END C=3, class_weight=balanced, dual=False, fit_intercept=True, max_iter=97, multi_class=auto, penalty=l2, solver=liblinear, tol=0.0005; total time=   0.0s\n",
      "[CV] END C=3, class_weight=balanced, dual=False, fit_intercept=True, max_iter=97, multi_class=auto, penalty=l2, solver=liblinear, tol=0.00062; total time=   0.0s\n",
      "[CV] END C=3, class_weight=balanced, dual=False, fit_intercept=True, max_iter=97, multi_class=auto, penalty=l2, solver=liblinear, tol=0.00062; total time=   0.0s\n",
      "[CV] END C=3, class_weight=balanced, dual=False, fit_intercept=True, max_iter=97, multi_class=auto, penalty=l2, solver=liblinear, tol=0.00062; total time=   0.0s\n"
     ]
    },
    {
     "data": {
      "text/plain": [
       "GridSearchCV(cv=3, estimator=LogisticRegression(),\n",
       "             param_grid={'C': [8, 9, 10, 7, 6, 5, 4, 11, 3],\n",
       "                         'class_weight': ['balanced'], 'dual': [False],\n",
       "                         'fit_intercept': [True],\n",
       "                         'max_iter': [94, 93, 92, 95, 96, 91, 98, 97],\n",
       "                         'multi_class': ['auto'], 'penalty': ['l2'],\n",
       "                         'solver': ['liblinear'],\n",
       "                         'tol': [0.00067, 0.0007, 0.0006, 0.0005, 0.00062]},\n",
       "             verbose=2)"
      ]
     },
     "execution_count": 184,
     "metadata": {},
     "output_type": "execute_result"
    }
   ],
   "source": [
    "from sklearn.model_selection import GridSearchCV\n",
    "model_GSCV = GridSearchCV(estimator=lr,param_grid=param_grid,cv=3,verbose=2)\n",
    "model_GSCV.fit(x,Y)"
   ]
  },
  {
   "cell_type": "code",
   "execution_count": 185,
   "id": "79e7b2fb",
   "metadata": {},
   "outputs": [
    {
     "data": {
      "text/plain": [
       "{'tol': 0.00023,\n",
       " 'solver': 'sag',\n",
       " 'penalty': 'none',\n",
       " 'multi_class': 'auto',\n",
       " 'max_iter': 94,\n",
       " 'fit_intercept': True,\n",
       " 'dual': False,\n",
       " 'class_weight': None,\n",
       " 'C': 7.95918367346939}"
      ]
     },
     "execution_count": 185,
     "metadata": {},
     "output_type": "execute_result"
    }
   ],
   "source": [
    "model_RSCV.best_params_"
   ]
  },
  {
   "cell_type": "code",
   "execution_count": 186,
   "id": "51c07dc1",
   "metadata": {},
   "outputs": [
    {
     "data": {
      "text/plain": [
       "{'C': 3,\n",
       " 'class_weight': 'balanced',\n",
       " 'dual': False,\n",
       " 'fit_intercept': True,\n",
       " 'max_iter': 94,\n",
       " 'multi_class': 'auto',\n",
       " 'penalty': 'l2',\n",
       " 'solver': 'liblinear',\n",
       " 'tol': 0.00067}"
      ]
     },
     "execution_count": 186,
     "metadata": {},
     "output_type": "execute_result"
    }
   ],
   "source": [
    "model_GSCV.best_params_"
   ]
  },
  {
   "cell_type": "code",
   "execution_count": 187,
   "id": "76e325a5",
   "metadata": {},
   "outputs": [
    {
     "name": "stdout",
     "output_type": "stream",
     "text": [
      "Fitting 3 folds for each of 360 candidates, totalling 1080 fits\n",
      "[CV] END C=8, class_weight=balanced, dual=False, fit_intercept=True, max_iter=94, multi_class=auto, penalty=l2, solver=liblinear, tol=0.00067; total time=   0.0s\n",
      "[CV] END C=8, class_weight=balanced, dual=False, fit_intercept=True, max_iter=94, multi_class=auto, penalty=l2, solver=liblinear, tol=0.00067; total time=   0.0s\n",
      "[CV] END C=8, class_weight=balanced, dual=False, fit_intercept=True, max_iter=94, multi_class=auto, penalty=l2, solver=liblinear, tol=0.00067; total time=   0.0s\n",
      "[CV] END C=8, class_weight=balanced, dual=False, fit_intercept=True, max_iter=94, multi_class=auto, penalty=l2, solver=liblinear, tol=0.0007; total time=   0.0s\n",
      "[CV] END C=8, class_weight=balanced, dual=False, fit_intercept=True, max_iter=94, multi_class=auto, penalty=l2, solver=liblinear, tol=0.0007; total time=   0.0s\n",
      "[CV] END C=8, class_weight=balanced, dual=False, fit_intercept=True, max_iter=94, multi_class=auto, penalty=l2, solver=liblinear, tol=0.0007; total time=   0.0s\n",
      "[CV] END C=8, class_weight=balanced, dual=False, fit_intercept=True, max_iter=94, multi_class=auto, penalty=l2, solver=liblinear, tol=0.0006; total time=   0.0s\n",
      "[CV] END C=8, class_weight=balanced, dual=False, fit_intercept=True, max_iter=94, multi_class=auto, penalty=l2, solver=liblinear, tol=0.0006; total time=   0.0s\n",
      "[CV] END C=8, class_weight=balanced, dual=False, fit_intercept=True, max_iter=94, multi_class=auto, penalty=l2, solver=liblinear, tol=0.0006; total time=   0.0s\n",
      "[CV] END C=8, class_weight=balanced, dual=False, fit_intercept=True, max_iter=94, multi_class=auto, penalty=l2, solver=liblinear, tol=0.0005; total time=   0.0s\n",
      "[CV] END C=8, class_weight=balanced, dual=False, fit_intercept=True, max_iter=94, multi_class=auto, penalty=l2, solver=liblinear, tol=0.0005; total time=   0.0s\n",
      "[CV] END C=8, class_weight=balanced, dual=False, fit_intercept=True, max_iter=94, multi_class=auto, penalty=l2, solver=liblinear, tol=0.0005; total time=   0.0s\n",
      "[CV] END C=8, class_weight=balanced, dual=False, fit_intercept=True, max_iter=94, multi_class=auto, penalty=l2, solver=liblinear, tol=0.00062; total time=   0.0s\n",
      "[CV] END C=8, class_weight=balanced, dual=False, fit_intercept=True, max_iter=94, multi_class=auto, penalty=l2, solver=liblinear, tol=0.00062; total time=   0.0s\n",
      "[CV] END C=8, class_weight=balanced, dual=False, fit_intercept=True, max_iter=94, multi_class=auto, penalty=l2, solver=liblinear, tol=0.00062; total time=   0.0s\n",
      "[CV] END C=8, class_weight=balanced, dual=False, fit_intercept=True, max_iter=93, multi_class=auto, penalty=l2, solver=liblinear, tol=0.00067; total time=   0.0s\n",
      "[CV] END C=8, class_weight=balanced, dual=False, fit_intercept=True, max_iter=93, multi_class=auto, penalty=l2, solver=liblinear, tol=0.00067; total time=   0.0s\n",
      "[CV] END C=8, class_weight=balanced, dual=False, fit_intercept=True, max_iter=93, multi_class=auto, penalty=l2, solver=liblinear, tol=0.00067; total time=   0.0s\n",
      "[CV] END C=8, class_weight=balanced, dual=False, fit_intercept=True, max_iter=93, multi_class=auto, penalty=l2, solver=liblinear, tol=0.0007; total time=   0.0s\n",
      "[CV] END C=8, class_weight=balanced, dual=False, fit_intercept=True, max_iter=93, multi_class=auto, penalty=l2, solver=liblinear, tol=0.0007; total time=   0.0s\n",
      "[CV] END C=8, class_weight=balanced, dual=False, fit_intercept=True, max_iter=93, multi_class=auto, penalty=l2, solver=liblinear, tol=0.0007; total time=   0.0s\n",
      "[CV] END C=8, class_weight=balanced, dual=False, fit_intercept=True, max_iter=93, multi_class=auto, penalty=l2, solver=liblinear, tol=0.0006; total time=   0.0s\n",
      "[CV] END C=8, class_weight=balanced, dual=False, fit_intercept=True, max_iter=93, multi_class=auto, penalty=l2, solver=liblinear, tol=0.0006; total time=   0.0s\n",
      "[CV] END C=8, class_weight=balanced, dual=False, fit_intercept=True, max_iter=93, multi_class=auto, penalty=l2, solver=liblinear, tol=0.0006; total time=   0.0s\n",
      "[CV] END C=8, class_weight=balanced, dual=False, fit_intercept=True, max_iter=93, multi_class=auto, penalty=l2, solver=liblinear, tol=0.0005; total time=   0.0s\n",
      "[CV] END C=8, class_weight=balanced, dual=False, fit_intercept=True, max_iter=93, multi_class=auto, penalty=l2, solver=liblinear, tol=0.0005; total time=   0.0s\n",
      "[CV] END C=8, class_weight=balanced, dual=False, fit_intercept=True, max_iter=93, multi_class=auto, penalty=l2, solver=liblinear, tol=0.0005; total time=   0.0s\n",
      "[CV] END C=8, class_weight=balanced, dual=False, fit_intercept=True, max_iter=93, multi_class=auto, penalty=l2, solver=liblinear, tol=0.00062; total time=   0.0s\n",
      "[CV] END C=8, class_weight=balanced, dual=False, fit_intercept=True, max_iter=93, multi_class=auto, penalty=l2, solver=liblinear, tol=0.00062; total time=   0.0s\n",
      "[CV] END C=8, class_weight=balanced, dual=False, fit_intercept=True, max_iter=93, multi_class=auto, penalty=l2, solver=liblinear, tol=0.00062; total time=   0.0s\n",
      "[CV] END C=8, class_weight=balanced, dual=False, fit_intercept=True, max_iter=92, multi_class=auto, penalty=l2, solver=liblinear, tol=0.00067; total time=   0.0s\n",
      "[CV] END C=8, class_weight=balanced, dual=False, fit_intercept=True, max_iter=92, multi_class=auto, penalty=l2, solver=liblinear, tol=0.00067; total time=   0.0s\n",
      "[CV] END C=8, class_weight=balanced, dual=False, fit_intercept=True, max_iter=92, multi_class=auto, penalty=l2, solver=liblinear, tol=0.00067; total time=   0.0s\n",
      "[CV] END C=8, class_weight=balanced, dual=False, fit_intercept=True, max_iter=92, multi_class=auto, penalty=l2, solver=liblinear, tol=0.0007; total time=   0.0s\n",
      "[CV] END C=8, class_weight=balanced, dual=False, fit_intercept=True, max_iter=92, multi_class=auto, penalty=l2, solver=liblinear, tol=0.0007; total time=   0.0s\n",
      "[CV] END C=8, class_weight=balanced, dual=False, fit_intercept=True, max_iter=92, multi_class=auto, penalty=l2, solver=liblinear, tol=0.0007; total time=   0.0s\n",
      "[CV] END C=8, class_weight=balanced, dual=False, fit_intercept=True, max_iter=92, multi_class=auto, penalty=l2, solver=liblinear, tol=0.0006; total time=   0.0s\n",
      "[CV] END C=8, class_weight=balanced, dual=False, fit_intercept=True, max_iter=92, multi_class=auto, penalty=l2, solver=liblinear, tol=0.0006; total time=   0.0s\n",
      "[CV] END C=8, class_weight=balanced, dual=False, fit_intercept=True, max_iter=92, multi_class=auto, penalty=l2, solver=liblinear, tol=0.0006; total time=   0.0s\n",
      "[CV] END C=8, class_weight=balanced, dual=False, fit_intercept=True, max_iter=92, multi_class=auto, penalty=l2, solver=liblinear, tol=0.0005; total time=   0.0s\n",
      "[CV] END C=8, class_weight=balanced, dual=False, fit_intercept=True, max_iter=92, multi_class=auto, penalty=l2, solver=liblinear, tol=0.0005; total time=   0.0s\n",
      "[CV] END C=8, class_weight=balanced, dual=False, fit_intercept=True, max_iter=92, multi_class=auto, penalty=l2, solver=liblinear, tol=0.0005; total time=   0.0s\n",
      "[CV] END C=8, class_weight=balanced, dual=False, fit_intercept=True, max_iter=92, multi_class=auto, penalty=l2, solver=liblinear, tol=0.00062; total time=   0.0s\n",
      "[CV] END C=8, class_weight=balanced, dual=False, fit_intercept=True, max_iter=92, multi_class=auto, penalty=l2, solver=liblinear, tol=0.00062; total time=   0.0s\n",
      "[CV] END C=8, class_weight=balanced, dual=False, fit_intercept=True, max_iter=92, multi_class=auto, penalty=l2, solver=liblinear, tol=0.00062; total time=   0.0s\n",
      "[CV] END C=8, class_weight=balanced, dual=False, fit_intercept=True, max_iter=95, multi_class=auto, penalty=l2, solver=liblinear, tol=0.00067; total time=   0.0s\n",
      "[CV] END C=8, class_weight=balanced, dual=False, fit_intercept=True, max_iter=95, multi_class=auto, penalty=l2, solver=liblinear, tol=0.00067; total time=   0.0s\n",
      "[CV] END C=8, class_weight=balanced, dual=False, fit_intercept=True, max_iter=95, multi_class=auto, penalty=l2, solver=liblinear, tol=0.00067; total time=   0.0s\n",
      "[CV] END C=8, class_weight=balanced, dual=False, fit_intercept=True, max_iter=95, multi_class=auto, penalty=l2, solver=liblinear, tol=0.0007; total time=   0.0s\n",
      "[CV] END C=8, class_weight=balanced, dual=False, fit_intercept=True, max_iter=95, multi_class=auto, penalty=l2, solver=liblinear, tol=0.0007; total time=   0.0s\n",
      "[CV] END C=8, class_weight=balanced, dual=False, fit_intercept=True, max_iter=95, multi_class=auto, penalty=l2, solver=liblinear, tol=0.0007; total time=   0.0s\n",
      "[CV] END C=8, class_weight=balanced, dual=False, fit_intercept=True, max_iter=95, multi_class=auto, penalty=l2, solver=liblinear, tol=0.0006; total time=   0.0s\n",
      "[CV] END C=8, class_weight=balanced, dual=False, fit_intercept=True, max_iter=95, multi_class=auto, penalty=l2, solver=liblinear, tol=0.0006; total time=   0.0s\n",
      "[CV] END C=8, class_weight=balanced, dual=False, fit_intercept=True, max_iter=95, multi_class=auto, penalty=l2, solver=liblinear, tol=0.0006; total time=   0.0s\n",
      "[CV] END C=8, class_weight=balanced, dual=False, fit_intercept=True, max_iter=95, multi_class=auto, penalty=l2, solver=liblinear, tol=0.0005; total time=   0.0s\n",
      "[CV] END C=8, class_weight=balanced, dual=False, fit_intercept=True, max_iter=95, multi_class=auto, penalty=l2, solver=liblinear, tol=0.0005; total time=   0.0s\n",
      "[CV] END C=8, class_weight=balanced, dual=False, fit_intercept=True, max_iter=95, multi_class=auto, penalty=l2, solver=liblinear, tol=0.0005; total time=   0.0s\n"
     ]
    },
    {
     "name": "stdout",
     "output_type": "stream",
     "text": [
      "[CV] END C=8, class_weight=balanced, dual=False, fit_intercept=True, max_iter=95, multi_class=auto, penalty=l2, solver=liblinear, tol=0.00062; total time=   0.0s\n",
      "[CV] END C=8, class_weight=balanced, dual=False, fit_intercept=True, max_iter=95, multi_class=auto, penalty=l2, solver=liblinear, tol=0.00062; total time=   0.0s\n",
      "[CV] END C=8, class_weight=balanced, dual=False, fit_intercept=True, max_iter=95, multi_class=auto, penalty=l2, solver=liblinear, tol=0.00062; total time=   0.0s\n",
      "[CV] END C=8, class_weight=balanced, dual=False, fit_intercept=True, max_iter=96, multi_class=auto, penalty=l2, solver=liblinear, tol=0.00067; total time=   0.0s\n",
      "[CV] END C=8, class_weight=balanced, dual=False, fit_intercept=True, max_iter=96, multi_class=auto, penalty=l2, solver=liblinear, tol=0.00067; total time=   0.0s\n",
      "[CV] END C=8, class_weight=balanced, dual=False, fit_intercept=True, max_iter=96, multi_class=auto, penalty=l2, solver=liblinear, tol=0.00067; total time=   0.0s\n",
      "[CV] END C=8, class_weight=balanced, dual=False, fit_intercept=True, max_iter=96, multi_class=auto, penalty=l2, solver=liblinear, tol=0.0007; total time=   0.0s\n",
      "[CV] END C=8, class_weight=balanced, dual=False, fit_intercept=True, max_iter=96, multi_class=auto, penalty=l2, solver=liblinear, tol=0.0007; total time=   0.0s\n",
      "[CV] END C=8, class_weight=balanced, dual=False, fit_intercept=True, max_iter=96, multi_class=auto, penalty=l2, solver=liblinear, tol=0.0007; total time=   0.0s\n",
      "[CV] END C=8, class_weight=balanced, dual=False, fit_intercept=True, max_iter=96, multi_class=auto, penalty=l2, solver=liblinear, tol=0.0006; total time=   0.0s\n",
      "[CV] END C=8, class_weight=balanced, dual=False, fit_intercept=True, max_iter=96, multi_class=auto, penalty=l2, solver=liblinear, tol=0.0006; total time=   0.0s\n",
      "[CV] END C=8, class_weight=balanced, dual=False, fit_intercept=True, max_iter=96, multi_class=auto, penalty=l2, solver=liblinear, tol=0.0006; total time=   0.0s\n",
      "[CV] END C=8, class_weight=balanced, dual=False, fit_intercept=True, max_iter=96, multi_class=auto, penalty=l2, solver=liblinear, tol=0.0005; total time=   0.0s\n",
      "[CV] END C=8, class_weight=balanced, dual=False, fit_intercept=True, max_iter=96, multi_class=auto, penalty=l2, solver=liblinear, tol=0.0005; total time=   0.0s\n",
      "[CV] END C=8, class_weight=balanced, dual=False, fit_intercept=True, max_iter=96, multi_class=auto, penalty=l2, solver=liblinear, tol=0.0005; total time=   0.0s\n",
      "[CV] END C=8, class_weight=balanced, dual=False, fit_intercept=True, max_iter=96, multi_class=auto, penalty=l2, solver=liblinear, tol=0.00062; total time=   0.0s\n",
      "[CV] END C=8, class_weight=balanced, dual=False, fit_intercept=True, max_iter=96, multi_class=auto, penalty=l2, solver=liblinear, tol=0.00062; total time=   0.0s\n",
      "[CV] END C=8, class_weight=balanced, dual=False, fit_intercept=True, max_iter=96, multi_class=auto, penalty=l2, solver=liblinear, tol=0.00062; total time=   0.0s\n",
      "[CV] END C=8, class_weight=balanced, dual=False, fit_intercept=True, max_iter=91, multi_class=auto, penalty=l2, solver=liblinear, tol=0.00067; total time=   0.0s\n",
      "[CV] END C=8, class_weight=balanced, dual=False, fit_intercept=True, max_iter=91, multi_class=auto, penalty=l2, solver=liblinear, tol=0.00067; total time=   0.0s\n",
      "[CV] END C=8, class_weight=balanced, dual=False, fit_intercept=True, max_iter=91, multi_class=auto, penalty=l2, solver=liblinear, tol=0.00067; total time=   0.0s\n",
      "[CV] END C=8, class_weight=balanced, dual=False, fit_intercept=True, max_iter=91, multi_class=auto, penalty=l2, solver=liblinear, tol=0.0007; total time=   0.0s\n",
      "[CV] END C=8, class_weight=balanced, dual=False, fit_intercept=True, max_iter=91, multi_class=auto, penalty=l2, solver=liblinear, tol=0.0007; total time=   0.0s\n",
      "[CV] END C=8, class_weight=balanced, dual=False, fit_intercept=True, max_iter=91, multi_class=auto, penalty=l2, solver=liblinear, tol=0.0007; total time=   0.0s\n",
      "[CV] END C=8, class_weight=balanced, dual=False, fit_intercept=True, max_iter=91, multi_class=auto, penalty=l2, solver=liblinear, tol=0.0006; total time=   0.0s\n",
      "[CV] END C=8, class_weight=balanced, dual=False, fit_intercept=True, max_iter=91, multi_class=auto, penalty=l2, solver=liblinear, tol=0.0006; total time=   0.0s\n",
      "[CV] END C=8, class_weight=balanced, dual=False, fit_intercept=True, max_iter=91, multi_class=auto, penalty=l2, solver=liblinear, tol=0.0006; total time=   0.0s\n",
      "[CV] END C=8, class_weight=balanced, dual=False, fit_intercept=True, max_iter=91, multi_class=auto, penalty=l2, solver=liblinear, tol=0.0005; total time=   0.0s\n",
      "[CV] END C=8, class_weight=balanced, dual=False, fit_intercept=True, max_iter=91, multi_class=auto, penalty=l2, solver=liblinear, tol=0.0005; total time=   0.0s\n",
      "[CV] END C=8, class_weight=balanced, dual=False, fit_intercept=True, max_iter=91, multi_class=auto, penalty=l2, solver=liblinear, tol=0.0005; total time=   0.0s\n",
      "[CV] END C=8, class_weight=balanced, dual=False, fit_intercept=True, max_iter=91, multi_class=auto, penalty=l2, solver=liblinear, tol=0.00062; total time=   0.0s\n",
      "[CV] END C=8, class_weight=balanced, dual=False, fit_intercept=True, max_iter=91, multi_class=auto, penalty=l2, solver=liblinear, tol=0.00062; total time=   0.0s\n",
      "[CV] END C=8, class_weight=balanced, dual=False, fit_intercept=True, max_iter=91, multi_class=auto, penalty=l2, solver=liblinear, tol=0.00062; total time=   0.0s\n",
      "[CV] END C=8, class_weight=balanced, dual=False, fit_intercept=True, max_iter=98, multi_class=auto, penalty=l2, solver=liblinear, tol=0.00067; total time=   0.0s\n",
      "[CV] END C=8, class_weight=balanced, dual=False, fit_intercept=True, max_iter=98, multi_class=auto, penalty=l2, solver=liblinear, tol=0.00067; total time=   0.0s\n",
      "[CV] END C=8, class_weight=balanced, dual=False, fit_intercept=True, max_iter=98, multi_class=auto, penalty=l2, solver=liblinear, tol=0.00067; total time=   0.0s\n",
      "[CV] END C=8, class_weight=balanced, dual=False, fit_intercept=True, max_iter=98, multi_class=auto, penalty=l2, solver=liblinear, tol=0.0007; total time=   0.0s\n",
      "[CV] END C=8, class_weight=balanced, dual=False, fit_intercept=True, max_iter=98, multi_class=auto, penalty=l2, solver=liblinear, tol=0.0007; total time=   0.0s\n",
      "[CV] END C=8, class_weight=balanced, dual=False, fit_intercept=True, max_iter=98, multi_class=auto, penalty=l2, solver=liblinear, tol=0.0007; total time=   0.0s\n",
      "[CV] END C=8, class_weight=balanced, dual=False, fit_intercept=True, max_iter=98, multi_class=auto, penalty=l2, solver=liblinear, tol=0.0006; total time=   0.0s\n",
      "[CV] END C=8, class_weight=balanced, dual=False, fit_intercept=True, max_iter=98, multi_class=auto, penalty=l2, solver=liblinear, tol=0.0006; total time=   0.0s\n",
      "[CV] END C=8, class_weight=balanced, dual=False, fit_intercept=True, max_iter=98, multi_class=auto, penalty=l2, solver=liblinear, tol=0.0006; total time=   0.0s\n",
      "[CV] END C=8, class_weight=balanced, dual=False, fit_intercept=True, max_iter=98, multi_class=auto, penalty=l2, solver=liblinear, tol=0.0005; total time=   0.0s\n",
      "[CV] END C=8, class_weight=balanced, dual=False, fit_intercept=True, max_iter=98, multi_class=auto, penalty=l2, solver=liblinear, tol=0.0005; total time=   0.0s\n",
      "[CV] END C=8, class_weight=balanced, dual=False, fit_intercept=True, max_iter=98, multi_class=auto, penalty=l2, solver=liblinear, tol=0.0005; total time=   0.0s\n",
      "[CV] END C=8, class_weight=balanced, dual=False, fit_intercept=True, max_iter=98, multi_class=auto, penalty=l2, solver=liblinear, tol=0.00062; total time=   0.0s\n",
      "[CV] END C=8, class_weight=balanced, dual=False, fit_intercept=True, max_iter=98, multi_class=auto, penalty=l2, solver=liblinear, tol=0.00062; total time=   0.0s\n",
      "[CV] END C=8, class_weight=balanced, dual=False, fit_intercept=True, max_iter=98, multi_class=auto, penalty=l2, solver=liblinear, tol=0.00062; total time=   0.0s\n",
      "[CV] END C=8, class_weight=balanced, dual=False, fit_intercept=True, max_iter=97, multi_class=auto, penalty=l2, solver=liblinear, tol=0.00067; total time=   0.0s\n",
      "[CV] END C=8, class_weight=balanced, dual=False, fit_intercept=True, max_iter=97, multi_class=auto, penalty=l2, solver=liblinear, tol=0.00067; total time=   0.0s\n",
      "[CV] END C=8, class_weight=balanced, dual=False, fit_intercept=True, max_iter=97, multi_class=auto, penalty=l2, solver=liblinear, tol=0.00067; total time=   0.0s\n"
     ]
    },
    {
     "name": "stdout",
     "output_type": "stream",
     "text": [
      "[CV] END C=8, class_weight=balanced, dual=False, fit_intercept=True, max_iter=97, multi_class=auto, penalty=l2, solver=liblinear, tol=0.0007; total time=   0.0s\n",
      "[CV] END C=8, class_weight=balanced, dual=False, fit_intercept=True, max_iter=97, multi_class=auto, penalty=l2, solver=liblinear, tol=0.0007; total time=   0.0s\n",
      "[CV] END C=8, class_weight=balanced, dual=False, fit_intercept=True, max_iter=97, multi_class=auto, penalty=l2, solver=liblinear, tol=0.0007; total time=   0.0s\n",
      "[CV] END C=8, class_weight=balanced, dual=False, fit_intercept=True, max_iter=97, multi_class=auto, penalty=l2, solver=liblinear, tol=0.0006; total time=   0.0s\n",
      "[CV] END C=8, class_weight=balanced, dual=False, fit_intercept=True, max_iter=97, multi_class=auto, penalty=l2, solver=liblinear, tol=0.0006; total time=   0.0s\n",
      "[CV] END C=8, class_weight=balanced, dual=False, fit_intercept=True, max_iter=97, multi_class=auto, penalty=l2, solver=liblinear, tol=0.0006; total time=   0.0s\n",
      "[CV] END C=8, class_weight=balanced, dual=False, fit_intercept=True, max_iter=97, multi_class=auto, penalty=l2, solver=liblinear, tol=0.0005; total time=   0.0s\n",
      "[CV] END C=8, class_weight=balanced, dual=False, fit_intercept=True, max_iter=97, multi_class=auto, penalty=l2, solver=liblinear, tol=0.0005; total time=   0.0s\n",
      "[CV] END C=8, class_weight=balanced, dual=False, fit_intercept=True, max_iter=97, multi_class=auto, penalty=l2, solver=liblinear, tol=0.0005; total time=   0.0s\n",
      "[CV] END C=8, class_weight=balanced, dual=False, fit_intercept=True, max_iter=97, multi_class=auto, penalty=l2, solver=liblinear, tol=0.00062; total time=   0.0s\n",
      "[CV] END C=8, class_weight=balanced, dual=False, fit_intercept=True, max_iter=97, multi_class=auto, penalty=l2, solver=liblinear, tol=0.00062; total time=   0.0s\n",
      "[CV] END C=8, class_weight=balanced, dual=False, fit_intercept=True, max_iter=97, multi_class=auto, penalty=l2, solver=liblinear, tol=0.00062; total time=   0.0s\n",
      "[CV] END C=9, class_weight=balanced, dual=False, fit_intercept=True, max_iter=94, multi_class=auto, penalty=l2, solver=liblinear, tol=0.00067; total time=   0.0s\n",
      "[CV] END C=9, class_weight=balanced, dual=False, fit_intercept=True, max_iter=94, multi_class=auto, penalty=l2, solver=liblinear, tol=0.00067; total time=   0.0s\n",
      "[CV] END C=9, class_weight=balanced, dual=False, fit_intercept=True, max_iter=94, multi_class=auto, penalty=l2, solver=liblinear, tol=0.00067; total time=   0.0s\n",
      "[CV] END C=9, class_weight=balanced, dual=False, fit_intercept=True, max_iter=94, multi_class=auto, penalty=l2, solver=liblinear, tol=0.0007; total time=   0.0s\n",
      "[CV] END C=9, class_weight=balanced, dual=False, fit_intercept=True, max_iter=94, multi_class=auto, penalty=l2, solver=liblinear, tol=0.0007; total time=   0.0s\n",
      "[CV] END C=9, class_weight=balanced, dual=False, fit_intercept=True, max_iter=94, multi_class=auto, penalty=l2, solver=liblinear, tol=0.0007; total time=   0.0s\n",
      "[CV] END C=9, class_weight=balanced, dual=False, fit_intercept=True, max_iter=94, multi_class=auto, penalty=l2, solver=liblinear, tol=0.0006; total time=   0.0s\n",
      "[CV] END C=9, class_weight=balanced, dual=False, fit_intercept=True, max_iter=94, multi_class=auto, penalty=l2, solver=liblinear, tol=0.0006; total time=   0.0s\n",
      "[CV] END C=9, class_weight=balanced, dual=False, fit_intercept=True, max_iter=94, multi_class=auto, penalty=l2, solver=liblinear, tol=0.0006; total time=   0.0s\n",
      "[CV] END C=9, class_weight=balanced, dual=False, fit_intercept=True, max_iter=94, multi_class=auto, penalty=l2, solver=liblinear, tol=0.0005; total time=   0.0s\n",
      "[CV] END C=9, class_weight=balanced, dual=False, fit_intercept=True, max_iter=94, multi_class=auto, penalty=l2, solver=liblinear, tol=0.0005; total time=   0.0s\n",
      "[CV] END C=9, class_weight=balanced, dual=False, fit_intercept=True, max_iter=94, multi_class=auto, penalty=l2, solver=liblinear, tol=0.0005; total time=   0.0s\n",
      "[CV] END C=9, class_weight=balanced, dual=False, fit_intercept=True, max_iter=94, multi_class=auto, penalty=l2, solver=liblinear, tol=0.00062; total time=   0.0s\n",
      "[CV] END C=9, class_weight=balanced, dual=False, fit_intercept=True, max_iter=94, multi_class=auto, penalty=l2, solver=liblinear, tol=0.00062; total time=   0.0s\n",
      "[CV] END C=9, class_weight=balanced, dual=False, fit_intercept=True, max_iter=94, multi_class=auto, penalty=l2, solver=liblinear, tol=0.00062; total time=   0.0s\n",
      "[CV] END C=9, class_weight=balanced, dual=False, fit_intercept=True, max_iter=93, multi_class=auto, penalty=l2, solver=liblinear, tol=0.00067; total time=   0.0s\n",
      "[CV] END C=9, class_weight=balanced, dual=False, fit_intercept=True, max_iter=93, multi_class=auto, penalty=l2, solver=liblinear, tol=0.00067; total time=   0.0s\n",
      "[CV] END C=9, class_weight=balanced, dual=False, fit_intercept=True, max_iter=93, multi_class=auto, penalty=l2, solver=liblinear, tol=0.00067; total time=   0.0s\n",
      "[CV] END C=9, class_weight=balanced, dual=False, fit_intercept=True, max_iter=93, multi_class=auto, penalty=l2, solver=liblinear, tol=0.0007; total time=   0.0s\n",
      "[CV] END C=9, class_weight=balanced, dual=False, fit_intercept=True, max_iter=93, multi_class=auto, penalty=l2, solver=liblinear, tol=0.0007; total time=   0.0s\n",
      "[CV] END C=9, class_weight=balanced, dual=False, fit_intercept=True, max_iter=93, multi_class=auto, penalty=l2, solver=liblinear, tol=0.0007; total time=   0.0s\n",
      "[CV] END C=9, class_weight=balanced, dual=False, fit_intercept=True, max_iter=93, multi_class=auto, penalty=l2, solver=liblinear, tol=0.0006; total time=   0.0s\n",
      "[CV] END C=9, class_weight=balanced, dual=False, fit_intercept=True, max_iter=93, multi_class=auto, penalty=l2, solver=liblinear, tol=0.0006; total time=   0.0s\n",
      "[CV] END C=9, class_weight=balanced, dual=False, fit_intercept=True, max_iter=93, multi_class=auto, penalty=l2, solver=liblinear, tol=0.0006; total time=   0.0s\n",
      "[CV] END C=9, class_weight=balanced, dual=False, fit_intercept=True, max_iter=93, multi_class=auto, penalty=l2, solver=liblinear, tol=0.0005; total time=   0.0s\n",
      "[CV] END C=9, class_weight=balanced, dual=False, fit_intercept=True, max_iter=93, multi_class=auto, penalty=l2, solver=liblinear, tol=0.0005; total time=   0.0s\n",
      "[CV] END C=9, class_weight=balanced, dual=False, fit_intercept=True, max_iter=93, multi_class=auto, penalty=l2, solver=liblinear, tol=0.0005; total time=   0.0s\n",
      "[CV] END C=9, class_weight=balanced, dual=False, fit_intercept=True, max_iter=93, multi_class=auto, penalty=l2, solver=liblinear, tol=0.00062; total time=   0.0s\n",
      "[CV] END C=9, class_weight=balanced, dual=False, fit_intercept=True, max_iter=93, multi_class=auto, penalty=l2, solver=liblinear, tol=0.00062; total time=   0.0s\n",
      "[CV] END C=9, class_weight=balanced, dual=False, fit_intercept=True, max_iter=93, multi_class=auto, penalty=l2, solver=liblinear, tol=0.00062; total time=   0.0s\n",
      "[CV] END C=9, class_weight=balanced, dual=False, fit_intercept=True, max_iter=92, multi_class=auto, penalty=l2, solver=liblinear, tol=0.00067; total time=   0.0s\n",
      "[CV] END C=9, class_weight=balanced, dual=False, fit_intercept=True, max_iter=92, multi_class=auto, penalty=l2, solver=liblinear, tol=0.00067; total time=   0.0s\n",
      "[CV] END C=9, class_weight=balanced, dual=False, fit_intercept=True, max_iter=92, multi_class=auto, penalty=l2, solver=liblinear, tol=0.00067; total time=   0.0s\n",
      "[CV] END C=9, class_weight=balanced, dual=False, fit_intercept=True, max_iter=92, multi_class=auto, penalty=l2, solver=liblinear, tol=0.0007; total time=   0.0s\n",
      "[CV] END C=9, class_weight=balanced, dual=False, fit_intercept=True, max_iter=92, multi_class=auto, penalty=l2, solver=liblinear, tol=0.0007; total time=   0.0s\n",
      "[CV] END C=9, class_weight=balanced, dual=False, fit_intercept=True, max_iter=92, multi_class=auto, penalty=l2, solver=liblinear, tol=0.0007; total time=   0.0s\n",
      "[CV] END C=9, class_weight=balanced, dual=False, fit_intercept=True, max_iter=92, multi_class=auto, penalty=l2, solver=liblinear, tol=0.0006; total time=   0.0s\n",
      "[CV] END C=9, class_weight=balanced, dual=False, fit_intercept=True, max_iter=92, multi_class=auto, penalty=l2, solver=liblinear, tol=0.0006; total time=   0.0s\n",
      "[CV] END C=9, class_weight=balanced, dual=False, fit_intercept=True, max_iter=92, multi_class=auto, penalty=l2, solver=liblinear, tol=0.0006; total time=   0.0s\n"
     ]
    },
    {
     "name": "stdout",
     "output_type": "stream",
     "text": [
      "[CV] END C=9, class_weight=balanced, dual=False, fit_intercept=True, max_iter=92, multi_class=auto, penalty=l2, solver=liblinear, tol=0.0005; total time=   0.0s\n",
      "[CV] END C=9, class_weight=balanced, dual=False, fit_intercept=True, max_iter=92, multi_class=auto, penalty=l2, solver=liblinear, tol=0.0005; total time=   0.0s\n",
      "[CV] END C=9, class_weight=balanced, dual=False, fit_intercept=True, max_iter=92, multi_class=auto, penalty=l2, solver=liblinear, tol=0.0005; total time=   0.0s\n",
      "[CV] END C=9, class_weight=balanced, dual=False, fit_intercept=True, max_iter=92, multi_class=auto, penalty=l2, solver=liblinear, tol=0.00062; total time=   0.0s\n",
      "[CV] END C=9, class_weight=balanced, dual=False, fit_intercept=True, max_iter=92, multi_class=auto, penalty=l2, solver=liblinear, tol=0.00062; total time=   0.0s\n",
      "[CV] END C=9, class_weight=balanced, dual=False, fit_intercept=True, max_iter=92, multi_class=auto, penalty=l2, solver=liblinear, tol=0.00062; total time=   0.0s\n",
      "[CV] END C=9, class_weight=balanced, dual=False, fit_intercept=True, max_iter=95, multi_class=auto, penalty=l2, solver=liblinear, tol=0.00067; total time=   0.0s\n",
      "[CV] END C=9, class_weight=balanced, dual=False, fit_intercept=True, max_iter=95, multi_class=auto, penalty=l2, solver=liblinear, tol=0.00067; total time=   0.0s\n",
      "[CV] END C=9, class_weight=balanced, dual=False, fit_intercept=True, max_iter=95, multi_class=auto, penalty=l2, solver=liblinear, tol=0.00067; total time=   0.0s\n",
      "[CV] END C=9, class_weight=balanced, dual=False, fit_intercept=True, max_iter=95, multi_class=auto, penalty=l2, solver=liblinear, tol=0.0007; total time=   0.0s\n",
      "[CV] END C=9, class_weight=balanced, dual=False, fit_intercept=True, max_iter=95, multi_class=auto, penalty=l2, solver=liblinear, tol=0.0007; total time=   0.0s\n",
      "[CV] END C=9, class_weight=balanced, dual=False, fit_intercept=True, max_iter=95, multi_class=auto, penalty=l2, solver=liblinear, tol=0.0007; total time=   0.0s\n",
      "[CV] END C=9, class_weight=balanced, dual=False, fit_intercept=True, max_iter=95, multi_class=auto, penalty=l2, solver=liblinear, tol=0.0006; total time=   0.0s\n",
      "[CV] END C=9, class_weight=balanced, dual=False, fit_intercept=True, max_iter=95, multi_class=auto, penalty=l2, solver=liblinear, tol=0.0006; total time=   0.0s\n",
      "[CV] END C=9, class_weight=balanced, dual=False, fit_intercept=True, max_iter=95, multi_class=auto, penalty=l2, solver=liblinear, tol=0.0006; total time=   0.0s\n",
      "[CV] END C=9, class_weight=balanced, dual=False, fit_intercept=True, max_iter=95, multi_class=auto, penalty=l2, solver=liblinear, tol=0.0005; total time=   0.0s\n",
      "[CV] END C=9, class_weight=balanced, dual=False, fit_intercept=True, max_iter=95, multi_class=auto, penalty=l2, solver=liblinear, tol=0.0005; total time=   0.0s\n",
      "[CV] END C=9, class_weight=balanced, dual=False, fit_intercept=True, max_iter=95, multi_class=auto, penalty=l2, solver=liblinear, tol=0.0005; total time=   0.0s\n",
      "[CV] END C=9, class_weight=balanced, dual=False, fit_intercept=True, max_iter=95, multi_class=auto, penalty=l2, solver=liblinear, tol=0.00062; total time=   0.0s\n",
      "[CV] END C=9, class_weight=balanced, dual=False, fit_intercept=True, max_iter=95, multi_class=auto, penalty=l2, solver=liblinear, tol=0.00062; total time=   0.0s\n",
      "[CV] END C=9, class_weight=balanced, dual=False, fit_intercept=True, max_iter=95, multi_class=auto, penalty=l2, solver=liblinear, tol=0.00062; total time=   0.0s\n",
      "[CV] END C=9, class_weight=balanced, dual=False, fit_intercept=True, max_iter=96, multi_class=auto, penalty=l2, solver=liblinear, tol=0.00067; total time=   0.0s\n",
      "[CV] END C=9, class_weight=balanced, dual=False, fit_intercept=True, max_iter=96, multi_class=auto, penalty=l2, solver=liblinear, tol=0.00067; total time=   0.0s\n",
      "[CV] END C=9, class_weight=balanced, dual=False, fit_intercept=True, max_iter=96, multi_class=auto, penalty=l2, solver=liblinear, tol=0.00067; total time=   0.0s\n",
      "[CV] END C=9, class_weight=balanced, dual=False, fit_intercept=True, max_iter=96, multi_class=auto, penalty=l2, solver=liblinear, tol=0.0007; total time=   0.0s\n",
      "[CV] END C=9, class_weight=balanced, dual=False, fit_intercept=True, max_iter=96, multi_class=auto, penalty=l2, solver=liblinear, tol=0.0007; total time=   0.0s\n",
      "[CV] END C=9, class_weight=balanced, dual=False, fit_intercept=True, max_iter=96, multi_class=auto, penalty=l2, solver=liblinear, tol=0.0007; total time=   0.0s\n",
      "[CV] END C=9, class_weight=balanced, dual=False, fit_intercept=True, max_iter=96, multi_class=auto, penalty=l2, solver=liblinear, tol=0.0006; total time=   0.0s\n",
      "[CV] END C=9, class_weight=balanced, dual=False, fit_intercept=True, max_iter=96, multi_class=auto, penalty=l2, solver=liblinear, tol=0.0006; total time=   0.0s\n",
      "[CV] END C=9, class_weight=balanced, dual=False, fit_intercept=True, max_iter=96, multi_class=auto, penalty=l2, solver=liblinear, tol=0.0006; total time=   0.0s\n",
      "[CV] END C=9, class_weight=balanced, dual=False, fit_intercept=True, max_iter=96, multi_class=auto, penalty=l2, solver=liblinear, tol=0.0005; total time=   0.0s\n",
      "[CV] END C=9, class_weight=balanced, dual=False, fit_intercept=True, max_iter=96, multi_class=auto, penalty=l2, solver=liblinear, tol=0.0005; total time=   0.0s\n",
      "[CV] END C=9, class_weight=balanced, dual=False, fit_intercept=True, max_iter=96, multi_class=auto, penalty=l2, solver=liblinear, tol=0.0005; total time=   0.0s\n",
      "[CV] END C=9, class_weight=balanced, dual=False, fit_intercept=True, max_iter=96, multi_class=auto, penalty=l2, solver=liblinear, tol=0.00062; total time=   0.0s\n",
      "[CV] END C=9, class_weight=balanced, dual=False, fit_intercept=True, max_iter=96, multi_class=auto, penalty=l2, solver=liblinear, tol=0.00062; total time=   0.0s\n",
      "[CV] END C=9, class_weight=balanced, dual=False, fit_intercept=True, max_iter=96, multi_class=auto, penalty=l2, solver=liblinear, tol=0.00062; total time=   0.0s\n",
      "[CV] END C=9, class_weight=balanced, dual=False, fit_intercept=True, max_iter=91, multi_class=auto, penalty=l2, solver=liblinear, tol=0.00067; total time=   0.0s\n",
      "[CV] END C=9, class_weight=balanced, dual=False, fit_intercept=True, max_iter=91, multi_class=auto, penalty=l2, solver=liblinear, tol=0.00067; total time=   0.0s\n",
      "[CV] END C=9, class_weight=balanced, dual=False, fit_intercept=True, max_iter=91, multi_class=auto, penalty=l2, solver=liblinear, tol=0.00067; total time=   0.0s\n",
      "[CV] END C=9, class_weight=balanced, dual=False, fit_intercept=True, max_iter=91, multi_class=auto, penalty=l2, solver=liblinear, tol=0.0007; total time=   0.0s\n",
      "[CV] END C=9, class_weight=balanced, dual=False, fit_intercept=True, max_iter=91, multi_class=auto, penalty=l2, solver=liblinear, tol=0.0007; total time=   0.0s\n",
      "[CV] END C=9, class_weight=balanced, dual=False, fit_intercept=True, max_iter=91, multi_class=auto, penalty=l2, solver=liblinear, tol=0.0007; total time=   0.0s\n",
      "[CV] END C=9, class_weight=balanced, dual=False, fit_intercept=True, max_iter=91, multi_class=auto, penalty=l2, solver=liblinear, tol=0.0006; total time=   0.0s\n",
      "[CV] END C=9, class_weight=balanced, dual=False, fit_intercept=True, max_iter=91, multi_class=auto, penalty=l2, solver=liblinear, tol=0.0006; total time=   0.0s\n",
      "[CV] END C=9, class_weight=balanced, dual=False, fit_intercept=True, max_iter=91, multi_class=auto, penalty=l2, solver=liblinear, tol=0.0006; total time=   0.0s\n",
      "[CV] END C=9, class_weight=balanced, dual=False, fit_intercept=True, max_iter=91, multi_class=auto, penalty=l2, solver=liblinear, tol=0.0005; total time=   0.0s\n",
      "[CV] END C=9, class_weight=balanced, dual=False, fit_intercept=True, max_iter=91, multi_class=auto, penalty=l2, solver=liblinear, tol=0.0005; total time=   0.0s\n",
      "[CV] END C=9, class_weight=balanced, dual=False, fit_intercept=True, max_iter=91, multi_class=auto, penalty=l2, solver=liblinear, tol=0.0005; total time=   0.0s\n",
      "[CV] END C=9, class_weight=balanced, dual=False, fit_intercept=True, max_iter=91, multi_class=auto, penalty=l2, solver=liblinear, tol=0.00062; total time=   0.0s\n",
      "[CV] END C=9, class_weight=balanced, dual=False, fit_intercept=True, max_iter=91, multi_class=auto, penalty=l2, solver=liblinear, tol=0.00062; total time=   0.0s\n",
      "[CV] END C=9, class_weight=balanced, dual=False, fit_intercept=True, max_iter=91, multi_class=auto, penalty=l2, solver=liblinear, tol=0.00062; total time=   0.0s\n",
      "[CV] END C=9, class_weight=balanced, dual=False, fit_intercept=True, max_iter=98, multi_class=auto, penalty=l2, solver=liblinear, tol=0.00067; total time=   0.0s\n",
      "[CV] END C=9, class_weight=balanced, dual=False, fit_intercept=True, max_iter=98, multi_class=auto, penalty=l2, solver=liblinear, tol=0.00067; total time=   0.0s\n",
      "[CV] END C=9, class_weight=balanced, dual=False, fit_intercept=True, max_iter=98, multi_class=auto, penalty=l2, solver=liblinear, tol=0.00067; total time=   0.0s\n",
      "[CV] END C=9, class_weight=balanced, dual=False, fit_intercept=True, max_iter=98, multi_class=auto, penalty=l2, solver=liblinear, tol=0.0007; total time=   0.0s\n"
     ]
    },
    {
     "name": "stdout",
     "output_type": "stream",
     "text": [
      "[CV] END C=9, class_weight=balanced, dual=False, fit_intercept=True, max_iter=98, multi_class=auto, penalty=l2, solver=liblinear, tol=0.0007; total time=   0.0s\n",
      "[CV] END C=9, class_weight=balanced, dual=False, fit_intercept=True, max_iter=98, multi_class=auto, penalty=l2, solver=liblinear, tol=0.0007; total time=   0.0s\n",
      "[CV] END C=9, class_weight=balanced, dual=False, fit_intercept=True, max_iter=98, multi_class=auto, penalty=l2, solver=liblinear, tol=0.0006; total time=   0.0s\n",
      "[CV] END C=9, class_weight=balanced, dual=False, fit_intercept=True, max_iter=98, multi_class=auto, penalty=l2, solver=liblinear, tol=0.0006; total time=   0.0s\n",
      "[CV] END C=9, class_weight=balanced, dual=False, fit_intercept=True, max_iter=98, multi_class=auto, penalty=l2, solver=liblinear, tol=0.0006; total time=   0.0s\n",
      "[CV] END C=9, class_weight=balanced, dual=False, fit_intercept=True, max_iter=98, multi_class=auto, penalty=l2, solver=liblinear, tol=0.0005; total time=   0.0s\n",
      "[CV] END C=9, class_weight=balanced, dual=False, fit_intercept=True, max_iter=98, multi_class=auto, penalty=l2, solver=liblinear, tol=0.0005; total time=   0.0s\n",
      "[CV] END C=9, class_weight=balanced, dual=False, fit_intercept=True, max_iter=98, multi_class=auto, penalty=l2, solver=liblinear, tol=0.0005; total time=   0.0s\n",
      "[CV] END C=9, class_weight=balanced, dual=False, fit_intercept=True, max_iter=98, multi_class=auto, penalty=l2, solver=liblinear, tol=0.00062; total time=   0.0s\n",
      "[CV] END C=9, class_weight=balanced, dual=False, fit_intercept=True, max_iter=98, multi_class=auto, penalty=l2, solver=liblinear, tol=0.00062; total time=   0.0s\n",
      "[CV] END C=9, class_weight=balanced, dual=False, fit_intercept=True, max_iter=98, multi_class=auto, penalty=l2, solver=liblinear, tol=0.00062; total time=   0.0s\n",
      "[CV] END C=9, class_weight=balanced, dual=False, fit_intercept=True, max_iter=97, multi_class=auto, penalty=l2, solver=liblinear, tol=0.00067; total time=   0.0s\n",
      "[CV] END C=9, class_weight=balanced, dual=False, fit_intercept=True, max_iter=97, multi_class=auto, penalty=l2, solver=liblinear, tol=0.00067; total time=   0.0s\n",
      "[CV] END C=9, class_weight=balanced, dual=False, fit_intercept=True, max_iter=97, multi_class=auto, penalty=l2, solver=liblinear, tol=0.00067; total time=   0.0s\n",
      "[CV] END C=9, class_weight=balanced, dual=False, fit_intercept=True, max_iter=97, multi_class=auto, penalty=l2, solver=liblinear, tol=0.0007; total time=   0.0s\n",
      "[CV] END C=9, class_weight=balanced, dual=False, fit_intercept=True, max_iter=97, multi_class=auto, penalty=l2, solver=liblinear, tol=0.0007; total time=   0.0s\n",
      "[CV] END C=9, class_weight=balanced, dual=False, fit_intercept=True, max_iter=97, multi_class=auto, penalty=l2, solver=liblinear, tol=0.0007; total time=   0.0s\n",
      "[CV] END C=9, class_weight=balanced, dual=False, fit_intercept=True, max_iter=97, multi_class=auto, penalty=l2, solver=liblinear, tol=0.0006; total time=   0.0s\n",
      "[CV] END C=9, class_weight=balanced, dual=False, fit_intercept=True, max_iter=97, multi_class=auto, penalty=l2, solver=liblinear, tol=0.0006; total time=   0.0s\n",
      "[CV] END C=9, class_weight=balanced, dual=False, fit_intercept=True, max_iter=97, multi_class=auto, penalty=l2, solver=liblinear, tol=0.0006; total time=   0.0s\n",
      "[CV] END C=9, class_weight=balanced, dual=False, fit_intercept=True, max_iter=97, multi_class=auto, penalty=l2, solver=liblinear, tol=0.0005; total time=   0.0s\n",
      "[CV] END C=9, class_weight=balanced, dual=False, fit_intercept=True, max_iter=97, multi_class=auto, penalty=l2, solver=liblinear, tol=0.0005; total time=   0.0s\n",
      "[CV] END C=9, class_weight=balanced, dual=False, fit_intercept=True, max_iter=97, multi_class=auto, penalty=l2, solver=liblinear, tol=0.0005; total time=   0.0s\n",
      "[CV] END C=9, class_weight=balanced, dual=False, fit_intercept=True, max_iter=97, multi_class=auto, penalty=l2, solver=liblinear, tol=0.00062; total time=   0.0s\n",
      "[CV] END C=9, class_weight=balanced, dual=False, fit_intercept=True, max_iter=97, multi_class=auto, penalty=l2, solver=liblinear, tol=0.00062; total time=   0.0s\n",
      "[CV] END C=9, class_weight=balanced, dual=False, fit_intercept=True, max_iter=97, multi_class=auto, penalty=l2, solver=liblinear, tol=0.00062; total time=   0.0s\n",
      "[CV] END C=10, class_weight=balanced, dual=False, fit_intercept=True, max_iter=94, multi_class=auto, penalty=l2, solver=liblinear, tol=0.00067; total time=   0.0s\n",
      "[CV] END C=10, class_weight=balanced, dual=False, fit_intercept=True, max_iter=94, multi_class=auto, penalty=l2, solver=liblinear, tol=0.00067; total time=   0.0s\n",
      "[CV] END C=10, class_weight=balanced, dual=False, fit_intercept=True, max_iter=94, multi_class=auto, penalty=l2, solver=liblinear, tol=0.00067; total time=   0.0s\n",
      "[CV] END C=10, class_weight=balanced, dual=False, fit_intercept=True, max_iter=94, multi_class=auto, penalty=l2, solver=liblinear, tol=0.0007; total time=   0.0s\n",
      "[CV] END C=10, class_weight=balanced, dual=False, fit_intercept=True, max_iter=94, multi_class=auto, penalty=l2, solver=liblinear, tol=0.0007; total time=   0.0s\n",
      "[CV] END C=10, class_weight=balanced, dual=False, fit_intercept=True, max_iter=94, multi_class=auto, penalty=l2, solver=liblinear, tol=0.0007; total time=   0.0s\n",
      "[CV] END C=10, class_weight=balanced, dual=False, fit_intercept=True, max_iter=94, multi_class=auto, penalty=l2, solver=liblinear, tol=0.0006; total time=   0.0s\n",
      "[CV] END C=10, class_weight=balanced, dual=False, fit_intercept=True, max_iter=94, multi_class=auto, penalty=l2, solver=liblinear, tol=0.0006; total time=   0.0s\n",
      "[CV] END C=10, class_weight=balanced, dual=False, fit_intercept=True, max_iter=94, multi_class=auto, penalty=l2, solver=liblinear, tol=0.0006; total time=   0.0s\n",
      "[CV] END C=10, class_weight=balanced, dual=False, fit_intercept=True, max_iter=94, multi_class=auto, penalty=l2, solver=liblinear, tol=0.0005; total time=   0.0s\n",
      "[CV] END C=10, class_weight=balanced, dual=False, fit_intercept=True, max_iter=94, multi_class=auto, penalty=l2, solver=liblinear, tol=0.0005; total time=   0.0s\n",
      "[CV] END C=10, class_weight=balanced, dual=False, fit_intercept=True, max_iter=94, multi_class=auto, penalty=l2, solver=liblinear, tol=0.0005; total time=   0.0s\n",
      "[CV] END C=10, class_weight=balanced, dual=False, fit_intercept=True, max_iter=94, multi_class=auto, penalty=l2, solver=liblinear, tol=0.00062; total time=   0.0s\n",
      "[CV] END C=10, class_weight=balanced, dual=False, fit_intercept=True, max_iter=94, multi_class=auto, penalty=l2, solver=liblinear, tol=0.00062; total time=   0.0s\n",
      "[CV] END C=10, class_weight=balanced, dual=False, fit_intercept=True, max_iter=94, multi_class=auto, penalty=l2, solver=liblinear, tol=0.00062; total time=   0.0s\n",
      "[CV] END C=10, class_weight=balanced, dual=False, fit_intercept=True, max_iter=93, multi_class=auto, penalty=l2, solver=liblinear, tol=0.00067; total time=   0.0s\n",
      "[CV] END C=10, class_weight=balanced, dual=False, fit_intercept=True, max_iter=93, multi_class=auto, penalty=l2, solver=liblinear, tol=0.00067; total time=   0.0s\n",
      "[CV] END C=10, class_weight=balanced, dual=False, fit_intercept=True, max_iter=93, multi_class=auto, penalty=l2, solver=liblinear, tol=0.00067; total time=   0.0s\n",
      "[CV] END C=10, class_weight=balanced, dual=False, fit_intercept=True, max_iter=93, multi_class=auto, penalty=l2, solver=liblinear, tol=0.0007; total time=   0.0s\n",
      "[CV] END C=10, class_weight=balanced, dual=False, fit_intercept=True, max_iter=93, multi_class=auto, penalty=l2, solver=liblinear, tol=0.0007; total time=   0.0s\n",
      "[CV] END C=10, class_weight=balanced, dual=False, fit_intercept=True, max_iter=93, multi_class=auto, penalty=l2, solver=liblinear, tol=0.0007; total time=   0.0s\n",
      "[CV] END C=10, class_weight=balanced, dual=False, fit_intercept=True, max_iter=93, multi_class=auto, penalty=l2, solver=liblinear, tol=0.0006; total time=   0.0s\n",
      "[CV] END C=10, class_weight=balanced, dual=False, fit_intercept=True, max_iter=93, multi_class=auto, penalty=l2, solver=liblinear, tol=0.0006; total time=   0.0s\n",
      "[CV] END C=10, class_weight=balanced, dual=False, fit_intercept=True, max_iter=93, multi_class=auto, penalty=l2, solver=liblinear, tol=0.0006; total time=   0.0s\n",
      "[CV] END C=10, class_weight=balanced, dual=False, fit_intercept=True, max_iter=93, multi_class=auto, penalty=l2, solver=liblinear, tol=0.0005; total time=   0.0s\n",
      "[CV] END C=10, class_weight=balanced, dual=False, fit_intercept=True, max_iter=93, multi_class=auto, penalty=l2, solver=liblinear, tol=0.0005; total time=   0.0s\n",
      "[CV] END C=10, class_weight=balanced, dual=False, fit_intercept=True, max_iter=93, multi_class=auto, penalty=l2, solver=liblinear, tol=0.0005; total time=   0.0s\n",
      "[CV] END C=10, class_weight=balanced, dual=False, fit_intercept=True, max_iter=93, multi_class=auto, penalty=l2, solver=liblinear, tol=0.00062; total time=   0.0s\n",
      "[CV] END C=10, class_weight=balanced, dual=False, fit_intercept=True, max_iter=93, multi_class=auto, penalty=l2, solver=liblinear, tol=0.00062; total time=   0.0s\n"
     ]
    },
    {
     "name": "stdout",
     "output_type": "stream",
     "text": [
      "[CV] END C=10, class_weight=balanced, dual=False, fit_intercept=True, max_iter=93, multi_class=auto, penalty=l2, solver=liblinear, tol=0.00062; total time=   0.0s\n",
      "[CV] END C=10, class_weight=balanced, dual=False, fit_intercept=True, max_iter=92, multi_class=auto, penalty=l2, solver=liblinear, tol=0.00067; total time=   0.0s\n",
      "[CV] END C=10, class_weight=balanced, dual=False, fit_intercept=True, max_iter=92, multi_class=auto, penalty=l2, solver=liblinear, tol=0.00067; total time=   0.0s\n",
      "[CV] END C=10, class_weight=balanced, dual=False, fit_intercept=True, max_iter=92, multi_class=auto, penalty=l2, solver=liblinear, tol=0.00067; total time=   0.0s\n",
      "[CV] END C=10, class_weight=balanced, dual=False, fit_intercept=True, max_iter=92, multi_class=auto, penalty=l2, solver=liblinear, tol=0.0007; total time=   0.0s\n",
      "[CV] END C=10, class_weight=balanced, dual=False, fit_intercept=True, max_iter=92, multi_class=auto, penalty=l2, solver=liblinear, tol=0.0007; total time=   0.0s\n",
      "[CV] END C=10, class_weight=balanced, dual=False, fit_intercept=True, max_iter=92, multi_class=auto, penalty=l2, solver=liblinear, tol=0.0007; total time=   0.0s\n",
      "[CV] END C=10, class_weight=balanced, dual=False, fit_intercept=True, max_iter=92, multi_class=auto, penalty=l2, solver=liblinear, tol=0.0006; total time=   0.0s\n",
      "[CV] END C=10, class_weight=balanced, dual=False, fit_intercept=True, max_iter=92, multi_class=auto, penalty=l2, solver=liblinear, tol=0.0006; total time=   0.0s\n",
      "[CV] END C=10, class_weight=balanced, dual=False, fit_intercept=True, max_iter=92, multi_class=auto, penalty=l2, solver=liblinear, tol=0.0006; total time=   0.0s\n",
      "[CV] END C=10, class_weight=balanced, dual=False, fit_intercept=True, max_iter=92, multi_class=auto, penalty=l2, solver=liblinear, tol=0.0005; total time=   0.0s\n",
      "[CV] END C=10, class_weight=balanced, dual=False, fit_intercept=True, max_iter=92, multi_class=auto, penalty=l2, solver=liblinear, tol=0.0005; total time=   0.0s\n",
      "[CV] END C=10, class_weight=balanced, dual=False, fit_intercept=True, max_iter=92, multi_class=auto, penalty=l2, solver=liblinear, tol=0.0005; total time=   0.0s\n",
      "[CV] END C=10, class_weight=balanced, dual=False, fit_intercept=True, max_iter=92, multi_class=auto, penalty=l2, solver=liblinear, tol=0.00062; total time=   0.0s\n",
      "[CV] END C=10, class_weight=balanced, dual=False, fit_intercept=True, max_iter=92, multi_class=auto, penalty=l2, solver=liblinear, tol=0.00062; total time=   0.0s\n",
      "[CV] END C=10, class_weight=balanced, dual=False, fit_intercept=True, max_iter=92, multi_class=auto, penalty=l2, solver=liblinear, tol=0.00062; total time=   0.0s\n",
      "[CV] END C=10, class_weight=balanced, dual=False, fit_intercept=True, max_iter=95, multi_class=auto, penalty=l2, solver=liblinear, tol=0.00067; total time=   0.0s\n",
      "[CV] END C=10, class_weight=balanced, dual=False, fit_intercept=True, max_iter=95, multi_class=auto, penalty=l2, solver=liblinear, tol=0.00067; total time=   0.0s\n",
      "[CV] END C=10, class_weight=balanced, dual=False, fit_intercept=True, max_iter=95, multi_class=auto, penalty=l2, solver=liblinear, tol=0.00067; total time=   0.0s\n",
      "[CV] END C=10, class_weight=balanced, dual=False, fit_intercept=True, max_iter=95, multi_class=auto, penalty=l2, solver=liblinear, tol=0.0007; total time=   0.0s\n",
      "[CV] END C=10, class_weight=balanced, dual=False, fit_intercept=True, max_iter=95, multi_class=auto, penalty=l2, solver=liblinear, tol=0.0007; total time=   0.0s\n",
      "[CV] END C=10, class_weight=balanced, dual=False, fit_intercept=True, max_iter=95, multi_class=auto, penalty=l2, solver=liblinear, tol=0.0007; total time=   0.0s\n",
      "[CV] END C=10, class_weight=balanced, dual=False, fit_intercept=True, max_iter=95, multi_class=auto, penalty=l2, solver=liblinear, tol=0.0006; total time=   0.0s\n",
      "[CV] END C=10, class_weight=balanced, dual=False, fit_intercept=True, max_iter=95, multi_class=auto, penalty=l2, solver=liblinear, tol=0.0006; total time=   0.0s\n",
      "[CV] END C=10, class_weight=balanced, dual=False, fit_intercept=True, max_iter=95, multi_class=auto, penalty=l2, solver=liblinear, tol=0.0006; total time=   0.0s\n",
      "[CV] END C=10, class_weight=balanced, dual=False, fit_intercept=True, max_iter=95, multi_class=auto, penalty=l2, solver=liblinear, tol=0.0005; total time=   0.0s\n",
      "[CV] END C=10, class_weight=balanced, dual=False, fit_intercept=True, max_iter=95, multi_class=auto, penalty=l2, solver=liblinear, tol=0.0005; total time=   0.0s\n",
      "[CV] END C=10, class_weight=balanced, dual=False, fit_intercept=True, max_iter=95, multi_class=auto, penalty=l2, solver=liblinear, tol=0.0005; total time=   0.0s\n",
      "[CV] END C=10, class_weight=balanced, dual=False, fit_intercept=True, max_iter=95, multi_class=auto, penalty=l2, solver=liblinear, tol=0.00062; total time=   0.0s\n",
      "[CV] END C=10, class_weight=balanced, dual=False, fit_intercept=True, max_iter=95, multi_class=auto, penalty=l2, solver=liblinear, tol=0.00062; total time=   0.0s\n",
      "[CV] END C=10, class_weight=balanced, dual=False, fit_intercept=True, max_iter=95, multi_class=auto, penalty=l2, solver=liblinear, tol=0.00062; total time=   0.0s\n",
      "[CV] END C=10, class_weight=balanced, dual=False, fit_intercept=True, max_iter=96, multi_class=auto, penalty=l2, solver=liblinear, tol=0.00067; total time=   0.0s\n",
      "[CV] END C=10, class_weight=balanced, dual=False, fit_intercept=True, max_iter=96, multi_class=auto, penalty=l2, solver=liblinear, tol=0.00067; total time=   0.0s\n",
      "[CV] END C=10, class_weight=balanced, dual=False, fit_intercept=True, max_iter=96, multi_class=auto, penalty=l2, solver=liblinear, tol=0.00067; total time=   0.0s\n",
      "[CV] END C=10, class_weight=balanced, dual=False, fit_intercept=True, max_iter=96, multi_class=auto, penalty=l2, solver=liblinear, tol=0.0007; total time=   0.0s\n",
      "[CV] END C=10, class_weight=balanced, dual=False, fit_intercept=True, max_iter=96, multi_class=auto, penalty=l2, solver=liblinear, tol=0.0007; total time=   0.0s\n",
      "[CV] END C=10, class_weight=balanced, dual=False, fit_intercept=True, max_iter=96, multi_class=auto, penalty=l2, solver=liblinear, tol=0.0007; total time=   0.0s\n",
      "[CV] END C=10, class_weight=balanced, dual=False, fit_intercept=True, max_iter=96, multi_class=auto, penalty=l2, solver=liblinear, tol=0.0006; total time=   0.0s\n",
      "[CV] END C=10, class_weight=balanced, dual=False, fit_intercept=True, max_iter=96, multi_class=auto, penalty=l2, solver=liblinear, tol=0.0006; total time=   0.0s\n",
      "[CV] END C=10, class_weight=balanced, dual=False, fit_intercept=True, max_iter=96, multi_class=auto, penalty=l2, solver=liblinear, tol=0.0006; total time=   0.0s\n",
      "[CV] END C=10, class_weight=balanced, dual=False, fit_intercept=True, max_iter=96, multi_class=auto, penalty=l2, solver=liblinear, tol=0.0005; total time=   0.0s\n",
      "[CV] END C=10, class_weight=balanced, dual=False, fit_intercept=True, max_iter=96, multi_class=auto, penalty=l2, solver=liblinear, tol=0.0005; total time=   0.0s\n",
      "[CV] END C=10, class_weight=balanced, dual=False, fit_intercept=True, max_iter=96, multi_class=auto, penalty=l2, solver=liblinear, tol=0.0005; total time=   0.0s\n",
      "[CV] END C=10, class_weight=balanced, dual=False, fit_intercept=True, max_iter=96, multi_class=auto, penalty=l2, solver=liblinear, tol=0.00062; total time=   0.0s\n",
      "[CV] END C=10, class_weight=balanced, dual=False, fit_intercept=True, max_iter=96, multi_class=auto, penalty=l2, solver=liblinear, tol=0.00062; total time=   0.0s\n",
      "[CV] END C=10, class_weight=balanced, dual=False, fit_intercept=True, max_iter=96, multi_class=auto, penalty=l2, solver=liblinear, tol=0.00062; total time=   0.0s\n",
      "[CV] END C=10, class_weight=balanced, dual=False, fit_intercept=True, max_iter=91, multi_class=auto, penalty=l2, solver=liblinear, tol=0.00067; total time=   0.0s\n",
      "[CV] END C=10, class_weight=balanced, dual=False, fit_intercept=True, max_iter=91, multi_class=auto, penalty=l2, solver=liblinear, tol=0.00067; total time=   0.0s\n",
      "[CV] END C=10, class_weight=balanced, dual=False, fit_intercept=True, max_iter=91, multi_class=auto, penalty=l2, solver=liblinear, tol=0.00067; total time=   0.0s\n",
      "[CV] END C=10, class_weight=balanced, dual=False, fit_intercept=True, max_iter=91, multi_class=auto, penalty=l2, solver=liblinear, tol=0.0007; total time=   0.0s\n",
      "[CV] END C=10, class_weight=balanced, dual=False, fit_intercept=True, max_iter=91, multi_class=auto, penalty=l2, solver=liblinear, tol=0.0007; total time=   0.0s\n",
      "[CV] END C=10, class_weight=balanced, dual=False, fit_intercept=True, max_iter=91, multi_class=auto, penalty=l2, solver=liblinear, tol=0.0007; total time=   0.0s\n",
      "[CV] END C=10, class_weight=balanced, dual=False, fit_intercept=True, max_iter=91, multi_class=auto, penalty=l2, solver=liblinear, tol=0.0006; total time=   0.0s\n",
      "[CV] END C=10, class_weight=balanced, dual=False, fit_intercept=True, max_iter=91, multi_class=auto, penalty=l2, solver=liblinear, tol=0.0006; total time=   0.0s\n",
      "[CV] END C=10, class_weight=balanced, dual=False, fit_intercept=True, max_iter=91, multi_class=auto, penalty=l2, solver=liblinear, tol=0.0006; total time=   0.0s\n",
      "[CV] END C=10, class_weight=balanced, dual=False, fit_intercept=True, max_iter=91, multi_class=auto, penalty=l2, solver=liblinear, tol=0.0005; total time=   0.0s\n",
      "[CV] END C=10, class_weight=balanced, dual=False, fit_intercept=True, max_iter=91, multi_class=auto, penalty=l2, solver=liblinear, tol=0.0005; total time=   0.0s\n"
     ]
    },
    {
     "name": "stdout",
     "output_type": "stream",
     "text": [
      "[CV] END C=10, class_weight=balanced, dual=False, fit_intercept=True, max_iter=91, multi_class=auto, penalty=l2, solver=liblinear, tol=0.0005; total time=   0.0s\n",
      "[CV] END C=10, class_weight=balanced, dual=False, fit_intercept=True, max_iter=91, multi_class=auto, penalty=l2, solver=liblinear, tol=0.00062; total time=   0.0s\n",
      "[CV] END C=10, class_weight=balanced, dual=False, fit_intercept=True, max_iter=91, multi_class=auto, penalty=l2, solver=liblinear, tol=0.00062; total time=   0.0s\n",
      "[CV] END C=10, class_weight=balanced, dual=False, fit_intercept=True, max_iter=91, multi_class=auto, penalty=l2, solver=liblinear, tol=0.00062; total time=   0.0s\n",
      "[CV] END C=10, class_weight=balanced, dual=False, fit_intercept=True, max_iter=98, multi_class=auto, penalty=l2, solver=liblinear, tol=0.00067; total time=   0.0s\n",
      "[CV] END C=10, class_weight=balanced, dual=False, fit_intercept=True, max_iter=98, multi_class=auto, penalty=l2, solver=liblinear, tol=0.00067; total time=   0.0s\n",
      "[CV] END C=10, class_weight=balanced, dual=False, fit_intercept=True, max_iter=98, multi_class=auto, penalty=l2, solver=liblinear, tol=0.00067; total time=   0.0s\n",
      "[CV] END C=10, class_weight=balanced, dual=False, fit_intercept=True, max_iter=98, multi_class=auto, penalty=l2, solver=liblinear, tol=0.0007; total time=   0.0s\n",
      "[CV] END C=10, class_weight=balanced, dual=False, fit_intercept=True, max_iter=98, multi_class=auto, penalty=l2, solver=liblinear, tol=0.0007; total time=   0.0s\n",
      "[CV] END C=10, class_weight=balanced, dual=False, fit_intercept=True, max_iter=98, multi_class=auto, penalty=l2, solver=liblinear, tol=0.0007; total time=   0.0s\n",
      "[CV] END C=10, class_weight=balanced, dual=False, fit_intercept=True, max_iter=98, multi_class=auto, penalty=l2, solver=liblinear, tol=0.0006; total time=   0.0s\n",
      "[CV] END C=10, class_weight=balanced, dual=False, fit_intercept=True, max_iter=98, multi_class=auto, penalty=l2, solver=liblinear, tol=0.0006; total time=   0.0s\n",
      "[CV] END C=10, class_weight=balanced, dual=False, fit_intercept=True, max_iter=98, multi_class=auto, penalty=l2, solver=liblinear, tol=0.0006; total time=   0.0s\n",
      "[CV] END C=10, class_weight=balanced, dual=False, fit_intercept=True, max_iter=98, multi_class=auto, penalty=l2, solver=liblinear, tol=0.0005; total time=   0.0s\n",
      "[CV] END C=10, class_weight=balanced, dual=False, fit_intercept=True, max_iter=98, multi_class=auto, penalty=l2, solver=liblinear, tol=0.0005; total time=   0.0s\n",
      "[CV] END C=10, class_weight=balanced, dual=False, fit_intercept=True, max_iter=98, multi_class=auto, penalty=l2, solver=liblinear, tol=0.0005; total time=   0.0s\n",
      "[CV] END C=10, class_weight=balanced, dual=False, fit_intercept=True, max_iter=98, multi_class=auto, penalty=l2, solver=liblinear, tol=0.00062; total time=   0.0s\n",
      "[CV] END C=10, class_weight=balanced, dual=False, fit_intercept=True, max_iter=98, multi_class=auto, penalty=l2, solver=liblinear, tol=0.00062; total time=   0.0s\n",
      "[CV] END C=10, class_weight=balanced, dual=False, fit_intercept=True, max_iter=98, multi_class=auto, penalty=l2, solver=liblinear, tol=0.00062; total time=   0.0s\n",
      "[CV] END C=10, class_weight=balanced, dual=False, fit_intercept=True, max_iter=97, multi_class=auto, penalty=l2, solver=liblinear, tol=0.00067; total time=   0.0s\n",
      "[CV] END C=10, class_weight=balanced, dual=False, fit_intercept=True, max_iter=97, multi_class=auto, penalty=l2, solver=liblinear, tol=0.00067; total time=   0.0s\n",
      "[CV] END C=10, class_weight=balanced, dual=False, fit_intercept=True, max_iter=97, multi_class=auto, penalty=l2, solver=liblinear, tol=0.00067; total time=   0.0s\n",
      "[CV] END C=10, class_weight=balanced, dual=False, fit_intercept=True, max_iter=97, multi_class=auto, penalty=l2, solver=liblinear, tol=0.0007; total time=   0.0s\n",
      "[CV] END C=10, class_weight=balanced, dual=False, fit_intercept=True, max_iter=97, multi_class=auto, penalty=l2, solver=liblinear, tol=0.0007; total time=   0.0s\n",
      "[CV] END C=10, class_weight=balanced, dual=False, fit_intercept=True, max_iter=97, multi_class=auto, penalty=l2, solver=liblinear, tol=0.0007; total time=   0.0s\n",
      "[CV] END C=10, class_weight=balanced, dual=False, fit_intercept=True, max_iter=97, multi_class=auto, penalty=l2, solver=liblinear, tol=0.0006; total time=   0.0s\n",
      "[CV] END C=10, class_weight=balanced, dual=False, fit_intercept=True, max_iter=97, multi_class=auto, penalty=l2, solver=liblinear, tol=0.0006; total time=   0.0s\n",
      "[CV] END C=10, class_weight=balanced, dual=False, fit_intercept=True, max_iter=97, multi_class=auto, penalty=l2, solver=liblinear, tol=0.0006; total time=   0.0s\n",
      "[CV] END C=10, class_weight=balanced, dual=False, fit_intercept=True, max_iter=97, multi_class=auto, penalty=l2, solver=liblinear, tol=0.0005; total time=   0.0s\n",
      "[CV] END C=10, class_weight=balanced, dual=False, fit_intercept=True, max_iter=97, multi_class=auto, penalty=l2, solver=liblinear, tol=0.0005; total time=   0.0s\n",
      "[CV] END C=10, class_weight=balanced, dual=False, fit_intercept=True, max_iter=97, multi_class=auto, penalty=l2, solver=liblinear, tol=0.0005; total time=   0.0s\n",
      "[CV] END C=10, class_weight=balanced, dual=False, fit_intercept=True, max_iter=97, multi_class=auto, penalty=l2, solver=liblinear, tol=0.00062; total time=   0.0s\n",
      "[CV] END C=10, class_weight=balanced, dual=False, fit_intercept=True, max_iter=97, multi_class=auto, penalty=l2, solver=liblinear, tol=0.00062; total time=   0.0s\n",
      "[CV] END C=10, class_weight=balanced, dual=False, fit_intercept=True, max_iter=97, multi_class=auto, penalty=l2, solver=liblinear, tol=0.00062; total time=   0.0s\n",
      "[CV] END C=7, class_weight=balanced, dual=False, fit_intercept=True, max_iter=94, multi_class=auto, penalty=l2, solver=liblinear, tol=0.00067; total time=   0.0s\n",
      "[CV] END C=7, class_weight=balanced, dual=False, fit_intercept=True, max_iter=94, multi_class=auto, penalty=l2, solver=liblinear, tol=0.00067; total time=   0.0s\n",
      "[CV] END C=7, class_weight=balanced, dual=False, fit_intercept=True, max_iter=94, multi_class=auto, penalty=l2, solver=liblinear, tol=0.00067; total time=   0.0s\n",
      "[CV] END C=7, class_weight=balanced, dual=False, fit_intercept=True, max_iter=94, multi_class=auto, penalty=l2, solver=liblinear, tol=0.0007; total time=   0.0s\n",
      "[CV] END C=7, class_weight=balanced, dual=False, fit_intercept=True, max_iter=94, multi_class=auto, penalty=l2, solver=liblinear, tol=0.0007; total time=   0.0s\n",
      "[CV] END C=7, class_weight=balanced, dual=False, fit_intercept=True, max_iter=94, multi_class=auto, penalty=l2, solver=liblinear, tol=0.0007; total time=   0.0s\n",
      "[CV] END C=7, class_weight=balanced, dual=False, fit_intercept=True, max_iter=94, multi_class=auto, penalty=l2, solver=liblinear, tol=0.0006; total time=   0.0s\n",
      "[CV] END C=7, class_weight=balanced, dual=False, fit_intercept=True, max_iter=94, multi_class=auto, penalty=l2, solver=liblinear, tol=0.0006; total time=   0.0s\n",
      "[CV] END C=7, class_weight=balanced, dual=False, fit_intercept=True, max_iter=94, multi_class=auto, penalty=l2, solver=liblinear, tol=0.0006; total time=   0.0s\n",
      "[CV] END C=7, class_weight=balanced, dual=False, fit_intercept=True, max_iter=94, multi_class=auto, penalty=l2, solver=liblinear, tol=0.0005; total time=   0.0s\n",
      "[CV] END C=7, class_weight=balanced, dual=False, fit_intercept=True, max_iter=94, multi_class=auto, penalty=l2, solver=liblinear, tol=0.0005; total time=   0.0s\n",
      "[CV] END C=7, class_weight=balanced, dual=False, fit_intercept=True, max_iter=94, multi_class=auto, penalty=l2, solver=liblinear, tol=0.0005; total time=   0.0s\n",
      "[CV] END C=7, class_weight=balanced, dual=False, fit_intercept=True, max_iter=94, multi_class=auto, penalty=l2, solver=liblinear, tol=0.00062; total time=   0.0s\n",
      "[CV] END C=7, class_weight=balanced, dual=False, fit_intercept=True, max_iter=94, multi_class=auto, penalty=l2, solver=liblinear, tol=0.00062; total time=   0.0s\n",
      "[CV] END C=7, class_weight=balanced, dual=False, fit_intercept=True, max_iter=94, multi_class=auto, penalty=l2, solver=liblinear, tol=0.00062; total time=   0.0s\n",
      "[CV] END C=7, class_weight=balanced, dual=False, fit_intercept=True, max_iter=93, multi_class=auto, penalty=l2, solver=liblinear, tol=0.00067; total time=   0.0s\n",
      "[CV] END C=7, class_weight=balanced, dual=False, fit_intercept=True, max_iter=93, multi_class=auto, penalty=l2, solver=liblinear, tol=0.00067; total time=   0.0s\n",
      "[CV] END C=7, class_weight=balanced, dual=False, fit_intercept=True, max_iter=93, multi_class=auto, penalty=l2, solver=liblinear, tol=0.00067; total time=   0.0s\n",
      "[CV] END C=7, class_weight=balanced, dual=False, fit_intercept=True, max_iter=93, multi_class=auto, penalty=l2, solver=liblinear, tol=0.0007; total time=   0.0s\n",
      "[CV] END C=7, class_weight=balanced, dual=False, fit_intercept=True, max_iter=93, multi_class=auto, penalty=l2, solver=liblinear, tol=0.0007; total time=   0.0s\n",
      "[CV] END C=7, class_weight=balanced, dual=False, fit_intercept=True, max_iter=93, multi_class=auto, penalty=l2, solver=liblinear, tol=0.0007; total time=   0.0s\n",
      "[CV] END C=7, class_weight=balanced, dual=False, fit_intercept=True, max_iter=93, multi_class=auto, penalty=l2, solver=liblinear, tol=0.0006; total time=   0.0s\n",
      "[CV] END C=7, class_weight=balanced, dual=False, fit_intercept=True, max_iter=93, multi_class=auto, penalty=l2, solver=liblinear, tol=0.0006; total time=   0.0s\n",
      "[CV] END C=7, class_weight=balanced, dual=False, fit_intercept=True, max_iter=93, multi_class=auto, penalty=l2, solver=liblinear, tol=0.0006; total time=   0.0s\n",
      "[CV] END C=7, class_weight=balanced, dual=False, fit_intercept=True, max_iter=93, multi_class=auto, penalty=l2, solver=liblinear, tol=0.0005; total time=   0.0s\n",
      "[CV] END C=7, class_weight=balanced, dual=False, fit_intercept=True, max_iter=93, multi_class=auto, penalty=l2, solver=liblinear, tol=0.0005; total time=   0.0s\n",
      "[CV] END C=7, class_weight=balanced, dual=False, fit_intercept=True, max_iter=93, multi_class=auto, penalty=l2, solver=liblinear, tol=0.0005; total time=   0.0s\n"
     ]
    },
    {
     "name": "stdout",
     "output_type": "stream",
     "text": [
      "[CV] END C=7, class_weight=balanced, dual=False, fit_intercept=True, max_iter=93, multi_class=auto, penalty=l2, solver=liblinear, tol=0.00062; total time=   0.0s\n",
      "[CV] END C=7, class_weight=balanced, dual=False, fit_intercept=True, max_iter=93, multi_class=auto, penalty=l2, solver=liblinear, tol=0.00062; total time=   0.0s\n",
      "[CV] END C=7, class_weight=balanced, dual=False, fit_intercept=True, max_iter=93, multi_class=auto, penalty=l2, solver=liblinear, tol=0.00062; total time=   0.0s\n",
      "[CV] END C=7, class_weight=balanced, dual=False, fit_intercept=True, max_iter=92, multi_class=auto, penalty=l2, solver=liblinear, tol=0.00067; total time=   0.0s\n",
      "[CV] END C=7, class_weight=balanced, dual=False, fit_intercept=True, max_iter=92, multi_class=auto, penalty=l2, solver=liblinear, tol=0.00067; total time=   0.0s\n",
      "[CV] END C=7, class_weight=balanced, dual=False, fit_intercept=True, max_iter=92, multi_class=auto, penalty=l2, solver=liblinear, tol=0.00067; total time=   0.0s\n",
      "[CV] END C=7, class_weight=balanced, dual=False, fit_intercept=True, max_iter=92, multi_class=auto, penalty=l2, solver=liblinear, tol=0.0007; total time=   0.0s\n",
      "[CV] END C=7, class_weight=balanced, dual=False, fit_intercept=True, max_iter=92, multi_class=auto, penalty=l2, solver=liblinear, tol=0.0007; total time=   0.0s\n",
      "[CV] END C=7, class_weight=balanced, dual=False, fit_intercept=True, max_iter=92, multi_class=auto, penalty=l2, solver=liblinear, tol=0.0007; total time=   0.0s\n",
      "[CV] END C=7, class_weight=balanced, dual=False, fit_intercept=True, max_iter=92, multi_class=auto, penalty=l2, solver=liblinear, tol=0.0006; total time=   0.0s\n",
      "[CV] END C=7, class_weight=balanced, dual=False, fit_intercept=True, max_iter=92, multi_class=auto, penalty=l2, solver=liblinear, tol=0.0006; total time=   0.0s\n",
      "[CV] END C=7, class_weight=balanced, dual=False, fit_intercept=True, max_iter=92, multi_class=auto, penalty=l2, solver=liblinear, tol=0.0006; total time=   0.0s\n",
      "[CV] END C=7, class_weight=balanced, dual=False, fit_intercept=True, max_iter=92, multi_class=auto, penalty=l2, solver=liblinear, tol=0.0005; total time=   0.0s\n",
      "[CV] END C=7, class_weight=balanced, dual=False, fit_intercept=True, max_iter=92, multi_class=auto, penalty=l2, solver=liblinear, tol=0.0005; total time=   0.0s\n",
      "[CV] END C=7, class_weight=balanced, dual=False, fit_intercept=True, max_iter=92, multi_class=auto, penalty=l2, solver=liblinear, tol=0.0005; total time=   0.0s\n",
      "[CV] END C=7, class_weight=balanced, dual=False, fit_intercept=True, max_iter=92, multi_class=auto, penalty=l2, solver=liblinear, tol=0.00062; total time=   0.0s\n",
      "[CV] END C=7, class_weight=balanced, dual=False, fit_intercept=True, max_iter=92, multi_class=auto, penalty=l2, solver=liblinear, tol=0.00062; total time=   0.0s\n",
      "[CV] END C=7, class_weight=balanced, dual=False, fit_intercept=True, max_iter=92, multi_class=auto, penalty=l2, solver=liblinear, tol=0.00062; total time=   0.0s\n",
      "[CV] END C=7, class_weight=balanced, dual=False, fit_intercept=True, max_iter=95, multi_class=auto, penalty=l2, solver=liblinear, tol=0.00067; total time=   0.0s\n",
      "[CV] END C=7, class_weight=balanced, dual=False, fit_intercept=True, max_iter=95, multi_class=auto, penalty=l2, solver=liblinear, tol=0.00067; total time=   0.0s\n",
      "[CV] END C=7, class_weight=balanced, dual=False, fit_intercept=True, max_iter=95, multi_class=auto, penalty=l2, solver=liblinear, tol=0.00067; total time=   0.0s\n",
      "[CV] END C=7, class_weight=balanced, dual=False, fit_intercept=True, max_iter=95, multi_class=auto, penalty=l2, solver=liblinear, tol=0.0007; total time=   0.0s\n",
      "[CV] END C=7, class_weight=balanced, dual=False, fit_intercept=True, max_iter=95, multi_class=auto, penalty=l2, solver=liblinear, tol=0.0007; total time=   0.0s\n",
      "[CV] END C=7, class_weight=balanced, dual=False, fit_intercept=True, max_iter=95, multi_class=auto, penalty=l2, solver=liblinear, tol=0.0007; total time=   0.0s\n",
      "[CV] END C=7, class_weight=balanced, dual=False, fit_intercept=True, max_iter=95, multi_class=auto, penalty=l2, solver=liblinear, tol=0.0006; total time=   0.0s\n",
      "[CV] END C=7, class_weight=balanced, dual=False, fit_intercept=True, max_iter=95, multi_class=auto, penalty=l2, solver=liblinear, tol=0.0006; total time=   0.0s\n",
      "[CV] END C=7, class_weight=balanced, dual=False, fit_intercept=True, max_iter=95, multi_class=auto, penalty=l2, solver=liblinear, tol=0.0006; total time=   0.0s\n",
      "[CV] END C=7, class_weight=balanced, dual=False, fit_intercept=True, max_iter=95, multi_class=auto, penalty=l2, solver=liblinear, tol=0.0005; total time=   0.0s\n",
      "[CV] END C=7, class_weight=balanced, dual=False, fit_intercept=True, max_iter=95, multi_class=auto, penalty=l2, solver=liblinear, tol=0.0005; total time=   0.0s\n",
      "[CV] END C=7, class_weight=balanced, dual=False, fit_intercept=True, max_iter=95, multi_class=auto, penalty=l2, solver=liblinear, tol=0.0005; total time=   0.0s\n",
      "[CV] END C=7, class_weight=balanced, dual=False, fit_intercept=True, max_iter=95, multi_class=auto, penalty=l2, solver=liblinear, tol=0.00062; total time=   0.0s\n",
      "[CV] END C=7, class_weight=balanced, dual=False, fit_intercept=True, max_iter=95, multi_class=auto, penalty=l2, solver=liblinear, tol=0.00062; total time=   0.0s\n",
      "[CV] END C=7, class_weight=balanced, dual=False, fit_intercept=True, max_iter=95, multi_class=auto, penalty=l2, solver=liblinear, tol=0.00062; total time=   0.0s\n",
      "[CV] END C=7, class_weight=balanced, dual=False, fit_intercept=True, max_iter=96, multi_class=auto, penalty=l2, solver=liblinear, tol=0.00067; total time=   0.0s\n",
      "[CV] END C=7, class_weight=balanced, dual=False, fit_intercept=True, max_iter=96, multi_class=auto, penalty=l2, solver=liblinear, tol=0.00067; total time=   0.0s\n",
      "[CV] END C=7, class_weight=balanced, dual=False, fit_intercept=True, max_iter=96, multi_class=auto, penalty=l2, solver=liblinear, tol=0.00067; total time=   0.0s\n",
      "[CV] END C=7, class_weight=balanced, dual=False, fit_intercept=True, max_iter=96, multi_class=auto, penalty=l2, solver=liblinear, tol=0.0007; total time=   0.0s\n",
      "[CV] END C=7, class_weight=balanced, dual=False, fit_intercept=True, max_iter=96, multi_class=auto, penalty=l2, solver=liblinear, tol=0.0007; total time=   0.0s\n",
      "[CV] END C=7, class_weight=balanced, dual=False, fit_intercept=True, max_iter=96, multi_class=auto, penalty=l2, solver=liblinear, tol=0.0007; total time=   0.0s\n",
      "[CV] END C=7, class_weight=balanced, dual=False, fit_intercept=True, max_iter=96, multi_class=auto, penalty=l2, solver=liblinear, tol=0.0006; total time=   0.0s\n",
      "[CV] END C=7, class_weight=balanced, dual=False, fit_intercept=True, max_iter=96, multi_class=auto, penalty=l2, solver=liblinear, tol=0.0006; total time=   0.0s\n",
      "[CV] END C=7, class_weight=balanced, dual=False, fit_intercept=True, max_iter=96, multi_class=auto, penalty=l2, solver=liblinear, tol=0.0006; total time=   0.0s\n",
      "[CV] END C=7, class_weight=balanced, dual=False, fit_intercept=True, max_iter=96, multi_class=auto, penalty=l2, solver=liblinear, tol=0.0005; total time=   0.0s\n",
      "[CV] END C=7, class_weight=balanced, dual=False, fit_intercept=True, max_iter=96, multi_class=auto, penalty=l2, solver=liblinear, tol=0.0005; total time=   0.0s\n",
      "[CV] END C=7, class_weight=balanced, dual=False, fit_intercept=True, max_iter=96, multi_class=auto, penalty=l2, solver=liblinear, tol=0.0005; total time=   0.0s\n",
      "[CV] END C=7, class_weight=balanced, dual=False, fit_intercept=True, max_iter=96, multi_class=auto, penalty=l2, solver=liblinear, tol=0.00062; total time=   0.0s\n",
      "[CV] END C=7, class_weight=balanced, dual=False, fit_intercept=True, max_iter=96, multi_class=auto, penalty=l2, solver=liblinear, tol=0.00062; total time=   0.0s\n",
      "[CV] END C=7, class_weight=balanced, dual=False, fit_intercept=True, max_iter=96, multi_class=auto, penalty=l2, solver=liblinear, tol=0.00062; total time=   0.0s\n",
      "[CV] END C=7, class_weight=balanced, dual=False, fit_intercept=True, max_iter=91, multi_class=auto, penalty=l2, solver=liblinear, tol=0.00067; total time=   0.0s\n",
      "[CV] END C=7, class_weight=balanced, dual=False, fit_intercept=True, max_iter=91, multi_class=auto, penalty=l2, solver=liblinear, tol=0.00067; total time=   0.0s\n",
      "[CV] END C=7, class_weight=balanced, dual=False, fit_intercept=True, max_iter=91, multi_class=auto, penalty=l2, solver=liblinear, tol=0.00067; total time=   0.0s\n",
      "[CV] END C=7, class_weight=balanced, dual=False, fit_intercept=True, max_iter=91, multi_class=auto, penalty=l2, solver=liblinear, tol=0.0007; total time=   0.0s\n"
     ]
    },
    {
     "name": "stdout",
     "output_type": "stream",
     "text": [
      "[CV] END C=7, class_weight=balanced, dual=False, fit_intercept=True, max_iter=91, multi_class=auto, penalty=l2, solver=liblinear, tol=0.0007; total time=   0.0s\n",
      "[CV] END C=7, class_weight=balanced, dual=False, fit_intercept=True, max_iter=91, multi_class=auto, penalty=l2, solver=liblinear, tol=0.0007; total time=   0.0s\n",
      "[CV] END C=7, class_weight=balanced, dual=False, fit_intercept=True, max_iter=91, multi_class=auto, penalty=l2, solver=liblinear, tol=0.0006; total time=   0.0s\n",
      "[CV] END C=7, class_weight=balanced, dual=False, fit_intercept=True, max_iter=91, multi_class=auto, penalty=l2, solver=liblinear, tol=0.0006; total time=   0.0s\n",
      "[CV] END C=7, class_weight=balanced, dual=False, fit_intercept=True, max_iter=91, multi_class=auto, penalty=l2, solver=liblinear, tol=0.0006; total time=   0.0s\n",
      "[CV] END C=7, class_weight=balanced, dual=False, fit_intercept=True, max_iter=91, multi_class=auto, penalty=l2, solver=liblinear, tol=0.0005; total time=   0.0s\n",
      "[CV] END C=7, class_weight=balanced, dual=False, fit_intercept=True, max_iter=91, multi_class=auto, penalty=l2, solver=liblinear, tol=0.0005; total time=   0.0s\n",
      "[CV] END C=7, class_weight=balanced, dual=False, fit_intercept=True, max_iter=91, multi_class=auto, penalty=l2, solver=liblinear, tol=0.0005; total time=   0.0s\n",
      "[CV] END C=7, class_weight=balanced, dual=False, fit_intercept=True, max_iter=91, multi_class=auto, penalty=l2, solver=liblinear, tol=0.00062; total time=   0.0s\n",
      "[CV] END C=7, class_weight=balanced, dual=False, fit_intercept=True, max_iter=91, multi_class=auto, penalty=l2, solver=liblinear, tol=0.00062; total time=   0.0s\n",
      "[CV] END C=7, class_weight=balanced, dual=False, fit_intercept=True, max_iter=91, multi_class=auto, penalty=l2, solver=liblinear, tol=0.00062; total time=   0.0s\n",
      "[CV] END C=7, class_weight=balanced, dual=False, fit_intercept=True, max_iter=98, multi_class=auto, penalty=l2, solver=liblinear, tol=0.00067; total time=   0.0s\n",
      "[CV] END C=7, class_weight=balanced, dual=False, fit_intercept=True, max_iter=98, multi_class=auto, penalty=l2, solver=liblinear, tol=0.00067; total time=   0.0s\n",
      "[CV] END C=7, class_weight=balanced, dual=False, fit_intercept=True, max_iter=98, multi_class=auto, penalty=l2, solver=liblinear, tol=0.00067; total time=   0.0s\n",
      "[CV] END C=7, class_weight=balanced, dual=False, fit_intercept=True, max_iter=98, multi_class=auto, penalty=l2, solver=liblinear, tol=0.0007; total time=   0.0s\n",
      "[CV] END C=7, class_weight=balanced, dual=False, fit_intercept=True, max_iter=98, multi_class=auto, penalty=l2, solver=liblinear, tol=0.0007; total time=   0.0s\n",
      "[CV] END C=7, class_weight=balanced, dual=False, fit_intercept=True, max_iter=98, multi_class=auto, penalty=l2, solver=liblinear, tol=0.0007; total time=   0.0s\n",
      "[CV] END C=7, class_weight=balanced, dual=False, fit_intercept=True, max_iter=98, multi_class=auto, penalty=l2, solver=liblinear, tol=0.0006; total time=   0.0s\n",
      "[CV] END C=7, class_weight=balanced, dual=False, fit_intercept=True, max_iter=98, multi_class=auto, penalty=l2, solver=liblinear, tol=0.0006; total time=   0.0s\n",
      "[CV] END C=7, class_weight=balanced, dual=False, fit_intercept=True, max_iter=98, multi_class=auto, penalty=l2, solver=liblinear, tol=0.0006; total time=   0.0s\n",
      "[CV] END C=7, class_weight=balanced, dual=False, fit_intercept=True, max_iter=98, multi_class=auto, penalty=l2, solver=liblinear, tol=0.0005; total time=   0.0s\n",
      "[CV] END C=7, class_weight=balanced, dual=False, fit_intercept=True, max_iter=98, multi_class=auto, penalty=l2, solver=liblinear, tol=0.0005; total time=   0.0s\n",
      "[CV] END C=7, class_weight=balanced, dual=False, fit_intercept=True, max_iter=98, multi_class=auto, penalty=l2, solver=liblinear, tol=0.0005; total time=   0.0s\n",
      "[CV] END C=7, class_weight=balanced, dual=False, fit_intercept=True, max_iter=98, multi_class=auto, penalty=l2, solver=liblinear, tol=0.00062; total time=   0.0s\n",
      "[CV] END C=7, class_weight=balanced, dual=False, fit_intercept=True, max_iter=98, multi_class=auto, penalty=l2, solver=liblinear, tol=0.00062; total time=   0.0s\n",
      "[CV] END C=7, class_weight=balanced, dual=False, fit_intercept=True, max_iter=98, multi_class=auto, penalty=l2, solver=liblinear, tol=0.00062; total time=   0.0s\n",
      "[CV] END C=7, class_weight=balanced, dual=False, fit_intercept=True, max_iter=97, multi_class=auto, penalty=l2, solver=liblinear, tol=0.00067; total time=   0.0s\n",
      "[CV] END C=7, class_weight=balanced, dual=False, fit_intercept=True, max_iter=97, multi_class=auto, penalty=l2, solver=liblinear, tol=0.00067; total time=   0.0s\n",
      "[CV] END C=7, class_weight=balanced, dual=False, fit_intercept=True, max_iter=97, multi_class=auto, penalty=l2, solver=liblinear, tol=0.00067; total time=   0.0s\n",
      "[CV] END C=7, class_weight=balanced, dual=False, fit_intercept=True, max_iter=97, multi_class=auto, penalty=l2, solver=liblinear, tol=0.0007; total time=   0.0s\n",
      "[CV] END C=7, class_weight=balanced, dual=False, fit_intercept=True, max_iter=97, multi_class=auto, penalty=l2, solver=liblinear, tol=0.0007; total time=   0.0s\n",
      "[CV] END C=7, class_weight=balanced, dual=False, fit_intercept=True, max_iter=97, multi_class=auto, penalty=l2, solver=liblinear, tol=0.0007; total time=   0.0s\n",
      "[CV] END C=7, class_weight=balanced, dual=False, fit_intercept=True, max_iter=97, multi_class=auto, penalty=l2, solver=liblinear, tol=0.0006; total time=   0.0s\n",
      "[CV] END C=7, class_weight=balanced, dual=False, fit_intercept=True, max_iter=97, multi_class=auto, penalty=l2, solver=liblinear, tol=0.0006; total time=   0.0s\n",
      "[CV] END C=7, class_weight=balanced, dual=False, fit_intercept=True, max_iter=97, multi_class=auto, penalty=l2, solver=liblinear, tol=0.0006; total time=   0.0s\n",
      "[CV] END C=7, class_weight=balanced, dual=False, fit_intercept=True, max_iter=97, multi_class=auto, penalty=l2, solver=liblinear, tol=0.0005; total time=   0.0s\n",
      "[CV] END C=7, class_weight=balanced, dual=False, fit_intercept=True, max_iter=97, multi_class=auto, penalty=l2, solver=liblinear, tol=0.0005; total time=   0.0s\n",
      "[CV] END C=7, class_weight=balanced, dual=False, fit_intercept=True, max_iter=97, multi_class=auto, penalty=l2, solver=liblinear, tol=0.0005; total time=   0.0s\n",
      "[CV] END C=7, class_weight=balanced, dual=False, fit_intercept=True, max_iter=97, multi_class=auto, penalty=l2, solver=liblinear, tol=0.00062; total time=   0.0s\n",
      "[CV] END C=7, class_weight=balanced, dual=False, fit_intercept=True, max_iter=97, multi_class=auto, penalty=l2, solver=liblinear, tol=0.00062; total time=   0.0s\n",
      "[CV] END C=7, class_weight=balanced, dual=False, fit_intercept=True, max_iter=97, multi_class=auto, penalty=l2, solver=liblinear, tol=0.00062; total time=   0.0s\n",
      "[CV] END C=6, class_weight=balanced, dual=False, fit_intercept=True, max_iter=94, multi_class=auto, penalty=l2, solver=liblinear, tol=0.00067; total time=   0.0s\n",
      "[CV] END C=6, class_weight=balanced, dual=False, fit_intercept=True, max_iter=94, multi_class=auto, penalty=l2, solver=liblinear, tol=0.00067; total time=   0.0s\n",
      "[CV] END C=6, class_weight=balanced, dual=False, fit_intercept=True, max_iter=94, multi_class=auto, penalty=l2, solver=liblinear, tol=0.00067; total time=   0.0s\n",
      "[CV] END C=6, class_weight=balanced, dual=False, fit_intercept=True, max_iter=94, multi_class=auto, penalty=l2, solver=liblinear, tol=0.0007; total time=   0.0s\n",
      "[CV] END C=6, class_weight=balanced, dual=False, fit_intercept=True, max_iter=94, multi_class=auto, penalty=l2, solver=liblinear, tol=0.0007; total time=   0.0s\n",
      "[CV] END C=6, class_weight=balanced, dual=False, fit_intercept=True, max_iter=94, multi_class=auto, penalty=l2, solver=liblinear, tol=0.0007; total time=   0.0s\n",
      "[CV] END C=6, class_weight=balanced, dual=False, fit_intercept=True, max_iter=94, multi_class=auto, penalty=l2, solver=liblinear, tol=0.0006; total time=   0.0s\n",
      "[CV] END C=6, class_weight=balanced, dual=False, fit_intercept=True, max_iter=94, multi_class=auto, penalty=l2, solver=liblinear, tol=0.0006; total time=   0.0s\n",
      "[CV] END C=6, class_weight=balanced, dual=False, fit_intercept=True, max_iter=94, multi_class=auto, penalty=l2, solver=liblinear, tol=0.0006; total time=   0.0s\n",
      "[CV] END C=6, class_weight=balanced, dual=False, fit_intercept=True, max_iter=94, multi_class=auto, penalty=l2, solver=liblinear, tol=0.0005; total time=   0.0s\n",
      "[CV] END C=6, class_weight=balanced, dual=False, fit_intercept=True, max_iter=94, multi_class=auto, penalty=l2, solver=liblinear, tol=0.0005; total time=   0.0s\n",
      "[CV] END C=6, class_weight=balanced, dual=False, fit_intercept=True, max_iter=94, multi_class=auto, penalty=l2, solver=liblinear, tol=0.0005; total time=   0.0s\n"
     ]
    },
    {
     "name": "stdout",
     "output_type": "stream",
     "text": [
      "[CV] END C=6, class_weight=balanced, dual=False, fit_intercept=True, max_iter=94, multi_class=auto, penalty=l2, solver=liblinear, tol=0.00062; total time=   0.0s\n",
      "[CV] END C=6, class_weight=balanced, dual=False, fit_intercept=True, max_iter=94, multi_class=auto, penalty=l2, solver=liblinear, tol=0.00062; total time=   0.0s\n",
      "[CV] END C=6, class_weight=balanced, dual=False, fit_intercept=True, max_iter=94, multi_class=auto, penalty=l2, solver=liblinear, tol=0.00062; total time=   0.0s\n",
      "[CV] END C=6, class_weight=balanced, dual=False, fit_intercept=True, max_iter=93, multi_class=auto, penalty=l2, solver=liblinear, tol=0.00067; total time=   0.0s\n",
      "[CV] END C=6, class_weight=balanced, dual=False, fit_intercept=True, max_iter=93, multi_class=auto, penalty=l2, solver=liblinear, tol=0.00067; total time=   0.0s\n",
      "[CV] END C=6, class_weight=balanced, dual=False, fit_intercept=True, max_iter=93, multi_class=auto, penalty=l2, solver=liblinear, tol=0.00067; total time=   0.0s\n",
      "[CV] END C=6, class_weight=balanced, dual=False, fit_intercept=True, max_iter=93, multi_class=auto, penalty=l2, solver=liblinear, tol=0.0007; total time=   0.0s\n",
      "[CV] END C=6, class_weight=balanced, dual=False, fit_intercept=True, max_iter=93, multi_class=auto, penalty=l2, solver=liblinear, tol=0.0007; total time=   0.0s\n",
      "[CV] END C=6, class_weight=balanced, dual=False, fit_intercept=True, max_iter=93, multi_class=auto, penalty=l2, solver=liblinear, tol=0.0007; total time=   0.0s\n",
      "[CV] END C=6, class_weight=balanced, dual=False, fit_intercept=True, max_iter=93, multi_class=auto, penalty=l2, solver=liblinear, tol=0.0006; total time=   0.0s\n",
      "[CV] END C=6, class_weight=balanced, dual=False, fit_intercept=True, max_iter=93, multi_class=auto, penalty=l2, solver=liblinear, tol=0.0006; total time=   0.0s\n",
      "[CV] END C=6, class_weight=balanced, dual=False, fit_intercept=True, max_iter=93, multi_class=auto, penalty=l2, solver=liblinear, tol=0.0006; total time=   0.0s\n",
      "[CV] END C=6, class_weight=balanced, dual=False, fit_intercept=True, max_iter=93, multi_class=auto, penalty=l2, solver=liblinear, tol=0.0005; total time=   0.0s\n",
      "[CV] END C=6, class_weight=balanced, dual=False, fit_intercept=True, max_iter=93, multi_class=auto, penalty=l2, solver=liblinear, tol=0.0005; total time=   0.0s\n",
      "[CV] END C=6, class_weight=balanced, dual=False, fit_intercept=True, max_iter=93, multi_class=auto, penalty=l2, solver=liblinear, tol=0.0005; total time=   0.0s\n",
      "[CV] END C=6, class_weight=balanced, dual=False, fit_intercept=True, max_iter=93, multi_class=auto, penalty=l2, solver=liblinear, tol=0.00062; total time=   0.0s\n",
      "[CV] END C=6, class_weight=balanced, dual=False, fit_intercept=True, max_iter=93, multi_class=auto, penalty=l2, solver=liblinear, tol=0.00062; total time=   0.0s\n",
      "[CV] END C=6, class_weight=balanced, dual=False, fit_intercept=True, max_iter=93, multi_class=auto, penalty=l2, solver=liblinear, tol=0.00062; total time=   0.0s\n",
      "[CV] END C=6, class_weight=balanced, dual=False, fit_intercept=True, max_iter=92, multi_class=auto, penalty=l2, solver=liblinear, tol=0.00067; total time=   0.0s\n",
      "[CV] END C=6, class_weight=balanced, dual=False, fit_intercept=True, max_iter=92, multi_class=auto, penalty=l2, solver=liblinear, tol=0.00067; total time=   0.0s\n",
      "[CV] END C=6, class_weight=balanced, dual=False, fit_intercept=True, max_iter=92, multi_class=auto, penalty=l2, solver=liblinear, tol=0.00067; total time=   0.0s\n",
      "[CV] END C=6, class_weight=balanced, dual=False, fit_intercept=True, max_iter=92, multi_class=auto, penalty=l2, solver=liblinear, tol=0.0007; total time=   0.0s\n",
      "[CV] END C=6, class_weight=balanced, dual=False, fit_intercept=True, max_iter=92, multi_class=auto, penalty=l2, solver=liblinear, tol=0.0007; total time=   0.0s\n",
      "[CV] END C=6, class_weight=balanced, dual=False, fit_intercept=True, max_iter=92, multi_class=auto, penalty=l2, solver=liblinear, tol=0.0007; total time=   0.0s\n",
      "[CV] END C=6, class_weight=balanced, dual=False, fit_intercept=True, max_iter=92, multi_class=auto, penalty=l2, solver=liblinear, tol=0.0006; total time=   0.0s\n",
      "[CV] END C=6, class_weight=balanced, dual=False, fit_intercept=True, max_iter=92, multi_class=auto, penalty=l2, solver=liblinear, tol=0.0006; total time=   0.0s\n",
      "[CV] END C=6, class_weight=balanced, dual=False, fit_intercept=True, max_iter=92, multi_class=auto, penalty=l2, solver=liblinear, tol=0.0006; total time=   0.0s\n",
      "[CV] END C=6, class_weight=balanced, dual=False, fit_intercept=True, max_iter=92, multi_class=auto, penalty=l2, solver=liblinear, tol=0.0005; total time=   0.0s\n",
      "[CV] END C=6, class_weight=balanced, dual=False, fit_intercept=True, max_iter=92, multi_class=auto, penalty=l2, solver=liblinear, tol=0.0005; total time=   0.0s\n",
      "[CV] END C=6, class_weight=balanced, dual=False, fit_intercept=True, max_iter=92, multi_class=auto, penalty=l2, solver=liblinear, tol=0.0005; total time=   0.0s\n",
      "[CV] END C=6, class_weight=balanced, dual=False, fit_intercept=True, max_iter=92, multi_class=auto, penalty=l2, solver=liblinear, tol=0.00062; total time=   0.0s\n",
      "[CV] END C=6, class_weight=balanced, dual=False, fit_intercept=True, max_iter=92, multi_class=auto, penalty=l2, solver=liblinear, tol=0.00062; total time=   0.0s\n",
      "[CV] END C=6, class_weight=balanced, dual=False, fit_intercept=True, max_iter=92, multi_class=auto, penalty=l2, solver=liblinear, tol=0.00062; total time=   0.0s\n",
      "[CV] END C=6, class_weight=balanced, dual=False, fit_intercept=True, max_iter=95, multi_class=auto, penalty=l2, solver=liblinear, tol=0.00067; total time=   0.0s\n",
      "[CV] END C=6, class_weight=balanced, dual=False, fit_intercept=True, max_iter=95, multi_class=auto, penalty=l2, solver=liblinear, tol=0.00067; total time=   0.0s\n",
      "[CV] END C=6, class_weight=balanced, dual=False, fit_intercept=True, max_iter=95, multi_class=auto, penalty=l2, solver=liblinear, tol=0.00067; total time=   0.0s\n",
      "[CV] END C=6, class_weight=balanced, dual=False, fit_intercept=True, max_iter=95, multi_class=auto, penalty=l2, solver=liblinear, tol=0.0007; total time=   0.0s\n",
      "[CV] END C=6, class_weight=balanced, dual=False, fit_intercept=True, max_iter=95, multi_class=auto, penalty=l2, solver=liblinear, tol=0.0007; total time=   0.0s\n",
      "[CV] END C=6, class_weight=balanced, dual=False, fit_intercept=True, max_iter=95, multi_class=auto, penalty=l2, solver=liblinear, tol=0.0007; total time=   0.0s\n",
      "[CV] END C=6, class_weight=balanced, dual=False, fit_intercept=True, max_iter=95, multi_class=auto, penalty=l2, solver=liblinear, tol=0.0006; total time=   0.0s\n",
      "[CV] END C=6, class_weight=balanced, dual=False, fit_intercept=True, max_iter=95, multi_class=auto, penalty=l2, solver=liblinear, tol=0.0006; total time=   0.0s\n",
      "[CV] END C=6, class_weight=balanced, dual=False, fit_intercept=True, max_iter=95, multi_class=auto, penalty=l2, solver=liblinear, tol=0.0006; total time=   0.0s\n",
      "[CV] END C=6, class_weight=balanced, dual=False, fit_intercept=True, max_iter=95, multi_class=auto, penalty=l2, solver=liblinear, tol=0.0005; total time=   0.0s\n",
      "[CV] END C=6, class_weight=balanced, dual=False, fit_intercept=True, max_iter=95, multi_class=auto, penalty=l2, solver=liblinear, tol=0.0005; total time=   0.0s\n",
      "[CV] END C=6, class_weight=balanced, dual=False, fit_intercept=True, max_iter=95, multi_class=auto, penalty=l2, solver=liblinear, tol=0.0005; total time=   0.0s\n",
      "[CV] END C=6, class_weight=balanced, dual=False, fit_intercept=True, max_iter=95, multi_class=auto, penalty=l2, solver=liblinear, tol=0.00062; total time=   0.0s\n",
      "[CV] END C=6, class_weight=balanced, dual=False, fit_intercept=True, max_iter=95, multi_class=auto, penalty=l2, solver=liblinear, tol=0.00062; total time=   0.0s\n",
      "[CV] END C=6, class_weight=balanced, dual=False, fit_intercept=True, max_iter=95, multi_class=auto, penalty=l2, solver=liblinear, tol=0.00062; total time=   0.0s\n",
      "[CV] END C=6, class_weight=balanced, dual=False, fit_intercept=True, max_iter=96, multi_class=auto, penalty=l2, solver=liblinear, tol=0.00067; total time=   0.0s\n",
      "[CV] END C=6, class_weight=balanced, dual=False, fit_intercept=True, max_iter=96, multi_class=auto, penalty=l2, solver=liblinear, tol=0.00067; total time=   0.0s\n",
      "[CV] END C=6, class_weight=balanced, dual=False, fit_intercept=True, max_iter=96, multi_class=auto, penalty=l2, solver=liblinear, tol=0.00067; total time=   0.0s\n",
      "[CV] END C=6, class_weight=balanced, dual=False, fit_intercept=True, max_iter=96, multi_class=auto, penalty=l2, solver=liblinear, tol=0.0007; total time=   0.0s\n",
      "[CV] END C=6, class_weight=balanced, dual=False, fit_intercept=True, max_iter=96, multi_class=auto, penalty=l2, solver=liblinear, tol=0.0007; total time=   0.0s\n",
      "[CV] END C=6, class_weight=balanced, dual=False, fit_intercept=True, max_iter=96, multi_class=auto, penalty=l2, solver=liblinear, tol=0.0007; total time=   0.0s\n",
      "[CV] END C=6, class_weight=balanced, dual=False, fit_intercept=True, max_iter=96, multi_class=auto, penalty=l2, solver=liblinear, tol=0.0006; total time=   0.0s\n",
      "[CV] END C=6, class_weight=balanced, dual=False, fit_intercept=True, max_iter=96, multi_class=auto, penalty=l2, solver=liblinear, tol=0.0006; total time=   0.0s\n",
      "[CV] END C=6, class_weight=balanced, dual=False, fit_intercept=True, max_iter=96, multi_class=auto, penalty=l2, solver=liblinear, tol=0.0006; total time=   0.0s\n",
      "[CV] END C=6, class_weight=balanced, dual=False, fit_intercept=True, max_iter=96, multi_class=auto, penalty=l2, solver=liblinear, tol=0.0005; total time=   0.0s\n",
      "[CV] END C=6, class_weight=balanced, dual=False, fit_intercept=True, max_iter=96, multi_class=auto, penalty=l2, solver=liblinear, tol=0.0005; total time=   0.0s\n",
      "[CV] END C=6, class_weight=balanced, dual=False, fit_intercept=True, max_iter=96, multi_class=auto, penalty=l2, solver=liblinear, tol=0.0005; total time=   0.0s\n",
      "[CV] END C=6, class_weight=balanced, dual=False, fit_intercept=True, max_iter=96, multi_class=auto, penalty=l2, solver=liblinear, tol=0.00062; total time=   0.0s\n"
     ]
    },
    {
     "name": "stdout",
     "output_type": "stream",
     "text": [
      "[CV] END C=6, class_weight=balanced, dual=False, fit_intercept=True, max_iter=96, multi_class=auto, penalty=l2, solver=liblinear, tol=0.00062; total time=   0.0s\n",
      "[CV] END C=6, class_weight=balanced, dual=False, fit_intercept=True, max_iter=96, multi_class=auto, penalty=l2, solver=liblinear, tol=0.00062; total time=   0.0s\n",
      "[CV] END C=6, class_weight=balanced, dual=False, fit_intercept=True, max_iter=91, multi_class=auto, penalty=l2, solver=liblinear, tol=0.00067; total time=   0.0s\n",
      "[CV] END C=6, class_weight=balanced, dual=False, fit_intercept=True, max_iter=91, multi_class=auto, penalty=l2, solver=liblinear, tol=0.00067; total time=   0.0s\n",
      "[CV] END C=6, class_weight=balanced, dual=False, fit_intercept=True, max_iter=91, multi_class=auto, penalty=l2, solver=liblinear, tol=0.00067; total time=   0.0s\n",
      "[CV] END C=6, class_weight=balanced, dual=False, fit_intercept=True, max_iter=91, multi_class=auto, penalty=l2, solver=liblinear, tol=0.0007; total time=   0.0s\n",
      "[CV] END C=6, class_weight=balanced, dual=False, fit_intercept=True, max_iter=91, multi_class=auto, penalty=l2, solver=liblinear, tol=0.0007; total time=   0.0s\n",
      "[CV] END C=6, class_weight=balanced, dual=False, fit_intercept=True, max_iter=91, multi_class=auto, penalty=l2, solver=liblinear, tol=0.0007; total time=   0.0s\n",
      "[CV] END C=6, class_weight=balanced, dual=False, fit_intercept=True, max_iter=91, multi_class=auto, penalty=l2, solver=liblinear, tol=0.0006; total time=   0.0s\n",
      "[CV] END C=6, class_weight=balanced, dual=False, fit_intercept=True, max_iter=91, multi_class=auto, penalty=l2, solver=liblinear, tol=0.0006; total time=   0.0s\n",
      "[CV] END C=6, class_weight=balanced, dual=False, fit_intercept=True, max_iter=91, multi_class=auto, penalty=l2, solver=liblinear, tol=0.0006; total time=   0.0s\n",
      "[CV] END C=6, class_weight=balanced, dual=False, fit_intercept=True, max_iter=91, multi_class=auto, penalty=l2, solver=liblinear, tol=0.0005; total time=   0.0s\n",
      "[CV] END C=6, class_weight=balanced, dual=False, fit_intercept=True, max_iter=91, multi_class=auto, penalty=l2, solver=liblinear, tol=0.0005; total time=   0.0s\n",
      "[CV] END C=6, class_weight=balanced, dual=False, fit_intercept=True, max_iter=91, multi_class=auto, penalty=l2, solver=liblinear, tol=0.0005; total time=   0.0s\n",
      "[CV] END C=6, class_weight=balanced, dual=False, fit_intercept=True, max_iter=91, multi_class=auto, penalty=l2, solver=liblinear, tol=0.00062; total time=   0.0s\n",
      "[CV] END C=6, class_weight=balanced, dual=False, fit_intercept=True, max_iter=91, multi_class=auto, penalty=l2, solver=liblinear, tol=0.00062; total time=   0.0s\n",
      "[CV] END C=6, class_weight=balanced, dual=False, fit_intercept=True, max_iter=91, multi_class=auto, penalty=l2, solver=liblinear, tol=0.00062; total time=   0.0s\n",
      "[CV] END C=6, class_weight=balanced, dual=False, fit_intercept=True, max_iter=98, multi_class=auto, penalty=l2, solver=liblinear, tol=0.00067; total time=   0.0s\n",
      "[CV] END C=6, class_weight=balanced, dual=False, fit_intercept=True, max_iter=98, multi_class=auto, penalty=l2, solver=liblinear, tol=0.00067; total time=   0.0s\n",
      "[CV] END C=6, class_weight=balanced, dual=False, fit_intercept=True, max_iter=98, multi_class=auto, penalty=l2, solver=liblinear, tol=0.00067; total time=   0.0s\n",
      "[CV] END C=6, class_weight=balanced, dual=False, fit_intercept=True, max_iter=98, multi_class=auto, penalty=l2, solver=liblinear, tol=0.0007; total time=   0.0s\n",
      "[CV] END C=6, class_weight=balanced, dual=False, fit_intercept=True, max_iter=98, multi_class=auto, penalty=l2, solver=liblinear, tol=0.0007; total time=   0.0s\n",
      "[CV] END C=6, class_weight=balanced, dual=False, fit_intercept=True, max_iter=98, multi_class=auto, penalty=l2, solver=liblinear, tol=0.0007; total time=   0.0s\n",
      "[CV] END C=6, class_weight=balanced, dual=False, fit_intercept=True, max_iter=98, multi_class=auto, penalty=l2, solver=liblinear, tol=0.0006; total time=   0.0s\n",
      "[CV] END C=6, class_weight=balanced, dual=False, fit_intercept=True, max_iter=98, multi_class=auto, penalty=l2, solver=liblinear, tol=0.0006; total time=   0.0s\n",
      "[CV] END C=6, class_weight=balanced, dual=False, fit_intercept=True, max_iter=98, multi_class=auto, penalty=l2, solver=liblinear, tol=0.0006; total time=   0.0s\n",
      "[CV] END C=6, class_weight=balanced, dual=False, fit_intercept=True, max_iter=98, multi_class=auto, penalty=l2, solver=liblinear, tol=0.0005; total time=   0.0s\n",
      "[CV] END C=6, class_weight=balanced, dual=False, fit_intercept=True, max_iter=98, multi_class=auto, penalty=l2, solver=liblinear, tol=0.0005; total time=   0.0s\n",
      "[CV] END C=6, class_weight=balanced, dual=False, fit_intercept=True, max_iter=98, multi_class=auto, penalty=l2, solver=liblinear, tol=0.0005; total time=   0.0s\n",
      "[CV] END C=6, class_weight=balanced, dual=False, fit_intercept=True, max_iter=98, multi_class=auto, penalty=l2, solver=liblinear, tol=0.00062; total time=   0.0s\n",
      "[CV] END C=6, class_weight=balanced, dual=False, fit_intercept=True, max_iter=98, multi_class=auto, penalty=l2, solver=liblinear, tol=0.00062; total time=   0.0s\n",
      "[CV] END C=6, class_weight=balanced, dual=False, fit_intercept=True, max_iter=98, multi_class=auto, penalty=l2, solver=liblinear, tol=0.00062; total time=   0.0s\n",
      "[CV] END C=6, class_weight=balanced, dual=False, fit_intercept=True, max_iter=97, multi_class=auto, penalty=l2, solver=liblinear, tol=0.00067; total time=   0.0s\n",
      "[CV] END C=6, class_weight=balanced, dual=False, fit_intercept=True, max_iter=97, multi_class=auto, penalty=l2, solver=liblinear, tol=0.00067; total time=   0.0s\n",
      "[CV] END C=6, class_weight=balanced, dual=False, fit_intercept=True, max_iter=97, multi_class=auto, penalty=l2, solver=liblinear, tol=0.00067; total time=   0.0s\n",
      "[CV] END C=6, class_weight=balanced, dual=False, fit_intercept=True, max_iter=97, multi_class=auto, penalty=l2, solver=liblinear, tol=0.0007; total time=   0.0s\n",
      "[CV] END C=6, class_weight=balanced, dual=False, fit_intercept=True, max_iter=97, multi_class=auto, penalty=l2, solver=liblinear, tol=0.0007; total time=   0.0s\n",
      "[CV] END C=6, class_weight=balanced, dual=False, fit_intercept=True, max_iter=97, multi_class=auto, penalty=l2, solver=liblinear, tol=0.0007; total time=   0.0s\n",
      "[CV] END C=6, class_weight=balanced, dual=False, fit_intercept=True, max_iter=97, multi_class=auto, penalty=l2, solver=liblinear, tol=0.0006; total time=   0.0s\n",
      "[CV] END C=6, class_weight=balanced, dual=False, fit_intercept=True, max_iter=97, multi_class=auto, penalty=l2, solver=liblinear, tol=0.0006; total time=   0.0s\n",
      "[CV] END C=6, class_weight=balanced, dual=False, fit_intercept=True, max_iter=97, multi_class=auto, penalty=l2, solver=liblinear, tol=0.0006; total time=   0.0s\n",
      "[CV] END C=6, class_weight=balanced, dual=False, fit_intercept=True, max_iter=97, multi_class=auto, penalty=l2, solver=liblinear, tol=0.0005; total time=   0.0s\n",
      "[CV] END C=6, class_weight=balanced, dual=False, fit_intercept=True, max_iter=97, multi_class=auto, penalty=l2, solver=liblinear, tol=0.0005; total time=   0.0s\n",
      "[CV] END C=6, class_weight=balanced, dual=False, fit_intercept=True, max_iter=97, multi_class=auto, penalty=l2, solver=liblinear, tol=0.0005; total time=   0.0s\n",
      "[CV] END C=6, class_weight=balanced, dual=False, fit_intercept=True, max_iter=97, multi_class=auto, penalty=l2, solver=liblinear, tol=0.00062; total time=   0.0s\n",
      "[CV] END C=6, class_weight=balanced, dual=False, fit_intercept=True, max_iter=97, multi_class=auto, penalty=l2, solver=liblinear, tol=0.00062; total time=   0.0s\n",
      "[CV] END C=6, class_weight=balanced, dual=False, fit_intercept=True, max_iter=97, multi_class=auto, penalty=l2, solver=liblinear, tol=0.00062; total time=   0.0s\n",
      "[CV] END C=5, class_weight=balanced, dual=False, fit_intercept=True, max_iter=94, multi_class=auto, penalty=l2, solver=liblinear, tol=0.00067; total time=   0.0s\n",
      "[CV] END C=5, class_weight=balanced, dual=False, fit_intercept=True, max_iter=94, multi_class=auto, penalty=l2, solver=liblinear, tol=0.00067; total time=   0.0s\n",
      "[CV] END C=5, class_weight=balanced, dual=False, fit_intercept=True, max_iter=94, multi_class=auto, penalty=l2, solver=liblinear, tol=0.00067; total time=   0.0s\n",
      "[CV] END C=5, class_weight=balanced, dual=False, fit_intercept=True, max_iter=94, multi_class=auto, penalty=l2, solver=liblinear, tol=0.0007; total time=   0.0s\n",
      "[CV] END C=5, class_weight=balanced, dual=False, fit_intercept=True, max_iter=94, multi_class=auto, penalty=l2, solver=liblinear, tol=0.0007; total time=   0.0s\n",
      "[CV] END C=5, class_weight=balanced, dual=False, fit_intercept=True, max_iter=94, multi_class=auto, penalty=l2, solver=liblinear, tol=0.0007; total time=   0.0s\n"
     ]
    },
    {
     "name": "stdout",
     "output_type": "stream",
     "text": [
      "[CV] END C=5, class_weight=balanced, dual=False, fit_intercept=True, max_iter=94, multi_class=auto, penalty=l2, solver=liblinear, tol=0.0006; total time=   0.0s\n",
      "[CV] END C=5, class_weight=balanced, dual=False, fit_intercept=True, max_iter=94, multi_class=auto, penalty=l2, solver=liblinear, tol=0.0006; total time=   0.0s\n",
      "[CV] END C=5, class_weight=balanced, dual=False, fit_intercept=True, max_iter=94, multi_class=auto, penalty=l2, solver=liblinear, tol=0.0006; total time=   0.0s\n",
      "[CV] END C=5, class_weight=balanced, dual=False, fit_intercept=True, max_iter=94, multi_class=auto, penalty=l2, solver=liblinear, tol=0.0005; total time=   0.0s\n",
      "[CV] END C=5, class_weight=balanced, dual=False, fit_intercept=True, max_iter=94, multi_class=auto, penalty=l2, solver=liblinear, tol=0.0005; total time=   0.0s\n",
      "[CV] END C=5, class_weight=balanced, dual=False, fit_intercept=True, max_iter=94, multi_class=auto, penalty=l2, solver=liblinear, tol=0.0005; total time=   0.0s\n",
      "[CV] END C=5, class_weight=balanced, dual=False, fit_intercept=True, max_iter=94, multi_class=auto, penalty=l2, solver=liblinear, tol=0.00062; total time=   0.0s\n",
      "[CV] END C=5, class_weight=balanced, dual=False, fit_intercept=True, max_iter=94, multi_class=auto, penalty=l2, solver=liblinear, tol=0.00062; total time=   0.0s\n",
      "[CV] END C=5, class_weight=balanced, dual=False, fit_intercept=True, max_iter=94, multi_class=auto, penalty=l2, solver=liblinear, tol=0.00062; total time=   0.0s\n",
      "[CV] END C=5, class_weight=balanced, dual=False, fit_intercept=True, max_iter=93, multi_class=auto, penalty=l2, solver=liblinear, tol=0.00067; total time=   0.0s\n",
      "[CV] END C=5, class_weight=balanced, dual=False, fit_intercept=True, max_iter=93, multi_class=auto, penalty=l2, solver=liblinear, tol=0.00067; total time=   0.0s\n",
      "[CV] END C=5, class_weight=balanced, dual=False, fit_intercept=True, max_iter=93, multi_class=auto, penalty=l2, solver=liblinear, tol=0.00067; total time=   0.0s\n",
      "[CV] END C=5, class_weight=balanced, dual=False, fit_intercept=True, max_iter=93, multi_class=auto, penalty=l2, solver=liblinear, tol=0.0007; total time=   0.0s\n",
      "[CV] END C=5, class_weight=balanced, dual=False, fit_intercept=True, max_iter=93, multi_class=auto, penalty=l2, solver=liblinear, tol=0.0007; total time=   0.0s\n",
      "[CV] END C=5, class_weight=balanced, dual=False, fit_intercept=True, max_iter=93, multi_class=auto, penalty=l2, solver=liblinear, tol=0.0007; total time=   0.0s\n",
      "[CV] END C=5, class_weight=balanced, dual=False, fit_intercept=True, max_iter=93, multi_class=auto, penalty=l2, solver=liblinear, tol=0.0006; total time=   0.0s\n",
      "[CV] END C=5, class_weight=balanced, dual=False, fit_intercept=True, max_iter=93, multi_class=auto, penalty=l2, solver=liblinear, tol=0.0006; total time=   0.0s\n",
      "[CV] END C=5, class_weight=balanced, dual=False, fit_intercept=True, max_iter=93, multi_class=auto, penalty=l2, solver=liblinear, tol=0.0006; total time=   0.0s\n",
      "[CV] END C=5, class_weight=balanced, dual=False, fit_intercept=True, max_iter=93, multi_class=auto, penalty=l2, solver=liblinear, tol=0.0005; total time=   0.0s\n",
      "[CV] END C=5, class_weight=balanced, dual=False, fit_intercept=True, max_iter=93, multi_class=auto, penalty=l2, solver=liblinear, tol=0.0005; total time=   0.0s\n",
      "[CV] END C=5, class_weight=balanced, dual=False, fit_intercept=True, max_iter=93, multi_class=auto, penalty=l2, solver=liblinear, tol=0.0005; total time=   0.0s\n",
      "[CV] END C=5, class_weight=balanced, dual=False, fit_intercept=True, max_iter=93, multi_class=auto, penalty=l2, solver=liblinear, tol=0.00062; total time=   0.0s\n",
      "[CV] END C=5, class_weight=balanced, dual=False, fit_intercept=True, max_iter=93, multi_class=auto, penalty=l2, solver=liblinear, tol=0.00062; total time=   0.0s\n",
      "[CV] END C=5, class_weight=balanced, dual=False, fit_intercept=True, max_iter=93, multi_class=auto, penalty=l2, solver=liblinear, tol=0.00062; total time=   0.0s\n",
      "[CV] END C=5, class_weight=balanced, dual=False, fit_intercept=True, max_iter=92, multi_class=auto, penalty=l2, solver=liblinear, tol=0.00067; total time=   0.0s\n",
      "[CV] END C=5, class_weight=balanced, dual=False, fit_intercept=True, max_iter=92, multi_class=auto, penalty=l2, solver=liblinear, tol=0.00067; total time=   0.0s\n",
      "[CV] END C=5, class_weight=balanced, dual=False, fit_intercept=True, max_iter=92, multi_class=auto, penalty=l2, solver=liblinear, tol=0.00067; total time=   0.0s\n",
      "[CV] END C=5, class_weight=balanced, dual=False, fit_intercept=True, max_iter=92, multi_class=auto, penalty=l2, solver=liblinear, tol=0.0007; total time=   0.0s\n",
      "[CV] END C=5, class_weight=balanced, dual=False, fit_intercept=True, max_iter=92, multi_class=auto, penalty=l2, solver=liblinear, tol=0.0007; total time=   0.0s\n",
      "[CV] END C=5, class_weight=balanced, dual=False, fit_intercept=True, max_iter=92, multi_class=auto, penalty=l2, solver=liblinear, tol=0.0007; total time=   0.0s\n",
      "[CV] END C=5, class_weight=balanced, dual=False, fit_intercept=True, max_iter=92, multi_class=auto, penalty=l2, solver=liblinear, tol=0.0006; total time=   0.0s\n",
      "[CV] END C=5, class_weight=balanced, dual=False, fit_intercept=True, max_iter=92, multi_class=auto, penalty=l2, solver=liblinear, tol=0.0006; total time=   0.0s\n",
      "[CV] END C=5, class_weight=balanced, dual=False, fit_intercept=True, max_iter=92, multi_class=auto, penalty=l2, solver=liblinear, tol=0.0006; total time=   0.0s\n",
      "[CV] END C=5, class_weight=balanced, dual=False, fit_intercept=True, max_iter=92, multi_class=auto, penalty=l2, solver=liblinear, tol=0.0005; total time=   0.0s\n",
      "[CV] END C=5, class_weight=balanced, dual=False, fit_intercept=True, max_iter=92, multi_class=auto, penalty=l2, solver=liblinear, tol=0.0005; total time=   0.0s\n",
      "[CV] END C=5, class_weight=balanced, dual=False, fit_intercept=True, max_iter=92, multi_class=auto, penalty=l2, solver=liblinear, tol=0.0005; total time=   0.0s\n",
      "[CV] END C=5, class_weight=balanced, dual=False, fit_intercept=True, max_iter=92, multi_class=auto, penalty=l2, solver=liblinear, tol=0.00062; total time=   0.0s\n",
      "[CV] END C=5, class_weight=balanced, dual=False, fit_intercept=True, max_iter=92, multi_class=auto, penalty=l2, solver=liblinear, tol=0.00062; total time=   0.0s\n",
      "[CV] END C=5, class_weight=balanced, dual=False, fit_intercept=True, max_iter=92, multi_class=auto, penalty=l2, solver=liblinear, tol=0.00062; total time=   0.0s\n",
      "[CV] END C=5, class_weight=balanced, dual=False, fit_intercept=True, max_iter=95, multi_class=auto, penalty=l2, solver=liblinear, tol=0.00067; total time=   0.0s\n",
      "[CV] END C=5, class_weight=balanced, dual=False, fit_intercept=True, max_iter=95, multi_class=auto, penalty=l2, solver=liblinear, tol=0.00067; total time=   0.0s\n",
      "[CV] END C=5, class_weight=balanced, dual=False, fit_intercept=True, max_iter=95, multi_class=auto, penalty=l2, solver=liblinear, tol=0.00067; total time=   0.0s\n",
      "[CV] END C=5, class_weight=balanced, dual=False, fit_intercept=True, max_iter=95, multi_class=auto, penalty=l2, solver=liblinear, tol=0.0007; total time=   0.0s\n",
      "[CV] END C=5, class_weight=balanced, dual=False, fit_intercept=True, max_iter=95, multi_class=auto, penalty=l2, solver=liblinear, tol=0.0007; total time=   0.0s\n",
      "[CV] END C=5, class_weight=balanced, dual=False, fit_intercept=True, max_iter=95, multi_class=auto, penalty=l2, solver=liblinear, tol=0.0007; total time=   0.0s\n",
      "[CV] END C=5, class_weight=balanced, dual=False, fit_intercept=True, max_iter=95, multi_class=auto, penalty=l2, solver=liblinear, tol=0.0006; total time=   0.0s\n",
      "[CV] END C=5, class_weight=balanced, dual=False, fit_intercept=True, max_iter=95, multi_class=auto, penalty=l2, solver=liblinear, tol=0.0006; total time=   0.0s\n",
      "[CV] END C=5, class_weight=balanced, dual=False, fit_intercept=True, max_iter=95, multi_class=auto, penalty=l2, solver=liblinear, tol=0.0006; total time=   0.0s\n",
      "[CV] END C=5, class_weight=balanced, dual=False, fit_intercept=True, max_iter=95, multi_class=auto, penalty=l2, solver=liblinear, tol=0.0005; total time=   0.0s\n",
      "[CV] END C=5, class_weight=balanced, dual=False, fit_intercept=True, max_iter=95, multi_class=auto, penalty=l2, solver=liblinear, tol=0.0005; total time=   0.0s\n",
      "[CV] END C=5, class_weight=balanced, dual=False, fit_intercept=True, max_iter=95, multi_class=auto, penalty=l2, solver=liblinear, tol=0.0005; total time=   0.0s\n",
      "[CV] END C=5, class_weight=balanced, dual=False, fit_intercept=True, max_iter=95, multi_class=auto, penalty=l2, solver=liblinear, tol=0.00062; total time=   0.0s\n",
      "[CV] END C=5, class_weight=balanced, dual=False, fit_intercept=True, max_iter=95, multi_class=auto, penalty=l2, solver=liblinear, tol=0.00062; total time=   0.0s\n",
      "[CV] END C=5, class_weight=balanced, dual=False, fit_intercept=True, max_iter=95, multi_class=auto, penalty=l2, solver=liblinear, tol=0.00062; total time=   0.0s\n",
      "[CV] END C=5, class_weight=balanced, dual=False, fit_intercept=True, max_iter=96, multi_class=auto, penalty=l2, solver=liblinear, tol=0.00067; total time=   0.0s\n",
      "[CV] END C=5, class_weight=balanced, dual=False, fit_intercept=True, max_iter=96, multi_class=auto, penalty=l2, solver=liblinear, tol=0.00067; total time=   0.0s\n"
     ]
    },
    {
     "name": "stdout",
     "output_type": "stream",
     "text": [
      "[CV] END C=5, class_weight=balanced, dual=False, fit_intercept=True, max_iter=96, multi_class=auto, penalty=l2, solver=liblinear, tol=0.00067; total time=   0.0s\n",
      "[CV] END C=5, class_weight=balanced, dual=False, fit_intercept=True, max_iter=96, multi_class=auto, penalty=l2, solver=liblinear, tol=0.0007; total time=   0.0s\n",
      "[CV] END C=5, class_weight=balanced, dual=False, fit_intercept=True, max_iter=96, multi_class=auto, penalty=l2, solver=liblinear, tol=0.0007; total time=   0.0s\n",
      "[CV] END C=5, class_weight=balanced, dual=False, fit_intercept=True, max_iter=96, multi_class=auto, penalty=l2, solver=liblinear, tol=0.0007; total time=   0.0s\n",
      "[CV] END C=5, class_weight=balanced, dual=False, fit_intercept=True, max_iter=96, multi_class=auto, penalty=l2, solver=liblinear, tol=0.0006; total time=   0.0s\n",
      "[CV] END C=5, class_weight=balanced, dual=False, fit_intercept=True, max_iter=96, multi_class=auto, penalty=l2, solver=liblinear, tol=0.0006; total time=   0.0s\n",
      "[CV] END C=5, class_weight=balanced, dual=False, fit_intercept=True, max_iter=96, multi_class=auto, penalty=l2, solver=liblinear, tol=0.0006; total time=   0.0s\n",
      "[CV] END C=5, class_weight=balanced, dual=False, fit_intercept=True, max_iter=96, multi_class=auto, penalty=l2, solver=liblinear, tol=0.0005; total time=   0.0s\n",
      "[CV] END C=5, class_weight=balanced, dual=False, fit_intercept=True, max_iter=96, multi_class=auto, penalty=l2, solver=liblinear, tol=0.0005; total time=   0.0s\n",
      "[CV] END C=5, class_weight=balanced, dual=False, fit_intercept=True, max_iter=96, multi_class=auto, penalty=l2, solver=liblinear, tol=0.0005; total time=   0.0s\n",
      "[CV] END C=5, class_weight=balanced, dual=False, fit_intercept=True, max_iter=96, multi_class=auto, penalty=l2, solver=liblinear, tol=0.00062; total time=   0.0s\n",
      "[CV] END C=5, class_weight=balanced, dual=False, fit_intercept=True, max_iter=96, multi_class=auto, penalty=l2, solver=liblinear, tol=0.00062; total time=   0.0s\n",
      "[CV] END C=5, class_weight=balanced, dual=False, fit_intercept=True, max_iter=96, multi_class=auto, penalty=l2, solver=liblinear, tol=0.00062; total time=   0.0s\n",
      "[CV] END C=5, class_weight=balanced, dual=False, fit_intercept=True, max_iter=91, multi_class=auto, penalty=l2, solver=liblinear, tol=0.00067; total time=   0.0s\n",
      "[CV] END C=5, class_weight=balanced, dual=False, fit_intercept=True, max_iter=91, multi_class=auto, penalty=l2, solver=liblinear, tol=0.00067; total time=   0.0s\n",
      "[CV] END C=5, class_weight=balanced, dual=False, fit_intercept=True, max_iter=91, multi_class=auto, penalty=l2, solver=liblinear, tol=0.00067; total time=   0.0s\n",
      "[CV] END C=5, class_weight=balanced, dual=False, fit_intercept=True, max_iter=91, multi_class=auto, penalty=l2, solver=liblinear, tol=0.0007; total time=   0.0s\n",
      "[CV] END C=5, class_weight=balanced, dual=False, fit_intercept=True, max_iter=91, multi_class=auto, penalty=l2, solver=liblinear, tol=0.0007; total time=   0.0s\n",
      "[CV] END C=5, class_weight=balanced, dual=False, fit_intercept=True, max_iter=91, multi_class=auto, penalty=l2, solver=liblinear, tol=0.0007; total time=   0.0s\n",
      "[CV] END C=5, class_weight=balanced, dual=False, fit_intercept=True, max_iter=91, multi_class=auto, penalty=l2, solver=liblinear, tol=0.0006; total time=   0.0s\n",
      "[CV] END C=5, class_weight=balanced, dual=False, fit_intercept=True, max_iter=91, multi_class=auto, penalty=l2, solver=liblinear, tol=0.0006; total time=   0.0s\n",
      "[CV] END C=5, class_weight=balanced, dual=False, fit_intercept=True, max_iter=91, multi_class=auto, penalty=l2, solver=liblinear, tol=0.0006; total time=   0.0s\n",
      "[CV] END C=5, class_weight=balanced, dual=False, fit_intercept=True, max_iter=91, multi_class=auto, penalty=l2, solver=liblinear, tol=0.0005; total time=   0.0s\n",
      "[CV] END C=5, class_weight=balanced, dual=False, fit_intercept=True, max_iter=91, multi_class=auto, penalty=l2, solver=liblinear, tol=0.0005; total time=   0.0s\n",
      "[CV] END C=5, class_weight=balanced, dual=False, fit_intercept=True, max_iter=91, multi_class=auto, penalty=l2, solver=liblinear, tol=0.0005; total time=   0.0s\n",
      "[CV] END C=5, class_weight=balanced, dual=False, fit_intercept=True, max_iter=91, multi_class=auto, penalty=l2, solver=liblinear, tol=0.00062; total time=   0.0s\n",
      "[CV] END C=5, class_weight=balanced, dual=False, fit_intercept=True, max_iter=91, multi_class=auto, penalty=l2, solver=liblinear, tol=0.00062; total time=   0.0s\n",
      "[CV] END C=5, class_weight=balanced, dual=False, fit_intercept=True, max_iter=91, multi_class=auto, penalty=l2, solver=liblinear, tol=0.00062; total time=   0.0s\n",
      "[CV] END C=5, class_weight=balanced, dual=False, fit_intercept=True, max_iter=98, multi_class=auto, penalty=l2, solver=liblinear, tol=0.00067; total time=   0.0s\n",
      "[CV] END C=5, class_weight=balanced, dual=False, fit_intercept=True, max_iter=98, multi_class=auto, penalty=l2, solver=liblinear, tol=0.00067; total time=   0.0s\n",
      "[CV] END C=5, class_weight=balanced, dual=False, fit_intercept=True, max_iter=98, multi_class=auto, penalty=l2, solver=liblinear, tol=0.00067; total time=   0.0s\n",
      "[CV] END C=5, class_weight=balanced, dual=False, fit_intercept=True, max_iter=98, multi_class=auto, penalty=l2, solver=liblinear, tol=0.0007; total time=   0.0s\n",
      "[CV] END C=5, class_weight=balanced, dual=False, fit_intercept=True, max_iter=98, multi_class=auto, penalty=l2, solver=liblinear, tol=0.0007; total time=   0.0s\n",
      "[CV] END C=5, class_weight=balanced, dual=False, fit_intercept=True, max_iter=98, multi_class=auto, penalty=l2, solver=liblinear, tol=0.0007; total time=   0.0s\n",
      "[CV] END C=5, class_weight=balanced, dual=False, fit_intercept=True, max_iter=98, multi_class=auto, penalty=l2, solver=liblinear, tol=0.0006; total time=   0.0s\n",
      "[CV] END C=5, class_weight=balanced, dual=False, fit_intercept=True, max_iter=98, multi_class=auto, penalty=l2, solver=liblinear, tol=0.0006; total time=   0.0s\n",
      "[CV] END C=5, class_weight=balanced, dual=False, fit_intercept=True, max_iter=98, multi_class=auto, penalty=l2, solver=liblinear, tol=0.0006; total time=   0.0s\n",
      "[CV] END C=5, class_weight=balanced, dual=False, fit_intercept=True, max_iter=98, multi_class=auto, penalty=l2, solver=liblinear, tol=0.0005; total time=   0.0s\n",
      "[CV] END C=5, class_weight=balanced, dual=False, fit_intercept=True, max_iter=98, multi_class=auto, penalty=l2, solver=liblinear, tol=0.0005; total time=   0.0s\n",
      "[CV] END C=5, class_weight=balanced, dual=False, fit_intercept=True, max_iter=98, multi_class=auto, penalty=l2, solver=liblinear, tol=0.0005; total time=   0.0s\n",
      "[CV] END C=5, class_weight=balanced, dual=False, fit_intercept=True, max_iter=98, multi_class=auto, penalty=l2, solver=liblinear, tol=0.00062; total time=   0.0s\n",
      "[CV] END C=5, class_weight=balanced, dual=False, fit_intercept=True, max_iter=98, multi_class=auto, penalty=l2, solver=liblinear, tol=0.00062; total time=   0.0s\n",
      "[CV] END C=5, class_weight=balanced, dual=False, fit_intercept=True, max_iter=98, multi_class=auto, penalty=l2, solver=liblinear, tol=0.00062; total time=   0.0s\n",
      "[CV] END C=5, class_weight=balanced, dual=False, fit_intercept=True, max_iter=97, multi_class=auto, penalty=l2, solver=liblinear, tol=0.00067; total time=   0.0s\n",
      "[CV] END C=5, class_weight=balanced, dual=False, fit_intercept=True, max_iter=97, multi_class=auto, penalty=l2, solver=liblinear, tol=0.00067; total time=   0.0s\n",
      "[CV] END C=5, class_weight=balanced, dual=False, fit_intercept=True, max_iter=97, multi_class=auto, penalty=l2, solver=liblinear, tol=0.00067; total time=   0.0s\n",
      "[CV] END C=5, class_weight=balanced, dual=False, fit_intercept=True, max_iter=97, multi_class=auto, penalty=l2, solver=liblinear, tol=0.0007; total time=   0.0s\n",
      "[CV] END C=5, class_weight=balanced, dual=False, fit_intercept=True, max_iter=97, multi_class=auto, penalty=l2, solver=liblinear, tol=0.0007; total time=   0.0s\n",
      "[CV] END C=5, class_weight=balanced, dual=False, fit_intercept=True, max_iter=97, multi_class=auto, penalty=l2, solver=liblinear, tol=0.0007; total time=   0.0s\n",
      "[CV] END C=5, class_weight=balanced, dual=False, fit_intercept=True, max_iter=97, multi_class=auto, penalty=l2, solver=liblinear, tol=0.0006; total time=   0.0s\n",
      "[CV] END C=5, class_weight=balanced, dual=False, fit_intercept=True, max_iter=97, multi_class=auto, penalty=l2, solver=liblinear, tol=0.0006; total time=   0.0s\n"
     ]
    },
    {
     "name": "stdout",
     "output_type": "stream",
     "text": [
      "[CV] END C=5, class_weight=balanced, dual=False, fit_intercept=True, max_iter=97, multi_class=auto, penalty=l2, solver=liblinear, tol=0.0006; total time=   0.0s\n",
      "[CV] END C=5, class_weight=balanced, dual=False, fit_intercept=True, max_iter=97, multi_class=auto, penalty=l2, solver=liblinear, tol=0.0005; total time=   0.0s\n",
      "[CV] END C=5, class_weight=balanced, dual=False, fit_intercept=True, max_iter=97, multi_class=auto, penalty=l2, solver=liblinear, tol=0.0005; total time=   0.0s\n",
      "[CV] END C=5, class_weight=balanced, dual=False, fit_intercept=True, max_iter=97, multi_class=auto, penalty=l2, solver=liblinear, tol=0.0005; total time=   0.0s\n",
      "[CV] END C=5, class_weight=balanced, dual=False, fit_intercept=True, max_iter=97, multi_class=auto, penalty=l2, solver=liblinear, tol=0.00062; total time=   0.0s\n",
      "[CV] END C=5, class_weight=balanced, dual=False, fit_intercept=True, max_iter=97, multi_class=auto, penalty=l2, solver=liblinear, tol=0.00062; total time=   0.0s\n",
      "[CV] END C=5, class_weight=balanced, dual=False, fit_intercept=True, max_iter=97, multi_class=auto, penalty=l2, solver=liblinear, tol=0.00062; total time=   0.0s\n",
      "[CV] END C=4, class_weight=balanced, dual=False, fit_intercept=True, max_iter=94, multi_class=auto, penalty=l2, solver=liblinear, tol=0.00067; total time=   0.0s\n",
      "[CV] END C=4, class_weight=balanced, dual=False, fit_intercept=True, max_iter=94, multi_class=auto, penalty=l2, solver=liblinear, tol=0.00067; total time=   0.0s\n",
      "[CV] END C=4, class_weight=balanced, dual=False, fit_intercept=True, max_iter=94, multi_class=auto, penalty=l2, solver=liblinear, tol=0.00067; total time=   0.0s\n",
      "[CV] END C=4, class_weight=balanced, dual=False, fit_intercept=True, max_iter=94, multi_class=auto, penalty=l2, solver=liblinear, tol=0.0007; total time=   0.0s\n",
      "[CV] END C=4, class_weight=balanced, dual=False, fit_intercept=True, max_iter=94, multi_class=auto, penalty=l2, solver=liblinear, tol=0.0007; total time=   0.0s\n",
      "[CV] END C=4, class_weight=balanced, dual=False, fit_intercept=True, max_iter=94, multi_class=auto, penalty=l2, solver=liblinear, tol=0.0007; total time=   0.0s\n",
      "[CV] END C=4, class_weight=balanced, dual=False, fit_intercept=True, max_iter=94, multi_class=auto, penalty=l2, solver=liblinear, tol=0.0006; total time=   0.0s\n",
      "[CV] END C=4, class_weight=balanced, dual=False, fit_intercept=True, max_iter=94, multi_class=auto, penalty=l2, solver=liblinear, tol=0.0006; total time=   0.0s\n",
      "[CV] END C=4, class_weight=balanced, dual=False, fit_intercept=True, max_iter=94, multi_class=auto, penalty=l2, solver=liblinear, tol=0.0006; total time=   0.0s\n",
      "[CV] END C=4, class_weight=balanced, dual=False, fit_intercept=True, max_iter=94, multi_class=auto, penalty=l2, solver=liblinear, tol=0.0005; total time=   0.0s\n",
      "[CV] END C=4, class_weight=balanced, dual=False, fit_intercept=True, max_iter=94, multi_class=auto, penalty=l2, solver=liblinear, tol=0.0005; total time=   0.0s\n",
      "[CV] END C=4, class_weight=balanced, dual=False, fit_intercept=True, max_iter=94, multi_class=auto, penalty=l2, solver=liblinear, tol=0.0005; total time=   0.0s\n",
      "[CV] END C=4, class_weight=balanced, dual=False, fit_intercept=True, max_iter=94, multi_class=auto, penalty=l2, solver=liblinear, tol=0.00062; total time=   0.0s\n",
      "[CV] END C=4, class_weight=balanced, dual=False, fit_intercept=True, max_iter=94, multi_class=auto, penalty=l2, solver=liblinear, tol=0.00062; total time=   0.0s\n",
      "[CV] END C=4, class_weight=balanced, dual=False, fit_intercept=True, max_iter=94, multi_class=auto, penalty=l2, solver=liblinear, tol=0.00062; total time=   0.0s\n",
      "[CV] END C=4, class_weight=balanced, dual=False, fit_intercept=True, max_iter=93, multi_class=auto, penalty=l2, solver=liblinear, tol=0.00067; total time=   0.0s\n",
      "[CV] END C=4, class_weight=balanced, dual=False, fit_intercept=True, max_iter=93, multi_class=auto, penalty=l2, solver=liblinear, tol=0.00067; total time=   0.0s\n",
      "[CV] END C=4, class_weight=balanced, dual=False, fit_intercept=True, max_iter=93, multi_class=auto, penalty=l2, solver=liblinear, tol=0.00067; total time=   0.0s\n",
      "[CV] END C=4, class_weight=balanced, dual=False, fit_intercept=True, max_iter=93, multi_class=auto, penalty=l2, solver=liblinear, tol=0.0007; total time=   0.0s\n",
      "[CV] END C=4, class_weight=balanced, dual=False, fit_intercept=True, max_iter=93, multi_class=auto, penalty=l2, solver=liblinear, tol=0.0007; total time=   0.0s\n",
      "[CV] END C=4, class_weight=balanced, dual=False, fit_intercept=True, max_iter=93, multi_class=auto, penalty=l2, solver=liblinear, tol=0.0007; total time=   0.0s\n",
      "[CV] END C=4, class_weight=balanced, dual=False, fit_intercept=True, max_iter=93, multi_class=auto, penalty=l2, solver=liblinear, tol=0.0006; total time=   0.0s\n",
      "[CV] END C=4, class_weight=balanced, dual=False, fit_intercept=True, max_iter=93, multi_class=auto, penalty=l2, solver=liblinear, tol=0.0006; total time=   0.0s\n",
      "[CV] END C=4, class_weight=balanced, dual=False, fit_intercept=True, max_iter=93, multi_class=auto, penalty=l2, solver=liblinear, tol=0.0006; total time=   0.0s\n",
      "[CV] END C=4, class_weight=balanced, dual=False, fit_intercept=True, max_iter=93, multi_class=auto, penalty=l2, solver=liblinear, tol=0.0005; total time=   0.0s\n",
      "[CV] END C=4, class_weight=balanced, dual=False, fit_intercept=True, max_iter=93, multi_class=auto, penalty=l2, solver=liblinear, tol=0.0005; total time=   0.0s\n",
      "[CV] END C=4, class_weight=balanced, dual=False, fit_intercept=True, max_iter=93, multi_class=auto, penalty=l2, solver=liblinear, tol=0.0005; total time=   0.0s\n",
      "[CV] END C=4, class_weight=balanced, dual=False, fit_intercept=True, max_iter=93, multi_class=auto, penalty=l2, solver=liblinear, tol=0.00062; total time=   0.0s\n",
      "[CV] END C=4, class_weight=balanced, dual=False, fit_intercept=True, max_iter=93, multi_class=auto, penalty=l2, solver=liblinear, tol=0.00062; total time=   0.0s\n",
      "[CV] END C=4, class_weight=balanced, dual=False, fit_intercept=True, max_iter=93, multi_class=auto, penalty=l2, solver=liblinear, tol=0.00062; total time=   0.0s\n",
      "[CV] END C=4, class_weight=balanced, dual=False, fit_intercept=True, max_iter=92, multi_class=auto, penalty=l2, solver=liblinear, tol=0.00067; total time=   0.0s\n",
      "[CV] END C=4, class_weight=balanced, dual=False, fit_intercept=True, max_iter=92, multi_class=auto, penalty=l2, solver=liblinear, tol=0.00067; total time=   0.0s\n",
      "[CV] END C=4, class_weight=balanced, dual=False, fit_intercept=True, max_iter=92, multi_class=auto, penalty=l2, solver=liblinear, tol=0.00067; total time=   0.0s\n",
      "[CV] END C=4, class_weight=balanced, dual=False, fit_intercept=True, max_iter=92, multi_class=auto, penalty=l2, solver=liblinear, tol=0.0007; total time=   0.0s\n",
      "[CV] END C=4, class_weight=balanced, dual=False, fit_intercept=True, max_iter=92, multi_class=auto, penalty=l2, solver=liblinear, tol=0.0007; total time=   0.0s\n",
      "[CV] END C=4, class_weight=balanced, dual=False, fit_intercept=True, max_iter=92, multi_class=auto, penalty=l2, solver=liblinear, tol=0.0007; total time=   0.0s\n",
      "[CV] END C=4, class_weight=balanced, dual=False, fit_intercept=True, max_iter=92, multi_class=auto, penalty=l2, solver=liblinear, tol=0.0006; total time=   0.0s\n",
      "[CV] END C=4, class_weight=balanced, dual=False, fit_intercept=True, max_iter=92, multi_class=auto, penalty=l2, solver=liblinear, tol=0.0006; total time=   0.0s\n",
      "[CV] END C=4, class_weight=balanced, dual=False, fit_intercept=True, max_iter=92, multi_class=auto, penalty=l2, solver=liblinear, tol=0.0006; total time=   0.0s\n",
      "[CV] END C=4, class_weight=balanced, dual=False, fit_intercept=True, max_iter=92, multi_class=auto, penalty=l2, solver=liblinear, tol=0.0005; total time=   0.0s\n",
      "[CV] END C=4, class_weight=balanced, dual=False, fit_intercept=True, max_iter=92, multi_class=auto, penalty=l2, solver=liblinear, tol=0.0005; total time=   0.0s\n",
      "[CV] END C=4, class_weight=balanced, dual=False, fit_intercept=True, max_iter=92, multi_class=auto, penalty=l2, solver=liblinear, tol=0.0005; total time=   0.0s\n",
      "[CV] END C=4, class_weight=balanced, dual=False, fit_intercept=True, max_iter=92, multi_class=auto, penalty=l2, solver=liblinear, tol=0.00062; total time=   0.0s\n",
      "[CV] END C=4, class_weight=balanced, dual=False, fit_intercept=True, max_iter=92, multi_class=auto, penalty=l2, solver=liblinear, tol=0.00062; total time=   0.0s\n",
      "[CV] END C=4, class_weight=balanced, dual=False, fit_intercept=True, max_iter=92, multi_class=auto, penalty=l2, solver=liblinear, tol=0.00062; total time=   0.0s\n",
      "[CV] END C=4, class_weight=balanced, dual=False, fit_intercept=True, max_iter=95, multi_class=auto, penalty=l2, solver=liblinear, tol=0.00067; total time=   0.0s\n",
      "[CV] END C=4, class_weight=balanced, dual=False, fit_intercept=True, max_iter=95, multi_class=auto, penalty=l2, solver=liblinear, tol=0.00067; total time=   0.0s\n"
     ]
    },
    {
     "name": "stdout",
     "output_type": "stream",
     "text": [
      "[CV] END C=4, class_weight=balanced, dual=False, fit_intercept=True, max_iter=95, multi_class=auto, penalty=l2, solver=liblinear, tol=0.00067; total time=   0.0s\n",
      "[CV] END C=4, class_weight=balanced, dual=False, fit_intercept=True, max_iter=95, multi_class=auto, penalty=l2, solver=liblinear, tol=0.0007; total time=   0.0s\n",
      "[CV] END C=4, class_weight=balanced, dual=False, fit_intercept=True, max_iter=95, multi_class=auto, penalty=l2, solver=liblinear, tol=0.0007; total time=   0.0s\n",
      "[CV] END C=4, class_weight=balanced, dual=False, fit_intercept=True, max_iter=95, multi_class=auto, penalty=l2, solver=liblinear, tol=0.0007; total time=   0.0s\n",
      "[CV] END C=4, class_weight=balanced, dual=False, fit_intercept=True, max_iter=95, multi_class=auto, penalty=l2, solver=liblinear, tol=0.0006; total time=   0.0s\n",
      "[CV] END C=4, class_weight=balanced, dual=False, fit_intercept=True, max_iter=95, multi_class=auto, penalty=l2, solver=liblinear, tol=0.0006; total time=   0.0s\n",
      "[CV] END C=4, class_weight=balanced, dual=False, fit_intercept=True, max_iter=95, multi_class=auto, penalty=l2, solver=liblinear, tol=0.0006; total time=   0.0s\n",
      "[CV] END C=4, class_weight=balanced, dual=False, fit_intercept=True, max_iter=95, multi_class=auto, penalty=l2, solver=liblinear, tol=0.0005; total time=   0.0s\n",
      "[CV] END C=4, class_weight=balanced, dual=False, fit_intercept=True, max_iter=95, multi_class=auto, penalty=l2, solver=liblinear, tol=0.0005; total time=   0.0s\n",
      "[CV] END C=4, class_weight=balanced, dual=False, fit_intercept=True, max_iter=95, multi_class=auto, penalty=l2, solver=liblinear, tol=0.0005; total time=   0.0s\n",
      "[CV] END C=4, class_weight=balanced, dual=False, fit_intercept=True, max_iter=95, multi_class=auto, penalty=l2, solver=liblinear, tol=0.00062; total time=   0.0s\n",
      "[CV] END C=4, class_weight=balanced, dual=False, fit_intercept=True, max_iter=95, multi_class=auto, penalty=l2, solver=liblinear, tol=0.00062; total time=   0.0s\n",
      "[CV] END C=4, class_weight=balanced, dual=False, fit_intercept=True, max_iter=95, multi_class=auto, penalty=l2, solver=liblinear, tol=0.00062; total time=   0.0s\n",
      "[CV] END C=4, class_weight=balanced, dual=False, fit_intercept=True, max_iter=96, multi_class=auto, penalty=l2, solver=liblinear, tol=0.00067; total time=   0.0s\n",
      "[CV] END C=4, class_weight=balanced, dual=False, fit_intercept=True, max_iter=96, multi_class=auto, penalty=l2, solver=liblinear, tol=0.00067; total time=   0.0s\n",
      "[CV] END C=4, class_weight=balanced, dual=False, fit_intercept=True, max_iter=96, multi_class=auto, penalty=l2, solver=liblinear, tol=0.00067; total time=   0.0s\n",
      "[CV] END C=4, class_weight=balanced, dual=False, fit_intercept=True, max_iter=96, multi_class=auto, penalty=l2, solver=liblinear, tol=0.0007; total time=   0.0s\n",
      "[CV] END C=4, class_weight=balanced, dual=False, fit_intercept=True, max_iter=96, multi_class=auto, penalty=l2, solver=liblinear, tol=0.0007; total time=   0.0s\n",
      "[CV] END C=4, class_weight=balanced, dual=False, fit_intercept=True, max_iter=96, multi_class=auto, penalty=l2, solver=liblinear, tol=0.0007; total time=   0.0s\n",
      "[CV] END C=4, class_weight=balanced, dual=False, fit_intercept=True, max_iter=96, multi_class=auto, penalty=l2, solver=liblinear, tol=0.0006; total time=   0.0s\n",
      "[CV] END C=4, class_weight=balanced, dual=False, fit_intercept=True, max_iter=96, multi_class=auto, penalty=l2, solver=liblinear, tol=0.0006; total time=   0.0s\n",
      "[CV] END C=4, class_weight=balanced, dual=False, fit_intercept=True, max_iter=96, multi_class=auto, penalty=l2, solver=liblinear, tol=0.0006; total time=   0.0s\n",
      "[CV] END C=4, class_weight=balanced, dual=False, fit_intercept=True, max_iter=96, multi_class=auto, penalty=l2, solver=liblinear, tol=0.0005; total time=   0.0s\n",
      "[CV] END C=4, class_weight=balanced, dual=False, fit_intercept=True, max_iter=96, multi_class=auto, penalty=l2, solver=liblinear, tol=0.0005; total time=   0.0s\n",
      "[CV] END C=4, class_weight=balanced, dual=False, fit_intercept=True, max_iter=96, multi_class=auto, penalty=l2, solver=liblinear, tol=0.0005; total time=   0.0s\n",
      "[CV] END C=4, class_weight=balanced, dual=False, fit_intercept=True, max_iter=96, multi_class=auto, penalty=l2, solver=liblinear, tol=0.00062; total time=   0.0s\n",
      "[CV] END C=4, class_weight=balanced, dual=False, fit_intercept=True, max_iter=96, multi_class=auto, penalty=l2, solver=liblinear, tol=0.00062; total time=   0.0s\n",
      "[CV] END C=4, class_weight=balanced, dual=False, fit_intercept=True, max_iter=96, multi_class=auto, penalty=l2, solver=liblinear, tol=0.00062; total time=   0.0s\n",
      "[CV] END C=4, class_weight=balanced, dual=False, fit_intercept=True, max_iter=91, multi_class=auto, penalty=l2, solver=liblinear, tol=0.00067; total time=   0.0s\n",
      "[CV] END C=4, class_weight=balanced, dual=False, fit_intercept=True, max_iter=91, multi_class=auto, penalty=l2, solver=liblinear, tol=0.00067; total time=   0.0s\n",
      "[CV] END C=4, class_weight=balanced, dual=False, fit_intercept=True, max_iter=91, multi_class=auto, penalty=l2, solver=liblinear, tol=0.00067; total time=   0.0s\n",
      "[CV] END C=4, class_weight=balanced, dual=False, fit_intercept=True, max_iter=91, multi_class=auto, penalty=l2, solver=liblinear, tol=0.0007; total time=   0.0s\n",
      "[CV] END C=4, class_weight=balanced, dual=False, fit_intercept=True, max_iter=91, multi_class=auto, penalty=l2, solver=liblinear, tol=0.0007; total time=   0.0s\n",
      "[CV] END C=4, class_weight=balanced, dual=False, fit_intercept=True, max_iter=91, multi_class=auto, penalty=l2, solver=liblinear, tol=0.0007; total time=   0.0s\n",
      "[CV] END C=4, class_weight=balanced, dual=False, fit_intercept=True, max_iter=91, multi_class=auto, penalty=l2, solver=liblinear, tol=0.0006; total time=   0.0s\n",
      "[CV] END C=4, class_weight=balanced, dual=False, fit_intercept=True, max_iter=91, multi_class=auto, penalty=l2, solver=liblinear, tol=0.0006; total time=   0.0s\n",
      "[CV] END C=4, class_weight=balanced, dual=False, fit_intercept=True, max_iter=91, multi_class=auto, penalty=l2, solver=liblinear, tol=0.0006; total time=   0.0s\n",
      "[CV] END C=4, class_weight=balanced, dual=False, fit_intercept=True, max_iter=91, multi_class=auto, penalty=l2, solver=liblinear, tol=0.0005; total time=   0.0s\n",
      "[CV] END C=4, class_weight=balanced, dual=False, fit_intercept=True, max_iter=91, multi_class=auto, penalty=l2, solver=liblinear, tol=0.0005; total time=   0.0s\n",
      "[CV] END C=4, class_weight=balanced, dual=False, fit_intercept=True, max_iter=91, multi_class=auto, penalty=l2, solver=liblinear, tol=0.0005; total time=   0.0s\n",
      "[CV] END C=4, class_weight=balanced, dual=False, fit_intercept=True, max_iter=91, multi_class=auto, penalty=l2, solver=liblinear, tol=0.00062; total time=   0.0s\n",
      "[CV] END C=4, class_weight=balanced, dual=False, fit_intercept=True, max_iter=91, multi_class=auto, penalty=l2, solver=liblinear, tol=0.00062; total time=   0.0s\n",
      "[CV] END C=4, class_weight=balanced, dual=False, fit_intercept=True, max_iter=91, multi_class=auto, penalty=l2, solver=liblinear, tol=0.00062; total time=   0.0s\n",
      "[CV] END C=4, class_weight=balanced, dual=False, fit_intercept=True, max_iter=98, multi_class=auto, penalty=l2, solver=liblinear, tol=0.00067; total time=   0.0s\n",
      "[CV] END C=4, class_weight=balanced, dual=False, fit_intercept=True, max_iter=98, multi_class=auto, penalty=l2, solver=liblinear, tol=0.00067; total time=   0.0s\n",
      "[CV] END C=4, class_weight=balanced, dual=False, fit_intercept=True, max_iter=98, multi_class=auto, penalty=l2, solver=liblinear, tol=0.00067; total time=   0.0s\n",
      "[CV] END C=4, class_weight=balanced, dual=False, fit_intercept=True, max_iter=98, multi_class=auto, penalty=l2, solver=liblinear, tol=0.0007; total time=   0.0s\n",
      "[CV] END C=4, class_weight=balanced, dual=False, fit_intercept=True, max_iter=98, multi_class=auto, penalty=l2, solver=liblinear, tol=0.0007; total time=   0.0s\n",
      "[CV] END C=4, class_weight=balanced, dual=False, fit_intercept=True, max_iter=98, multi_class=auto, penalty=l2, solver=liblinear, tol=0.0007; total time=   0.0s\n",
      "[CV] END C=4, class_weight=balanced, dual=False, fit_intercept=True, max_iter=98, multi_class=auto, penalty=l2, solver=liblinear, tol=0.0006; total time=   0.0s\n",
      "[CV] END C=4, class_weight=balanced, dual=False, fit_intercept=True, max_iter=98, multi_class=auto, penalty=l2, solver=liblinear, tol=0.0006; total time=   0.0s\n",
      "[CV] END C=4, class_weight=balanced, dual=False, fit_intercept=True, max_iter=98, multi_class=auto, penalty=l2, solver=liblinear, tol=0.0006; total time=   0.0s\n",
      "[CV] END C=4, class_weight=balanced, dual=False, fit_intercept=True, max_iter=98, multi_class=auto, penalty=l2, solver=liblinear, tol=0.0005; total time=   0.0s\n"
     ]
    },
    {
     "name": "stdout",
     "output_type": "stream",
     "text": [
      "[CV] END C=4, class_weight=balanced, dual=False, fit_intercept=True, max_iter=98, multi_class=auto, penalty=l2, solver=liblinear, tol=0.0005; total time=   0.0s\n",
      "[CV] END C=4, class_weight=balanced, dual=False, fit_intercept=True, max_iter=98, multi_class=auto, penalty=l2, solver=liblinear, tol=0.0005; total time=   0.0s\n",
      "[CV] END C=4, class_weight=balanced, dual=False, fit_intercept=True, max_iter=98, multi_class=auto, penalty=l2, solver=liblinear, tol=0.00062; total time=   0.0s\n",
      "[CV] END C=4, class_weight=balanced, dual=False, fit_intercept=True, max_iter=98, multi_class=auto, penalty=l2, solver=liblinear, tol=0.00062; total time=   0.0s\n",
      "[CV] END C=4, class_weight=balanced, dual=False, fit_intercept=True, max_iter=98, multi_class=auto, penalty=l2, solver=liblinear, tol=0.00062; total time=   0.0s\n",
      "[CV] END C=4, class_weight=balanced, dual=False, fit_intercept=True, max_iter=97, multi_class=auto, penalty=l2, solver=liblinear, tol=0.00067; total time=   0.0s\n",
      "[CV] END C=4, class_weight=balanced, dual=False, fit_intercept=True, max_iter=97, multi_class=auto, penalty=l2, solver=liblinear, tol=0.00067; total time=   0.0s\n",
      "[CV] END C=4, class_weight=balanced, dual=False, fit_intercept=True, max_iter=97, multi_class=auto, penalty=l2, solver=liblinear, tol=0.00067; total time=   0.0s\n",
      "[CV] END C=4, class_weight=balanced, dual=False, fit_intercept=True, max_iter=97, multi_class=auto, penalty=l2, solver=liblinear, tol=0.0007; total time=   0.0s\n",
      "[CV] END C=4, class_weight=balanced, dual=False, fit_intercept=True, max_iter=97, multi_class=auto, penalty=l2, solver=liblinear, tol=0.0007; total time=   0.0s\n",
      "[CV] END C=4, class_weight=balanced, dual=False, fit_intercept=True, max_iter=97, multi_class=auto, penalty=l2, solver=liblinear, tol=0.0007; total time=   0.0s\n",
      "[CV] END C=4, class_weight=balanced, dual=False, fit_intercept=True, max_iter=97, multi_class=auto, penalty=l2, solver=liblinear, tol=0.0006; total time=   0.0s\n",
      "[CV] END C=4, class_weight=balanced, dual=False, fit_intercept=True, max_iter=97, multi_class=auto, penalty=l2, solver=liblinear, tol=0.0006; total time=   0.0s\n",
      "[CV] END C=4, class_weight=balanced, dual=False, fit_intercept=True, max_iter=97, multi_class=auto, penalty=l2, solver=liblinear, tol=0.0006; total time=   0.0s\n",
      "[CV] END C=4, class_weight=balanced, dual=False, fit_intercept=True, max_iter=97, multi_class=auto, penalty=l2, solver=liblinear, tol=0.0005; total time=   0.0s\n",
      "[CV] END C=4, class_weight=balanced, dual=False, fit_intercept=True, max_iter=97, multi_class=auto, penalty=l2, solver=liblinear, tol=0.0005; total time=   0.0s\n",
      "[CV] END C=4, class_weight=balanced, dual=False, fit_intercept=True, max_iter=97, multi_class=auto, penalty=l2, solver=liblinear, tol=0.0005; total time=   0.0s\n",
      "[CV] END C=4, class_weight=balanced, dual=False, fit_intercept=True, max_iter=97, multi_class=auto, penalty=l2, solver=liblinear, tol=0.00062; total time=   0.0s\n",
      "[CV] END C=4, class_weight=balanced, dual=False, fit_intercept=True, max_iter=97, multi_class=auto, penalty=l2, solver=liblinear, tol=0.00062; total time=   0.0s\n",
      "[CV] END C=4, class_weight=balanced, dual=False, fit_intercept=True, max_iter=97, multi_class=auto, penalty=l2, solver=liblinear, tol=0.00062; total time=   0.0s\n",
      "[CV] END C=11, class_weight=balanced, dual=False, fit_intercept=True, max_iter=94, multi_class=auto, penalty=l2, solver=liblinear, tol=0.00067; total time=   0.0s\n",
      "[CV] END C=11, class_weight=balanced, dual=False, fit_intercept=True, max_iter=94, multi_class=auto, penalty=l2, solver=liblinear, tol=0.00067; total time=   0.0s\n",
      "[CV] END C=11, class_weight=balanced, dual=False, fit_intercept=True, max_iter=94, multi_class=auto, penalty=l2, solver=liblinear, tol=0.00067; total time=   0.0s\n",
      "[CV] END C=11, class_weight=balanced, dual=False, fit_intercept=True, max_iter=94, multi_class=auto, penalty=l2, solver=liblinear, tol=0.0007; total time=   0.0s\n",
      "[CV] END C=11, class_weight=balanced, dual=False, fit_intercept=True, max_iter=94, multi_class=auto, penalty=l2, solver=liblinear, tol=0.0007; total time=   0.0s\n",
      "[CV] END C=11, class_weight=balanced, dual=False, fit_intercept=True, max_iter=94, multi_class=auto, penalty=l2, solver=liblinear, tol=0.0007; total time=   0.0s\n",
      "[CV] END C=11, class_weight=balanced, dual=False, fit_intercept=True, max_iter=94, multi_class=auto, penalty=l2, solver=liblinear, tol=0.0006; total time=   0.0s\n",
      "[CV] END C=11, class_weight=balanced, dual=False, fit_intercept=True, max_iter=94, multi_class=auto, penalty=l2, solver=liblinear, tol=0.0006; total time=   0.0s\n",
      "[CV] END C=11, class_weight=balanced, dual=False, fit_intercept=True, max_iter=94, multi_class=auto, penalty=l2, solver=liblinear, tol=0.0006; total time=   0.0s\n",
      "[CV] END C=11, class_weight=balanced, dual=False, fit_intercept=True, max_iter=94, multi_class=auto, penalty=l2, solver=liblinear, tol=0.0005; total time=   0.0s\n",
      "[CV] END C=11, class_weight=balanced, dual=False, fit_intercept=True, max_iter=94, multi_class=auto, penalty=l2, solver=liblinear, tol=0.0005; total time=   0.0s\n",
      "[CV] END C=11, class_weight=balanced, dual=False, fit_intercept=True, max_iter=94, multi_class=auto, penalty=l2, solver=liblinear, tol=0.0005; total time=   0.0s\n",
      "[CV] END C=11, class_weight=balanced, dual=False, fit_intercept=True, max_iter=94, multi_class=auto, penalty=l2, solver=liblinear, tol=0.00062; total time=   0.0s\n",
      "[CV] END C=11, class_weight=balanced, dual=False, fit_intercept=True, max_iter=94, multi_class=auto, penalty=l2, solver=liblinear, tol=0.00062; total time=   0.0s\n",
      "[CV] END C=11, class_weight=balanced, dual=False, fit_intercept=True, max_iter=94, multi_class=auto, penalty=l2, solver=liblinear, tol=0.00062; total time=   0.0s\n",
      "[CV] END C=11, class_weight=balanced, dual=False, fit_intercept=True, max_iter=93, multi_class=auto, penalty=l2, solver=liblinear, tol=0.00067; total time=   0.0s\n",
      "[CV] END C=11, class_weight=balanced, dual=False, fit_intercept=True, max_iter=93, multi_class=auto, penalty=l2, solver=liblinear, tol=0.00067; total time=   0.0s\n",
      "[CV] END C=11, class_weight=balanced, dual=False, fit_intercept=True, max_iter=93, multi_class=auto, penalty=l2, solver=liblinear, tol=0.00067; total time=   0.0s\n",
      "[CV] END C=11, class_weight=balanced, dual=False, fit_intercept=True, max_iter=93, multi_class=auto, penalty=l2, solver=liblinear, tol=0.0007; total time=   0.0s\n",
      "[CV] END C=11, class_weight=balanced, dual=False, fit_intercept=True, max_iter=93, multi_class=auto, penalty=l2, solver=liblinear, tol=0.0007; total time=   0.0s\n",
      "[CV] END C=11, class_weight=balanced, dual=False, fit_intercept=True, max_iter=93, multi_class=auto, penalty=l2, solver=liblinear, tol=0.0007; total time=   0.0s\n",
      "[CV] END C=11, class_weight=balanced, dual=False, fit_intercept=True, max_iter=93, multi_class=auto, penalty=l2, solver=liblinear, tol=0.0006; total time=   0.0s\n",
      "[CV] END C=11, class_weight=balanced, dual=False, fit_intercept=True, max_iter=93, multi_class=auto, penalty=l2, solver=liblinear, tol=0.0006; total time=   0.0s\n",
      "[CV] END C=11, class_weight=balanced, dual=False, fit_intercept=True, max_iter=93, multi_class=auto, penalty=l2, solver=liblinear, tol=0.0006; total time=   0.0s\n",
      "[CV] END C=11, class_weight=balanced, dual=False, fit_intercept=True, max_iter=93, multi_class=auto, penalty=l2, solver=liblinear, tol=0.0005; total time=   0.0s\n",
      "[CV] END C=11, class_weight=balanced, dual=False, fit_intercept=True, max_iter=93, multi_class=auto, penalty=l2, solver=liblinear, tol=0.0005; total time=   0.0s\n",
      "[CV] END C=11, class_weight=balanced, dual=False, fit_intercept=True, max_iter=93, multi_class=auto, penalty=l2, solver=liblinear, tol=0.0005; total time=   0.0s\n",
      "[CV] END C=11, class_weight=balanced, dual=False, fit_intercept=True, max_iter=93, multi_class=auto, penalty=l2, solver=liblinear, tol=0.00062; total time=   0.0s\n",
      "[CV] END C=11, class_weight=balanced, dual=False, fit_intercept=True, max_iter=93, multi_class=auto, penalty=l2, solver=liblinear, tol=0.00062; total time=   0.0s\n",
      "[CV] END C=11, class_weight=balanced, dual=False, fit_intercept=True, max_iter=93, multi_class=auto, penalty=l2, solver=liblinear, tol=0.00062; total time=   0.0s\n",
      "[CV] END C=11, class_weight=balanced, dual=False, fit_intercept=True, max_iter=92, multi_class=auto, penalty=l2, solver=liblinear, tol=0.00067; total time=   0.0s\n",
      "[CV] END C=11, class_weight=balanced, dual=False, fit_intercept=True, max_iter=92, multi_class=auto, penalty=l2, solver=liblinear, tol=0.00067; total time=   0.0s\n"
     ]
    },
    {
     "name": "stdout",
     "output_type": "stream",
     "text": [
      "[CV] END C=11, class_weight=balanced, dual=False, fit_intercept=True, max_iter=92, multi_class=auto, penalty=l2, solver=liblinear, tol=0.00067; total time=   0.0s\n",
      "[CV] END C=11, class_weight=balanced, dual=False, fit_intercept=True, max_iter=92, multi_class=auto, penalty=l2, solver=liblinear, tol=0.0007; total time=   0.0s\n",
      "[CV] END C=11, class_weight=balanced, dual=False, fit_intercept=True, max_iter=92, multi_class=auto, penalty=l2, solver=liblinear, tol=0.0007; total time=   0.0s\n",
      "[CV] END C=11, class_weight=balanced, dual=False, fit_intercept=True, max_iter=92, multi_class=auto, penalty=l2, solver=liblinear, tol=0.0007; total time=   0.0s\n",
      "[CV] END C=11, class_weight=balanced, dual=False, fit_intercept=True, max_iter=92, multi_class=auto, penalty=l2, solver=liblinear, tol=0.0006; total time=   0.0s\n",
      "[CV] END C=11, class_weight=balanced, dual=False, fit_intercept=True, max_iter=92, multi_class=auto, penalty=l2, solver=liblinear, tol=0.0006; total time=   0.0s\n",
      "[CV] END C=11, class_weight=balanced, dual=False, fit_intercept=True, max_iter=92, multi_class=auto, penalty=l2, solver=liblinear, tol=0.0006; total time=   0.0s\n",
      "[CV] END C=11, class_weight=balanced, dual=False, fit_intercept=True, max_iter=92, multi_class=auto, penalty=l2, solver=liblinear, tol=0.0005; total time=   0.0s\n",
      "[CV] END C=11, class_weight=balanced, dual=False, fit_intercept=True, max_iter=92, multi_class=auto, penalty=l2, solver=liblinear, tol=0.0005; total time=   0.0s\n",
      "[CV] END C=11, class_weight=balanced, dual=False, fit_intercept=True, max_iter=92, multi_class=auto, penalty=l2, solver=liblinear, tol=0.0005; total time=   0.0s\n",
      "[CV] END C=11, class_weight=balanced, dual=False, fit_intercept=True, max_iter=92, multi_class=auto, penalty=l2, solver=liblinear, tol=0.00062; total time=   0.0s\n",
      "[CV] END C=11, class_weight=balanced, dual=False, fit_intercept=True, max_iter=92, multi_class=auto, penalty=l2, solver=liblinear, tol=0.00062; total time=   0.0s\n",
      "[CV] END C=11, class_weight=balanced, dual=False, fit_intercept=True, max_iter=92, multi_class=auto, penalty=l2, solver=liblinear, tol=0.00062; total time=   0.0s\n",
      "[CV] END C=11, class_weight=balanced, dual=False, fit_intercept=True, max_iter=95, multi_class=auto, penalty=l2, solver=liblinear, tol=0.00067; total time=   0.0s\n",
      "[CV] END C=11, class_weight=balanced, dual=False, fit_intercept=True, max_iter=95, multi_class=auto, penalty=l2, solver=liblinear, tol=0.00067; total time=   0.0s\n",
      "[CV] END C=11, class_weight=balanced, dual=False, fit_intercept=True, max_iter=95, multi_class=auto, penalty=l2, solver=liblinear, tol=0.00067; total time=   0.0s\n",
      "[CV] END C=11, class_weight=balanced, dual=False, fit_intercept=True, max_iter=95, multi_class=auto, penalty=l2, solver=liblinear, tol=0.0007; total time=   0.0s\n",
      "[CV] END C=11, class_weight=balanced, dual=False, fit_intercept=True, max_iter=95, multi_class=auto, penalty=l2, solver=liblinear, tol=0.0007; total time=   0.0s\n",
      "[CV] END C=11, class_weight=balanced, dual=False, fit_intercept=True, max_iter=95, multi_class=auto, penalty=l2, solver=liblinear, tol=0.0007; total time=   0.0s\n",
      "[CV] END C=11, class_weight=balanced, dual=False, fit_intercept=True, max_iter=95, multi_class=auto, penalty=l2, solver=liblinear, tol=0.0006; total time=   0.0s\n",
      "[CV] END C=11, class_weight=balanced, dual=False, fit_intercept=True, max_iter=95, multi_class=auto, penalty=l2, solver=liblinear, tol=0.0006; total time=   0.0s\n",
      "[CV] END C=11, class_weight=balanced, dual=False, fit_intercept=True, max_iter=95, multi_class=auto, penalty=l2, solver=liblinear, tol=0.0006; total time=   0.0s\n",
      "[CV] END C=11, class_weight=balanced, dual=False, fit_intercept=True, max_iter=95, multi_class=auto, penalty=l2, solver=liblinear, tol=0.0005; total time=   0.0s\n",
      "[CV] END C=11, class_weight=balanced, dual=False, fit_intercept=True, max_iter=95, multi_class=auto, penalty=l2, solver=liblinear, tol=0.0005; total time=   0.0s\n",
      "[CV] END C=11, class_weight=balanced, dual=False, fit_intercept=True, max_iter=95, multi_class=auto, penalty=l2, solver=liblinear, tol=0.0005; total time=   0.0s\n",
      "[CV] END C=11, class_weight=balanced, dual=False, fit_intercept=True, max_iter=95, multi_class=auto, penalty=l2, solver=liblinear, tol=0.00062; total time=   0.0s\n",
      "[CV] END C=11, class_weight=balanced, dual=False, fit_intercept=True, max_iter=95, multi_class=auto, penalty=l2, solver=liblinear, tol=0.00062; total time=   0.0s\n",
      "[CV] END C=11, class_weight=balanced, dual=False, fit_intercept=True, max_iter=95, multi_class=auto, penalty=l2, solver=liblinear, tol=0.00062; total time=   0.0s\n",
      "[CV] END C=11, class_weight=balanced, dual=False, fit_intercept=True, max_iter=96, multi_class=auto, penalty=l2, solver=liblinear, tol=0.00067; total time=   0.0s\n",
      "[CV] END C=11, class_weight=balanced, dual=False, fit_intercept=True, max_iter=96, multi_class=auto, penalty=l2, solver=liblinear, tol=0.00067; total time=   0.0s\n",
      "[CV] END C=11, class_weight=balanced, dual=False, fit_intercept=True, max_iter=96, multi_class=auto, penalty=l2, solver=liblinear, tol=0.00067; total time=   0.0s\n",
      "[CV] END C=11, class_weight=balanced, dual=False, fit_intercept=True, max_iter=96, multi_class=auto, penalty=l2, solver=liblinear, tol=0.0007; total time=   0.0s\n",
      "[CV] END C=11, class_weight=balanced, dual=False, fit_intercept=True, max_iter=96, multi_class=auto, penalty=l2, solver=liblinear, tol=0.0007; total time=   0.0s\n",
      "[CV] END C=11, class_weight=balanced, dual=False, fit_intercept=True, max_iter=96, multi_class=auto, penalty=l2, solver=liblinear, tol=0.0007; total time=   0.0s\n",
      "[CV] END C=11, class_weight=balanced, dual=False, fit_intercept=True, max_iter=96, multi_class=auto, penalty=l2, solver=liblinear, tol=0.0006; total time=   0.0s\n",
      "[CV] END C=11, class_weight=balanced, dual=False, fit_intercept=True, max_iter=96, multi_class=auto, penalty=l2, solver=liblinear, tol=0.0006; total time=   0.0s\n",
      "[CV] END C=11, class_weight=balanced, dual=False, fit_intercept=True, max_iter=96, multi_class=auto, penalty=l2, solver=liblinear, tol=0.0006; total time=   0.0s\n",
      "[CV] END C=11, class_weight=balanced, dual=False, fit_intercept=True, max_iter=96, multi_class=auto, penalty=l2, solver=liblinear, tol=0.0005; total time=   0.0s\n",
      "[CV] END C=11, class_weight=balanced, dual=False, fit_intercept=True, max_iter=96, multi_class=auto, penalty=l2, solver=liblinear, tol=0.0005; total time=   0.0s\n",
      "[CV] END C=11, class_weight=balanced, dual=False, fit_intercept=True, max_iter=96, multi_class=auto, penalty=l2, solver=liblinear, tol=0.0005; total time=   0.0s\n",
      "[CV] END C=11, class_weight=balanced, dual=False, fit_intercept=True, max_iter=96, multi_class=auto, penalty=l2, solver=liblinear, tol=0.00062; total time=   0.0s\n",
      "[CV] END C=11, class_weight=balanced, dual=False, fit_intercept=True, max_iter=96, multi_class=auto, penalty=l2, solver=liblinear, tol=0.00062; total time=   0.0s\n",
      "[CV] END C=11, class_weight=balanced, dual=False, fit_intercept=True, max_iter=96, multi_class=auto, penalty=l2, solver=liblinear, tol=0.00062; total time=   0.0s\n",
      "[CV] END C=11, class_weight=balanced, dual=False, fit_intercept=True, max_iter=91, multi_class=auto, penalty=l2, solver=liblinear, tol=0.00067; total time=   0.0s\n",
      "[CV] END C=11, class_weight=balanced, dual=False, fit_intercept=True, max_iter=91, multi_class=auto, penalty=l2, solver=liblinear, tol=0.00067; total time=   0.0s\n",
      "[CV] END C=11, class_weight=balanced, dual=False, fit_intercept=True, max_iter=91, multi_class=auto, penalty=l2, solver=liblinear, tol=0.00067; total time=   0.0s\n",
      "[CV] END C=11, class_weight=balanced, dual=False, fit_intercept=True, max_iter=91, multi_class=auto, penalty=l2, solver=liblinear, tol=0.0007; total time=   0.0s\n",
      "[CV] END C=11, class_weight=balanced, dual=False, fit_intercept=True, max_iter=91, multi_class=auto, penalty=l2, solver=liblinear, tol=0.0007; total time=   0.0s\n",
      "[CV] END C=11, class_weight=balanced, dual=False, fit_intercept=True, max_iter=91, multi_class=auto, penalty=l2, solver=liblinear, tol=0.0007; total time=   0.0s\n",
      "[CV] END C=11, class_weight=balanced, dual=False, fit_intercept=True, max_iter=91, multi_class=auto, penalty=l2, solver=liblinear, tol=0.0006; total time=   0.0s\n",
      "[CV] END C=11, class_weight=balanced, dual=False, fit_intercept=True, max_iter=91, multi_class=auto, penalty=l2, solver=liblinear, tol=0.0006; total time=   0.0s\n",
      "[CV] END C=11, class_weight=balanced, dual=False, fit_intercept=True, max_iter=91, multi_class=auto, penalty=l2, solver=liblinear, tol=0.0006; total time=   0.0s\n"
     ]
    },
    {
     "name": "stdout",
     "output_type": "stream",
     "text": [
      "[CV] END C=11, class_weight=balanced, dual=False, fit_intercept=True, max_iter=91, multi_class=auto, penalty=l2, solver=liblinear, tol=0.0005; total time=   0.0s\n",
      "[CV] END C=11, class_weight=balanced, dual=False, fit_intercept=True, max_iter=91, multi_class=auto, penalty=l2, solver=liblinear, tol=0.0005; total time=   0.0s\n",
      "[CV] END C=11, class_weight=balanced, dual=False, fit_intercept=True, max_iter=91, multi_class=auto, penalty=l2, solver=liblinear, tol=0.0005; total time=   0.0s\n",
      "[CV] END C=11, class_weight=balanced, dual=False, fit_intercept=True, max_iter=91, multi_class=auto, penalty=l2, solver=liblinear, tol=0.00062; total time=   0.0s\n",
      "[CV] END C=11, class_weight=balanced, dual=False, fit_intercept=True, max_iter=91, multi_class=auto, penalty=l2, solver=liblinear, tol=0.00062; total time=   0.0s\n",
      "[CV] END C=11, class_weight=balanced, dual=False, fit_intercept=True, max_iter=91, multi_class=auto, penalty=l2, solver=liblinear, tol=0.00062; total time=   0.0s\n",
      "[CV] END C=11, class_weight=balanced, dual=False, fit_intercept=True, max_iter=98, multi_class=auto, penalty=l2, solver=liblinear, tol=0.00067; total time=   0.0s\n",
      "[CV] END C=11, class_weight=balanced, dual=False, fit_intercept=True, max_iter=98, multi_class=auto, penalty=l2, solver=liblinear, tol=0.00067; total time=   0.0s\n",
      "[CV] END C=11, class_weight=balanced, dual=False, fit_intercept=True, max_iter=98, multi_class=auto, penalty=l2, solver=liblinear, tol=0.00067; total time=   0.0s\n",
      "[CV] END C=11, class_weight=balanced, dual=False, fit_intercept=True, max_iter=98, multi_class=auto, penalty=l2, solver=liblinear, tol=0.0007; total time=   0.0s\n",
      "[CV] END C=11, class_weight=balanced, dual=False, fit_intercept=True, max_iter=98, multi_class=auto, penalty=l2, solver=liblinear, tol=0.0007; total time=   0.0s\n",
      "[CV] END C=11, class_weight=balanced, dual=False, fit_intercept=True, max_iter=98, multi_class=auto, penalty=l2, solver=liblinear, tol=0.0007; total time=   0.0s\n",
      "[CV] END C=11, class_weight=balanced, dual=False, fit_intercept=True, max_iter=98, multi_class=auto, penalty=l2, solver=liblinear, tol=0.0006; total time=   0.0s\n",
      "[CV] END C=11, class_weight=balanced, dual=False, fit_intercept=True, max_iter=98, multi_class=auto, penalty=l2, solver=liblinear, tol=0.0006; total time=   0.0s\n",
      "[CV] END C=11, class_weight=balanced, dual=False, fit_intercept=True, max_iter=98, multi_class=auto, penalty=l2, solver=liblinear, tol=0.0006; total time=   0.0s\n",
      "[CV] END C=11, class_weight=balanced, dual=False, fit_intercept=True, max_iter=98, multi_class=auto, penalty=l2, solver=liblinear, tol=0.0005; total time=   0.0s\n",
      "[CV] END C=11, class_weight=balanced, dual=False, fit_intercept=True, max_iter=98, multi_class=auto, penalty=l2, solver=liblinear, tol=0.0005; total time=   0.0s\n",
      "[CV] END C=11, class_weight=balanced, dual=False, fit_intercept=True, max_iter=98, multi_class=auto, penalty=l2, solver=liblinear, tol=0.0005; total time=   0.0s\n",
      "[CV] END C=11, class_weight=balanced, dual=False, fit_intercept=True, max_iter=98, multi_class=auto, penalty=l2, solver=liblinear, tol=0.00062; total time=   0.0s\n",
      "[CV] END C=11, class_weight=balanced, dual=False, fit_intercept=True, max_iter=98, multi_class=auto, penalty=l2, solver=liblinear, tol=0.00062; total time=   0.0s\n",
      "[CV] END C=11, class_weight=balanced, dual=False, fit_intercept=True, max_iter=98, multi_class=auto, penalty=l2, solver=liblinear, tol=0.00062; total time=   0.0s\n",
      "[CV] END C=11, class_weight=balanced, dual=False, fit_intercept=True, max_iter=97, multi_class=auto, penalty=l2, solver=liblinear, tol=0.00067; total time=   0.0s\n",
      "[CV] END C=11, class_weight=balanced, dual=False, fit_intercept=True, max_iter=97, multi_class=auto, penalty=l2, solver=liblinear, tol=0.00067; total time=   0.0s\n",
      "[CV] END C=11, class_weight=balanced, dual=False, fit_intercept=True, max_iter=97, multi_class=auto, penalty=l2, solver=liblinear, tol=0.00067; total time=   0.0s\n",
      "[CV] END C=11, class_weight=balanced, dual=False, fit_intercept=True, max_iter=97, multi_class=auto, penalty=l2, solver=liblinear, tol=0.0007; total time=   0.0s\n",
      "[CV] END C=11, class_weight=balanced, dual=False, fit_intercept=True, max_iter=97, multi_class=auto, penalty=l2, solver=liblinear, tol=0.0007; total time=   0.0s\n",
      "[CV] END C=11, class_weight=balanced, dual=False, fit_intercept=True, max_iter=97, multi_class=auto, penalty=l2, solver=liblinear, tol=0.0007; total time=   0.0s\n",
      "[CV] END C=11, class_weight=balanced, dual=False, fit_intercept=True, max_iter=97, multi_class=auto, penalty=l2, solver=liblinear, tol=0.0006; total time=   0.0s\n",
      "[CV] END C=11, class_weight=balanced, dual=False, fit_intercept=True, max_iter=97, multi_class=auto, penalty=l2, solver=liblinear, tol=0.0006; total time=   0.0s\n",
      "[CV] END C=11, class_weight=balanced, dual=False, fit_intercept=True, max_iter=97, multi_class=auto, penalty=l2, solver=liblinear, tol=0.0006; total time=   0.0s\n",
      "[CV] END C=11, class_weight=balanced, dual=False, fit_intercept=True, max_iter=97, multi_class=auto, penalty=l2, solver=liblinear, tol=0.0005; total time=   0.0s\n",
      "[CV] END C=11, class_weight=balanced, dual=False, fit_intercept=True, max_iter=97, multi_class=auto, penalty=l2, solver=liblinear, tol=0.0005; total time=   0.0s\n",
      "[CV] END C=11, class_weight=balanced, dual=False, fit_intercept=True, max_iter=97, multi_class=auto, penalty=l2, solver=liblinear, tol=0.0005; total time=   0.0s\n",
      "[CV] END C=11, class_weight=balanced, dual=False, fit_intercept=True, max_iter=97, multi_class=auto, penalty=l2, solver=liblinear, tol=0.00062; total time=   0.0s\n",
      "[CV] END C=11, class_weight=balanced, dual=False, fit_intercept=True, max_iter=97, multi_class=auto, penalty=l2, solver=liblinear, tol=0.00062; total time=   0.0s\n",
      "[CV] END C=11, class_weight=balanced, dual=False, fit_intercept=True, max_iter=97, multi_class=auto, penalty=l2, solver=liblinear, tol=0.00062; total time=   0.0s\n",
      "[CV] END C=3, class_weight=balanced, dual=False, fit_intercept=True, max_iter=94, multi_class=auto, penalty=l2, solver=liblinear, tol=0.00067; total time=   0.0s\n",
      "[CV] END C=3, class_weight=balanced, dual=False, fit_intercept=True, max_iter=94, multi_class=auto, penalty=l2, solver=liblinear, tol=0.00067; total time=   0.0s\n",
      "[CV] END C=3, class_weight=balanced, dual=False, fit_intercept=True, max_iter=94, multi_class=auto, penalty=l2, solver=liblinear, tol=0.00067; total time=   0.0s\n",
      "[CV] END C=3, class_weight=balanced, dual=False, fit_intercept=True, max_iter=94, multi_class=auto, penalty=l2, solver=liblinear, tol=0.0007; total time=   0.0s\n",
      "[CV] END C=3, class_weight=balanced, dual=False, fit_intercept=True, max_iter=94, multi_class=auto, penalty=l2, solver=liblinear, tol=0.0007; total time=   0.0s\n",
      "[CV] END C=3, class_weight=balanced, dual=False, fit_intercept=True, max_iter=94, multi_class=auto, penalty=l2, solver=liblinear, tol=0.0007; total time=   0.0s\n",
      "[CV] END C=3, class_weight=balanced, dual=False, fit_intercept=True, max_iter=94, multi_class=auto, penalty=l2, solver=liblinear, tol=0.0006; total time=   0.0s\n",
      "[CV] END C=3, class_weight=balanced, dual=False, fit_intercept=True, max_iter=94, multi_class=auto, penalty=l2, solver=liblinear, tol=0.0006; total time=   0.0s\n",
      "[CV] END C=3, class_weight=balanced, dual=False, fit_intercept=True, max_iter=94, multi_class=auto, penalty=l2, solver=liblinear, tol=0.0006; total time=   0.0s\n",
      "[CV] END C=3, class_weight=balanced, dual=False, fit_intercept=True, max_iter=94, multi_class=auto, penalty=l2, solver=liblinear, tol=0.0005; total time=   0.0s\n",
      "[CV] END C=3, class_weight=balanced, dual=False, fit_intercept=True, max_iter=94, multi_class=auto, penalty=l2, solver=liblinear, tol=0.0005; total time=   0.0s\n",
      "[CV] END C=3, class_weight=balanced, dual=False, fit_intercept=True, max_iter=94, multi_class=auto, penalty=l2, solver=liblinear, tol=0.0005; total time=   0.0s\n",
      "[CV] END C=3, class_weight=balanced, dual=False, fit_intercept=True, max_iter=94, multi_class=auto, penalty=l2, solver=liblinear, tol=0.00062; total time=   0.0s\n",
      "[CV] END C=3, class_weight=balanced, dual=False, fit_intercept=True, max_iter=94, multi_class=auto, penalty=l2, solver=liblinear, tol=0.00062; total time=   0.0s\n",
      "[CV] END C=3, class_weight=balanced, dual=False, fit_intercept=True, max_iter=94, multi_class=auto, penalty=l2, solver=liblinear, tol=0.00062; total time=   0.0s\n",
      "[CV] END C=3, class_weight=balanced, dual=False, fit_intercept=True, max_iter=93, multi_class=auto, penalty=l2, solver=liblinear, tol=0.00067; total time=   0.0s\n",
      "[CV] END C=3, class_weight=balanced, dual=False, fit_intercept=True, max_iter=93, multi_class=auto, penalty=l2, solver=liblinear, tol=0.00067; total time=   0.0s\n",
      "[CV] END C=3, class_weight=balanced, dual=False, fit_intercept=True, max_iter=93, multi_class=auto, penalty=l2, solver=liblinear, tol=0.00067; total time=   0.0s\n",
      "[CV] END C=3, class_weight=balanced, dual=False, fit_intercept=True, max_iter=93, multi_class=auto, penalty=l2, solver=liblinear, tol=0.0007; total time=   0.0s\n"
     ]
    },
    {
     "name": "stdout",
     "output_type": "stream",
     "text": [
      "[CV] END C=3, class_weight=balanced, dual=False, fit_intercept=True, max_iter=93, multi_class=auto, penalty=l2, solver=liblinear, tol=0.0007; total time=   0.0s\n",
      "[CV] END C=3, class_weight=balanced, dual=False, fit_intercept=True, max_iter=93, multi_class=auto, penalty=l2, solver=liblinear, tol=0.0007; total time=   0.0s\n",
      "[CV] END C=3, class_weight=balanced, dual=False, fit_intercept=True, max_iter=93, multi_class=auto, penalty=l2, solver=liblinear, tol=0.0006; total time=   0.0s\n",
      "[CV] END C=3, class_weight=balanced, dual=False, fit_intercept=True, max_iter=93, multi_class=auto, penalty=l2, solver=liblinear, tol=0.0006; total time=   0.0s\n",
      "[CV] END C=3, class_weight=balanced, dual=False, fit_intercept=True, max_iter=93, multi_class=auto, penalty=l2, solver=liblinear, tol=0.0006; total time=   0.0s\n",
      "[CV] END C=3, class_weight=balanced, dual=False, fit_intercept=True, max_iter=93, multi_class=auto, penalty=l2, solver=liblinear, tol=0.0005; total time=   0.0s\n",
      "[CV] END C=3, class_weight=balanced, dual=False, fit_intercept=True, max_iter=93, multi_class=auto, penalty=l2, solver=liblinear, tol=0.0005; total time=   0.0s\n",
      "[CV] END C=3, class_weight=balanced, dual=False, fit_intercept=True, max_iter=93, multi_class=auto, penalty=l2, solver=liblinear, tol=0.0005; total time=   0.0s\n",
      "[CV] END C=3, class_weight=balanced, dual=False, fit_intercept=True, max_iter=93, multi_class=auto, penalty=l2, solver=liblinear, tol=0.00062; total time=   0.0s\n",
      "[CV] END C=3, class_weight=balanced, dual=False, fit_intercept=True, max_iter=93, multi_class=auto, penalty=l2, solver=liblinear, tol=0.00062; total time=   0.0s\n",
      "[CV] END C=3, class_weight=balanced, dual=False, fit_intercept=True, max_iter=93, multi_class=auto, penalty=l2, solver=liblinear, tol=0.00062; total time=   0.0s\n",
      "[CV] END C=3, class_weight=balanced, dual=False, fit_intercept=True, max_iter=92, multi_class=auto, penalty=l2, solver=liblinear, tol=0.00067; total time=   0.0s\n",
      "[CV] END C=3, class_weight=balanced, dual=False, fit_intercept=True, max_iter=92, multi_class=auto, penalty=l2, solver=liblinear, tol=0.00067; total time=   0.0s\n",
      "[CV] END C=3, class_weight=balanced, dual=False, fit_intercept=True, max_iter=92, multi_class=auto, penalty=l2, solver=liblinear, tol=0.00067; total time=   0.0s\n",
      "[CV] END C=3, class_weight=balanced, dual=False, fit_intercept=True, max_iter=92, multi_class=auto, penalty=l2, solver=liblinear, tol=0.0007; total time=   0.0s\n",
      "[CV] END C=3, class_weight=balanced, dual=False, fit_intercept=True, max_iter=92, multi_class=auto, penalty=l2, solver=liblinear, tol=0.0007; total time=   0.0s\n",
      "[CV] END C=3, class_weight=balanced, dual=False, fit_intercept=True, max_iter=92, multi_class=auto, penalty=l2, solver=liblinear, tol=0.0007; total time=   0.0s\n",
      "[CV] END C=3, class_weight=balanced, dual=False, fit_intercept=True, max_iter=92, multi_class=auto, penalty=l2, solver=liblinear, tol=0.0006; total time=   0.0s\n",
      "[CV] END C=3, class_weight=balanced, dual=False, fit_intercept=True, max_iter=92, multi_class=auto, penalty=l2, solver=liblinear, tol=0.0006; total time=   0.0s\n",
      "[CV] END C=3, class_weight=balanced, dual=False, fit_intercept=True, max_iter=92, multi_class=auto, penalty=l2, solver=liblinear, tol=0.0006; total time=   0.0s\n",
      "[CV] END C=3, class_weight=balanced, dual=False, fit_intercept=True, max_iter=92, multi_class=auto, penalty=l2, solver=liblinear, tol=0.0005; total time=   0.0s\n",
      "[CV] END C=3, class_weight=balanced, dual=False, fit_intercept=True, max_iter=92, multi_class=auto, penalty=l2, solver=liblinear, tol=0.0005; total time=   0.0s\n",
      "[CV] END C=3, class_weight=balanced, dual=False, fit_intercept=True, max_iter=92, multi_class=auto, penalty=l2, solver=liblinear, tol=0.0005; total time=   0.0s\n",
      "[CV] END C=3, class_weight=balanced, dual=False, fit_intercept=True, max_iter=92, multi_class=auto, penalty=l2, solver=liblinear, tol=0.00062; total time=   0.0s\n",
      "[CV] END C=3, class_weight=balanced, dual=False, fit_intercept=True, max_iter=92, multi_class=auto, penalty=l2, solver=liblinear, tol=0.00062; total time=   0.0s\n",
      "[CV] END C=3, class_weight=balanced, dual=False, fit_intercept=True, max_iter=92, multi_class=auto, penalty=l2, solver=liblinear, tol=0.00062; total time=   0.0s\n",
      "[CV] END C=3, class_weight=balanced, dual=False, fit_intercept=True, max_iter=95, multi_class=auto, penalty=l2, solver=liblinear, tol=0.00067; total time=   0.0s\n",
      "[CV] END C=3, class_weight=balanced, dual=False, fit_intercept=True, max_iter=95, multi_class=auto, penalty=l2, solver=liblinear, tol=0.00067; total time=   0.0s\n",
      "[CV] END C=3, class_weight=balanced, dual=False, fit_intercept=True, max_iter=95, multi_class=auto, penalty=l2, solver=liblinear, tol=0.00067; total time=   0.0s\n",
      "[CV] END C=3, class_weight=balanced, dual=False, fit_intercept=True, max_iter=95, multi_class=auto, penalty=l2, solver=liblinear, tol=0.0007; total time=   0.0s\n",
      "[CV] END C=3, class_weight=balanced, dual=False, fit_intercept=True, max_iter=95, multi_class=auto, penalty=l2, solver=liblinear, tol=0.0007; total time=   0.0s\n",
      "[CV] END C=3, class_weight=balanced, dual=False, fit_intercept=True, max_iter=95, multi_class=auto, penalty=l2, solver=liblinear, tol=0.0007; total time=   0.0s\n",
      "[CV] END C=3, class_weight=balanced, dual=False, fit_intercept=True, max_iter=95, multi_class=auto, penalty=l2, solver=liblinear, tol=0.0006; total time=   0.0s\n",
      "[CV] END C=3, class_weight=balanced, dual=False, fit_intercept=True, max_iter=95, multi_class=auto, penalty=l2, solver=liblinear, tol=0.0006; total time=   0.0s\n",
      "[CV] END C=3, class_weight=balanced, dual=False, fit_intercept=True, max_iter=95, multi_class=auto, penalty=l2, solver=liblinear, tol=0.0006; total time=   0.0s\n",
      "[CV] END C=3, class_weight=balanced, dual=False, fit_intercept=True, max_iter=95, multi_class=auto, penalty=l2, solver=liblinear, tol=0.0005; total time=   0.0s\n",
      "[CV] END C=3, class_weight=balanced, dual=False, fit_intercept=True, max_iter=95, multi_class=auto, penalty=l2, solver=liblinear, tol=0.0005; total time=   0.0s\n",
      "[CV] END C=3, class_weight=balanced, dual=False, fit_intercept=True, max_iter=95, multi_class=auto, penalty=l2, solver=liblinear, tol=0.0005; total time=   0.0s\n",
      "[CV] END C=3, class_weight=balanced, dual=False, fit_intercept=True, max_iter=95, multi_class=auto, penalty=l2, solver=liblinear, tol=0.00062; total time=   0.0s\n",
      "[CV] END C=3, class_weight=balanced, dual=False, fit_intercept=True, max_iter=95, multi_class=auto, penalty=l2, solver=liblinear, tol=0.00062; total time=   0.0s\n",
      "[CV] END C=3, class_weight=balanced, dual=False, fit_intercept=True, max_iter=95, multi_class=auto, penalty=l2, solver=liblinear, tol=0.00062; total time=   0.0s\n",
      "[CV] END C=3, class_weight=balanced, dual=False, fit_intercept=True, max_iter=96, multi_class=auto, penalty=l2, solver=liblinear, tol=0.00067; total time=   0.0s\n",
      "[CV] END C=3, class_weight=balanced, dual=False, fit_intercept=True, max_iter=96, multi_class=auto, penalty=l2, solver=liblinear, tol=0.00067; total time=   0.0s\n",
      "[CV] END C=3, class_weight=balanced, dual=False, fit_intercept=True, max_iter=96, multi_class=auto, penalty=l2, solver=liblinear, tol=0.00067; total time=   0.0s\n",
      "[CV] END C=3, class_weight=balanced, dual=False, fit_intercept=True, max_iter=96, multi_class=auto, penalty=l2, solver=liblinear, tol=0.0007; total time=   0.0s\n",
      "[CV] END C=3, class_weight=balanced, dual=False, fit_intercept=True, max_iter=96, multi_class=auto, penalty=l2, solver=liblinear, tol=0.0007; total time=   0.0s\n",
      "[CV] END C=3, class_weight=balanced, dual=False, fit_intercept=True, max_iter=96, multi_class=auto, penalty=l2, solver=liblinear, tol=0.0007; total time=   0.0s\n",
      "[CV] END C=3, class_weight=balanced, dual=False, fit_intercept=True, max_iter=96, multi_class=auto, penalty=l2, solver=liblinear, tol=0.0006; total time=   0.0s\n",
      "[CV] END C=3, class_weight=balanced, dual=False, fit_intercept=True, max_iter=96, multi_class=auto, penalty=l2, solver=liblinear, tol=0.0006; total time=   0.0s\n",
      "[CV] END C=3, class_weight=balanced, dual=False, fit_intercept=True, max_iter=96, multi_class=auto, penalty=l2, solver=liblinear, tol=0.0006; total time=   0.0s\n",
      "[CV] END C=3, class_weight=balanced, dual=False, fit_intercept=True, max_iter=96, multi_class=auto, penalty=l2, solver=liblinear, tol=0.0005; total time=   0.0s\n",
      "[CV] END C=3, class_weight=balanced, dual=False, fit_intercept=True, max_iter=96, multi_class=auto, penalty=l2, solver=liblinear, tol=0.0005; total time=   0.0s\n",
      "[CV] END C=3, class_weight=balanced, dual=False, fit_intercept=True, max_iter=96, multi_class=auto, penalty=l2, solver=liblinear, tol=0.0005; total time=   0.0s\n",
      "[CV] END C=3, class_weight=balanced, dual=False, fit_intercept=True, max_iter=96, multi_class=auto, penalty=l2, solver=liblinear, tol=0.00062; total time=   0.0s\n",
      "[CV] END C=3, class_weight=balanced, dual=False, fit_intercept=True, max_iter=96, multi_class=auto, penalty=l2, solver=liblinear, tol=0.00062; total time=   0.0s\n",
      "[CV] END C=3, class_weight=balanced, dual=False, fit_intercept=True, max_iter=96, multi_class=auto, penalty=l2, solver=liblinear, tol=0.00062; total time=   0.0s\n",
      "[CV] END C=3, class_weight=balanced, dual=False, fit_intercept=True, max_iter=91, multi_class=auto, penalty=l2, solver=liblinear, tol=0.00067; total time=   0.0s\n",
      "[CV] END C=3, class_weight=balanced, dual=False, fit_intercept=True, max_iter=91, multi_class=auto, penalty=l2, solver=liblinear, tol=0.00067; total time=   0.0s\n"
     ]
    },
    {
     "name": "stdout",
     "output_type": "stream",
     "text": [
      "[CV] END C=3, class_weight=balanced, dual=False, fit_intercept=True, max_iter=91, multi_class=auto, penalty=l2, solver=liblinear, tol=0.00067; total time=   0.0s\n",
      "[CV] END C=3, class_weight=balanced, dual=False, fit_intercept=True, max_iter=91, multi_class=auto, penalty=l2, solver=liblinear, tol=0.0007; total time=   0.0s\n",
      "[CV] END C=3, class_weight=balanced, dual=False, fit_intercept=True, max_iter=91, multi_class=auto, penalty=l2, solver=liblinear, tol=0.0007; total time=   0.0s\n",
      "[CV] END C=3, class_weight=balanced, dual=False, fit_intercept=True, max_iter=91, multi_class=auto, penalty=l2, solver=liblinear, tol=0.0007; total time=   0.0s\n",
      "[CV] END C=3, class_weight=balanced, dual=False, fit_intercept=True, max_iter=91, multi_class=auto, penalty=l2, solver=liblinear, tol=0.0006; total time=   0.0s\n",
      "[CV] END C=3, class_weight=balanced, dual=False, fit_intercept=True, max_iter=91, multi_class=auto, penalty=l2, solver=liblinear, tol=0.0006; total time=   0.0s\n",
      "[CV] END C=3, class_weight=balanced, dual=False, fit_intercept=True, max_iter=91, multi_class=auto, penalty=l2, solver=liblinear, tol=0.0006; total time=   0.0s\n",
      "[CV] END C=3, class_weight=balanced, dual=False, fit_intercept=True, max_iter=91, multi_class=auto, penalty=l2, solver=liblinear, tol=0.0005; total time=   0.0s\n",
      "[CV] END C=3, class_weight=balanced, dual=False, fit_intercept=True, max_iter=91, multi_class=auto, penalty=l2, solver=liblinear, tol=0.0005; total time=   0.0s\n",
      "[CV] END C=3, class_weight=balanced, dual=False, fit_intercept=True, max_iter=91, multi_class=auto, penalty=l2, solver=liblinear, tol=0.0005; total time=   0.0s\n",
      "[CV] END C=3, class_weight=balanced, dual=False, fit_intercept=True, max_iter=91, multi_class=auto, penalty=l2, solver=liblinear, tol=0.00062; total time=   0.0s\n",
      "[CV] END C=3, class_weight=balanced, dual=False, fit_intercept=True, max_iter=91, multi_class=auto, penalty=l2, solver=liblinear, tol=0.00062; total time=   0.0s\n",
      "[CV] END C=3, class_weight=balanced, dual=False, fit_intercept=True, max_iter=91, multi_class=auto, penalty=l2, solver=liblinear, tol=0.00062; total time=   0.0s\n",
      "[CV] END C=3, class_weight=balanced, dual=False, fit_intercept=True, max_iter=98, multi_class=auto, penalty=l2, solver=liblinear, tol=0.00067; total time=   0.0s\n",
      "[CV] END C=3, class_weight=balanced, dual=False, fit_intercept=True, max_iter=98, multi_class=auto, penalty=l2, solver=liblinear, tol=0.00067; total time=   0.0s\n",
      "[CV] END C=3, class_weight=balanced, dual=False, fit_intercept=True, max_iter=98, multi_class=auto, penalty=l2, solver=liblinear, tol=0.00067; total time=   0.0s\n",
      "[CV] END C=3, class_weight=balanced, dual=False, fit_intercept=True, max_iter=98, multi_class=auto, penalty=l2, solver=liblinear, tol=0.0007; total time=   0.0s\n",
      "[CV] END C=3, class_weight=balanced, dual=False, fit_intercept=True, max_iter=98, multi_class=auto, penalty=l2, solver=liblinear, tol=0.0007; total time=   0.0s\n",
      "[CV] END C=3, class_weight=balanced, dual=False, fit_intercept=True, max_iter=98, multi_class=auto, penalty=l2, solver=liblinear, tol=0.0007; total time=   0.0s\n",
      "[CV] END C=3, class_weight=balanced, dual=False, fit_intercept=True, max_iter=98, multi_class=auto, penalty=l2, solver=liblinear, tol=0.0006; total time=   0.0s\n",
      "[CV] END C=3, class_weight=balanced, dual=False, fit_intercept=True, max_iter=98, multi_class=auto, penalty=l2, solver=liblinear, tol=0.0006; total time=   0.0s\n",
      "[CV] END C=3, class_weight=balanced, dual=False, fit_intercept=True, max_iter=98, multi_class=auto, penalty=l2, solver=liblinear, tol=0.0006; total time=   0.0s\n",
      "[CV] END C=3, class_weight=balanced, dual=False, fit_intercept=True, max_iter=98, multi_class=auto, penalty=l2, solver=liblinear, tol=0.0005; total time=   0.0s\n",
      "[CV] END C=3, class_weight=balanced, dual=False, fit_intercept=True, max_iter=98, multi_class=auto, penalty=l2, solver=liblinear, tol=0.0005; total time=   0.0s\n",
      "[CV] END C=3, class_weight=balanced, dual=False, fit_intercept=True, max_iter=98, multi_class=auto, penalty=l2, solver=liblinear, tol=0.0005; total time=   0.0s\n",
      "[CV] END C=3, class_weight=balanced, dual=False, fit_intercept=True, max_iter=98, multi_class=auto, penalty=l2, solver=liblinear, tol=0.00062; total time=   0.0s\n",
      "[CV] END C=3, class_weight=balanced, dual=False, fit_intercept=True, max_iter=98, multi_class=auto, penalty=l2, solver=liblinear, tol=0.00062; total time=   0.0s\n",
      "[CV] END C=3, class_weight=balanced, dual=False, fit_intercept=True, max_iter=98, multi_class=auto, penalty=l2, solver=liblinear, tol=0.00062; total time=   0.0s\n",
      "[CV] END C=3, class_weight=balanced, dual=False, fit_intercept=True, max_iter=97, multi_class=auto, penalty=l2, solver=liblinear, tol=0.00067; total time=   0.0s\n",
      "[CV] END C=3, class_weight=balanced, dual=False, fit_intercept=True, max_iter=97, multi_class=auto, penalty=l2, solver=liblinear, tol=0.00067; total time=   0.0s\n",
      "[CV] END C=3, class_weight=balanced, dual=False, fit_intercept=True, max_iter=97, multi_class=auto, penalty=l2, solver=liblinear, tol=0.00067; total time=   0.0s\n",
      "[CV] END C=3, class_weight=balanced, dual=False, fit_intercept=True, max_iter=97, multi_class=auto, penalty=l2, solver=liblinear, tol=0.0007; total time=   0.0s\n",
      "[CV] END C=3, class_weight=balanced, dual=False, fit_intercept=True, max_iter=97, multi_class=auto, penalty=l2, solver=liblinear, tol=0.0007; total time=   0.0s\n",
      "[CV] END C=3, class_weight=balanced, dual=False, fit_intercept=True, max_iter=97, multi_class=auto, penalty=l2, solver=liblinear, tol=0.0007; total time=   0.0s\n",
      "[CV] END C=3, class_weight=balanced, dual=False, fit_intercept=True, max_iter=97, multi_class=auto, penalty=l2, solver=liblinear, tol=0.0006; total time=   0.0s\n",
      "[CV] END C=3, class_weight=balanced, dual=False, fit_intercept=True, max_iter=97, multi_class=auto, penalty=l2, solver=liblinear, tol=0.0006; total time=   0.0s\n",
      "[CV] END C=3, class_weight=balanced, dual=False, fit_intercept=True, max_iter=97, multi_class=auto, penalty=l2, solver=liblinear, tol=0.0006; total time=   0.0s\n",
      "[CV] END C=3, class_weight=balanced, dual=False, fit_intercept=True, max_iter=97, multi_class=auto, penalty=l2, solver=liblinear, tol=0.0005; total time=   0.0s\n",
      "[CV] END C=3, class_weight=balanced, dual=False, fit_intercept=True, max_iter=97, multi_class=auto, penalty=l2, solver=liblinear, tol=0.0005; total time=   0.0s\n",
      "[CV] END C=3, class_weight=balanced, dual=False, fit_intercept=True, max_iter=97, multi_class=auto, penalty=l2, solver=liblinear, tol=0.0005; total time=   0.0s\n",
      "[CV] END C=3, class_weight=balanced, dual=False, fit_intercept=True, max_iter=97, multi_class=auto, penalty=l2, solver=liblinear, tol=0.00062; total time=   0.0s\n",
      "[CV] END C=3, class_weight=balanced, dual=False, fit_intercept=True, max_iter=97, multi_class=auto, penalty=l2, solver=liblinear, tol=0.00062; total time=   0.0s\n",
      "[CV] END C=3, class_weight=balanced, dual=False, fit_intercept=True, max_iter=97, multi_class=auto, penalty=l2, solver=liblinear, tol=0.00062; total time=   0.0s\n"
     ]
    }
   ],
   "source": [
    "#Turns out that GridSearchCV gives the same values for the hyperparameters\n",
    "#Finaling the optimized model\n",
    "model=model_GSCV.fit(x,Y)"
   ]
  },
  {
   "cell_type": "code",
   "execution_count": 188,
   "id": "0f29df74",
   "metadata": {},
   "outputs": [],
   "source": [
    "Y_model_predictions=model.predict(x_test)"
   ]
  },
  {
   "cell_type": "code",
   "execution_count": 189,
   "id": "5687686c",
   "metadata": {},
   "outputs": [],
   "source": [
    "#Finding best threshold for this model"
   ]
  },
  {
   "cell_type": "code",
   "execution_count": 190,
   "id": "41f36e4c",
   "metadata": {},
   "outputs": [
    {
     "data": {
      "text/plain": [
       "0.7437042124542124"
      ]
     },
     "execution_count": 190,
     "metadata": {},
     "output_type": "execute_result"
    }
   ],
   "source": [
    "AUROC=roc_auc_score(Y_test,Y_model_predictions)\n",
    "AUROC"
   ]
  },
  {
   "cell_type": "code",
   "execution_count": 191,
   "id": "0aa59e29",
   "metadata": {},
   "outputs": [
    {
     "data": {
      "image/png": "[encoded data removed]",
      "text/plain": [
       "<Figure size 720x720 with 1 Axes>"
      ]
     },
     "metadata": {
      "needs_background": "light"
     },
     "output_type": "display_data"
    }
   ],
   "source": [
    "#Plotting ROC curve\n",
    "FPR, TPR,_ = roc_curve(Y_test, Y_model_predictions)\n",
    "plt.figure(figsize=(10,10))\n",
    "plt.plot(FPR, TPR, linestyle='--', label='Random prediction (AUROC = %0.3f)' %AUROC)\n",
    "\n",
    "# Title\n",
    "plt.title('ROC Plot')\n",
    "\n",
    "# Axis labels\n",
    "plt.xlabel('False Positive Rate')\n",
    "plt.ylabel('True Positive Rate')\n",
    " \n",
    "# Show plot\n",
    "plt.show()"
   ]
  },
  {
   "cell_type": "code",
   "execution_count": 192,
   "id": "4e3b3ae2",
   "metadata": {},
   "outputs": [
    {
     "data": {
      "image/png": "[encoded data removed]",
      "text/plain": [
       "<Figure size 720x720 with 1 Axes>"
      ]
     },
     "metadata": {
      "needs_background": "light"
     },
     "output_type": "display_data"
    }
   ],
   "source": [
    "from sklearn.metrics import precision_recall_curve\n",
    "FPR,TPR, thresholds = precision_recall_curve(Y_test, Y_model_predictions)\n",
    "def plot_precision_recall_vs_threshold(FPR, TPR, thresholds):\n",
    "    plt.figure(figsize=(10,10))\n",
    "    plt.plot(thresholds, FPR[:-1], \"b--\", label=\"FPR\")\n",
    "    plt.plot(thresholds, TPR[:-1], \"g-\", label=\"TPR\")\n",
    "    plt.xlabel(\"Threshold\")\n",
    "    plt.legend(loc='upper right', frameon=True)\n",
    " \n",
    "\n",
    "plot_precision_recall_vs_threshold(FPR, TPR, thresholds)\n",
    "plt.show()"
   ]
  },
  {
   "cell_type": "code",
   "execution_count": 193,
   "id": "99c20727",
   "metadata": {},
   "outputs": [
    {
     "data": {
      "text/plain": [
       "array([[0.7259333 , 0.2740667 ],\n",
       "       [0.63663905, 0.36336095],\n",
       "       [0.32720565, 0.67279435],\n",
       "       [0.80527558, 0.19472442],\n",
       "       [0.1483632 , 0.8516368 ],\n",
       "       [0.05696136, 0.94303864],\n",
       "       [0.93408749, 0.06591251],\n",
       "       [0.83502362, 0.16497638],\n",
       "       [0.39687119, 0.60312881],\n",
       "       [0.39477492, 0.60522508],\n",
       "       [0.67037462, 0.32962538],\n",
       "       [0.52390117, 0.47609883],\n",
       "       [0.95190073, 0.04809927],\n",
       "       [0.61896808, 0.38103192],\n",
       "       [0.19520504, 0.80479496],\n",
       "       [0.0666344 , 0.9333656 ],\n",
       "       [0.79780881, 0.20219119],\n",
       "       [0.02924275, 0.97075725],\n",
       "       [0.47846744, 0.52153256],\n",
       "       [0.85580341, 0.14419659],\n",
       "       [0.5146498 , 0.4853502 ],\n",
       "       [0.11210357, 0.88789643],\n",
       "       [0.77919191, 0.22080809],\n",
       "       [0.57126801, 0.42873199],\n",
       "       [0.17892145, 0.82107855],\n",
       "       [0.62692992, 0.37307008],\n",
       "       [0.56577606, 0.43422394],\n",
       "       [0.52625857, 0.47374143],\n",
       "       [0.72088898, 0.27911102],\n",
       "       [0.07762922, 0.92237078],\n",
       "       [0.94306262, 0.05693738],\n",
       "       [0.55725653, 0.44274347],\n",
       "       [0.06192456, 0.93807544],\n",
       "       [0.78326741, 0.21673259],\n",
       "       [0.43078602, 0.56921398],\n",
       "       [0.13496108, 0.86503892],\n",
       "       [0.05290996, 0.94709004],\n",
       "       [0.58941309, 0.41058691],\n",
       "       [0.80720533, 0.19279467],\n",
       "       [0.22334389, 0.77665611],\n",
       "       [0.88189992, 0.11810008],\n",
       "       [0.6883843 , 0.3116157 ],\n",
       "       [0.77517674, 0.22482326],\n",
       "       [0.77695392, 0.22304608],\n",
       "       [0.70867919, 0.29132081],\n",
       "       [0.29483732, 0.70516268],\n",
       "       [0.80975319, 0.19024681],\n",
       "       [0.24634117, 0.75365883],\n",
       "       [0.89899548, 0.10100452],\n",
       "       [0.33913496, 0.66086504],\n",
       "       [0.39554341, 0.60445659],\n",
       "       [0.95658592, 0.04341408],\n",
       "       [0.73586872, 0.26413128],\n",
       "       [0.43541858, 0.56458142],\n",
       "       [0.65657769, 0.34342231],\n",
       "       [0.72808551, 0.27191449],\n",
       "       [0.07847205, 0.92152795],\n",
       "       [0.8052256 , 0.1947744 ],\n",
       "       [0.05509808, 0.94490192],\n",
       "       [0.84931848, 0.15068152],\n",
       "       [0.45611141, 0.54388859],\n",
       "       [0.36578279, 0.63421721],\n",
       "       [0.44588848, 0.55411152],\n",
       "       [0.97668819, 0.02331181],\n",
       "       [0.58187593, 0.41812407],\n",
       "       [0.82443339, 0.17556661],\n",
       "       [0.94238887, 0.05761113],\n",
       "       [0.84086137, 0.15913863],\n",
       "       [0.80170454, 0.19829546],\n",
       "       [0.29537374, 0.70462626],\n",
       "       [0.95362347, 0.04637653],\n",
       "       [0.11247483, 0.88752517],\n",
       "       [0.48430353, 0.51569647],\n",
       "       [0.59465276, 0.40534724],\n",
       "       [0.66891276, 0.33108724],\n",
       "       [0.60574962, 0.39425038],\n",
       "       [0.88339782, 0.11660218],\n",
       "       [0.67185646, 0.32814354],\n",
       "       [0.67710734, 0.32289266],\n",
       "       [0.17243361, 0.82756639],\n",
       "       [0.56925261, 0.43074739],\n",
       "       [0.00899693, 0.99100307],\n",
       "       [0.31894855, 0.68105145],\n",
       "       [0.19094178, 0.80905822],\n",
       "       [0.47453448, 0.52546552],\n",
       "       [0.94309695, 0.05690305],\n",
       "       [0.6705179 , 0.3294821 ],\n",
       "       [0.64223232, 0.35776768],\n",
       "       [0.21721305, 0.78278695],\n",
       "       [0.78346241, 0.21653759],\n",
       "       [0.83159381, 0.16840619],\n",
       "       [0.50479953, 0.49520047],\n",
       "       [0.91181065, 0.08818935],\n",
       "       [0.07988292, 0.92011708],\n",
       "       [0.93283438, 0.06716562],\n",
       "       [0.9498358 , 0.0501642 ],\n",
       "       [0.93658093, 0.06341907],\n",
       "       [0.88289828, 0.11710172],\n",
       "       [0.78679422, 0.21320578],\n",
       "       [0.08810582, 0.91189418],\n",
       "       [0.25851998, 0.74148002],\n",
       "       [0.11047958, 0.88952042],\n",
       "       [0.76932669, 0.23067331],\n",
       "       [0.62370869, 0.37629131],\n",
       "       [0.88627368, 0.11372632],\n",
       "       [0.92466011, 0.07533989],\n",
       "       [0.40387105, 0.59612895],\n",
       "       [0.61092328, 0.38907672],\n",
       "       [0.41154364, 0.58845636],\n",
       "       [0.39245823, 0.60754177],\n",
       "       [0.63453872, 0.36546128],\n",
       "       [0.30162094, 0.69837906],\n",
       "       [0.66465108, 0.33534892],\n",
       "       [0.2546107 , 0.7453893 ],\n",
       "       [0.68441838, 0.31558162],\n",
       "       [0.04215277, 0.95784723],\n",
       "       [0.65985745, 0.34014255],\n",
       "       [0.13664119, 0.86335881],\n",
       "       [0.85348451, 0.14651549],\n",
       "       [0.66890415, 0.33109585],\n",
       "       [0.65246282, 0.34753718],\n",
       "       [0.52091658, 0.47908342],\n",
       "       [0.06077257, 0.93922743],\n",
       "       [0.54102434, 0.45897566],\n",
       "       [0.63532064, 0.36467936],\n",
       "       [0.36648581, 0.63351419],\n",
       "       [0.63898971, 0.36101029],\n",
       "       [0.06249202, 0.93750798],\n",
       "       [0.04484322, 0.95515678],\n",
       "       [0.49482621, 0.50517379],\n",
       "       [0.7754772 , 0.2245228 ],\n",
       "       [0.10269488, 0.89730512],\n",
       "       [0.64232786, 0.35767214],\n",
       "       [0.29314118, 0.70685882],\n",
       "       [0.33963792, 0.66036208],\n",
       "       [0.39438071, 0.60561929],\n",
       "       [0.80726546, 0.19273454],\n",
       "       [0.45181583, 0.54818417],\n",
       "       [0.80176415, 0.19823585]])"
      ]
     },
     "execution_count": 193,
     "metadata": {},
     "output_type": "execute_result"
    }
   ],
   "source": [
    "model.predict_proba(x_test)"
   ]
  },
  {
   "cell_type": "code",
   "execution_count": 194,
   "id": "4655dddb",
   "metadata": {},
   "outputs": [
    {
     "data": {
      "text/html": [
       "<div>\n",
       "<style scoped>\n",
       "    .dataframe tbody tr th:only-of-type {\n",
       "        vertical-align: middle;\n",
       "    }\n",
       "\n",
       "    .dataframe tbody tr th {\n",
       "        vertical-align: top;\n",
       "    }\n",
       "\n",
       "    .dataframe thead th {\n",
       "        text-align: right;\n",
       "    }\n",
       "</style>\n",
       "<table border=\"1\" class=\"dataframe\">\n",
       "  <thead>\n",
       "    <tr style=\"text-align: right;\">\n",
       "      <th></th>\n",
       "      <th>0</th>\n",
       "      <th>1</th>\n",
       "    </tr>\n",
       "  </thead>\n",
       "  <tbody>\n",
       "    <tr>\n",
       "      <th>0</th>\n",
       "      <td>0.725933</td>\n",
       "      <td>0.274067</td>\n",
       "    </tr>\n",
       "    <tr>\n",
       "      <th>1</th>\n",
       "      <td>0.636639</td>\n",
       "      <td>0.363361</td>\n",
       "    </tr>\n",
       "    <tr>\n",
       "      <th>2</th>\n",
       "      <td>0.327206</td>\n",
       "      <td>0.672794</td>\n",
       "    </tr>\n",
       "    <tr>\n",
       "      <th>3</th>\n",
       "      <td>0.805276</td>\n",
       "      <td>0.194724</td>\n",
       "    </tr>\n",
       "    <tr>\n",
       "      <th>4</th>\n",
       "      <td>0.148363</td>\n",
       "      <td>0.851637</td>\n",
       "    </tr>\n",
       "  </tbody>\n",
       "</table>\n",
       "</div>"
      ],
      "text/plain": [
       "          0         1\n",
       "0  0.725933  0.274067\n",
       "1  0.636639  0.363361\n",
       "2  0.327206  0.672794\n",
       "3  0.805276  0.194724\n",
       "4  0.148363  0.851637"
      ]
     },
     "execution_count": 194,
     "metadata": {},
     "output_type": "execute_result"
    }
   ],
   "source": [
    "prediction_df=pd.DataFrame(model.predict_proba(x_test))\n",
    "prediction_df.head()"
   ]
  },
  {
   "cell_type": "code",
   "execution_count": 195,
   "id": "69324ca7",
   "metadata": {},
   "outputs": [],
   "source": [
    "prediction_df.drop(prediction_df[[1]],axis=1,inplace=True)"
   ]
  },
  {
   "cell_type": "code",
   "execution_count": 196,
   "id": "0848e230",
   "metadata": {},
   "outputs": [
    {
     "data": {
      "text/html": [
       "<div>\n",
       "<style scoped>\n",
       "    .dataframe tbody tr th:only-of-type {\n",
       "        vertical-align: middle;\n",
       "    }\n",
       "\n",
       "    .dataframe tbody tr th {\n",
       "        vertical-align: top;\n",
       "    }\n",
       "\n",
       "    .dataframe thead th {\n",
       "        text-align: right;\n",
       "    }\n",
       "</style>\n",
       "<table border=\"1\" class=\"dataframe\">\n",
       "  <thead>\n",
       "    <tr style=\"text-align: right;\">\n",
       "      <th></th>\n",
       "      <th>0</th>\n",
       "    </tr>\n",
       "  </thead>\n",
       "  <tbody>\n",
       "    <tr>\n",
       "      <th>127</th>\n",
       "      <td>0.062492</td>\n",
       "    </tr>\n",
       "    <tr>\n",
       "      <th>128</th>\n",
       "      <td>0.044843</td>\n",
       "    </tr>\n",
       "    <tr>\n",
       "      <th>129</th>\n",
       "      <td>0.494826</td>\n",
       "    </tr>\n",
       "    <tr>\n",
       "      <th>130</th>\n",
       "      <td>0.775477</td>\n",
       "    </tr>\n",
       "    <tr>\n",
       "      <th>131</th>\n",
       "      <td>0.102695</td>\n",
       "    </tr>\n",
       "    <tr>\n",
       "      <th>132</th>\n",
       "      <td>0.642328</td>\n",
       "    </tr>\n",
       "    <tr>\n",
       "      <th>133</th>\n",
       "      <td>0.293141</td>\n",
       "    </tr>\n",
       "    <tr>\n",
       "      <th>134</th>\n",
       "      <td>0.339638</td>\n",
       "    </tr>\n",
       "    <tr>\n",
       "      <th>135</th>\n",
       "      <td>0.394381</td>\n",
       "    </tr>\n",
       "    <tr>\n",
       "      <th>136</th>\n",
       "      <td>0.807265</td>\n",
       "    </tr>\n",
       "    <tr>\n",
       "      <th>137</th>\n",
       "      <td>0.451816</td>\n",
       "    </tr>\n",
       "    <tr>\n",
       "      <th>138</th>\n",
       "      <td>0.801764</td>\n",
       "    </tr>\n",
       "  </tbody>\n",
       "</table>\n",
       "</div>"
      ],
      "text/plain": [
       "            0\n",
       "127  0.062492\n",
       "128  0.044843\n",
       "129  0.494826\n",
       "130  0.775477\n",
       "131  0.102695\n",
       "132  0.642328\n",
       "133  0.293141\n",
       "134  0.339638\n",
       "135  0.394381\n",
       "136  0.807265\n",
       "137  0.451816\n",
       "138  0.801764"
      ]
     },
     "execution_count": 196,
     "metadata": {},
     "output_type": "execute_result"
    }
   ],
   "source": [
    "prediction_df.tail(12)"
   ]
  },
  {
   "cell_type": "code",
   "execution_count": 197,
   "id": "a7bb4c8a",
   "metadata": {},
   "outputs": [],
   "source": [
    "#Choosing the new threshold to be 0.52"
   ]
  },
  {
   "cell_type": "code",
   "execution_count": 198,
   "id": "d5d9bba6",
   "metadata": {},
   "outputs": [
    {
     "data": {
      "text/plain": [
       "array([0, 0, 1, 0, 1, 1, 0, 0, 1, 1, 0, 1, 0, 0, 1, 1, 0, 1, 1, 0, 1, 1,\n",
       "       0, 1, 1, 0, 1, 1, 0, 1, 0, 1, 1, 0, 1, 1, 1, 0, 0, 1, 0, 0, 0, 0,\n",
       "       0, 1, 0, 1, 0, 1, 1, 0, 0, 1, 0, 0, 1, 0, 1, 0, 1, 1, 1, 0, 1, 0,\n",
       "       0, 0, 0, 1, 0, 1, 1, 0, 0, 0, 0, 0, 0, 1, 1, 1, 1, 1, 1, 0, 0, 0,\n",
       "       1, 0, 0, 1, 0, 1, 0, 0, 0, 0, 0, 1, 1, 1, 0, 0, 0, 0, 1, 0, 1, 1,\n",
       "       0, 1, 0, 1, 0, 1, 0, 1, 0, 0, 0, 1, 1, 1, 0, 1, 0, 1, 1, 1, 0, 1,\n",
       "       0, 1, 1, 1, 0, 1, 0])"
      ]
     },
     "execution_count": 198,
     "metadata": {},
     "output_type": "execute_result"
    }
   ],
   "source": [
    "def change_threshold(prediction_dataframe):\n",
    "    final_prediction=[]\n",
    "    for i in prediction_dataframe:\n",
    "        if i >= 0.587:\n",
    "            i=0\n",
    "            final_prediction.append(i)\n",
    "        else:\n",
    "            i=1\n",
    "            final_prediction.append(i)\n",
    "    return final_prediction\n",
    "final_optimized_predictions=change_threshold(prediction_df.values)\n",
    "final_optimized_predictions=np.array(final_optimized_predictions)\n",
    "final_optimized_predictions"
   ]
  },
  {
   "cell_type": "code",
   "execution_count": 199,
   "id": "ce1207f9",
   "metadata": {},
   "outputs": [
    {
     "name": "stdout",
     "output_type": "stream",
     "text": [
      "AxesSubplot(0.125,0.125;0.62x0.755)\n",
      "0.6834532374100719\n",
      "              precision    recall  f1-score   support\n",
      "\n",
      "           0       0.83      0.65      0.73        91\n",
      "           1       0.53      0.75      0.62        48\n",
      "\n",
      "    accuracy                           0.68       139\n",
      "   macro avg       0.68      0.70      0.67       139\n",
      "weighted avg       0.73      0.68      0.69       139\n",
      "\n"
     ]
    },
    {
     "data": {
      "image/png": "[encoded data removed]",
      "text/plain": [
       "<Figure size 432x288 with 2 Axes>"
      ]
     },
     "metadata": {
      "needs_background": "light"
     },
     "output_type": "display_data"
    }
   ],
   "source": [
    "#Analysis of variance(error in test data)...\n",
    "cm=confusion_matrix(Y_test,final_optimized_predictions)\n",
    "print(sns.heatmap(cm,annot=True))\n",
    "print(accuracy_score(Y_test,final_optimized_predictions))\n",
    "print(classification_report(Y_test,final_optimized_predictions))"
   ]
  },
  {
   "cell_type": "code",
   "execution_count": 200,
   "id": "b1c6fde9",
   "metadata": {},
   "outputs": [],
   "source": [
    "#Checking performance in training data\n",
    "Y_pred_training=model.predict_proba(x)"
   ]
  },
  {
   "cell_type": "code",
   "execution_count": 201,
   "id": "c48dc371",
   "metadata": {},
   "outputs": [],
   "source": [
    "df_training_prob=pd.DataFrame(Y_pred_training)\n",
    "df_training_prob.drop(df_training_prob[[1]],axis=1,inplace=True)"
   ]
  },
  {
   "cell_type": "code",
   "execution_count": 202,
   "id": "4a67f6dc",
   "metadata": {},
   "outputs": [],
   "source": [
    "training_data_predictions=change_threshold(df_training_prob.values)"
   ]
  },
  {
   "cell_type": "code",
   "execution_count": 203,
   "id": "b98d2619",
   "metadata": {},
   "outputs": [],
   "source": [
    "training_data_predictions=np.array(training_data_predictions)"
   ]
  },
  {
   "cell_type": "code",
   "execution_count": 204,
   "id": "1f43d025",
   "metadata": {},
   "outputs": [
    {
     "name": "stdout",
     "output_type": "stream",
     "text": [
      "AxesSubplot(0.125,0.125;0.62x0.755)\n",
      "0.7301587301587301\n",
      "              precision    recall  f1-score   support\n",
      "\n",
      "           0       0.88      0.69      0.77       461\n",
      "           1       0.57      0.81      0.67       232\n",
      "\n",
      "    accuracy                           0.73       693\n",
      "   macro avg       0.72      0.75      0.72       693\n",
      "weighted avg       0.78      0.73      0.74       693\n",
      "\n"
     ]
    },
    {
     "data": {
      "image/png": "[encoded data removed]",
      "text/plain": [
       "<Figure size 432x288 with 2 Axes>"
      ]
     },
     "metadata": {
      "needs_background": "light"
     },
     "output_type": "display_data"
    }
   ],
   "source": [
    "#Analysis of bias (error in training data)\n",
    "cm=confusion_matrix(Y,training_data_predictions)\n",
    "print(sns.heatmap(cm,annot=True))\n",
    "print(accuracy_score(Y,training_data_predictions))\n",
    "print(classification_report(Y,training_data_predictions))"
   ]
  },
  {
   "cell_type": "code",
   "execution_count": 205,
   "id": "e1b74851",
   "metadata": {},
   "outputs": [
    {
     "data": {
      "text/plain": [
       "(693, 9)"
      ]
     },
     "execution_count": 205,
     "metadata": {},
     "output_type": "execute_result"
    }
   ],
   "source": [
    "df.shape"
   ]
  },
  {
   "cell_type": "code",
   "execution_count": 206,
   "id": "fd38659e",
   "metadata": {},
   "outputs": [
    {
     "data": {
      "text/plain": [
       "array([[ 6.        ,  0.627     ,  0.9194923 , ..., -0.80931614,\n",
       "         0.18932948,  1.48540411],\n",
       "       [ 1.        ,  0.351     , -1.18020509, ..., -0.80931614,\n",
       "        -0.83904059, -0.18410643],\n",
       "       [ 8.        ,  0.672     ,  2.08599085, ..., -0.80931614,\n",
       "        -1.32384362, -0.09623745],\n",
       "       ...,\n",
       "       [ 5.        ,  0.245     ,  0.01962199, ...,  0.43355364,\n",
       "        -0.89780459, -0.2719754 ],\n",
       "       [ 1.        ,  0.349     ,  0.18626464, ..., -0.80931614,\n",
       "        -0.32485555,  1.22179719],\n",
       "       [ 1.        ,  0.315     , -0.91357685, ..., -0.80931614,\n",
       "        -0.28078255, -0.88705823]])"
      ]
     },
     "execution_count": 206,
     "metadata": {},
     "output_type": "execute_result"
    }
   ],
   "source": [
    "x"
   ]
  },
  {
   "cell_type": "code",
   "execution_count": 207,
   "id": "12d152c3",
   "metadata": {},
   "outputs": [
    {
     "data": {
      "text/plain": [
       "array([1, 0, 1, 0, 0, 1, 0, 1, 0, 1, 1, 1, 0, 1, 0, 0, 1, 1, 1, 1, 1, 0,\n",
       "       0, 0, 0, 1, 0, 0, 0, 0, 0, 1, 1, 1, 0, 0, 0, 1, 0, 0, 0, 1, 0, 0,\n",
       "       0, 1, 0, 0, 1, 0, 0, 1, 0, 0, 1, 0, 1, 0, 0, 0, 1, 0, 1, 0, 0, 0,\n",
       "       0, 0, 0, 0, 0, 1, 0, 0, 0, 1, 0, 0, 0, 0, 1, 0, 0, 0, 0, 0, 1, 1,\n",
       "       0, 0, 0, 0, 0, 0, 0, 0, 1, 1, 0, 0, 1, 1, 1, 0, 0, 0, 1, 0, 0, 1,\n",
       "       1, 0, 0, 1, 1, 1, 1, 1, 0, 0, 0, 0, 0, 0, 0, 0, 0, 0, 1, 0, 0, 0,\n",
       "       0, 0, 0, 0, 1, 1, 1, 0, 0, 0, 1, 0, 0, 0, 0, 1, 1, 0, 0, 0, 0, 1,\n",
       "       1, 0, 0, 1, 0, 1, 0, 1, 0, 0, 0, 0, 1, 1, 1, 1, 0, 0, 1, 0, 1, 0,\n",
       "       1, 1, 1, 0, 0, 0, 0, 0, 0, 1, 1, 0, 1, 0, 0, 0, 1, 1, 1, 1, 0, 1,\n",
       "       1, 1, 0, 0, 0, 0, 1, 0, 1, 1, 0, 0, 0, 1, 1, 1, 1, 0, 0, 0, 1, 1,\n",
       "       0, 1, 0, 0, 0, 0, 0, 0, 0, 1, 1, 0, 0, 0, 1, 0, 0, 0, 1, 0, 0, 0,\n",
       "       1, 0, 0, 0, 0, 0, 1, 0, 0, 0, 1, 0, 1, 1, 0, 1, 0, 0, 0, 1, 1, 1,\n",
       "       0, 0, 1, 0, 1, 0, 1, 0, 1, 0, 0, 1, 0, 1, 1, 0, 0, 1, 0, 1, 0, 0,\n",
       "       1, 0, 1, 0, 1, 1, 1, 0, 0, 1, 0, 1, 0, 0, 0, 0, 0, 0, 1, 1, 1, 0,\n",
       "       0, 0, 0, 0, 0, 0, 0, 0, 0, 0, 0, 1, 1, 0, 1, 1, 0, 0, 1, 0, 0, 1,\n",
       "       0, 0, 1, 0, 0, 0, 1, 0, 0, 1, 0, 0, 0, 0, 0, 0, 0, 1, 1, 1, 0, 0,\n",
       "       1, 0, 0, 1, 0, 1, 0, 1, 1, 0, 1, 0, 1, 0, 1, 0, 1, 0, 0, 0, 0, 1,\n",
       "       0, 1, 0, 1, 0, 0, 0, 0, 1, 1, 1, 0, 1, 0, 0, 0, 0, 0, 0, 0, 0, 1,\n",
       "       0, 0, 1, 1, 0, 0, 1, 0, 0, 1, 0, 0, 1, 0, 0, 1, 0, 0, 0, 0, 0, 0,\n",
       "       0, 0, 0, 0, 0, 0, 0, 0, 0, 1, 0, 0, 1, 0, 0, 0, 1, 0, 0, 0, 0, 0,\n",
       "       0, 1, 0, 0, 0, 1, 0, 0, 0, 0, 0, 0, 1, 0, 0, 0, 1, 0, 0, 0, 0, 1,\n",
       "       1, 0, 0, 0, 0, 0, 1, 0, 0, 0, 0, 0, 0, 0, 0, 0, 0, 0, 0, 0, 1, 1,\n",
       "       1, 1, 0, 0, 1, 1, 0, 0, 0, 0, 0, 0, 0, 0, 0, 0, 0, 0, 0, 1, 1, 0,\n",
       "       0, 0, 0, 0, 0, 0, 1, 0, 0, 0, 0, 0, 0, 0, 1, 0, 1, 0, 0, 0, 0, 1,\n",
       "       0, 1, 1, 0, 1, 0, 1, 0, 0, 1, 0, 0, 0, 1, 0, 1, 0, 0, 0, 0, 1, 1,\n",
       "       0, 1, 0, 0, 0, 1, 0, 0, 0, 0, 0, 0, 0, 0, 0, 1, 0, 0, 0, 0, 1, 0,\n",
       "       0, 1, 0, 0, 0, 1, 0, 1, 1, 1, 0, 0, 0, 0, 0, 0, 0, 0, 0, 1, 0, 1,\n",
       "       1, 1, 1, 0, 1, 0, 0, 0, 0, 0, 0, 0, 1, 1, 0, 1, 0, 0, 1, 0, 1, 0,\n",
       "       0, 0, 0, 1, 0, 1, 0, 1, 0, 1, 0, 0, 0, 1, 1, 0, 0, 0, 1, 1, 0, 0,\n",
       "       1, 0, 0, 1, 1, 0, 0, 1, 0, 0, 1, 0, 0, 0, 0, 0, 0, 0, 1, 1, 1, 0,\n",
       "       0, 0, 0, 0, 0, 1, 1, 0, 0, 1, 0, 0, 1, 0, 1, 1, 1, 0, 0, 1, 1, 0,\n",
       "       1, 0, 1, 0, 1, 0, 0, 0, 0, 1, 0], dtype=int64)"
      ]
     },
     "execution_count": 207,
     "metadata": {},
     "output_type": "execute_result"
    }
   ],
   "source": [
    "Y"
   ]
  },
  {
   "cell_type": "code",
   "execution_count": 208,
   "id": "a8d517c1",
   "metadata": {},
   "outputs": [
    {
     "data": {
      "text/plain": [
       "array([[ 2.        ,  0.421     , -0.16912153, ..., -0.76887899,\n",
       "        -0.26201826, -1.17856672],\n",
       "       [ 1.        ,  0.293     , -0.59833868, ..., -0.76887899,\n",
       "         1.0208104 ,  0.51780224],\n",
       "       [ 1.        ,  0.808     , -0.03705472, ...,  1.6864593 ,\n",
       "         1.92026497, -0.53233093],\n",
       "       ...,\n",
       "       [ 6.        ,  0.382     , -1.15962263, ..., -0.76887899,\n",
       "        -0.20303763,  0.51780224],\n",
       "       [10.        ,  0.245     ,  0.42517913, ..., -0.76887899,\n",
       "        -0.82233422,  0.0331254 ],\n",
       "       [ 1.        ,  1.268     , -0.99453912, ..., -0.1104019 ,\n",
       "        -1.1024922 , -0.85544882]])"
      ]
     },
     "execution_count": 208,
     "metadata": {},
     "output_type": "execute_result"
    }
   ],
   "source": [
    "x_test"
   ]
  },
  {
   "cell_type": "code",
   "execution_count": 209,
   "id": "65719a46",
   "metadata": {},
   "outputs": [
    {
     "data": {
      "text/plain": [
       "array([0, 1, 1, 0, 1, 1, 0, 1, 0, 0, 0, 0, 0, 0, 1, 1, 0, 1, 1, 0, 0, 1,\n",
       "       1, 0, 0, 1, 0, 1, 0, 0, 0, 0, 1, 1, 1, 0, 1, 0, 0, 0, 0, 0, 0, 0,\n",
       "       0, 0, 0, 1, 0, 1, 1, 0, 0, 1, 0, 1, 1, 0, 1, 0, 1, 0, 1, 0, 0, 0,\n",
       "       0, 0, 0, 0, 0, 1, 1, 0, 0, 0, 0, 1, 0, 1, 0, 0, 1, 1, 0, 0, 1, 1,\n",
       "       0, 0, 0, 0, 0, 1, 0, 0, 0, 0, 0, 1, 0, 1, 1, 0, 0, 0, 0, 0, 0, 0,\n",
       "       0, 1, 0, 1, 0, 1, 0, 1, 0, 0, 0, 0, 1, 0, 0, 1, 1, 0, 0, 1, 0, 1,\n",
       "       1, 0, 0, 0, 0, 0, 0], dtype=int64)"
      ]
     },
     "execution_count": 209,
     "metadata": {},
     "output_type": "execute_result"
    }
   ],
   "source": [
    "Y_test"
   ]
  },
  {
   "cell_type": "markdown",
   "id": "4c43f8a0",
   "metadata": {},
   "source": [
    "## Tuning with Keras"
   ]
  },
  {
   "cell_type": "markdown",
   "id": "20af5a5d",
   "metadata": {},
   "source": [
    "hyperparameters:\n",
    "1)How many number of hidden layers we should have?\n",
    "2)How many number of neurons we should have in hidden layers?\n",
    "3)Learning Rate"
   ]
  },
  {
   "cell_type": "code",
   "execution_count": 292,
   "id": "86f8e82f",
   "metadata": {},
   "outputs": [],
   "source": [
    "from tensorflow import keras\n",
    "from tensorflow.keras import layers\n",
    "from tensorflow.keras.layers import Dense\n",
    "from keras_tuner import RandomSearch\n",
    "from tensorflow.keras.layers import ReLU\n",
    "from tensorflow.keras.optimizers import Adam"
   ]
  },
  {
   "cell_type": "code",
   "execution_count": 280,
   "id": "579fc3cd",
   "metadata": {},
   "outputs": [],
   "source": [
    "def build_model(hp):\n",
    "    model = keras.Sequential()\n",
    "    for i in range(hp.Int('num_layers', 2, 20)):\n",
    "        model.add(layers.Dense(units=hp.Int('units_' + str(i),\n",
    "                                            min_value=32,\n",
    "                                            max_value=512,\n",
    "                                            step=32),\n",
    "                               activation='relu'))\n",
    "    model.add(layers.Dense(1, activation='linear'))\n",
    "    model.compile(\n",
    "        optimizer=keras.optimizers.Adam(\n",
    "            hp.Choice('learning_rate', [1e-2, 1e-3, 1e-4])),\n",
    "        loss='mean_absolute_error',\n",
    "        metrics=['mean_absolute_error'])\n",
    "    return model"
   ]
  },
  {
   "cell_type": "code",
   "execution_count": 281,
   "id": "d9a6a54e",
   "metadata": {},
   "outputs": [
    {
     "name": "stdout",
     "output_type": "stream",
     "text": [
      "INFO:tensorflow:Reloading Oracle from existing project .\\untitled_project\\oracle.json\n"
     ]
    }
   ],
   "source": [
    "tuner = RandomSearch(\n",
    "    build_model,\n",
    "    objective='val_mean_absolute_error',\n",
    "    max_trials=5,\n",
    "    executions_per_trial=3,)"
   ]
  },
  {
   "cell_type": "code",
   "execution_count": 282,
   "id": "403ce86b",
   "metadata": {},
   "outputs": [
    {
     "name": "stdout",
     "output_type": "stream",
     "text": [
      "Search space summary\n",
      "Default search space size: 5\n",
      "units_69 (Int)\n",
      "{'default': None, 'conditions': [], 'min_value': 7, 'max_value': 50, 'step': 4, 'sampling': None}\n",
      "learning_rate (Choice)\n",
      "{'default': 0.01, 'conditions': [], 'values': [0.01, 0.001, 0.0001], 'ordered': True}\n",
      "num_layers (Int)\n",
      "{'default': None, 'conditions': [], 'min_value': 2, 'max_value': 20, 'step': 1, 'sampling': None}\n",
      "units_0 (Int)\n",
      "{'default': None, 'conditions': [], 'min_value': 32, 'max_value': 512, 'step': 32, 'sampling': None}\n",
      "units_1 (Int)\n",
      "{'default': None, 'conditions': [], 'min_value': 32, 'max_value': 512, 'step': 32, 'sampling': None}\n"
     ]
    }
   ],
   "source": [
    "tuner.search_space_summary()"
   ]
  },
  {
   "cell_type": "code",
   "execution_count": 283,
   "id": "8a1075d0",
   "metadata": {},
   "outputs": [
    {
     "name": "stdout",
     "output_type": "stream",
     "text": [
      "Trial 5 Complete [00h 00m 14s]\n",
      "val_mean_absolute_error: 0.27166083455085754\n",
      "\n",
      "Best val_mean_absolute_error So Far: 0.24632256229718527\n",
      "Total elapsed time: 00h 01m 46s\n",
      "INFO:tensorflow:Oracle triggered exit\n"
     ]
    }
   ],
   "source": [
    "tuner.search(x,Y,epochs=10,validation_data=(x_test,Y_test))"
   ]
  },
  {
   "cell_type": "code",
   "execution_count": 284,
   "id": "8dfaf7c0",
   "metadata": {},
   "outputs": [
    {
     "name": "stdout",
     "output_type": "stream",
     "text": [
      "Results summary\n",
      "Results in .\\untitled_project\n",
      "Showing 10 best trials\n",
      "<keras_tuner.engine.objective.Objective object at 0x000001FBC30D4FA0>\n",
      "Trial summary\n",
      "Hyperparameters:\n",
      "units_69: 19\n",
      "learning_rate: 0.0001\n",
      "num_layers: 12\n",
      "units_0: 320\n",
      "units_1: 256\n",
      "units_2: 224\n",
      "units_3: 384\n",
      "units_4: 192\n",
      "units_5: 320\n",
      "units_6: 192\n",
      "units_7: 128\n",
      "units_8: 480\n",
      "units_9: 192\n",
      "units_10: 480\n",
      "units_11: 480\n",
      "units_12: 128\n",
      "units_13: 192\n",
      "units_14: 416\n",
      "units_15: 224\n",
      "units_16: 352\n",
      "units_17: 192\n",
      "units_18: 384\n",
      "Score: 0.24632256229718527\n",
      "Trial summary\n",
      "Hyperparameters:\n",
      "units_69: 15\n",
      "learning_rate: 0.001\n",
      "num_layers: 19\n",
      "units_0: 256\n",
      "units_1: 64\n",
      "units_2: 32\n",
      "units_3: 32\n",
      "units_4: 32\n",
      "units_5: 32\n",
      "units_6: 32\n",
      "units_7: 32\n",
      "units_8: 32\n",
      "units_9: 32\n",
      "units_10: 32\n",
      "units_11: 32\n",
      "units_12: 32\n",
      "units_13: 32\n",
      "units_14: 32\n",
      "units_15: 32\n",
      "units_16: 32\n",
      "units_17: 32\n",
      "units_18: 32\n",
      "Score: 0.2526745448509852\n",
      "Trial summary\n",
      "Hyperparameters:\n",
      "units_69: 7\n",
      "learning_rate: 0.0001\n",
      "num_layers: 3\n",
      "units_0: 160\n",
      "units_1: 416\n",
      "units_2: 288\n",
      "units_3: 512\n",
      "units_4: 256\n",
      "units_5: 288\n",
      "units_6: 480\n",
      "units_7: 288\n",
      "units_8: 448\n",
      "units_9: 160\n",
      "units_10: 64\n",
      "units_11: 320\n",
      "units_12: 480\n",
      "units_13: 96\n",
      "units_14: 224\n",
      "units_15: 256\n",
      "units_16: 320\n",
      "units_17: 96\n",
      "units_18: 96\n",
      "Score: 0.27166083455085754\n",
      "Trial summary\n",
      "Hyperparameters:\n",
      "units_69: 31\n",
      "learning_rate: 0.001\n",
      "num_layers: 2\n",
      "units_0: 32\n",
      "units_1: 32\n",
      "Score: 0.3013714750607808\n",
      "Trial summary\n",
      "Hyperparameters:\n",
      "units_69: 15\n",
      "learning_rate: 0.01\n",
      "num_layers: 14\n",
      "units_0: 416\n",
      "units_1: 320\n",
      "units_2: 448\n",
      "units_3: 64\n",
      "units_4: 384\n",
      "units_5: 288\n",
      "units_6: 224\n",
      "units_7: 128\n",
      "units_8: 256\n",
      "units_9: 416\n",
      "units_10: 224\n",
      "units_11: 320\n",
      "units_12: 320\n",
      "units_13: 224\n",
      "units_14: 192\n",
      "units_15: 352\n",
      "units_16: 224\n",
      "units_17: 288\n",
      "units_18: 160\n",
      "Score: 0.3458399573961894\n"
     ]
    }
   ],
   "source": [
    "tuner.results_summary()"
   ]
  },
  {
   "cell_type": "markdown",
   "id": "31355db5",
   "metadata": {},
   "source": [
    "### Building ANN model "
   ]
  },
  {
   "cell_type": "code",
   "execution_count": 299,
   "id": "a88527f6",
   "metadata": {},
   "outputs": [],
   "source": [
    "#Initializing the model\n",
    "ANN=keras.Sequential()"
   ]
  },
  {
   "cell_type": "code",
   "execution_count": 300,
   "id": "5eaf1d2c",
   "metadata": {},
   "outputs": [],
   "source": [
    "#Adding input layer and first hidden layer\n",
    "ANN.add(Dense(input_dim=8,units=320,activation=\"ReLU\",kernel_initializer=\"GlorotUniform\"))"
   ]
  },
  {
   "cell_type": "code",
   "execution_count": 301,
   "id": "290a73c9",
   "metadata": {},
   "outputs": [],
   "source": [
    "#Adding all remaining hidden layers\n",
    "ANN.add(Dense(units=256,activation=\"ReLU\",kernel_initializer=\"GlorotUniform\"))\n",
    "ANN.add(Dense(units=224,activation=\"ReLU\",kernel_initializer=\"GlorotUniform\"))\n",
    "ANN.add(Dense(units=384,activation=\"ReLU\",kernel_initializer=\"GlorotUniform\"))\n",
    "ANN.add(Dense(units=192,activation=\"ReLU\",kernel_initializer=\"GlorotUniform\"))\n",
    "ANN.add(Dense(units=320,activation=\"ReLU\",kernel_initializer=\"GlorotUniform\"))\n",
    "ANN.add(Dense(units=192,activation=\"ReLU\",kernel_initializer=\"GlorotUniform\"))\n",
    "ANN.add(Dense(units=128,activation=\"ReLU\",kernel_initializer=\"GlorotUniform\"))\n",
    "ANN.add(Dense(units=480,activation=\"ReLU\",kernel_initializer=\"GlorotUniform\"))\n",
    "ANN.add(Dense(units=192,activation=\"ReLU\",kernel_initializer=\"GlorotUniform\"))\n",
    "ANN.add(Dense(units=480,activation=\"ReLU\",kernel_initializer=\"GlorotUniform\"))\n",
    "ANN.add(Dense(units=480,activation=\"ReLU\",kernel_initializer=\"GlorotUniform\"))\n",
    "ANN.add(Dense(units=128,activation=\"ReLU\",kernel_initializer=\"GlorotUniform\"))\n",
    "ANN.add(Dense(units=192,activation=\"ReLU\",kernel_initializer=\"GlorotUniform\"))\n",
    "ANN.add(Dense(units=416,activation=\"ReLU\",kernel_initializer=\"GlorotUniform\"))\n",
    "ANN.add(Dense(units=224,activation=\"ReLU\",kernel_initializer=\"GlorotUniform\"))\n",
    "ANN.add(Dense(units=352,activation=\"ReLU\",kernel_initializer=\"GlorotUniform\"))\n",
    "ANN.add(Dense(units=192,activation=\"ReLU\",kernel_initializer=\"GlorotUniform\"))\n",
    "ANN.add(Dense(units=384,activation=\"ReLU\",kernel_initializer=\"GlorotUniform\"))"
   ]
  },
  {
   "cell_type": "code",
   "execution_count": 302,
   "id": "0a287641",
   "metadata": {},
   "outputs": [],
   "source": [
    "#Adding output layer\n",
    "ANN.add(Dense(units=1,activation=\"sigmoid\"))"
   ]
  },
  {
   "cell_type": "code",
   "execution_count": 303,
   "id": "5c2a0397",
   "metadata": {},
   "outputs": [],
   "source": [
    "#Compiling the Neural Network\n",
    "Adam_optimizer=Adam(learning_rate=0.0001)\n",
    "ANN.compile(optimizer=Adam_optimizer,\n",
    "           loss=\"binary_crossentropy\",\n",
    "           metrics=[\"accuracy\"])"
   ]
  },
  {
   "cell_type": "code",
   "execution_count": 304,
   "id": "ba8ed9ea",
   "metadata": {},
   "outputs": [
    {
     "name": "stdout",
     "output_type": "stream",
     "text": [
      "Epoch 1/100\n",
      "22/22 [==============================] - 2s 29ms/step - loss: 0.6864 - accuracy: 0.6652 - val_loss: 0.6682 - val_accuracy: 0.6547\n",
      "Epoch 2/100\n",
      "22/22 [==============================] - 0s 16ms/step - loss: 0.6081 - accuracy: 0.6652 - val_loss: 0.5508 - val_accuracy: 0.6547\n",
      "Epoch 3/100\n",
      "22/22 [==============================] - 0s 15ms/step - loss: 0.5188 - accuracy: 0.6652 - val_loss: 0.5203 - val_accuracy: 0.6547\n",
      "Epoch 4/100\n",
      "22/22 [==============================] - 0s 16ms/step - loss: 0.4864 - accuracy: 0.6869 - val_loss: 0.5108 - val_accuracy: 0.7410\n",
      "Epoch 5/100\n",
      "22/22 [==============================] - 0s 15ms/step - loss: 0.4814 - accuracy: 0.7561 - val_loss: 0.5099 - val_accuracy: 0.7482\n",
      "Epoch 6/100\n",
      "22/22 [==============================] - 0s 17ms/step - loss: 0.4615 - accuracy: 0.7662 - val_loss: 0.4942 - val_accuracy: 0.7338\n",
      "Epoch 7/100\n",
      "22/22 [==============================] - 0s 17ms/step - loss: 0.4374 - accuracy: 0.7937 - val_loss: 0.5054 - val_accuracy: 0.7338\n",
      "Epoch 8/100\n",
      "22/22 [==============================] - 0s 18ms/step - loss: 0.4348 - accuracy: 0.7835 - val_loss: 0.5067 - val_accuracy: 0.7626\n",
      "Epoch 9/100\n",
      "22/22 [==============================] - 0s 19ms/step - loss: 0.4214 - accuracy: 0.7922 - val_loss: 0.4790 - val_accuracy: 0.7914\n",
      "Epoch 10/100\n",
      "22/22 [==============================] - 0s 18ms/step - loss: 0.4042 - accuracy: 0.8110 - val_loss: 0.4479 - val_accuracy: 0.7770\n",
      "Epoch 11/100\n",
      "22/22 [==============================] - 0s 18ms/step - loss: 0.3816 - accuracy: 0.8124 - val_loss: 0.4780 - val_accuracy: 0.7698\n",
      "Epoch 12/100\n",
      "22/22 [==============================] - 0s 18ms/step - loss: 0.3745 - accuracy: 0.8326 - val_loss: 0.4200 - val_accuracy: 0.7986\n",
      "Epoch 13/100\n",
      "22/22 [==============================] - 0s 16ms/step - loss: 0.3907 - accuracy: 0.8254 - val_loss: 0.4243 - val_accuracy: 0.8129\n",
      "Epoch 14/100\n",
      "22/22 [==============================] - 0s 16ms/step - loss: 0.3945 - accuracy: 0.8167 - val_loss: 0.4471 - val_accuracy: 0.8273\n",
      "Epoch 15/100\n",
      "22/22 [==============================] - 0s 16ms/step - loss: 0.3718 - accuracy: 0.8297 - val_loss: 0.4066 - val_accuracy: 0.8129\n",
      "Epoch 16/100\n",
      "22/22 [==============================] - 0s 16ms/step - loss: 0.3299 - accuracy: 0.8499 - val_loss: 0.4554 - val_accuracy: 0.8129\n",
      "Epoch 17/100\n",
      "22/22 [==============================] - 0s 16ms/step - loss: 0.3131 - accuracy: 0.8687 - val_loss: 0.4083 - val_accuracy: 0.8345\n",
      "Epoch 18/100\n",
      "22/22 [==============================] - 0s 16ms/step - loss: 0.3042 - accuracy: 0.8644 - val_loss: 0.3491 - val_accuracy: 0.8345\n",
      "Epoch 19/100\n",
      "22/22 [==============================] - 0s 16ms/step - loss: 0.2927 - accuracy: 0.8658 - val_loss: 0.3804 - val_accuracy: 0.8129\n",
      "Epoch 20/100\n",
      "22/22 [==============================] - 0s 16ms/step - loss: 0.2775 - accuracy: 0.8687 - val_loss: 0.3399 - val_accuracy: 0.8417\n",
      "Epoch 21/100\n",
      "22/22 [==============================] - 0s 16ms/step - loss: 0.2763 - accuracy: 0.8788 - val_loss: 0.3482 - val_accuracy: 0.8417\n",
      "Epoch 22/100\n",
      "22/22 [==============================] - 0s 18ms/step - loss: 0.2832 - accuracy: 0.8644 - val_loss: 0.3176 - val_accuracy: 0.8633\n",
      "Epoch 23/100\n",
      "22/22 [==============================] - 0s 17ms/step - loss: 0.2558 - accuracy: 0.8817 - val_loss: 0.3160 - val_accuracy: 0.8489\n",
      "Epoch 24/100\n",
      "22/22 [==============================] - 0s 16ms/step - loss: 0.2346 - accuracy: 0.9033 - val_loss: 0.3651 - val_accuracy: 0.8489\n",
      "Epoch 25/100\n",
      "22/22 [==============================] - 0s 17ms/step - loss: 0.2911 - accuracy: 0.8600 - val_loss: 0.3537 - val_accuracy: 0.8345\n",
      "Epoch 26/100\n",
      "22/22 [==============================] - 0s 16ms/step - loss: 0.2508 - accuracy: 0.8918 - val_loss: 0.3062 - val_accuracy: 0.8489\n",
      "Epoch 27/100\n",
      "22/22 [==============================] - 0s 16ms/step - loss: 0.2258 - accuracy: 0.8961 - val_loss: 0.2715 - val_accuracy: 0.8633\n",
      "Epoch 28/100\n",
      "22/22 [==============================] - 0s 16ms/step - loss: 0.1996 - accuracy: 0.9149 - val_loss: 0.2579 - val_accuracy: 0.8849\n",
      "Epoch 29/100\n",
      "22/22 [==============================] - 0s 16ms/step - loss: 0.2062 - accuracy: 0.9149 - val_loss: 0.2758 - val_accuracy: 0.8489\n",
      "Epoch 30/100\n",
      "22/22 [==============================] - 0s 16ms/step - loss: 0.1863 - accuracy: 0.9221 - val_loss: 0.2041 - val_accuracy: 0.8849\n",
      "Epoch 31/100\n",
      "22/22 [==============================] - 0s 17ms/step - loss: 0.2071 - accuracy: 0.9048 - val_loss: 0.2468 - val_accuracy: 0.8777\n",
      "Epoch 32/100\n",
      "22/22 [==============================] - 0s 16ms/step - loss: 0.1768 - accuracy: 0.9177 - val_loss: 0.1890 - val_accuracy: 0.8993\n",
      "Epoch 33/100\n",
      "22/22 [==============================] - 0s 16ms/step - loss: 0.1531 - accuracy: 0.9394 - val_loss: 0.2360 - val_accuracy: 0.8921\n",
      "Epoch 34/100\n",
      "22/22 [==============================] - 0s 16ms/step - loss: 0.1534 - accuracy: 0.9394 - val_loss: 0.2147 - val_accuracy: 0.8993\n",
      "Epoch 35/100\n",
      "22/22 [==============================] - 0s 15ms/step - loss: 0.1634 - accuracy: 0.9278 - val_loss: 0.1864 - val_accuracy: 0.8993\n",
      "Epoch 36/100\n",
      "22/22 [==============================] - 0s 17ms/step - loss: 0.1409 - accuracy: 0.9495 - val_loss: 0.2917 - val_accuracy: 0.8705\n",
      "Epoch 37/100\n",
      "22/22 [==============================] - 0s 17ms/step - loss: 0.1933 - accuracy: 0.9062 - val_loss: 0.2068 - val_accuracy: 0.8777\n",
      "Epoch 38/100\n",
      "22/22 [==============================] - 0s 17ms/step - loss: 0.1638 - accuracy: 0.9221 - val_loss: 0.2042 - val_accuracy: 0.9137\n",
      "Epoch 39/100\n",
      "22/22 [==============================] - 0s 15ms/step - loss: 0.1700 - accuracy: 0.9307 - val_loss: 0.2548 - val_accuracy: 0.8849\n",
      "Epoch 40/100\n",
      "22/22 [==============================] - 0s 15ms/step - loss: 0.1257 - accuracy: 0.9452 - val_loss: 0.1665 - val_accuracy: 0.9137\n",
      "Epoch 41/100\n",
      "22/22 [==============================] - 0s 16ms/step - loss: 0.1010 - accuracy: 0.9582 - val_loss: 0.1086 - val_accuracy: 0.9424\n",
      "Epoch 42/100\n",
      "22/22 [==============================] - 0s 15ms/step - loss: 0.0861 - accuracy: 0.9639 - val_loss: 0.2242 - val_accuracy: 0.9281\n",
      "Epoch 43/100\n",
      "22/22 [==============================] - 0s 16ms/step - loss: 0.2962 - accuracy: 0.8730 - val_loss: 0.3097 - val_accuracy: 0.8777\n",
      "Epoch 44/100\n",
      "22/22 [==============================] - 0s 15ms/step - loss: 0.2137 - accuracy: 0.9033 - val_loss: 0.2226 - val_accuracy: 0.8849\n",
      "Epoch 45/100\n",
      "22/22 [==============================] - 0s 17ms/step - loss: 0.1397 - accuracy: 0.9495 - val_loss: 0.1320 - val_accuracy: 0.9281\n",
      "Epoch 46/100\n",
      "22/22 [==============================] - 0s 15ms/step - loss: 0.1000 - accuracy: 0.9582 - val_loss: 0.0867 - val_accuracy: 0.9712\n",
      "Epoch 47/100\n",
      "22/22 [==============================] - 0s 16ms/step - loss: 0.0823 - accuracy: 0.9683 - val_loss: 0.1405 - val_accuracy: 0.9281\n",
      "Epoch 48/100\n",
      "22/22 [==============================] - 0s 16ms/step - loss: 0.0748 - accuracy: 0.9683 - val_loss: 0.1192 - val_accuracy: 0.9281\n",
      "Epoch 49/100\n",
      "22/22 [==============================] - 0s 17ms/step - loss: 0.0531 - accuracy: 0.9798 - val_loss: 0.1017 - val_accuracy: 0.9496\n",
      "Epoch 50/100\n",
      "22/22 [==============================] - 0s 16ms/step - loss: 0.0385 - accuracy: 0.9798 - val_loss: 0.0789 - val_accuracy: 0.9640\n",
      "Epoch 51/100\n",
      "22/22 [==============================] - 0s 18ms/step - loss: 0.1260 - accuracy: 0.9481 - val_loss: 0.2694 - val_accuracy: 0.9065\n",
      "Epoch 52/100\n",
      "22/22 [==============================] - 0s 19ms/step - loss: 0.1156 - accuracy: 0.9437 - val_loss: 0.1297 - val_accuracy: 0.9568\n",
      "Epoch 53/100\n",
      "22/22 [==============================] - 0s 21ms/step - loss: 0.0619 - accuracy: 0.9769 - val_loss: 0.0614 - val_accuracy: 0.9568\n",
      "Epoch 54/100\n",
      "22/22 [==============================] - 0s 21ms/step - loss: 0.0371 - accuracy: 0.9870 - val_loss: 0.0484 - val_accuracy: 0.9856\n",
      "Epoch 55/100\n",
      "22/22 [==============================] - 0s 21ms/step - loss: 0.0829 - accuracy: 0.9711 - val_loss: 0.1863 - val_accuracy: 0.9209\n",
      "Epoch 56/100\n",
      "22/22 [==============================] - 0s 21ms/step - loss: 0.1198 - accuracy: 0.9553 - val_loss: 0.1310 - val_accuracy: 0.9424\n",
      "Epoch 57/100\n",
      "22/22 [==============================] - 0s 21ms/step - loss: 0.0594 - accuracy: 0.9769 - val_loss: 0.0518 - val_accuracy: 0.9856\n",
      "Epoch 58/100\n"
     ]
    },
    {
     "name": "stdout",
     "output_type": "stream",
     "text": [
      "22/22 [==============================] - 0s 20ms/step - loss: 0.0456 - accuracy: 0.9784 - val_loss: 0.2406 - val_accuracy: 0.9281\n",
      "Epoch 59/100\n",
      "22/22 [==============================] - 0s 21ms/step - loss: 0.0886 - accuracy: 0.9683 - val_loss: 0.0897 - val_accuracy: 0.9712\n",
      "Epoch 60/100\n",
      "22/22 [==============================] - 0s 21ms/step - loss: 0.1017 - accuracy: 0.9596 - val_loss: 0.1776 - val_accuracy: 0.9209\n",
      "Epoch 61/100\n",
      "22/22 [==============================] - 0s 22ms/step - loss: 0.0641 - accuracy: 0.9726 - val_loss: 0.0954 - val_accuracy: 0.9496\n",
      "Epoch 62/100\n",
      "22/22 [==============================] - 0s 22ms/step - loss: 0.0279 - accuracy: 0.9942 - val_loss: 0.0521 - val_accuracy: 0.9856\n",
      "Epoch 63/100\n",
      "22/22 [==============================] - 0s 20ms/step - loss: 0.0399 - accuracy: 0.9856 - val_loss: 0.0885 - val_accuracy: 0.9568\n",
      "Epoch 64/100\n",
      "22/22 [==============================] - 0s 20ms/step - loss: 0.0612 - accuracy: 0.9812 - val_loss: 0.1119 - val_accuracy: 0.9640\n",
      "Epoch 65/100\n",
      "22/22 [==============================] - 0s 19ms/step - loss: 0.1115 - accuracy: 0.9524 - val_loss: 0.1110 - val_accuracy: 0.9568\n",
      "Epoch 66/100\n",
      "22/22 [==============================] - 0s 20ms/step - loss: 0.0505 - accuracy: 0.9812 - val_loss: 0.0483 - val_accuracy: 0.9856\n",
      "Epoch 67/100\n",
      "22/22 [==============================] - 0s 19ms/step - loss: 0.0207 - accuracy: 0.9942 - val_loss: 0.0531 - val_accuracy: 0.9856\n",
      "Epoch 68/100\n",
      "22/22 [==============================] - 0s 22ms/step - loss: 0.0161 - accuracy: 0.9942 - val_loss: 0.0207 - val_accuracy: 0.9856\n",
      "Epoch 69/100\n",
      "22/22 [==============================] - 0s 19ms/step - loss: 0.0460 - accuracy: 0.9827 - val_loss: 0.4033 - val_accuracy: 0.9137\n",
      "Epoch 70/100\n",
      "22/22 [==============================] - 0s 20ms/step - loss: 0.1911 - accuracy: 0.9394 - val_loss: 0.1869 - val_accuracy: 0.9496\n",
      "Epoch 71/100\n",
      "22/22 [==============================] - 0s 21ms/step - loss: 0.1079 - accuracy: 0.9582 - val_loss: 0.1374 - val_accuracy: 0.9281\n",
      "Epoch 72/100\n",
      "22/22 [==============================] - 0s 20ms/step - loss: 0.0402 - accuracy: 0.9885 - val_loss: 0.0252 - val_accuracy: 0.9928\n",
      "Epoch 73/100\n",
      "22/22 [==============================] - 0s 21ms/step - loss: 0.0267 - accuracy: 0.9928 - val_loss: 0.1152 - val_accuracy: 0.9784\n",
      "Epoch 74/100\n",
      "22/22 [==============================] - 0s 19ms/step - loss: 0.0208 - accuracy: 0.9928 - val_loss: 0.1071 - val_accuracy: 0.9784\n",
      "Epoch 75/100\n",
      "22/22 [==============================] - 0s 22ms/step - loss: 0.0786 - accuracy: 0.9711 - val_loss: 0.2139 - val_accuracy: 0.9281\n",
      "Epoch 76/100\n",
      "22/22 [==============================] - 0s 21ms/step - loss: 0.1070 - accuracy: 0.9639 - val_loss: 0.1980 - val_accuracy: 0.9281\n",
      "Epoch 77/100\n",
      "22/22 [==============================] - 0s 20ms/step - loss: 0.0695 - accuracy: 0.9769 - val_loss: 0.0964 - val_accuracy: 0.9568\n",
      "Epoch 78/100\n",
      "22/22 [==============================] - 0s 19ms/step - loss: 0.0637 - accuracy: 0.9784 - val_loss: 0.1803 - val_accuracy: 0.9424\n",
      "Epoch 79/100\n",
      "22/22 [==============================] - 0s 19ms/step - loss: 0.0578 - accuracy: 0.9784 - val_loss: 0.0788 - val_accuracy: 0.9784\n",
      "Epoch 80/100\n",
      "22/22 [==============================] - 0s 19ms/step - loss: 0.0331 - accuracy: 0.9928 - val_loss: 0.0698 - val_accuracy: 0.9784\n",
      "Epoch 81/100\n",
      "22/22 [==============================] - 0s 20ms/step - loss: 0.0276 - accuracy: 0.9899 - val_loss: 0.0480 - val_accuracy: 0.9856\n",
      "Epoch 82/100\n",
      "22/22 [==============================] - 0s 19ms/step - loss: 0.0167 - accuracy: 0.9942 - val_loss: 0.2039 - val_accuracy: 0.9424\n",
      "Epoch 83/100\n",
      "22/22 [==============================] - 0s 19ms/step - loss: 0.0465 - accuracy: 0.9812 - val_loss: 0.1958 - val_accuracy: 0.9496\n",
      "Epoch 84/100\n",
      "22/22 [==============================] - 0s 18ms/step - loss: 0.0570 - accuracy: 0.9769 - val_loss: 0.1559 - val_accuracy: 0.9424\n",
      "Epoch 85/100\n",
      "22/22 [==============================] - 0s 20ms/step - loss: 0.0276 - accuracy: 0.9899 - val_loss: 0.0800 - val_accuracy: 0.9712\n",
      "Epoch 86/100\n",
      "22/22 [==============================] - 0s 19ms/step - loss: 0.0111 - accuracy: 0.9971 - val_loss: 0.0522 - val_accuracy: 0.9856\n",
      "Epoch 87/100\n",
      "22/22 [==============================] - 0s 19ms/step - loss: 0.0124 - accuracy: 0.9957 - val_loss: 0.0348 - val_accuracy: 0.9928\n",
      "Epoch 88/100\n",
      "22/22 [==============================] - 0s 18ms/step - loss: 0.0292 - accuracy: 0.9899 - val_loss: 0.1685 - val_accuracy: 0.9353\n",
      "Epoch 89/100\n",
      "22/22 [==============================] - 0s 19ms/step - loss: 0.0487 - accuracy: 0.9827 - val_loss: 0.0892 - val_accuracy: 0.9496\n",
      "Epoch 90/100\n",
      "22/22 [==============================] - 0s 21ms/step - loss: 0.0243 - accuracy: 0.9913 - val_loss: 0.0849 - val_accuracy: 0.9712\n",
      "Epoch 91/100\n",
      "22/22 [==============================] - 0s 20ms/step - loss: 0.0114 - accuracy: 0.9957 - val_loss: 0.0580 - val_accuracy: 0.9856\n",
      "Epoch 92/100\n",
      "22/22 [==============================] - 0s 19ms/step - loss: 0.0131 - accuracy: 0.9957 - val_loss: 0.0319 - val_accuracy: 0.9928\n",
      "Epoch 93/100\n",
      "22/22 [==============================] - 0s 19ms/step - loss: 0.0053 - accuracy: 0.9986 - val_loss: 0.0589 - val_accuracy: 0.9856\n",
      "Epoch 94/100\n",
      "22/22 [==============================] - 0s 19ms/step - loss: 0.0096 - accuracy: 0.9971 - val_loss: 0.0962 - val_accuracy: 0.9712\n",
      "Epoch 95/100\n",
      "22/22 [==============================] - 0s 20ms/step - loss: 0.0319 - accuracy: 0.9913 - val_loss: 0.1138 - val_accuracy: 0.9712\n",
      "Epoch 96/100\n",
      "22/22 [==============================] - 0s 19ms/step - loss: 0.0654 - accuracy: 0.9755 - val_loss: 0.1695 - val_accuracy: 0.9496\n",
      "Epoch 97/100\n",
      "22/22 [==============================] - 0s 21ms/step - loss: 0.0717 - accuracy: 0.9711 - val_loss: 0.1403 - val_accuracy: 0.9784\n",
      "Epoch 98/100\n",
      "22/22 [==============================] - 0s 21ms/step - loss: 0.0279 - accuracy: 0.9957 - val_loss: 0.0479 - val_accuracy: 0.9856\n",
      "Epoch 99/100\n",
      "22/22 [==============================] - 0s 20ms/step - loss: 0.0071 - accuracy: 0.9986 - val_loss: 0.0439 - val_accuracy: 0.9928\n",
      "Epoch 100/100\n",
      "22/22 [==============================] - 0s 20ms/step - loss: 0.0020 - accuracy: 1.0000 - val_loss: 0.0437 - val_accuracy: 0.9928\n"
     ]
    }
   ],
   "source": [
    "ANN_model=ANN.fit(x,Y,validation_data=(x_test,Y_test),epochs=100)"
   ]
  },
  {
   "cell_type": "code",
   "execution_count": 315,
   "id": "462a461b",
   "metadata": {},
   "outputs": [
    {
     "name": "stdout",
     "output_type": "stream",
     "text": [
      "5/5 [==============================] - 0s 6ms/step\n"
     ]
    },
    {
     "data": {
      "text/plain": [
       "array([[1.86318928e-07],\n",
       "       [9.99999583e-01],\n",
       "       [3.35498201e-03],\n",
       "       [1.51941819e-07],\n",
       "       [9.99934375e-01],\n",
       "       [9.99999881e-01],\n",
       "       [2.91024189e-32],\n",
       "       [9.99991298e-01],\n",
       "       [6.74507874e-06],\n",
       "       [5.20508096e-04],\n",
       "       [8.75013413e-08],\n",
       "       [2.01968150e-03],\n",
       "       [9.95387175e-31],\n",
       "       [2.37099125e-11],\n",
       "       [9.99977767e-01],\n",
       "       [9.99786139e-01],\n",
       "       [2.91075594e-07],\n",
       "       [9.99980390e-01],\n",
       "       [9.99991596e-01],\n",
       "       [3.73410218e-25],\n",
       "       [1.67688031e-05],\n",
       "       [9.99984503e-01],\n",
       "       [9.99705195e-01],\n",
       "       [8.35249381e-08],\n",
       "       [5.08363337e-05],\n",
       "       [9.99182403e-01],\n",
       "       [2.38366894e-07],\n",
       "       [9.99153495e-01],\n",
       "       [5.75009153e-07],\n",
       "       [1.98669596e-07],\n",
       "       [1.57571930e-15],\n",
       "       [9.24560595e-10],\n",
       "       [9.99956489e-01],\n",
       "       [9.99997854e-01],\n",
       "       [9.99965668e-01],\n",
       "       [2.04869616e-03],\n",
       "       [9.99999702e-01],\n",
       "       [1.08284432e-04],\n",
       "       [1.99473877e-16],\n",
       "       [5.42699599e-05],\n",
       "       [3.49873411e-19],\n",
       "       [4.37640040e-07],\n",
       "       [2.35356232e-08],\n",
       "       [3.20290951e-07],\n",
       "       [8.74775585e-10],\n",
       "       [5.17174311e-04],\n",
       "       [6.81444554e-11],\n",
       "       [9.99721944e-01],\n",
       "       [1.01660352e-13],\n",
       "       [9.99899626e-01],\n",
       "       [9.99997318e-01],\n",
       "       [5.85792710e-22],\n",
       "       [2.47889318e-07],\n",
       "       [9.99999821e-01],\n",
       "       [4.86872518e-23],\n",
       "       [9.52556908e-01],\n",
       "       [1.00000000e+00],\n",
       "       [3.60452539e-08],\n",
       "       [1.00000000e+00],\n",
       "       [6.44383491e-17],\n",
       "       [9.91986215e-01],\n",
       "       [1.90854871e-06],\n",
       "       [9.98266280e-01],\n",
       "       [0.00000000e+00],\n",
       "       [2.89315722e-05],\n",
       "       [3.56392776e-10],\n",
       "       [4.46947410e-11],\n",
       "       [6.87458441e-06],\n",
       "       [1.10750589e-10],\n",
       "       [2.12677792e-02],\n",
       "       [1.69825029e-22],\n",
       "       [9.99814808e-01],\n",
       "       [9.92904484e-01],\n",
       "       [1.48734287e-16],\n",
       "       [8.11415046e-10],\n",
       "       [1.42187118e-09],\n",
       "       [1.18982469e-21],\n",
       "       [9.89363134e-01],\n",
       "       [5.19769674e-06],\n",
       "       [1.00000000e+00],\n",
       "       [2.11176889e-08],\n",
       "       [1.70399619e-06],\n",
       "       [9.99999583e-01],\n",
       "       [9.99999225e-01],\n",
       "       [1.01675059e-05],\n",
       "       [2.98639464e-22],\n",
       "       [9.99215484e-01],\n",
       "       [9.99317706e-01],\n",
       "       [4.67023253e-02],\n",
       "       [9.68442393e-08],\n",
       "       [1.78283599e-07],\n",
       "       [4.30530577e-07],\n",
       "       [3.74946636e-11],\n",
       "       [9.99563932e-01],\n",
       "       [1.25920743e-18],\n",
       "       [1.41214352e-21],\n",
       "       [1.12108829e-11],\n",
       "       [1.00297811e-07],\n",
       "       [1.55834005e-14],\n",
       "       [9.99999642e-01],\n",
       "       [5.66124327e-05],\n",
       "       [1.00000000e+00],\n",
       "       [8.91912341e-01],\n",
       "       [8.22779896e-07],\n",
       "       [2.62230016e-12],\n",
       "       [2.74755020e-19],\n",
       "       [8.57579253e-14],\n",
       "       [8.94099230e-06],\n",
       "       [2.21272898e-17],\n",
       "       [4.00712324e-10],\n",
       "       [2.50478877e-07],\n",
       "       [1.00000000e+00],\n",
       "       [2.85271966e-08],\n",
       "       [9.99998331e-01],\n",
       "       [5.40688518e-07],\n",
       "       [9.99982774e-01],\n",
       "       [3.85531166e-07],\n",
       "       [1.00000000e+00],\n",
       "       [3.04080483e-10],\n",
       "       [5.34208199e-11],\n",
       "       [3.85561201e-04],\n",
       "       [1.16746075e-11],\n",
       "       [1.00000000e+00],\n",
       "       [1.58136281e-05],\n",
       "       [1.65668579e-09],\n",
       "       [9.99998510e-01],\n",
       "       [9.99991298e-01],\n",
       "       [5.52224144e-02],\n",
       "       [1.51222384e-05],\n",
       "       [9.99488235e-01],\n",
       "       [1.21679189e-09],\n",
       "       [1.00000000e+00],\n",
       "       [9.99999821e-01],\n",
       "       [2.07132834e-04],\n",
       "       [1.51319513e-02],\n",
       "       [6.04626141e-04],\n",
       "       [3.90244253e-07],\n",
       "       [3.66487876e-02],\n",
       "       [3.72593954e-15]], dtype=float32)"
      ]
     },
     "execution_count": 315,
     "metadata": {},
     "output_type": "execute_result"
    }
   ],
   "source": [
    "ANN.predict(x_test,batch_size=32)"
   ]
  },
  {
   "cell_type": "code",
   "execution_count": 309,
   "id": "473ab3e0",
   "metadata": {},
   "outputs": [],
   "source": [
    "prediction_final=np.array([])\n",
    "for i in prediction:\n",
    "    if i > 0.587:\n",
    "        prediction_final=np.append(prediction_final,1)\n",
    "    else:\n",
    "        prediction_final=np.append(prediction_final,0)"
   ]
  },
  {
   "cell_type": "code",
   "execution_count": 314,
   "id": "aac04e7b",
   "metadata": {},
   "outputs": [
    {
     "data": {
      "text/plain": [
       "0.9928057553956835"
      ]
     },
     "execution_count": 314,
     "metadata": {},
     "output_type": "execute_result"
    }
   ],
   "source": [
    "accuracy_score(Y_test,prediction_final)"
   ]
  },
  {
   "cell_type": "code",
   "execution_count": null,
   "id": "07f75c5f",
   "metadata": {},
   "outputs": [],
   "source": []
  }
 ],
 "metadata": {
  "kernelspec": {
   "display_name": "Python 3 (ipykernel)",
   "language": "python",
   "name": "python3"
  },
  "language_info": {
   "codemirror_mode": {
    "name": "ipython",
    "version": 3
   },
   "file_extension": ".py",
   "mimetype": "text/x-python",
   "name": "python",
   "nbconvert_exporter": "python",
   "pygments_lexer": "ipython3",
   "version": "3.9.7"
  }
 },
 "nbformat": 4,
 "nbformat_minor": 5
}
